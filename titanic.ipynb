{
 "cells": [
  {
   "cell_type": "code",
   "execution_count": 1,
   "source": [
    "import numpy as np \r\n",
    "import pandas as pd\r\n",
    "\r\n",
    "from plotly import graph_objs as go\r\n",
    "import plotly.express as px\r\n",
    "\r\n",
    "import warnings\r\n",
    "warnings.filterwarnings( 'ignore' )\r\n",
    "\r\n",
    "train_ds = pd.read_csv( './datasets/titanic_train.csv' )\r\n",
    "test_ds = pd.read_csv( './datasets/titanic_test.csv' )\r\n",
    "answers = pd.read_csv( './datasets/gender_submission.csv' )"
   ],
   "outputs": [],
   "metadata": {}
  },
  {
   "cell_type": "code",
   "execution_count": 2,
   "source": [
    "ds = pd.merge( answers, test_ds, on = 'PassengerId', how = 'outer' )\r\n",
    "link = [ train_ds, ds ]\r\n",
    "ds = pd.concat( link, ignore_index = True )\r\n"
   ],
   "outputs": [],
   "metadata": {}
  },
  {
   "cell_type": "code",
   "execution_count": 3,
   "source": [
    "ds.info()"
   ],
   "outputs": [
    {
     "output_type": "stream",
     "name": "stdout",
     "text": [
      "<class 'pandas.core.frame.DataFrame'>\n",
      "RangeIndex: 1309 entries, 0 to 1308\n",
      "Data columns (total 12 columns):\n",
      " #   Column       Non-Null Count  Dtype  \n",
      "---  ------       --------------  -----  \n",
      " 0   PassengerId  1309 non-null   int64  \n",
      " 1   Survived     1309 non-null   int64  \n",
      " 2   Pclass       1309 non-null   int64  \n",
      " 3   Name         1309 non-null   object \n",
      " 4   Sex          1309 non-null   object \n",
      " 5   Age          1046 non-null   float64\n",
      " 6   SibSp        1309 non-null   int64  \n",
      " 7   Parch        1309 non-null   int64  \n",
      " 8   Ticket       1309 non-null   object \n",
      " 9   Fare         1308 non-null   float64\n",
      " 10  Cabin        295 non-null    object \n",
      " 11  Embarked     1307 non-null   object \n",
      "dtypes: float64(2), int64(5), object(5)\n",
      "memory usage: 122.8+ KB\n"
     ]
    }
   ],
   "metadata": {}
  },
  {
   "cell_type": "code",
   "execution_count": 4,
   "source": [
    "ds.head()"
   ],
   "outputs": [
    {
     "output_type": "execute_result",
     "data": {
      "text/plain": [
       "   PassengerId  Survived  Pclass  \\\n",
       "0            1         0       3   \n",
       "1            2         1       1   \n",
       "2            3         1       3   \n",
       "3            4         1       1   \n",
       "4            5         0       3   \n",
       "\n",
       "                                                Name     Sex   Age  SibSp  \\\n",
       "0                            Braund, Mr. Owen Harris    male  22.0      1   \n",
       "1  Cumings, Mrs. John Bradley (Florence Briggs Th...  female  38.0      1   \n",
       "2                             Heikkinen, Miss. Laina  female  26.0      0   \n",
       "3       Futrelle, Mrs. Jacques Heath (Lily May Peel)  female  35.0      1   \n",
       "4                           Allen, Mr. William Henry    male  35.0      0   \n",
       "\n",
       "   Parch            Ticket     Fare Cabin Embarked  \n",
       "0      0         A/5 21171   7.2500   NaN        S  \n",
       "1      0          PC 17599  71.2833   C85        C  \n",
       "2      0  STON/O2. 3101282   7.9250   NaN        S  \n",
       "3      0            113803  53.1000  C123        S  \n",
       "4      0            373450   8.0500   NaN        S  "
      ],
      "text/html": [
       "<div>\n",
       "<style scoped>\n",
       "    .dataframe tbody tr th:only-of-type {\n",
       "        vertical-align: middle;\n",
       "    }\n",
       "\n",
       "    .dataframe tbody tr th {\n",
       "        vertical-align: top;\n",
       "    }\n",
       "\n",
       "    .dataframe thead th {\n",
       "        text-align: right;\n",
       "    }\n",
       "</style>\n",
       "<table border=\"1\" class=\"dataframe\">\n",
       "  <thead>\n",
       "    <tr style=\"text-align: right;\">\n",
       "      <th></th>\n",
       "      <th>PassengerId</th>\n",
       "      <th>Survived</th>\n",
       "      <th>Pclass</th>\n",
       "      <th>Name</th>\n",
       "      <th>Sex</th>\n",
       "      <th>Age</th>\n",
       "      <th>SibSp</th>\n",
       "      <th>Parch</th>\n",
       "      <th>Ticket</th>\n",
       "      <th>Fare</th>\n",
       "      <th>Cabin</th>\n",
       "      <th>Embarked</th>\n",
       "    </tr>\n",
       "  </thead>\n",
       "  <tbody>\n",
       "    <tr>\n",
       "      <th>0</th>\n",
       "      <td>1</td>\n",
       "      <td>0</td>\n",
       "      <td>3</td>\n",
       "      <td>Braund, Mr. Owen Harris</td>\n",
       "      <td>male</td>\n",
       "      <td>22.0</td>\n",
       "      <td>1</td>\n",
       "      <td>0</td>\n",
       "      <td>A/5 21171</td>\n",
       "      <td>7.2500</td>\n",
       "      <td>NaN</td>\n",
       "      <td>S</td>\n",
       "    </tr>\n",
       "    <tr>\n",
       "      <th>1</th>\n",
       "      <td>2</td>\n",
       "      <td>1</td>\n",
       "      <td>1</td>\n",
       "      <td>Cumings, Mrs. John Bradley (Florence Briggs Th...</td>\n",
       "      <td>female</td>\n",
       "      <td>38.0</td>\n",
       "      <td>1</td>\n",
       "      <td>0</td>\n",
       "      <td>PC 17599</td>\n",
       "      <td>71.2833</td>\n",
       "      <td>C85</td>\n",
       "      <td>C</td>\n",
       "    </tr>\n",
       "    <tr>\n",
       "      <th>2</th>\n",
       "      <td>3</td>\n",
       "      <td>1</td>\n",
       "      <td>3</td>\n",
       "      <td>Heikkinen, Miss. Laina</td>\n",
       "      <td>female</td>\n",
       "      <td>26.0</td>\n",
       "      <td>0</td>\n",
       "      <td>0</td>\n",
       "      <td>STON/O2. 3101282</td>\n",
       "      <td>7.9250</td>\n",
       "      <td>NaN</td>\n",
       "      <td>S</td>\n",
       "    </tr>\n",
       "    <tr>\n",
       "      <th>3</th>\n",
       "      <td>4</td>\n",
       "      <td>1</td>\n",
       "      <td>1</td>\n",
       "      <td>Futrelle, Mrs. Jacques Heath (Lily May Peel)</td>\n",
       "      <td>female</td>\n",
       "      <td>35.0</td>\n",
       "      <td>1</td>\n",
       "      <td>0</td>\n",
       "      <td>113803</td>\n",
       "      <td>53.1000</td>\n",
       "      <td>C123</td>\n",
       "      <td>S</td>\n",
       "    </tr>\n",
       "    <tr>\n",
       "      <th>4</th>\n",
       "      <td>5</td>\n",
       "      <td>0</td>\n",
       "      <td>3</td>\n",
       "      <td>Allen, Mr. William Henry</td>\n",
       "      <td>male</td>\n",
       "      <td>35.0</td>\n",
       "      <td>0</td>\n",
       "      <td>0</td>\n",
       "      <td>373450</td>\n",
       "      <td>8.0500</td>\n",
       "      <td>NaN</td>\n",
       "      <td>S</td>\n",
       "    </tr>\n",
       "  </tbody>\n",
       "</table>\n",
       "</div>"
      ]
     },
     "metadata": {},
     "execution_count": 4
    }
   ],
   "metadata": {}
  },
  {
   "cell_type": "code",
   "execution_count": 5,
   "source": [
    "ds['Age'].fillna( value = ds['Age'].median(), inplace = True )"
   ],
   "outputs": [],
   "metadata": {}
  },
  {
   "cell_type": "code",
   "execution_count": 6,
   "source": [
    "ds['Age'].round(0)\r\n",
    "ds['Age'] = ds['Age'].astype( int )"
   ],
   "outputs": [],
   "metadata": {}
  },
  {
   "cell_type": "code",
   "execution_count": 7,
   "source": [
    "ds[['Age', 'Survived']].groupby(['Age'], as_index=False).mean()['Survived']\r\n",
    "\r\n",
    "fig = go.Figure()\r\n",
    "fig.add_trace(\r\n",
    "    go.Bar(\r\n",
    "        x = ds[['Age', 'Survived']].groupby(['Age'], as_index=False).mean()['Age'],\r\n",
    "        y = ds[['Age', 'Survived']].groupby(['Age'], as_index=False).mean()['Survived']\r\n",
    "))\r\n",
    "\r\n",
    "fig.show()\r\n"
   ],
   "outputs": [
    {
     "output_type": "display_data",
     "data": {
      "application/vnd.plotly.v1+json": {
       "config": {
        "plotlyServerURL": "https://plot.ly"
       },
       "data": [
        {
         "type": "bar",
         "x": [
          0,
          1,
          2,
          3,
          4,
          5,
          6,
          7,
          8,
          9,
          10,
          11,
          12,
          13,
          14,
          15,
          16,
          17,
          18,
          19,
          20,
          21,
          22,
          23,
          24,
          25,
          26,
          27,
          28,
          29,
          30,
          31,
          32,
          33,
          34,
          35,
          36,
          37,
          38,
          39,
          40,
          41,
          42,
          43,
          44,
          45,
          46,
          47,
          48,
          49,
          50,
          51,
          52,
          53,
          54,
          55,
          56,
          57,
          58,
          59,
          60,
          61,
          62,
          63,
          64,
          65,
          66,
          67,
          70,
          71,
          74,
          76,
          80
         ],
         "y": [
          0.75,
          0.8,
          0.3333333333333333,
          0.8571428571428571,
          0.7,
          0.8,
          0.3333333333333333,
          0.25,
          0.5,
          0.3,
          0.25,
          0.2,
          1,
          0.4,
          0.3,
          0.8333333333333334,
          0.42105263157894735,
          0.4,
          0.40476190476190477,
          0.41379310344827586,
          0.2916666666666667,
          0.1951219512195122,
          0.4772727272727273,
          0.37037037037037035,
          0.4166666666666667,
          0.20588235294117646,
          0.3225806451612903,
          0.5,
          0.28859060402684567,
          0.43333333333333335,
          0.38095238095238093,
          0.4782608695652174,
          0.35714285714285715,
          0.42857142857142855,
          0.3333333333333333,
          0.6086956521739131,
          0.48484848484848486,
          0.3333333333333333,
          0.4666666666666667,
          0.35,
          0.2857142857142857,
          0.18181818181818182,
          0.3333333333333333,
          0.2222222222222222,
          0.3,
          0.5217391304347826,
          0,
          0.21428571428571427,
          0.7142857142857143,
          0.4444444444444444,
          0.4,
          0.375,
          0.5,
          0.5,
          0.4,
          0.4444444444444444,
          0.5,
          0,
          0.6666666666666666,
          0.3333333333333333,
          0.625,
          0,
          0.4,
          0.75,
          0.4,
          0,
          0,
          0,
          0,
          0,
          0,
          1,
          1
         ]
        }
       ],
       "layout": {
        "template": {
         "data": {
          "bar": [
           {
            "error_x": {
             "color": "#2a3f5f"
            },
            "error_y": {
             "color": "#2a3f5f"
            },
            "marker": {
             "line": {
              "color": "#E5ECF6",
              "width": 0.5
             }
            },
            "type": "bar"
           }
          ],
          "barpolar": [
           {
            "marker": {
             "line": {
              "color": "#E5ECF6",
              "width": 0.5
             }
            },
            "type": "barpolar"
           }
          ],
          "carpet": [
           {
            "aaxis": {
             "endlinecolor": "#2a3f5f",
             "gridcolor": "white",
             "linecolor": "white",
             "minorgridcolor": "white",
             "startlinecolor": "#2a3f5f"
            },
            "baxis": {
             "endlinecolor": "#2a3f5f",
             "gridcolor": "white",
             "linecolor": "white",
             "minorgridcolor": "white",
             "startlinecolor": "#2a3f5f"
            },
            "type": "carpet"
           }
          ],
          "choropleth": [
           {
            "colorbar": {
             "outlinewidth": 0,
             "ticks": ""
            },
            "type": "choropleth"
           }
          ],
          "contour": [
           {
            "colorbar": {
             "outlinewidth": 0,
             "ticks": ""
            },
            "colorscale": [
             [
              0,
              "#0d0887"
             ],
             [
              0.1111111111111111,
              "#46039f"
             ],
             [
              0.2222222222222222,
              "#7201a8"
             ],
             [
              0.3333333333333333,
              "#9c179e"
             ],
             [
              0.4444444444444444,
              "#bd3786"
             ],
             [
              0.5555555555555556,
              "#d8576b"
             ],
             [
              0.6666666666666666,
              "#ed7953"
             ],
             [
              0.7777777777777778,
              "#fb9f3a"
             ],
             [
              0.8888888888888888,
              "#fdca26"
             ],
             [
              1,
              "#f0f921"
             ]
            ],
            "type": "contour"
           }
          ],
          "contourcarpet": [
           {
            "colorbar": {
             "outlinewidth": 0,
             "ticks": ""
            },
            "type": "contourcarpet"
           }
          ],
          "heatmap": [
           {
            "colorbar": {
             "outlinewidth": 0,
             "ticks": ""
            },
            "colorscale": [
             [
              0,
              "#0d0887"
             ],
             [
              0.1111111111111111,
              "#46039f"
             ],
             [
              0.2222222222222222,
              "#7201a8"
             ],
             [
              0.3333333333333333,
              "#9c179e"
             ],
             [
              0.4444444444444444,
              "#bd3786"
             ],
             [
              0.5555555555555556,
              "#d8576b"
             ],
             [
              0.6666666666666666,
              "#ed7953"
             ],
             [
              0.7777777777777778,
              "#fb9f3a"
             ],
             [
              0.8888888888888888,
              "#fdca26"
             ],
             [
              1,
              "#f0f921"
             ]
            ],
            "type": "heatmap"
           }
          ],
          "heatmapgl": [
           {
            "colorbar": {
             "outlinewidth": 0,
             "ticks": ""
            },
            "colorscale": [
             [
              0,
              "#0d0887"
             ],
             [
              0.1111111111111111,
              "#46039f"
             ],
             [
              0.2222222222222222,
              "#7201a8"
             ],
             [
              0.3333333333333333,
              "#9c179e"
             ],
             [
              0.4444444444444444,
              "#bd3786"
             ],
             [
              0.5555555555555556,
              "#d8576b"
             ],
             [
              0.6666666666666666,
              "#ed7953"
             ],
             [
              0.7777777777777778,
              "#fb9f3a"
             ],
             [
              0.8888888888888888,
              "#fdca26"
             ],
             [
              1,
              "#f0f921"
             ]
            ],
            "type": "heatmapgl"
           }
          ],
          "histogram": [
           {
            "marker": {
             "colorbar": {
              "outlinewidth": 0,
              "ticks": ""
             }
            },
            "type": "histogram"
           }
          ],
          "histogram2d": [
           {
            "colorbar": {
             "outlinewidth": 0,
             "ticks": ""
            },
            "colorscale": [
             [
              0,
              "#0d0887"
             ],
             [
              0.1111111111111111,
              "#46039f"
             ],
             [
              0.2222222222222222,
              "#7201a8"
             ],
             [
              0.3333333333333333,
              "#9c179e"
             ],
             [
              0.4444444444444444,
              "#bd3786"
             ],
             [
              0.5555555555555556,
              "#d8576b"
             ],
             [
              0.6666666666666666,
              "#ed7953"
             ],
             [
              0.7777777777777778,
              "#fb9f3a"
             ],
             [
              0.8888888888888888,
              "#fdca26"
             ],
             [
              1,
              "#f0f921"
             ]
            ],
            "type": "histogram2d"
           }
          ],
          "histogram2dcontour": [
           {
            "colorbar": {
             "outlinewidth": 0,
             "ticks": ""
            },
            "colorscale": [
             [
              0,
              "#0d0887"
             ],
             [
              0.1111111111111111,
              "#46039f"
             ],
             [
              0.2222222222222222,
              "#7201a8"
             ],
             [
              0.3333333333333333,
              "#9c179e"
             ],
             [
              0.4444444444444444,
              "#bd3786"
             ],
             [
              0.5555555555555556,
              "#d8576b"
             ],
             [
              0.6666666666666666,
              "#ed7953"
             ],
             [
              0.7777777777777778,
              "#fb9f3a"
             ],
             [
              0.8888888888888888,
              "#fdca26"
             ],
             [
              1,
              "#f0f921"
             ]
            ],
            "type": "histogram2dcontour"
           }
          ],
          "mesh3d": [
           {
            "colorbar": {
             "outlinewidth": 0,
             "ticks": ""
            },
            "type": "mesh3d"
           }
          ],
          "parcoords": [
           {
            "line": {
             "colorbar": {
              "outlinewidth": 0,
              "ticks": ""
             }
            },
            "type": "parcoords"
           }
          ],
          "pie": [
           {
            "automargin": true,
            "type": "pie"
           }
          ],
          "scatter": [
           {
            "marker": {
             "colorbar": {
              "outlinewidth": 0,
              "ticks": ""
             }
            },
            "type": "scatter"
           }
          ],
          "scatter3d": [
           {
            "line": {
             "colorbar": {
              "outlinewidth": 0,
              "ticks": ""
             }
            },
            "marker": {
             "colorbar": {
              "outlinewidth": 0,
              "ticks": ""
             }
            },
            "type": "scatter3d"
           }
          ],
          "scattercarpet": [
           {
            "marker": {
             "colorbar": {
              "outlinewidth": 0,
              "ticks": ""
             }
            },
            "type": "scattercarpet"
           }
          ],
          "scattergeo": [
           {
            "marker": {
             "colorbar": {
              "outlinewidth": 0,
              "ticks": ""
             }
            },
            "type": "scattergeo"
           }
          ],
          "scattergl": [
           {
            "marker": {
             "colorbar": {
              "outlinewidth": 0,
              "ticks": ""
             }
            },
            "type": "scattergl"
           }
          ],
          "scattermapbox": [
           {
            "marker": {
             "colorbar": {
              "outlinewidth": 0,
              "ticks": ""
             }
            },
            "type": "scattermapbox"
           }
          ],
          "scatterpolar": [
           {
            "marker": {
             "colorbar": {
              "outlinewidth": 0,
              "ticks": ""
             }
            },
            "type": "scatterpolar"
           }
          ],
          "scatterpolargl": [
           {
            "marker": {
             "colorbar": {
              "outlinewidth": 0,
              "ticks": ""
             }
            },
            "type": "scatterpolargl"
           }
          ],
          "scatterternary": [
           {
            "marker": {
             "colorbar": {
              "outlinewidth": 0,
              "ticks": ""
             }
            },
            "type": "scatterternary"
           }
          ],
          "surface": [
           {
            "colorbar": {
             "outlinewidth": 0,
             "ticks": ""
            },
            "colorscale": [
             [
              0,
              "#0d0887"
             ],
             [
              0.1111111111111111,
              "#46039f"
             ],
             [
              0.2222222222222222,
              "#7201a8"
             ],
             [
              0.3333333333333333,
              "#9c179e"
             ],
             [
              0.4444444444444444,
              "#bd3786"
             ],
             [
              0.5555555555555556,
              "#d8576b"
             ],
             [
              0.6666666666666666,
              "#ed7953"
             ],
             [
              0.7777777777777778,
              "#fb9f3a"
             ],
             [
              0.8888888888888888,
              "#fdca26"
             ],
             [
              1,
              "#f0f921"
             ]
            ],
            "type": "surface"
           }
          ],
          "table": [
           {
            "cells": {
             "fill": {
              "color": "#EBF0F8"
             },
             "line": {
              "color": "white"
             }
            },
            "header": {
             "fill": {
              "color": "#C8D4E3"
             },
             "line": {
              "color": "white"
             }
            },
            "type": "table"
           }
          ]
         },
         "layout": {
          "annotationdefaults": {
           "arrowcolor": "#2a3f5f",
           "arrowhead": 0,
           "arrowwidth": 1
          },
          "autotypenumbers": "strict",
          "coloraxis": {
           "colorbar": {
            "outlinewidth": 0,
            "ticks": ""
           }
          },
          "colorscale": {
           "diverging": [
            [
             0,
             "#8e0152"
            ],
            [
             0.1,
             "#c51b7d"
            ],
            [
             0.2,
             "#de77ae"
            ],
            [
             0.3,
             "#f1b6da"
            ],
            [
             0.4,
             "#fde0ef"
            ],
            [
             0.5,
             "#f7f7f7"
            ],
            [
             0.6,
             "#e6f5d0"
            ],
            [
             0.7,
             "#b8e186"
            ],
            [
             0.8,
             "#7fbc41"
            ],
            [
             0.9,
             "#4d9221"
            ],
            [
             1,
             "#276419"
            ]
           ],
           "sequential": [
            [
             0,
             "#0d0887"
            ],
            [
             0.1111111111111111,
             "#46039f"
            ],
            [
             0.2222222222222222,
             "#7201a8"
            ],
            [
             0.3333333333333333,
             "#9c179e"
            ],
            [
             0.4444444444444444,
             "#bd3786"
            ],
            [
             0.5555555555555556,
             "#d8576b"
            ],
            [
             0.6666666666666666,
             "#ed7953"
            ],
            [
             0.7777777777777778,
             "#fb9f3a"
            ],
            [
             0.8888888888888888,
             "#fdca26"
            ],
            [
             1,
             "#f0f921"
            ]
           ],
           "sequentialminus": [
            [
             0,
             "#0d0887"
            ],
            [
             0.1111111111111111,
             "#46039f"
            ],
            [
             0.2222222222222222,
             "#7201a8"
            ],
            [
             0.3333333333333333,
             "#9c179e"
            ],
            [
             0.4444444444444444,
             "#bd3786"
            ],
            [
             0.5555555555555556,
             "#d8576b"
            ],
            [
             0.6666666666666666,
             "#ed7953"
            ],
            [
             0.7777777777777778,
             "#fb9f3a"
            ],
            [
             0.8888888888888888,
             "#fdca26"
            ],
            [
             1,
             "#f0f921"
            ]
           ]
          },
          "colorway": [
           "#636efa",
           "#EF553B",
           "#00cc96",
           "#ab63fa",
           "#FFA15A",
           "#19d3f3",
           "#FF6692",
           "#B6E880",
           "#FF97FF",
           "#FECB52"
          ],
          "font": {
           "color": "#2a3f5f"
          },
          "geo": {
           "bgcolor": "white",
           "lakecolor": "white",
           "landcolor": "#E5ECF6",
           "showlakes": true,
           "showland": true,
           "subunitcolor": "white"
          },
          "hoverlabel": {
           "align": "left"
          },
          "hovermode": "closest",
          "mapbox": {
           "style": "light"
          },
          "paper_bgcolor": "white",
          "plot_bgcolor": "#E5ECF6",
          "polar": {
           "angularaxis": {
            "gridcolor": "white",
            "linecolor": "white",
            "ticks": ""
           },
           "bgcolor": "#E5ECF6",
           "radialaxis": {
            "gridcolor": "white",
            "linecolor": "white",
            "ticks": ""
           }
          },
          "scene": {
           "xaxis": {
            "backgroundcolor": "#E5ECF6",
            "gridcolor": "white",
            "gridwidth": 2,
            "linecolor": "white",
            "showbackground": true,
            "ticks": "",
            "zerolinecolor": "white"
           },
           "yaxis": {
            "backgroundcolor": "#E5ECF6",
            "gridcolor": "white",
            "gridwidth": 2,
            "linecolor": "white",
            "showbackground": true,
            "ticks": "",
            "zerolinecolor": "white"
           },
           "zaxis": {
            "backgroundcolor": "#E5ECF6",
            "gridcolor": "white",
            "gridwidth": 2,
            "linecolor": "white",
            "showbackground": true,
            "ticks": "",
            "zerolinecolor": "white"
           }
          },
          "shapedefaults": {
           "line": {
            "color": "#2a3f5f"
           }
          },
          "ternary": {
           "aaxis": {
            "gridcolor": "white",
            "linecolor": "white",
            "ticks": ""
           },
           "baxis": {
            "gridcolor": "white",
            "linecolor": "white",
            "ticks": ""
           },
           "bgcolor": "#E5ECF6",
           "caxis": {
            "gridcolor": "white",
            "linecolor": "white",
            "ticks": ""
           }
          },
          "title": {
           "x": 0.05
          },
          "xaxis": {
           "automargin": true,
           "gridcolor": "white",
           "linecolor": "white",
           "ticks": "",
           "title": {
            "standoff": 15
           },
           "zerolinecolor": "white",
           "zerolinewidth": 2
          },
          "yaxis": {
           "automargin": true,
           "gridcolor": "white",
           "linecolor": "white",
           "ticks": "",
           "title": {
            "standoff": 15
           },
           "zerolinecolor": "white",
           "zerolinewidth": 2
          }
         }
        }
       }
      }
     },
     "metadata": {}
    }
   ],
   "metadata": {}
  },
  {
   "cell_type": "code",
   "execution_count": 8,
   "source": [
    "ds.loc[ ds['Age'] <= 10, 'Age'] = 0\r\n",
    "ds.loc[ ( ds['Age'] > 10 ) & ( ds['Age'] <= 18 ), 'Age'] = 1\r\n",
    "ds.loc[ ( ds['Age'] > 18 ) & ( ds['Age'] <= 46 ), 'Age'] = 2\r\n",
    "ds.loc[ ( ds['Age'] > 46 ) & ( ds['Age'] <= 64 ), 'Age'] = 3\r\n",
    "ds.loc[ ds['Age'] > 64, 'Age'] = 4\r\n"
   ],
   "outputs": [],
   "metadata": {}
  },
  {
   "cell_type": "code",
   "execution_count": 9,
   "source": [
    "ds['Embarked'].value_counts()"
   ],
   "outputs": [
    {
     "output_type": "execute_result",
     "data": {
      "text/plain": [
       "S    914\n",
       "C    270\n",
       "Q    123\n",
       "Name: Embarked, dtype: int64"
      ]
     },
     "metadata": {},
     "execution_count": 9
    }
   ],
   "metadata": {}
  },
  {
   "cell_type": "code",
   "execution_count": 10,
   "source": [
    "ds['Embarked'].fillna( value = 'S', inplace = True )"
   ],
   "outputs": [],
   "metadata": {}
  },
  {
   "cell_type": "code",
   "execution_count": 11,
   "source": [
    "ds['Embarked'] = ds['Embarked'].map( {'S': 0, 'C': 1, 'Q': 2} ).astype(int)"
   ],
   "outputs": [],
   "metadata": {}
  },
  {
   "cell_type": "code",
   "execution_count": 12,
   "source": [
    "ds['Fare'].fillna( value = ds['Fare'].median(), inplace = True )"
   ],
   "outputs": [],
   "metadata": {}
  },
  {
   "cell_type": "code",
   "execution_count": 13,
   "source": [
    "ds['Sex'] = ds['Sex'].map( {'female': 1, 'male': 0} ).astype( int )"
   ],
   "outputs": [],
   "metadata": {}
  },
  {
   "cell_type": "code",
   "execution_count": 14,
   "source": [
    "ds['Title'] = ds.Name.str.extract(' ([A-Za-z]+)\\.', expand=False)"
   ],
   "outputs": [],
   "metadata": {}
  },
  {
   "cell_type": "code",
   "execution_count": 15,
   "source": [
    "ds['Title'].unique()"
   ],
   "outputs": [
    {
     "output_type": "execute_result",
     "data": {
      "text/plain": [
       "array(['Mr', 'Mrs', 'Miss', 'Master', 'Don', 'Rev', 'Dr', 'Mme', 'Ms',\n",
       "       'Major', 'Lady', 'Sir', 'Mlle', 'Col', 'Capt', 'Countess',\n",
       "       'Jonkheer', 'Dona'], dtype=object)"
      ]
     },
     "metadata": {},
     "execution_count": 15
    }
   ],
   "metadata": {}
  },
  {
   "cell_type": "code",
   "execution_count": 16,
   "source": [
    "ds['Title'] = ds['Title'].replace(['Lady', 'Countess','Capt', 'Col',\r\n",
    " \t'Don', 'Dr', 'Major', 'Rev', 'Sir', 'Jonkheer', 'Dona'], 'Rare')\r\n",
    "     \r\n",
    "ds['Title'] = ds['Title'].replace('Mlle', 'Miss')\r\n",
    "ds['Title'] = ds['Title'].replace('Ms', 'Miss')\r\n",
    "ds['Title'] = ds['Title'].replace('Mme', 'Mrs')"
   ],
   "outputs": [],
   "metadata": {}
  },
  {
   "cell_type": "code",
   "execution_count": 17,
   "source": [
    "title_mapping = {\"Mr\": 1, \"Miss\": 2, \"Mrs\": 3, \"Master\": 4, \"Rare\": 5}\r\n",
    "ds['Title'] = ds['Title'].map(title_mapping)\r\n",
    "ds['Title'] = ds['Title'].fillna(0)"
   ],
   "outputs": [],
   "metadata": {}
  },
  {
   "cell_type": "code",
   "execution_count": 18,
   "source": [
    "ds['FamilySize'] = ds['SibSp'] + ds['Parch'] + 1"
   ],
   "outputs": [],
   "metadata": {}
  },
  {
   "cell_type": "code",
   "execution_count": 19,
   "source": [
    "ds['IsAlone'] = 0\r\n",
    "ds.loc[ ds['FamilySize'] == 1, 'IsAlone'] = 1"
   ],
   "outputs": [],
   "metadata": {}
  },
  {
   "cell_type": "code",
   "execution_count": 20,
   "source": [
    "import matplotlib.pyplot as plt\r\n",
    "\r\n",
    "ds.hist(bins = 60, figsize = ( 18, 12 ))\r\n",
    "plt.show()"
   ],
   "outputs": [
    {
     "output_type": "display_data",
     "data": {
      "text/plain": [
       "<Figure size 1296x864 with 12 Axes>"
      ],
      "image/svg+xml": "<?xml version=\"1.0\" encoding=\"utf-8\" standalone=\"no\"?>\r\n<!DOCTYPE svg PUBLIC \"-//W3C//DTD SVG 1.1//EN\"\r\n  \"http://www.w3.org/Graphics/SVG/1.1/DTD/svg11.dtd\">\r\n<svg height=\"698.51625pt\" version=\"1.1\" viewBox=\"0 0 1051.25 698.51625\" width=\"1051.25pt\" xmlns=\"http://www.w3.org/2000/svg\" xmlns:xlink=\"http://www.w3.org/1999/xlink\">\r\n <metadata>\r\n  <rdf:RDF xmlns:cc=\"http://creativecommons.org/ns#\" xmlns:dc=\"http://purl.org/dc/elements/1.1/\" xmlns:rdf=\"http://www.w3.org/1999/02/22-rdf-syntax-ns#\">\r\n   <cc:Work>\r\n    <dc:type rdf:resource=\"http://purl.org/dc/dcmitype/StillImage\"/>\r\n    <dc:date>2021-08-30T01:41:38.674426</dc:date>\r\n    <dc:format>image/svg+xml</dc:format>\r\n    <dc:creator>\r\n     <cc:Agent>\r\n      <dc:title>Matplotlib v3.4.2, https://matplotlib.org/</dc:title>\r\n     </cc:Agent>\r\n    </dc:creator>\r\n   </cc:Work>\r\n  </rdf:RDF>\r\n </metadata>\r\n <defs>\r\n  <style type=\"text/css\">*{stroke-linecap:butt;stroke-linejoin:round;}</style>\r\n </defs>\r\n <g id=\"figure_1\">\r\n  <g id=\"patch_1\">\r\n   <path d=\"M 0 698.51625 \r\nL 1051.25 698.51625 \r\nL 1051.25 -0 \r\nL 0 -0 \r\nz\r\n\" style=\"fill:none;\"/>\r\n  </g>\r\n  <g id=\"axes_1\">\r\n   <g id=\"patch_2\">\r\n    <path d=\"M 39.65 155.444656 \r\nL 318.65 155.444656 \r\nL 318.65 22.318125 \r\nL 39.65 22.318125 \r\nz\r\n\" style=\"fill:#ffffff;\"/>\r\n   </g>\r\n   <g id=\"patch_3\">\r\n    <path clip-path=\"url(#p38970678f3)\" d=\"M 52.331818 155.444656 \r\nL 56.559091 155.444656 \r\nL 56.559091 28.657484 \r\nL 52.331818 28.657484 \r\nz\r\n\" style=\"fill:#1f77b4;\"/>\r\n   </g>\r\n   <g id=\"patch_4\">\r\n    <path clip-path=\"url(#p38970678f3)\" d=\"M 56.559091 155.444656 \r\nL 60.786364 155.444656 \r\nL 60.786364 28.657484 \r\nL 56.559091 28.657484 \r\nz\r\n\" style=\"fill:#1f77b4;\"/>\r\n   </g>\r\n   <g id=\"patch_5\">\r\n    <path clip-path=\"url(#p38970678f3)\" d=\"M 60.786364 155.444656 \r\nL 65.013636 155.444656 \r\nL 65.013636 28.657484 \r\nL 60.786364 28.657484 \r\nz\r\n\" style=\"fill:#1f77b4;\"/>\r\n   </g>\r\n   <g id=\"patch_6\">\r\n    <path clip-path=\"url(#p38970678f3)\" d=\"M 65.013636 155.444656 \r\nL 69.240909 155.444656 \r\nL 69.240909 28.657484 \r\nL 65.013636 28.657484 \r\nz\r\n\" style=\"fill:#1f77b4;\"/>\r\n   </g>\r\n   <g id=\"patch_7\">\r\n    <path clip-path=\"url(#p38970678f3)\" d=\"M 69.240909 155.444656 \r\nL 73.468182 155.444656 \r\nL 73.468182 34.420537 \r\nL 69.240909 34.420537 \r\nz\r\n\" style=\"fill:#1f77b4;\"/>\r\n   </g>\r\n   <g id=\"patch_8\">\r\n    <path clip-path=\"url(#p38970678f3)\" d=\"M 73.468182 155.444656 \r\nL 77.695455 155.444656 \r\nL 77.695455 28.657484 \r\nL 73.468182 28.657484 \r\nz\r\n\" style=\"fill:#1f77b4;\"/>\r\n   </g>\r\n   <g id=\"patch_9\">\r\n    <path clip-path=\"url(#p38970678f3)\" d=\"M 77.695455 155.444656 \r\nL 81.922727 155.444656 \r\nL 81.922727 28.657484 \r\nL 77.695455 28.657484 \r\nz\r\n\" style=\"fill:#1f77b4;\"/>\r\n   </g>\r\n   <g id=\"patch_10\">\r\n    <path clip-path=\"url(#p38970678f3)\" d=\"M 81.922727 155.444656 \r\nL 86.15 155.444656 \r\nL 86.15 28.657484 \r\nL 81.922727 28.657484 \r\nz\r\n\" style=\"fill:#1f77b4;\"/>\r\n   </g>\r\n   <g id=\"patch_11\">\r\n    <path clip-path=\"url(#p38970678f3)\" d=\"M 86.15 155.444656 \r\nL 90.377273 155.444656 \r\nL 90.377273 28.657484 \r\nL 86.15 28.657484 \r\nz\r\n\" style=\"fill:#1f77b4;\"/>\r\n   </g>\r\n   <g id=\"patch_12\">\r\n    <path clip-path=\"url(#p38970678f3)\" d=\"M 90.377273 155.444656 \r\nL 94.604545 155.444656 \r\nL 94.604545 34.420537 \r\nL 90.377273 34.420537 \r\nz\r\n\" style=\"fill:#1f77b4;\"/>\r\n   </g>\r\n   <g id=\"patch_13\">\r\n    <path clip-path=\"url(#p38970678f3)\" d=\"M 94.604545 155.444656 \r\nL 98.831818 155.444656 \r\nL 98.831818 28.657484 \r\nL 94.604545 28.657484 \r\nz\r\n\" style=\"fill:#1f77b4;\"/>\r\n   </g>\r\n   <g id=\"patch_14\">\r\n    <path clip-path=\"url(#p38970678f3)\" d=\"M 98.831818 155.444656 \r\nL 103.059091 155.444656 \r\nL 103.059091 28.657484 \r\nL 98.831818 28.657484 \r\nz\r\n\" style=\"fill:#1f77b4;\"/>\r\n   </g>\r\n   <g id=\"patch_15\">\r\n    <path clip-path=\"url(#p38970678f3)\" d=\"M 103.059091 155.444656 \r\nL 107.286364 155.444656 \r\nL 107.286364 28.657484 \r\nL 103.059091 28.657484 \r\nz\r\n\" style=\"fill:#1f77b4;\"/>\r\n   </g>\r\n   <g id=\"patch_16\">\r\n    <path clip-path=\"url(#p38970678f3)\" d=\"M 107.286364 155.444656 \r\nL 111.513636 155.444656 \r\nL 111.513636 28.657484 \r\nL 107.286364 28.657484 \r\nz\r\n\" style=\"fill:#1f77b4;\"/>\r\n   </g>\r\n   <g id=\"patch_17\">\r\n    <path clip-path=\"url(#p38970678f3)\" d=\"M 111.513636 155.444656 \r\nL 115.740909 155.444656 \r\nL 115.740909 34.420537 \r\nL 111.513636 34.420537 \r\nz\r\n\" style=\"fill:#1f77b4;\"/>\r\n   </g>\r\n   <g id=\"patch_18\">\r\n    <path clip-path=\"url(#p38970678f3)\" d=\"M 115.740909 155.444656 \r\nL 119.968182 155.444656 \r\nL 119.968182 28.657484 \r\nL 115.740909 28.657484 \r\nz\r\n\" style=\"fill:#1f77b4;\"/>\r\n   </g>\r\n   <g id=\"patch_19\">\r\n    <path clip-path=\"url(#p38970678f3)\" d=\"M 119.968182 155.444656 \r\nL 124.195455 155.444656 \r\nL 124.195455 28.657484 \r\nL 119.968182 28.657484 \r\nz\r\n\" style=\"fill:#1f77b4;\"/>\r\n   </g>\r\n   <g id=\"patch_20\">\r\n    <path clip-path=\"url(#p38970678f3)\" d=\"M 124.195455 155.444656 \r\nL 128.422727 155.444656 \r\nL 128.422727 28.657484 \r\nL 124.195455 28.657484 \r\nz\r\n\" style=\"fill:#1f77b4;\"/>\r\n   </g>\r\n   <g id=\"patch_21\">\r\n    <path clip-path=\"url(#p38970678f3)\" d=\"M 128.422727 155.444656 \r\nL 132.65 155.444656 \r\nL 132.65 28.657484 \r\nL 128.422727 28.657484 \r\nz\r\n\" style=\"fill:#1f77b4;\"/>\r\n   </g>\r\n   <g id=\"patch_22\">\r\n    <path clip-path=\"url(#p38970678f3)\" d=\"M 132.65 155.444656 \r\nL 136.877273 155.444656 \r\nL 136.877273 34.420537 \r\nL 132.65 34.420537 \r\nz\r\n\" style=\"fill:#1f77b4;\"/>\r\n   </g>\r\n   <g id=\"patch_23\">\r\n    <path clip-path=\"url(#p38970678f3)\" d=\"M 136.877273 155.444656 \r\nL 141.104545 155.444656 \r\nL 141.104545 28.657484 \r\nL 136.877273 28.657484 \r\nz\r\n\" style=\"fill:#1f77b4;\"/>\r\n   </g>\r\n   <g id=\"patch_24\">\r\n    <path clip-path=\"url(#p38970678f3)\" d=\"M 141.104545 155.444656 \r\nL 145.331818 155.444656 \r\nL 145.331818 28.657484 \r\nL 141.104545 28.657484 \r\nz\r\n\" style=\"fill:#1f77b4;\"/>\r\n   </g>\r\n   <g id=\"patch_25\">\r\n    <path clip-path=\"url(#p38970678f3)\" d=\"M 145.331818 155.444656 \r\nL 149.559091 155.444656 \r\nL 149.559091 28.657484 \r\nL 145.331818 28.657484 \r\nz\r\n\" style=\"fill:#1f77b4;\"/>\r\n   </g>\r\n   <g id=\"patch_26\">\r\n    <path clip-path=\"url(#p38970678f3)\" d=\"M 149.559091 155.444656 \r\nL 153.786364 155.444656 \r\nL 153.786364 28.657484 \r\nL 149.559091 28.657484 \r\nz\r\n\" style=\"fill:#1f77b4;\"/>\r\n   </g>\r\n   <g id=\"patch_27\">\r\n    <path clip-path=\"url(#p38970678f3)\" d=\"M 153.786364 155.444656 \r\nL 158.013636 155.444656 \r\nL 158.013636 34.420537 \r\nL 153.786364 34.420537 \r\nz\r\n\" style=\"fill:#1f77b4;\"/>\r\n   </g>\r\n   <g id=\"patch_28\">\r\n    <path clip-path=\"url(#p38970678f3)\" d=\"M 158.013636 155.444656 \r\nL 162.240909 155.444656 \r\nL 162.240909 28.657484 \r\nL 158.013636 28.657484 \r\nz\r\n\" style=\"fill:#1f77b4;\"/>\r\n   </g>\r\n   <g id=\"patch_29\">\r\n    <path clip-path=\"url(#p38970678f3)\" d=\"M 162.240909 155.444656 \r\nL 166.468182 155.444656 \r\nL 166.468182 28.657484 \r\nL 162.240909 28.657484 \r\nz\r\n\" style=\"fill:#1f77b4;\"/>\r\n   </g>\r\n   <g id=\"patch_30\">\r\n    <path clip-path=\"url(#p38970678f3)\" d=\"M 166.468182 155.444656 \r\nL 170.695455 155.444656 \r\nL 170.695455 28.657484 \r\nL 166.468182 28.657484 \r\nz\r\n\" style=\"fill:#1f77b4;\"/>\r\n   </g>\r\n   <g id=\"patch_31\">\r\n    <path clip-path=\"url(#p38970678f3)\" d=\"M 170.695455 155.444656 \r\nL 174.922727 155.444656 \r\nL 174.922727 28.657484 \r\nL 170.695455 28.657484 \r\nz\r\n\" style=\"fill:#1f77b4;\"/>\r\n   </g>\r\n   <g id=\"patch_32\">\r\n    <path clip-path=\"url(#p38970678f3)\" d=\"M 174.922727 155.444656 \r\nL 179.15 155.444656 \r\nL 179.15 34.420537 \r\nL 174.922727 34.420537 \r\nz\r\n\" style=\"fill:#1f77b4;\"/>\r\n   </g>\r\n   <g id=\"patch_33\">\r\n    <path clip-path=\"url(#p38970678f3)\" d=\"M 179.15 155.444656 \r\nL 183.377273 155.444656 \r\nL 183.377273 28.657484 \r\nL 179.15 28.657484 \r\nz\r\n\" style=\"fill:#1f77b4;\"/>\r\n   </g>\r\n   <g id=\"patch_34\">\r\n    <path clip-path=\"url(#p38970678f3)\" d=\"M 183.377273 155.444656 \r\nL 187.604545 155.444656 \r\nL 187.604545 28.657484 \r\nL 183.377273 28.657484 \r\nz\r\n\" style=\"fill:#1f77b4;\"/>\r\n   </g>\r\n   <g id=\"patch_35\">\r\n    <path clip-path=\"url(#p38970678f3)\" d=\"M 187.604545 155.444656 \r\nL 191.831818 155.444656 \r\nL 191.831818 28.657484 \r\nL 187.604545 28.657484 \r\nz\r\n\" style=\"fill:#1f77b4;\"/>\r\n   </g>\r\n   <g id=\"patch_36\">\r\n    <path clip-path=\"url(#p38970678f3)\" d=\"M 191.831818 155.444656 \r\nL 196.059091 155.444656 \r\nL 196.059091 28.657484 \r\nL 191.831818 28.657484 \r\nz\r\n\" style=\"fill:#1f77b4;\"/>\r\n   </g>\r\n   <g id=\"patch_37\">\r\n    <path clip-path=\"url(#p38970678f3)\" d=\"M 196.059091 155.444656 \r\nL 200.286364 155.444656 \r\nL 200.286364 34.420537 \r\nL 196.059091 34.420537 \r\nz\r\n\" style=\"fill:#1f77b4;\"/>\r\n   </g>\r\n   <g id=\"patch_38\">\r\n    <path clip-path=\"url(#p38970678f3)\" d=\"M 200.286364 155.444656 \r\nL 204.513636 155.444656 \r\nL 204.513636 28.657484 \r\nL 200.286364 28.657484 \r\nz\r\n\" style=\"fill:#1f77b4;\"/>\r\n   </g>\r\n   <g id=\"patch_39\">\r\n    <path clip-path=\"url(#p38970678f3)\" d=\"M 204.513636 155.444656 \r\nL 208.740909 155.444656 \r\nL 208.740909 28.657484 \r\nL 204.513636 28.657484 \r\nz\r\n\" style=\"fill:#1f77b4;\"/>\r\n   </g>\r\n   <g id=\"patch_40\">\r\n    <path clip-path=\"url(#p38970678f3)\" d=\"M 208.740909 155.444656 \r\nL 212.968182 155.444656 \r\nL 212.968182 28.657484 \r\nL 208.740909 28.657484 \r\nz\r\n\" style=\"fill:#1f77b4;\"/>\r\n   </g>\r\n   <g id=\"patch_41\">\r\n    <path clip-path=\"url(#p38970678f3)\" d=\"M 212.968182 155.444656 \r\nL 217.195455 155.444656 \r\nL 217.195455 28.657484 \r\nL 212.968182 28.657484 \r\nz\r\n\" style=\"fill:#1f77b4;\"/>\r\n   </g>\r\n   <g id=\"patch_42\">\r\n    <path clip-path=\"url(#p38970678f3)\" d=\"M 217.195455 155.444656 \r\nL 221.422727 155.444656 \r\nL 221.422727 34.420537 \r\nL 217.195455 34.420537 \r\nz\r\n\" style=\"fill:#1f77b4;\"/>\r\n   </g>\r\n   <g id=\"patch_43\">\r\n    <path clip-path=\"url(#p38970678f3)\" d=\"M 221.422727 155.444656 \r\nL 225.65 155.444656 \r\nL 225.65 28.657484 \r\nL 221.422727 28.657484 \r\nz\r\n\" style=\"fill:#1f77b4;\"/>\r\n   </g>\r\n   <g id=\"patch_44\">\r\n    <path clip-path=\"url(#p38970678f3)\" d=\"M 225.65 155.444656 \r\nL 229.877273 155.444656 \r\nL 229.877273 28.657484 \r\nL 225.65 28.657484 \r\nz\r\n\" style=\"fill:#1f77b4;\"/>\r\n   </g>\r\n   <g id=\"patch_45\">\r\n    <path clip-path=\"url(#p38970678f3)\" d=\"M 229.877273 155.444656 \r\nL 234.104545 155.444656 \r\nL 234.104545 28.657484 \r\nL 229.877273 28.657484 \r\nz\r\n\" style=\"fill:#1f77b4;\"/>\r\n   </g>\r\n   <g id=\"patch_46\">\r\n    <path clip-path=\"url(#p38970678f3)\" d=\"M 234.104545 155.444656 \r\nL 238.331818 155.444656 \r\nL 238.331818 28.657484 \r\nL 234.104545 28.657484 \r\nz\r\n\" style=\"fill:#1f77b4;\"/>\r\n   </g>\r\n   <g id=\"patch_47\">\r\n    <path clip-path=\"url(#p38970678f3)\" d=\"M 238.331818 155.444656 \r\nL 242.559091 155.444656 \r\nL 242.559091 34.420537 \r\nL 238.331818 34.420537 \r\nz\r\n\" style=\"fill:#1f77b4;\"/>\r\n   </g>\r\n   <g id=\"patch_48\">\r\n    <path clip-path=\"url(#p38970678f3)\" d=\"M 242.559091 155.444656 \r\nL 246.786364 155.444656 \r\nL 246.786364 28.657484 \r\nL 242.559091 28.657484 \r\nz\r\n\" style=\"fill:#1f77b4;\"/>\r\n   </g>\r\n   <g id=\"patch_49\">\r\n    <path clip-path=\"url(#p38970678f3)\" d=\"M 246.786364 155.444656 \r\nL 251.013636 155.444656 \r\nL 251.013636 28.657484 \r\nL 246.786364 28.657484 \r\nz\r\n\" style=\"fill:#1f77b4;\"/>\r\n   </g>\r\n   <g id=\"patch_50\">\r\n    <path clip-path=\"url(#p38970678f3)\" d=\"M 251.013636 155.444656 \r\nL 255.240909 155.444656 \r\nL 255.240909 28.657484 \r\nL 251.013636 28.657484 \r\nz\r\n\" style=\"fill:#1f77b4;\"/>\r\n   </g>\r\n   <g id=\"patch_51\">\r\n    <path clip-path=\"url(#p38970678f3)\" d=\"M 255.240909 155.444656 \r\nL 259.468182 155.444656 \r\nL 259.468182 28.657484 \r\nL 255.240909 28.657484 \r\nz\r\n\" style=\"fill:#1f77b4;\"/>\r\n   </g>\r\n   <g id=\"patch_52\">\r\n    <path clip-path=\"url(#p38970678f3)\" d=\"M 259.468182 155.444656 \r\nL 263.695455 155.444656 \r\nL 263.695455 34.420537 \r\nL 259.468182 34.420537 \r\nz\r\n\" style=\"fill:#1f77b4;\"/>\r\n   </g>\r\n   <g id=\"patch_53\">\r\n    <path clip-path=\"url(#p38970678f3)\" d=\"M 263.695455 155.444656 \r\nL 267.922727 155.444656 \r\nL 267.922727 28.657484 \r\nL 263.695455 28.657484 \r\nz\r\n\" style=\"fill:#1f77b4;\"/>\r\n   </g>\r\n   <g id=\"patch_54\">\r\n    <path clip-path=\"url(#p38970678f3)\" d=\"M 267.922727 155.444656 \r\nL 272.15 155.444656 \r\nL 272.15 28.657484 \r\nL 267.922727 28.657484 \r\nz\r\n\" style=\"fill:#1f77b4;\"/>\r\n   </g>\r\n   <g id=\"patch_55\">\r\n    <path clip-path=\"url(#p38970678f3)\" d=\"M 272.15 155.444656 \r\nL 276.377273 155.444656 \r\nL 276.377273 28.657484 \r\nL 272.15 28.657484 \r\nz\r\n\" style=\"fill:#1f77b4;\"/>\r\n   </g>\r\n   <g id=\"patch_56\">\r\n    <path clip-path=\"url(#p38970678f3)\" d=\"M 276.377273 155.444656 \r\nL 280.604545 155.444656 \r\nL 280.604545 28.657484 \r\nL 276.377273 28.657484 \r\nz\r\n\" style=\"fill:#1f77b4;\"/>\r\n   </g>\r\n   <g id=\"patch_57\">\r\n    <path clip-path=\"url(#p38970678f3)\" d=\"M 280.604545 155.444656 \r\nL 284.831818 155.444656 \r\nL 284.831818 34.420537 \r\nL 280.604545 34.420537 \r\nz\r\n\" style=\"fill:#1f77b4;\"/>\r\n   </g>\r\n   <g id=\"patch_58\">\r\n    <path clip-path=\"url(#p38970678f3)\" d=\"M 284.831818 155.444656 \r\nL 289.059091 155.444656 \r\nL 289.059091 28.657484 \r\nL 284.831818 28.657484 \r\nz\r\n\" style=\"fill:#1f77b4;\"/>\r\n   </g>\r\n   <g id=\"patch_59\">\r\n    <path clip-path=\"url(#p38970678f3)\" d=\"M 289.059091 155.444656 \r\nL 293.286364 155.444656 \r\nL 293.286364 28.657484 \r\nL 289.059091 28.657484 \r\nz\r\n\" style=\"fill:#1f77b4;\"/>\r\n   </g>\r\n   <g id=\"patch_60\">\r\n    <path clip-path=\"url(#p38970678f3)\" d=\"M 293.286364 155.444656 \r\nL 297.513636 155.444656 \r\nL 297.513636 28.657484 \r\nL 293.286364 28.657484 \r\nz\r\n\" style=\"fill:#1f77b4;\"/>\r\n   </g>\r\n   <g id=\"patch_61\">\r\n    <path clip-path=\"url(#p38970678f3)\" d=\"M 297.513636 155.444656 \r\nL 301.740909 155.444656 \r\nL 301.740909 28.657484 \r\nL 297.513636 28.657484 \r\nz\r\n\" style=\"fill:#1f77b4;\"/>\r\n   </g>\r\n   <g id=\"patch_62\">\r\n    <path clip-path=\"url(#p38970678f3)\" d=\"M 301.740909 155.444656 \r\nL 305.968182 155.444656 \r\nL 305.968182 28.657484 \r\nL 301.740909 28.657484 \r\nz\r\n\" style=\"fill:#1f77b4;\"/>\r\n   </g>\r\n   <g id=\"matplotlib.axis_1\">\r\n    <g id=\"xtick_1\">\r\n     <g id=\"line2d_1\">\r\n      <path clip-path=\"url(#p38970678f3)\" d=\"M 52.137907 155.444656 \r\nL 52.137907 22.318125 \r\n\" style=\"fill:none;stroke:#b0b0b0;stroke-linecap:square;stroke-width:0.8;\"/>\r\n     </g>\r\n     <g id=\"line2d_2\">\r\n      <defs>\r\n       <path d=\"M 0 0 \r\nL 0 3.5 \r\n\" id=\"mb4638e5f59\" style=\"stroke:#000000;stroke-width:0.8;\"/>\r\n      </defs>\r\n      <g>\r\n       <use style=\"stroke:#000000;stroke-width:0.8;\" x=\"52.137907\" xlink:href=\"#mb4638e5f59\" y=\"155.444656\"/>\r\n      </g>\r\n     </g>\r\n     <g id=\"text_1\">\r\n      <!-- 0 -->\r\n      <g transform=\"translate(48.956657 170.043093)scale(0.1 -0.1)\">\r\n       <defs>\r\n        <path d=\"M 2034 4250 \r\nQ 1547 4250 1301 3770 \r\nQ 1056 3291 1056 2328 \r\nQ 1056 1369 1301 889 \r\nQ 1547 409 2034 409 \r\nQ 2525 409 2770 889 \r\nQ 3016 1369 3016 2328 \r\nQ 3016 3291 2770 3770 \r\nQ 2525 4250 2034 4250 \r\nz\r\nM 2034 4750 \r\nQ 2819 4750 3233 4129 \r\nQ 3647 3509 3647 2328 \r\nQ 3647 1150 3233 529 \r\nQ 2819 -91 2034 -91 \r\nQ 1250 -91 836 529 \r\nQ 422 1150 422 2328 \r\nQ 422 3509 836 4129 \r\nQ 1250 4750 2034 4750 \r\nz\r\n\" id=\"DejaVuSans-30\" transform=\"scale(0.015625)\"/>\r\n       </defs>\r\n       <use xlink:href=\"#DejaVuSans-30\"/>\r\n      </g>\r\n     </g>\r\n    </g>\r\n    <g id=\"xtick_2\">\r\n     <g id=\"line2d_3\">\r\n      <path clip-path=\"url(#p38970678f3)\" d=\"M 90.920225 155.444656 \r\nL 90.920225 22.318125 \r\n\" style=\"fill:none;stroke:#b0b0b0;stroke-linecap:square;stroke-width:0.8;\"/>\r\n     </g>\r\n     <g id=\"line2d_4\">\r\n      <g>\r\n       <use style=\"stroke:#000000;stroke-width:0.8;\" x=\"90.920225\" xlink:href=\"#mb4638e5f59\" y=\"155.444656\"/>\r\n      </g>\r\n     </g>\r\n     <g id=\"text_2\">\r\n      <!-- 200 -->\r\n      <g transform=\"translate(81.376475 170.043093)scale(0.1 -0.1)\">\r\n       <defs>\r\n        <path d=\"M 1228 531 \r\nL 3431 531 \r\nL 3431 0 \r\nL 469 0 \r\nL 469 531 \r\nQ 828 903 1448 1529 \r\nQ 2069 2156 2228 2338 \r\nQ 2531 2678 2651 2914 \r\nQ 2772 3150 2772 3378 \r\nQ 2772 3750 2511 3984 \r\nQ 2250 4219 1831 4219 \r\nQ 1534 4219 1204 4116 \r\nQ 875 4013 500 3803 \r\nL 500 4441 \r\nQ 881 4594 1212 4672 \r\nQ 1544 4750 1819 4750 \r\nQ 2544 4750 2975 4387 \r\nQ 3406 4025 3406 3419 \r\nQ 3406 3131 3298 2873 \r\nQ 3191 2616 2906 2266 \r\nQ 2828 2175 2409 1742 \r\nQ 1991 1309 1228 531 \r\nz\r\n\" id=\"DejaVuSans-32\" transform=\"scale(0.015625)\"/>\r\n       </defs>\r\n       <use xlink:href=\"#DejaVuSans-32\"/>\r\n       <use x=\"63.623047\" xlink:href=\"#DejaVuSans-30\"/>\r\n       <use x=\"127.246094\" xlink:href=\"#DejaVuSans-30\"/>\r\n      </g>\r\n     </g>\r\n    </g>\r\n    <g id=\"xtick_3\">\r\n     <g id=\"line2d_5\">\r\n      <path clip-path=\"url(#p38970678f3)\" d=\"M 129.702544 155.444656 \r\nL 129.702544 22.318125 \r\n\" style=\"fill:none;stroke:#b0b0b0;stroke-linecap:square;stroke-width:0.8;\"/>\r\n     </g>\r\n     <g id=\"line2d_6\">\r\n      <g>\r\n       <use style=\"stroke:#000000;stroke-width:0.8;\" x=\"129.702544\" xlink:href=\"#mb4638e5f59\" y=\"155.444656\"/>\r\n      </g>\r\n     </g>\r\n     <g id=\"text_3\">\r\n      <!-- 400 -->\r\n      <g transform=\"translate(120.158794 170.043093)scale(0.1 -0.1)\">\r\n       <defs>\r\n        <path d=\"M 2419 4116 \r\nL 825 1625 \r\nL 2419 1625 \r\nL 2419 4116 \r\nz\r\nM 2253 4666 \r\nL 3047 4666 \r\nL 3047 1625 \r\nL 3713 1625 \r\nL 3713 1100 \r\nL 3047 1100 \r\nL 3047 0 \r\nL 2419 0 \r\nL 2419 1100 \r\nL 313 1100 \r\nL 313 1709 \r\nL 2253 4666 \r\nz\r\n\" id=\"DejaVuSans-34\" transform=\"scale(0.015625)\"/>\r\n       </defs>\r\n       <use xlink:href=\"#DejaVuSans-34\"/>\r\n       <use x=\"63.623047\" xlink:href=\"#DejaVuSans-30\"/>\r\n       <use x=\"127.246094\" xlink:href=\"#DejaVuSans-30\"/>\r\n      </g>\r\n     </g>\r\n    </g>\r\n    <g id=\"xtick_4\">\r\n     <g id=\"line2d_7\">\r\n      <path clip-path=\"url(#p38970678f3)\" d=\"M 168.484862 155.444656 \r\nL 168.484862 22.318125 \r\n\" style=\"fill:none;stroke:#b0b0b0;stroke-linecap:square;stroke-width:0.8;\"/>\r\n     </g>\r\n     <g id=\"line2d_8\">\r\n      <g>\r\n       <use style=\"stroke:#000000;stroke-width:0.8;\" x=\"168.484862\" xlink:href=\"#mb4638e5f59\" y=\"155.444656\"/>\r\n      </g>\r\n     </g>\r\n     <g id=\"text_4\">\r\n      <!-- 600 -->\r\n      <g transform=\"translate(158.941112 170.043093)scale(0.1 -0.1)\">\r\n       <defs>\r\n        <path d=\"M 2113 2584 \r\nQ 1688 2584 1439 2293 \r\nQ 1191 2003 1191 1497 \r\nQ 1191 994 1439 701 \r\nQ 1688 409 2113 409 \r\nQ 2538 409 2786 701 \r\nQ 3034 994 3034 1497 \r\nQ 3034 2003 2786 2293 \r\nQ 2538 2584 2113 2584 \r\nz\r\nM 3366 4563 \r\nL 3366 3988 \r\nQ 3128 4100 2886 4159 \r\nQ 2644 4219 2406 4219 \r\nQ 1781 4219 1451 3797 \r\nQ 1122 3375 1075 2522 \r\nQ 1259 2794 1537 2939 \r\nQ 1816 3084 2150 3084 \r\nQ 2853 3084 3261 2657 \r\nQ 3669 2231 3669 1497 \r\nQ 3669 778 3244 343 \r\nQ 2819 -91 2113 -91 \r\nQ 1303 -91 875 529 \r\nQ 447 1150 447 2328 \r\nQ 447 3434 972 4092 \r\nQ 1497 4750 2381 4750 \r\nQ 2619 4750 2861 4703 \r\nQ 3103 4656 3366 4563 \r\nz\r\n\" id=\"DejaVuSans-36\" transform=\"scale(0.015625)\"/>\r\n       </defs>\r\n       <use xlink:href=\"#DejaVuSans-36\"/>\r\n       <use x=\"63.623047\" xlink:href=\"#DejaVuSans-30\"/>\r\n       <use x=\"127.246094\" xlink:href=\"#DejaVuSans-30\"/>\r\n      </g>\r\n     </g>\r\n    </g>\r\n    <g id=\"xtick_5\">\r\n     <g id=\"line2d_9\">\r\n      <path clip-path=\"url(#p38970678f3)\" d=\"M 207.267181 155.444656 \r\nL 207.267181 22.318125 \r\n\" style=\"fill:none;stroke:#b0b0b0;stroke-linecap:square;stroke-width:0.8;\"/>\r\n     </g>\r\n     <g id=\"line2d_10\">\r\n      <g>\r\n       <use style=\"stroke:#000000;stroke-width:0.8;\" x=\"207.267181\" xlink:href=\"#mb4638e5f59\" y=\"155.444656\"/>\r\n      </g>\r\n     </g>\r\n     <g id=\"text_5\">\r\n      <!-- 800 -->\r\n      <g transform=\"translate(197.723431 170.043093)scale(0.1 -0.1)\">\r\n       <defs>\r\n        <path d=\"M 2034 2216 \r\nQ 1584 2216 1326 1975 \r\nQ 1069 1734 1069 1313 \r\nQ 1069 891 1326 650 \r\nQ 1584 409 2034 409 \r\nQ 2484 409 2743 651 \r\nQ 3003 894 3003 1313 \r\nQ 3003 1734 2745 1975 \r\nQ 2488 2216 2034 2216 \r\nz\r\nM 1403 2484 \r\nQ 997 2584 770 2862 \r\nQ 544 3141 544 3541 \r\nQ 544 4100 942 4425 \r\nQ 1341 4750 2034 4750 \r\nQ 2731 4750 3128 4425 \r\nQ 3525 4100 3525 3541 \r\nQ 3525 3141 3298 2862 \r\nQ 3072 2584 2669 2484 \r\nQ 3125 2378 3379 2068 \r\nQ 3634 1759 3634 1313 \r\nQ 3634 634 3220 271 \r\nQ 2806 -91 2034 -91 \r\nQ 1263 -91 848 271 \r\nQ 434 634 434 1313 \r\nQ 434 1759 690 2068 \r\nQ 947 2378 1403 2484 \r\nz\r\nM 1172 3481 \r\nQ 1172 3119 1398 2916 \r\nQ 1625 2713 2034 2713 \r\nQ 2441 2713 2670 2916 \r\nQ 2900 3119 2900 3481 \r\nQ 2900 3844 2670 4047 \r\nQ 2441 4250 2034 4250 \r\nQ 1625 4250 1398 4047 \r\nQ 1172 3844 1172 3481 \r\nz\r\n\" id=\"DejaVuSans-38\" transform=\"scale(0.015625)\"/>\r\n       </defs>\r\n       <use xlink:href=\"#DejaVuSans-38\"/>\r\n       <use x=\"63.623047\" xlink:href=\"#DejaVuSans-30\"/>\r\n       <use x=\"127.246094\" xlink:href=\"#DejaVuSans-30\"/>\r\n      </g>\r\n     </g>\r\n    </g>\r\n    <g id=\"xtick_6\">\r\n     <g id=\"line2d_11\">\r\n      <path clip-path=\"url(#p38970678f3)\" d=\"M 246.0495 155.444656 \r\nL 246.0495 22.318125 \r\n\" style=\"fill:none;stroke:#b0b0b0;stroke-linecap:square;stroke-width:0.8;\"/>\r\n     </g>\r\n     <g id=\"line2d_12\">\r\n      <g>\r\n       <use style=\"stroke:#000000;stroke-width:0.8;\" x=\"246.0495\" xlink:href=\"#mb4638e5f59\" y=\"155.444656\"/>\r\n      </g>\r\n     </g>\r\n     <g id=\"text_6\">\r\n      <!-- 1000 -->\r\n      <g transform=\"translate(233.3245 170.043093)scale(0.1 -0.1)\">\r\n       <defs>\r\n        <path d=\"M 794 531 \r\nL 1825 531 \r\nL 1825 4091 \r\nL 703 3866 \r\nL 703 4441 \r\nL 1819 4666 \r\nL 2450 4666 \r\nL 2450 531 \r\nL 3481 531 \r\nL 3481 0 \r\nL 794 0 \r\nL 794 531 \r\nz\r\n\" id=\"DejaVuSans-31\" transform=\"scale(0.015625)\"/>\r\n       </defs>\r\n       <use xlink:href=\"#DejaVuSans-31\"/>\r\n       <use x=\"63.623047\" xlink:href=\"#DejaVuSans-30\"/>\r\n       <use x=\"127.246094\" xlink:href=\"#DejaVuSans-30\"/>\r\n       <use x=\"190.869141\" xlink:href=\"#DejaVuSans-30\"/>\r\n      </g>\r\n     </g>\r\n    </g>\r\n    <g id=\"xtick_7\">\r\n     <g id=\"line2d_13\">\r\n      <path clip-path=\"url(#p38970678f3)\" d=\"M 284.831818 155.444656 \r\nL 284.831818 22.318125 \r\n\" style=\"fill:none;stroke:#b0b0b0;stroke-linecap:square;stroke-width:0.8;\"/>\r\n     </g>\r\n     <g id=\"line2d_14\">\r\n      <g>\r\n       <use style=\"stroke:#000000;stroke-width:0.8;\" x=\"284.831818\" xlink:href=\"#mb4638e5f59\" y=\"155.444656\"/>\r\n      </g>\r\n     </g>\r\n     <g id=\"text_7\">\r\n      <!-- 1200 -->\r\n      <g transform=\"translate(272.106818 170.043093)scale(0.1 -0.1)\">\r\n       <use xlink:href=\"#DejaVuSans-31\"/>\r\n       <use x=\"63.623047\" xlink:href=\"#DejaVuSans-32\"/>\r\n       <use x=\"127.246094\" xlink:href=\"#DejaVuSans-30\"/>\r\n       <use x=\"190.869141\" xlink:href=\"#DejaVuSans-30\"/>\r\n      </g>\r\n     </g>\r\n    </g>\r\n   </g>\r\n   <g id=\"matplotlib.axis_2\">\r\n    <g id=\"ytick_1\">\r\n     <g id=\"line2d_15\">\r\n      <path clip-path=\"url(#p38970678f3)\" d=\"M 39.65 155.444656 \r\nL 318.65 155.444656 \r\n\" style=\"fill:none;stroke:#b0b0b0;stroke-linecap:square;stroke-width:0.8;\"/>\r\n     </g>\r\n     <g id=\"line2d_16\">\r\n      <defs>\r\n       <path d=\"M 0 0 \r\nL -3.5 0 \r\n\" id=\"m2a7d614687\" style=\"stroke:#000000;stroke-width:0.8;\"/>\r\n      </defs>\r\n      <g>\r\n       <use style=\"stroke:#000000;stroke-width:0.8;\" x=\"39.65\" xlink:href=\"#m2a7d614687\" y=\"155.444656\"/>\r\n      </g>\r\n     </g>\r\n     <g id=\"text_8\">\r\n      <!-- 0 -->\r\n      <g transform=\"translate(26.2875 159.243874)scale(0.1 -0.1)\">\r\n       <use xlink:href=\"#DejaVuSans-30\"/>\r\n      </g>\r\n     </g>\r\n    </g>\r\n    <g id=\"ytick_2\">\r\n     <g id=\"line2d_17\">\r\n      <path clip-path=\"url(#p38970678f3)\" d=\"M 39.65 126.629389 \r\nL 318.65 126.629389 \r\n\" style=\"fill:none;stroke:#b0b0b0;stroke-linecap:square;stroke-width:0.8;\"/>\r\n     </g>\r\n     <g id=\"line2d_18\">\r\n      <g>\r\n       <use style=\"stroke:#000000;stroke-width:0.8;\" x=\"39.65\" xlink:href=\"#m2a7d614687\" y=\"126.629389\"/>\r\n      </g>\r\n     </g>\r\n     <g id=\"text_9\">\r\n      <!-- 5 -->\r\n      <g transform=\"translate(26.2875 130.428608)scale(0.1 -0.1)\">\r\n       <defs>\r\n        <path d=\"M 691 4666 \r\nL 3169 4666 \r\nL 3169 4134 \r\nL 1269 4134 \r\nL 1269 2991 \r\nQ 1406 3038 1543 3061 \r\nQ 1681 3084 1819 3084 \r\nQ 2600 3084 3056 2656 \r\nQ 3513 2228 3513 1497 \r\nQ 3513 744 3044 326 \r\nQ 2575 -91 1722 -91 \r\nQ 1428 -91 1123 -41 \r\nQ 819 9 494 109 \r\nL 494 744 \r\nQ 775 591 1075 516 \r\nQ 1375 441 1709 441 \r\nQ 2250 441 2565 725 \r\nQ 2881 1009 2881 1497 \r\nQ 2881 1984 2565 2268 \r\nQ 2250 2553 1709 2553 \r\nQ 1456 2553 1204 2497 \r\nQ 953 2441 691 2322 \r\nL 691 4666 \r\nz\r\n\" id=\"DejaVuSans-35\" transform=\"scale(0.015625)\"/>\r\n       </defs>\r\n       <use xlink:href=\"#DejaVuSans-35\"/>\r\n      </g>\r\n     </g>\r\n    </g>\r\n    <g id=\"ytick_3\">\r\n     <g id=\"line2d_19\">\r\n      <path clip-path=\"url(#p38970678f3)\" d=\"M 39.65 97.814123 \r\nL 318.65 97.814123 \r\n\" style=\"fill:none;stroke:#b0b0b0;stroke-linecap:square;stroke-width:0.8;\"/>\r\n     </g>\r\n     <g id=\"line2d_20\">\r\n      <g>\r\n       <use style=\"stroke:#000000;stroke-width:0.8;\" x=\"39.65\" xlink:href=\"#m2a7d614687\" y=\"97.814123\"/>\r\n      </g>\r\n     </g>\r\n     <g id=\"text_10\">\r\n      <!-- 10 -->\r\n      <g transform=\"translate(19.925 101.613342)scale(0.1 -0.1)\">\r\n       <use xlink:href=\"#DejaVuSans-31\"/>\r\n       <use x=\"63.623047\" xlink:href=\"#DejaVuSans-30\"/>\r\n      </g>\r\n     </g>\r\n    </g>\r\n    <g id=\"ytick_4\">\r\n     <g id=\"line2d_21\">\r\n      <path clip-path=\"url(#p38970678f3)\" d=\"M 39.65 68.998857 \r\nL 318.65 68.998857 \r\n\" style=\"fill:none;stroke:#b0b0b0;stroke-linecap:square;stroke-width:0.8;\"/>\r\n     </g>\r\n     <g id=\"line2d_22\">\r\n      <g>\r\n       <use style=\"stroke:#000000;stroke-width:0.8;\" x=\"39.65\" xlink:href=\"#m2a7d614687\" y=\"68.998857\"/>\r\n      </g>\r\n     </g>\r\n     <g id=\"text_11\">\r\n      <!-- 15 -->\r\n      <g transform=\"translate(19.925 72.798075)scale(0.1 -0.1)\">\r\n       <use xlink:href=\"#DejaVuSans-31\"/>\r\n       <use x=\"63.623047\" xlink:href=\"#DejaVuSans-35\"/>\r\n      </g>\r\n     </g>\r\n    </g>\r\n    <g id=\"ytick_5\">\r\n     <g id=\"line2d_23\">\r\n      <path clip-path=\"url(#p38970678f3)\" d=\"M 39.65 40.18359 \r\nL 318.65 40.18359 \r\n\" style=\"fill:none;stroke:#b0b0b0;stroke-linecap:square;stroke-width:0.8;\"/>\r\n     </g>\r\n     <g id=\"line2d_24\">\r\n      <g>\r\n       <use style=\"stroke:#000000;stroke-width:0.8;\" x=\"39.65\" xlink:href=\"#m2a7d614687\" y=\"40.18359\"/>\r\n      </g>\r\n     </g>\r\n     <g id=\"text_12\">\r\n      <!-- 20 -->\r\n      <g transform=\"translate(19.925 43.982809)scale(0.1 -0.1)\">\r\n       <use xlink:href=\"#DejaVuSans-32\"/>\r\n       <use x=\"63.623047\" xlink:href=\"#DejaVuSans-30\"/>\r\n      </g>\r\n     </g>\r\n    </g>\r\n   </g>\r\n   <g id=\"patch_63\">\r\n    <path d=\"M 39.65 155.444656 \r\nL 39.65 22.318125 \r\n\" style=\"fill:none;stroke:#000000;stroke-linecap:square;stroke-linejoin:miter;stroke-width:0.8;\"/>\r\n   </g>\r\n   <g id=\"patch_64\">\r\n    <path d=\"M 318.65 155.444656 \r\nL 318.65 22.318125 \r\n\" style=\"fill:none;stroke:#000000;stroke-linecap:square;stroke-linejoin:miter;stroke-width:0.8;\"/>\r\n   </g>\r\n   <g id=\"patch_65\">\r\n    <path d=\"M 39.65 155.444656 \r\nL 318.65 155.444656 \r\n\" style=\"fill:none;stroke:#000000;stroke-linecap:square;stroke-linejoin:miter;stroke-width:0.8;\"/>\r\n   </g>\r\n   <g id=\"patch_66\">\r\n    <path d=\"M 39.65 22.318125 \r\nL 318.65 22.318125 \r\n\" style=\"fill:none;stroke:#000000;stroke-linecap:square;stroke-linejoin:miter;stroke-width:0.8;\"/>\r\n   </g>\r\n   <g id=\"text_13\">\r\n    <!-- PassengerId -->\r\n    <g transform=\"translate(142.833125 16.318125)scale(0.12 -0.12)\">\r\n     <defs>\r\n      <path d=\"M 1259 4147 \r\nL 1259 2394 \r\nL 2053 2394 \r\nQ 2494 2394 2734 2622 \r\nQ 2975 2850 2975 3272 \r\nQ 2975 3691 2734 3919 \r\nQ 2494 4147 2053 4147 \r\nL 1259 4147 \r\nz\r\nM 628 4666 \r\nL 2053 4666 \r\nQ 2838 4666 3239 4311 \r\nQ 3641 3956 3641 3272 \r\nQ 3641 2581 3239 2228 \r\nQ 2838 1875 2053 1875 \r\nL 1259 1875 \r\nL 1259 0 \r\nL 628 0 \r\nL 628 4666 \r\nz\r\n\" id=\"DejaVuSans-50\" transform=\"scale(0.015625)\"/>\r\n      <path d=\"M 2194 1759 \r\nQ 1497 1759 1228 1600 \r\nQ 959 1441 959 1056 \r\nQ 959 750 1161 570 \r\nQ 1363 391 1709 391 \r\nQ 2188 391 2477 730 \r\nQ 2766 1069 2766 1631 \r\nL 2766 1759 \r\nL 2194 1759 \r\nz\r\nM 3341 1997 \r\nL 3341 0 \r\nL 2766 0 \r\nL 2766 531 \r\nQ 2569 213 2275 61 \r\nQ 1981 -91 1556 -91 \r\nQ 1019 -91 701 211 \r\nQ 384 513 384 1019 \r\nQ 384 1609 779 1909 \r\nQ 1175 2209 1959 2209 \r\nL 2766 2209 \r\nL 2766 2266 \r\nQ 2766 2663 2505 2880 \r\nQ 2244 3097 1772 3097 \r\nQ 1472 3097 1187 3025 \r\nQ 903 2953 641 2809 \r\nL 641 3341 \r\nQ 956 3463 1253 3523 \r\nQ 1550 3584 1831 3584 \r\nQ 2591 3584 2966 3190 \r\nQ 3341 2797 3341 1997 \r\nz\r\n\" id=\"DejaVuSans-61\" transform=\"scale(0.015625)\"/>\r\n      <path d=\"M 2834 3397 \r\nL 2834 2853 \r\nQ 2591 2978 2328 3040 \r\nQ 2066 3103 1784 3103 \r\nQ 1356 3103 1142 2972 \r\nQ 928 2841 928 2578 \r\nQ 928 2378 1081 2264 \r\nQ 1234 2150 1697 2047 \r\nL 1894 2003 \r\nQ 2506 1872 2764 1633 \r\nQ 3022 1394 3022 966 \r\nQ 3022 478 2636 193 \r\nQ 2250 -91 1575 -91 \r\nQ 1294 -91 989 -36 \r\nQ 684 19 347 128 \r\nL 347 722 \r\nQ 666 556 975 473 \r\nQ 1284 391 1588 391 \r\nQ 1994 391 2212 530 \r\nQ 2431 669 2431 922 \r\nQ 2431 1156 2273 1281 \r\nQ 2116 1406 1581 1522 \r\nL 1381 1569 \r\nQ 847 1681 609 1914 \r\nQ 372 2147 372 2553 \r\nQ 372 3047 722 3315 \r\nQ 1072 3584 1716 3584 \r\nQ 2034 3584 2315 3537 \r\nQ 2597 3491 2834 3397 \r\nz\r\n\" id=\"DejaVuSans-73\" transform=\"scale(0.015625)\"/>\r\n      <path d=\"M 3597 1894 \r\nL 3597 1613 \r\nL 953 1613 \r\nQ 991 1019 1311 708 \r\nQ 1631 397 2203 397 \r\nQ 2534 397 2845 478 \r\nQ 3156 559 3463 722 \r\nL 3463 178 \r\nQ 3153 47 2828 -22 \r\nQ 2503 -91 2169 -91 \r\nQ 1331 -91 842 396 \r\nQ 353 884 353 1716 \r\nQ 353 2575 817 3079 \r\nQ 1281 3584 2069 3584 \r\nQ 2775 3584 3186 3129 \r\nQ 3597 2675 3597 1894 \r\nz\r\nM 3022 2063 \r\nQ 3016 2534 2758 2815 \r\nQ 2500 3097 2075 3097 \r\nQ 1594 3097 1305 2825 \r\nQ 1016 2553 972 2059 \r\nL 3022 2063 \r\nz\r\n\" id=\"DejaVuSans-65\" transform=\"scale(0.015625)\"/>\r\n      <path d=\"M 3513 2113 \r\nL 3513 0 \r\nL 2938 0 \r\nL 2938 2094 \r\nQ 2938 2591 2744 2837 \r\nQ 2550 3084 2163 3084 \r\nQ 1697 3084 1428 2787 \r\nQ 1159 2491 1159 1978 \r\nL 1159 0 \r\nL 581 0 \r\nL 581 3500 \r\nL 1159 3500 \r\nL 1159 2956 \r\nQ 1366 3272 1645 3428 \r\nQ 1925 3584 2291 3584 \r\nQ 2894 3584 3203 3211 \r\nQ 3513 2838 3513 2113 \r\nz\r\n\" id=\"DejaVuSans-6e\" transform=\"scale(0.015625)\"/>\r\n      <path d=\"M 2906 1791 \r\nQ 2906 2416 2648 2759 \r\nQ 2391 3103 1925 3103 \r\nQ 1463 3103 1205 2759 \r\nQ 947 2416 947 1791 \r\nQ 947 1169 1205 825 \r\nQ 1463 481 1925 481 \r\nQ 2391 481 2648 825 \r\nQ 2906 1169 2906 1791 \r\nz\r\nM 3481 434 \r\nQ 3481 -459 3084 -895 \r\nQ 2688 -1331 1869 -1331 \r\nQ 1566 -1331 1297 -1286 \r\nQ 1028 -1241 775 -1147 \r\nL 775 -588 \r\nQ 1028 -725 1275 -790 \r\nQ 1522 -856 1778 -856 \r\nQ 2344 -856 2625 -561 \r\nQ 2906 -266 2906 331 \r\nL 2906 616 \r\nQ 2728 306 2450 153 \r\nQ 2172 0 1784 0 \r\nQ 1141 0 747 490 \r\nQ 353 981 353 1791 \r\nQ 353 2603 747 3093 \r\nQ 1141 3584 1784 3584 \r\nQ 2172 3584 2450 3431 \r\nQ 2728 3278 2906 2969 \r\nL 2906 3500 \r\nL 3481 3500 \r\nL 3481 434 \r\nz\r\n\" id=\"DejaVuSans-67\" transform=\"scale(0.015625)\"/>\r\n      <path d=\"M 2631 2963 \r\nQ 2534 3019 2420 3045 \r\nQ 2306 3072 2169 3072 \r\nQ 1681 3072 1420 2755 \r\nQ 1159 2438 1159 1844 \r\nL 1159 0 \r\nL 581 0 \r\nL 581 3500 \r\nL 1159 3500 \r\nL 1159 2956 \r\nQ 1341 3275 1631 3429 \r\nQ 1922 3584 2338 3584 \r\nQ 2397 3584 2469 3576 \r\nQ 2541 3569 2628 3553 \r\nL 2631 2963 \r\nz\r\n\" id=\"DejaVuSans-72\" transform=\"scale(0.015625)\"/>\r\n      <path d=\"M 628 4666 \r\nL 1259 4666 \r\nL 1259 0 \r\nL 628 0 \r\nL 628 4666 \r\nz\r\n\" id=\"DejaVuSans-49\" transform=\"scale(0.015625)\"/>\r\n      <path d=\"M 2906 2969 \r\nL 2906 4863 \r\nL 3481 4863 \r\nL 3481 0 \r\nL 2906 0 \r\nL 2906 525 \r\nQ 2725 213 2448 61 \r\nQ 2172 -91 1784 -91 \r\nQ 1150 -91 751 415 \r\nQ 353 922 353 1747 \r\nQ 353 2572 751 3078 \r\nQ 1150 3584 1784 3584 \r\nQ 2172 3584 2448 3432 \r\nQ 2725 3281 2906 2969 \r\nz\r\nM 947 1747 \r\nQ 947 1113 1208 752 \r\nQ 1469 391 1925 391 \r\nQ 2381 391 2643 752 \r\nQ 2906 1113 2906 1747 \r\nQ 2906 2381 2643 2742 \r\nQ 2381 3103 1925 3103 \r\nQ 1469 3103 1208 2742 \r\nQ 947 2381 947 1747 \r\nz\r\n\" id=\"DejaVuSans-64\" transform=\"scale(0.015625)\"/>\r\n     </defs>\r\n     <use xlink:href=\"#DejaVuSans-50\"/>\r\n     <use x=\"55.802734\" xlink:href=\"#DejaVuSans-61\"/>\r\n     <use x=\"117.082031\" xlink:href=\"#DejaVuSans-73\"/>\r\n     <use x=\"169.181641\" xlink:href=\"#DejaVuSans-73\"/>\r\n     <use x=\"221.28125\" xlink:href=\"#DejaVuSans-65\"/>\r\n     <use x=\"282.804688\" xlink:href=\"#DejaVuSans-6e\"/>\r\n     <use x=\"346.183594\" xlink:href=\"#DejaVuSans-67\"/>\r\n     <use x=\"409.660156\" xlink:href=\"#DejaVuSans-65\"/>\r\n     <use x=\"471.183594\" xlink:href=\"#DejaVuSans-72\"/>\r\n     <use x=\"512.296875\" xlink:href=\"#DejaVuSans-49\"/>\r\n     <use x=\"541.789062\" xlink:href=\"#DejaVuSans-64\"/>\r\n    </g>\r\n   </g>\r\n  </g>\r\n  <g id=\"axes_2\">\r\n   <g id=\"patch_67\">\r\n    <path d=\"M 402.35 155.444656 \r\nL 681.35 155.444656 \r\nL 681.35 22.318125 \r\nL 402.35 22.318125 \r\nz\r\n\" style=\"fill:#ffffff;\"/>\r\n   </g>\r\n   <g id=\"patch_68\">\r\n    <path clip-path=\"url(#p90697adee8)\" d=\"M 415.031818 155.444656 \r\nL 419.259091 155.444656 \r\nL 419.259091 28.657484 \r\nL 415.031818 28.657484 \r\nz\r\n\" style=\"fill:#1f77b4;\"/>\r\n   </g>\r\n   <g id=\"patch_69\">\r\n    <path clip-path=\"url(#p90697adee8)\" d=\"M 419.259091 155.444656 \r\nL 423.486364 155.444656 \r\nL 423.486364 155.444656 \r\nL 419.259091 155.444656 \r\nz\r\n\" style=\"fill:#1f77b4;\"/>\r\n   </g>\r\n   <g id=\"patch_70\">\r\n    <path clip-path=\"url(#p90697adee8)\" d=\"M 423.486364 155.444656 \r\nL 427.713636 155.444656 \r\nL 427.713636 155.444656 \r\nL 423.486364 155.444656 \r\nz\r\n\" style=\"fill:#1f77b4;\"/>\r\n   </g>\r\n   <g id=\"patch_71\">\r\n    <path clip-path=\"url(#p90697adee8)\" d=\"M 427.713636 155.444656 \r\nL 431.940909 155.444656 \r\nL 431.940909 155.444656 \r\nL 427.713636 155.444656 \r\nz\r\n\" style=\"fill:#1f77b4;\"/>\r\n   </g>\r\n   <g id=\"patch_72\">\r\n    <path clip-path=\"url(#p90697adee8)\" d=\"M 431.940909 155.444656 \r\nL 436.168182 155.444656 \r\nL 436.168182 155.444656 \r\nL 431.940909 155.444656 \r\nz\r\n\" style=\"fill:#1f77b4;\"/>\r\n   </g>\r\n   <g id=\"patch_73\">\r\n    <path clip-path=\"url(#p90697adee8)\" d=\"M 436.168182 155.444656 \r\nL 440.395455 155.444656 \r\nL 440.395455 155.444656 \r\nL 436.168182 155.444656 \r\nz\r\n\" style=\"fill:#1f77b4;\"/>\r\n   </g>\r\n   <g id=\"patch_74\">\r\n    <path clip-path=\"url(#p90697adee8)\" d=\"M 440.395455 155.444656 \r\nL 444.622727 155.444656 \r\nL 444.622727 155.444656 \r\nL 440.395455 155.444656 \r\nz\r\n\" style=\"fill:#1f77b4;\"/>\r\n   </g>\r\n   <g id=\"patch_75\">\r\n    <path clip-path=\"url(#p90697adee8)\" d=\"M 444.622727 155.444656 \r\nL 448.85 155.444656 \r\nL 448.85 155.444656 \r\nL 444.622727 155.444656 \r\nz\r\n\" style=\"fill:#1f77b4;\"/>\r\n   </g>\r\n   <g id=\"patch_76\">\r\n    <path clip-path=\"url(#p90697adee8)\" d=\"M 448.85 155.444656 \r\nL 453.077273 155.444656 \r\nL 453.077273 155.444656 \r\nL 448.85 155.444656 \r\nz\r\n\" style=\"fill:#1f77b4;\"/>\r\n   </g>\r\n   <g id=\"patch_77\">\r\n    <path clip-path=\"url(#p90697adee8)\" d=\"M 453.077273 155.444656 \r\nL 457.304545 155.444656 \r\nL 457.304545 155.444656 \r\nL 453.077273 155.444656 \r\nz\r\n\" style=\"fill:#1f77b4;\"/>\r\n   </g>\r\n   <g id=\"patch_78\">\r\n    <path clip-path=\"url(#p90697adee8)\" d=\"M 457.304545 155.444656 \r\nL 461.531818 155.444656 \r\nL 461.531818 155.444656 \r\nL 457.304545 155.444656 \r\nz\r\n\" style=\"fill:#1f77b4;\"/>\r\n   </g>\r\n   <g id=\"patch_79\">\r\n    <path clip-path=\"url(#p90697adee8)\" d=\"M 461.531818 155.444656 \r\nL 465.759091 155.444656 \r\nL 465.759091 155.444656 \r\nL 461.531818 155.444656 \r\nz\r\n\" style=\"fill:#1f77b4;\"/>\r\n   </g>\r\n   <g id=\"patch_80\">\r\n    <path clip-path=\"url(#p90697adee8)\" d=\"M 465.759091 155.444656 \r\nL 469.986364 155.444656 \r\nL 469.986364 155.444656 \r\nL 465.759091 155.444656 \r\nz\r\n\" style=\"fill:#1f77b4;\"/>\r\n   </g>\r\n   <g id=\"patch_81\">\r\n    <path clip-path=\"url(#p90697adee8)\" d=\"M 469.986364 155.444656 \r\nL 474.213636 155.444656 \r\nL 474.213636 155.444656 \r\nL 469.986364 155.444656 \r\nz\r\n\" style=\"fill:#1f77b4;\"/>\r\n   </g>\r\n   <g id=\"patch_82\">\r\n    <path clip-path=\"url(#p90697adee8)\" d=\"M 474.213636 155.444656 \r\nL 478.440909 155.444656 \r\nL 478.440909 155.444656 \r\nL 474.213636 155.444656 \r\nz\r\n\" style=\"fill:#1f77b4;\"/>\r\n   </g>\r\n   <g id=\"patch_83\">\r\n    <path clip-path=\"url(#p90697adee8)\" d=\"M 478.440909 155.444656 \r\nL 482.668182 155.444656 \r\nL 482.668182 155.444656 \r\nL 478.440909 155.444656 \r\nz\r\n\" style=\"fill:#1f77b4;\"/>\r\n   </g>\r\n   <g id=\"patch_84\">\r\n    <path clip-path=\"url(#p90697adee8)\" d=\"M 482.668182 155.444656 \r\nL 486.895455 155.444656 \r\nL 486.895455 155.444656 \r\nL 482.668182 155.444656 \r\nz\r\n\" style=\"fill:#1f77b4;\"/>\r\n   </g>\r\n   <g id=\"patch_85\">\r\n    <path clip-path=\"url(#p90697adee8)\" d=\"M 486.895455 155.444656 \r\nL 491.122727 155.444656 \r\nL 491.122727 155.444656 \r\nL 486.895455 155.444656 \r\nz\r\n\" style=\"fill:#1f77b4;\"/>\r\n   </g>\r\n   <g id=\"patch_86\">\r\n    <path clip-path=\"url(#p90697adee8)\" d=\"M 491.122727 155.444656 \r\nL 495.35 155.444656 \r\nL 495.35 155.444656 \r\nL 491.122727 155.444656 \r\nz\r\n\" style=\"fill:#1f77b4;\"/>\r\n   </g>\r\n   <g id=\"patch_87\">\r\n    <path clip-path=\"url(#p90697adee8)\" d=\"M 495.35 155.444656 \r\nL 499.577273 155.444656 \r\nL 499.577273 155.444656 \r\nL 495.35 155.444656 \r\nz\r\n\" style=\"fill:#1f77b4;\"/>\r\n   </g>\r\n   <g id=\"patch_88\">\r\n    <path clip-path=\"url(#p90697adee8)\" d=\"M 499.577273 155.444656 \r\nL 503.804545 155.444656 \r\nL 503.804545 155.444656 \r\nL 499.577273 155.444656 \r\nz\r\n\" style=\"fill:#1f77b4;\"/>\r\n   </g>\r\n   <g id=\"patch_89\">\r\n    <path clip-path=\"url(#p90697adee8)\" d=\"M 503.804545 155.444656 \r\nL 508.031818 155.444656 \r\nL 508.031818 155.444656 \r\nL 503.804545 155.444656 \r\nz\r\n\" style=\"fill:#1f77b4;\"/>\r\n   </g>\r\n   <g id=\"patch_90\">\r\n    <path clip-path=\"url(#p90697adee8)\" d=\"M 508.031818 155.444656 \r\nL 512.259091 155.444656 \r\nL 512.259091 155.444656 \r\nL 508.031818 155.444656 \r\nz\r\n\" style=\"fill:#1f77b4;\"/>\r\n   </g>\r\n   <g id=\"patch_91\">\r\n    <path clip-path=\"url(#p90697adee8)\" d=\"M 512.259091 155.444656 \r\nL 516.486364 155.444656 \r\nL 516.486364 155.444656 \r\nL 512.259091 155.444656 \r\nz\r\n\" style=\"fill:#1f77b4;\"/>\r\n   </g>\r\n   <g id=\"patch_92\">\r\n    <path clip-path=\"url(#p90697adee8)\" d=\"M 516.486364 155.444656 \r\nL 520.713636 155.444656 \r\nL 520.713636 155.444656 \r\nL 516.486364 155.444656 \r\nz\r\n\" style=\"fill:#1f77b4;\"/>\r\n   </g>\r\n   <g id=\"patch_93\">\r\n    <path clip-path=\"url(#p90697adee8)\" d=\"M 520.713636 155.444656 \r\nL 524.940909 155.444656 \r\nL 524.940909 155.444656 \r\nL 520.713636 155.444656 \r\nz\r\n\" style=\"fill:#1f77b4;\"/>\r\n   </g>\r\n   <g id=\"patch_94\">\r\n    <path clip-path=\"url(#p90697adee8)\" d=\"M 524.940909 155.444656 \r\nL 529.168182 155.444656 \r\nL 529.168182 155.444656 \r\nL 524.940909 155.444656 \r\nz\r\n\" style=\"fill:#1f77b4;\"/>\r\n   </g>\r\n   <g id=\"patch_95\">\r\n    <path clip-path=\"url(#p90697adee8)\" d=\"M 529.168182 155.444656 \r\nL 533.395455 155.444656 \r\nL 533.395455 155.444656 \r\nL 529.168182 155.444656 \r\nz\r\n\" style=\"fill:#1f77b4;\"/>\r\n   </g>\r\n   <g id=\"patch_96\">\r\n    <path clip-path=\"url(#p90697adee8)\" d=\"M 533.395455 155.444656 \r\nL 537.622727 155.444656 \r\nL 537.622727 155.444656 \r\nL 533.395455 155.444656 \r\nz\r\n\" style=\"fill:#1f77b4;\"/>\r\n   </g>\r\n   <g id=\"patch_97\">\r\n    <path clip-path=\"url(#p90697adee8)\" d=\"M 537.622727 155.444656 \r\nL 541.85 155.444656 \r\nL 541.85 155.444656 \r\nL 537.622727 155.444656 \r\nz\r\n\" style=\"fill:#1f77b4;\"/>\r\n   </g>\r\n   <g id=\"patch_98\">\r\n    <path clip-path=\"url(#p90697adee8)\" d=\"M 541.85 155.444656 \r\nL 546.077273 155.444656 \r\nL 546.077273 155.444656 \r\nL 541.85 155.444656 \r\nz\r\n\" style=\"fill:#1f77b4;\"/>\r\n   </g>\r\n   <g id=\"patch_99\">\r\n    <path clip-path=\"url(#p90697adee8)\" d=\"M 546.077273 155.444656 \r\nL 550.304545 155.444656 \r\nL 550.304545 155.444656 \r\nL 546.077273 155.444656 \r\nz\r\n\" style=\"fill:#1f77b4;\"/>\r\n   </g>\r\n   <g id=\"patch_100\">\r\n    <path clip-path=\"url(#p90697adee8)\" d=\"M 550.304545 155.444656 \r\nL 554.531818 155.444656 \r\nL 554.531818 155.444656 \r\nL 550.304545 155.444656 \r\nz\r\n\" style=\"fill:#1f77b4;\"/>\r\n   </g>\r\n   <g id=\"patch_101\">\r\n    <path clip-path=\"url(#p90697adee8)\" d=\"M 554.531818 155.444656 \r\nL 558.759091 155.444656 \r\nL 558.759091 155.444656 \r\nL 554.531818 155.444656 \r\nz\r\n\" style=\"fill:#1f77b4;\"/>\r\n   </g>\r\n   <g id=\"patch_102\">\r\n    <path clip-path=\"url(#p90697adee8)\" d=\"M 558.759091 155.444656 \r\nL 562.986364 155.444656 \r\nL 562.986364 155.444656 \r\nL 558.759091 155.444656 \r\nz\r\n\" style=\"fill:#1f77b4;\"/>\r\n   </g>\r\n   <g id=\"patch_103\">\r\n    <path clip-path=\"url(#p90697adee8)\" d=\"M 562.986364 155.444656 \r\nL 567.213636 155.444656 \r\nL 567.213636 155.444656 \r\nL 562.986364 155.444656 \r\nz\r\n\" style=\"fill:#1f77b4;\"/>\r\n   </g>\r\n   <g id=\"patch_104\">\r\n    <path clip-path=\"url(#p90697adee8)\" d=\"M 567.213636 155.444656 \r\nL 571.440909 155.444656 \r\nL 571.440909 155.444656 \r\nL 567.213636 155.444656 \r\nz\r\n\" style=\"fill:#1f77b4;\"/>\r\n   </g>\r\n   <g id=\"patch_105\">\r\n    <path clip-path=\"url(#p90697adee8)\" d=\"M 571.440909 155.444656 \r\nL 575.668182 155.444656 \r\nL 575.668182 155.444656 \r\nL 571.440909 155.444656 \r\nz\r\n\" style=\"fill:#1f77b4;\"/>\r\n   </g>\r\n   <g id=\"patch_106\">\r\n    <path clip-path=\"url(#p90697adee8)\" d=\"M 575.668182 155.444656 \r\nL 579.895455 155.444656 \r\nL 579.895455 155.444656 \r\nL 575.668182 155.444656 \r\nz\r\n\" style=\"fill:#1f77b4;\"/>\r\n   </g>\r\n   <g id=\"patch_107\">\r\n    <path clip-path=\"url(#p90697adee8)\" d=\"M 579.895455 155.444656 \r\nL 584.122727 155.444656 \r\nL 584.122727 155.444656 \r\nL 579.895455 155.444656 \r\nz\r\n\" style=\"fill:#1f77b4;\"/>\r\n   </g>\r\n   <g id=\"patch_108\">\r\n    <path clip-path=\"url(#p90697adee8)\" d=\"M 584.122727 155.444656 \r\nL 588.35 155.444656 \r\nL 588.35 155.444656 \r\nL 584.122727 155.444656 \r\nz\r\n\" style=\"fill:#1f77b4;\"/>\r\n   </g>\r\n   <g id=\"patch_109\">\r\n    <path clip-path=\"url(#p90697adee8)\" d=\"M 588.35 155.444656 \r\nL 592.577273 155.444656 \r\nL 592.577273 155.444656 \r\nL 588.35 155.444656 \r\nz\r\n\" style=\"fill:#1f77b4;\"/>\r\n   </g>\r\n   <g id=\"patch_110\">\r\n    <path clip-path=\"url(#p90697adee8)\" d=\"M 592.577273 155.444656 \r\nL 596.804545 155.444656 \r\nL 596.804545 155.444656 \r\nL 592.577273 155.444656 \r\nz\r\n\" style=\"fill:#1f77b4;\"/>\r\n   </g>\r\n   <g id=\"patch_111\">\r\n    <path clip-path=\"url(#p90697adee8)\" d=\"M 596.804545 155.444656 \r\nL 601.031818 155.444656 \r\nL 601.031818 155.444656 \r\nL 596.804545 155.444656 \r\nz\r\n\" style=\"fill:#1f77b4;\"/>\r\n   </g>\r\n   <g id=\"patch_112\">\r\n    <path clip-path=\"url(#p90697adee8)\" d=\"M 601.031818 155.444656 \r\nL 605.259091 155.444656 \r\nL 605.259091 155.444656 \r\nL 601.031818 155.444656 \r\nz\r\n\" style=\"fill:#1f77b4;\"/>\r\n   </g>\r\n   <g id=\"patch_113\">\r\n    <path clip-path=\"url(#p90697adee8)\" d=\"M 605.259091 155.444656 \r\nL 609.486364 155.444656 \r\nL 609.486364 155.444656 \r\nL 605.259091 155.444656 \r\nz\r\n\" style=\"fill:#1f77b4;\"/>\r\n   </g>\r\n   <g id=\"patch_114\">\r\n    <path clip-path=\"url(#p90697adee8)\" d=\"M 609.486364 155.444656 \r\nL 613.713636 155.444656 \r\nL 613.713636 155.444656 \r\nL 609.486364 155.444656 \r\nz\r\n\" style=\"fill:#1f77b4;\"/>\r\n   </g>\r\n   <g id=\"patch_115\">\r\n    <path clip-path=\"url(#p90697adee8)\" d=\"M 613.713636 155.444656 \r\nL 617.940909 155.444656 \r\nL 617.940909 155.444656 \r\nL 613.713636 155.444656 \r\nz\r\n\" style=\"fill:#1f77b4;\"/>\r\n   </g>\r\n   <g id=\"patch_116\">\r\n    <path clip-path=\"url(#p90697adee8)\" d=\"M 617.940909 155.444656 \r\nL 622.168182 155.444656 \r\nL 622.168182 155.444656 \r\nL 617.940909 155.444656 \r\nz\r\n\" style=\"fill:#1f77b4;\"/>\r\n   </g>\r\n   <g id=\"patch_117\">\r\n    <path clip-path=\"url(#p90697adee8)\" d=\"M 622.168182 155.444656 \r\nL 626.395455 155.444656 \r\nL 626.395455 155.444656 \r\nL 622.168182 155.444656 \r\nz\r\n\" style=\"fill:#1f77b4;\"/>\r\n   </g>\r\n   <g id=\"patch_118\">\r\n    <path clip-path=\"url(#p90697adee8)\" d=\"M 626.395455 155.444656 \r\nL 630.622727 155.444656 \r\nL 630.622727 155.444656 \r\nL 626.395455 155.444656 \r\nz\r\n\" style=\"fill:#1f77b4;\"/>\r\n   </g>\r\n   <g id=\"patch_119\">\r\n    <path clip-path=\"url(#p90697adee8)\" d=\"M 630.622727 155.444656 \r\nL 634.85 155.444656 \r\nL 634.85 155.444656 \r\nL 630.622727 155.444656 \r\nz\r\n\" style=\"fill:#1f77b4;\"/>\r\n   </g>\r\n   <g id=\"patch_120\">\r\n    <path clip-path=\"url(#p90697adee8)\" d=\"M 634.85 155.444656 \r\nL 639.077273 155.444656 \r\nL 639.077273 155.444656 \r\nL 634.85 155.444656 \r\nz\r\n\" style=\"fill:#1f77b4;\"/>\r\n   </g>\r\n   <g id=\"patch_121\">\r\n    <path clip-path=\"url(#p90697adee8)\" d=\"M 639.077273 155.444656 \r\nL 643.304545 155.444656 \r\nL 643.304545 155.444656 \r\nL 639.077273 155.444656 \r\nz\r\n\" style=\"fill:#1f77b4;\"/>\r\n   </g>\r\n   <g id=\"patch_122\">\r\n    <path clip-path=\"url(#p90697adee8)\" d=\"M 643.304545 155.444656 \r\nL 647.531818 155.444656 \r\nL 647.531818 155.444656 \r\nL 643.304545 155.444656 \r\nz\r\n\" style=\"fill:#1f77b4;\"/>\r\n   </g>\r\n   <g id=\"patch_123\">\r\n    <path clip-path=\"url(#p90697adee8)\" d=\"M 647.531818 155.444656 \r\nL 651.759091 155.444656 \r\nL 651.759091 155.444656 \r\nL 647.531818 155.444656 \r\nz\r\n\" style=\"fill:#1f77b4;\"/>\r\n   </g>\r\n   <g id=\"patch_124\">\r\n    <path clip-path=\"url(#p90697adee8)\" d=\"M 651.759091 155.444656 \r\nL 655.986364 155.444656 \r\nL 655.986364 155.444656 \r\nL 651.759091 155.444656 \r\nz\r\n\" style=\"fill:#1f77b4;\"/>\r\n   </g>\r\n   <g id=\"patch_125\">\r\n    <path clip-path=\"url(#p90697adee8)\" d=\"M 655.986364 155.444656 \r\nL 660.213636 155.444656 \r\nL 660.213636 155.444656 \r\nL 655.986364 155.444656 \r\nz\r\n\" style=\"fill:#1f77b4;\"/>\r\n   </g>\r\n   <g id=\"patch_126\">\r\n    <path clip-path=\"url(#p90697adee8)\" d=\"M 660.213636 155.444656 \r\nL 664.440909 155.444656 \r\nL 664.440909 155.444656 \r\nL 660.213636 155.444656 \r\nz\r\n\" style=\"fill:#1f77b4;\"/>\r\n   </g>\r\n   <g id=\"patch_127\">\r\n    <path clip-path=\"url(#p90697adee8)\" d=\"M 664.440909 155.444656 \r\nL 668.668182 155.444656 \r\nL 668.668182 78.594517 \r\nL 664.440909 78.594517 \r\nz\r\n\" style=\"fill:#1f77b4;\"/>\r\n   </g>\r\n   <g id=\"matplotlib.axis_3\">\r\n    <g id=\"xtick_8\">\r\n     <g id=\"line2d_25\">\r\n      <path clip-path=\"url(#p90697adee8)\" d=\"M 415.031818 155.444656 \r\nL 415.031818 22.318125 \r\n\" style=\"fill:none;stroke:#b0b0b0;stroke-linecap:square;stroke-width:0.8;\"/>\r\n     </g>\r\n     <g id=\"line2d_26\">\r\n      <g>\r\n       <use style=\"stroke:#000000;stroke-width:0.8;\" x=\"415.031818\" xlink:href=\"#mb4638e5f59\" y=\"155.444656\"/>\r\n      </g>\r\n     </g>\r\n     <g id=\"text_14\">\r\n      <!-- 0.0 -->\r\n      <g transform=\"translate(407.080256 170.043093)scale(0.1 -0.1)\">\r\n       <defs>\r\n        <path d=\"M 684 794 \r\nL 1344 794 \r\nL 1344 0 \r\nL 684 0 \r\nL 684 794 \r\nz\r\n\" id=\"DejaVuSans-2e\" transform=\"scale(0.015625)\"/>\r\n       </defs>\r\n       <use xlink:href=\"#DejaVuSans-30\"/>\r\n       <use x=\"63.623047\" xlink:href=\"#DejaVuSans-2e\"/>\r\n       <use x=\"95.410156\" xlink:href=\"#DejaVuSans-30\"/>\r\n      </g>\r\n     </g>\r\n    </g>\r\n    <g id=\"xtick_9\">\r\n     <g id=\"line2d_27\">\r\n      <path clip-path=\"url(#p90697adee8)\" d=\"M 465.759091 155.444656 \r\nL 465.759091 22.318125 \r\n\" style=\"fill:none;stroke:#b0b0b0;stroke-linecap:square;stroke-width:0.8;\"/>\r\n     </g>\r\n     <g id=\"line2d_28\">\r\n      <g>\r\n       <use style=\"stroke:#000000;stroke-width:0.8;\" x=\"465.759091\" xlink:href=\"#mb4638e5f59\" y=\"155.444656\"/>\r\n      </g>\r\n     </g>\r\n     <g id=\"text_15\">\r\n      <!-- 0.2 -->\r\n      <g transform=\"translate(457.807528 170.043093)scale(0.1 -0.1)\">\r\n       <use xlink:href=\"#DejaVuSans-30\"/>\r\n       <use x=\"63.623047\" xlink:href=\"#DejaVuSans-2e\"/>\r\n       <use x=\"95.410156\" xlink:href=\"#DejaVuSans-32\"/>\r\n      </g>\r\n     </g>\r\n    </g>\r\n    <g id=\"xtick_10\">\r\n     <g id=\"line2d_29\">\r\n      <path clip-path=\"url(#p90697adee8)\" d=\"M 516.486364 155.444656 \r\nL 516.486364 22.318125 \r\n\" style=\"fill:none;stroke:#b0b0b0;stroke-linecap:square;stroke-width:0.8;\"/>\r\n     </g>\r\n     <g id=\"line2d_30\">\r\n      <g>\r\n       <use style=\"stroke:#000000;stroke-width:0.8;\" x=\"516.486364\" xlink:href=\"#mb4638e5f59\" y=\"155.444656\"/>\r\n      </g>\r\n     </g>\r\n     <g id=\"text_16\">\r\n      <!-- 0.4 -->\r\n      <g transform=\"translate(508.534801 170.043093)scale(0.1 -0.1)\">\r\n       <use xlink:href=\"#DejaVuSans-30\"/>\r\n       <use x=\"63.623047\" xlink:href=\"#DejaVuSans-2e\"/>\r\n       <use x=\"95.410156\" xlink:href=\"#DejaVuSans-34\"/>\r\n      </g>\r\n     </g>\r\n    </g>\r\n    <g id=\"xtick_11\">\r\n     <g id=\"line2d_31\">\r\n      <path clip-path=\"url(#p90697adee8)\" d=\"M 567.213636 155.444656 \r\nL 567.213636 22.318125 \r\n\" style=\"fill:none;stroke:#b0b0b0;stroke-linecap:square;stroke-width:0.8;\"/>\r\n     </g>\r\n     <g id=\"line2d_32\">\r\n      <g>\r\n       <use style=\"stroke:#000000;stroke-width:0.8;\" x=\"567.213636\" xlink:href=\"#mb4638e5f59\" y=\"155.444656\"/>\r\n      </g>\r\n     </g>\r\n     <g id=\"text_17\">\r\n      <!-- 0.6 -->\r\n      <g transform=\"translate(559.262074 170.043093)scale(0.1 -0.1)\">\r\n       <use xlink:href=\"#DejaVuSans-30\"/>\r\n       <use x=\"63.623047\" xlink:href=\"#DejaVuSans-2e\"/>\r\n       <use x=\"95.410156\" xlink:href=\"#DejaVuSans-36\"/>\r\n      </g>\r\n     </g>\r\n    </g>\r\n    <g id=\"xtick_12\">\r\n     <g id=\"line2d_33\">\r\n      <path clip-path=\"url(#p90697adee8)\" d=\"M 617.940909 155.444656 \r\nL 617.940909 22.318125 \r\n\" style=\"fill:none;stroke:#b0b0b0;stroke-linecap:square;stroke-width:0.8;\"/>\r\n     </g>\r\n     <g id=\"line2d_34\">\r\n      <g>\r\n       <use style=\"stroke:#000000;stroke-width:0.8;\" x=\"617.940909\" xlink:href=\"#mb4638e5f59\" y=\"155.444656\"/>\r\n      </g>\r\n     </g>\r\n     <g id=\"text_18\">\r\n      <!-- 0.8 -->\r\n      <g transform=\"translate(609.989347 170.043093)scale(0.1 -0.1)\">\r\n       <use xlink:href=\"#DejaVuSans-30\"/>\r\n       <use x=\"63.623047\" xlink:href=\"#DejaVuSans-2e\"/>\r\n       <use x=\"95.410156\" xlink:href=\"#DejaVuSans-38\"/>\r\n      </g>\r\n     </g>\r\n    </g>\r\n    <g id=\"xtick_13\">\r\n     <g id=\"line2d_35\">\r\n      <path clip-path=\"url(#p90697adee8)\" d=\"M 668.668182 155.444656 \r\nL 668.668182 22.318125 \r\n\" style=\"fill:none;stroke:#b0b0b0;stroke-linecap:square;stroke-width:0.8;\"/>\r\n     </g>\r\n     <g id=\"line2d_36\">\r\n      <g>\r\n       <use style=\"stroke:#000000;stroke-width:0.8;\" x=\"668.668182\" xlink:href=\"#mb4638e5f59\" y=\"155.444656\"/>\r\n      </g>\r\n     </g>\r\n     <g id=\"text_19\">\r\n      <!-- 1.0 -->\r\n      <g transform=\"translate(660.716619 170.043093)scale(0.1 -0.1)\">\r\n       <use xlink:href=\"#DejaVuSans-31\"/>\r\n       <use x=\"63.623047\" xlink:href=\"#DejaVuSans-2e\"/>\r\n       <use x=\"95.410156\" xlink:href=\"#DejaVuSans-30\"/>\r\n      </g>\r\n     </g>\r\n    </g>\r\n   </g>\r\n   <g id=\"matplotlib.axis_4\">\r\n    <g id=\"ytick_6\">\r\n     <g id=\"line2d_37\">\r\n      <path clip-path=\"url(#p90697adee8)\" d=\"M 402.35 155.444656 \r\nL 681.35 155.444656 \r\n\" style=\"fill:none;stroke:#b0b0b0;stroke-linecap:square;stroke-width:0.8;\"/>\r\n     </g>\r\n     <g id=\"line2d_38\">\r\n      <g>\r\n       <use style=\"stroke:#000000;stroke-width:0.8;\" x=\"402.35\" xlink:href=\"#m2a7d614687\" y=\"155.444656\"/>\r\n      </g>\r\n     </g>\r\n     <g id=\"text_20\">\r\n      <!-- 0 -->\r\n      <g transform=\"translate(388.9875 159.243874)scale(0.1 -0.1)\">\r\n       <use xlink:href=\"#DejaVuSans-30\"/>\r\n      </g>\r\n     </g>\r\n    </g>\r\n    <g id=\"ytick_7\">\r\n     <g id=\"line2d_39\">\r\n      <path clip-path=\"url(#p90697adee8)\" d=\"M 402.35 124.331239 \r\nL 681.35 124.331239 \r\n\" style=\"fill:none;stroke:#b0b0b0;stroke-linecap:square;stroke-width:0.8;\"/>\r\n     </g>\r\n     <g id=\"line2d_40\">\r\n      <g>\r\n       <use style=\"stroke:#000000;stroke-width:0.8;\" x=\"402.35\" xlink:href=\"#m2a7d614687\" y=\"124.331239\"/>\r\n      </g>\r\n     </g>\r\n     <g id=\"text_21\">\r\n      <!-- 200 -->\r\n      <g transform=\"translate(376.2625 128.130458)scale(0.1 -0.1)\">\r\n       <use xlink:href=\"#DejaVuSans-32\"/>\r\n       <use x=\"63.623047\" xlink:href=\"#DejaVuSans-30\"/>\r\n       <use x=\"127.246094\" xlink:href=\"#DejaVuSans-30\"/>\r\n      </g>\r\n     </g>\r\n    </g>\r\n    <g id=\"ytick_8\">\r\n     <g id=\"line2d_41\">\r\n      <path clip-path=\"url(#p90697adee8)\" d=\"M 402.35 93.217823 \r\nL 681.35 93.217823 \r\n\" style=\"fill:none;stroke:#b0b0b0;stroke-linecap:square;stroke-width:0.8;\"/>\r\n     </g>\r\n     <g id=\"line2d_42\">\r\n      <g>\r\n       <use style=\"stroke:#000000;stroke-width:0.8;\" x=\"402.35\" xlink:href=\"#m2a7d614687\" y=\"93.217823\"/>\r\n      </g>\r\n     </g>\r\n     <g id=\"text_22\">\r\n      <!-- 400 -->\r\n      <g transform=\"translate(376.2625 97.017041)scale(0.1 -0.1)\">\r\n       <use xlink:href=\"#DejaVuSans-34\"/>\r\n       <use x=\"63.623047\" xlink:href=\"#DejaVuSans-30\"/>\r\n       <use x=\"127.246094\" xlink:href=\"#DejaVuSans-30\"/>\r\n      </g>\r\n     </g>\r\n    </g>\r\n    <g id=\"ytick_9\">\r\n     <g id=\"line2d_43\">\r\n      <path clip-path=\"url(#p90697adee8)\" d=\"M 402.35 62.104406 \r\nL 681.35 62.104406 \r\n\" style=\"fill:none;stroke:#b0b0b0;stroke-linecap:square;stroke-width:0.8;\"/>\r\n     </g>\r\n     <g id=\"line2d_44\">\r\n      <g>\r\n       <use style=\"stroke:#000000;stroke-width:0.8;\" x=\"402.35\" xlink:href=\"#m2a7d614687\" y=\"62.104406\"/>\r\n      </g>\r\n     </g>\r\n     <g id=\"text_23\">\r\n      <!-- 600 -->\r\n      <g transform=\"translate(376.2625 65.903625)scale(0.1 -0.1)\">\r\n       <use xlink:href=\"#DejaVuSans-36\"/>\r\n       <use x=\"63.623047\" xlink:href=\"#DejaVuSans-30\"/>\r\n       <use x=\"127.246094\" xlink:href=\"#DejaVuSans-30\"/>\r\n      </g>\r\n     </g>\r\n    </g>\r\n    <g id=\"ytick_10\">\r\n     <g id=\"line2d_45\">\r\n      <path clip-path=\"url(#p90697adee8)\" d=\"M 402.35 30.99099 \r\nL 681.35 30.99099 \r\n\" style=\"fill:none;stroke:#b0b0b0;stroke-linecap:square;stroke-width:0.8;\"/>\r\n     </g>\r\n     <g id=\"line2d_46\">\r\n      <g>\r\n       <use style=\"stroke:#000000;stroke-width:0.8;\" x=\"402.35\" xlink:href=\"#m2a7d614687\" y=\"30.99099\"/>\r\n      </g>\r\n     </g>\r\n     <g id=\"text_24\">\r\n      <!-- 800 -->\r\n      <g transform=\"translate(376.2625 34.790209)scale(0.1 -0.1)\">\r\n       <use xlink:href=\"#DejaVuSans-38\"/>\r\n       <use x=\"63.623047\" xlink:href=\"#DejaVuSans-30\"/>\r\n       <use x=\"127.246094\" xlink:href=\"#DejaVuSans-30\"/>\r\n      </g>\r\n     </g>\r\n    </g>\r\n   </g>\r\n   <g id=\"patch_128\">\r\n    <path d=\"M 402.35 155.444656 \r\nL 402.35 22.318125 \r\n\" style=\"fill:none;stroke:#000000;stroke-linecap:square;stroke-linejoin:miter;stroke-width:0.8;\"/>\r\n   </g>\r\n   <g id=\"patch_129\">\r\n    <path d=\"M 681.35 155.444656 \r\nL 681.35 22.318125 \r\n\" style=\"fill:none;stroke:#000000;stroke-linecap:square;stroke-linejoin:miter;stroke-width:0.8;\"/>\r\n   </g>\r\n   <g id=\"patch_130\">\r\n    <path d=\"M 402.35 155.444656 \r\nL 681.35 155.444656 \r\n\" style=\"fill:none;stroke:#000000;stroke-linecap:square;stroke-linejoin:miter;stroke-width:0.8;\"/>\r\n   </g>\r\n   <g id=\"patch_131\">\r\n    <path d=\"M 402.35 22.318125 \r\nL 681.35 22.318125 \r\n\" style=\"fill:none;stroke:#000000;stroke-linecap:square;stroke-linejoin:miter;stroke-width:0.8;\"/>\r\n   </g>\r\n   <g id=\"text_25\">\r\n    <!-- Survived -->\r\n    <g transform=\"translate(515.501562 16.318125)scale(0.12 -0.12)\">\r\n     <defs>\r\n      <path d=\"M 3425 4513 \r\nL 3425 3897 \r\nQ 3066 4069 2747 4153 \r\nQ 2428 4238 2131 4238 \r\nQ 1616 4238 1336 4038 \r\nQ 1056 3838 1056 3469 \r\nQ 1056 3159 1242 3001 \r\nQ 1428 2844 1947 2747 \r\nL 2328 2669 \r\nQ 3034 2534 3370 2195 \r\nQ 3706 1856 3706 1288 \r\nQ 3706 609 3251 259 \r\nQ 2797 -91 1919 -91 \r\nQ 1588 -91 1214 -16 \r\nQ 841 59 441 206 \r\nL 441 856 \r\nQ 825 641 1194 531 \r\nQ 1563 422 1919 422 \r\nQ 2459 422 2753 634 \r\nQ 3047 847 3047 1241 \r\nQ 3047 1584 2836 1778 \r\nQ 2625 1972 2144 2069 \r\nL 1759 2144 \r\nQ 1053 2284 737 2584 \r\nQ 422 2884 422 3419 \r\nQ 422 4038 858 4394 \r\nQ 1294 4750 2059 4750 \r\nQ 2388 4750 2728 4690 \r\nQ 3069 4631 3425 4513 \r\nz\r\n\" id=\"DejaVuSans-53\" transform=\"scale(0.015625)\"/>\r\n      <path d=\"M 544 1381 \r\nL 544 3500 \r\nL 1119 3500 \r\nL 1119 1403 \r\nQ 1119 906 1312 657 \r\nQ 1506 409 1894 409 \r\nQ 2359 409 2629 706 \r\nQ 2900 1003 2900 1516 \r\nL 2900 3500 \r\nL 3475 3500 \r\nL 3475 0 \r\nL 2900 0 \r\nL 2900 538 \r\nQ 2691 219 2414 64 \r\nQ 2138 -91 1772 -91 \r\nQ 1169 -91 856 284 \r\nQ 544 659 544 1381 \r\nz\r\nM 1991 3584 \r\nL 1991 3584 \r\nz\r\n\" id=\"DejaVuSans-75\" transform=\"scale(0.015625)\"/>\r\n      <path d=\"M 191 3500 \r\nL 800 3500 \r\nL 1894 563 \r\nL 2988 3500 \r\nL 3597 3500 \r\nL 2284 0 \r\nL 1503 0 \r\nL 191 3500 \r\nz\r\n\" id=\"DejaVuSans-76\" transform=\"scale(0.015625)\"/>\r\n      <path d=\"M 603 3500 \r\nL 1178 3500 \r\nL 1178 0 \r\nL 603 0 \r\nL 603 3500 \r\nz\r\nM 603 4863 \r\nL 1178 4863 \r\nL 1178 4134 \r\nL 603 4134 \r\nL 603 4863 \r\nz\r\n\" id=\"DejaVuSans-69\" transform=\"scale(0.015625)\"/>\r\n     </defs>\r\n     <use xlink:href=\"#DejaVuSans-53\"/>\r\n     <use x=\"63.476562\" xlink:href=\"#DejaVuSans-75\"/>\r\n     <use x=\"126.855469\" xlink:href=\"#DejaVuSans-72\"/>\r\n     <use x=\"167.96875\" xlink:href=\"#DejaVuSans-76\"/>\r\n     <use x=\"227.148438\" xlink:href=\"#DejaVuSans-69\"/>\r\n     <use x=\"254.931641\" xlink:href=\"#DejaVuSans-76\"/>\r\n     <use x=\"314.111328\" xlink:href=\"#DejaVuSans-65\"/>\r\n     <use x=\"375.634766\" xlink:href=\"#DejaVuSans-64\"/>\r\n    </g>\r\n   </g>\r\n  </g>\r\n  <g id=\"axes_3\">\r\n   <g id=\"patch_132\">\r\n    <path d=\"M 765.05 155.444656 \r\nL 1044.05 155.444656 \r\nL 1044.05 22.318125 \r\nL 765.05 22.318125 \r\nz\r\n\" style=\"fill:#ffffff;\"/>\r\n   </g>\r\n   <g id=\"patch_133\">\r\n    <path clip-path=\"url(#p10e436012a)\" d=\"M 777.731818 155.444656 \r\nL 781.959091 155.444656 \r\nL 781.959091 97.684068 \r\nL 777.731818 97.684068 \r\nz\r\n\" style=\"fill:#1f77b4;\"/>\r\n   </g>\r\n   <g id=\"patch_134\">\r\n    <path clip-path=\"url(#p10e436012a)\" d=\"M 781.959091 155.444656 \r\nL 786.186364 155.444656 \r\nL 786.186364 155.444656 \r\nL 781.959091 155.444656 \r\nz\r\n\" style=\"fill:#1f77b4;\"/>\r\n   </g>\r\n   <g id=\"patch_135\">\r\n    <path clip-path=\"url(#p10e436012a)\" d=\"M 786.186364 155.444656 \r\nL 790.413636 155.444656 \r\nL 790.413636 155.444656 \r\nL 786.186364 155.444656 \r\nz\r\n\" style=\"fill:#1f77b4;\"/>\r\n   </g>\r\n   <g id=\"patch_136\">\r\n    <path clip-path=\"url(#p10e436012a)\" d=\"M 790.413636 155.444656 \r\nL 794.640909 155.444656 \r\nL 794.640909 155.444656 \r\nL 790.413636 155.444656 \r\nz\r\n\" style=\"fill:#1f77b4;\"/>\r\n   </g>\r\n   <g id=\"patch_137\">\r\n    <path clip-path=\"url(#p10e436012a)\" d=\"M 794.640909 155.444656 \r\nL 798.868182 155.444656 \r\nL 798.868182 155.444656 \r\nL 794.640909 155.444656 \r\nz\r\n\" style=\"fill:#1f77b4;\"/>\r\n   </g>\r\n   <g id=\"patch_138\">\r\n    <path clip-path=\"url(#p10e436012a)\" d=\"M 798.868182 155.444656 \r\nL 803.095455 155.444656 \r\nL 803.095455 155.444656 \r\nL 798.868182 155.444656 \r\nz\r\n\" style=\"fill:#1f77b4;\"/>\r\n   </g>\r\n   <g id=\"patch_139\">\r\n    <path clip-path=\"url(#p10e436012a)\" d=\"M 803.095455 155.444656 \r\nL 807.322727 155.444656 \r\nL 807.322727 155.444656 \r\nL 803.095455 155.444656 \r\nz\r\n\" style=\"fill:#1f77b4;\"/>\r\n   </g>\r\n   <g id=\"patch_140\">\r\n    <path clip-path=\"url(#p10e436012a)\" d=\"M 807.322727 155.444656 \r\nL 811.55 155.444656 \r\nL 811.55 155.444656 \r\nL 807.322727 155.444656 \r\nz\r\n\" style=\"fill:#1f77b4;\"/>\r\n   </g>\r\n   <g id=\"patch_141\">\r\n    <path clip-path=\"url(#p10e436012a)\" d=\"M 811.55 155.444656 \r\nL 815.777273 155.444656 \r\nL 815.777273 155.444656 \r\nL 811.55 155.444656 \r\nz\r\n\" style=\"fill:#1f77b4;\"/>\r\n   </g>\r\n   <g id=\"patch_142\">\r\n    <path clip-path=\"url(#p10e436012a)\" d=\"M 815.777273 155.444656 \r\nL 820.004545 155.444656 \r\nL 820.004545 155.444656 \r\nL 815.777273 155.444656 \r\nz\r\n\" style=\"fill:#1f77b4;\"/>\r\n   </g>\r\n   <g id=\"patch_143\">\r\n    <path clip-path=\"url(#p10e436012a)\" d=\"M 820.004545 155.444656 \r\nL 824.231818 155.444656 \r\nL 824.231818 155.444656 \r\nL 820.004545 155.444656 \r\nz\r\n\" style=\"fill:#1f77b4;\"/>\r\n   </g>\r\n   <g id=\"patch_144\">\r\n    <path clip-path=\"url(#p10e436012a)\" d=\"M 824.231818 155.444656 \r\nL 828.459091 155.444656 \r\nL 828.459091 155.444656 \r\nL 824.231818 155.444656 \r\nz\r\n\" style=\"fill:#1f77b4;\"/>\r\n   </g>\r\n   <g id=\"patch_145\">\r\n    <path clip-path=\"url(#p10e436012a)\" d=\"M 828.459091 155.444656 \r\nL 832.686364 155.444656 \r\nL 832.686364 155.444656 \r\nL 828.459091 155.444656 \r\nz\r\n\" style=\"fill:#1f77b4;\"/>\r\n   </g>\r\n   <g id=\"patch_146\">\r\n    <path clip-path=\"url(#p10e436012a)\" d=\"M 832.686364 155.444656 \r\nL 836.913636 155.444656 \r\nL 836.913636 155.444656 \r\nL 832.686364 155.444656 \r\nz\r\n\" style=\"fill:#1f77b4;\"/>\r\n   </g>\r\n   <g id=\"patch_147\">\r\n    <path clip-path=\"url(#p10e436012a)\" d=\"M 836.913636 155.444656 \r\nL 841.140909 155.444656 \r\nL 841.140909 155.444656 \r\nL 836.913636 155.444656 \r\nz\r\n\" style=\"fill:#1f77b4;\"/>\r\n   </g>\r\n   <g id=\"patch_148\">\r\n    <path clip-path=\"url(#p10e436012a)\" d=\"M 841.140909 155.444656 \r\nL 845.368182 155.444656 \r\nL 845.368182 155.444656 \r\nL 841.140909 155.444656 \r\nz\r\n\" style=\"fill:#1f77b4;\"/>\r\n   </g>\r\n   <g id=\"patch_149\">\r\n    <path clip-path=\"url(#p10e436012a)\" d=\"M 845.368182 155.444656 \r\nL 849.595455 155.444656 \r\nL 849.595455 155.444656 \r\nL 845.368182 155.444656 \r\nz\r\n\" style=\"fill:#1f77b4;\"/>\r\n   </g>\r\n   <g id=\"patch_150\">\r\n    <path clip-path=\"url(#p10e436012a)\" d=\"M 849.595455 155.444656 \r\nL 853.822727 155.444656 \r\nL 853.822727 155.444656 \r\nL 849.595455 155.444656 \r\nz\r\n\" style=\"fill:#1f77b4;\"/>\r\n   </g>\r\n   <g id=\"patch_151\">\r\n    <path clip-path=\"url(#p10e436012a)\" d=\"M 853.822727 155.444656 \r\nL 858.05 155.444656 \r\nL 858.05 155.444656 \r\nL 853.822727 155.444656 \r\nz\r\n\" style=\"fill:#1f77b4;\"/>\r\n   </g>\r\n   <g id=\"patch_152\">\r\n    <path clip-path=\"url(#p10e436012a)\" d=\"M 858.05 155.444656 \r\nL 862.277273 155.444656 \r\nL 862.277273 155.444656 \r\nL 858.05 155.444656 \r\nz\r\n\" style=\"fill:#1f77b4;\"/>\r\n   </g>\r\n   <g id=\"patch_153\">\r\n    <path clip-path=\"url(#p10e436012a)\" d=\"M 862.277273 155.444656 \r\nL 866.504545 155.444656 \r\nL 866.504545 155.444656 \r\nL 862.277273 155.444656 \r\nz\r\n\" style=\"fill:#1f77b4;\"/>\r\n   </g>\r\n   <g id=\"patch_154\">\r\n    <path clip-path=\"url(#p10e436012a)\" d=\"M 866.504545 155.444656 \r\nL 870.731818 155.444656 \r\nL 870.731818 155.444656 \r\nL 866.504545 155.444656 \r\nz\r\n\" style=\"fill:#1f77b4;\"/>\r\n   </g>\r\n   <g id=\"patch_155\">\r\n    <path clip-path=\"url(#p10e436012a)\" d=\"M 870.731818 155.444656 \r\nL 874.959091 155.444656 \r\nL 874.959091 155.444656 \r\nL 870.731818 155.444656 \r\nz\r\n\" style=\"fill:#1f77b4;\"/>\r\n   </g>\r\n   <g id=\"patch_156\">\r\n    <path clip-path=\"url(#p10e436012a)\" d=\"M 874.959091 155.444656 \r\nL 879.186364 155.444656 \r\nL 879.186364 155.444656 \r\nL 874.959091 155.444656 \r\nz\r\n\" style=\"fill:#1f77b4;\"/>\r\n   </g>\r\n   <g id=\"patch_157\">\r\n    <path clip-path=\"url(#p10e436012a)\" d=\"M 879.186364 155.444656 \r\nL 883.413636 155.444656 \r\nL 883.413636 155.444656 \r\nL 879.186364 155.444656 \r\nz\r\n\" style=\"fill:#1f77b4;\"/>\r\n   </g>\r\n   <g id=\"patch_158\">\r\n    <path clip-path=\"url(#p10e436012a)\" d=\"M 883.413636 155.444656 \r\nL 887.640909 155.444656 \r\nL 887.640909 155.444656 \r\nL 883.413636 155.444656 \r\nz\r\n\" style=\"fill:#1f77b4;\"/>\r\n   </g>\r\n   <g id=\"patch_159\">\r\n    <path clip-path=\"url(#p10e436012a)\" d=\"M 887.640909 155.444656 \r\nL 891.868182 155.444656 \r\nL 891.868182 155.444656 \r\nL 887.640909 155.444656 \r\nz\r\n\" style=\"fill:#1f77b4;\"/>\r\n   </g>\r\n   <g id=\"patch_160\">\r\n    <path clip-path=\"url(#p10e436012a)\" d=\"M 891.868182 155.444656 \r\nL 896.095455 155.444656 \r\nL 896.095455 155.444656 \r\nL 891.868182 155.444656 \r\nz\r\n\" style=\"fill:#1f77b4;\"/>\r\n   </g>\r\n   <g id=\"patch_161\">\r\n    <path clip-path=\"url(#p10e436012a)\" d=\"M 896.095455 155.444656 \r\nL 900.322727 155.444656 \r\nL 900.322727 155.444656 \r\nL 896.095455 155.444656 \r\nz\r\n\" style=\"fill:#1f77b4;\"/>\r\n   </g>\r\n   <g id=\"patch_162\">\r\n    <path clip-path=\"url(#p10e436012a)\" d=\"M 900.322727 155.444656 \r\nL 904.55 155.444656 \r\nL 904.55 155.444656 \r\nL 900.322727 155.444656 \r\nz\r\n\" style=\"fill:#1f77b4;\"/>\r\n   </g>\r\n   <g id=\"patch_163\">\r\n    <path clip-path=\"url(#p10e436012a)\" d=\"M 904.55 155.444656 \r\nL 908.777273 155.444656 \r\nL 908.777273 105.910034 \r\nL 904.55 105.910034 \r\nz\r\n\" style=\"fill:#1f77b4;\"/>\r\n   </g>\r\n   <g id=\"patch_164\">\r\n    <path clip-path=\"url(#p10e436012a)\" d=\"M 908.777273 155.444656 \r\nL 913.004545 155.444656 \r\nL 913.004545 155.444656 \r\nL 908.777273 155.444656 \r\nz\r\n\" style=\"fill:#1f77b4;\"/>\r\n   </g>\r\n   <g id=\"patch_165\">\r\n    <path clip-path=\"url(#p10e436012a)\" d=\"M 913.004545 155.444656 \r\nL 917.231818 155.444656 \r\nL 917.231818 155.444656 \r\nL 913.004545 155.444656 \r\nz\r\n\" style=\"fill:#1f77b4;\"/>\r\n   </g>\r\n   <g id=\"patch_166\">\r\n    <path clip-path=\"url(#p10e436012a)\" d=\"M 917.231818 155.444656 \r\nL 921.459091 155.444656 \r\nL 921.459091 155.444656 \r\nL 917.231818 155.444656 \r\nz\r\n\" style=\"fill:#1f77b4;\"/>\r\n   </g>\r\n   <g id=\"patch_167\">\r\n    <path clip-path=\"url(#p10e436012a)\" d=\"M 921.459091 155.444656 \r\nL 925.686364 155.444656 \r\nL 925.686364 155.444656 \r\nL 921.459091 155.444656 \r\nz\r\n\" style=\"fill:#1f77b4;\"/>\r\n   </g>\r\n   <g id=\"patch_168\">\r\n    <path clip-path=\"url(#p10e436012a)\" d=\"M 925.686364 155.444656 \r\nL 929.913636 155.444656 \r\nL 929.913636 155.444656 \r\nL 925.686364 155.444656 \r\nz\r\n\" style=\"fill:#1f77b4;\"/>\r\n   </g>\r\n   <g id=\"patch_169\">\r\n    <path clip-path=\"url(#p10e436012a)\" d=\"M 929.913636 155.444656 \r\nL 934.140909 155.444656 \r\nL 934.140909 155.444656 \r\nL 929.913636 155.444656 \r\nz\r\n\" style=\"fill:#1f77b4;\"/>\r\n   </g>\r\n   <g id=\"patch_170\">\r\n    <path clip-path=\"url(#p10e436012a)\" d=\"M 934.140909 155.444656 \r\nL 938.368182 155.444656 \r\nL 938.368182 155.444656 \r\nL 934.140909 155.444656 \r\nz\r\n\" style=\"fill:#1f77b4;\"/>\r\n   </g>\r\n   <g id=\"patch_171\">\r\n    <path clip-path=\"url(#p10e436012a)\" d=\"M 938.368182 155.444656 \r\nL 942.595455 155.444656 \r\nL 942.595455 155.444656 \r\nL 938.368182 155.444656 \r\nz\r\n\" style=\"fill:#1f77b4;\"/>\r\n   </g>\r\n   <g id=\"patch_172\">\r\n    <path clip-path=\"url(#p10e436012a)\" d=\"M 942.595455 155.444656 \r\nL 946.822727 155.444656 \r\nL 946.822727 155.444656 \r\nL 942.595455 155.444656 \r\nz\r\n\" style=\"fill:#1f77b4;\"/>\r\n   </g>\r\n   <g id=\"patch_173\">\r\n    <path clip-path=\"url(#p10e436012a)\" d=\"M 946.822727 155.444656 \r\nL 951.05 155.444656 \r\nL 951.05 155.444656 \r\nL 946.822727 155.444656 \r\nz\r\n\" style=\"fill:#1f77b4;\"/>\r\n   </g>\r\n   <g id=\"patch_174\">\r\n    <path clip-path=\"url(#p10e436012a)\" d=\"M 951.05 155.444656 \r\nL 955.277273 155.444656 \r\nL 955.277273 155.444656 \r\nL 951.05 155.444656 \r\nz\r\n\" style=\"fill:#1f77b4;\"/>\r\n   </g>\r\n   <g id=\"patch_175\">\r\n    <path clip-path=\"url(#p10e436012a)\" d=\"M 955.277273 155.444656 \r\nL 959.504545 155.444656 \r\nL 959.504545 155.444656 \r\nL 955.277273 155.444656 \r\nz\r\n\" style=\"fill:#1f77b4;\"/>\r\n   </g>\r\n   <g id=\"patch_176\">\r\n    <path clip-path=\"url(#p10e436012a)\" d=\"M 959.504545 155.444656 \r\nL 963.731818 155.444656 \r\nL 963.731818 155.444656 \r\nL 959.504545 155.444656 \r\nz\r\n\" style=\"fill:#1f77b4;\"/>\r\n   </g>\r\n   <g id=\"patch_177\">\r\n    <path clip-path=\"url(#p10e436012a)\" d=\"M 963.731818 155.444656 \r\nL 967.959091 155.444656 \r\nL 967.959091 155.444656 \r\nL 963.731818 155.444656 \r\nz\r\n\" style=\"fill:#1f77b4;\"/>\r\n   </g>\r\n   <g id=\"patch_178\">\r\n    <path clip-path=\"url(#p10e436012a)\" d=\"M 967.959091 155.444656 \r\nL 972.186364 155.444656 \r\nL 972.186364 155.444656 \r\nL 967.959091 155.444656 \r\nz\r\n\" style=\"fill:#1f77b4;\"/>\r\n   </g>\r\n   <g id=\"patch_179\">\r\n    <path clip-path=\"url(#p10e436012a)\" d=\"M 972.186364 155.444656 \r\nL 976.413636 155.444656 \r\nL 976.413636 155.444656 \r\nL 972.186364 155.444656 \r\nz\r\n\" style=\"fill:#1f77b4;\"/>\r\n   </g>\r\n   <g id=\"patch_180\">\r\n    <path clip-path=\"url(#p10e436012a)\" d=\"M 976.413636 155.444656 \r\nL 980.640909 155.444656 \r\nL 980.640909 155.444656 \r\nL 976.413636 155.444656 \r\nz\r\n\" style=\"fill:#1f77b4;\"/>\r\n   </g>\r\n   <g id=\"patch_181\">\r\n    <path clip-path=\"url(#p10e436012a)\" d=\"M 980.640909 155.444656 \r\nL 984.868182 155.444656 \r\nL 984.868182 155.444656 \r\nL 980.640909 155.444656 \r\nz\r\n\" style=\"fill:#1f77b4;\"/>\r\n   </g>\r\n   <g id=\"patch_182\">\r\n    <path clip-path=\"url(#p10e436012a)\" d=\"M 984.868182 155.444656 \r\nL 989.095455 155.444656 \r\nL 989.095455 155.444656 \r\nL 984.868182 155.444656 \r\nz\r\n\" style=\"fill:#1f77b4;\"/>\r\n   </g>\r\n   <g id=\"patch_183\">\r\n    <path clip-path=\"url(#p10e436012a)\" d=\"M 989.095455 155.444656 \r\nL 993.322727 155.444656 \r\nL 993.322727 155.444656 \r\nL 989.095455 155.444656 \r\nz\r\n\" style=\"fill:#1f77b4;\"/>\r\n   </g>\r\n   <g id=\"patch_184\">\r\n    <path clip-path=\"url(#p10e436012a)\" d=\"M 993.322727 155.444656 \r\nL 997.55 155.444656 \r\nL 997.55 155.444656 \r\nL 993.322727 155.444656 \r\nz\r\n\" style=\"fill:#1f77b4;\"/>\r\n   </g>\r\n   <g id=\"patch_185\">\r\n    <path clip-path=\"url(#p10e436012a)\" d=\"M 997.55 155.444656 \r\nL 1001.777273 155.444656 \r\nL 1001.777273 155.444656 \r\nL 997.55 155.444656 \r\nz\r\n\" style=\"fill:#1f77b4;\"/>\r\n   </g>\r\n   <g id=\"patch_186\">\r\n    <path clip-path=\"url(#p10e436012a)\" d=\"M 1001.777273 155.444656 \r\nL 1006.004545 155.444656 \r\nL 1006.004545 155.444656 \r\nL 1001.777273 155.444656 \r\nz\r\n\" style=\"fill:#1f77b4;\"/>\r\n   </g>\r\n   <g id=\"patch_187\">\r\n    <path clip-path=\"url(#p10e436012a)\" d=\"M 1006.004545 155.444656 \r\nL 1010.231818 155.444656 \r\nL 1010.231818 155.444656 \r\nL 1006.004545 155.444656 \r\nz\r\n\" style=\"fill:#1f77b4;\"/>\r\n   </g>\r\n   <g id=\"patch_188\">\r\n    <path clip-path=\"url(#p10e436012a)\" d=\"M 1010.231818 155.444656 \r\nL 1014.459091 155.444656 \r\nL 1014.459091 155.444656 \r\nL 1010.231818 155.444656 \r\nz\r\n\" style=\"fill:#1f77b4;\"/>\r\n   </g>\r\n   <g id=\"patch_189\">\r\n    <path clip-path=\"url(#p10e436012a)\" d=\"M 1014.459091 155.444656 \r\nL 1018.686364 155.444656 \r\nL 1018.686364 155.444656 \r\nL 1014.459091 155.444656 \r\nz\r\n\" style=\"fill:#1f77b4;\"/>\r\n   </g>\r\n   <g id=\"patch_190\">\r\n    <path clip-path=\"url(#p10e436012a)\" d=\"M 1018.686364 155.444656 \r\nL 1022.913636 155.444656 \r\nL 1022.913636 155.444656 \r\nL 1018.686364 155.444656 \r\nz\r\n\" style=\"fill:#1f77b4;\"/>\r\n   </g>\r\n   <g id=\"patch_191\">\r\n    <path clip-path=\"url(#p10e436012a)\" d=\"M 1022.913636 155.444656 \r\nL 1027.140909 155.444656 \r\nL 1027.140909 155.444656 \r\nL 1022.913636 155.444656 \r\nz\r\n\" style=\"fill:#1f77b4;\"/>\r\n   </g>\r\n   <g id=\"patch_192\">\r\n    <path clip-path=\"url(#p10e436012a)\" d=\"M 1027.140909 155.444656 \r\nL 1031.368182 155.444656 \r\nL 1031.368182 28.657484 \r\nL 1027.140909 28.657484 \r\nz\r\n\" style=\"fill:#1f77b4;\"/>\r\n   </g>\r\n   <g id=\"matplotlib.axis_5\">\r\n    <g id=\"xtick_14\">\r\n     <g id=\"line2d_47\">\r\n      <path clip-path=\"url(#p10e436012a)\" d=\"M 777.731818 155.444656 \r\nL 777.731818 22.318125 \r\n\" style=\"fill:none;stroke:#b0b0b0;stroke-linecap:square;stroke-width:0.8;\"/>\r\n     </g>\r\n     <g id=\"line2d_48\">\r\n      <g>\r\n       <use style=\"stroke:#000000;stroke-width:0.8;\" x=\"777.731818\" xlink:href=\"#mb4638e5f59\" y=\"155.444656\"/>\r\n      </g>\r\n     </g>\r\n     <g id=\"text_26\">\r\n      <!-- 1.00 -->\r\n      <g transform=\"translate(766.599006 170.043093)scale(0.1 -0.1)\">\r\n       <use xlink:href=\"#DejaVuSans-31\"/>\r\n       <use x=\"63.623047\" xlink:href=\"#DejaVuSans-2e\"/>\r\n       <use x=\"95.410156\" xlink:href=\"#DejaVuSans-30\"/>\r\n       <use x=\"159.033203\" xlink:href=\"#DejaVuSans-30\"/>\r\n      </g>\r\n     </g>\r\n    </g>\r\n    <g id=\"xtick_15\">\r\n     <g id=\"line2d_49\">\r\n      <path clip-path=\"url(#p10e436012a)\" d=\"M 809.436364 155.444656 \r\nL 809.436364 22.318125 \r\n\" style=\"fill:none;stroke:#b0b0b0;stroke-linecap:square;stroke-width:0.8;\"/>\r\n     </g>\r\n     <g id=\"line2d_50\">\r\n      <g>\r\n       <use style=\"stroke:#000000;stroke-width:0.8;\" x=\"809.436364\" xlink:href=\"#mb4638e5f59\" y=\"155.444656\"/>\r\n      </g>\r\n     </g>\r\n     <g id=\"text_27\">\r\n      <!-- 1.25 -->\r\n      <g transform=\"translate(798.303551 170.043093)scale(0.1 -0.1)\">\r\n       <use xlink:href=\"#DejaVuSans-31\"/>\r\n       <use x=\"63.623047\" xlink:href=\"#DejaVuSans-2e\"/>\r\n       <use x=\"95.410156\" xlink:href=\"#DejaVuSans-32\"/>\r\n       <use x=\"159.033203\" xlink:href=\"#DejaVuSans-35\"/>\r\n      </g>\r\n     </g>\r\n    </g>\r\n    <g id=\"xtick_16\">\r\n     <g id=\"line2d_51\">\r\n      <path clip-path=\"url(#p10e436012a)\" d=\"M 841.140909 155.444656 \r\nL 841.140909 22.318125 \r\n\" style=\"fill:none;stroke:#b0b0b0;stroke-linecap:square;stroke-width:0.8;\"/>\r\n     </g>\r\n     <g id=\"line2d_52\">\r\n      <g>\r\n       <use style=\"stroke:#000000;stroke-width:0.8;\" x=\"841.140909\" xlink:href=\"#mb4638e5f59\" y=\"155.444656\"/>\r\n      </g>\r\n     </g>\r\n     <g id=\"text_28\">\r\n      <!-- 1.50 -->\r\n      <g transform=\"translate(830.008097 170.043093)scale(0.1 -0.1)\">\r\n       <use xlink:href=\"#DejaVuSans-31\"/>\r\n       <use x=\"63.623047\" xlink:href=\"#DejaVuSans-2e\"/>\r\n       <use x=\"95.410156\" xlink:href=\"#DejaVuSans-35\"/>\r\n       <use x=\"159.033203\" xlink:href=\"#DejaVuSans-30\"/>\r\n      </g>\r\n     </g>\r\n    </g>\r\n    <g id=\"xtick_17\">\r\n     <g id=\"line2d_53\">\r\n      <path clip-path=\"url(#p10e436012a)\" d=\"M 872.845455 155.444656 \r\nL 872.845455 22.318125 \r\n\" style=\"fill:none;stroke:#b0b0b0;stroke-linecap:square;stroke-width:0.8;\"/>\r\n     </g>\r\n     <g id=\"line2d_54\">\r\n      <g>\r\n       <use style=\"stroke:#000000;stroke-width:0.8;\" x=\"872.845455\" xlink:href=\"#mb4638e5f59\" y=\"155.444656\"/>\r\n      </g>\r\n     </g>\r\n     <g id=\"text_29\">\r\n      <!-- 1.75 -->\r\n      <g transform=\"translate(861.712642 170.043093)scale(0.1 -0.1)\">\r\n       <defs>\r\n        <path d=\"M 525 4666 \r\nL 3525 4666 \r\nL 3525 4397 \r\nL 1831 0 \r\nL 1172 0 \r\nL 2766 4134 \r\nL 525 4134 \r\nL 525 4666 \r\nz\r\n\" id=\"DejaVuSans-37\" transform=\"scale(0.015625)\"/>\r\n       </defs>\r\n       <use xlink:href=\"#DejaVuSans-31\"/>\r\n       <use x=\"63.623047\" xlink:href=\"#DejaVuSans-2e\"/>\r\n       <use x=\"95.410156\" xlink:href=\"#DejaVuSans-37\"/>\r\n       <use x=\"159.033203\" xlink:href=\"#DejaVuSans-35\"/>\r\n      </g>\r\n     </g>\r\n    </g>\r\n    <g id=\"xtick_18\">\r\n     <g id=\"line2d_55\">\r\n      <path clip-path=\"url(#p10e436012a)\" d=\"M 904.55 155.444656 \r\nL 904.55 22.318125 \r\n\" style=\"fill:none;stroke:#b0b0b0;stroke-linecap:square;stroke-width:0.8;\"/>\r\n     </g>\r\n     <g id=\"line2d_56\">\r\n      <g>\r\n       <use style=\"stroke:#000000;stroke-width:0.8;\" x=\"904.55\" xlink:href=\"#mb4638e5f59\" y=\"155.444656\"/>\r\n      </g>\r\n     </g>\r\n     <g id=\"text_30\">\r\n      <!-- 2.00 -->\r\n      <g transform=\"translate(893.417188 170.043093)scale(0.1 -0.1)\">\r\n       <use xlink:href=\"#DejaVuSans-32\"/>\r\n       <use x=\"63.623047\" xlink:href=\"#DejaVuSans-2e\"/>\r\n       <use x=\"95.410156\" xlink:href=\"#DejaVuSans-30\"/>\r\n       <use x=\"159.033203\" xlink:href=\"#DejaVuSans-30\"/>\r\n      </g>\r\n     </g>\r\n    </g>\r\n    <g id=\"xtick_19\">\r\n     <g id=\"line2d_57\">\r\n      <path clip-path=\"url(#p10e436012a)\" d=\"M 936.254545 155.444656 \r\nL 936.254545 22.318125 \r\n\" style=\"fill:none;stroke:#b0b0b0;stroke-linecap:square;stroke-width:0.8;\"/>\r\n     </g>\r\n     <g id=\"line2d_58\">\r\n      <g>\r\n       <use style=\"stroke:#000000;stroke-width:0.8;\" x=\"936.254545\" xlink:href=\"#mb4638e5f59\" y=\"155.444656\"/>\r\n      </g>\r\n     </g>\r\n     <g id=\"text_31\">\r\n      <!-- 2.25 -->\r\n      <g transform=\"translate(925.121733 170.043093)scale(0.1 -0.1)\">\r\n       <use xlink:href=\"#DejaVuSans-32\"/>\r\n       <use x=\"63.623047\" xlink:href=\"#DejaVuSans-2e\"/>\r\n       <use x=\"95.410156\" xlink:href=\"#DejaVuSans-32\"/>\r\n       <use x=\"159.033203\" xlink:href=\"#DejaVuSans-35\"/>\r\n      </g>\r\n     </g>\r\n    </g>\r\n    <g id=\"xtick_20\">\r\n     <g id=\"line2d_59\">\r\n      <path clip-path=\"url(#p10e436012a)\" d=\"M 967.959091 155.444656 \r\nL 967.959091 22.318125 \r\n\" style=\"fill:none;stroke:#b0b0b0;stroke-linecap:square;stroke-width:0.8;\"/>\r\n     </g>\r\n     <g id=\"line2d_60\">\r\n      <g>\r\n       <use style=\"stroke:#000000;stroke-width:0.8;\" x=\"967.959091\" xlink:href=\"#mb4638e5f59\" y=\"155.444656\"/>\r\n      </g>\r\n     </g>\r\n     <g id=\"text_32\">\r\n      <!-- 2.50 -->\r\n      <g transform=\"translate(956.826278 170.043093)scale(0.1 -0.1)\">\r\n       <use xlink:href=\"#DejaVuSans-32\"/>\r\n       <use x=\"63.623047\" xlink:href=\"#DejaVuSans-2e\"/>\r\n       <use x=\"95.410156\" xlink:href=\"#DejaVuSans-35\"/>\r\n       <use x=\"159.033203\" xlink:href=\"#DejaVuSans-30\"/>\r\n      </g>\r\n     </g>\r\n    </g>\r\n    <g id=\"xtick_21\">\r\n     <g id=\"line2d_61\">\r\n      <path clip-path=\"url(#p10e436012a)\" d=\"M 999.663636 155.444656 \r\nL 999.663636 22.318125 \r\n\" style=\"fill:none;stroke:#b0b0b0;stroke-linecap:square;stroke-width:0.8;\"/>\r\n     </g>\r\n     <g id=\"line2d_62\">\r\n      <g>\r\n       <use style=\"stroke:#000000;stroke-width:0.8;\" x=\"999.663636\" xlink:href=\"#mb4638e5f59\" y=\"155.444656\"/>\r\n      </g>\r\n     </g>\r\n     <g id=\"text_33\">\r\n      <!-- 2.75 -->\r\n      <g transform=\"translate(988.530824 170.043093)scale(0.1 -0.1)\">\r\n       <use xlink:href=\"#DejaVuSans-32\"/>\r\n       <use x=\"63.623047\" xlink:href=\"#DejaVuSans-2e\"/>\r\n       <use x=\"95.410156\" xlink:href=\"#DejaVuSans-37\"/>\r\n       <use x=\"159.033203\" xlink:href=\"#DejaVuSans-35\"/>\r\n      </g>\r\n     </g>\r\n    </g>\r\n    <g id=\"xtick_22\">\r\n     <g id=\"line2d_63\">\r\n      <path clip-path=\"url(#p10e436012a)\" d=\"M 1031.368182 155.444656 \r\nL 1031.368182 22.318125 \r\n\" style=\"fill:none;stroke:#b0b0b0;stroke-linecap:square;stroke-width:0.8;\"/>\r\n     </g>\r\n     <g id=\"line2d_64\">\r\n      <g>\r\n       <use style=\"stroke:#000000;stroke-width:0.8;\" x=\"1031.368182\" xlink:href=\"#mb4638e5f59\" y=\"155.444656\"/>\r\n      </g>\r\n     </g>\r\n     <g id=\"text_34\">\r\n      <!-- 3.00 -->\r\n      <g transform=\"translate(1020.235369 170.043093)scale(0.1 -0.1)\">\r\n       <defs>\r\n        <path d=\"M 2597 2516 \r\nQ 3050 2419 3304 2112 \r\nQ 3559 1806 3559 1356 \r\nQ 3559 666 3084 287 \r\nQ 2609 -91 1734 -91 \r\nQ 1441 -91 1130 -33 \r\nQ 819 25 488 141 \r\nL 488 750 \r\nQ 750 597 1062 519 \r\nQ 1375 441 1716 441 \r\nQ 2309 441 2620 675 \r\nQ 2931 909 2931 1356 \r\nQ 2931 1769 2642 2001 \r\nQ 2353 2234 1838 2234 \r\nL 1294 2234 \r\nL 1294 2753 \r\nL 1863 2753 \r\nQ 2328 2753 2575 2939 \r\nQ 2822 3125 2822 3475 \r\nQ 2822 3834 2567 4026 \r\nQ 2313 4219 1838 4219 \r\nQ 1578 4219 1281 4162 \r\nQ 984 4106 628 3988 \r\nL 628 4550 \r\nQ 988 4650 1302 4700 \r\nQ 1616 4750 1894 4750 \r\nQ 2613 4750 3031 4423 \r\nQ 3450 4097 3450 3541 \r\nQ 3450 3153 3228 2886 \r\nQ 3006 2619 2597 2516 \r\nz\r\n\" id=\"DejaVuSans-33\" transform=\"scale(0.015625)\"/>\r\n       </defs>\r\n       <use xlink:href=\"#DejaVuSans-33\"/>\r\n       <use x=\"63.623047\" xlink:href=\"#DejaVuSans-2e\"/>\r\n       <use x=\"95.410156\" xlink:href=\"#DejaVuSans-30\"/>\r\n       <use x=\"159.033203\" xlink:href=\"#DejaVuSans-30\"/>\r\n      </g>\r\n     </g>\r\n    </g>\r\n   </g>\r\n   <g id=\"matplotlib.axis_6\">\r\n    <g id=\"ytick_11\">\r\n     <g id=\"line2d_65\">\r\n      <path clip-path=\"url(#p10e436012a)\" d=\"M 765.05 155.444656 \r\nL 1044.05 155.444656 \r\n\" style=\"fill:none;stroke:#b0b0b0;stroke-linecap:square;stroke-width:0.8;\"/>\r\n     </g>\r\n     <g id=\"line2d_66\">\r\n      <g>\r\n       <use style=\"stroke:#000000;stroke-width:0.8;\" x=\"765.05\" xlink:href=\"#m2a7d614687\" y=\"155.444656\"/>\r\n      </g>\r\n     </g>\r\n     <g id=\"text_35\">\r\n      <!-- 0 -->\r\n      <g transform=\"translate(751.6875 159.243874)scale(0.1 -0.1)\">\r\n       <use xlink:href=\"#DejaVuSans-30\"/>\r\n      </g>\r\n     </g>\r\n    </g>\r\n    <g id=\"ytick_12\">\r\n     <g id=\"line2d_67\">\r\n      <path clip-path=\"url(#p10e436012a)\" d=\"M 765.05 119.679586 \r\nL 1044.05 119.679586 \r\n\" style=\"fill:none;stroke:#b0b0b0;stroke-linecap:square;stroke-width:0.8;\"/>\r\n     </g>\r\n     <g id=\"line2d_68\">\r\n      <g>\r\n       <use style=\"stroke:#000000;stroke-width:0.8;\" x=\"765.05\" xlink:href=\"#m2a7d614687\" y=\"119.679586\"/>\r\n      </g>\r\n     </g>\r\n     <g id=\"text_36\">\r\n      <!-- 200 -->\r\n      <g transform=\"translate(738.9625 123.478805)scale(0.1 -0.1)\">\r\n       <use xlink:href=\"#DejaVuSans-32\"/>\r\n       <use x=\"63.623047\" xlink:href=\"#DejaVuSans-30\"/>\r\n       <use x=\"127.246094\" xlink:href=\"#DejaVuSans-30\"/>\r\n      </g>\r\n     </g>\r\n    </g>\r\n    <g id=\"ytick_13\">\r\n     <g id=\"line2d_69\">\r\n      <path clip-path=\"url(#p10e436012a)\" d=\"M 765.05 83.914516 \r\nL 1044.05 83.914516 \r\n\" style=\"fill:none;stroke:#b0b0b0;stroke-linecap:square;stroke-width:0.8;\"/>\r\n     </g>\r\n     <g id=\"line2d_70\">\r\n      <g>\r\n       <use style=\"stroke:#000000;stroke-width:0.8;\" x=\"765.05\" xlink:href=\"#m2a7d614687\" y=\"83.914516\"/>\r\n      </g>\r\n     </g>\r\n     <g id=\"text_37\">\r\n      <!-- 400 -->\r\n      <g transform=\"translate(738.9625 87.713735)scale(0.1 -0.1)\">\r\n       <use xlink:href=\"#DejaVuSans-34\"/>\r\n       <use x=\"63.623047\" xlink:href=\"#DejaVuSans-30\"/>\r\n       <use x=\"127.246094\" xlink:href=\"#DejaVuSans-30\"/>\r\n      </g>\r\n     </g>\r\n    </g>\r\n    <g id=\"ytick_14\">\r\n     <g id=\"line2d_71\">\r\n      <path clip-path=\"url(#p10e436012a)\" d=\"M 765.05 48.149447 \r\nL 1044.05 48.149447 \r\n\" style=\"fill:none;stroke:#b0b0b0;stroke-linecap:square;stroke-width:0.8;\"/>\r\n     </g>\r\n     <g id=\"line2d_72\">\r\n      <g>\r\n       <use style=\"stroke:#000000;stroke-width:0.8;\" x=\"765.05\" xlink:href=\"#m2a7d614687\" y=\"48.149447\"/>\r\n      </g>\r\n     </g>\r\n     <g id=\"text_38\">\r\n      <!-- 600 -->\r\n      <g transform=\"translate(738.9625 51.948665)scale(0.1 -0.1)\">\r\n       <use xlink:href=\"#DejaVuSans-36\"/>\r\n       <use x=\"63.623047\" xlink:href=\"#DejaVuSans-30\"/>\r\n       <use x=\"127.246094\" xlink:href=\"#DejaVuSans-30\"/>\r\n      </g>\r\n     </g>\r\n    </g>\r\n   </g>\r\n   <g id=\"patch_193\">\r\n    <path d=\"M 765.05 155.444656 \r\nL 765.05 22.318125 \r\n\" style=\"fill:none;stroke:#000000;stroke-linecap:square;stroke-linejoin:miter;stroke-width:0.8;\"/>\r\n   </g>\r\n   <g id=\"patch_194\">\r\n    <path d=\"M 1044.05 155.444656 \r\nL 1044.05 22.318125 \r\n\" style=\"fill:none;stroke:#000000;stroke-linecap:square;stroke-linejoin:miter;stroke-width:0.8;\"/>\r\n   </g>\r\n   <g id=\"patch_195\">\r\n    <path d=\"M 765.05 155.444656 \r\nL 1044.05 155.444656 \r\n\" style=\"fill:none;stroke:#000000;stroke-linecap:square;stroke-linejoin:miter;stroke-width:0.8;\"/>\r\n   </g>\r\n   <g id=\"patch_196\">\r\n    <path d=\"M 765.05 22.318125 \r\nL 1044.05 22.318125 \r\n\" style=\"fill:none;stroke:#000000;stroke-linecap:square;stroke-linejoin:miter;stroke-width:0.8;\"/>\r\n   </g>\r\n   <g id=\"text_39\">\r\n    <!-- Pclass -->\r\n    <g transform=\"translate(886.038125 16.318125)scale(0.12 -0.12)\">\r\n     <defs>\r\n      <path d=\"M 3122 3366 \r\nL 3122 2828 \r\nQ 2878 2963 2633 3030 \r\nQ 2388 3097 2138 3097 \r\nQ 1578 3097 1268 2742 \r\nQ 959 2388 959 1747 \r\nQ 959 1106 1268 751 \r\nQ 1578 397 2138 397 \r\nQ 2388 397 2633 464 \r\nQ 2878 531 3122 666 \r\nL 3122 134 \r\nQ 2881 22 2623 -34 \r\nQ 2366 -91 2075 -91 \r\nQ 1284 -91 818 406 \r\nQ 353 903 353 1747 \r\nQ 353 2603 823 3093 \r\nQ 1294 3584 2113 3584 \r\nQ 2378 3584 2631 3529 \r\nQ 2884 3475 3122 3366 \r\nz\r\n\" id=\"DejaVuSans-63\" transform=\"scale(0.015625)\"/>\r\n      <path d=\"M 603 4863 \r\nL 1178 4863 \r\nL 1178 0 \r\nL 603 0 \r\nL 603 4863 \r\nz\r\n\" id=\"DejaVuSans-6c\" transform=\"scale(0.015625)\"/>\r\n     </defs>\r\n     <use xlink:href=\"#DejaVuSans-50\"/>\r\n     <use x=\"60.302734\" xlink:href=\"#DejaVuSans-63\"/>\r\n     <use x=\"115.283203\" xlink:href=\"#DejaVuSans-6c\"/>\r\n     <use x=\"143.066406\" xlink:href=\"#DejaVuSans-61\"/>\r\n     <use x=\"204.345703\" xlink:href=\"#DejaVuSans-73\"/>\r\n     <use x=\"256.445312\" xlink:href=\"#DejaVuSans-73\"/>\r\n    </g>\r\n   </g>\r\n  </g>\r\n  <g id=\"axes_4\">\r\n   <g id=\"patch_197\">\r\n    <path d=\"M 39.65 328.509145 \r\nL 318.65 328.509145 \r\nL 318.65 195.382615 \r\nL 39.65 195.382615 \r\nz\r\n\" style=\"fill:#ffffff;\"/>\r\n   </g>\r\n   <g id=\"patch_198\">\r\n    <path clip-path=\"url(#pde5c4cbbfa)\" d=\"M 52.331818 328.509145 \r\nL 56.559091 328.509145 \r\nL 56.559091 201.721973 \r\nL 52.331818 201.721973 \r\nz\r\n\" style=\"fill:#1f77b4;\"/>\r\n   </g>\r\n   <g id=\"patch_199\">\r\n    <path clip-path=\"url(#pde5c4cbbfa)\" d=\"M 56.559091 328.509145 \r\nL 60.786364 328.509145 \r\nL 60.786364 328.509145 \r\nL 56.559091 328.509145 \r\nz\r\n\" style=\"fill:#1f77b4;\"/>\r\n   </g>\r\n   <g id=\"patch_200\">\r\n    <path clip-path=\"url(#pde5c4cbbfa)\" d=\"M 60.786364 328.509145 \r\nL 65.013636 328.509145 \r\nL 65.013636 328.509145 \r\nL 60.786364 328.509145 \r\nz\r\n\" style=\"fill:#1f77b4;\"/>\r\n   </g>\r\n   <g id=\"patch_201\">\r\n    <path clip-path=\"url(#pde5c4cbbfa)\" d=\"M 65.013636 328.509145 \r\nL 69.240909 328.509145 \r\nL 69.240909 328.509145 \r\nL 65.013636 328.509145 \r\nz\r\n\" style=\"fill:#1f77b4;\"/>\r\n   </g>\r\n   <g id=\"patch_202\">\r\n    <path clip-path=\"url(#pde5c4cbbfa)\" d=\"M 69.240909 328.509145 \r\nL 73.468182 328.509145 \r\nL 73.468182 328.509145 \r\nL 69.240909 328.509145 \r\nz\r\n\" style=\"fill:#1f77b4;\"/>\r\n   </g>\r\n   <g id=\"patch_203\">\r\n    <path clip-path=\"url(#pde5c4cbbfa)\" d=\"M 73.468182 328.509145 \r\nL 77.695455 328.509145 \r\nL 77.695455 328.509145 \r\nL 73.468182 328.509145 \r\nz\r\n\" style=\"fill:#1f77b4;\"/>\r\n   </g>\r\n   <g id=\"patch_204\">\r\n    <path clip-path=\"url(#pde5c4cbbfa)\" d=\"M 77.695455 328.509145 \r\nL 81.922727 328.509145 \r\nL 81.922727 328.509145 \r\nL 77.695455 328.509145 \r\nz\r\n\" style=\"fill:#1f77b4;\"/>\r\n   </g>\r\n   <g id=\"patch_205\">\r\n    <path clip-path=\"url(#pde5c4cbbfa)\" d=\"M 81.922727 328.509145 \r\nL 86.15 328.509145 \r\nL 86.15 328.509145 \r\nL 81.922727 328.509145 \r\nz\r\n\" style=\"fill:#1f77b4;\"/>\r\n   </g>\r\n   <g id=\"patch_206\">\r\n    <path clip-path=\"url(#pde5c4cbbfa)\" d=\"M 86.15 328.509145 \r\nL 90.377273 328.509145 \r\nL 90.377273 328.509145 \r\nL 86.15 328.509145 \r\nz\r\n\" style=\"fill:#1f77b4;\"/>\r\n   </g>\r\n   <g id=\"patch_207\">\r\n    <path clip-path=\"url(#pde5c4cbbfa)\" d=\"M 90.377273 328.509145 \r\nL 94.604545 328.509145 \r\nL 94.604545 328.509145 \r\nL 90.377273 328.509145 \r\nz\r\n\" style=\"fill:#1f77b4;\"/>\r\n   </g>\r\n   <g id=\"patch_208\">\r\n    <path clip-path=\"url(#pde5c4cbbfa)\" d=\"M 94.604545 328.509145 \r\nL 98.831818 328.509145 \r\nL 98.831818 328.509145 \r\nL 94.604545 328.509145 \r\nz\r\n\" style=\"fill:#1f77b4;\"/>\r\n   </g>\r\n   <g id=\"patch_209\">\r\n    <path clip-path=\"url(#pde5c4cbbfa)\" d=\"M 98.831818 328.509145 \r\nL 103.059091 328.509145 \r\nL 103.059091 328.509145 \r\nL 98.831818 328.509145 \r\nz\r\n\" style=\"fill:#1f77b4;\"/>\r\n   </g>\r\n   <g id=\"patch_210\">\r\n    <path clip-path=\"url(#pde5c4cbbfa)\" d=\"M 103.059091 328.509145 \r\nL 107.286364 328.509145 \r\nL 107.286364 328.509145 \r\nL 103.059091 328.509145 \r\nz\r\n\" style=\"fill:#1f77b4;\"/>\r\n   </g>\r\n   <g id=\"patch_211\">\r\n    <path clip-path=\"url(#pde5c4cbbfa)\" d=\"M 107.286364 328.509145 \r\nL 111.513636 328.509145 \r\nL 111.513636 328.509145 \r\nL 107.286364 328.509145 \r\nz\r\n\" style=\"fill:#1f77b4;\"/>\r\n   </g>\r\n   <g id=\"patch_212\">\r\n    <path clip-path=\"url(#pde5c4cbbfa)\" d=\"M 111.513636 328.509145 \r\nL 115.740909 328.509145 \r\nL 115.740909 328.509145 \r\nL 111.513636 328.509145 \r\nz\r\n\" style=\"fill:#1f77b4;\"/>\r\n   </g>\r\n   <g id=\"patch_213\">\r\n    <path clip-path=\"url(#pde5c4cbbfa)\" d=\"M 115.740909 328.509145 \r\nL 119.968182 328.509145 \r\nL 119.968182 328.509145 \r\nL 115.740909 328.509145 \r\nz\r\n\" style=\"fill:#1f77b4;\"/>\r\n   </g>\r\n   <g id=\"patch_214\">\r\n    <path clip-path=\"url(#pde5c4cbbfa)\" d=\"M 119.968182 328.509145 \r\nL 124.195455 328.509145 \r\nL 124.195455 328.509145 \r\nL 119.968182 328.509145 \r\nz\r\n\" style=\"fill:#1f77b4;\"/>\r\n   </g>\r\n   <g id=\"patch_215\">\r\n    <path clip-path=\"url(#pde5c4cbbfa)\" d=\"M 124.195455 328.509145 \r\nL 128.422727 328.509145 \r\nL 128.422727 328.509145 \r\nL 124.195455 328.509145 \r\nz\r\n\" style=\"fill:#1f77b4;\"/>\r\n   </g>\r\n   <g id=\"patch_216\">\r\n    <path clip-path=\"url(#pde5c4cbbfa)\" d=\"M 128.422727 328.509145 \r\nL 132.65 328.509145 \r\nL 132.65 328.509145 \r\nL 128.422727 328.509145 \r\nz\r\n\" style=\"fill:#1f77b4;\"/>\r\n   </g>\r\n   <g id=\"patch_217\">\r\n    <path clip-path=\"url(#pde5c4cbbfa)\" d=\"M 132.65 328.509145 \r\nL 136.877273 328.509145 \r\nL 136.877273 328.509145 \r\nL 132.65 328.509145 \r\nz\r\n\" style=\"fill:#1f77b4;\"/>\r\n   </g>\r\n   <g id=\"patch_218\">\r\n    <path clip-path=\"url(#pde5c4cbbfa)\" d=\"M 136.877273 328.509145 \r\nL 141.104545 328.509145 \r\nL 141.104545 328.509145 \r\nL 136.877273 328.509145 \r\nz\r\n\" style=\"fill:#1f77b4;\"/>\r\n   </g>\r\n   <g id=\"patch_219\">\r\n    <path clip-path=\"url(#pde5c4cbbfa)\" d=\"M 141.104545 328.509145 \r\nL 145.331818 328.509145 \r\nL 145.331818 328.509145 \r\nL 141.104545 328.509145 \r\nz\r\n\" style=\"fill:#1f77b4;\"/>\r\n   </g>\r\n   <g id=\"patch_220\">\r\n    <path clip-path=\"url(#pde5c4cbbfa)\" d=\"M 145.331818 328.509145 \r\nL 149.559091 328.509145 \r\nL 149.559091 328.509145 \r\nL 145.331818 328.509145 \r\nz\r\n\" style=\"fill:#1f77b4;\"/>\r\n   </g>\r\n   <g id=\"patch_221\">\r\n    <path clip-path=\"url(#pde5c4cbbfa)\" d=\"M 149.559091 328.509145 \r\nL 153.786364 328.509145 \r\nL 153.786364 328.509145 \r\nL 149.559091 328.509145 \r\nz\r\n\" style=\"fill:#1f77b4;\"/>\r\n   </g>\r\n   <g id=\"patch_222\">\r\n    <path clip-path=\"url(#pde5c4cbbfa)\" d=\"M 153.786364 328.509145 \r\nL 158.013636 328.509145 \r\nL 158.013636 328.509145 \r\nL 153.786364 328.509145 \r\nz\r\n\" style=\"fill:#1f77b4;\"/>\r\n   </g>\r\n   <g id=\"patch_223\">\r\n    <path clip-path=\"url(#pde5c4cbbfa)\" d=\"M 158.013636 328.509145 \r\nL 162.240909 328.509145 \r\nL 162.240909 328.509145 \r\nL 158.013636 328.509145 \r\nz\r\n\" style=\"fill:#1f77b4;\"/>\r\n   </g>\r\n   <g id=\"patch_224\">\r\n    <path clip-path=\"url(#pde5c4cbbfa)\" d=\"M 162.240909 328.509145 \r\nL 166.468182 328.509145 \r\nL 166.468182 328.509145 \r\nL 162.240909 328.509145 \r\nz\r\n\" style=\"fill:#1f77b4;\"/>\r\n   </g>\r\n   <g id=\"patch_225\">\r\n    <path clip-path=\"url(#pde5c4cbbfa)\" d=\"M 166.468182 328.509145 \r\nL 170.695455 328.509145 \r\nL 170.695455 328.509145 \r\nL 166.468182 328.509145 \r\nz\r\n\" style=\"fill:#1f77b4;\"/>\r\n   </g>\r\n   <g id=\"patch_226\">\r\n    <path clip-path=\"url(#pde5c4cbbfa)\" d=\"M 170.695455 328.509145 \r\nL 174.922727 328.509145 \r\nL 174.922727 328.509145 \r\nL 170.695455 328.509145 \r\nz\r\n\" style=\"fill:#1f77b4;\"/>\r\n   </g>\r\n   <g id=\"patch_227\">\r\n    <path clip-path=\"url(#pde5c4cbbfa)\" d=\"M 174.922727 328.509145 \r\nL 179.15 328.509145 \r\nL 179.15 328.509145 \r\nL 174.922727 328.509145 \r\nz\r\n\" style=\"fill:#1f77b4;\"/>\r\n   </g>\r\n   <g id=\"patch_228\">\r\n    <path clip-path=\"url(#pde5c4cbbfa)\" d=\"M 179.15 328.509145 \r\nL 183.377273 328.509145 \r\nL 183.377273 328.509145 \r\nL 179.15 328.509145 \r\nz\r\n\" style=\"fill:#1f77b4;\"/>\r\n   </g>\r\n   <g id=\"patch_229\">\r\n    <path clip-path=\"url(#pde5c4cbbfa)\" d=\"M 183.377273 328.509145 \r\nL 187.604545 328.509145 \r\nL 187.604545 328.509145 \r\nL 183.377273 328.509145 \r\nz\r\n\" style=\"fill:#1f77b4;\"/>\r\n   </g>\r\n   <g id=\"patch_230\">\r\n    <path clip-path=\"url(#pde5c4cbbfa)\" d=\"M 187.604545 328.509145 \r\nL 191.831818 328.509145 \r\nL 191.831818 328.509145 \r\nL 187.604545 328.509145 \r\nz\r\n\" style=\"fill:#1f77b4;\"/>\r\n   </g>\r\n   <g id=\"patch_231\">\r\n    <path clip-path=\"url(#pde5c4cbbfa)\" d=\"M 191.831818 328.509145 \r\nL 196.059091 328.509145 \r\nL 196.059091 328.509145 \r\nL 191.831818 328.509145 \r\nz\r\n\" style=\"fill:#1f77b4;\"/>\r\n   </g>\r\n   <g id=\"patch_232\">\r\n    <path clip-path=\"url(#pde5c4cbbfa)\" d=\"M 196.059091 328.509145 \r\nL 200.286364 328.509145 \r\nL 200.286364 328.509145 \r\nL 196.059091 328.509145 \r\nz\r\n\" style=\"fill:#1f77b4;\"/>\r\n   </g>\r\n   <g id=\"patch_233\">\r\n    <path clip-path=\"url(#pde5c4cbbfa)\" d=\"M 200.286364 328.509145 \r\nL 204.513636 328.509145 \r\nL 204.513636 328.509145 \r\nL 200.286364 328.509145 \r\nz\r\n\" style=\"fill:#1f77b4;\"/>\r\n   </g>\r\n   <g id=\"patch_234\">\r\n    <path clip-path=\"url(#pde5c4cbbfa)\" d=\"M 204.513636 328.509145 \r\nL 208.740909 328.509145 \r\nL 208.740909 328.509145 \r\nL 204.513636 328.509145 \r\nz\r\n\" style=\"fill:#1f77b4;\"/>\r\n   </g>\r\n   <g id=\"patch_235\">\r\n    <path clip-path=\"url(#pde5c4cbbfa)\" d=\"M 208.740909 328.509145 \r\nL 212.968182 328.509145 \r\nL 212.968182 328.509145 \r\nL 208.740909 328.509145 \r\nz\r\n\" style=\"fill:#1f77b4;\"/>\r\n   </g>\r\n   <g id=\"patch_236\">\r\n    <path clip-path=\"url(#pde5c4cbbfa)\" d=\"M 212.968182 328.509145 \r\nL 217.195455 328.509145 \r\nL 217.195455 328.509145 \r\nL 212.968182 328.509145 \r\nz\r\n\" style=\"fill:#1f77b4;\"/>\r\n   </g>\r\n   <g id=\"patch_237\">\r\n    <path clip-path=\"url(#pde5c4cbbfa)\" d=\"M 217.195455 328.509145 \r\nL 221.422727 328.509145 \r\nL 221.422727 328.509145 \r\nL 217.195455 328.509145 \r\nz\r\n\" style=\"fill:#1f77b4;\"/>\r\n   </g>\r\n   <g id=\"patch_238\">\r\n    <path clip-path=\"url(#pde5c4cbbfa)\" d=\"M 221.422727 328.509145 \r\nL 225.65 328.509145 \r\nL 225.65 328.509145 \r\nL 221.422727 328.509145 \r\nz\r\n\" style=\"fill:#1f77b4;\"/>\r\n   </g>\r\n   <g id=\"patch_239\">\r\n    <path clip-path=\"url(#pde5c4cbbfa)\" d=\"M 225.65 328.509145 \r\nL 229.877273 328.509145 \r\nL 229.877273 328.509145 \r\nL 225.65 328.509145 \r\nz\r\n\" style=\"fill:#1f77b4;\"/>\r\n   </g>\r\n   <g id=\"patch_240\">\r\n    <path clip-path=\"url(#pde5c4cbbfa)\" d=\"M 229.877273 328.509145 \r\nL 234.104545 328.509145 \r\nL 234.104545 328.509145 \r\nL 229.877273 328.509145 \r\nz\r\n\" style=\"fill:#1f77b4;\"/>\r\n   </g>\r\n   <g id=\"patch_241\">\r\n    <path clip-path=\"url(#pde5c4cbbfa)\" d=\"M 234.104545 328.509145 \r\nL 238.331818 328.509145 \r\nL 238.331818 328.509145 \r\nL 234.104545 328.509145 \r\nz\r\n\" style=\"fill:#1f77b4;\"/>\r\n   </g>\r\n   <g id=\"patch_242\">\r\n    <path clip-path=\"url(#pde5c4cbbfa)\" d=\"M 238.331818 328.509145 \r\nL 242.559091 328.509145 \r\nL 242.559091 328.509145 \r\nL 238.331818 328.509145 \r\nz\r\n\" style=\"fill:#1f77b4;\"/>\r\n   </g>\r\n   <g id=\"patch_243\">\r\n    <path clip-path=\"url(#pde5c4cbbfa)\" d=\"M 242.559091 328.509145 \r\nL 246.786364 328.509145 \r\nL 246.786364 328.509145 \r\nL 242.559091 328.509145 \r\nz\r\n\" style=\"fill:#1f77b4;\"/>\r\n   </g>\r\n   <g id=\"patch_244\">\r\n    <path clip-path=\"url(#pde5c4cbbfa)\" d=\"M 246.786364 328.509145 \r\nL 251.013636 328.509145 \r\nL 251.013636 328.509145 \r\nL 246.786364 328.509145 \r\nz\r\n\" style=\"fill:#1f77b4;\"/>\r\n   </g>\r\n   <g id=\"patch_245\">\r\n    <path clip-path=\"url(#pde5c4cbbfa)\" d=\"M 251.013636 328.509145 \r\nL 255.240909 328.509145 \r\nL 255.240909 328.509145 \r\nL 251.013636 328.509145 \r\nz\r\n\" style=\"fill:#1f77b4;\"/>\r\n   </g>\r\n   <g id=\"patch_246\">\r\n    <path clip-path=\"url(#pde5c4cbbfa)\" d=\"M 255.240909 328.509145 \r\nL 259.468182 328.509145 \r\nL 259.468182 328.509145 \r\nL 255.240909 328.509145 \r\nz\r\n\" style=\"fill:#1f77b4;\"/>\r\n   </g>\r\n   <g id=\"patch_247\">\r\n    <path clip-path=\"url(#pde5c4cbbfa)\" d=\"M 259.468182 328.509145 \r\nL 263.695455 328.509145 \r\nL 263.695455 328.509145 \r\nL 259.468182 328.509145 \r\nz\r\n\" style=\"fill:#1f77b4;\"/>\r\n   </g>\r\n   <g id=\"patch_248\">\r\n    <path clip-path=\"url(#pde5c4cbbfa)\" d=\"M 263.695455 328.509145 \r\nL 267.922727 328.509145 \r\nL 267.922727 328.509145 \r\nL 263.695455 328.509145 \r\nz\r\n\" style=\"fill:#1f77b4;\"/>\r\n   </g>\r\n   <g id=\"patch_249\">\r\n    <path clip-path=\"url(#pde5c4cbbfa)\" d=\"M 267.922727 328.509145 \r\nL 272.15 328.509145 \r\nL 272.15 328.509145 \r\nL 267.922727 328.509145 \r\nz\r\n\" style=\"fill:#1f77b4;\"/>\r\n   </g>\r\n   <g id=\"patch_250\">\r\n    <path clip-path=\"url(#pde5c4cbbfa)\" d=\"M 272.15 328.509145 \r\nL 276.377273 328.509145 \r\nL 276.377273 328.509145 \r\nL 272.15 328.509145 \r\nz\r\n\" style=\"fill:#1f77b4;\"/>\r\n   </g>\r\n   <g id=\"patch_251\">\r\n    <path clip-path=\"url(#pde5c4cbbfa)\" d=\"M 276.377273 328.509145 \r\nL 280.604545 328.509145 \r\nL 280.604545 328.509145 \r\nL 276.377273 328.509145 \r\nz\r\n\" style=\"fill:#1f77b4;\"/>\r\n   </g>\r\n   <g id=\"patch_252\">\r\n    <path clip-path=\"url(#pde5c4cbbfa)\" d=\"M 280.604545 328.509145 \r\nL 284.831818 328.509145 \r\nL 284.831818 328.509145 \r\nL 280.604545 328.509145 \r\nz\r\n\" style=\"fill:#1f77b4;\"/>\r\n   </g>\r\n   <g id=\"patch_253\">\r\n    <path clip-path=\"url(#pde5c4cbbfa)\" d=\"M 284.831818 328.509145 \r\nL 289.059091 328.509145 \r\nL 289.059091 328.509145 \r\nL 284.831818 328.509145 \r\nz\r\n\" style=\"fill:#1f77b4;\"/>\r\n   </g>\r\n   <g id=\"patch_254\">\r\n    <path clip-path=\"url(#pde5c4cbbfa)\" d=\"M 289.059091 328.509145 \r\nL 293.286364 328.509145 \r\nL 293.286364 328.509145 \r\nL 289.059091 328.509145 \r\nz\r\n\" style=\"fill:#1f77b4;\"/>\r\n   </g>\r\n   <g id=\"patch_255\">\r\n    <path clip-path=\"url(#pde5c4cbbfa)\" d=\"M 293.286364 328.509145 \r\nL 297.513636 328.509145 \r\nL 297.513636 328.509145 \r\nL 293.286364 328.509145 \r\nz\r\n\" style=\"fill:#1f77b4;\"/>\r\n   </g>\r\n   <g id=\"patch_256\">\r\n    <path clip-path=\"url(#pde5c4cbbfa)\" d=\"M 297.513636 328.509145 \r\nL 301.740909 328.509145 \r\nL 301.740909 328.509145 \r\nL 297.513636 328.509145 \r\nz\r\n\" style=\"fill:#1f77b4;\"/>\r\n   </g>\r\n   <g id=\"patch_257\">\r\n    <path clip-path=\"url(#pde5c4cbbfa)\" d=\"M 301.740909 328.509145 \r\nL 305.968182 328.509145 \r\nL 305.968182 258.422761 \r\nL 301.740909 258.422761 \r\nz\r\n\" style=\"fill:#1f77b4;\"/>\r\n   </g>\r\n   <g id=\"matplotlib.axis_7\">\r\n    <g id=\"xtick_23\">\r\n     <g id=\"line2d_73\">\r\n      <path clip-path=\"url(#pde5c4cbbfa)\" d=\"M 52.331818 328.509145 \r\nL 52.331818 195.382615 \r\n\" style=\"fill:none;stroke:#b0b0b0;stroke-linecap:square;stroke-width:0.8;\"/>\r\n     </g>\r\n     <g id=\"line2d_74\">\r\n      <g>\r\n       <use style=\"stroke:#000000;stroke-width:0.8;\" x=\"52.331818\" xlink:href=\"#mb4638e5f59\" y=\"328.509145\"/>\r\n      </g>\r\n     </g>\r\n     <g id=\"text_40\">\r\n      <!-- 0.0 -->\r\n      <g transform=\"translate(44.380256 343.107583)scale(0.1 -0.1)\">\r\n       <use xlink:href=\"#DejaVuSans-30\"/>\r\n       <use x=\"63.623047\" xlink:href=\"#DejaVuSans-2e\"/>\r\n       <use x=\"95.410156\" xlink:href=\"#DejaVuSans-30\"/>\r\n      </g>\r\n     </g>\r\n    </g>\r\n    <g id=\"xtick_24\">\r\n     <g id=\"line2d_75\">\r\n      <path clip-path=\"url(#pde5c4cbbfa)\" d=\"M 103.059091 328.509145 \r\nL 103.059091 195.382615 \r\n\" style=\"fill:none;stroke:#b0b0b0;stroke-linecap:square;stroke-width:0.8;\"/>\r\n     </g>\r\n     <g id=\"line2d_76\">\r\n      <g>\r\n       <use style=\"stroke:#000000;stroke-width:0.8;\" x=\"103.059091\" xlink:href=\"#mb4638e5f59\" y=\"328.509145\"/>\r\n      </g>\r\n     </g>\r\n     <g id=\"text_41\">\r\n      <!-- 0.2 -->\r\n      <g transform=\"translate(95.107528 343.107583)scale(0.1 -0.1)\">\r\n       <use xlink:href=\"#DejaVuSans-30\"/>\r\n       <use x=\"63.623047\" xlink:href=\"#DejaVuSans-2e\"/>\r\n       <use x=\"95.410156\" xlink:href=\"#DejaVuSans-32\"/>\r\n      </g>\r\n     </g>\r\n    </g>\r\n    <g id=\"xtick_25\">\r\n     <g id=\"line2d_77\">\r\n      <path clip-path=\"url(#pde5c4cbbfa)\" d=\"M 153.786364 328.509145 \r\nL 153.786364 195.382615 \r\n\" style=\"fill:none;stroke:#b0b0b0;stroke-linecap:square;stroke-width:0.8;\"/>\r\n     </g>\r\n     <g id=\"line2d_78\">\r\n      <g>\r\n       <use style=\"stroke:#000000;stroke-width:0.8;\" x=\"153.786364\" xlink:href=\"#mb4638e5f59\" y=\"328.509145\"/>\r\n      </g>\r\n     </g>\r\n     <g id=\"text_42\">\r\n      <!-- 0.4 -->\r\n      <g transform=\"translate(145.834801 343.107583)scale(0.1 -0.1)\">\r\n       <use xlink:href=\"#DejaVuSans-30\"/>\r\n       <use x=\"63.623047\" xlink:href=\"#DejaVuSans-2e\"/>\r\n       <use x=\"95.410156\" xlink:href=\"#DejaVuSans-34\"/>\r\n      </g>\r\n     </g>\r\n    </g>\r\n    <g id=\"xtick_26\">\r\n     <g id=\"line2d_79\">\r\n      <path clip-path=\"url(#pde5c4cbbfa)\" d=\"M 204.513636 328.509145 \r\nL 204.513636 195.382615 \r\n\" style=\"fill:none;stroke:#b0b0b0;stroke-linecap:square;stroke-width:0.8;\"/>\r\n     </g>\r\n     <g id=\"line2d_80\">\r\n      <g>\r\n       <use style=\"stroke:#000000;stroke-width:0.8;\" x=\"204.513636\" xlink:href=\"#mb4638e5f59\" y=\"328.509145\"/>\r\n      </g>\r\n     </g>\r\n     <g id=\"text_43\">\r\n      <!-- 0.6 -->\r\n      <g transform=\"translate(196.562074 343.107583)scale(0.1 -0.1)\">\r\n       <use xlink:href=\"#DejaVuSans-30\"/>\r\n       <use x=\"63.623047\" xlink:href=\"#DejaVuSans-2e\"/>\r\n       <use x=\"95.410156\" xlink:href=\"#DejaVuSans-36\"/>\r\n      </g>\r\n     </g>\r\n    </g>\r\n    <g id=\"xtick_27\">\r\n     <g id=\"line2d_81\">\r\n      <path clip-path=\"url(#pde5c4cbbfa)\" d=\"M 255.240909 328.509145 \r\nL 255.240909 195.382615 \r\n\" style=\"fill:none;stroke:#b0b0b0;stroke-linecap:square;stroke-width:0.8;\"/>\r\n     </g>\r\n     <g id=\"line2d_82\">\r\n      <g>\r\n       <use style=\"stroke:#000000;stroke-width:0.8;\" x=\"255.240909\" xlink:href=\"#mb4638e5f59\" y=\"328.509145\"/>\r\n      </g>\r\n     </g>\r\n     <g id=\"text_44\">\r\n      <!-- 0.8 -->\r\n      <g transform=\"translate(247.289347 343.107583)scale(0.1 -0.1)\">\r\n       <use xlink:href=\"#DejaVuSans-30\"/>\r\n       <use x=\"63.623047\" xlink:href=\"#DejaVuSans-2e\"/>\r\n       <use x=\"95.410156\" xlink:href=\"#DejaVuSans-38\"/>\r\n      </g>\r\n     </g>\r\n    </g>\r\n    <g id=\"xtick_28\">\r\n     <g id=\"line2d_83\">\r\n      <path clip-path=\"url(#pde5c4cbbfa)\" d=\"M 305.968182 328.509145 \r\nL 305.968182 195.382615 \r\n\" style=\"fill:none;stroke:#b0b0b0;stroke-linecap:square;stroke-width:0.8;\"/>\r\n     </g>\r\n     <g id=\"line2d_84\">\r\n      <g>\r\n       <use style=\"stroke:#000000;stroke-width:0.8;\" x=\"305.968182\" xlink:href=\"#mb4638e5f59\" y=\"328.509145\"/>\r\n      </g>\r\n     </g>\r\n     <g id=\"text_45\">\r\n      <!-- 1.0 -->\r\n      <g transform=\"translate(298.016619 343.107583)scale(0.1 -0.1)\">\r\n       <use xlink:href=\"#DejaVuSans-31\"/>\r\n       <use x=\"63.623047\" xlink:href=\"#DejaVuSans-2e\"/>\r\n       <use x=\"95.410156\" xlink:href=\"#DejaVuSans-30\"/>\r\n      </g>\r\n     </g>\r\n    </g>\r\n   </g>\r\n   <g id=\"matplotlib.axis_8\">\r\n    <g id=\"ytick_15\">\r\n     <g id=\"line2d_85\">\r\n      <path clip-path=\"url(#pde5c4cbbfa)\" d=\"M 39.65 328.509145 \r\nL 318.65 328.509145 \r\n\" style=\"fill:none;stroke:#b0b0b0;stroke-linecap:square;stroke-width:0.8;\"/>\r\n     </g>\r\n     <g id=\"line2d_86\">\r\n      <g>\r\n       <use style=\"stroke:#000000;stroke-width:0.8;\" x=\"39.65\" xlink:href=\"#m2a7d614687\" y=\"328.509145\"/>\r\n      </g>\r\n     </g>\r\n     <g id=\"text_46\">\r\n      <!-- 0 -->\r\n      <g transform=\"translate(26.2875 332.308364)scale(0.1 -0.1)\">\r\n       <use xlink:href=\"#DejaVuSans-30\"/>\r\n      </g>\r\n     </g>\r\n    </g>\r\n    <g id=\"ytick_16\">\r\n     <g id=\"line2d_87\">\r\n      <path clip-path=\"url(#pde5c4cbbfa)\" d=\"M 39.65 298.429152 \r\nL 318.65 298.429152 \r\n\" style=\"fill:none;stroke:#b0b0b0;stroke-linecap:square;stroke-width:0.8;\"/>\r\n     </g>\r\n     <g id=\"line2d_88\">\r\n      <g>\r\n       <use style=\"stroke:#000000;stroke-width:0.8;\" x=\"39.65\" xlink:href=\"#m2a7d614687\" y=\"298.429152\"/>\r\n      </g>\r\n     </g>\r\n     <g id=\"text_47\">\r\n      <!-- 200 -->\r\n      <g transform=\"translate(13.5625 302.228371)scale(0.1 -0.1)\">\r\n       <use xlink:href=\"#DejaVuSans-32\"/>\r\n       <use x=\"63.623047\" xlink:href=\"#DejaVuSans-30\"/>\r\n       <use x=\"127.246094\" xlink:href=\"#DejaVuSans-30\"/>\r\n      </g>\r\n     </g>\r\n    </g>\r\n    <g id=\"ytick_17\">\r\n     <g id=\"line2d_89\">\r\n      <path clip-path=\"url(#pde5c4cbbfa)\" d=\"M 39.65 268.349159 \r\nL 318.65 268.349159 \r\n\" style=\"fill:none;stroke:#b0b0b0;stroke-linecap:square;stroke-width:0.8;\"/>\r\n     </g>\r\n     <g id=\"line2d_90\">\r\n      <g>\r\n       <use style=\"stroke:#000000;stroke-width:0.8;\" x=\"39.65\" xlink:href=\"#m2a7d614687\" y=\"268.349159\"/>\r\n      </g>\r\n     </g>\r\n     <g id=\"text_48\">\r\n      <!-- 400 -->\r\n      <g transform=\"translate(13.5625 272.148377)scale(0.1 -0.1)\">\r\n       <use xlink:href=\"#DejaVuSans-34\"/>\r\n       <use x=\"63.623047\" xlink:href=\"#DejaVuSans-30\"/>\r\n       <use x=\"127.246094\" xlink:href=\"#DejaVuSans-30\"/>\r\n      </g>\r\n     </g>\r\n    </g>\r\n    <g id=\"ytick_18\">\r\n     <g id=\"line2d_91\">\r\n      <path clip-path=\"url(#pde5c4cbbfa)\" d=\"M 39.65 238.269165 \r\nL 318.65 238.269165 \r\n\" style=\"fill:none;stroke:#b0b0b0;stroke-linecap:square;stroke-width:0.8;\"/>\r\n     </g>\r\n     <g id=\"line2d_92\">\r\n      <g>\r\n       <use style=\"stroke:#000000;stroke-width:0.8;\" x=\"39.65\" xlink:href=\"#m2a7d614687\" y=\"238.269165\"/>\r\n      </g>\r\n     </g>\r\n     <g id=\"text_49\">\r\n      <!-- 600 -->\r\n      <g transform=\"translate(13.5625 242.068384)scale(0.1 -0.1)\">\r\n       <use xlink:href=\"#DejaVuSans-36\"/>\r\n       <use x=\"63.623047\" xlink:href=\"#DejaVuSans-30\"/>\r\n       <use x=\"127.246094\" xlink:href=\"#DejaVuSans-30\"/>\r\n      </g>\r\n     </g>\r\n    </g>\r\n    <g id=\"ytick_19\">\r\n     <g id=\"line2d_93\">\r\n      <path clip-path=\"url(#pde5c4cbbfa)\" d=\"M 39.65 208.189172 \r\nL 318.65 208.189172 \r\n\" style=\"fill:none;stroke:#b0b0b0;stroke-linecap:square;stroke-width:0.8;\"/>\r\n     </g>\r\n     <g id=\"line2d_94\">\r\n      <g>\r\n       <use style=\"stroke:#000000;stroke-width:0.8;\" x=\"39.65\" xlink:href=\"#m2a7d614687\" y=\"208.189172\"/>\r\n      </g>\r\n     </g>\r\n     <g id=\"text_50\">\r\n      <!-- 800 -->\r\n      <g transform=\"translate(13.5625 211.988391)scale(0.1 -0.1)\">\r\n       <use xlink:href=\"#DejaVuSans-38\"/>\r\n       <use x=\"63.623047\" xlink:href=\"#DejaVuSans-30\"/>\r\n       <use x=\"127.246094\" xlink:href=\"#DejaVuSans-30\"/>\r\n      </g>\r\n     </g>\r\n    </g>\r\n   </g>\r\n   <g id=\"patch_258\">\r\n    <path d=\"M 39.65 328.509145 \r\nL 39.65 195.382615 \r\n\" style=\"fill:none;stroke:#000000;stroke-linecap:square;stroke-linejoin:miter;stroke-width:0.8;\"/>\r\n   </g>\r\n   <g id=\"patch_259\">\r\n    <path d=\"M 318.65 328.509145 \r\nL 318.65 195.382615 \r\n\" style=\"fill:none;stroke:#000000;stroke-linecap:square;stroke-linejoin:miter;stroke-width:0.8;\"/>\r\n   </g>\r\n   <g id=\"patch_260\">\r\n    <path d=\"M 39.65 328.509145 \r\nL 318.65 328.509145 \r\n\" style=\"fill:none;stroke:#000000;stroke-linecap:square;stroke-linejoin:miter;stroke-width:0.8;\"/>\r\n   </g>\r\n   <g id=\"patch_261\">\r\n    <path d=\"M 39.65 195.382615 \r\nL 318.65 195.382615 \r\n\" style=\"fill:none;stroke:#000000;stroke-linecap:square;stroke-linejoin:miter;stroke-width:0.8;\"/>\r\n   </g>\r\n   <g id=\"text_51\">\r\n    <!-- Sex -->\r\n    <g transform=\"translate(168.202812 189.382615)scale(0.12 -0.12)\">\r\n     <defs>\r\n      <path d=\"M 3513 3500 \r\nL 2247 1797 \r\nL 3578 0 \r\nL 2900 0 \r\nL 1881 1375 \r\nL 863 0 \r\nL 184 0 \r\nL 1544 1831 \r\nL 300 3500 \r\nL 978 3500 \r\nL 1906 2253 \r\nL 2834 3500 \r\nL 3513 3500 \r\nz\r\n\" id=\"DejaVuSans-78\" transform=\"scale(0.015625)\"/>\r\n     </defs>\r\n     <use xlink:href=\"#DejaVuSans-53\"/>\r\n     <use x=\"63.476562\" xlink:href=\"#DejaVuSans-65\"/>\r\n     <use x=\"123.25\" xlink:href=\"#DejaVuSans-78\"/>\r\n    </g>\r\n   </g>\r\n  </g>\r\n  <g id=\"axes_5\">\r\n   <g id=\"patch_262\">\r\n    <path d=\"M 402.35 328.509145 \r\nL 681.35 328.509145 \r\nL 681.35 195.382615 \r\nL 402.35 195.382615 \r\nz\r\n\" style=\"fill:#ffffff;\"/>\r\n   </g>\r\n   <g id=\"patch_263\">\r\n    <path clip-path=\"url(#pb20cadc96c)\" d=\"M 415.031818 328.509145 \r\nL 419.259091 328.509145 \r\nL 419.259091 317.221675 \r\nL 415.031818 317.221675 \r\nz\r\n\" style=\"fill:#1f77b4;\"/>\r\n   </g>\r\n   <g id=\"patch_264\">\r\n    <path clip-path=\"url(#pb20cadc96c)\" d=\"M 419.259091 328.509145 \r\nL 423.486364 328.509145 \r\nL 423.486364 328.509145 \r\nL 419.259091 328.509145 \r\nz\r\n\" style=\"fill:#1f77b4;\"/>\r\n   </g>\r\n   <g id=\"patch_265\">\r\n    <path clip-path=\"url(#pb20cadc96c)\" d=\"M 423.486364 328.509145 \r\nL 427.713636 328.509145 \r\nL 427.713636 328.509145 \r\nL 423.486364 328.509145 \r\nz\r\n\" style=\"fill:#1f77b4;\"/>\r\n   </g>\r\n   <g id=\"patch_266\">\r\n    <path clip-path=\"url(#pb20cadc96c)\" d=\"M 427.713636 328.509145 \r\nL 431.940909 328.509145 \r\nL 431.940909 328.509145 \r\nL 427.713636 328.509145 \r\nz\r\n\" style=\"fill:#1f77b4;\"/>\r\n   </g>\r\n   <g id=\"patch_267\">\r\n    <path clip-path=\"url(#pb20cadc96c)\" d=\"M 431.940909 328.509145 \r\nL 436.168182 328.509145 \r\nL 436.168182 328.509145 \r\nL 431.940909 328.509145 \r\nz\r\n\" style=\"fill:#1f77b4;\"/>\r\n   </g>\r\n   <g id=\"patch_268\">\r\n    <path clip-path=\"url(#pb20cadc96c)\" d=\"M 436.168182 328.509145 \r\nL 440.395455 328.509145 \r\nL 440.395455 328.509145 \r\nL 436.168182 328.509145 \r\nz\r\n\" style=\"fill:#1f77b4;\"/>\r\n   </g>\r\n   <g id=\"patch_269\">\r\n    <path clip-path=\"url(#pb20cadc96c)\" d=\"M 440.395455 328.509145 \r\nL 444.622727 328.509145 \r\nL 444.622727 328.509145 \r\nL 440.395455 328.509145 \r\nz\r\n\" style=\"fill:#1f77b4;\"/>\r\n   </g>\r\n   <g id=\"patch_270\">\r\n    <path clip-path=\"url(#pb20cadc96c)\" d=\"M 444.622727 328.509145 \r\nL 448.85 328.509145 \r\nL 448.85 328.509145 \r\nL 444.622727 328.509145 \r\nz\r\n\" style=\"fill:#1f77b4;\"/>\r\n   </g>\r\n   <g id=\"patch_271\">\r\n    <path clip-path=\"url(#pb20cadc96c)\" d=\"M 448.85 328.509145 \r\nL 453.077273 328.509145 \r\nL 453.077273 328.509145 \r\nL 448.85 328.509145 \r\nz\r\n\" style=\"fill:#1f77b4;\"/>\r\n   </g>\r\n   <g id=\"patch_272\">\r\n    <path clip-path=\"url(#pb20cadc96c)\" d=\"M 453.077273 328.509145 \r\nL 457.304545 328.509145 \r\nL 457.304545 328.509145 \r\nL 453.077273 328.509145 \r\nz\r\n\" style=\"fill:#1f77b4;\"/>\r\n   </g>\r\n   <g id=\"patch_273\">\r\n    <path clip-path=\"url(#pb20cadc96c)\" d=\"M 457.304545 328.509145 \r\nL 461.531818 328.509145 \r\nL 461.531818 328.509145 \r\nL 457.304545 328.509145 \r\nz\r\n\" style=\"fill:#1f77b4;\"/>\r\n   </g>\r\n   <g id=\"patch_274\">\r\n    <path clip-path=\"url(#pb20cadc96c)\" d=\"M 461.531818 328.509145 \r\nL 465.759091 328.509145 \r\nL 465.759091 328.509145 \r\nL 461.531818 328.509145 \r\nz\r\n\" style=\"fill:#1f77b4;\"/>\r\n   </g>\r\n   <g id=\"patch_275\">\r\n    <path clip-path=\"url(#pb20cadc96c)\" d=\"M 465.759091 328.509145 \r\nL 469.986364 328.509145 \r\nL 469.986364 328.509145 \r\nL 465.759091 328.509145 \r\nz\r\n\" style=\"fill:#1f77b4;\"/>\r\n   </g>\r\n   <g id=\"patch_276\">\r\n    <path clip-path=\"url(#pb20cadc96c)\" d=\"M 469.986364 328.509145 \r\nL 474.213636 328.509145 \r\nL 474.213636 328.509145 \r\nL 469.986364 328.509145 \r\nz\r\n\" style=\"fill:#1f77b4;\"/>\r\n   </g>\r\n   <g id=\"patch_277\">\r\n    <path clip-path=\"url(#pb20cadc96c)\" d=\"M 474.213636 328.509145 \r\nL 478.440909 328.509145 \r\nL 478.440909 328.509145 \r\nL 474.213636 328.509145 \r\nz\r\n\" style=\"fill:#1f77b4;\"/>\r\n   </g>\r\n   <g id=\"patch_278\">\r\n    <path clip-path=\"url(#pb20cadc96c)\" d=\"M 478.440909 328.509145 \r\nL 482.668182 328.509145 \r\nL 482.668182 314.071683 \r\nL 478.440909 314.071683 \r\nz\r\n\" style=\"fill:#1f77b4;\"/>\r\n   </g>\r\n   <g id=\"patch_279\">\r\n    <path clip-path=\"url(#pb20cadc96c)\" d=\"M 482.668182 328.509145 \r\nL 486.895455 328.509145 \r\nL 486.895455 328.509145 \r\nL 482.668182 328.509145 \r\nz\r\n\" style=\"fill:#1f77b4;\"/>\r\n   </g>\r\n   <g id=\"patch_280\">\r\n    <path clip-path=\"url(#pb20cadc96c)\" d=\"M 486.895455 328.509145 \r\nL 491.122727 328.509145 \r\nL 491.122727 328.509145 \r\nL 486.895455 328.509145 \r\nz\r\n\" style=\"fill:#1f77b4;\"/>\r\n   </g>\r\n   <g id=\"patch_281\">\r\n    <path clip-path=\"url(#pb20cadc96c)\" d=\"M 491.122727 328.509145 \r\nL 495.35 328.509145 \r\nL 495.35 328.509145 \r\nL 491.122727 328.509145 \r\nz\r\n\" style=\"fill:#1f77b4;\"/>\r\n   </g>\r\n   <g id=\"patch_282\">\r\n    <path clip-path=\"url(#pb20cadc96c)\" d=\"M 495.35 328.509145 \r\nL 499.577273 328.509145 \r\nL 499.577273 328.509145 \r\nL 495.35 328.509145 \r\nz\r\n\" style=\"fill:#1f77b4;\"/>\r\n   </g>\r\n   <g id=\"patch_283\">\r\n    <path clip-path=\"url(#pb20cadc96c)\" d=\"M 499.577273 328.509145 \r\nL 503.804545 328.509145 \r\nL 503.804545 328.509145 \r\nL 499.577273 328.509145 \r\nz\r\n\" style=\"fill:#1f77b4;\"/>\r\n   </g>\r\n   <g id=\"patch_284\">\r\n    <path clip-path=\"url(#pb20cadc96c)\" d=\"M 503.804545 328.509145 \r\nL 508.031818 328.509145 \r\nL 508.031818 328.509145 \r\nL 503.804545 328.509145 \r\nz\r\n\" style=\"fill:#1f77b4;\"/>\r\n   </g>\r\n   <g id=\"patch_285\">\r\n    <path clip-path=\"url(#pb20cadc96c)\" d=\"M 508.031818 328.509145 \r\nL 512.259091 328.509145 \r\nL 512.259091 328.509145 \r\nL 508.031818 328.509145 \r\nz\r\n\" style=\"fill:#1f77b4;\"/>\r\n   </g>\r\n   <g id=\"patch_286\">\r\n    <path clip-path=\"url(#pb20cadc96c)\" d=\"M 512.259091 328.509145 \r\nL 516.486364 328.509145 \r\nL 516.486364 328.509145 \r\nL 512.259091 328.509145 \r\nz\r\n\" style=\"fill:#1f77b4;\"/>\r\n   </g>\r\n   <g id=\"patch_287\">\r\n    <path clip-path=\"url(#pb20cadc96c)\" d=\"M 516.486364 328.509145 \r\nL 520.713636 328.509145 \r\nL 520.713636 328.509145 \r\nL 516.486364 328.509145 \r\nz\r\n\" style=\"fill:#1f77b4;\"/>\r\n   </g>\r\n   <g id=\"patch_288\">\r\n    <path clip-path=\"url(#pb20cadc96c)\" d=\"M 520.713636 328.509145 \r\nL 524.940909 328.509145 \r\nL 524.940909 328.509145 \r\nL 520.713636 328.509145 \r\nz\r\n\" style=\"fill:#1f77b4;\"/>\r\n   </g>\r\n   <g id=\"patch_289\">\r\n    <path clip-path=\"url(#pb20cadc96c)\" d=\"M 524.940909 328.509145 \r\nL 529.168182 328.509145 \r\nL 529.168182 328.509145 \r\nL 524.940909 328.509145 \r\nz\r\n\" style=\"fill:#1f77b4;\"/>\r\n   </g>\r\n   <g id=\"patch_290\">\r\n    <path clip-path=\"url(#pb20cadc96c)\" d=\"M 529.168182 328.509145 \r\nL 533.395455 328.509145 \r\nL 533.395455 328.509145 \r\nL 529.168182 328.509145 \r\nz\r\n\" style=\"fill:#1f77b4;\"/>\r\n   </g>\r\n   <g id=\"patch_291\">\r\n    <path clip-path=\"url(#pb20cadc96c)\" d=\"M 533.395455 328.509145 \r\nL 537.622727 328.509145 \r\nL 537.622727 328.509145 \r\nL 533.395455 328.509145 \r\nz\r\n\" style=\"fill:#1f77b4;\"/>\r\n   </g>\r\n   <g id=\"patch_292\">\r\n    <path clip-path=\"url(#pb20cadc96c)\" d=\"M 537.622727 328.509145 \r\nL 541.85 328.509145 \r\nL 541.85 328.509145 \r\nL 537.622727 328.509145 \r\nz\r\n\" style=\"fill:#1f77b4;\"/>\r\n   </g>\r\n   <g id=\"patch_293\">\r\n    <path clip-path=\"url(#pb20cadc96c)\" d=\"M 541.85 328.509145 \r\nL 546.077273 328.509145 \r\nL 546.077273 201.721973 \r\nL 541.85 201.721973 \r\nz\r\n\" style=\"fill:#1f77b4;\"/>\r\n   </g>\r\n   <g id=\"patch_294\">\r\n    <path clip-path=\"url(#pb20cadc96c)\" d=\"M 546.077273 328.509145 \r\nL 550.304545 328.509145 \r\nL 550.304545 328.509145 \r\nL 546.077273 328.509145 \r\nz\r\n\" style=\"fill:#1f77b4;\"/>\r\n   </g>\r\n   <g id=\"patch_295\">\r\n    <path clip-path=\"url(#pb20cadc96c)\" d=\"M 550.304545 328.509145 \r\nL 554.531818 328.509145 \r\nL 554.531818 328.509145 \r\nL 550.304545 328.509145 \r\nz\r\n\" style=\"fill:#1f77b4;\"/>\r\n   </g>\r\n   <g id=\"patch_296\">\r\n    <path clip-path=\"url(#pb20cadc96c)\" d=\"M 554.531818 328.509145 \r\nL 558.759091 328.509145 \r\nL 558.759091 328.509145 \r\nL 554.531818 328.509145 \r\nz\r\n\" style=\"fill:#1f77b4;\"/>\r\n   </g>\r\n   <g id=\"patch_297\">\r\n    <path clip-path=\"url(#pb20cadc96c)\" d=\"M 558.759091 328.509145 \r\nL 562.986364 328.509145 \r\nL 562.986364 328.509145 \r\nL 558.759091 328.509145 \r\nz\r\n\" style=\"fill:#1f77b4;\"/>\r\n   </g>\r\n   <g id=\"patch_298\">\r\n    <path clip-path=\"url(#pb20cadc96c)\" d=\"M 562.986364 328.509145 \r\nL 567.213636 328.509145 \r\nL 567.213636 328.509145 \r\nL 562.986364 328.509145 \r\nz\r\n\" style=\"fill:#1f77b4;\"/>\r\n   </g>\r\n   <g id=\"patch_299\">\r\n    <path clip-path=\"url(#pb20cadc96c)\" d=\"M 567.213636 328.509145 \r\nL 571.440909 328.509145 \r\nL 571.440909 328.509145 \r\nL 567.213636 328.509145 \r\nz\r\n\" style=\"fill:#1f77b4;\"/>\r\n   </g>\r\n   <g id=\"patch_300\">\r\n    <path clip-path=\"url(#pb20cadc96c)\" d=\"M 571.440909 328.509145 \r\nL 575.668182 328.509145 \r\nL 575.668182 328.509145 \r\nL 571.440909 328.509145 \r\nz\r\n\" style=\"fill:#1f77b4;\"/>\r\n   </g>\r\n   <g id=\"patch_301\">\r\n    <path clip-path=\"url(#pb20cadc96c)\" d=\"M 575.668182 328.509145 \r\nL 579.895455 328.509145 \r\nL 579.895455 328.509145 \r\nL 575.668182 328.509145 \r\nz\r\n\" style=\"fill:#1f77b4;\"/>\r\n   </g>\r\n   <g id=\"patch_302\">\r\n    <path clip-path=\"url(#pb20cadc96c)\" d=\"M 579.895455 328.509145 \r\nL 584.122727 328.509145 \r\nL 584.122727 328.509145 \r\nL 579.895455 328.509145 \r\nz\r\n\" style=\"fill:#1f77b4;\"/>\r\n   </g>\r\n   <g id=\"patch_303\">\r\n    <path clip-path=\"url(#pb20cadc96c)\" d=\"M 584.122727 328.509145 \r\nL 588.35 328.509145 \r\nL 588.35 328.509145 \r\nL 584.122727 328.509145 \r\nz\r\n\" style=\"fill:#1f77b4;\"/>\r\n   </g>\r\n   <g id=\"patch_304\">\r\n    <path clip-path=\"url(#pb20cadc96c)\" d=\"M 588.35 328.509145 \r\nL 592.577273 328.509145 \r\nL 592.577273 328.509145 \r\nL 588.35 328.509145 \r\nz\r\n\" style=\"fill:#1f77b4;\"/>\r\n   </g>\r\n   <g id=\"patch_305\">\r\n    <path clip-path=\"url(#pb20cadc96c)\" d=\"M 592.577273 328.509145 \r\nL 596.804545 328.509145 \r\nL 596.804545 328.509145 \r\nL 592.577273 328.509145 \r\nz\r\n\" style=\"fill:#1f77b4;\"/>\r\n   </g>\r\n   <g id=\"patch_306\">\r\n    <path clip-path=\"url(#pb20cadc96c)\" d=\"M 596.804545 328.509145 \r\nL 601.031818 328.509145 \r\nL 601.031818 328.509145 \r\nL 596.804545 328.509145 \r\nz\r\n\" style=\"fill:#1f77b4;\"/>\r\n   </g>\r\n   <g id=\"patch_307\">\r\n    <path clip-path=\"url(#pb20cadc96c)\" d=\"M 601.031818 328.509145 \r\nL 605.259091 328.509145 \r\nL 605.259091 328.509145 \r\nL 601.031818 328.509145 \r\nz\r\n\" style=\"fill:#1f77b4;\"/>\r\n   </g>\r\n   <g id=\"patch_308\">\r\n    <path clip-path=\"url(#pb20cadc96c)\" d=\"M 605.259091 328.509145 \r\nL 609.486364 328.509145 \r\nL 609.486364 310.921691 \r\nL 605.259091 310.921691 \r\nz\r\n\" style=\"fill:#1f77b4;\"/>\r\n   </g>\r\n   <g id=\"patch_309\">\r\n    <path clip-path=\"url(#pb20cadc96c)\" d=\"M 609.486364 328.509145 \r\nL 613.713636 328.509145 \r\nL 613.713636 328.509145 \r\nL 609.486364 328.509145 \r\nz\r\n\" style=\"fill:#1f77b4;\"/>\r\n   </g>\r\n   <g id=\"patch_310\">\r\n    <path clip-path=\"url(#pb20cadc96c)\" d=\"M 613.713636 328.509145 \r\nL 617.940909 328.509145 \r\nL 617.940909 328.509145 \r\nL 613.713636 328.509145 \r\nz\r\n\" style=\"fill:#1f77b4;\"/>\r\n   </g>\r\n   <g id=\"patch_311\">\r\n    <path clip-path=\"url(#pb20cadc96c)\" d=\"M 617.940909 328.509145 \r\nL 622.168182 328.509145 \r\nL 622.168182 328.509145 \r\nL 617.940909 328.509145 \r\nz\r\n\" style=\"fill:#1f77b4;\"/>\r\n   </g>\r\n   <g id=\"patch_312\">\r\n    <path clip-path=\"url(#pb20cadc96c)\" d=\"M 622.168182 328.509145 \r\nL 626.395455 328.509145 \r\nL 626.395455 328.509145 \r\nL 622.168182 328.509145 \r\nz\r\n\" style=\"fill:#1f77b4;\"/>\r\n   </g>\r\n   <g id=\"patch_313\">\r\n    <path clip-path=\"url(#pb20cadc96c)\" d=\"M 626.395455 328.509145 \r\nL 630.622727 328.509145 \r\nL 630.622727 328.509145 \r\nL 626.395455 328.509145 \r\nz\r\n\" style=\"fill:#1f77b4;\"/>\r\n   </g>\r\n   <g id=\"patch_314\">\r\n    <path clip-path=\"url(#pb20cadc96c)\" d=\"M 630.622727 328.509145 \r\nL 634.85 328.509145 \r\nL 634.85 328.509145 \r\nL 630.622727 328.509145 \r\nz\r\n\" style=\"fill:#1f77b4;\"/>\r\n   </g>\r\n   <g id=\"patch_315\">\r\n    <path clip-path=\"url(#pb20cadc96c)\" d=\"M 634.85 328.509145 \r\nL 639.077273 328.509145 \r\nL 639.077273 328.509145 \r\nL 634.85 328.509145 \r\nz\r\n\" style=\"fill:#1f77b4;\"/>\r\n   </g>\r\n   <g id=\"patch_316\">\r\n    <path clip-path=\"url(#pb20cadc96c)\" d=\"M 639.077273 328.509145 \r\nL 643.304545 328.509145 \r\nL 643.304545 328.509145 \r\nL 639.077273 328.509145 \r\nz\r\n\" style=\"fill:#1f77b4;\"/>\r\n   </g>\r\n   <g id=\"patch_317\">\r\n    <path clip-path=\"url(#pb20cadc96c)\" d=\"M 643.304545 328.509145 \r\nL 647.531818 328.509145 \r\nL 647.531818 328.509145 \r\nL 643.304545 328.509145 \r\nz\r\n\" style=\"fill:#1f77b4;\"/>\r\n   </g>\r\n   <g id=\"patch_318\">\r\n    <path clip-path=\"url(#pb20cadc96c)\" d=\"M 647.531818 328.509145 \r\nL 651.759091 328.509145 \r\nL 651.759091 328.509145 \r\nL 647.531818 328.509145 \r\nz\r\n\" style=\"fill:#1f77b4;\"/>\r\n   </g>\r\n   <g id=\"patch_319\">\r\n    <path clip-path=\"url(#pb20cadc96c)\" d=\"M 651.759091 328.509145 \r\nL 655.986364 328.509145 \r\nL 655.986364 328.509145 \r\nL 651.759091 328.509145 \r\nz\r\n\" style=\"fill:#1f77b4;\"/>\r\n   </g>\r\n   <g id=\"patch_320\">\r\n    <path clip-path=\"url(#pb20cadc96c)\" d=\"M 655.986364 328.509145 \r\nL 660.213636 328.509145 \r\nL 660.213636 328.509145 \r\nL 655.986364 328.509145 \r\nz\r\n\" style=\"fill:#1f77b4;\"/>\r\n   </g>\r\n   <g id=\"patch_321\">\r\n    <path clip-path=\"url(#pb20cadc96c)\" d=\"M 660.213636 328.509145 \r\nL 664.440909 328.509145 \r\nL 664.440909 328.509145 \r\nL 660.213636 328.509145 \r\nz\r\n\" style=\"fill:#1f77b4;\"/>\r\n   </g>\r\n   <g id=\"patch_322\">\r\n    <path clip-path=\"url(#pb20cadc96c)\" d=\"M 664.440909 328.509145 \r\nL 668.668182 328.509145 \r\nL 668.668182 326.8029 \r\nL 664.440909 326.8029 \r\nz\r\n\" style=\"fill:#1f77b4;\"/>\r\n   </g>\r\n   <g id=\"matplotlib.axis_9\">\r\n    <g id=\"xtick_29\">\r\n     <g id=\"line2d_95\">\r\n      <path clip-path=\"url(#pb20cadc96c)\" d=\"M 415.031818 328.509145 \r\nL 415.031818 195.382615 \r\n\" style=\"fill:none;stroke:#b0b0b0;stroke-linecap:square;stroke-width:0.8;\"/>\r\n     </g>\r\n     <g id=\"line2d_96\">\r\n      <g>\r\n       <use style=\"stroke:#000000;stroke-width:0.8;\" x=\"415.031818\" xlink:href=\"#mb4638e5f59\" y=\"328.509145\"/>\r\n      </g>\r\n     </g>\r\n     <g id=\"text_52\">\r\n      <!-- 0.0 -->\r\n      <g transform=\"translate(407.080256 343.107583)scale(0.1 -0.1)\">\r\n       <use xlink:href=\"#DejaVuSans-30\"/>\r\n       <use x=\"63.623047\" xlink:href=\"#DejaVuSans-2e\"/>\r\n       <use x=\"95.410156\" xlink:href=\"#DejaVuSans-30\"/>\r\n      </g>\r\n     </g>\r\n    </g>\r\n    <g id=\"xtick_30\">\r\n     <g id=\"line2d_97\">\r\n      <path clip-path=\"url(#pb20cadc96c)\" d=\"M 446.736364 328.509145 \r\nL 446.736364 195.382615 \r\n\" style=\"fill:none;stroke:#b0b0b0;stroke-linecap:square;stroke-width:0.8;\"/>\r\n     </g>\r\n     <g id=\"line2d_98\">\r\n      <g>\r\n       <use style=\"stroke:#000000;stroke-width:0.8;\" x=\"446.736364\" xlink:href=\"#mb4638e5f59\" y=\"328.509145\"/>\r\n      </g>\r\n     </g>\r\n     <g id=\"text_53\">\r\n      <!-- 0.5 -->\r\n      <g transform=\"translate(438.784801 343.107583)scale(0.1 -0.1)\">\r\n       <use xlink:href=\"#DejaVuSans-30\"/>\r\n       <use x=\"63.623047\" xlink:href=\"#DejaVuSans-2e\"/>\r\n       <use x=\"95.410156\" xlink:href=\"#DejaVuSans-35\"/>\r\n      </g>\r\n     </g>\r\n    </g>\r\n    <g id=\"xtick_31\">\r\n     <g id=\"line2d_99\">\r\n      <path clip-path=\"url(#pb20cadc96c)\" d=\"M 478.440909 328.509145 \r\nL 478.440909 195.382615 \r\n\" style=\"fill:none;stroke:#b0b0b0;stroke-linecap:square;stroke-width:0.8;\"/>\r\n     </g>\r\n     <g id=\"line2d_100\">\r\n      <g>\r\n       <use style=\"stroke:#000000;stroke-width:0.8;\" x=\"478.440909\" xlink:href=\"#mb4638e5f59\" y=\"328.509145\"/>\r\n      </g>\r\n     </g>\r\n     <g id=\"text_54\">\r\n      <!-- 1.0 -->\r\n      <g transform=\"translate(470.489347 343.107583)scale(0.1 -0.1)\">\r\n       <use xlink:href=\"#DejaVuSans-31\"/>\r\n       <use x=\"63.623047\" xlink:href=\"#DejaVuSans-2e\"/>\r\n       <use x=\"95.410156\" xlink:href=\"#DejaVuSans-30\"/>\r\n      </g>\r\n     </g>\r\n    </g>\r\n    <g id=\"xtick_32\">\r\n     <g id=\"line2d_101\">\r\n      <path clip-path=\"url(#pb20cadc96c)\" d=\"M 510.145455 328.509145 \r\nL 510.145455 195.382615 \r\n\" style=\"fill:none;stroke:#b0b0b0;stroke-linecap:square;stroke-width:0.8;\"/>\r\n     </g>\r\n     <g id=\"line2d_102\">\r\n      <g>\r\n       <use style=\"stroke:#000000;stroke-width:0.8;\" x=\"510.145455\" xlink:href=\"#mb4638e5f59\" y=\"328.509145\"/>\r\n      </g>\r\n     </g>\r\n     <g id=\"text_55\">\r\n      <!-- 1.5 -->\r\n      <g transform=\"translate(502.193892 343.107583)scale(0.1 -0.1)\">\r\n       <use xlink:href=\"#DejaVuSans-31\"/>\r\n       <use x=\"63.623047\" xlink:href=\"#DejaVuSans-2e\"/>\r\n       <use x=\"95.410156\" xlink:href=\"#DejaVuSans-35\"/>\r\n      </g>\r\n     </g>\r\n    </g>\r\n    <g id=\"xtick_33\">\r\n     <g id=\"line2d_103\">\r\n      <path clip-path=\"url(#pb20cadc96c)\" d=\"M 541.85 328.509145 \r\nL 541.85 195.382615 \r\n\" style=\"fill:none;stroke:#b0b0b0;stroke-linecap:square;stroke-width:0.8;\"/>\r\n     </g>\r\n     <g id=\"line2d_104\">\r\n      <g>\r\n       <use style=\"stroke:#000000;stroke-width:0.8;\" x=\"541.85\" xlink:href=\"#mb4638e5f59\" y=\"328.509145\"/>\r\n      </g>\r\n     </g>\r\n     <g id=\"text_56\">\r\n      <!-- 2.0 -->\r\n      <g transform=\"translate(533.898438 343.107583)scale(0.1 -0.1)\">\r\n       <use xlink:href=\"#DejaVuSans-32\"/>\r\n       <use x=\"63.623047\" xlink:href=\"#DejaVuSans-2e\"/>\r\n       <use x=\"95.410156\" xlink:href=\"#DejaVuSans-30\"/>\r\n      </g>\r\n     </g>\r\n    </g>\r\n    <g id=\"xtick_34\">\r\n     <g id=\"line2d_105\">\r\n      <path clip-path=\"url(#pb20cadc96c)\" d=\"M 573.554545 328.509145 \r\nL 573.554545 195.382615 \r\n\" style=\"fill:none;stroke:#b0b0b0;stroke-linecap:square;stroke-width:0.8;\"/>\r\n     </g>\r\n     <g id=\"line2d_106\">\r\n      <g>\r\n       <use style=\"stroke:#000000;stroke-width:0.8;\" x=\"573.554545\" xlink:href=\"#mb4638e5f59\" y=\"328.509145\"/>\r\n      </g>\r\n     </g>\r\n     <g id=\"text_57\">\r\n      <!-- 2.5 -->\r\n      <g transform=\"translate(565.602983 343.107583)scale(0.1 -0.1)\">\r\n       <use xlink:href=\"#DejaVuSans-32\"/>\r\n       <use x=\"63.623047\" xlink:href=\"#DejaVuSans-2e\"/>\r\n       <use x=\"95.410156\" xlink:href=\"#DejaVuSans-35\"/>\r\n      </g>\r\n     </g>\r\n    </g>\r\n    <g id=\"xtick_35\">\r\n     <g id=\"line2d_107\">\r\n      <path clip-path=\"url(#pb20cadc96c)\" d=\"M 605.259091 328.509145 \r\nL 605.259091 195.382615 \r\n\" style=\"fill:none;stroke:#b0b0b0;stroke-linecap:square;stroke-width:0.8;\"/>\r\n     </g>\r\n     <g id=\"line2d_108\">\r\n      <g>\r\n       <use style=\"stroke:#000000;stroke-width:0.8;\" x=\"605.259091\" xlink:href=\"#mb4638e5f59\" y=\"328.509145\"/>\r\n      </g>\r\n     </g>\r\n     <g id=\"text_58\">\r\n      <!-- 3.0 -->\r\n      <g transform=\"translate(597.307528 343.107583)scale(0.1 -0.1)\">\r\n       <use xlink:href=\"#DejaVuSans-33\"/>\r\n       <use x=\"63.623047\" xlink:href=\"#DejaVuSans-2e\"/>\r\n       <use x=\"95.410156\" xlink:href=\"#DejaVuSans-30\"/>\r\n      </g>\r\n     </g>\r\n    </g>\r\n    <g id=\"xtick_36\">\r\n     <g id=\"line2d_109\">\r\n      <path clip-path=\"url(#pb20cadc96c)\" d=\"M 636.963636 328.509145 \r\nL 636.963636 195.382615 \r\n\" style=\"fill:none;stroke:#b0b0b0;stroke-linecap:square;stroke-width:0.8;\"/>\r\n     </g>\r\n     <g id=\"line2d_110\">\r\n      <g>\r\n       <use style=\"stroke:#000000;stroke-width:0.8;\" x=\"636.963636\" xlink:href=\"#mb4638e5f59\" y=\"328.509145\"/>\r\n      </g>\r\n     </g>\r\n     <g id=\"text_59\">\r\n      <!-- 3.5 -->\r\n      <g transform=\"translate(629.012074 343.107583)scale(0.1 -0.1)\">\r\n       <use xlink:href=\"#DejaVuSans-33\"/>\r\n       <use x=\"63.623047\" xlink:href=\"#DejaVuSans-2e\"/>\r\n       <use x=\"95.410156\" xlink:href=\"#DejaVuSans-35\"/>\r\n      </g>\r\n     </g>\r\n    </g>\r\n    <g id=\"xtick_37\">\r\n     <g id=\"line2d_111\">\r\n      <path clip-path=\"url(#pb20cadc96c)\" d=\"M 668.668182 328.509145 \r\nL 668.668182 195.382615 \r\n\" style=\"fill:none;stroke:#b0b0b0;stroke-linecap:square;stroke-width:0.8;\"/>\r\n     </g>\r\n     <g id=\"line2d_112\">\r\n      <g>\r\n       <use style=\"stroke:#000000;stroke-width:0.8;\" x=\"668.668182\" xlink:href=\"#mb4638e5f59\" y=\"328.509145\"/>\r\n      </g>\r\n     </g>\r\n     <g id=\"text_60\">\r\n      <!-- 4.0 -->\r\n      <g transform=\"translate(660.716619 343.107583)scale(0.1 -0.1)\">\r\n       <use xlink:href=\"#DejaVuSans-34\"/>\r\n       <use x=\"63.623047\" xlink:href=\"#DejaVuSans-2e\"/>\r\n       <use x=\"95.410156\" xlink:href=\"#DejaVuSans-30\"/>\r\n      </g>\r\n     </g>\r\n    </g>\r\n   </g>\r\n   <g id=\"matplotlib.axis_10\">\r\n    <g id=\"ytick_20\">\r\n     <g id=\"line2d_113\">\r\n      <path clip-path=\"url(#pb20cadc96c)\" d=\"M 402.35 328.509145 \r\nL 681.35 328.509145 \r\n\" style=\"fill:none;stroke:#b0b0b0;stroke-linecap:square;stroke-width:0.8;\"/>\r\n     </g>\r\n     <g id=\"line2d_114\">\r\n      <g>\r\n       <use style=\"stroke:#000000;stroke-width:0.8;\" x=\"402.35\" xlink:href=\"#m2a7d614687\" y=\"328.509145\"/>\r\n      </g>\r\n     </g>\r\n     <g id=\"text_61\">\r\n      <!-- 0 -->\r\n      <g transform=\"translate(388.9875 332.308364)scale(0.1 -0.1)\">\r\n       <use xlink:href=\"#DejaVuSans-30\"/>\r\n      </g>\r\n     </g>\r\n    </g>\r\n    <g id=\"ytick_21\">\r\n     <g id=\"line2d_115\">\r\n      <path clip-path=\"url(#pb20cadc96c)\" d=\"M 402.35 302.259213 \r\nL 681.35 302.259213 \r\n\" style=\"fill:none;stroke:#b0b0b0;stroke-linecap:square;stroke-width:0.8;\"/>\r\n     </g>\r\n     <g id=\"line2d_116\">\r\n      <g>\r\n       <use style=\"stroke:#000000;stroke-width:0.8;\" x=\"402.35\" xlink:href=\"#m2a7d614687\" y=\"302.259213\"/>\r\n      </g>\r\n     </g>\r\n     <g id=\"text_62\">\r\n      <!-- 200 -->\r\n      <g transform=\"translate(376.2625 306.058432)scale(0.1 -0.1)\">\r\n       <use xlink:href=\"#DejaVuSans-32\"/>\r\n       <use x=\"63.623047\" xlink:href=\"#DejaVuSans-30\"/>\r\n       <use x=\"127.246094\" xlink:href=\"#DejaVuSans-30\"/>\r\n      </g>\r\n     </g>\r\n    </g>\r\n    <g id=\"ytick_22\">\r\n     <g id=\"line2d_117\">\r\n      <path clip-path=\"url(#pb20cadc96c)\" d=\"M 402.35 276.009281 \r\nL 681.35 276.009281 \r\n\" style=\"fill:none;stroke:#b0b0b0;stroke-linecap:square;stroke-width:0.8;\"/>\r\n     </g>\r\n     <g id=\"line2d_118\">\r\n      <g>\r\n       <use style=\"stroke:#000000;stroke-width:0.8;\" x=\"402.35\" xlink:href=\"#m2a7d614687\" y=\"276.009281\"/>\r\n      </g>\r\n     </g>\r\n     <g id=\"text_63\">\r\n      <!-- 400 -->\r\n      <g transform=\"translate(376.2625 279.8085)scale(0.1 -0.1)\">\r\n       <use xlink:href=\"#DejaVuSans-34\"/>\r\n       <use x=\"63.623047\" xlink:href=\"#DejaVuSans-30\"/>\r\n       <use x=\"127.246094\" xlink:href=\"#DejaVuSans-30\"/>\r\n      </g>\r\n     </g>\r\n    </g>\r\n    <g id=\"ytick_23\">\r\n     <g id=\"line2d_119\">\r\n      <path clip-path=\"url(#pb20cadc96c)\" d=\"M 402.35 249.759349 \r\nL 681.35 249.759349 \r\n\" style=\"fill:none;stroke:#b0b0b0;stroke-linecap:square;stroke-width:0.8;\"/>\r\n     </g>\r\n     <g id=\"line2d_120\">\r\n      <g>\r\n       <use style=\"stroke:#000000;stroke-width:0.8;\" x=\"402.35\" xlink:href=\"#m2a7d614687\" y=\"249.759349\"/>\r\n      </g>\r\n     </g>\r\n     <g id=\"text_64\">\r\n      <!-- 600 -->\r\n      <g transform=\"translate(376.2625 253.558568)scale(0.1 -0.1)\">\r\n       <use xlink:href=\"#DejaVuSans-36\"/>\r\n       <use x=\"63.623047\" xlink:href=\"#DejaVuSans-30\"/>\r\n       <use x=\"127.246094\" xlink:href=\"#DejaVuSans-30\"/>\r\n      </g>\r\n     </g>\r\n    </g>\r\n    <g id=\"ytick_24\">\r\n     <g id=\"line2d_121\">\r\n      <path clip-path=\"url(#pb20cadc96c)\" d=\"M 402.35 223.509417 \r\nL 681.35 223.509417 \r\n\" style=\"fill:none;stroke:#b0b0b0;stroke-linecap:square;stroke-width:0.8;\"/>\r\n     </g>\r\n     <g id=\"line2d_122\">\r\n      <g>\r\n       <use style=\"stroke:#000000;stroke-width:0.8;\" x=\"402.35\" xlink:href=\"#m2a7d614687\" y=\"223.509417\"/>\r\n      </g>\r\n     </g>\r\n     <g id=\"text_65\">\r\n      <!-- 800 -->\r\n      <g transform=\"translate(376.2625 227.308636)scale(0.1 -0.1)\">\r\n       <use xlink:href=\"#DejaVuSans-38\"/>\r\n       <use x=\"63.623047\" xlink:href=\"#DejaVuSans-30\"/>\r\n       <use x=\"127.246094\" xlink:href=\"#DejaVuSans-30\"/>\r\n      </g>\r\n     </g>\r\n    </g>\r\n    <g id=\"ytick_25\">\r\n     <g id=\"line2d_123\">\r\n      <path clip-path=\"url(#pb20cadc96c)\" d=\"M 402.35 197.259485 \r\nL 681.35 197.259485 \r\n\" style=\"fill:none;stroke:#b0b0b0;stroke-linecap:square;stroke-width:0.8;\"/>\r\n     </g>\r\n     <g id=\"line2d_124\">\r\n      <g>\r\n       <use style=\"stroke:#000000;stroke-width:0.8;\" x=\"402.35\" xlink:href=\"#m2a7d614687\" y=\"197.259485\"/>\r\n      </g>\r\n     </g>\r\n     <g id=\"text_66\">\r\n      <!-- 1000 -->\r\n      <g transform=\"translate(369.9 201.058704)scale(0.1 -0.1)\">\r\n       <use xlink:href=\"#DejaVuSans-31\"/>\r\n       <use x=\"63.623047\" xlink:href=\"#DejaVuSans-30\"/>\r\n       <use x=\"127.246094\" xlink:href=\"#DejaVuSans-30\"/>\r\n       <use x=\"190.869141\" xlink:href=\"#DejaVuSans-30\"/>\r\n      </g>\r\n     </g>\r\n    </g>\r\n   </g>\r\n   <g id=\"patch_323\">\r\n    <path d=\"M 402.35 328.509145 \r\nL 402.35 195.382615 \r\n\" style=\"fill:none;stroke:#000000;stroke-linecap:square;stroke-linejoin:miter;stroke-width:0.8;\"/>\r\n   </g>\r\n   <g id=\"patch_324\">\r\n    <path d=\"M 681.35 328.509145 \r\nL 681.35 195.382615 \r\n\" style=\"fill:none;stroke:#000000;stroke-linecap:square;stroke-linejoin:miter;stroke-width:0.8;\"/>\r\n   </g>\r\n   <g id=\"patch_325\">\r\n    <path d=\"M 402.35 328.509145 \r\nL 681.35 328.509145 \r\n\" style=\"fill:none;stroke:#000000;stroke-linecap:square;stroke-linejoin:miter;stroke-width:0.8;\"/>\r\n   </g>\r\n   <g id=\"patch_326\">\r\n    <path d=\"M 402.35 195.382615 \r\nL 681.35 195.382615 \r\n\" style=\"fill:none;stroke:#000000;stroke-linecap:square;stroke-linejoin:miter;stroke-width:0.8;\"/>\r\n   </g>\r\n   <g id=\"text_67\">\r\n    <!-- Age -->\r\n    <g transform=\"translate(530.244688 189.382615)scale(0.12 -0.12)\">\r\n     <defs>\r\n      <path d=\"M 2188 4044 \r\nL 1331 1722 \r\nL 3047 1722 \r\nL 2188 4044 \r\nz\r\nM 1831 4666 \r\nL 2547 4666 \r\nL 4325 0 \r\nL 3669 0 \r\nL 3244 1197 \r\nL 1141 1197 \r\nL 716 0 \r\nL 50 0 \r\nL 1831 4666 \r\nz\r\n\" id=\"DejaVuSans-41\" transform=\"scale(0.015625)\"/>\r\n     </defs>\r\n     <use xlink:href=\"#DejaVuSans-41\"/>\r\n     <use x=\"68.408203\" xlink:href=\"#DejaVuSans-67\"/>\r\n     <use x=\"131.884766\" xlink:href=\"#DejaVuSans-65\"/>\r\n    </g>\r\n   </g>\r\n  </g>\r\n  <g id=\"axes_6\">\r\n   <g id=\"patch_327\">\r\n    <path d=\"M 765.05 328.509145 \r\nL 1044.05 328.509145 \r\nL 1044.05 195.382615 \r\nL 765.05 195.382615 \r\nz\r\n\" style=\"fill:#ffffff;\"/>\r\n   </g>\r\n   <g id=\"patch_328\">\r\n    <path clip-path=\"url(#p84054888b5)\" d=\"M 777.731818 328.509145 \r\nL 781.959091 328.509145 \r\nL 781.959091 201.721973 \r\nL 777.731818 201.721973 \r\nz\r\n\" style=\"fill:#1f77b4;\"/>\r\n   </g>\r\n   <g id=\"patch_329\">\r\n    <path clip-path=\"url(#p84054888b5)\" d=\"M 781.959091 328.509145 \r\nL 786.186364 328.509145 \r\nL 786.186364 328.509145 \r\nL 781.959091 328.509145 \r\nz\r\n\" style=\"fill:#1f77b4;\"/>\r\n   </g>\r\n   <g id=\"patch_330\">\r\n    <path clip-path=\"url(#p84054888b5)\" d=\"M 786.186364 328.509145 \r\nL 790.413636 328.509145 \r\nL 790.413636 328.509145 \r\nL 786.186364 328.509145 \r\nz\r\n\" style=\"fill:#1f77b4;\"/>\r\n   </g>\r\n   <g id=\"patch_331\">\r\n    <path clip-path=\"url(#p84054888b5)\" d=\"M 790.413636 328.509145 \r\nL 794.640909 328.509145 \r\nL 794.640909 328.509145 \r\nL 790.413636 328.509145 \r\nz\r\n\" style=\"fill:#1f77b4;\"/>\r\n   </g>\r\n   <g id=\"patch_332\">\r\n    <path clip-path=\"url(#p84054888b5)\" d=\"M 794.640909 328.509145 \r\nL 798.868182 328.509145 \r\nL 798.868182 328.509145 \r\nL 794.640909 328.509145 \r\nz\r\n\" style=\"fill:#1f77b4;\"/>\r\n   </g>\r\n   <g id=\"patch_333\">\r\n    <path clip-path=\"url(#p84054888b5)\" d=\"M 798.868182 328.509145 \r\nL 803.095455 328.509145 \r\nL 803.095455 328.509145 \r\nL 798.868182 328.509145 \r\nz\r\n\" style=\"fill:#1f77b4;\"/>\r\n   </g>\r\n   <g id=\"patch_334\">\r\n    <path clip-path=\"url(#p84054888b5)\" d=\"M 803.095455 328.509145 \r\nL 807.322727 328.509145 \r\nL 807.322727 328.509145 \r\nL 803.095455 328.509145 \r\nz\r\n\" style=\"fill:#1f77b4;\"/>\r\n   </g>\r\n   <g id=\"patch_335\">\r\n    <path clip-path=\"url(#p84054888b5)\" d=\"M 807.322727 328.509145 \r\nL 811.55 328.509145 \r\nL 811.55 283.116207 \r\nL 807.322727 283.116207 \r\nz\r\n\" style=\"fill:#1f77b4;\"/>\r\n   </g>\r\n   <g id=\"patch_336\">\r\n    <path clip-path=\"url(#p84054888b5)\" d=\"M 811.55 328.509145 \r\nL 815.777273 328.509145 \r\nL 815.777273 328.509145 \r\nL 811.55 328.509145 \r\nz\r\n\" style=\"fill:#1f77b4;\"/>\r\n   </g>\r\n   <g id=\"patch_337\">\r\n    <path clip-path=\"url(#p84054888b5)\" d=\"M 815.777273 328.509145 \r\nL 820.004545 328.509145 \r\nL 820.004545 328.509145 \r\nL 815.777273 328.509145 \r\nz\r\n\" style=\"fill:#1f77b4;\"/>\r\n   </g>\r\n   <g id=\"patch_338\">\r\n    <path clip-path=\"url(#p84054888b5)\" d=\"M 820.004545 328.509145 \r\nL 824.231818 328.509145 \r\nL 824.231818 328.509145 \r\nL 820.004545 328.509145 \r\nz\r\n\" style=\"fill:#1f77b4;\"/>\r\n   </g>\r\n   <g id=\"patch_339\">\r\n    <path clip-path=\"url(#p84054888b5)\" d=\"M 824.231818 328.509145 \r\nL 828.459091 328.509145 \r\nL 828.459091 328.509145 \r\nL 824.231818 328.509145 \r\nz\r\n\" style=\"fill:#1f77b4;\"/>\r\n   </g>\r\n   <g id=\"patch_340\">\r\n    <path clip-path=\"url(#p84054888b5)\" d=\"M 828.459091 328.509145 \r\nL 832.686364 328.509145 \r\nL 832.686364 328.509145 \r\nL 828.459091 328.509145 \r\nz\r\n\" style=\"fill:#1f77b4;\"/>\r\n   </g>\r\n   <g id=\"patch_341\">\r\n    <path clip-path=\"url(#p84054888b5)\" d=\"M 832.686364 328.509145 \r\nL 836.913636 328.509145 \r\nL 836.913636 328.509145 \r\nL 832.686364 328.509145 \r\nz\r\n\" style=\"fill:#1f77b4;\"/>\r\n   </g>\r\n   <g id=\"patch_342\">\r\n    <path clip-path=\"url(#p84054888b5)\" d=\"M 836.913636 328.509145 \r\nL 841.140909 328.509145 \r\nL 841.140909 328.509145 \r\nL 836.913636 328.509145 \r\nz\r\n\" style=\"fill:#1f77b4;\"/>\r\n   </g>\r\n   <g id=\"patch_343\">\r\n    <path clip-path=\"url(#p84054888b5)\" d=\"M 841.140909 328.509145 \r\nL 845.368182 328.509145 \r\nL 845.368182 322.532646 \r\nL 841.140909 322.532646 \r\nz\r\n\" style=\"fill:#1f77b4;\"/>\r\n   </g>\r\n   <g id=\"patch_344\">\r\n    <path clip-path=\"url(#p84054888b5)\" d=\"M 845.368182 328.509145 \r\nL 849.595455 328.509145 \r\nL 849.595455 328.509145 \r\nL 845.368182 328.509145 \r\nz\r\n\" style=\"fill:#1f77b4;\"/>\r\n   </g>\r\n   <g id=\"patch_345\">\r\n    <path clip-path=\"url(#p84054888b5)\" d=\"M 849.595455 328.509145 \r\nL 853.822727 328.509145 \r\nL 853.822727 328.509145 \r\nL 849.595455 328.509145 \r\nz\r\n\" style=\"fill:#1f77b4;\"/>\r\n   </g>\r\n   <g id=\"patch_346\">\r\n    <path clip-path=\"url(#p84054888b5)\" d=\"M 853.822727 328.509145 \r\nL 858.05 328.509145 \r\nL 858.05 328.509145 \r\nL 853.822727 328.509145 \r\nz\r\n\" style=\"fill:#1f77b4;\"/>\r\n   </g>\r\n   <g id=\"patch_347\">\r\n    <path clip-path=\"url(#p84054888b5)\" d=\"M 858.05 328.509145 \r\nL 862.277273 328.509145 \r\nL 862.277273 328.509145 \r\nL 858.05 328.509145 \r\nz\r\n\" style=\"fill:#1f77b4;\"/>\r\n   </g>\r\n   <g id=\"patch_348\">\r\n    <path clip-path=\"url(#p84054888b5)\" d=\"M 862.277273 328.509145 \r\nL 866.504545 328.509145 \r\nL 866.504545 328.509145 \r\nL 862.277273 328.509145 \r\nz\r\n\" style=\"fill:#1f77b4;\"/>\r\n   </g>\r\n   <g id=\"patch_349\">\r\n    <path clip-path=\"url(#p84054888b5)\" d=\"M 866.504545 328.509145 \r\nL 870.731818 328.509145 \r\nL 870.731818 328.509145 \r\nL 866.504545 328.509145 \r\nz\r\n\" style=\"fill:#1f77b4;\"/>\r\n   </g>\r\n   <g id=\"patch_350\">\r\n    <path clip-path=\"url(#p84054888b5)\" d=\"M 870.731818 328.509145 \r\nL 874.959091 328.509145 \r\nL 874.959091 325.663193 \r\nL 870.731818 325.663193 \r\nz\r\n\" style=\"fill:#1f77b4;\"/>\r\n   </g>\r\n   <g id=\"patch_351\">\r\n    <path clip-path=\"url(#p84054888b5)\" d=\"M 874.959091 328.509145 \r\nL 879.186364 328.509145 \r\nL 879.186364 328.509145 \r\nL 874.959091 328.509145 \r\nz\r\n\" style=\"fill:#1f77b4;\"/>\r\n   </g>\r\n   <g id=\"patch_352\">\r\n    <path clip-path=\"url(#p84054888b5)\" d=\"M 879.186364 328.509145 \r\nL 883.413636 328.509145 \r\nL 883.413636 328.509145 \r\nL 879.186364 328.509145 \r\nz\r\n\" style=\"fill:#1f77b4;\"/>\r\n   </g>\r\n   <g id=\"patch_353\">\r\n    <path clip-path=\"url(#p84054888b5)\" d=\"M 883.413636 328.509145 \r\nL 887.640909 328.509145 \r\nL 887.640909 328.509145 \r\nL 883.413636 328.509145 \r\nz\r\n\" style=\"fill:#1f77b4;\"/>\r\n   </g>\r\n   <g id=\"patch_354\">\r\n    <path clip-path=\"url(#p84054888b5)\" d=\"M 887.640909 328.509145 \r\nL 891.868182 328.509145 \r\nL 891.868182 328.509145 \r\nL 887.640909 328.509145 \r\nz\r\n\" style=\"fill:#1f77b4;\"/>\r\n   </g>\r\n   <g id=\"patch_355\">\r\n    <path clip-path=\"url(#p84054888b5)\" d=\"M 891.868182 328.509145 \r\nL 896.095455 328.509145 \r\nL 896.095455 328.509145 \r\nL 891.868182 328.509145 \r\nz\r\n\" style=\"fill:#1f77b4;\"/>\r\n   </g>\r\n   <g id=\"patch_356\">\r\n    <path clip-path=\"url(#p84054888b5)\" d=\"M 896.095455 328.509145 \r\nL 900.322727 328.509145 \r\nL 900.322727 328.509145 \r\nL 896.095455 328.509145 \r\nz\r\n\" style=\"fill:#1f77b4;\"/>\r\n   </g>\r\n   <g id=\"patch_357\">\r\n    <path clip-path=\"url(#p84054888b5)\" d=\"M 900.322727 328.509145 \r\nL 904.55 328.509145 \r\nL 904.55 328.509145 \r\nL 900.322727 328.509145 \r\nz\r\n\" style=\"fill:#1f77b4;\"/>\r\n   </g>\r\n   <g id=\"patch_358\">\r\n    <path clip-path=\"url(#p84054888b5)\" d=\"M 904.55 328.509145 \r\nL 908.777273 328.509145 \r\nL 908.777273 325.378598 \r\nL 904.55 325.378598 \r\nz\r\n\" style=\"fill:#1f77b4;\"/>\r\n   </g>\r\n   <g id=\"patch_359\">\r\n    <path clip-path=\"url(#p84054888b5)\" d=\"M 908.777273 328.509145 \r\nL 913.004545 328.509145 \r\nL 913.004545 328.509145 \r\nL 908.777273 328.509145 \r\nz\r\n\" style=\"fill:#1f77b4;\"/>\r\n   </g>\r\n   <g id=\"patch_360\">\r\n    <path clip-path=\"url(#p84054888b5)\" d=\"M 913.004545 328.509145 \r\nL 917.231818 328.509145 \r\nL 917.231818 328.509145 \r\nL 913.004545 328.509145 \r\nz\r\n\" style=\"fill:#1f77b4;\"/>\r\n   </g>\r\n   <g id=\"patch_361\">\r\n    <path clip-path=\"url(#p84054888b5)\" d=\"M 917.231818 328.509145 \r\nL 921.459091 328.509145 \r\nL 921.459091 328.509145 \r\nL 917.231818 328.509145 \r\nz\r\n\" style=\"fill:#1f77b4;\"/>\r\n   </g>\r\n   <g id=\"patch_362\">\r\n    <path clip-path=\"url(#p84054888b5)\" d=\"M 921.459091 328.509145 \r\nL 925.686364 328.509145 \r\nL 925.686364 328.509145 \r\nL 921.459091 328.509145 \r\nz\r\n\" style=\"fill:#1f77b4;\"/>\r\n   </g>\r\n   <g id=\"patch_363\">\r\n    <path clip-path=\"url(#p84054888b5)\" d=\"M 925.686364 328.509145 \r\nL 929.913636 328.509145 \r\nL 929.913636 328.509145 \r\nL 925.686364 328.509145 \r\nz\r\n\" style=\"fill:#1f77b4;\"/>\r\n   </g>\r\n   <g id=\"patch_364\">\r\n    <path clip-path=\"url(#p84054888b5)\" d=\"M 929.913636 328.509145 \r\nL 934.140909 328.509145 \r\nL 934.140909 328.509145 \r\nL 929.913636 328.509145 \r\nz\r\n\" style=\"fill:#1f77b4;\"/>\r\n   </g>\r\n   <g id=\"patch_365\">\r\n    <path clip-path=\"url(#p84054888b5)\" d=\"M 934.140909 328.509145 \r\nL 938.368182 328.509145 \r\nL 938.368182 327.65536 \r\nL 934.140909 327.65536 \r\nz\r\n\" style=\"fill:#1f77b4;\"/>\r\n   </g>\r\n   <g id=\"patch_366\">\r\n    <path clip-path=\"url(#p84054888b5)\" d=\"M 938.368182 328.509145 \r\nL 942.595455 328.509145 \r\nL 942.595455 328.509145 \r\nL 938.368182 328.509145 \r\nz\r\n\" style=\"fill:#1f77b4;\"/>\r\n   </g>\r\n   <g id=\"patch_367\">\r\n    <path clip-path=\"url(#p84054888b5)\" d=\"M 942.595455 328.509145 \r\nL 946.822727 328.509145 \r\nL 946.822727 328.509145 \r\nL 942.595455 328.509145 \r\nz\r\n\" style=\"fill:#1f77b4;\"/>\r\n   </g>\r\n   <g id=\"patch_368\">\r\n    <path clip-path=\"url(#p84054888b5)\" d=\"M 946.822727 328.509145 \r\nL 951.05 328.509145 \r\nL 951.05 328.509145 \r\nL 946.822727 328.509145 \r\nz\r\n\" style=\"fill:#1f77b4;\"/>\r\n   </g>\r\n   <g id=\"patch_369\">\r\n    <path clip-path=\"url(#p84054888b5)\" d=\"M 951.05 328.509145 \r\nL 955.277273 328.509145 \r\nL 955.277273 328.509145 \r\nL 951.05 328.509145 \r\nz\r\n\" style=\"fill:#1f77b4;\"/>\r\n   </g>\r\n   <g id=\"patch_370\">\r\n    <path clip-path=\"url(#p84054888b5)\" d=\"M 955.277273 328.509145 \r\nL 959.504545 328.509145 \r\nL 959.504545 328.509145 \r\nL 955.277273 328.509145 \r\nz\r\n\" style=\"fill:#1f77b4;\"/>\r\n   </g>\r\n   <g id=\"patch_371\">\r\n    <path clip-path=\"url(#p84054888b5)\" d=\"M 959.504545 328.509145 \r\nL 963.731818 328.509145 \r\nL 963.731818 328.509145 \r\nL 959.504545 328.509145 \r\nz\r\n\" style=\"fill:#1f77b4;\"/>\r\n   </g>\r\n   <g id=\"patch_372\">\r\n    <path clip-path=\"url(#p84054888b5)\" d=\"M 963.731818 328.509145 \r\nL 967.959091 328.509145 \r\nL 967.959091 328.509145 \r\nL 963.731818 328.509145 \r\nz\r\n\" style=\"fill:#1f77b4;\"/>\r\n   </g>\r\n   <g id=\"patch_373\">\r\n    <path clip-path=\"url(#p84054888b5)\" d=\"M 967.959091 328.509145 \r\nL 972.186364 328.509145 \r\nL 972.186364 328.509145 \r\nL 967.959091 328.509145 \r\nz\r\n\" style=\"fill:#1f77b4;\"/>\r\n   </g>\r\n   <g id=\"patch_374\">\r\n    <path clip-path=\"url(#p84054888b5)\" d=\"M 972.186364 328.509145 \r\nL 976.413636 328.509145 \r\nL 976.413636 328.509145 \r\nL 972.186364 328.509145 \r\nz\r\n\" style=\"fill:#1f77b4;\"/>\r\n   </g>\r\n   <g id=\"patch_375\">\r\n    <path clip-path=\"url(#p84054888b5)\" d=\"M 976.413636 328.509145 \r\nL 980.640909 328.509145 \r\nL 980.640909 328.509145 \r\nL 976.413636 328.509145 \r\nz\r\n\" style=\"fill:#1f77b4;\"/>\r\n   </g>\r\n   <g id=\"patch_376\">\r\n    <path clip-path=\"url(#p84054888b5)\" d=\"M 980.640909 328.509145 \r\nL 984.868182 328.509145 \r\nL 984.868182 328.509145 \r\nL 980.640909 328.509145 \r\nz\r\n\" style=\"fill:#1f77b4;\"/>\r\n   </g>\r\n   <g id=\"patch_377\">\r\n    <path clip-path=\"url(#p84054888b5)\" d=\"M 984.868182 328.509145 \r\nL 989.095455 328.509145 \r\nL 989.095455 328.509145 \r\nL 984.868182 328.509145 \r\nz\r\n\" style=\"fill:#1f77b4;\"/>\r\n   </g>\r\n   <g id=\"patch_378\">\r\n    <path clip-path=\"url(#p84054888b5)\" d=\"M 989.095455 328.509145 \r\nL 993.322727 328.509145 \r\nL 993.322727 328.509145 \r\nL 989.095455 328.509145 \r\nz\r\n\" style=\"fill:#1f77b4;\"/>\r\n   </g>\r\n   <g id=\"patch_379\">\r\n    <path clip-path=\"url(#p84054888b5)\" d=\"M 993.322727 328.509145 \r\nL 997.55 328.509145 \r\nL 997.55 328.509145 \r\nL 993.322727 328.509145 \r\nz\r\n\" style=\"fill:#1f77b4;\"/>\r\n   </g>\r\n   <g id=\"patch_380\">\r\n    <path clip-path=\"url(#p84054888b5)\" d=\"M 997.55 328.509145 \r\nL 1001.777273 328.509145 \r\nL 1001.777273 328.509145 \r\nL 997.55 328.509145 \r\nz\r\n\" style=\"fill:#1f77b4;\"/>\r\n   </g>\r\n   <g id=\"patch_381\">\r\n    <path clip-path=\"url(#p84054888b5)\" d=\"M 1001.777273 328.509145 \r\nL 1006.004545 328.509145 \r\nL 1006.004545 328.509145 \r\nL 1001.777273 328.509145 \r\nz\r\n\" style=\"fill:#1f77b4;\"/>\r\n   </g>\r\n   <g id=\"patch_382\">\r\n    <path clip-path=\"url(#p84054888b5)\" d=\"M 1006.004545 328.509145 \r\nL 1010.231818 328.509145 \r\nL 1010.231818 328.509145 \r\nL 1006.004545 328.509145 \r\nz\r\n\" style=\"fill:#1f77b4;\"/>\r\n   </g>\r\n   <g id=\"patch_383\">\r\n    <path clip-path=\"url(#p84054888b5)\" d=\"M 1010.231818 328.509145 \r\nL 1014.459091 328.509145 \r\nL 1014.459091 328.509145 \r\nL 1010.231818 328.509145 \r\nz\r\n\" style=\"fill:#1f77b4;\"/>\r\n   </g>\r\n   <g id=\"patch_384\">\r\n    <path clip-path=\"url(#p84054888b5)\" d=\"M 1014.459091 328.509145 \r\nL 1018.686364 328.509145 \r\nL 1018.686364 328.509145 \r\nL 1014.459091 328.509145 \r\nz\r\n\" style=\"fill:#1f77b4;\"/>\r\n   </g>\r\n   <g id=\"patch_385\">\r\n    <path clip-path=\"url(#p84054888b5)\" d=\"M 1018.686364 328.509145 \r\nL 1022.913636 328.509145 \r\nL 1022.913636 328.509145 \r\nL 1018.686364 328.509145 \r\nz\r\n\" style=\"fill:#1f77b4;\"/>\r\n   </g>\r\n   <g id=\"patch_386\">\r\n    <path clip-path=\"url(#p84054888b5)\" d=\"M 1022.913636 328.509145 \r\nL 1027.140909 328.509145 \r\nL 1027.140909 328.509145 \r\nL 1022.913636 328.509145 \r\nz\r\n\" style=\"fill:#1f77b4;\"/>\r\n   </g>\r\n   <g id=\"patch_387\">\r\n    <path clip-path=\"url(#p84054888b5)\" d=\"M 1027.140909 328.509145 \r\nL 1031.368182 328.509145 \r\nL 1031.368182 327.228467 \r\nL 1027.140909 327.228467 \r\nz\r\n\" style=\"fill:#1f77b4;\"/>\r\n   </g>\r\n   <g id=\"matplotlib.axis_11\">\r\n    <g id=\"xtick_38\">\r\n     <g id=\"line2d_125\">\r\n      <path clip-path=\"url(#p84054888b5)\" d=\"M 777.731818 328.509145 \r\nL 777.731818 195.382615 \r\n\" style=\"fill:none;stroke:#b0b0b0;stroke-linecap:square;stroke-width:0.8;\"/>\r\n     </g>\r\n     <g id=\"line2d_126\">\r\n      <g>\r\n       <use style=\"stroke:#000000;stroke-width:0.8;\" x=\"777.731818\" xlink:href=\"#mb4638e5f59\" y=\"328.509145\"/>\r\n      </g>\r\n     </g>\r\n     <g id=\"text_68\">\r\n      <!-- 0 -->\r\n      <g transform=\"translate(774.550568 343.107583)scale(0.1 -0.1)\">\r\n       <use xlink:href=\"#DejaVuSans-30\"/>\r\n      </g>\r\n     </g>\r\n    </g>\r\n    <g id=\"xtick_39\">\r\n     <g id=\"line2d_127\">\r\n      <path clip-path=\"url(#p84054888b5)\" d=\"M 809.436364 328.509145 \r\nL 809.436364 195.382615 \r\n\" style=\"fill:none;stroke:#b0b0b0;stroke-linecap:square;stroke-width:0.8;\"/>\r\n     </g>\r\n     <g id=\"line2d_128\">\r\n      <g>\r\n       <use style=\"stroke:#000000;stroke-width:0.8;\" x=\"809.436364\" xlink:href=\"#mb4638e5f59\" y=\"328.509145\"/>\r\n      </g>\r\n     </g>\r\n     <g id=\"text_69\">\r\n      <!-- 1 -->\r\n      <g transform=\"translate(806.255114 343.107583)scale(0.1 -0.1)\">\r\n       <use xlink:href=\"#DejaVuSans-31\"/>\r\n      </g>\r\n     </g>\r\n    </g>\r\n    <g id=\"xtick_40\">\r\n     <g id=\"line2d_129\">\r\n      <path clip-path=\"url(#p84054888b5)\" d=\"M 841.140909 328.509145 \r\nL 841.140909 195.382615 \r\n\" style=\"fill:none;stroke:#b0b0b0;stroke-linecap:square;stroke-width:0.8;\"/>\r\n     </g>\r\n     <g id=\"line2d_130\">\r\n      <g>\r\n       <use style=\"stroke:#000000;stroke-width:0.8;\" x=\"841.140909\" xlink:href=\"#mb4638e5f59\" y=\"328.509145\"/>\r\n      </g>\r\n     </g>\r\n     <g id=\"text_70\">\r\n      <!-- 2 -->\r\n      <g transform=\"translate(837.959659 343.107583)scale(0.1 -0.1)\">\r\n       <use xlink:href=\"#DejaVuSans-32\"/>\r\n      </g>\r\n     </g>\r\n    </g>\r\n    <g id=\"xtick_41\">\r\n     <g id=\"line2d_131\">\r\n      <path clip-path=\"url(#p84054888b5)\" d=\"M 872.845455 328.509145 \r\nL 872.845455 195.382615 \r\n\" style=\"fill:none;stroke:#b0b0b0;stroke-linecap:square;stroke-width:0.8;\"/>\r\n     </g>\r\n     <g id=\"line2d_132\">\r\n      <g>\r\n       <use style=\"stroke:#000000;stroke-width:0.8;\" x=\"872.845455\" xlink:href=\"#mb4638e5f59\" y=\"328.509145\"/>\r\n      </g>\r\n     </g>\r\n     <g id=\"text_71\">\r\n      <!-- 3 -->\r\n      <g transform=\"translate(869.664205 343.107583)scale(0.1 -0.1)\">\r\n       <use xlink:href=\"#DejaVuSans-33\"/>\r\n      </g>\r\n     </g>\r\n    </g>\r\n    <g id=\"xtick_42\">\r\n     <g id=\"line2d_133\">\r\n      <path clip-path=\"url(#p84054888b5)\" d=\"M 904.55 328.509145 \r\nL 904.55 195.382615 \r\n\" style=\"fill:none;stroke:#b0b0b0;stroke-linecap:square;stroke-width:0.8;\"/>\r\n     </g>\r\n     <g id=\"line2d_134\">\r\n      <g>\r\n       <use style=\"stroke:#000000;stroke-width:0.8;\" x=\"904.55\" xlink:href=\"#mb4638e5f59\" y=\"328.509145\"/>\r\n      </g>\r\n     </g>\r\n     <g id=\"text_72\">\r\n      <!-- 4 -->\r\n      <g transform=\"translate(901.36875 343.107583)scale(0.1 -0.1)\">\r\n       <use xlink:href=\"#DejaVuSans-34\"/>\r\n      </g>\r\n     </g>\r\n    </g>\r\n    <g id=\"xtick_43\">\r\n     <g id=\"line2d_135\">\r\n      <path clip-path=\"url(#p84054888b5)\" d=\"M 936.254545 328.509145 \r\nL 936.254545 195.382615 \r\n\" style=\"fill:none;stroke:#b0b0b0;stroke-linecap:square;stroke-width:0.8;\"/>\r\n     </g>\r\n     <g id=\"line2d_136\">\r\n      <g>\r\n       <use style=\"stroke:#000000;stroke-width:0.8;\" x=\"936.254545\" xlink:href=\"#mb4638e5f59\" y=\"328.509145\"/>\r\n      </g>\r\n     </g>\r\n     <g id=\"text_73\">\r\n      <!-- 5 -->\r\n      <g transform=\"translate(933.073295 343.107583)scale(0.1 -0.1)\">\r\n       <use xlink:href=\"#DejaVuSans-35\"/>\r\n      </g>\r\n     </g>\r\n    </g>\r\n    <g id=\"xtick_44\">\r\n     <g id=\"line2d_137\">\r\n      <path clip-path=\"url(#p84054888b5)\" d=\"M 967.959091 328.509145 \r\nL 967.959091 195.382615 \r\n\" style=\"fill:none;stroke:#b0b0b0;stroke-linecap:square;stroke-width:0.8;\"/>\r\n     </g>\r\n     <g id=\"line2d_138\">\r\n      <g>\r\n       <use style=\"stroke:#000000;stroke-width:0.8;\" x=\"967.959091\" xlink:href=\"#mb4638e5f59\" y=\"328.509145\"/>\r\n      </g>\r\n     </g>\r\n     <g id=\"text_74\">\r\n      <!-- 6 -->\r\n      <g transform=\"translate(964.777841 343.107583)scale(0.1 -0.1)\">\r\n       <use xlink:href=\"#DejaVuSans-36\"/>\r\n      </g>\r\n     </g>\r\n    </g>\r\n    <g id=\"xtick_45\">\r\n     <g id=\"line2d_139\">\r\n      <path clip-path=\"url(#p84054888b5)\" d=\"M 999.663636 328.509145 \r\nL 999.663636 195.382615 \r\n\" style=\"fill:none;stroke:#b0b0b0;stroke-linecap:square;stroke-width:0.8;\"/>\r\n     </g>\r\n     <g id=\"line2d_140\">\r\n      <g>\r\n       <use style=\"stroke:#000000;stroke-width:0.8;\" x=\"999.663636\" xlink:href=\"#mb4638e5f59\" y=\"328.509145\"/>\r\n      </g>\r\n     </g>\r\n     <g id=\"text_75\">\r\n      <!-- 7 -->\r\n      <g transform=\"translate(996.482386 343.107583)scale(0.1 -0.1)\">\r\n       <use xlink:href=\"#DejaVuSans-37\"/>\r\n      </g>\r\n     </g>\r\n    </g>\r\n    <g id=\"xtick_46\">\r\n     <g id=\"line2d_141\">\r\n      <path clip-path=\"url(#p84054888b5)\" d=\"M 1031.368182 328.509145 \r\nL 1031.368182 195.382615 \r\n\" style=\"fill:none;stroke:#b0b0b0;stroke-linecap:square;stroke-width:0.8;\"/>\r\n     </g>\r\n     <g id=\"line2d_142\">\r\n      <g>\r\n       <use style=\"stroke:#000000;stroke-width:0.8;\" x=\"1031.368182\" xlink:href=\"#mb4638e5f59\" y=\"328.509145\"/>\r\n      </g>\r\n     </g>\r\n     <g id=\"text_76\">\r\n      <!-- 8 -->\r\n      <g transform=\"translate(1028.186932 343.107583)scale(0.1 -0.1)\">\r\n       <use xlink:href=\"#DejaVuSans-38\"/>\r\n      </g>\r\n     </g>\r\n    </g>\r\n   </g>\r\n   <g id=\"matplotlib.axis_12\">\r\n    <g id=\"ytick_26\">\r\n     <g id=\"line2d_143\">\r\n      <path clip-path=\"url(#p84054888b5)\" d=\"M 765.05 328.509145 \r\nL 1044.05 328.509145 \r\n\" style=\"fill:none;stroke:#b0b0b0;stroke-linecap:square;stroke-width:0.8;\"/>\r\n     </g>\r\n     <g id=\"line2d_144\">\r\n      <g>\r\n       <use style=\"stroke:#000000;stroke-width:0.8;\" x=\"765.05\" xlink:href=\"#m2a7d614687\" y=\"328.509145\"/>\r\n      </g>\r\n     </g>\r\n     <g id=\"text_77\">\r\n      <!-- 0 -->\r\n      <g transform=\"translate(751.6875 332.308364)scale(0.1 -0.1)\">\r\n       <use xlink:href=\"#DejaVuSans-30\"/>\r\n      </g>\r\n     </g>\r\n    </g>\r\n    <g id=\"ytick_27\">\r\n     <g id=\"line2d_145\">\r\n      <path clip-path=\"url(#p84054888b5)\" d=\"M 765.05 300.049623 \r\nL 1044.05 300.049623 \r\n\" style=\"fill:none;stroke:#b0b0b0;stroke-linecap:square;stroke-width:0.8;\"/>\r\n     </g>\r\n     <g id=\"line2d_146\">\r\n      <g>\r\n       <use style=\"stroke:#000000;stroke-width:0.8;\" x=\"765.05\" xlink:href=\"#m2a7d614687\" y=\"300.049623\"/>\r\n      </g>\r\n     </g>\r\n     <g id=\"text_78\">\r\n      <!-- 200 -->\r\n      <g transform=\"translate(738.9625 303.848842)scale(0.1 -0.1)\">\r\n       <use xlink:href=\"#DejaVuSans-32\"/>\r\n       <use x=\"63.623047\" xlink:href=\"#DejaVuSans-30\"/>\r\n       <use x=\"127.246094\" xlink:href=\"#DejaVuSans-30\"/>\r\n      </g>\r\n     </g>\r\n    </g>\r\n    <g id=\"ytick_28\">\r\n     <g id=\"line2d_147\">\r\n      <path clip-path=\"url(#p84054888b5)\" d=\"M 765.05 271.590101 \r\nL 1044.05 271.590101 \r\n\" style=\"fill:none;stroke:#b0b0b0;stroke-linecap:square;stroke-width:0.8;\"/>\r\n     </g>\r\n     <g id=\"line2d_148\">\r\n      <g>\r\n       <use style=\"stroke:#000000;stroke-width:0.8;\" x=\"765.05\" xlink:href=\"#m2a7d614687\" y=\"271.590101\"/>\r\n      </g>\r\n     </g>\r\n     <g id=\"text_79\">\r\n      <!-- 400 -->\r\n      <g transform=\"translate(738.9625 275.389319)scale(0.1 -0.1)\">\r\n       <use xlink:href=\"#DejaVuSans-34\"/>\r\n       <use x=\"63.623047\" xlink:href=\"#DejaVuSans-30\"/>\r\n       <use x=\"127.246094\" xlink:href=\"#DejaVuSans-30\"/>\r\n      </g>\r\n     </g>\r\n    </g>\r\n    <g id=\"ytick_29\">\r\n     <g id=\"line2d_149\">\r\n      <path clip-path=\"url(#p84054888b5)\" d=\"M 765.05 243.130578 \r\nL 1044.05 243.130578 \r\n\" style=\"fill:none;stroke:#b0b0b0;stroke-linecap:square;stroke-width:0.8;\"/>\r\n     </g>\r\n     <g id=\"line2d_150\">\r\n      <g>\r\n       <use style=\"stroke:#000000;stroke-width:0.8;\" x=\"765.05\" xlink:href=\"#m2a7d614687\" y=\"243.130578\"/>\r\n      </g>\r\n     </g>\r\n     <g id=\"text_80\">\r\n      <!-- 600 -->\r\n      <g transform=\"translate(738.9625 246.929797)scale(0.1 -0.1)\">\r\n       <use xlink:href=\"#DejaVuSans-36\"/>\r\n       <use x=\"63.623047\" xlink:href=\"#DejaVuSans-30\"/>\r\n       <use x=\"127.246094\" xlink:href=\"#DejaVuSans-30\"/>\r\n      </g>\r\n     </g>\r\n    </g>\r\n    <g id=\"ytick_30\">\r\n     <g id=\"line2d_151\">\r\n      <path clip-path=\"url(#p84054888b5)\" d=\"M 765.05 214.671056 \r\nL 1044.05 214.671056 \r\n\" style=\"fill:none;stroke:#b0b0b0;stroke-linecap:square;stroke-width:0.8;\"/>\r\n     </g>\r\n     <g id=\"line2d_152\">\r\n      <g>\r\n       <use style=\"stroke:#000000;stroke-width:0.8;\" x=\"765.05\" xlink:href=\"#m2a7d614687\" y=\"214.671056\"/>\r\n      </g>\r\n     </g>\r\n     <g id=\"text_81\">\r\n      <!-- 800 -->\r\n      <g transform=\"translate(738.9625 218.470275)scale(0.1 -0.1)\">\r\n       <use xlink:href=\"#DejaVuSans-38\"/>\r\n       <use x=\"63.623047\" xlink:href=\"#DejaVuSans-30\"/>\r\n       <use x=\"127.246094\" xlink:href=\"#DejaVuSans-30\"/>\r\n      </g>\r\n     </g>\r\n    </g>\r\n   </g>\r\n   <g id=\"patch_388\">\r\n    <path d=\"M 765.05 328.509145 \r\nL 765.05 195.382615 \r\n\" style=\"fill:none;stroke:#000000;stroke-linecap:square;stroke-linejoin:miter;stroke-width:0.8;\"/>\r\n   </g>\r\n   <g id=\"patch_389\">\r\n    <path d=\"M 1044.05 328.509145 \r\nL 1044.05 195.382615 \r\n\" style=\"fill:none;stroke:#000000;stroke-linecap:square;stroke-linejoin:miter;stroke-width:0.8;\"/>\r\n   </g>\r\n   <g id=\"patch_390\">\r\n    <path d=\"M 765.05 328.509145 \r\nL 1044.05 328.509145 \r\n\" style=\"fill:none;stroke:#000000;stroke-linecap:square;stroke-linejoin:miter;stroke-width:0.8;\"/>\r\n   </g>\r\n   <g id=\"patch_391\">\r\n    <path d=\"M 765.05 195.382615 \r\nL 1044.05 195.382615 \r\n\" style=\"fill:none;stroke:#000000;stroke-linecap:square;stroke-linejoin:miter;stroke-width:0.8;\"/>\r\n   </g>\r\n   <g id=\"text_82\">\r\n    <!-- SibSp -->\r\n    <g transform=\"translate(887.646875 189.382615)scale(0.12 -0.12)\">\r\n     <defs>\r\n      <path d=\"M 3116 1747 \r\nQ 3116 2381 2855 2742 \r\nQ 2594 3103 2138 3103 \r\nQ 1681 3103 1420 2742 \r\nQ 1159 2381 1159 1747 \r\nQ 1159 1113 1420 752 \r\nQ 1681 391 2138 391 \r\nQ 2594 391 2855 752 \r\nQ 3116 1113 3116 1747 \r\nz\r\nM 1159 2969 \r\nQ 1341 3281 1617 3432 \r\nQ 1894 3584 2278 3584 \r\nQ 2916 3584 3314 3078 \r\nQ 3713 2572 3713 1747 \r\nQ 3713 922 3314 415 \r\nQ 2916 -91 2278 -91 \r\nQ 1894 -91 1617 61 \r\nQ 1341 213 1159 525 \r\nL 1159 0 \r\nL 581 0 \r\nL 581 4863 \r\nL 1159 4863 \r\nL 1159 2969 \r\nz\r\n\" id=\"DejaVuSans-62\" transform=\"scale(0.015625)\"/>\r\n      <path d=\"M 1159 525 \r\nL 1159 -1331 \r\nL 581 -1331 \r\nL 581 3500 \r\nL 1159 3500 \r\nL 1159 2969 \r\nQ 1341 3281 1617 3432 \r\nQ 1894 3584 2278 3584 \r\nQ 2916 3584 3314 3078 \r\nQ 3713 2572 3713 1747 \r\nQ 3713 922 3314 415 \r\nQ 2916 -91 2278 -91 \r\nQ 1894 -91 1617 61 \r\nQ 1341 213 1159 525 \r\nz\r\nM 3116 1747 \r\nQ 3116 2381 2855 2742 \r\nQ 2594 3103 2138 3103 \r\nQ 1681 3103 1420 2742 \r\nQ 1159 2381 1159 1747 \r\nQ 1159 1113 1420 752 \r\nQ 1681 391 2138 391 \r\nQ 2594 391 2855 752 \r\nQ 3116 1113 3116 1747 \r\nz\r\n\" id=\"DejaVuSans-70\" transform=\"scale(0.015625)\"/>\r\n     </defs>\r\n     <use xlink:href=\"#DejaVuSans-53\"/>\r\n     <use x=\"63.476562\" xlink:href=\"#DejaVuSans-69\"/>\r\n     <use x=\"91.259766\" xlink:href=\"#DejaVuSans-62\"/>\r\n     <use x=\"154.736328\" xlink:href=\"#DejaVuSans-53\"/>\r\n     <use x=\"218.212891\" xlink:href=\"#DejaVuSans-70\"/>\r\n    </g>\r\n   </g>\r\n  </g>\r\n  <g id=\"axes_7\">\r\n   <g id=\"patch_392\">\r\n    <path d=\"M 39.65 501.573635 \r\nL 318.65 501.573635 \r\nL 318.65 368.447105 \r\nL 39.65 368.447105 \r\nz\r\n\" style=\"fill:#ffffff;\"/>\r\n   </g>\r\n   <g id=\"patch_393\">\r\n    <path clip-path=\"url(#p857d293dcb)\" d=\"M 52.331818 501.573635 \r\nL 56.559091 501.573635 \r\nL 56.559091 374.786463 \r\nL 52.331818 374.786463 \r\nz\r\n\" style=\"fill:#1f77b4;\"/>\r\n   </g>\r\n   <g id=\"patch_394\">\r\n    <path clip-path=\"url(#p857d293dcb)\" d=\"M 56.559091 501.573635 \r\nL 60.786364 501.573635 \r\nL 60.786364 501.573635 \r\nL 56.559091 501.573635 \r\nz\r\n\" style=\"fill:#1f77b4;\"/>\r\n   </g>\r\n   <g id=\"patch_395\">\r\n    <path clip-path=\"url(#p857d293dcb)\" d=\"M 60.786364 501.573635 \r\nL 65.013636 501.573635 \r\nL 65.013636 501.573635 \r\nL 60.786364 501.573635 \r\nz\r\n\" style=\"fill:#1f77b4;\"/>\r\n   </g>\r\n   <g id=\"patch_396\">\r\n    <path clip-path=\"url(#p857d293dcb)\" d=\"M 65.013636 501.573635 \r\nL 69.240909 501.573635 \r\nL 69.240909 501.573635 \r\nL 65.013636 501.573635 \r\nz\r\n\" style=\"fill:#1f77b4;\"/>\r\n   </g>\r\n   <g id=\"patch_397\">\r\n    <path clip-path=\"url(#p857d293dcb)\" d=\"M 69.240909 501.573635 \r\nL 73.468182 501.573635 \r\nL 73.468182 501.573635 \r\nL 69.240909 501.573635 \r\nz\r\n\" style=\"fill:#1f77b4;\"/>\r\n   </g>\r\n   <g id=\"patch_398\">\r\n    <path clip-path=\"url(#p857d293dcb)\" d=\"M 73.468182 501.573635 \r\nL 77.695455 501.573635 \r\nL 77.695455 501.573635 \r\nL 73.468182 501.573635 \r\nz\r\n\" style=\"fill:#1f77b4;\"/>\r\n   </g>\r\n   <g id=\"patch_399\">\r\n    <path clip-path=\"url(#p857d293dcb)\" d=\"M 77.695455 501.573635 \r\nL 81.922727 501.573635 \r\nL 81.922727 480.062838 \r\nL 77.695455 480.062838 \r\nz\r\n\" style=\"fill:#1f77b4;\"/>\r\n   </g>\r\n   <g id=\"patch_400\">\r\n    <path clip-path=\"url(#p857d293dcb)\" d=\"M 81.922727 501.573635 \r\nL 86.15 501.573635 \r\nL 86.15 501.573635 \r\nL 81.922727 501.573635 \r\nz\r\n\" style=\"fill:#1f77b4;\"/>\r\n   </g>\r\n   <g id=\"patch_401\">\r\n    <path clip-path=\"url(#p857d293dcb)\" d=\"M 86.15 501.573635 \r\nL 90.377273 501.573635 \r\nL 90.377273 501.573635 \r\nL 86.15 501.573635 \r\nz\r\n\" style=\"fill:#1f77b4;\"/>\r\n   </g>\r\n   <g id=\"patch_402\">\r\n    <path clip-path=\"url(#p857d293dcb)\" d=\"M 90.377273 501.573635 \r\nL 94.604545 501.573635 \r\nL 94.604545 501.573635 \r\nL 90.377273 501.573635 \r\nz\r\n\" style=\"fill:#1f77b4;\"/>\r\n   </g>\r\n   <g id=\"patch_403\">\r\n    <path clip-path=\"url(#p857d293dcb)\" d=\"M 94.604545 501.573635 \r\nL 98.831818 501.573635 \r\nL 98.831818 501.573635 \r\nL 94.604545 501.573635 \r\nz\r\n\" style=\"fill:#1f77b4;\"/>\r\n   </g>\r\n   <g id=\"patch_404\">\r\n    <path clip-path=\"url(#p857d293dcb)\" d=\"M 98.831818 501.573635 \r\nL 103.059091 501.573635 \r\nL 103.059091 501.573635 \r\nL 98.831818 501.573635 \r\nz\r\n\" style=\"fill:#1f77b4;\"/>\r\n   </g>\r\n   <g id=\"patch_405\">\r\n    <path clip-path=\"url(#p857d293dcb)\" d=\"M 103.059091 501.573635 \r\nL 107.286364 501.573635 \r\nL 107.286364 501.573635 \r\nL 103.059091 501.573635 \r\nz\r\n\" style=\"fill:#1f77b4;\"/>\r\n   </g>\r\n   <g id=\"patch_406\">\r\n    <path clip-path=\"url(#p857d293dcb)\" d=\"M 107.286364 501.573635 \r\nL 111.513636 501.573635 \r\nL 111.513636 487.275281 \r\nL 107.286364 487.275281 \r\nz\r\n\" style=\"fill:#1f77b4;\"/>\r\n   </g>\r\n   <g id=\"patch_407\">\r\n    <path clip-path=\"url(#p857d293dcb)\" d=\"M 111.513636 501.573635 \r\nL 115.740909 501.573635 \r\nL 115.740909 501.573635 \r\nL 111.513636 501.573635 \r\nz\r\n\" style=\"fill:#1f77b4;\"/>\r\n   </g>\r\n   <g id=\"patch_408\">\r\n    <path clip-path=\"url(#p857d293dcb)\" d=\"M 115.740909 501.573635 \r\nL 119.968182 501.573635 \r\nL 119.968182 501.573635 \r\nL 115.740909 501.573635 \r\nz\r\n\" style=\"fill:#1f77b4;\"/>\r\n   </g>\r\n   <g id=\"patch_409\">\r\n    <path clip-path=\"url(#p857d293dcb)\" d=\"M 119.968182 501.573635 \r\nL 124.195455 501.573635 \r\nL 124.195455 501.573635 \r\nL 119.968182 501.573635 \r\nz\r\n\" style=\"fill:#1f77b4;\"/>\r\n   </g>\r\n   <g id=\"patch_410\">\r\n    <path clip-path=\"url(#p857d293dcb)\" d=\"M 124.195455 501.573635 \r\nL 128.422727 501.573635 \r\nL 128.422727 501.573635 \r\nL 124.195455 501.573635 \r\nz\r\n\" style=\"fill:#1f77b4;\"/>\r\n   </g>\r\n   <g id=\"patch_411\">\r\n    <path clip-path=\"url(#p857d293dcb)\" d=\"M 128.422727 501.573635 \r\nL 132.65 501.573635 \r\nL 132.65 501.573635 \r\nL 128.422727 501.573635 \r\nz\r\n\" style=\"fill:#1f77b4;\"/>\r\n   </g>\r\n   <g id=\"patch_412\">\r\n    <path clip-path=\"url(#p857d293dcb)\" d=\"M 132.65 501.573635 \r\nL 136.877273 501.573635 \r\nL 136.877273 501.573635 \r\nL 132.65 501.573635 \r\nz\r\n\" style=\"fill:#1f77b4;\"/>\r\n   </g>\r\n   <g id=\"patch_413\">\r\n    <path clip-path=\"url(#p857d293dcb)\" d=\"M 136.877273 501.573635 \r\nL 141.104545 501.573635 \r\nL 141.104545 500.561362 \r\nL 136.877273 500.561362 \r\nz\r\n\" style=\"fill:#1f77b4;\"/>\r\n   </g>\r\n   <g id=\"patch_414\">\r\n    <path clip-path=\"url(#p857d293dcb)\" d=\"M 141.104545 501.573635 \r\nL 145.331818 501.573635 \r\nL 145.331818 501.573635 \r\nL 141.104545 501.573635 \r\nz\r\n\" style=\"fill:#1f77b4;\"/>\r\n   </g>\r\n   <g id=\"patch_415\">\r\n    <path clip-path=\"url(#p857d293dcb)\" d=\"M 145.331818 501.573635 \r\nL 149.559091 501.573635 \r\nL 149.559091 501.573635 \r\nL 145.331818 501.573635 \r\nz\r\n\" style=\"fill:#1f77b4;\"/>\r\n   </g>\r\n   <g id=\"patch_416\">\r\n    <path clip-path=\"url(#p857d293dcb)\" d=\"M 149.559091 501.573635 \r\nL 153.786364 501.573635 \r\nL 153.786364 501.573635 \r\nL 149.559091 501.573635 \r\nz\r\n\" style=\"fill:#1f77b4;\"/>\r\n   </g>\r\n   <g id=\"patch_417\">\r\n    <path clip-path=\"url(#p857d293dcb)\" d=\"M 153.786364 501.573635 \r\nL 158.013636 501.573635 \r\nL 158.013636 501.573635 \r\nL 153.786364 501.573635 \r\nz\r\n\" style=\"fill:#1f77b4;\"/>\r\n   </g>\r\n   <g id=\"patch_418\">\r\n    <path clip-path=\"url(#p857d293dcb)\" d=\"M 158.013636 501.573635 \r\nL 162.240909 501.573635 \r\nL 162.240909 501.573635 \r\nL 158.013636 501.573635 \r\nz\r\n\" style=\"fill:#1f77b4;\"/>\r\n   </g>\r\n   <g id=\"patch_419\">\r\n    <path clip-path=\"url(#p857d293dcb)\" d=\"M 162.240909 501.573635 \r\nL 166.468182 501.573635 \r\nL 166.468182 500.814431 \r\nL 162.240909 500.814431 \r\nz\r\n\" style=\"fill:#1f77b4;\"/>\r\n   </g>\r\n   <g id=\"patch_420\">\r\n    <path clip-path=\"url(#p857d293dcb)\" d=\"M 166.468182 501.573635 \r\nL 170.695455 501.573635 \r\nL 170.695455 501.573635 \r\nL 166.468182 501.573635 \r\nz\r\n\" style=\"fill:#1f77b4;\"/>\r\n   </g>\r\n   <g id=\"patch_421\">\r\n    <path clip-path=\"url(#p857d293dcb)\" d=\"M 170.695455 501.573635 \r\nL 174.922727 501.573635 \r\nL 174.922727 501.573635 \r\nL 170.695455 501.573635 \r\nz\r\n\" style=\"fill:#1f77b4;\"/>\r\n   </g>\r\n   <g id=\"patch_422\">\r\n    <path clip-path=\"url(#p857d293dcb)\" d=\"M 174.922727 501.573635 \r\nL 179.15 501.573635 \r\nL 179.15 501.573635 \r\nL 174.922727 501.573635 \r\nz\r\n\" style=\"fill:#1f77b4;\"/>\r\n   </g>\r\n   <g id=\"patch_423\">\r\n    <path clip-path=\"url(#p857d293dcb)\" d=\"M 179.15 501.573635 \r\nL 183.377273 501.573635 \r\nL 183.377273 501.573635 \r\nL 179.15 501.573635 \r\nz\r\n\" style=\"fill:#1f77b4;\"/>\r\n   </g>\r\n   <g id=\"patch_424\">\r\n    <path clip-path=\"url(#p857d293dcb)\" d=\"M 183.377273 501.573635 \r\nL 187.604545 501.573635 \r\nL 187.604545 501.573635 \r\nL 183.377273 501.573635 \r\nz\r\n\" style=\"fill:#1f77b4;\"/>\r\n   </g>\r\n   <g id=\"patch_425\">\r\n    <path clip-path=\"url(#p857d293dcb)\" d=\"M 187.604545 501.573635 \r\nL 191.831818 501.573635 \r\nL 191.831818 501.573635 \r\nL 187.604545 501.573635 \r\nz\r\n\" style=\"fill:#1f77b4;\"/>\r\n   </g>\r\n   <g id=\"patch_426\">\r\n    <path clip-path=\"url(#p857d293dcb)\" d=\"M 191.831818 501.573635 \r\nL 196.059091 501.573635 \r\nL 196.059091 500.814431 \r\nL 191.831818 500.814431 \r\nz\r\n\" style=\"fill:#1f77b4;\"/>\r\n   </g>\r\n   <g id=\"patch_427\">\r\n    <path clip-path=\"url(#p857d293dcb)\" d=\"M 196.059091 501.573635 \r\nL 200.286364 501.573635 \r\nL 200.286364 501.573635 \r\nL 196.059091 501.573635 \r\nz\r\n\" style=\"fill:#1f77b4;\"/>\r\n   </g>\r\n   <g id=\"patch_428\">\r\n    <path clip-path=\"url(#p857d293dcb)\" d=\"M 200.286364 501.573635 \r\nL 204.513636 501.573635 \r\nL 204.513636 501.573635 \r\nL 200.286364 501.573635 \r\nz\r\n\" style=\"fill:#1f77b4;\"/>\r\n   </g>\r\n   <g id=\"patch_429\">\r\n    <path clip-path=\"url(#p857d293dcb)\" d=\"M 204.513636 501.573635 \r\nL 208.740909 501.573635 \r\nL 208.740909 501.573635 \r\nL 204.513636 501.573635 \r\nz\r\n\" style=\"fill:#1f77b4;\"/>\r\n   </g>\r\n   <g id=\"patch_430\">\r\n    <path clip-path=\"url(#p857d293dcb)\" d=\"M 208.740909 501.573635 \r\nL 212.968182 501.573635 \r\nL 212.968182 501.573635 \r\nL 208.740909 501.573635 \r\nz\r\n\" style=\"fill:#1f77b4;\"/>\r\n   </g>\r\n   <g id=\"patch_431\">\r\n    <path clip-path=\"url(#p857d293dcb)\" d=\"M 212.968182 501.573635 \r\nL 217.195455 501.573635 \r\nL 217.195455 501.573635 \r\nL 212.968182 501.573635 \r\nz\r\n\" style=\"fill:#1f77b4;\"/>\r\n   </g>\r\n   <g id=\"patch_432\">\r\n    <path clip-path=\"url(#p857d293dcb)\" d=\"M 217.195455 501.573635 \r\nL 221.422727 501.573635 \r\nL 221.422727 501.573635 \r\nL 217.195455 501.573635 \r\nz\r\n\" style=\"fill:#1f77b4;\"/>\r\n   </g>\r\n   <g id=\"patch_433\">\r\n    <path clip-path=\"url(#p857d293dcb)\" d=\"M 221.422727 501.573635 \r\nL 225.65 501.573635 \r\nL 225.65 501.320567 \r\nL 221.422727 501.320567 \r\nz\r\n\" style=\"fill:#1f77b4;\"/>\r\n   </g>\r\n   <g id=\"patch_434\">\r\n    <path clip-path=\"url(#p857d293dcb)\" d=\"M 225.65 501.573635 \r\nL 229.877273 501.573635 \r\nL 229.877273 501.573635 \r\nL 225.65 501.573635 \r\nz\r\n\" style=\"fill:#1f77b4;\"/>\r\n   </g>\r\n   <g id=\"patch_435\">\r\n    <path clip-path=\"url(#p857d293dcb)\" d=\"M 229.877273 501.573635 \r\nL 234.104545 501.573635 \r\nL 234.104545 501.573635 \r\nL 229.877273 501.573635 \r\nz\r\n\" style=\"fill:#1f77b4;\"/>\r\n   </g>\r\n   <g id=\"patch_436\">\r\n    <path clip-path=\"url(#p857d293dcb)\" d=\"M 234.104545 501.573635 \r\nL 238.331818 501.573635 \r\nL 238.331818 501.573635 \r\nL 234.104545 501.573635 \r\nz\r\n\" style=\"fill:#1f77b4;\"/>\r\n   </g>\r\n   <g id=\"patch_437\">\r\n    <path clip-path=\"url(#p857d293dcb)\" d=\"M 238.331818 501.573635 \r\nL 242.559091 501.573635 \r\nL 242.559091 501.573635 \r\nL 238.331818 501.573635 \r\nz\r\n\" style=\"fill:#1f77b4;\"/>\r\n   </g>\r\n   <g id=\"patch_438\">\r\n    <path clip-path=\"url(#p857d293dcb)\" d=\"M 242.559091 501.573635 \r\nL 246.786364 501.573635 \r\nL 246.786364 501.573635 \r\nL 242.559091 501.573635 \r\nz\r\n\" style=\"fill:#1f77b4;\"/>\r\n   </g>\r\n   <g id=\"patch_439\">\r\n    <path clip-path=\"url(#p857d293dcb)\" d=\"M 246.786364 501.573635 \r\nL 251.013636 501.573635 \r\nL 251.013636 501.573635 \r\nL 246.786364 501.573635 \r\nz\r\n\" style=\"fill:#1f77b4;\"/>\r\n   </g>\r\n   <g id=\"patch_440\">\r\n    <path clip-path=\"url(#p857d293dcb)\" d=\"M 251.013636 501.573635 \r\nL 255.240909 501.573635 \r\nL 255.240909 501.573635 \r\nL 251.013636 501.573635 \r\nz\r\n\" style=\"fill:#1f77b4;\"/>\r\n   </g>\r\n   <g id=\"patch_441\">\r\n    <path clip-path=\"url(#p857d293dcb)\" d=\"M 255.240909 501.573635 \r\nL 259.468182 501.573635 \r\nL 259.468182 501.573635 \r\nL 255.240909 501.573635 \r\nz\r\n\" style=\"fill:#1f77b4;\"/>\r\n   </g>\r\n   <g id=\"patch_442\">\r\n    <path clip-path=\"url(#p857d293dcb)\" d=\"M 259.468182 501.573635 \r\nL 263.695455 501.573635 \r\nL 263.695455 501.573635 \r\nL 259.468182 501.573635 \r\nz\r\n\" style=\"fill:#1f77b4;\"/>\r\n   </g>\r\n   <g id=\"patch_443\">\r\n    <path clip-path=\"url(#p857d293dcb)\" d=\"M 263.695455 501.573635 \r\nL 267.922727 501.573635 \r\nL 267.922727 501.573635 \r\nL 263.695455 501.573635 \r\nz\r\n\" style=\"fill:#1f77b4;\"/>\r\n   </g>\r\n   <g id=\"patch_444\">\r\n    <path clip-path=\"url(#p857d293dcb)\" d=\"M 267.922727 501.573635 \r\nL 272.15 501.573635 \r\nL 272.15 501.573635 \r\nL 267.922727 501.573635 \r\nz\r\n\" style=\"fill:#1f77b4;\"/>\r\n   </g>\r\n   <g id=\"patch_445\">\r\n    <path clip-path=\"url(#p857d293dcb)\" d=\"M 272.15 501.573635 \r\nL 276.377273 501.573635 \r\nL 276.377273 501.573635 \r\nL 272.15 501.573635 \r\nz\r\n\" style=\"fill:#1f77b4;\"/>\r\n   </g>\r\n   <g id=\"patch_446\">\r\n    <path clip-path=\"url(#p857d293dcb)\" d=\"M 276.377273 501.573635 \r\nL 280.604545 501.573635 \r\nL 280.604545 501.573635 \r\nL 276.377273 501.573635 \r\nz\r\n\" style=\"fill:#1f77b4;\"/>\r\n   </g>\r\n   <g id=\"patch_447\">\r\n    <path clip-path=\"url(#p857d293dcb)\" d=\"M 280.604545 501.573635 \r\nL 284.831818 501.573635 \r\nL 284.831818 501.573635 \r\nL 280.604545 501.573635 \r\nz\r\n\" style=\"fill:#1f77b4;\"/>\r\n   </g>\r\n   <g id=\"patch_448\">\r\n    <path clip-path=\"url(#p857d293dcb)\" d=\"M 284.831818 501.573635 \r\nL 289.059091 501.573635 \r\nL 289.059091 501.573635 \r\nL 284.831818 501.573635 \r\nz\r\n\" style=\"fill:#1f77b4;\"/>\r\n   </g>\r\n   <g id=\"patch_449\">\r\n    <path clip-path=\"url(#p857d293dcb)\" d=\"M 289.059091 501.573635 \r\nL 293.286364 501.573635 \r\nL 293.286364 501.573635 \r\nL 289.059091 501.573635 \r\nz\r\n\" style=\"fill:#1f77b4;\"/>\r\n   </g>\r\n   <g id=\"patch_450\">\r\n    <path clip-path=\"url(#p857d293dcb)\" d=\"M 293.286364 501.573635 \r\nL 297.513636 501.573635 \r\nL 297.513636 501.573635 \r\nL 293.286364 501.573635 \r\nz\r\n\" style=\"fill:#1f77b4;\"/>\r\n   </g>\r\n   <g id=\"patch_451\">\r\n    <path clip-path=\"url(#p857d293dcb)\" d=\"M 297.513636 501.573635 \r\nL 301.740909 501.573635 \r\nL 301.740909 501.573635 \r\nL 297.513636 501.573635 \r\nz\r\n\" style=\"fill:#1f77b4;\"/>\r\n   </g>\r\n   <g id=\"patch_452\">\r\n    <path clip-path=\"url(#p857d293dcb)\" d=\"M 301.740909 501.573635 \r\nL 305.968182 501.573635 \r\nL 305.968182 501.320567 \r\nL 301.740909 501.320567 \r\nz\r\n\" style=\"fill:#1f77b4;\"/>\r\n   </g>\r\n   <g id=\"matplotlib.axis_13\">\r\n    <g id=\"xtick_47\">\r\n     <g id=\"line2d_153\">\r\n      <path clip-path=\"url(#p857d293dcb)\" d=\"M 52.331818 501.573635 \r\nL 52.331818 368.447105 \r\n\" style=\"fill:none;stroke:#b0b0b0;stroke-linecap:square;stroke-width:0.8;\"/>\r\n     </g>\r\n     <g id=\"line2d_154\">\r\n      <g>\r\n       <use style=\"stroke:#000000;stroke-width:0.8;\" x=\"52.331818\" xlink:href=\"#mb4638e5f59\" y=\"501.573635\"/>\r\n      </g>\r\n     </g>\r\n     <g id=\"text_83\">\r\n      <!-- 0 -->\r\n      <g transform=\"translate(49.150568 516.172073)scale(0.1 -0.1)\">\r\n       <use xlink:href=\"#DejaVuSans-30\"/>\r\n      </g>\r\n     </g>\r\n    </g>\r\n    <g id=\"xtick_48\">\r\n     <g id=\"line2d_155\">\r\n      <path clip-path=\"url(#p857d293dcb)\" d=\"M 108.695455 501.573635 \r\nL 108.695455 368.447105 \r\n\" style=\"fill:none;stroke:#b0b0b0;stroke-linecap:square;stroke-width:0.8;\"/>\r\n     </g>\r\n     <g id=\"line2d_156\">\r\n      <g>\r\n       <use style=\"stroke:#000000;stroke-width:0.8;\" x=\"108.695455\" xlink:href=\"#mb4638e5f59\" y=\"501.573635\"/>\r\n      </g>\r\n     </g>\r\n     <g id=\"text_84\">\r\n      <!-- 2 -->\r\n      <g transform=\"translate(105.514205 516.172073)scale(0.1 -0.1)\">\r\n       <use xlink:href=\"#DejaVuSans-32\"/>\r\n      </g>\r\n     </g>\r\n    </g>\r\n    <g id=\"xtick_49\">\r\n     <g id=\"line2d_157\">\r\n      <path clip-path=\"url(#p857d293dcb)\" d=\"M 165.059091 501.573635 \r\nL 165.059091 368.447105 \r\n\" style=\"fill:none;stroke:#b0b0b0;stroke-linecap:square;stroke-width:0.8;\"/>\r\n     </g>\r\n     <g id=\"line2d_158\">\r\n      <g>\r\n       <use style=\"stroke:#000000;stroke-width:0.8;\" x=\"165.059091\" xlink:href=\"#mb4638e5f59\" y=\"501.573635\"/>\r\n      </g>\r\n     </g>\r\n     <g id=\"text_85\">\r\n      <!-- 4 -->\r\n      <g transform=\"translate(161.877841 516.172073)scale(0.1 -0.1)\">\r\n       <use xlink:href=\"#DejaVuSans-34\"/>\r\n      </g>\r\n     </g>\r\n    </g>\r\n    <g id=\"xtick_50\">\r\n     <g id=\"line2d_159\">\r\n      <path clip-path=\"url(#p857d293dcb)\" d=\"M 221.422727 501.573635 \r\nL 221.422727 368.447105 \r\n\" style=\"fill:none;stroke:#b0b0b0;stroke-linecap:square;stroke-width:0.8;\"/>\r\n     </g>\r\n     <g id=\"line2d_160\">\r\n      <g>\r\n       <use style=\"stroke:#000000;stroke-width:0.8;\" x=\"221.422727\" xlink:href=\"#mb4638e5f59\" y=\"501.573635\"/>\r\n      </g>\r\n     </g>\r\n     <g id=\"text_86\">\r\n      <!-- 6 -->\r\n      <g transform=\"translate(218.241477 516.172073)scale(0.1 -0.1)\">\r\n       <use xlink:href=\"#DejaVuSans-36\"/>\r\n      </g>\r\n     </g>\r\n    </g>\r\n    <g id=\"xtick_51\">\r\n     <g id=\"line2d_161\">\r\n      <path clip-path=\"url(#p857d293dcb)\" d=\"M 277.786364 501.573635 \r\nL 277.786364 368.447105 \r\n\" style=\"fill:none;stroke:#b0b0b0;stroke-linecap:square;stroke-width:0.8;\"/>\r\n     </g>\r\n     <g id=\"line2d_162\">\r\n      <g>\r\n       <use style=\"stroke:#000000;stroke-width:0.8;\" x=\"277.786364\" xlink:href=\"#mb4638e5f59\" y=\"501.573635\"/>\r\n      </g>\r\n     </g>\r\n     <g id=\"text_87\">\r\n      <!-- 8 -->\r\n      <g transform=\"translate(274.605114 516.172073)scale(0.1 -0.1)\">\r\n       <use xlink:href=\"#DejaVuSans-38\"/>\r\n      </g>\r\n     </g>\r\n    </g>\r\n   </g>\r\n   <g id=\"matplotlib.axis_14\">\r\n    <g id=\"ytick_31\">\r\n     <g id=\"line2d_163\">\r\n      <path clip-path=\"url(#p857d293dcb)\" d=\"M 39.65 501.573635 \r\nL 318.65 501.573635 \r\n\" style=\"fill:none;stroke:#b0b0b0;stroke-linecap:square;stroke-width:0.8;\"/>\r\n     </g>\r\n     <g id=\"line2d_164\">\r\n      <g>\r\n       <use style=\"stroke:#000000;stroke-width:0.8;\" x=\"39.65\" xlink:href=\"#m2a7d614687\" y=\"501.573635\"/>\r\n      </g>\r\n     </g>\r\n     <g id=\"text_88\">\r\n      <!-- 0 -->\r\n      <g transform=\"translate(26.2875 505.372854)scale(0.1 -0.1)\">\r\n       <use xlink:href=\"#DejaVuSans-30\"/>\r\n      </g>\r\n     </g>\r\n    </g>\r\n    <g id=\"ytick_32\">\r\n     <g id=\"line2d_165\">\r\n      <path clip-path=\"url(#p857d293dcb)\" d=\"M 39.65 476.266814 \r\nL 318.65 476.266814 \r\n\" style=\"fill:none;stroke:#b0b0b0;stroke-linecap:square;stroke-width:0.8;\"/>\r\n     </g>\r\n     <g id=\"line2d_166\">\r\n      <g>\r\n       <use style=\"stroke:#000000;stroke-width:0.8;\" x=\"39.65\" xlink:href=\"#m2a7d614687\" y=\"476.266814\"/>\r\n      </g>\r\n     </g>\r\n     <g id=\"text_89\">\r\n      <!-- 200 -->\r\n      <g transform=\"translate(13.5625 480.066033)scale(0.1 -0.1)\">\r\n       <use xlink:href=\"#DejaVuSans-32\"/>\r\n       <use x=\"63.623047\" xlink:href=\"#DejaVuSans-30\"/>\r\n       <use x=\"127.246094\" xlink:href=\"#DejaVuSans-30\"/>\r\n      </g>\r\n     </g>\r\n    </g>\r\n    <g id=\"ytick_33\">\r\n     <g id=\"line2d_167\">\r\n      <path clip-path=\"url(#p857d293dcb)\" d=\"M 39.65 450.959994 \r\nL 318.65 450.959994 \r\n\" style=\"fill:none;stroke:#b0b0b0;stroke-linecap:square;stroke-width:0.8;\"/>\r\n     </g>\r\n     <g id=\"line2d_168\">\r\n      <g>\r\n       <use style=\"stroke:#000000;stroke-width:0.8;\" x=\"39.65\" xlink:href=\"#m2a7d614687\" y=\"450.959994\"/>\r\n      </g>\r\n     </g>\r\n     <g id=\"text_90\">\r\n      <!-- 400 -->\r\n      <g transform=\"translate(13.5625 454.759212)scale(0.1 -0.1)\">\r\n       <use xlink:href=\"#DejaVuSans-34\"/>\r\n       <use x=\"63.623047\" xlink:href=\"#DejaVuSans-30\"/>\r\n       <use x=\"127.246094\" xlink:href=\"#DejaVuSans-30\"/>\r\n      </g>\r\n     </g>\r\n    </g>\r\n    <g id=\"ytick_34\">\r\n     <g id=\"line2d_169\">\r\n      <path clip-path=\"url(#p857d293dcb)\" d=\"M 39.65 425.653173 \r\nL 318.65 425.653173 \r\n\" style=\"fill:none;stroke:#b0b0b0;stroke-linecap:square;stroke-width:0.8;\"/>\r\n     </g>\r\n     <g id=\"line2d_170\">\r\n      <g>\r\n       <use style=\"stroke:#000000;stroke-width:0.8;\" x=\"39.65\" xlink:href=\"#m2a7d614687\" y=\"425.653173\"/>\r\n      </g>\r\n     </g>\r\n     <g id=\"text_91\">\r\n      <!-- 600 -->\r\n      <g transform=\"translate(13.5625 429.452392)scale(0.1 -0.1)\">\r\n       <use xlink:href=\"#DejaVuSans-36\"/>\r\n       <use x=\"63.623047\" xlink:href=\"#DejaVuSans-30\"/>\r\n       <use x=\"127.246094\" xlink:href=\"#DejaVuSans-30\"/>\r\n      </g>\r\n     </g>\r\n    </g>\r\n    <g id=\"ytick_35\">\r\n     <g id=\"line2d_171\">\r\n      <path clip-path=\"url(#p857d293dcb)\" d=\"M 39.65 400.346352 \r\nL 318.65 400.346352 \r\n\" style=\"fill:none;stroke:#b0b0b0;stroke-linecap:square;stroke-width:0.8;\"/>\r\n     </g>\r\n     <g id=\"line2d_172\">\r\n      <g>\r\n       <use style=\"stroke:#000000;stroke-width:0.8;\" x=\"39.65\" xlink:href=\"#m2a7d614687\" y=\"400.346352\"/>\r\n      </g>\r\n     </g>\r\n     <g id=\"text_92\">\r\n      <!-- 800 -->\r\n      <g transform=\"translate(13.5625 404.145571)scale(0.1 -0.1)\">\r\n       <use xlink:href=\"#DejaVuSans-38\"/>\r\n       <use x=\"63.623047\" xlink:href=\"#DejaVuSans-30\"/>\r\n       <use x=\"127.246094\" xlink:href=\"#DejaVuSans-30\"/>\r\n      </g>\r\n     </g>\r\n    </g>\r\n    <g id=\"ytick_36\">\r\n     <g id=\"line2d_173\">\r\n      <path clip-path=\"url(#p857d293dcb)\" d=\"M 39.65 375.039531 \r\nL 318.65 375.039531 \r\n\" style=\"fill:none;stroke:#b0b0b0;stroke-linecap:square;stroke-width:0.8;\"/>\r\n     </g>\r\n     <g id=\"line2d_174\">\r\n      <g>\r\n       <use style=\"stroke:#000000;stroke-width:0.8;\" x=\"39.65\" xlink:href=\"#m2a7d614687\" y=\"375.039531\"/>\r\n      </g>\r\n     </g>\r\n     <g id=\"text_93\">\r\n      <!-- 1000 -->\r\n      <g transform=\"translate(7.2 378.83875)scale(0.1 -0.1)\">\r\n       <use xlink:href=\"#DejaVuSans-31\"/>\r\n       <use x=\"63.623047\" xlink:href=\"#DejaVuSans-30\"/>\r\n       <use x=\"127.246094\" xlink:href=\"#DejaVuSans-30\"/>\r\n       <use x=\"190.869141\" xlink:href=\"#DejaVuSans-30\"/>\r\n      </g>\r\n     </g>\r\n    </g>\r\n   </g>\r\n   <g id=\"patch_453\">\r\n    <path d=\"M 39.65 501.573635 \r\nL 39.65 368.447105 \r\n\" style=\"fill:none;stroke:#000000;stroke-linecap:square;stroke-linejoin:miter;stroke-width:0.8;\"/>\r\n   </g>\r\n   <g id=\"patch_454\">\r\n    <path d=\"M 318.65 501.573635 \r\nL 318.65 368.447105 \r\n\" style=\"fill:none;stroke:#000000;stroke-linecap:square;stroke-linejoin:miter;stroke-width:0.8;\"/>\r\n   </g>\r\n   <g id=\"patch_455\">\r\n    <path d=\"M 39.65 501.573635 \r\nL 318.65 501.573635 \r\n\" style=\"fill:none;stroke:#000000;stroke-linecap:square;stroke-linejoin:miter;stroke-width:0.8;\"/>\r\n   </g>\r\n   <g id=\"patch_456\">\r\n    <path d=\"M 39.65 368.447105 \r\nL 318.65 368.447105 \r\n\" style=\"fill:none;stroke:#000000;stroke-linecap:square;stroke-linejoin:miter;stroke-width:0.8;\"/>\r\n   </g>\r\n   <g id=\"text_94\">\r\n    <!-- Parch -->\r\n    <g transform=\"translate(162.692187 362.447105)scale(0.12 -0.12)\">\r\n     <defs>\r\n      <path d=\"M 3513 2113 \r\nL 3513 0 \r\nL 2938 0 \r\nL 2938 2094 \r\nQ 2938 2591 2744 2837 \r\nQ 2550 3084 2163 3084 \r\nQ 1697 3084 1428 2787 \r\nQ 1159 2491 1159 1978 \r\nL 1159 0 \r\nL 581 0 \r\nL 581 4863 \r\nL 1159 4863 \r\nL 1159 2956 \r\nQ 1366 3272 1645 3428 \r\nQ 1925 3584 2291 3584 \r\nQ 2894 3584 3203 3211 \r\nQ 3513 2838 3513 2113 \r\nz\r\n\" id=\"DejaVuSans-68\" transform=\"scale(0.015625)\"/>\r\n     </defs>\r\n     <use xlink:href=\"#DejaVuSans-50\"/>\r\n     <use x=\"55.802734\" xlink:href=\"#DejaVuSans-61\"/>\r\n     <use x=\"117.082031\" xlink:href=\"#DejaVuSans-72\"/>\r\n     <use x=\"155.945312\" xlink:href=\"#DejaVuSans-63\"/>\r\n     <use x=\"210.925781\" xlink:href=\"#DejaVuSans-68\"/>\r\n    </g>\r\n   </g>\r\n  </g>\r\n  <g id=\"axes_8\">\r\n   <g id=\"patch_457\">\r\n    <path d=\"M 402.35 501.573635 \r\nL 681.35 501.573635 \r\nL 681.35 368.447105 \r\nL 402.35 368.447105 \r\nz\r\n\" style=\"fill:#ffffff;\"/>\r\n   </g>\r\n   <g id=\"patch_458\">\r\n    <path clip-path=\"url(#p4eef9ec3bf)\" d=\"M 415.031818 501.573635 \r\nL 419.259091 501.573635 \r\nL 419.259091 374.786463 \r\nL 415.031818 374.786463 \r\nz\r\n\" style=\"fill:#1f77b4;\"/>\r\n   </g>\r\n   <g id=\"patch_459\">\r\n    <path clip-path=\"url(#p4eef9ec3bf)\" d=\"M 419.259091 501.573635 \r\nL 423.486364 501.573635 \r\nL 423.486364 413.526988 \r\nL 419.259091 413.526988 \r\nz\r\n\" style=\"fill:#1f77b4;\"/>\r\n   </g>\r\n   <g id=\"patch_460\">\r\n    <path clip-path=\"url(#p4eef9ec3bf)\" d=\"M 423.486364 501.573635 \r\nL 427.713636 501.573635 \r\nL 427.713636 473.398708 \r\nL 423.486364 473.398708 \r\nz\r\n\" style=\"fill:#1f77b4;\"/>\r\n   </g>\r\n   <g id=\"patch_461\">\r\n    <path clip-path=\"url(#p4eef9ec3bf)\" d=\"M 427.713636 501.573635 \r\nL 431.940909 501.573635 \r\nL 431.940909 449.039136 \r\nL 427.713636 449.039136 \r\nz\r\n\" style=\"fill:#1f77b4;\"/>\r\n   </g>\r\n   <g id=\"patch_462\">\r\n    <path clip-path=\"url(#p4eef9ec3bf)\" d=\"M 431.940909 501.573635 \r\nL 436.168182 501.573635 \r\nL 436.168182 488.073149 \r\nL 431.940909 488.073149 \r\nz\r\n\" style=\"fill:#1f77b4;\"/>\r\n   </g>\r\n   <g id=\"patch_463\">\r\n    <path clip-path=\"url(#p4eef9ec3bf)\" d=\"M 436.168182 501.573635 \r\nL 440.395455 501.573635 \r\nL 440.395455 496.290836 \r\nL 436.168182 496.290836 \r\nz\r\n\" style=\"fill:#1f77b4;\"/>\r\n   </g>\r\n   <g id=\"patch_464\">\r\n    <path clip-path=\"url(#p4eef9ec3bf)\" d=\"M 440.395455 501.573635 \r\nL 444.622727 501.573635 \r\nL 444.622727 486.312216 \r\nL 440.395455 486.312216 \r\nz\r\n\" style=\"fill:#1f77b4;\"/>\r\n   </g>\r\n   <g id=\"patch_465\">\r\n    <path clip-path=\"url(#p4eef9ec3bf)\" d=\"M 444.622727 501.573635 \r\nL 448.85 501.573635 \r\nL 448.85 496.584325 \r\nL 444.622727 496.584325 \r\nz\r\n\" style=\"fill:#1f77b4;\"/>\r\n   </g>\r\n   <g id=\"patch_466\">\r\n    <path clip-path=\"url(#p4eef9ec3bf)\" d=\"M 448.85 501.573635 \r\nL 453.077273 501.573635 \r\nL 453.077273 491.888504 \r\nL 448.85 491.888504 \r\nz\r\n\" style=\"fill:#1f77b4;\"/>\r\n   </g>\r\n   <g id=\"patch_467\">\r\n    <path clip-path=\"url(#p4eef9ec3bf)\" d=\"M 453.077273 501.573635 \r\nL 457.304545 501.573635 \r\nL 457.304545 491.008038 \r\nL 453.077273 491.008038 \r\nz\r\n\" style=\"fill:#1f77b4;\"/>\r\n   </g>\r\n   <g id=\"patch_468\">\r\n    <path clip-path=\"url(#p4eef9ec3bf)\" d=\"M 457.304545 501.573635 \r\nL 461.531818 501.573635 \r\nL 461.531818 496.877814 \r\nL 457.304545 496.877814 \r\nz\r\n\" style=\"fill:#1f77b4;\"/>\r\n   </g>\r\n   <g id=\"patch_469\">\r\n    <path clip-path=\"url(#p4eef9ec3bf)\" d=\"M 461.531818 501.573635 \r\nL 465.759091 501.573635 \r\nL 465.759091 501.573635 \r\nL 461.531818 501.573635 \r\nz\r\n\" style=\"fill:#1f77b4;\"/>\r\n   </g>\r\n   <g id=\"patch_470\">\r\n    <path clip-path=\"url(#p4eef9ec3bf)\" d=\"M 465.759091 501.573635 \r\nL 469.986364 501.573635 \r\nL 469.986364 498.638747 \r\nL 465.759091 498.638747 \r\nz\r\n\" style=\"fill:#1f77b4;\"/>\r\n   </g>\r\n   <g id=\"patch_471\">\r\n    <path clip-path=\"url(#p4eef9ec3bf)\" d=\"M 469.986364 501.573635 \r\nL 474.213636 501.573635 \r\nL 474.213636 500.693169 \r\nL 469.986364 500.693169 \r\nz\r\n\" style=\"fill:#1f77b4;\"/>\r\n   </g>\r\n   <g id=\"patch_472\">\r\n    <path clip-path=\"url(#p4eef9ec3bf)\" d=\"M 474.213636 501.573635 \r\nL 478.440909 501.573635 \r\nL 478.440909 500.39968 \r\nL 474.213636 500.39968 \r\nz\r\n\" style=\"fill:#1f77b4;\"/>\r\n   </g>\r\n   <g id=\"patch_473\">\r\n    <path clip-path=\"url(#p4eef9ec3bf)\" d=\"M 478.440909 501.573635 \r\nL 482.668182 501.573635 \r\nL 482.668182 498.345258 \r\nL 478.440909 498.345258 \r\nz\r\n\" style=\"fill:#1f77b4;\"/>\r\n   </g>\r\n   <g id=\"patch_474\">\r\n    <path clip-path=\"url(#p4eef9ec3bf)\" d=\"M 482.668182 501.573635 \r\nL 486.895455 501.573635 \r\nL 486.895455 500.986658 \r\nL 482.668182 500.986658 \r\nz\r\n\" style=\"fill:#1f77b4;\"/>\r\n   </g>\r\n   <g id=\"patch_475\">\r\n    <path clip-path=\"url(#p4eef9ec3bf)\" d=\"M 486.895455 501.573635 \r\nL 491.122727 501.573635 \r\nL 491.122727 498.051769 \r\nL 486.895455 498.051769 \r\nz\r\n\" style=\"fill:#1f77b4;\"/>\r\n   </g>\r\n   <g id=\"patch_476\">\r\n    <path clip-path=\"url(#p4eef9ec3bf)\" d=\"M 491.122727 501.573635 \r\nL 495.35 501.573635 \r\nL 495.35 501.573635 \r\nL 491.122727 501.573635 \r\nz\r\n\" style=\"fill:#1f77b4;\"/>\r\n   </g>\r\n   <g id=\"patch_477\">\r\n    <path clip-path=\"url(#p4eef9ec3bf)\" d=\"M 495.35 501.573635 \r\nL 499.577273 501.573635 \r\nL 499.577273 500.39968 \r\nL 495.35 500.39968 \r\nz\r\n\" style=\"fill:#1f77b4;\"/>\r\n   </g>\r\n   <g id=\"patch_478\">\r\n    <path clip-path=\"url(#p4eef9ec3bf)\" d=\"M 499.577273 501.573635 \r\nL 503.804545 501.573635 \r\nL 503.804545 501.573635 \r\nL 499.577273 501.573635 \r\nz\r\n\" style=\"fill:#1f77b4;\"/>\r\n   </g>\r\n   <g id=\"patch_479\">\r\n    <path clip-path=\"url(#p4eef9ec3bf)\" d=\"M 503.804545 501.573635 \r\nL 508.031818 501.573635 \r\nL 508.031818 501.573635 \r\nL 503.804545 501.573635 \r\nz\r\n\" style=\"fill:#1f77b4;\"/>\r\n   </g>\r\n   <g id=\"patch_480\">\r\n    <path clip-path=\"url(#p4eef9ec3bf)\" d=\"M 508.031818 501.573635 \r\nL 512.259091 501.573635 \r\nL 512.259091 501.573635 \r\nL 508.031818 501.573635 \r\nz\r\n\" style=\"fill:#1f77b4;\"/>\r\n   </g>\r\n   <g id=\"patch_481\">\r\n    <path clip-path=\"url(#p4eef9ec3bf)\" d=\"M 512.259091 501.573635 \r\nL 516.486364 501.573635 \r\nL 516.486364 501.573635 \r\nL 512.259091 501.573635 \r\nz\r\n\" style=\"fill:#1f77b4;\"/>\r\n   </g>\r\n   <g id=\"patch_482\">\r\n    <path clip-path=\"url(#p4eef9ec3bf)\" d=\"M 516.486364 501.573635 \r\nL 520.713636 501.573635 \r\nL 520.713636 498.932236 \r\nL 516.486364 498.932236 \r\nz\r\n\" style=\"fill:#1f77b4;\"/>\r\n   </g>\r\n   <g id=\"patch_483\">\r\n    <path clip-path=\"url(#p4eef9ec3bf)\" d=\"M 520.713636 501.573635 \r\nL 524.940909 501.573635 \r\nL 524.940909 500.39968 \r\nL 520.713636 500.39968 \r\nz\r\n\" style=\"fill:#1f77b4;\"/>\r\n   </g>\r\n   <g id=\"patch_484\">\r\n    <path clip-path=\"url(#p4eef9ec3bf)\" d=\"M 524.940909 501.573635 \r\nL 529.168182 501.573635 \r\nL 529.168182 500.106191 \r\nL 524.940909 500.106191 \r\nz\r\n\" style=\"fill:#1f77b4;\"/>\r\n   </g>\r\n   <g id=\"patch_485\">\r\n    <path clip-path=\"url(#p4eef9ec3bf)\" d=\"M 529.168182 501.573635 \r\nL 533.395455 501.573635 \r\nL 533.395455 501.573635 \r\nL 529.168182 501.573635 \r\nz\r\n\" style=\"fill:#1f77b4;\"/>\r\n   </g>\r\n   <g id=\"patch_486\">\r\n    <path clip-path=\"url(#p4eef9ec3bf)\" d=\"M 533.395455 501.573635 \r\nL 537.622727 501.573635 \r\nL 537.622727 500.693169 \r\nL 533.395455 500.693169 \r\nz\r\n\" style=\"fill:#1f77b4;\"/>\r\n   </g>\r\n   <g id=\"patch_487\">\r\n    <path clip-path=\"url(#p4eef9ec3bf)\" d=\"M 537.622727 501.573635 \r\nL 541.85 501.573635 \r\nL 541.85 501.573635 \r\nL 537.622727 501.573635 \r\nz\r\n\" style=\"fill:#1f77b4;\"/>\r\n   </g>\r\n   <g id=\"patch_488\">\r\n    <path clip-path=\"url(#p4eef9ec3bf)\" d=\"M 541.85 501.573635 \r\nL 546.077273 501.573635 \r\nL 546.077273 497.75828 \r\nL 541.85 497.75828 \r\nz\r\n\" style=\"fill:#1f77b4;\"/>\r\n   </g>\r\n   <g id=\"patch_489\">\r\n    <path clip-path=\"url(#p4eef9ec3bf)\" d=\"M 546.077273 501.573635 \r\nL 550.304545 501.573635 \r\nL 550.304545 501.573635 \r\nL 546.077273 501.573635 \r\nz\r\n\" style=\"fill:#1f77b4;\"/>\r\n   </g>\r\n   <g id=\"patch_490\">\r\n    <path clip-path=\"url(#p4eef9ec3bf)\" d=\"M 550.304545 501.573635 \r\nL 554.531818 501.573635 \r\nL 554.531818 501.573635 \r\nL 550.304545 501.573635 \r\nz\r\n\" style=\"fill:#1f77b4;\"/>\r\n   </g>\r\n   <g id=\"patch_491\">\r\n    <path clip-path=\"url(#p4eef9ec3bf)\" d=\"M 554.531818 501.573635 \r\nL 558.759091 501.573635 \r\nL 558.759091 501.573635 \r\nL 554.531818 501.573635 \r\nz\r\n\" style=\"fill:#1f77b4;\"/>\r\n   </g>\r\n   <g id=\"patch_492\">\r\n    <path clip-path=\"url(#p4eef9ec3bf)\" d=\"M 558.759091 501.573635 \r\nL 562.986364 501.573635 \r\nL 562.986364 501.573635 \r\nL 558.759091 501.573635 \r\nz\r\n\" style=\"fill:#1f77b4;\"/>\r\n   </g>\r\n   <g id=\"patch_493\">\r\n    <path clip-path=\"url(#p4eef9ec3bf)\" d=\"M 562.986364 501.573635 \r\nL 567.213636 501.573635 \r\nL 567.213636 501.573635 \r\nL 562.986364 501.573635 \r\nz\r\n\" style=\"fill:#1f77b4;\"/>\r\n   </g>\r\n   <g id=\"patch_494\">\r\n    <path clip-path=\"url(#p4eef9ec3bf)\" d=\"M 567.213636 501.573635 \r\nL 571.440909 501.573635 \r\nL 571.440909 501.573635 \r\nL 567.213636 501.573635 \r\nz\r\n\" style=\"fill:#1f77b4;\"/>\r\n   </g>\r\n   <g id=\"patch_495\">\r\n    <path clip-path=\"url(#p4eef9ec3bf)\" d=\"M 571.440909 501.573635 \r\nL 575.668182 501.573635 \r\nL 575.668182 501.573635 \r\nL 571.440909 501.573635 \r\nz\r\n\" style=\"fill:#1f77b4;\"/>\r\n   </g>\r\n   <g id=\"patch_496\">\r\n    <path clip-path=\"url(#p4eef9ec3bf)\" d=\"M 575.668182 501.573635 \r\nL 579.895455 501.573635 \r\nL 579.895455 501.573635 \r\nL 575.668182 501.573635 \r\nz\r\n\" style=\"fill:#1f77b4;\"/>\r\n   </g>\r\n   <g id=\"patch_497\">\r\n    <path clip-path=\"url(#p4eef9ec3bf)\" d=\"M 579.895455 501.573635 \r\nL 584.122727 501.573635 \r\nL 584.122727 501.573635 \r\nL 579.895455 501.573635 \r\nz\r\n\" style=\"fill:#1f77b4;\"/>\r\n   </g>\r\n   <g id=\"patch_498\">\r\n    <path clip-path=\"url(#p4eef9ec3bf)\" d=\"M 584.122727 501.573635 \r\nL 588.35 501.573635 \r\nL 588.35 501.573635 \r\nL 584.122727 501.573635 \r\nz\r\n\" style=\"fill:#1f77b4;\"/>\r\n   </g>\r\n   <g id=\"patch_499\">\r\n    <path clip-path=\"url(#p4eef9ec3bf)\" d=\"M 588.35 501.573635 \r\nL 592.577273 501.573635 \r\nL 592.577273 501.573635 \r\nL 588.35 501.573635 \r\nz\r\n\" style=\"fill:#1f77b4;\"/>\r\n   </g>\r\n   <g id=\"patch_500\">\r\n    <path clip-path=\"url(#p4eef9ec3bf)\" d=\"M 592.577273 501.573635 \r\nL 596.804545 501.573635 \r\nL 596.804545 501.573635 \r\nL 592.577273 501.573635 \r\nz\r\n\" style=\"fill:#1f77b4;\"/>\r\n   </g>\r\n   <g id=\"patch_501\">\r\n    <path clip-path=\"url(#p4eef9ec3bf)\" d=\"M 596.804545 501.573635 \r\nL 601.031818 501.573635 \r\nL 601.031818 501.573635 \r\nL 596.804545 501.573635 \r\nz\r\n\" style=\"fill:#1f77b4;\"/>\r\n   </g>\r\n   <g id=\"patch_502\">\r\n    <path clip-path=\"url(#p4eef9ec3bf)\" d=\"M 601.031818 501.573635 \r\nL 605.259091 501.573635 \r\nL 605.259091 501.573635 \r\nL 601.031818 501.573635 \r\nz\r\n\" style=\"fill:#1f77b4;\"/>\r\n   </g>\r\n   <g id=\"patch_503\">\r\n    <path clip-path=\"url(#p4eef9ec3bf)\" d=\"M 605.259091 501.573635 \r\nL 609.486364 501.573635 \r\nL 609.486364 501.573635 \r\nL 605.259091 501.573635 \r\nz\r\n\" style=\"fill:#1f77b4;\"/>\r\n   </g>\r\n   <g id=\"patch_504\">\r\n    <path clip-path=\"url(#p4eef9ec3bf)\" d=\"M 609.486364 501.573635 \r\nL 613.713636 501.573635 \r\nL 613.713636 501.573635 \r\nL 609.486364 501.573635 \r\nz\r\n\" style=\"fill:#1f77b4;\"/>\r\n   </g>\r\n   <g id=\"patch_505\">\r\n    <path clip-path=\"url(#p4eef9ec3bf)\" d=\"M 613.713636 501.573635 \r\nL 617.940909 501.573635 \r\nL 617.940909 501.573635 \r\nL 613.713636 501.573635 \r\nz\r\n\" style=\"fill:#1f77b4;\"/>\r\n   </g>\r\n   <g id=\"patch_506\">\r\n    <path clip-path=\"url(#p4eef9ec3bf)\" d=\"M 617.940909 501.573635 \r\nL 622.168182 501.573635 \r\nL 622.168182 501.573635 \r\nL 617.940909 501.573635 \r\nz\r\n\" style=\"fill:#1f77b4;\"/>\r\n   </g>\r\n   <g id=\"patch_507\">\r\n    <path clip-path=\"url(#p4eef9ec3bf)\" d=\"M 622.168182 501.573635 \r\nL 626.395455 501.573635 \r\nL 626.395455 501.573635 \r\nL 622.168182 501.573635 \r\nz\r\n\" style=\"fill:#1f77b4;\"/>\r\n   </g>\r\n   <g id=\"patch_508\">\r\n    <path clip-path=\"url(#p4eef9ec3bf)\" d=\"M 626.395455 501.573635 \r\nL 630.622727 501.573635 \r\nL 630.622727 501.573635 \r\nL 626.395455 501.573635 \r\nz\r\n\" style=\"fill:#1f77b4;\"/>\r\n   </g>\r\n   <g id=\"patch_509\">\r\n    <path clip-path=\"url(#p4eef9ec3bf)\" d=\"M 630.622727 501.573635 \r\nL 634.85 501.573635 \r\nL 634.85 501.573635 \r\nL 630.622727 501.573635 \r\nz\r\n\" style=\"fill:#1f77b4;\"/>\r\n   </g>\r\n   <g id=\"patch_510\">\r\n    <path clip-path=\"url(#p4eef9ec3bf)\" d=\"M 634.85 501.573635 \r\nL 639.077273 501.573635 \r\nL 639.077273 501.573635 \r\nL 634.85 501.573635 \r\nz\r\n\" style=\"fill:#1f77b4;\"/>\r\n   </g>\r\n   <g id=\"patch_511\">\r\n    <path clip-path=\"url(#p4eef9ec3bf)\" d=\"M 639.077273 501.573635 \r\nL 643.304545 501.573635 \r\nL 643.304545 501.573635 \r\nL 639.077273 501.573635 \r\nz\r\n\" style=\"fill:#1f77b4;\"/>\r\n   </g>\r\n   <g id=\"patch_512\">\r\n    <path clip-path=\"url(#p4eef9ec3bf)\" d=\"M 643.304545 501.573635 \r\nL 647.531818 501.573635 \r\nL 647.531818 501.573635 \r\nL 643.304545 501.573635 \r\nz\r\n\" style=\"fill:#1f77b4;\"/>\r\n   </g>\r\n   <g id=\"patch_513\">\r\n    <path clip-path=\"url(#p4eef9ec3bf)\" d=\"M 647.531818 501.573635 \r\nL 651.759091 501.573635 \r\nL 651.759091 501.573635 \r\nL 647.531818 501.573635 \r\nz\r\n\" style=\"fill:#1f77b4;\"/>\r\n   </g>\r\n   <g id=\"patch_514\">\r\n    <path clip-path=\"url(#p4eef9ec3bf)\" d=\"M 651.759091 501.573635 \r\nL 655.986364 501.573635 \r\nL 655.986364 501.573635 \r\nL 651.759091 501.573635 \r\nz\r\n\" style=\"fill:#1f77b4;\"/>\r\n   </g>\r\n   <g id=\"patch_515\">\r\n    <path clip-path=\"url(#p4eef9ec3bf)\" d=\"M 655.986364 501.573635 \r\nL 660.213636 501.573635 \r\nL 660.213636 501.573635 \r\nL 655.986364 501.573635 \r\nz\r\n\" style=\"fill:#1f77b4;\"/>\r\n   </g>\r\n   <g id=\"patch_516\">\r\n    <path clip-path=\"url(#p4eef9ec3bf)\" d=\"M 660.213636 501.573635 \r\nL 664.440909 501.573635 \r\nL 664.440909 501.573635 \r\nL 660.213636 501.573635 \r\nz\r\n\" style=\"fill:#1f77b4;\"/>\r\n   </g>\r\n   <g id=\"patch_517\">\r\n    <path clip-path=\"url(#p4eef9ec3bf)\" d=\"M 664.440909 501.573635 \r\nL 668.668182 501.573635 \r\nL 668.668182 500.39968 \r\nL 664.440909 500.39968 \r\nz\r\n\" style=\"fill:#1f77b4;\"/>\r\n   </g>\r\n   <g id=\"matplotlib.axis_15\">\r\n    <g id=\"xtick_52\">\r\n     <g id=\"line2d_175\">\r\n      <path clip-path=\"url(#p4eef9ec3bf)\" d=\"M 415.031818 501.573635 \r\nL 415.031818 368.447105 \r\n\" style=\"fill:none;stroke:#b0b0b0;stroke-linecap:square;stroke-width:0.8;\"/>\r\n     </g>\r\n     <g id=\"line2d_176\">\r\n      <g>\r\n       <use style=\"stroke:#000000;stroke-width:0.8;\" x=\"415.031818\" xlink:href=\"#mb4638e5f59\" y=\"501.573635\"/>\r\n      </g>\r\n     </g>\r\n     <g id=\"text_95\">\r\n      <!-- 0 -->\r\n      <g transform=\"translate(411.850568 516.172073)scale(0.1 -0.1)\">\r\n       <use xlink:href=\"#DejaVuSans-30\"/>\r\n      </g>\r\n     </g>\r\n    </g>\r\n    <g id=\"xtick_53\">\r\n     <g id=\"line2d_177\">\r\n      <path clip-path=\"url(#p4eef9ec3bf)\" d=\"M 464.538339 501.573635 \r\nL 464.538339 368.447105 \r\n\" style=\"fill:none;stroke:#b0b0b0;stroke-linecap:square;stroke-width:0.8;\"/>\r\n     </g>\r\n     <g id=\"line2d_178\">\r\n      <g>\r\n       <use style=\"stroke:#000000;stroke-width:0.8;\" x=\"464.538339\" xlink:href=\"#mb4638e5f59\" y=\"501.573635\"/>\r\n      </g>\r\n     </g>\r\n     <g id=\"text_96\">\r\n      <!-- 100 -->\r\n      <g transform=\"translate(454.994589 516.172073)scale(0.1 -0.1)\">\r\n       <use xlink:href=\"#DejaVuSans-31\"/>\r\n       <use x=\"63.623047\" xlink:href=\"#DejaVuSans-30\"/>\r\n       <use x=\"127.246094\" xlink:href=\"#DejaVuSans-30\"/>\r\n      </g>\r\n     </g>\r\n    </g>\r\n    <g id=\"xtick_54\">\r\n     <g id=\"line2d_179\">\r\n      <path clip-path=\"url(#p4eef9ec3bf)\" d=\"M 514.04486 501.573635 \r\nL 514.04486 368.447105 \r\n\" style=\"fill:none;stroke:#b0b0b0;stroke-linecap:square;stroke-width:0.8;\"/>\r\n     </g>\r\n     <g id=\"line2d_180\">\r\n      <g>\r\n       <use style=\"stroke:#000000;stroke-width:0.8;\" x=\"514.04486\" xlink:href=\"#mb4638e5f59\" y=\"501.573635\"/>\r\n      </g>\r\n     </g>\r\n     <g id=\"text_97\">\r\n      <!-- 200 -->\r\n      <g transform=\"translate(504.50111 516.172073)scale(0.1 -0.1)\">\r\n       <use xlink:href=\"#DejaVuSans-32\"/>\r\n       <use x=\"63.623047\" xlink:href=\"#DejaVuSans-30\"/>\r\n       <use x=\"127.246094\" xlink:href=\"#DejaVuSans-30\"/>\r\n      </g>\r\n     </g>\r\n    </g>\r\n    <g id=\"xtick_55\">\r\n     <g id=\"line2d_181\">\r\n      <path clip-path=\"url(#p4eef9ec3bf)\" d=\"M 563.551382 501.573635 \r\nL 563.551382 368.447105 \r\n\" style=\"fill:none;stroke:#b0b0b0;stroke-linecap:square;stroke-width:0.8;\"/>\r\n     </g>\r\n     <g id=\"line2d_182\">\r\n      <g>\r\n       <use style=\"stroke:#000000;stroke-width:0.8;\" x=\"563.551382\" xlink:href=\"#mb4638e5f59\" y=\"501.573635\"/>\r\n      </g>\r\n     </g>\r\n     <g id=\"text_98\">\r\n      <!-- 300 -->\r\n      <g transform=\"translate(554.007632 516.172073)scale(0.1 -0.1)\">\r\n       <use xlink:href=\"#DejaVuSans-33\"/>\r\n       <use x=\"63.623047\" xlink:href=\"#DejaVuSans-30\"/>\r\n       <use x=\"127.246094\" xlink:href=\"#DejaVuSans-30\"/>\r\n      </g>\r\n     </g>\r\n    </g>\r\n    <g id=\"xtick_56\">\r\n     <g id=\"line2d_183\">\r\n      <path clip-path=\"url(#p4eef9ec3bf)\" d=\"M 613.057903 501.573635 \r\nL 613.057903 368.447105 \r\n\" style=\"fill:none;stroke:#b0b0b0;stroke-linecap:square;stroke-width:0.8;\"/>\r\n     </g>\r\n     <g id=\"line2d_184\">\r\n      <g>\r\n       <use style=\"stroke:#000000;stroke-width:0.8;\" x=\"613.057903\" xlink:href=\"#mb4638e5f59\" y=\"501.573635\"/>\r\n      </g>\r\n     </g>\r\n     <g id=\"text_99\">\r\n      <!-- 400 -->\r\n      <g transform=\"translate(603.514153 516.172073)scale(0.1 -0.1)\">\r\n       <use xlink:href=\"#DejaVuSans-34\"/>\r\n       <use x=\"63.623047\" xlink:href=\"#DejaVuSans-30\"/>\r\n       <use x=\"127.246094\" xlink:href=\"#DejaVuSans-30\"/>\r\n      </g>\r\n     </g>\r\n    </g>\r\n    <g id=\"xtick_57\">\r\n     <g id=\"line2d_185\">\r\n      <path clip-path=\"url(#p4eef9ec3bf)\" d=\"M 662.564424 501.573635 \r\nL 662.564424 368.447105 \r\n\" style=\"fill:none;stroke:#b0b0b0;stroke-linecap:square;stroke-width:0.8;\"/>\r\n     </g>\r\n     <g id=\"line2d_186\">\r\n      <g>\r\n       <use style=\"stroke:#000000;stroke-width:0.8;\" x=\"662.564424\" xlink:href=\"#mb4638e5f59\" y=\"501.573635\"/>\r\n      </g>\r\n     </g>\r\n     <g id=\"text_100\">\r\n      <!-- 500 -->\r\n      <g transform=\"translate(653.020674 516.172073)scale(0.1 -0.1)\">\r\n       <use xlink:href=\"#DejaVuSans-35\"/>\r\n       <use x=\"63.623047\" xlink:href=\"#DejaVuSans-30\"/>\r\n       <use x=\"127.246094\" xlink:href=\"#DejaVuSans-30\"/>\r\n      </g>\r\n     </g>\r\n    </g>\r\n   </g>\r\n   <g id=\"matplotlib.axis_16\">\r\n    <g id=\"ytick_37\">\r\n     <g id=\"line2d_187\">\r\n      <path clip-path=\"url(#p4eef9ec3bf)\" d=\"M 402.35 501.573635 \r\nL 681.35 501.573635 \r\n\" style=\"fill:none;stroke:#b0b0b0;stroke-linecap:square;stroke-width:0.8;\"/>\r\n     </g>\r\n     <g id=\"line2d_188\">\r\n      <g>\r\n       <use style=\"stroke:#000000;stroke-width:0.8;\" x=\"402.35\" xlink:href=\"#m2a7d614687\" y=\"501.573635\"/>\r\n      </g>\r\n     </g>\r\n     <g id=\"text_101\">\r\n      <!-- 0 -->\r\n      <g transform=\"translate(388.9875 505.372854)scale(0.1 -0.1)\">\r\n       <use xlink:href=\"#DejaVuSans-30\"/>\r\n      </g>\r\n     </g>\r\n    </g>\r\n    <g id=\"ytick_38\">\r\n     <g id=\"line2d_189\">\r\n      <path clip-path=\"url(#p4eef9ec3bf)\" d=\"M 402.35 472.224753 \r\nL 681.35 472.224753 \r\n\" style=\"fill:none;stroke:#b0b0b0;stroke-linecap:square;stroke-width:0.8;\"/>\r\n     </g>\r\n     <g id=\"line2d_190\">\r\n      <g>\r\n       <use style=\"stroke:#000000;stroke-width:0.8;\" x=\"402.35\" xlink:href=\"#m2a7d614687\" y=\"472.224753\"/>\r\n      </g>\r\n     </g>\r\n     <g id=\"text_102\">\r\n      <!-- 100 -->\r\n      <g transform=\"translate(376.2625 476.023972)scale(0.1 -0.1)\">\r\n       <use xlink:href=\"#DejaVuSans-31\"/>\r\n       <use x=\"63.623047\" xlink:href=\"#DejaVuSans-30\"/>\r\n       <use x=\"127.246094\" xlink:href=\"#DejaVuSans-30\"/>\r\n      </g>\r\n     </g>\r\n    </g>\r\n    <g id=\"ytick_39\">\r\n     <g id=\"line2d_191\">\r\n      <path clip-path=\"url(#p4eef9ec3bf)\" d=\"M 402.35 442.87587 \r\nL 681.35 442.87587 \r\n\" style=\"fill:none;stroke:#b0b0b0;stroke-linecap:square;stroke-width:0.8;\"/>\r\n     </g>\r\n     <g id=\"line2d_192\">\r\n      <g>\r\n       <use style=\"stroke:#000000;stroke-width:0.8;\" x=\"402.35\" xlink:href=\"#m2a7d614687\" y=\"442.87587\"/>\r\n      </g>\r\n     </g>\r\n     <g id=\"text_103\">\r\n      <!-- 200 -->\r\n      <g transform=\"translate(376.2625 446.675089)scale(0.1 -0.1)\">\r\n       <use xlink:href=\"#DejaVuSans-32\"/>\r\n       <use x=\"63.623047\" xlink:href=\"#DejaVuSans-30\"/>\r\n       <use x=\"127.246094\" xlink:href=\"#DejaVuSans-30\"/>\r\n      </g>\r\n     </g>\r\n    </g>\r\n    <g id=\"ytick_40\">\r\n     <g id=\"line2d_193\">\r\n      <path clip-path=\"url(#p4eef9ec3bf)\" d=\"M 402.35 413.526988 \r\nL 681.35 413.526988 \r\n\" style=\"fill:none;stroke:#b0b0b0;stroke-linecap:square;stroke-width:0.8;\"/>\r\n     </g>\r\n     <g id=\"line2d_194\">\r\n      <g>\r\n       <use style=\"stroke:#000000;stroke-width:0.8;\" x=\"402.35\" xlink:href=\"#m2a7d614687\" y=\"413.526988\"/>\r\n      </g>\r\n     </g>\r\n     <g id=\"text_104\">\r\n      <!-- 300 -->\r\n      <g transform=\"translate(376.2625 417.326207)scale(0.1 -0.1)\">\r\n       <use xlink:href=\"#DejaVuSans-33\"/>\r\n       <use x=\"63.623047\" xlink:href=\"#DejaVuSans-30\"/>\r\n       <use x=\"127.246094\" xlink:href=\"#DejaVuSans-30\"/>\r\n      </g>\r\n     </g>\r\n    </g>\r\n    <g id=\"ytick_41\">\r\n     <g id=\"line2d_195\">\r\n      <path clip-path=\"url(#p4eef9ec3bf)\" d=\"M 402.35 384.178106 \r\nL 681.35 384.178106 \r\n\" style=\"fill:none;stroke:#b0b0b0;stroke-linecap:square;stroke-width:0.8;\"/>\r\n     </g>\r\n     <g id=\"line2d_196\">\r\n      <g>\r\n       <use style=\"stroke:#000000;stroke-width:0.8;\" x=\"402.35\" xlink:href=\"#m2a7d614687\" y=\"384.178106\"/>\r\n      </g>\r\n     </g>\r\n     <g id=\"text_105\">\r\n      <!-- 400 -->\r\n      <g transform=\"translate(376.2625 387.977324)scale(0.1 -0.1)\">\r\n       <use xlink:href=\"#DejaVuSans-34\"/>\r\n       <use x=\"63.623047\" xlink:href=\"#DejaVuSans-30\"/>\r\n       <use x=\"127.246094\" xlink:href=\"#DejaVuSans-30\"/>\r\n      </g>\r\n     </g>\r\n    </g>\r\n   </g>\r\n   <g id=\"patch_518\">\r\n    <path d=\"M 402.35 501.573635 \r\nL 402.35 368.447105 \r\n\" style=\"fill:none;stroke:#000000;stroke-linecap:square;stroke-linejoin:miter;stroke-width:0.8;\"/>\r\n   </g>\r\n   <g id=\"patch_519\">\r\n    <path d=\"M 681.35 501.573635 \r\nL 681.35 368.447105 \r\n\" style=\"fill:none;stroke:#000000;stroke-linecap:square;stroke-linejoin:miter;stroke-width:0.8;\"/>\r\n   </g>\r\n   <g id=\"patch_520\">\r\n    <path d=\"M 402.35 501.573635 \r\nL 681.35 501.573635 \r\n\" style=\"fill:none;stroke:#000000;stroke-linecap:square;stroke-linejoin:miter;stroke-width:0.8;\"/>\r\n   </g>\r\n   <g id=\"patch_521\">\r\n    <path d=\"M 402.35 368.447105 \r\nL 681.35 368.447105 \r\n\" style=\"fill:none;stroke:#000000;stroke-linecap:square;stroke-linejoin:miter;stroke-width:0.8;\"/>\r\n   </g>\r\n   <g id=\"text_106\">\r\n    <!-- Fare -->\r\n    <g transform=\"translate(529.24625 362.447105)scale(0.12 -0.12)\">\r\n     <defs>\r\n      <path d=\"M 628 4666 \r\nL 3309 4666 \r\nL 3309 4134 \r\nL 1259 4134 \r\nL 1259 2759 \r\nL 3109 2759 \r\nL 3109 2228 \r\nL 1259 2228 \r\nL 1259 0 \r\nL 628 0 \r\nL 628 4666 \r\nz\r\n\" id=\"DejaVuSans-46\" transform=\"scale(0.015625)\"/>\r\n     </defs>\r\n     <use xlink:href=\"#DejaVuSans-46\"/>\r\n     <use x=\"48.394531\" xlink:href=\"#DejaVuSans-61\"/>\r\n     <use x=\"109.673828\" xlink:href=\"#DejaVuSans-72\"/>\r\n     <use x=\"148.537109\" xlink:href=\"#DejaVuSans-65\"/>\r\n    </g>\r\n   </g>\r\n  </g>\r\n  <g id=\"axes_9\">\r\n   <g id=\"patch_522\">\r\n    <path d=\"M 765.05 501.573635 \r\nL 1044.05 501.573635 \r\nL 1044.05 368.447105 \r\nL 765.05 368.447105 \r\nz\r\n\" style=\"fill:#ffffff;\"/>\r\n   </g>\r\n   <g id=\"patch_523\">\r\n    <path clip-path=\"url(#pb1d4149ae8)\" d=\"M 777.731818 501.573635 \r\nL 781.959091 501.573635 \r\nL 781.959091 374.786463 \r\nL 777.731818 374.786463 \r\nz\r\n\" style=\"fill:#1f77b4;\"/>\r\n   </g>\r\n   <g id=\"patch_524\">\r\n    <path clip-path=\"url(#pb1d4149ae8)\" d=\"M 781.959091 501.573635 \r\nL 786.186364 501.573635 \r\nL 786.186364 501.573635 \r\nL 781.959091 501.573635 \r\nz\r\n\" style=\"fill:#1f77b4;\"/>\r\n   </g>\r\n   <g id=\"patch_525\">\r\n    <path clip-path=\"url(#pb1d4149ae8)\" d=\"M 786.186364 501.573635 \r\nL 790.413636 501.573635 \r\nL 790.413636 501.573635 \r\nL 786.186364 501.573635 \r\nz\r\n\" style=\"fill:#1f77b4;\"/>\r\n   </g>\r\n   <g id=\"patch_526\">\r\n    <path clip-path=\"url(#pb1d4149ae8)\" d=\"M 790.413636 501.573635 \r\nL 794.640909 501.573635 \r\nL 794.640909 501.573635 \r\nL 790.413636 501.573635 \r\nz\r\n\" style=\"fill:#1f77b4;\"/>\r\n   </g>\r\n   <g id=\"patch_527\">\r\n    <path clip-path=\"url(#pb1d4149ae8)\" d=\"M 794.640909 501.573635 \r\nL 798.868182 501.573635 \r\nL 798.868182 501.573635 \r\nL 794.640909 501.573635 \r\nz\r\n\" style=\"fill:#1f77b4;\"/>\r\n   </g>\r\n   <g id=\"patch_528\">\r\n    <path clip-path=\"url(#pb1d4149ae8)\" d=\"M 798.868182 501.573635 \r\nL 803.095455 501.573635 \r\nL 803.095455 501.573635 \r\nL 798.868182 501.573635 \r\nz\r\n\" style=\"fill:#1f77b4;\"/>\r\n   </g>\r\n   <g id=\"patch_529\">\r\n    <path clip-path=\"url(#pb1d4149ae8)\" d=\"M 803.095455 501.573635 \r\nL 807.322727 501.573635 \r\nL 807.322727 501.573635 \r\nL 803.095455 501.573635 \r\nz\r\n\" style=\"fill:#1f77b4;\"/>\r\n   </g>\r\n   <g id=\"patch_530\">\r\n    <path clip-path=\"url(#pb1d4149ae8)\" d=\"M 807.322727 501.573635 \r\nL 811.55 501.573635 \r\nL 811.55 501.573635 \r\nL 807.322727 501.573635 \r\nz\r\n\" style=\"fill:#1f77b4;\"/>\r\n   </g>\r\n   <g id=\"patch_531\">\r\n    <path clip-path=\"url(#pb1d4149ae8)\" d=\"M 811.55 501.573635 \r\nL 815.777273 501.573635 \r\nL 815.777273 501.573635 \r\nL 811.55 501.573635 \r\nz\r\n\" style=\"fill:#1f77b4;\"/>\r\n   </g>\r\n   <g id=\"patch_532\">\r\n    <path clip-path=\"url(#pb1d4149ae8)\" d=\"M 815.777273 501.573635 \r\nL 820.004545 501.573635 \r\nL 820.004545 501.573635 \r\nL 815.777273 501.573635 \r\nz\r\n\" style=\"fill:#1f77b4;\"/>\r\n   </g>\r\n   <g id=\"patch_533\">\r\n    <path clip-path=\"url(#pb1d4149ae8)\" d=\"M 820.004545 501.573635 \r\nL 824.231818 501.573635 \r\nL 824.231818 501.573635 \r\nL 820.004545 501.573635 \r\nz\r\n\" style=\"fill:#1f77b4;\"/>\r\n   </g>\r\n   <g id=\"patch_534\">\r\n    <path clip-path=\"url(#pb1d4149ae8)\" d=\"M 824.231818 501.573635 \r\nL 828.459091 501.573635 \r\nL 828.459091 501.573635 \r\nL 824.231818 501.573635 \r\nz\r\n\" style=\"fill:#1f77b4;\"/>\r\n   </g>\r\n   <g id=\"patch_535\">\r\n    <path clip-path=\"url(#pb1d4149ae8)\" d=\"M 828.459091 501.573635 \r\nL 832.686364 501.573635 \r\nL 832.686364 501.573635 \r\nL 828.459091 501.573635 \r\nz\r\n\" style=\"fill:#1f77b4;\"/>\r\n   </g>\r\n   <g id=\"patch_536\">\r\n    <path clip-path=\"url(#pb1d4149ae8)\" d=\"M 832.686364 501.573635 \r\nL 836.913636 501.573635 \r\nL 836.913636 501.573635 \r\nL 832.686364 501.573635 \r\nz\r\n\" style=\"fill:#1f77b4;\"/>\r\n   </g>\r\n   <g id=\"patch_537\">\r\n    <path clip-path=\"url(#pb1d4149ae8)\" d=\"M 836.913636 501.573635 \r\nL 841.140909 501.573635 \r\nL 841.140909 501.573635 \r\nL 836.913636 501.573635 \r\nz\r\n\" style=\"fill:#1f77b4;\"/>\r\n   </g>\r\n   <g id=\"patch_538\">\r\n    <path clip-path=\"url(#pb1d4149ae8)\" d=\"M 841.140909 501.573635 \r\nL 845.368182 501.573635 \r\nL 845.368182 501.573635 \r\nL 841.140909 501.573635 \r\nz\r\n\" style=\"fill:#1f77b4;\"/>\r\n   </g>\r\n   <g id=\"patch_539\">\r\n    <path clip-path=\"url(#pb1d4149ae8)\" d=\"M 845.368182 501.573635 \r\nL 849.595455 501.573635 \r\nL 849.595455 501.573635 \r\nL 845.368182 501.573635 \r\nz\r\n\" style=\"fill:#1f77b4;\"/>\r\n   </g>\r\n   <g id=\"patch_540\">\r\n    <path clip-path=\"url(#pb1d4149ae8)\" d=\"M 849.595455 501.573635 \r\nL 853.822727 501.573635 \r\nL 853.822727 501.573635 \r\nL 849.595455 501.573635 \r\nz\r\n\" style=\"fill:#1f77b4;\"/>\r\n   </g>\r\n   <g id=\"patch_541\">\r\n    <path clip-path=\"url(#pb1d4149ae8)\" d=\"M 853.822727 501.573635 \r\nL 858.05 501.573635 \r\nL 858.05 501.573635 \r\nL 853.822727 501.573635 \r\nz\r\n\" style=\"fill:#1f77b4;\"/>\r\n   </g>\r\n   <g id=\"patch_542\">\r\n    <path clip-path=\"url(#pb1d4149ae8)\" d=\"M 858.05 501.573635 \r\nL 862.277273 501.573635 \r\nL 862.277273 501.573635 \r\nL 858.05 501.573635 \r\nz\r\n\" style=\"fill:#1f77b4;\"/>\r\n   </g>\r\n   <g id=\"patch_543\">\r\n    <path clip-path=\"url(#pb1d4149ae8)\" d=\"M 862.277273 501.573635 \r\nL 866.504545 501.573635 \r\nL 866.504545 501.573635 \r\nL 862.277273 501.573635 \r\nz\r\n\" style=\"fill:#1f77b4;\"/>\r\n   </g>\r\n   <g id=\"patch_544\">\r\n    <path clip-path=\"url(#pb1d4149ae8)\" d=\"M 866.504545 501.573635 \r\nL 870.731818 501.573635 \r\nL 870.731818 501.573635 \r\nL 866.504545 501.573635 \r\nz\r\n\" style=\"fill:#1f77b4;\"/>\r\n   </g>\r\n   <g id=\"patch_545\">\r\n    <path clip-path=\"url(#pb1d4149ae8)\" d=\"M 870.731818 501.573635 \r\nL 874.959091 501.573635 \r\nL 874.959091 501.573635 \r\nL 870.731818 501.573635 \r\nz\r\n\" style=\"fill:#1f77b4;\"/>\r\n   </g>\r\n   <g id=\"patch_546\">\r\n    <path clip-path=\"url(#pb1d4149ae8)\" d=\"M 874.959091 501.573635 \r\nL 879.186364 501.573635 \r\nL 879.186364 501.573635 \r\nL 874.959091 501.573635 \r\nz\r\n\" style=\"fill:#1f77b4;\"/>\r\n   </g>\r\n   <g id=\"patch_547\">\r\n    <path clip-path=\"url(#pb1d4149ae8)\" d=\"M 879.186364 501.573635 \r\nL 883.413636 501.573635 \r\nL 883.413636 501.573635 \r\nL 879.186364 501.573635 \r\nz\r\n\" style=\"fill:#1f77b4;\"/>\r\n   </g>\r\n   <g id=\"patch_548\">\r\n    <path clip-path=\"url(#pb1d4149ae8)\" d=\"M 883.413636 501.573635 \r\nL 887.640909 501.573635 \r\nL 887.640909 501.573635 \r\nL 883.413636 501.573635 \r\nz\r\n\" style=\"fill:#1f77b4;\"/>\r\n   </g>\r\n   <g id=\"patch_549\">\r\n    <path clip-path=\"url(#pb1d4149ae8)\" d=\"M 887.640909 501.573635 \r\nL 891.868182 501.573635 \r\nL 891.868182 501.573635 \r\nL 887.640909 501.573635 \r\nz\r\n\" style=\"fill:#1f77b4;\"/>\r\n   </g>\r\n   <g id=\"patch_550\">\r\n    <path clip-path=\"url(#pb1d4149ae8)\" d=\"M 891.868182 501.573635 \r\nL 896.095455 501.573635 \r\nL 896.095455 501.573635 \r\nL 891.868182 501.573635 \r\nz\r\n\" style=\"fill:#1f77b4;\"/>\r\n   </g>\r\n   <g id=\"patch_551\">\r\n    <path clip-path=\"url(#pb1d4149ae8)\" d=\"M 896.095455 501.573635 \r\nL 900.322727 501.573635 \r\nL 900.322727 501.573635 \r\nL 896.095455 501.573635 \r\nz\r\n\" style=\"fill:#1f77b4;\"/>\r\n   </g>\r\n   <g id=\"patch_552\">\r\n    <path clip-path=\"url(#pb1d4149ae8)\" d=\"M 900.322727 501.573635 \r\nL 904.55 501.573635 \r\nL 904.55 501.573635 \r\nL 900.322727 501.573635 \r\nz\r\n\" style=\"fill:#1f77b4;\"/>\r\n   </g>\r\n   <g id=\"patch_553\">\r\n    <path clip-path=\"url(#pb1d4149ae8)\" d=\"M 904.55 501.573635 \r\nL 908.777273 501.573635 \r\nL 908.777273 464.201871 \r\nL 904.55 464.201871 \r\nz\r\n\" style=\"fill:#1f77b4;\"/>\r\n   </g>\r\n   <g id=\"patch_554\">\r\n    <path clip-path=\"url(#pb1d4149ae8)\" d=\"M 908.777273 501.573635 \r\nL 913.004545 501.573635 \r\nL 913.004545 501.573635 \r\nL 908.777273 501.573635 \r\nz\r\n\" style=\"fill:#1f77b4;\"/>\r\n   </g>\r\n   <g id=\"patch_555\">\r\n    <path clip-path=\"url(#pb1d4149ae8)\" d=\"M 913.004545 501.573635 \r\nL 917.231818 501.573635 \r\nL 917.231818 501.573635 \r\nL 913.004545 501.573635 \r\nz\r\n\" style=\"fill:#1f77b4;\"/>\r\n   </g>\r\n   <g id=\"patch_556\">\r\n    <path clip-path=\"url(#pb1d4149ae8)\" d=\"M 917.231818 501.573635 \r\nL 921.459091 501.573635 \r\nL 921.459091 501.573635 \r\nL 917.231818 501.573635 \r\nz\r\n\" style=\"fill:#1f77b4;\"/>\r\n   </g>\r\n   <g id=\"patch_557\">\r\n    <path clip-path=\"url(#pb1d4149ae8)\" d=\"M 921.459091 501.573635 \r\nL 925.686364 501.573635 \r\nL 925.686364 501.573635 \r\nL 921.459091 501.573635 \r\nz\r\n\" style=\"fill:#1f77b4;\"/>\r\n   </g>\r\n   <g id=\"patch_558\">\r\n    <path clip-path=\"url(#pb1d4149ae8)\" d=\"M 925.686364 501.573635 \r\nL 929.913636 501.573635 \r\nL 929.913636 501.573635 \r\nL 925.686364 501.573635 \r\nz\r\n\" style=\"fill:#1f77b4;\"/>\r\n   </g>\r\n   <g id=\"patch_559\">\r\n    <path clip-path=\"url(#pb1d4149ae8)\" d=\"M 929.913636 501.573635 \r\nL 934.140909 501.573635 \r\nL 934.140909 501.573635 \r\nL 929.913636 501.573635 \r\nz\r\n\" style=\"fill:#1f77b4;\"/>\r\n   </g>\r\n   <g id=\"patch_560\">\r\n    <path clip-path=\"url(#pb1d4149ae8)\" d=\"M 934.140909 501.573635 \r\nL 938.368182 501.573635 \r\nL 938.368182 501.573635 \r\nL 934.140909 501.573635 \r\nz\r\n\" style=\"fill:#1f77b4;\"/>\r\n   </g>\r\n   <g id=\"patch_561\">\r\n    <path clip-path=\"url(#pb1d4149ae8)\" d=\"M 938.368182 501.573635 \r\nL 942.595455 501.573635 \r\nL 942.595455 501.573635 \r\nL 938.368182 501.573635 \r\nz\r\n\" style=\"fill:#1f77b4;\"/>\r\n   </g>\r\n   <g id=\"patch_562\">\r\n    <path clip-path=\"url(#pb1d4149ae8)\" d=\"M 942.595455 501.573635 \r\nL 946.822727 501.573635 \r\nL 946.822727 501.573635 \r\nL 942.595455 501.573635 \r\nz\r\n\" style=\"fill:#1f77b4;\"/>\r\n   </g>\r\n   <g id=\"patch_563\">\r\n    <path clip-path=\"url(#pb1d4149ae8)\" d=\"M 946.822727 501.573635 \r\nL 951.05 501.573635 \r\nL 951.05 501.573635 \r\nL 946.822727 501.573635 \r\nz\r\n\" style=\"fill:#1f77b4;\"/>\r\n   </g>\r\n   <g id=\"patch_564\">\r\n    <path clip-path=\"url(#pb1d4149ae8)\" d=\"M 951.05 501.573635 \r\nL 955.277273 501.573635 \r\nL 955.277273 501.573635 \r\nL 951.05 501.573635 \r\nz\r\n\" style=\"fill:#1f77b4;\"/>\r\n   </g>\r\n   <g id=\"patch_565\">\r\n    <path clip-path=\"url(#pb1d4149ae8)\" d=\"M 955.277273 501.573635 \r\nL 959.504545 501.573635 \r\nL 959.504545 501.573635 \r\nL 955.277273 501.573635 \r\nz\r\n\" style=\"fill:#1f77b4;\"/>\r\n   </g>\r\n   <g id=\"patch_566\">\r\n    <path clip-path=\"url(#pb1d4149ae8)\" d=\"M 959.504545 501.573635 \r\nL 963.731818 501.573635 \r\nL 963.731818 501.573635 \r\nL 959.504545 501.573635 \r\nz\r\n\" style=\"fill:#1f77b4;\"/>\r\n   </g>\r\n   <g id=\"patch_567\">\r\n    <path clip-path=\"url(#pb1d4149ae8)\" d=\"M 963.731818 501.573635 \r\nL 967.959091 501.573635 \r\nL 967.959091 501.573635 \r\nL 963.731818 501.573635 \r\nz\r\n\" style=\"fill:#1f77b4;\"/>\r\n   </g>\r\n   <g id=\"patch_568\">\r\n    <path clip-path=\"url(#pb1d4149ae8)\" d=\"M 967.959091 501.573635 \r\nL 972.186364 501.573635 \r\nL 972.186364 501.573635 \r\nL 967.959091 501.573635 \r\nz\r\n\" style=\"fill:#1f77b4;\"/>\r\n   </g>\r\n   <g id=\"patch_569\">\r\n    <path clip-path=\"url(#pb1d4149ae8)\" d=\"M 972.186364 501.573635 \r\nL 976.413636 501.573635 \r\nL 976.413636 501.573635 \r\nL 972.186364 501.573635 \r\nz\r\n\" style=\"fill:#1f77b4;\"/>\r\n   </g>\r\n   <g id=\"patch_570\">\r\n    <path clip-path=\"url(#pb1d4149ae8)\" d=\"M 976.413636 501.573635 \r\nL 980.640909 501.573635 \r\nL 980.640909 501.573635 \r\nL 976.413636 501.573635 \r\nz\r\n\" style=\"fill:#1f77b4;\"/>\r\n   </g>\r\n   <g id=\"patch_571\">\r\n    <path clip-path=\"url(#pb1d4149ae8)\" d=\"M 980.640909 501.573635 \r\nL 984.868182 501.573635 \r\nL 984.868182 501.573635 \r\nL 980.640909 501.573635 \r\nz\r\n\" style=\"fill:#1f77b4;\"/>\r\n   </g>\r\n   <g id=\"patch_572\">\r\n    <path clip-path=\"url(#pb1d4149ae8)\" d=\"M 984.868182 501.573635 \r\nL 989.095455 501.573635 \r\nL 989.095455 501.573635 \r\nL 984.868182 501.573635 \r\nz\r\n\" style=\"fill:#1f77b4;\"/>\r\n   </g>\r\n   <g id=\"patch_573\">\r\n    <path clip-path=\"url(#pb1d4149ae8)\" d=\"M 989.095455 501.573635 \r\nL 993.322727 501.573635 \r\nL 993.322727 501.573635 \r\nL 989.095455 501.573635 \r\nz\r\n\" style=\"fill:#1f77b4;\"/>\r\n   </g>\r\n   <g id=\"patch_574\">\r\n    <path clip-path=\"url(#pb1d4149ae8)\" d=\"M 993.322727 501.573635 \r\nL 997.55 501.573635 \r\nL 997.55 501.573635 \r\nL 993.322727 501.573635 \r\nz\r\n\" style=\"fill:#1f77b4;\"/>\r\n   </g>\r\n   <g id=\"patch_575\">\r\n    <path clip-path=\"url(#pb1d4149ae8)\" d=\"M 997.55 501.573635 \r\nL 1001.777273 501.573635 \r\nL 1001.777273 501.573635 \r\nL 997.55 501.573635 \r\nz\r\n\" style=\"fill:#1f77b4;\"/>\r\n   </g>\r\n   <g id=\"patch_576\">\r\n    <path clip-path=\"url(#pb1d4149ae8)\" d=\"M 1001.777273 501.573635 \r\nL 1006.004545 501.573635 \r\nL 1006.004545 501.573635 \r\nL 1001.777273 501.573635 \r\nz\r\n\" style=\"fill:#1f77b4;\"/>\r\n   </g>\r\n   <g id=\"patch_577\">\r\n    <path clip-path=\"url(#pb1d4149ae8)\" d=\"M 1006.004545 501.573635 \r\nL 1010.231818 501.573635 \r\nL 1010.231818 501.573635 \r\nL 1006.004545 501.573635 \r\nz\r\n\" style=\"fill:#1f77b4;\"/>\r\n   </g>\r\n   <g id=\"patch_578\">\r\n    <path clip-path=\"url(#pb1d4149ae8)\" d=\"M 1010.231818 501.573635 \r\nL 1014.459091 501.573635 \r\nL 1014.459091 501.573635 \r\nL 1010.231818 501.573635 \r\nz\r\n\" style=\"fill:#1f77b4;\"/>\r\n   </g>\r\n   <g id=\"patch_579\">\r\n    <path clip-path=\"url(#pb1d4149ae8)\" d=\"M 1014.459091 501.573635 \r\nL 1018.686364 501.573635 \r\nL 1018.686364 501.573635 \r\nL 1014.459091 501.573635 \r\nz\r\n\" style=\"fill:#1f77b4;\"/>\r\n   </g>\r\n   <g id=\"patch_580\">\r\n    <path clip-path=\"url(#pb1d4149ae8)\" d=\"M 1018.686364 501.573635 \r\nL 1022.913636 501.573635 \r\nL 1022.913636 501.573635 \r\nL 1018.686364 501.573635 \r\nz\r\n\" style=\"fill:#1f77b4;\"/>\r\n   </g>\r\n   <g id=\"patch_581\">\r\n    <path clip-path=\"url(#pb1d4149ae8)\" d=\"M 1022.913636 501.573635 \r\nL 1027.140909 501.573635 \r\nL 1027.140909 501.573635 \r\nL 1022.913636 501.573635 \r\nz\r\n\" style=\"fill:#1f77b4;\"/>\r\n   </g>\r\n   <g id=\"patch_582\">\r\n    <path clip-path=\"url(#pb1d4149ae8)\" d=\"M 1027.140909 501.573635 \r\nL 1031.368182 501.573635 \r\nL 1031.368182 484.54872 \r\nL 1027.140909 484.54872 \r\nz\r\n\" style=\"fill:#1f77b4;\"/>\r\n   </g>\r\n   <g id=\"matplotlib.axis_17\">\r\n    <g id=\"xtick_58\">\r\n     <g id=\"line2d_197\">\r\n      <path clip-path=\"url(#pb1d4149ae8)\" d=\"M 777.731818 501.573635 \r\nL 777.731818 368.447105 \r\n\" style=\"fill:none;stroke:#b0b0b0;stroke-linecap:square;stroke-width:0.8;\"/>\r\n     </g>\r\n     <g id=\"line2d_198\">\r\n      <g>\r\n       <use style=\"stroke:#000000;stroke-width:0.8;\" x=\"777.731818\" xlink:href=\"#mb4638e5f59\" y=\"501.573635\"/>\r\n      </g>\r\n     </g>\r\n     <g id=\"text_107\">\r\n      <!-- 0.00 -->\r\n      <g transform=\"translate(766.599006 516.172073)scale(0.1 -0.1)\">\r\n       <use xlink:href=\"#DejaVuSans-30\"/>\r\n       <use x=\"63.623047\" xlink:href=\"#DejaVuSans-2e\"/>\r\n       <use x=\"95.410156\" xlink:href=\"#DejaVuSans-30\"/>\r\n       <use x=\"159.033203\" xlink:href=\"#DejaVuSans-30\"/>\r\n      </g>\r\n     </g>\r\n    </g>\r\n    <g id=\"xtick_59\">\r\n     <g id=\"line2d_199\">\r\n      <path clip-path=\"url(#pb1d4149ae8)\" d=\"M 809.436364 501.573635 \r\nL 809.436364 368.447105 \r\n\" style=\"fill:none;stroke:#b0b0b0;stroke-linecap:square;stroke-width:0.8;\"/>\r\n     </g>\r\n     <g id=\"line2d_200\">\r\n      <g>\r\n       <use style=\"stroke:#000000;stroke-width:0.8;\" x=\"809.436364\" xlink:href=\"#mb4638e5f59\" y=\"501.573635\"/>\r\n      </g>\r\n     </g>\r\n     <g id=\"text_108\">\r\n      <!-- 0.25 -->\r\n      <g transform=\"translate(798.303551 516.172073)scale(0.1 -0.1)\">\r\n       <use xlink:href=\"#DejaVuSans-30\"/>\r\n       <use x=\"63.623047\" xlink:href=\"#DejaVuSans-2e\"/>\r\n       <use x=\"95.410156\" xlink:href=\"#DejaVuSans-32\"/>\r\n       <use x=\"159.033203\" xlink:href=\"#DejaVuSans-35\"/>\r\n      </g>\r\n     </g>\r\n    </g>\r\n    <g id=\"xtick_60\">\r\n     <g id=\"line2d_201\">\r\n      <path clip-path=\"url(#pb1d4149ae8)\" d=\"M 841.140909 501.573635 \r\nL 841.140909 368.447105 \r\n\" style=\"fill:none;stroke:#b0b0b0;stroke-linecap:square;stroke-width:0.8;\"/>\r\n     </g>\r\n     <g id=\"line2d_202\">\r\n      <g>\r\n       <use style=\"stroke:#000000;stroke-width:0.8;\" x=\"841.140909\" xlink:href=\"#mb4638e5f59\" y=\"501.573635\"/>\r\n      </g>\r\n     </g>\r\n     <g id=\"text_109\">\r\n      <!-- 0.50 -->\r\n      <g transform=\"translate(830.008097 516.172073)scale(0.1 -0.1)\">\r\n       <use xlink:href=\"#DejaVuSans-30\"/>\r\n       <use x=\"63.623047\" xlink:href=\"#DejaVuSans-2e\"/>\r\n       <use x=\"95.410156\" xlink:href=\"#DejaVuSans-35\"/>\r\n       <use x=\"159.033203\" xlink:href=\"#DejaVuSans-30\"/>\r\n      </g>\r\n     </g>\r\n    </g>\r\n    <g id=\"xtick_61\">\r\n     <g id=\"line2d_203\">\r\n      <path clip-path=\"url(#pb1d4149ae8)\" d=\"M 872.845455 501.573635 \r\nL 872.845455 368.447105 \r\n\" style=\"fill:none;stroke:#b0b0b0;stroke-linecap:square;stroke-width:0.8;\"/>\r\n     </g>\r\n     <g id=\"line2d_204\">\r\n      <g>\r\n       <use style=\"stroke:#000000;stroke-width:0.8;\" x=\"872.845455\" xlink:href=\"#mb4638e5f59\" y=\"501.573635\"/>\r\n      </g>\r\n     </g>\r\n     <g id=\"text_110\">\r\n      <!-- 0.75 -->\r\n      <g transform=\"translate(861.712642 516.172073)scale(0.1 -0.1)\">\r\n       <use xlink:href=\"#DejaVuSans-30\"/>\r\n       <use x=\"63.623047\" xlink:href=\"#DejaVuSans-2e\"/>\r\n       <use x=\"95.410156\" xlink:href=\"#DejaVuSans-37\"/>\r\n       <use x=\"159.033203\" xlink:href=\"#DejaVuSans-35\"/>\r\n      </g>\r\n     </g>\r\n    </g>\r\n    <g id=\"xtick_62\">\r\n     <g id=\"line2d_205\">\r\n      <path clip-path=\"url(#pb1d4149ae8)\" d=\"M 904.55 501.573635 \r\nL 904.55 368.447105 \r\n\" style=\"fill:none;stroke:#b0b0b0;stroke-linecap:square;stroke-width:0.8;\"/>\r\n     </g>\r\n     <g id=\"line2d_206\">\r\n      <g>\r\n       <use style=\"stroke:#000000;stroke-width:0.8;\" x=\"904.55\" xlink:href=\"#mb4638e5f59\" y=\"501.573635\"/>\r\n      </g>\r\n     </g>\r\n     <g id=\"text_111\">\r\n      <!-- 1.00 -->\r\n      <g transform=\"translate(893.417188 516.172073)scale(0.1 -0.1)\">\r\n       <use xlink:href=\"#DejaVuSans-31\"/>\r\n       <use x=\"63.623047\" xlink:href=\"#DejaVuSans-2e\"/>\r\n       <use x=\"95.410156\" xlink:href=\"#DejaVuSans-30\"/>\r\n       <use x=\"159.033203\" xlink:href=\"#DejaVuSans-30\"/>\r\n      </g>\r\n     </g>\r\n    </g>\r\n    <g id=\"xtick_63\">\r\n     <g id=\"line2d_207\">\r\n      <path clip-path=\"url(#pb1d4149ae8)\" d=\"M 936.254545 501.573635 \r\nL 936.254545 368.447105 \r\n\" style=\"fill:none;stroke:#b0b0b0;stroke-linecap:square;stroke-width:0.8;\"/>\r\n     </g>\r\n     <g id=\"line2d_208\">\r\n      <g>\r\n       <use style=\"stroke:#000000;stroke-width:0.8;\" x=\"936.254545\" xlink:href=\"#mb4638e5f59\" y=\"501.573635\"/>\r\n      </g>\r\n     </g>\r\n     <g id=\"text_112\">\r\n      <!-- 1.25 -->\r\n      <g transform=\"translate(925.121733 516.172073)scale(0.1 -0.1)\">\r\n       <use xlink:href=\"#DejaVuSans-31\"/>\r\n       <use x=\"63.623047\" xlink:href=\"#DejaVuSans-2e\"/>\r\n       <use x=\"95.410156\" xlink:href=\"#DejaVuSans-32\"/>\r\n       <use x=\"159.033203\" xlink:href=\"#DejaVuSans-35\"/>\r\n      </g>\r\n     </g>\r\n    </g>\r\n    <g id=\"xtick_64\">\r\n     <g id=\"line2d_209\">\r\n      <path clip-path=\"url(#pb1d4149ae8)\" d=\"M 967.959091 501.573635 \r\nL 967.959091 368.447105 \r\n\" style=\"fill:none;stroke:#b0b0b0;stroke-linecap:square;stroke-width:0.8;\"/>\r\n     </g>\r\n     <g id=\"line2d_210\">\r\n      <g>\r\n       <use style=\"stroke:#000000;stroke-width:0.8;\" x=\"967.959091\" xlink:href=\"#mb4638e5f59\" y=\"501.573635\"/>\r\n      </g>\r\n     </g>\r\n     <g id=\"text_113\">\r\n      <!-- 1.50 -->\r\n      <g transform=\"translate(956.826278 516.172073)scale(0.1 -0.1)\">\r\n       <use xlink:href=\"#DejaVuSans-31\"/>\r\n       <use x=\"63.623047\" xlink:href=\"#DejaVuSans-2e\"/>\r\n       <use x=\"95.410156\" xlink:href=\"#DejaVuSans-35\"/>\r\n       <use x=\"159.033203\" xlink:href=\"#DejaVuSans-30\"/>\r\n      </g>\r\n     </g>\r\n    </g>\r\n    <g id=\"xtick_65\">\r\n     <g id=\"line2d_211\">\r\n      <path clip-path=\"url(#pb1d4149ae8)\" d=\"M 999.663636 501.573635 \r\nL 999.663636 368.447105 \r\n\" style=\"fill:none;stroke:#b0b0b0;stroke-linecap:square;stroke-width:0.8;\"/>\r\n     </g>\r\n     <g id=\"line2d_212\">\r\n      <g>\r\n       <use style=\"stroke:#000000;stroke-width:0.8;\" x=\"999.663636\" xlink:href=\"#mb4638e5f59\" y=\"501.573635\"/>\r\n      </g>\r\n     </g>\r\n     <g id=\"text_114\">\r\n      <!-- 1.75 -->\r\n      <g transform=\"translate(988.530824 516.172073)scale(0.1 -0.1)\">\r\n       <use xlink:href=\"#DejaVuSans-31\"/>\r\n       <use x=\"63.623047\" xlink:href=\"#DejaVuSans-2e\"/>\r\n       <use x=\"95.410156\" xlink:href=\"#DejaVuSans-37\"/>\r\n       <use x=\"159.033203\" xlink:href=\"#DejaVuSans-35\"/>\r\n      </g>\r\n     </g>\r\n    </g>\r\n    <g id=\"xtick_66\">\r\n     <g id=\"line2d_213\">\r\n      <path clip-path=\"url(#pb1d4149ae8)\" d=\"M 1031.368182 501.573635 \r\nL 1031.368182 368.447105 \r\n\" style=\"fill:none;stroke:#b0b0b0;stroke-linecap:square;stroke-width:0.8;\"/>\r\n     </g>\r\n     <g id=\"line2d_214\">\r\n      <g>\r\n       <use style=\"stroke:#000000;stroke-width:0.8;\" x=\"1031.368182\" xlink:href=\"#mb4638e5f59\" y=\"501.573635\"/>\r\n      </g>\r\n     </g>\r\n     <g id=\"text_115\">\r\n      <!-- 2.00 -->\r\n      <g transform=\"translate(1020.235369 516.172073)scale(0.1 -0.1)\">\r\n       <use xlink:href=\"#DejaVuSans-32\"/>\r\n       <use x=\"63.623047\" xlink:href=\"#DejaVuSans-2e\"/>\r\n       <use x=\"95.410156\" xlink:href=\"#DejaVuSans-30\"/>\r\n       <use x=\"159.033203\" xlink:href=\"#DejaVuSans-30\"/>\r\n      </g>\r\n     </g>\r\n    </g>\r\n   </g>\r\n   <g id=\"matplotlib.axis_18\">\r\n    <g id=\"ytick_42\">\r\n     <g id=\"line2d_215\">\r\n      <path clip-path=\"url(#pb1d4149ae8)\" d=\"M 765.05 501.573635 \r\nL 1044.05 501.573635 \r\n\" style=\"fill:none;stroke:#b0b0b0;stroke-linecap:square;stroke-width:0.8;\"/>\r\n     </g>\r\n     <g id=\"line2d_216\">\r\n      <g>\r\n       <use style=\"stroke:#000000;stroke-width:0.8;\" x=\"765.05\" xlink:href=\"#m2a7d614687\" y=\"501.573635\"/>\r\n      </g>\r\n     </g>\r\n     <g id=\"text_116\">\r\n      <!-- 0 -->\r\n      <g transform=\"translate(751.6875 505.372854)scale(0.1 -0.1)\">\r\n       <use xlink:href=\"#DejaVuSans-30\"/>\r\n      </g>\r\n     </g>\r\n    </g>\r\n    <g id=\"ytick_43\">\r\n     <g id=\"line2d_217\">\r\n      <path clip-path=\"url(#pb1d4149ae8)\" d=\"M 765.05 473.890847 \r\nL 1044.05 473.890847 \r\n\" style=\"fill:none;stroke:#b0b0b0;stroke-linecap:square;stroke-width:0.8;\"/>\r\n     </g>\r\n     <g id=\"line2d_218\">\r\n      <g>\r\n       <use style=\"stroke:#000000;stroke-width:0.8;\" x=\"765.05\" xlink:href=\"#m2a7d614687\" y=\"473.890847\"/>\r\n      </g>\r\n     </g>\r\n     <g id=\"text_117\">\r\n      <!-- 200 -->\r\n      <g transform=\"translate(738.9625 477.690065)scale(0.1 -0.1)\">\r\n       <use xlink:href=\"#DejaVuSans-32\"/>\r\n       <use x=\"63.623047\" xlink:href=\"#DejaVuSans-30\"/>\r\n       <use x=\"127.246094\" xlink:href=\"#DejaVuSans-30\"/>\r\n      </g>\r\n     </g>\r\n    </g>\r\n    <g id=\"ytick_44\">\r\n     <g id=\"line2d_219\">\r\n      <path clip-path=\"url(#pb1d4149ae8)\" d=\"M 765.05 446.208058 \r\nL 1044.05 446.208058 \r\n\" style=\"fill:none;stroke:#b0b0b0;stroke-linecap:square;stroke-width:0.8;\"/>\r\n     </g>\r\n     <g id=\"line2d_220\">\r\n      <g>\r\n       <use style=\"stroke:#000000;stroke-width:0.8;\" x=\"765.05\" xlink:href=\"#m2a7d614687\" y=\"446.208058\"/>\r\n      </g>\r\n     </g>\r\n     <g id=\"text_118\">\r\n      <!-- 400 -->\r\n      <g transform=\"translate(738.9625 450.007277)scale(0.1 -0.1)\">\r\n       <use xlink:href=\"#DejaVuSans-34\"/>\r\n       <use x=\"63.623047\" xlink:href=\"#DejaVuSans-30\"/>\r\n       <use x=\"127.246094\" xlink:href=\"#DejaVuSans-30\"/>\r\n      </g>\r\n     </g>\r\n    </g>\r\n    <g id=\"ytick_45\">\r\n     <g id=\"line2d_221\">\r\n      <path clip-path=\"url(#pb1d4149ae8)\" d=\"M 765.05 418.525269 \r\nL 1044.05 418.525269 \r\n\" style=\"fill:none;stroke:#b0b0b0;stroke-linecap:square;stroke-width:0.8;\"/>\r\n     </g>\r\n     <g id=\"line2d_222\">\r\n      <g>\r\n       <use style=\"stroke:#000000;stroke-width:0.8;\" x=\"765.05\" xlink:href=\"#m2a7d614687\" y=\"418.525269\"/>\r\n      </g>\r\n     </g>\r\n     <g id=\"text_119\">\r\n      <!-- 600 -->\r\n      <g transform=\"translate(738.9625 422.324488)scale(0.1 -0.1)\">\r\n       <use xlink:href=\"#DejaVuSans-36\"/>\r\n       <use x=\"63.623047\" xlink:href=\"#DejaVuSans-30\"/>\r\n       <use x=\"127.246094\" xlink:href=\"#DejaVuSans-30\"/>\r\n      </g>\r\n     </g>\r\n    </g>\r\n    <g id=\"ytick_46\">\r\n     <g id=\"line2d_223\">\r\n      <path clip-path=\"url(#pb1d4149ae8)\" d=\"M 765.05 390.842481 \r\nL 1044.05 390.842481 \r\n\" style=\"fill:none;stroke:#b0b0b0;stroke-linecap:square;stroke-width:0.8;\"/>\r\n     </g>\r\n     <g id=\"line2d_224\">\r\n      <g>\r\n       <use style=\"stroke:#000000;stroke-width:0.8;\" x=\"765.05\" xlink:href=\"#m2a7d614687\" y=\"390.842481\"/>\r\n      </g>\r\n     </g>\r\n     <g id=\"text_120\">\r\n      <!-- 800 -->\r\n      <g transform=\"translate(738.9625 394.641699)scale(0.1 -0.1)\">\r\n       <use xlink:href=\"#DejaVuSans-38\"/>\r\n       <use x=\"63.623047\" xlink:href=\"#DejaVuSans-30\"/>\r\n       <use x=\"127.246094\" xlink:href=\"#DejaVuSans-30\"/>\r\n      </g>\r\n     </g>\r\n    </g>\r\n   </g>\r\n   <g id=\"patch_583\">\r\n    <path d=\"M 765.05 501.573635 \r\nL 765.05 368.447105 \r\n\" style=\"fill:none;stroke:#000000;stroke-linecap:square;stroke-linejoin:miter;stroke-width:0.8;\"/>\r\n   </g>\r\n   <g id=\"patch_584\">\r\n    <path d=\"M 1044.05 501.573635 \r\nL 1044.05 368.447105 \r\n\" style=\"fill:none;stroke:#000000;stroke-linecap:square;stroke-linejoin:miter;stroke-width:0.8;\"/>\r\n   </g>\r\n   <g id=\"patch_585\">\r\n    <path d=\"M 765.05 501.573635 \r\nL 1044.05 501.573635 \r\n\" style=\"fill:none;stroke:#000000;stroke-linecap:square;stroke-linejoin:miter;stroke-width:0.8;\"/>\r\n   </g>\r\n   <g id=\"patch_586\">\r\n    <path d=\"M 765.05 368.447105 \r\nL 1044.05 368.447105 \r\n\" style=\"fill:none;stroke:#000000;stroke-linecap:square;stroke-linejoin:miter;stroke-width:0.8;\"/>\r\n   </g>\r\n   <g id=\"text_121\">\r\n    <!-- Embarked -->\r\n    <g transform=\"translate(874.204063 362.447105)scale(0.12 -0.12)\">\r\n     <defs>\r\n      <path d=\"M 628 4666 \r\nL 3578 4666 \r\nL 3578 4134 \r\nL 1259 4134 \r\nL 1259 2753 \r\nL 3481 2753 \r\nL 3481 2222 \r\nL 1259 2222 \r\nL 1259 531 \r\nL 3634 531 \r\nL 3634 0 \r\nL 628 0 \r\nL 628 4666 \r\nz\r\n\" id=\"DejaVuSans-45\" transform=\"scale(0.015625)\"/>\r\n      <path d=\"M 3328 2828 \r\nQ 3544 3216 3844 3400 \r\nQ 4144 3584 4550 3584 \r\nQ 5097 3584 5394 3201 \r\nQ 5691 2819 5691 2113 \r\nL 5691 0 \r\nL 5113 0 \r\nL 5113 2094 \r\nQ 5113 2597 4934 2840 \r\nQ 4756 3084 4391 3084 \r\nQ 3944 3084 3684 2787 \r\nQ 3425 2491 3425 1978 \r\nL 3425 0 \r\nL 2847 0 \r\nL 2847 2094 \r\nQ 2847 2600 2669 2842 \r\nQ 2491 3084 2119 3084 \r\nQ 1678 3084 1418 2786 \r\nQ 1159 2488 1159 1978 \r\nL 1159 0 \r\nL 581 0 \r\nL 581 3500 \r\nL 1159 3500 \r\nL 1159 2956 \r\nQ 1356 3278 1631 3431 \r\nQ 1906 3584 2284 3584 \r\nQ 2666 3584 2933 3390 \r\nQ 3200 3197 3328 2828 \r\nz\r\n\" id=\"DejaVuSans-6d\" transform=\"scale(0.015625)\"/>\r\n      <path d=\"M 581 4863 \r\nL 1159 4863 \r\nL 1159 1991 \r\nL 2875 3500 \r\nL 3609 3500 \r\nL 1753 1863 \r\nL 3688 0 \r\nL 2938 0 \r\nL 1159 1709 \r\nL 1159 0 \r\nL 581 0 \r\nL 581 4863 \r\nz\r\n\" id=\"DejaVuSans-6b\" transform=\"scale(0.015625)\"/>\r\n     </defs>\r\n     <use xlink:href=\"#DejaVuSans-45\"/>\r\n     <use x=\"63.183594\" xlink:href=\"#DejaVuSans-6d\"/>\r\n     <use x=\"160.595703\" xlink:href=\"#DejaVuSans-62\"/>\r\n     <use x=\"224.072266\" xlink:href=\"#DejaVuSans-61\"/>\r\n     <use x=\"285.351562\" xlink:href=\"#DejaVuSans-72\"/>\r\n     <use x=\"326.464844\" xlink:href=\"#DejaVuSans-6b\"/>\r\n     <use x=\"380.75\" xlink:href=\"#DejaVuSans-65\"/>\r\n     <use x=\"442.273438\" xlink:href=\"#DejaVuSans-64\"/>\r\n    </g>\r\n   </g>\r\n  </g>\r\n  <g id=\"axes_10\">\r\n   <g id=\"patch_587\">\r\n    <path d=\"M 39.65 674.638125 \r\nL 318.65 674.638125 \r\nL 318.65 541.511594 \r\nL 39.65 541.511594 \r\nz\r\n\" style=\"fill:#ffffff;\"/>\r\n   </g>\r\n   <g id=\"patch_588\">\r\n    <path clip-path=\"url(#pd00878ce79)\" d=\"M 52.331818 674.638125 \r\nL 56.559091 674.638125 \r\nL 56.559091 547.850953 \r\nL 52.331818 547.850953 \r\nz\r\n\" style=\"fill:#1f77b4;\"/>\r\n   </g>\r\n   <g id=\"patch_589\">\r\n    <path clip-path=\"url(#pd00878ce79)\" d=\"M 56.559091 674.638125 \r\nL 60.786364 674.638125 \r\nL 60.786364 674.638125 \r\nL 56.559091 674.638125 \r\nz\r\n\" style=\"fill:#1f77b4;\"/>\r\n   </g>\r\n   <g id=\"patch_590\">\r\n    <path clip-path=\"url(#pd00878ce79)\" d=\"M 60.786364 674.638125 \r\nL 65.013636 674.638125 \r\nL 65.013636 674.638125 \r\nL 60.786364 674.638125 \r\nz\r\n\" style=\"fill:#1f77b4;\"/>\r\n   </g>\r\n   <g id=\"patch_591\">\r\n    <path clip-path=\"url(#pd00878ce79)\" d=\"M 65.013636 674.638125 \r\nL 69.240909 674.638125 \r\nL 69.240909 674.638125 \r\nL 65.013636 674.638125 \r\nz\r\n\" style=\"fill:#1f77b4;\"/>\r\n   </g>\r\n   <g id=\"patch_592\">\r\n    <path clip-path=\"url(#pd00878ce79)\" d=\"M 69.240909 674.638125 \r\nL 73.468182 674.638125 \r\nL 73.468182 674.638125 \r\nL 69.240909 674.638125 \r\nz\r\n\" style=\"fill:#1f77b4;\"/>\r\n   </g>\r\n   <g id=\"patch_593\">\r\n    <path clip-path=\"url(#pd00878ce79)\" d=\"M 73.468182 674.638125 \r\nL 77.695455 674.638125 \r\nL 77.695455 674.638125 \r\nL 73.468182 674.638125 \r\nz\r\n\" style=\"fill:#1f77b4;\"/>\r\n   </g>\r\n   <g id=\"patch_594\">\r\n    <path clip-path=\"url(#pd00878ce79)\" d=\"M 77.695455 674.638125 \r\nL 81.922727 674.638125 \r\nL 81.922727 674.638125 \r\nL 77.695455 674.638125 \r\nz\r\n\" style=\"fill:#1f77b4;\"/>\r\n   </g>\r\n   <g id=\"patch_595\">\r\n    <path clip-path=\"url(#pd00878ce79)\" d=\"M 81.922727 674.638125 \r\nL 86.15 674.638125 \r\nL 86.15 674.638125 \r\nL 81.922727 674.638125 \r\nz\r\n\" style=\"fill:#1f77b4;\"/>\r\n   </g>\r\n   <g id=\"patch_596\">\r\n    <path clip-path=\"url(#pd00878ce79)\" d=\"M 86.15 674.638125 \r\nL 90.377273 674.638125 \r\nL 90.377273 674.638125 \r\nL 86.15 674.638125 \r\nz\r\n\" style=\"fill:#1f77b4;\"/>\r\n   </g>\r\n   <g id=\"patch_597\">\r\n    <path clip-path=\"url(#pd00878ce79)\" d=\"M 90.377273 674.638125 \r\nL 94.604545 674.638125 \r\nL 94.604545 674.638125 \r\nL 90.377273 674.638125 \r\nz\r\n\" style=\"fill:#1f77b4;\"/>\r\n   </g>\r\n   <g id=\"patch_598\">\r\n    <path clip-path=\"url(#pd00878ce79)\" d=\"M 94.604545 674.638125 \r\nL 98.831818 674.638125 \r\nL 98.831818 674.638125 \r\nL 94.604545 674.638125 \r\nz\r\n\" style=\"fill:#1f77b4;\"/>\r\n   </g>\r\n   <g id=\"patch_599\">\r\n    <path clip-path=\"url(#pd00878ce79)\" d=\"M 98.831818 674.638125 \r\nL 103.059091 674.638125 \r\nL 103.059091 674.638125 \r\nL 98.831818 674.638125 \r\nz\r\n\" style=\"fill:#1f77b4;\"/>\r\n   </g>\r\n   <g id=\"patch_600\">\r\n    <path clip-path=\"url(#pd00878ce79)\" d=\"M 103.059091 674.638125 \r\nL 107.286364 674.638125 \r\nL 107.286364 674.638125 \r\nL 103.059091 674.638125 \r\nz\r\n\" style=\"fill:#1f77b4;\"/>\r\n   </g>\r\n   <g id=\"patch_601\">\r\n    <path clip-path=\"url(#pd00878ce79)\" d=\"M 107.286364 674.638125 \r\nL 111.513636 674.638125 \r\nL 111.513636 674.638125 \r\nL 107.286364 674.638125 \r\nz\r\n\" style=\"fill:#1f77b4;\"/>\r\n   </g>\r\n   <g id=\"patch_602\">\r\n    <path clip-path=\"url(#pd00878ce79)\" d=\"M 111.513636 674.638125 \r\nL 115.740909 674.638125 \r\nL 115.740909 674.638125 \r\nL 111.513636 674.638125 \r\nz\r\n\" style=\"fill:#1f77b4;\"/>\r\n   </g>\r\n   <g id=\"patch_603\">\r\n    <path clip-path=\"url(#pd00878ce79)\" d=\"M 115.740909 674.638125 \r\nL 119.968182 674.638125 \r\nL 119.968182 630.421727 \r\nL 115.740909 630.421727 \r\nz\r\n\" style=\"fill:#1f77b4;\"/>\r\n   </g>\r\n   <g id=\"patch_604\">\r\n    <path clip-path=\"url(#pd00878ce79)\" d=\"M 119.968182 674.638125 \r\nL 124.195455 674.638125 \r\nL 124.195455 674.638125 \r\nL 119.968182 674.638125 \r\nz\r\n\" style=\"fill:#1f77b4;\"/>\r\n   </g>\r\n   <g id=\"patch_605\">\r\n    <path clip-path=\"url(#pd00878ce79)\" d=\"M 124.195455 674.638125 \r\nL 128.422727 674.638125 \r\nL 128.422727 674.638125 \r\nL 124.195455 674.638125 \r\nz\r\n\" style=\"fill:#1f77b4;\"/>\r\n   </g>\r\n   <g id=\"patch_606\">\r\n    <path clip-path=\"url(#pd00878ce79)\" d=\"M 128.422727 674.638125 \r\nL 132.65 674.638125 \r\nL 132.65 674.638125 \r\nL 128.422727 674.638125 \r\nz\r\n\" style=\"fill:#1f77b4;\"/>\r\n   </g>\r\n   <g id=\"patch_607\">\r\n    <path clip-path=\"url(#pd00878ce79)\" d=\"M 132.65 674.638125 \r\nL 136.877273 674.638125 \r\nL 136.877273 674.638125 \r\nL 132.65 674.638125 \r\nz\r\n\" style=\"fill:#1f77b4;\"/>\r\n   </g>\r\n   <g id=\"patch_608\">\r\n    <path clip-path=\"url(#pd00878ce79)\" d=\"M 136.877273 674.638125 \r\nL 141.104545 674.638125 \r\nL 141.104545 674.638125 \r\nL 136.877273 674.638125 \r\nz\r\n\" style=\"fill:#1f77b4;\"/>\r\n   </g>\r\n   <g id=\"patch_609\">\r\n    <path clip-path=\"url(#pd00878ce79)\" d=\"M 141.104545 674.638125 \r\nL 145.331818 674.638125 \r\nL 145.331818 674.638125 \r\nL 141.104545 674.638125 \r\nz\r\n\" style=\"fill:#1f77b4;\"/>\r\n   </g>\r\n   <g id=\"patch_610\">\r\n    <path clip-path=\"url(#pd00878ce79)\" d=\"M 145.331818 674.638125 \r\nL 149.559091 674.638125 \r\nL 149.559091 674.638125 \r\nL 145.331818 674.638125 \r\nz\r\n\" style=\"fill:#1f77b4;\"/>\r\n   </g>\r\n   <g id=\"patch_611\">\r\n    <path clip-path=\"url(#pd00878ce79)\" d=\"M 149.559091 674.638125 \r\nL 153.786364 674.638125 \r\nL 153.786364 674.638125 \r\nL 149.559091 674.638125 \r\nz\r\n\" style=\"fill:#1f77b4;\"/>\r\n   </g>\r\n   <g id=\"patch_612\">\r\n    <path clip-path=\"url(#pd00878ce79)\" d=\"M 153.786364 674.638125 \r\nL 158.013636 674.638125 \r\nL 158.013636 674.638125 \r\nL 153.786364 674.638125 \r\nz\r\n\" style=\"fill:#1f77b4;\"/>\r\n   </g>\r\n   <g id=\"patch_613\">\r\n    <path clip-path=\"url(#pd00878ce79)\" d=\"M 158.013636 674.638125 \r\nL 162.240909 674.638125 \r\nL 162.240909 674.638125 \r\nL 158.013636 674.638125 \r\nz\r\n\" style=\"fill:#1f77b4;\"/>\r\n   </g>\r\n   <g id=\"patch_614\">\r\n    <path clip-path=\"url(#pd00878ce79)\" d=\"M 162.240909 674.638125 \r\nL 166.468182 674.638125 \r\nL 166.468182 674.638125 \r\nL 162.240909 674.638125 \r\nz\r\n\" style=\"fill:#1f77b4;\"/>\r\n   </g>\r\n   <g id=\"patch_615\">\r\n    <path clip-path=\"url(#pd00878ce79)\" d=\"M 166.468182 674.638125 \r\nL 170.695455 674.638125 \r\nL 170.695455 674.638125 \r\nL 166.468182 674.638125 \r\nz\r\n\" style=\"fill:#1f77b4;\"/>\r\n   </g>\r\n   <g id=\"patch_616\">\r\n    <path clip-path=\"url(#pd00878ce79)\" d=\"M 170.695455 674.638125 \r\nL 174.922727 674.638125 \r\nL 174.922727 674.638125 \r\nL 170.695455 674.638125 \r\nz\r\n\" style=\"fill:#1f77b4;\"/>\r\n   </g>\r\n   <g id=\"patch_617\">\r\n    <path clip-path=\"url(#pd00878ce79)\" d=\"M 174.922727 674.638125 \r\nL 179.15 674.638125 \r\nL 179.15 674.638125 \r\nL 174.922727 674.638125 \r\nz\r\n\" style=\"fill:#1f77b4;\"/>\r\n   </g>\r\n   <g id=\"patch_618\">\r\n    <path clip-path=\"url(#pd00878ce79)\" d=\"M 179.15 674.638125 \r\nL 183.377273 674.638125 \r\nL 183.377273 641.475826 \r\nL 179.15 641.475826 \r\nz\r\n\" style=\"fill:#1f77b4;\"/>\r\n   </g>\r\n   <g id=\"patch_619\">\r\n    <path clip-path=\"url(#pd00878ce79)\" d=\"M 183.377273 674.638125 \r\nL 187.604545 674.638125 \r\nL 187.604545 674.638125 \r\nL 183.377273 674.638125 \r\nz\r\n\" style=\"fill:#1f77b4;\"/>\r\n   </g>\r\n   <g id=\"patch_620\">\r\n    <path clip-path=\"url(#pd00878ce79)\" d=\"M 187.604545 674.638125 \r\nL 191.831818 674.638125 \r\nL 191.831818 674.638125 \r\nL 187.604545 674.638125 \r\nz\r\n\" style=\"fill:#1f77b4;\"/>\r\n   </g>\r\n   <g id=\"patch_621\">\r\n    <path clip-path=\"url(#pd00878ce79)\" d=\"M 191.831818 674.638125 \r\nL 196.059091 674.638125 \r\nL 196.059091 674.638125 \r\nL 191.831818 674.638125 \r\nz\r\n\" style=\"fill:#1f77b4;\"/>\r\n   </g>\r\n   <g id=\"patch_622\">\r\n    <path clip-path=\"url(#pd00878ce79)\" d=\"M 196.059091 674.638125 \r\nL 200.286364 674.638125 \r\nL 200.286364 674.638125 \r\nL 196.059091 674.638125 \r\nz\r\n\" style=\"fill:#1f77b4;\"/>\r\n   </g>\r\n   <g id=\"patch_623\">\r\n    <path clip-path=\"url(#pd00878ce79)\" d=\"M 200.286364 674.638125 \r\nL 204.513636 674.638125 \r\nL 204.513636 674.638125 \r\nL 200.286364 674.638125 \r\nz\r\n\" style=\"fill:#1f77b4;\"/>\r\n   </g>\r\n   <g id=\"patch_624\">\r\n    <path clip-path=\"url(#pd00878ce79)\" d=\"M 204.513636 674.638125 \r\nL 208.740909 674.638125 \r\nL 208.740909 674.638125 \r\nL 204.513636 674.638125 \r\nz\r\n\" style=\"fill:#1f77b4;\"/>\r\n   </g>\r\n   <g id=\"patch_625\">\r\n    <path clip-path=\"url(#pd00878ce79)\" d=\"M 208.740909 674.638125 \r\nL 212.968182 674.638125 \r\nL 212.968182 674.638125 \r\nL 208.740909 674.638125 \r\nz\r\n\" style=\"fill:#1f77b4;\"/>\r\n   </g>\r\n   <g id=\"patch_626\">\r\n    <path clip-path=\"url(#pd00878ce79)\" d=\"M 212.968182 674.638125 \r\nL 217.195455 674.638125 \r\nL 217.195455 674.638125 \r\nL 212.968182 674.638125 \r\nz\r\n\" style=\"fill:#1f77b4;\"/>\r\n   </g>\r\n   <g id=\"patch_627\">\r\n    <path clip-path=\"url(#pd00878ce79)\" d=\"M 217.195455 674.638125 \r\nL 221.422727 674.638125 \r\nL 221.422727 674.638125 \r\nL 217.195455 674.638125 \r\nz\r\n\" style=\"fill:#1f77b4;\"/>\r\n   </g>\r\n   <g id=\"patch_628\">\r\n    <path clip-path=\"url(#pd00878ce79)\" d=\"M 221.422727 674.638125 \r\nL 225.65 674.638125 \r\nL 225.65 674.638125 \r\nL 221.422727 674.638125 \r\nz\r\n\" style=\"fill:#1f77b4;\"/>\r\n   </g>\r\n   <g id=\"patch_629\">\r\n    <path clip-path=\"url(#pd00878ce79)\" d=\"M 225.65 674.638125 \r\nL 229.877273 674.638125 \r\nL 229.877273 674.638125 \r\nL 225.65 674.638125 \r\nz\r\n\" style=\"fill:#1f77b4;\"/>\r\n   </g>\r\n   <g id=\"patch_630\">\r\n    <path clip-path=\"url(#pd00878ce79)\" d=\"M 229.877273 674.638125 \r\nL 234.104545 674.638125 \r\nL 234.104545 674.638125 \r\nL 229.877273 674.638125 \r\nz\r\n\" style=\"fill:#1f77b4;\"/>\r\n   </g>\r\n   <g id=\"patch_631\">\r\n    <path clip-path=\"url(#pd00878ce79)\" d=\"M 234.104545 674.638125 \r\nL 238.331818 674.638125 \r\nL 238.331818 674.638125 \r\nL 234.104545 674.638125 \r\nz\r\n\" style=\"fill:#1f77b4;\"/>\r\n   </g>\r\n   <g id=\"patch_632\">\r\n    <path clip-path=\"url(#pd00878ce79)\" d=\"M 238.331818 674.638125 \r\nL 242.559091 674.638125 \r\nL 242.559091 674.638125 \r\nL 238.331818 674.638125 \r\nz\r\n\" style=\"fill:#1f77b4;\"/>\r\n   </g>\r\n   <g id=\"patch_633\">\r\n    <path clip-path=\"url(#pd00878ce79)\" d=\"M 242.559091 674.638125 \r\nL 246.786364 674.638125 \r\nL 246.786364 664.421457 \r\nL 242.559091 664.421457 \r\nz\r\n\" style=\"fill:#1f77b4;\"/>\r\n   </g>\r\n   <g id=\"patch_634\">\r\n    <path clip-path=\"url(#pd00878ce79)\" d=\"M 246.786364 674.638125 \r\nL 251.013636 674.638125 \r\nL 251.013636 674.638125 \r\nL 246.786364 674.638125 \r\nz\r\n\" style=\"fill:#1f77b4;\"/>\r\n   </g>\r\n   <g id=\"patch_635\">\r\n    <path clip-path=\"url(#pd00878ce79)\" d=\"M 251.013636 674.638125 \r\nL 255.240909 674.638125 \r\nL 255.240909 674.638125 \r\nL 251.013636 674.638125 \r\nz\r\n\" style=\"fill:#1f77b4;\"/>\r\n   </g>\r\n   <g id=\"patch_636\">\r\n    <path clip-path=\"url(#pd00878ce79)\" d=\"M 255.240909 674.638125 \r\nL 259.468182 674.638125 \r\nL 259.468182 674.638125 \r\nL 255.240909 674.638125 \r\nz\r\n\" style=\"fill:#1f77b4;\"/>\r\n   </g>\r\n   <g id=\"patch_637\">\r\n    <path clip-path=\"url(#pd00878ce79)\" d=\"M 259.468182 674.638125 \r\nL 263.695455 674.638125 \r\nL 263.695455 674.638125 \r\nL 259.468182 674.638125 \r\nz\r\n\" style=\"fill:#1f77b4;\"/>\r\n   </g>\r\n   <g id=\"patch_638\">\r\n    <path clip-path=\"url(#pd00878ce79)\" d=\"M 263.695455 674.638125 \r\nL 267.922727 674.638125 \r\nL 267.922727 674.638125 \r\nL 263.695455 674.638125 \r\nz\r\n\" style=\"fill:#1f77b4;\"/>\r\n   </g>\r\n   <g id=\"patch_639\">\r\n    <path clip-path=\"url(#pd00878ce79)\" d=\"M 267.922727 674.638125 \r\nL 272.15 674.638125 \r\nL 272.15 674.638125 \r\nL 267.922727 674.638125 \r\nz\r\n\" style=\"fill:#1f77b4;\"/>\r\n   </g>\r\n   <g id=\"patch_640\">\r\n    <path clip-path=\"url(#pd00878ce79)\" d=\"M 272.15 674.638125 \r\nL 276.377273 674.638125 \r\nL 276.377273 674.638125 \r\nL 272.15 674.638125 \r\nz\r\n\" style=\"fill:#1f77b4;\"/>\r\n   </g>\r\n   <g id=\"patch_641\">\r\n    <path clip-path=\"url(#pd00878ce79)\" d=\"M 276.377273 674.638125 \r\nL 280.604545 674.638125 \r\nL 280.604545 674.638125 \r\nL 276.377273 674.638125 \r\nz\r\n\" style=\"fill:#1f77b4;\"/>\r\n   </g>\r\n   <g id=\"patch_642\">\r\n    <path clip-path=\"url(#pd00878ce79)\" d=\"M 280.604545 674.638125 \r\nL 284.831818 674.638125 \r\nL 284.831818 674.638125 \r\nL 280.604545 674.638125 \r\nz\r\n\" style=\"fill:#1f77b4;\"/>\r\n   </g>\r\n   <g id=\"patch_643\">\r\n    <path clip-path=\"url(#pd00878ce79)\" d=\"M 284.831818 674.638125 \r\nL 289.059091 674.638125 \r\nL 289.059091 674.638125 \r\nL 284.831818 674.638125 \r\nz\r\n\" style=\"fill:#1f77b4;\"/>\r\n   </g>\r\n   <g id=\"patch_644\">\r\n    <path clip-path=\"url(#pd00878ce79)\" d=\"M 289.059091 674.638125 \r\nL 293.286364 674.638125 \r\nL 293.286364 674.638125 \r\nL 289.059091 674.638125 \r\nz\r\n\" style=\"fill:#1f77b4;\"/>\r\n   </g>\r\n   <g id=\"patch_645\">\r\n    <path clip-path=\"url(#pd00878ce79)\" d=\"M 293.286364 674.638125 \r\nL 297.513636 674.638125 \r\nL 297.513636 674.638125 \r\nL 293.286364 674.638125 \r\nz\r\n\" style=\"fill:#1f77b4;\"/>\r\n   </g>\r\n   <g id=\"patch_646\">\r\n    <path clip-path=\"url(#pd00878ce79)\" d=\"M 297.513636 674.638125 \r\nL 301.740909 674.638125 \r\nL 301.740909 674.638125 \r\nL 297.513636 674.638125 \r\nz\r\n\" style=\"fill:#1f77b4;\"/>\r\n   </g>\r\n   <g id=\"patch_647\">\r\n    <path clip-path=\"url(#pd00878ce79)\" d=\"M 301.740909 674.638125 \r\nL 305.968182 674.638125 \r\nL 305.968182 669.781021 \r\nL 301.740909 669.781021 \r\nz\r\n\" style=\"fill:#1f77b4;\"/>\r\n   </g>\r\n   <g id=\"matplotlib.axis_19\">\r\n    <g id=\"xtick_67\">\r\n     <g id=\"line2d_225\">\r\n      <path clip-path=\"url(#pd00878ce79)\" d=\"M 52.331818 674.638125 \r\nL 52.331818 541.511594 \r\n\" style=\"fill:none;stroke:#b0b0b0;stroke-linecap:square;stroke-width:0.8;\"/>\r\n     </g>\r\n     <g id=\"line2d_226\">\r\n      <g>\r\n       <use style=\"stroke:#000000;stroke-width:0.8;\" x=\"52.331818\" xlink:href=\"#mb4638e5f59\" y=\"674.638125\"/>\r\n      </g>\r\n     </g>\r\n     <g id=\"text_122\">\r\n      <!-- 1.0 -->\r\n      <g transform=\"translate(44.380256 689.236562)scale(0.1 -0.1)\">\r\n       <use xlink:href=\"#DejaVuSans-31\"/>\r\n       <use x=\"63.623047\" xlink:href=\"#DejaVuSans-2e\"/>\r\n       <use x=\"95.410156\" xlink:href=\"#DejaVuSans-30\"/>\r\n      </g>\r\n     </g>\r\n    </g>\r\n    <g id=\"xtick_68\">\r\n     <g id=\"line2d_227\">\r\n      <path clip-path=\"url(#pd00878ce79)\" d=\"M 84.036364 674.638125 \r\nL 84.036364 541.511594 \r\n\" style=\"fill:none;stroke:#b0b0b0;stroke-linecap:square;stroke-width:0.8;\"/>\r\n     </g>\r\n     <g id=\"line2d_228\">\r\n      <g>\r\n       <use style=\"stroke:#000000;stroke-width:0.8;\" x=\"84.036364\" xlink:href=\"#mb4638e5f59\" y=\"674.638125\"/>\r\n      </g>\r\n     </g>\r\n     <g id=\"text_123\">\r\n      <!-- 1.5 -->\r\n      <g transform=\"translate(76.084801 689.236562)scale(0.1 -0.1)\">\r\n       <use xlink:href=\"#DejaVuSans-31\"/>\r\n       <use x=\"63.623047\" xlink:href=\"#DejaVuSans-2e\"/>\r\n       <use x=\"95.410156\" xlink:href=\"#DejaVuSans-35\"/>\r\n      </g>\r\n     </g>\r\n    </g>\r\n    <g id=\"xtick_69\">\r\n     <g id=\"line2d_229\">\r\n      <path clip-path=\"url(#pd00878ce79)\" d=\"M 115.740909 674.638125 \r\nL 115.740909 541.511594 \r\n\" style=\"fill:none;stroke:#b0b0b0;stroke-linecap:square;stroke-width:0.8;\"/>\r\n     </g>\r\n     <g id=\"line2d_230\">\r\n      <g>\r\n       <use style=\"stroke:#000000;stroke-width:0.8;\" x=\"115.740909\" xlink:href=\"#mb4638e5f59\" y=\"674.638125\"/>\r\n      </g>\r\n     </g>\r\n     <g id=\"text_124\">\r\n      <!-- 2.0 -->\r\n      <g transform=\"translate(107.789347 689.236562)scale(0.1 -0.1)\">\r\n       <use xlink:href=\"#DejaVuSans-32\"/>\r\n       <use x=\"63.623047\" xlink:href=\"#DejaVuSans-2e\"/>\r\n       <use x=\"95.410156\" xlink:href=\"#DejaVuSans-30\"/>\r\n      </g>\r\n     </g>\r\n    </g>\r\n    <g id=\"xtick_70\">\r\n     <g id=\"line2d_231\">\r\n      <path clip-path=\"url(#pd00878ce79)\" d=\"M 147.445455 674.638125 \r\nL 147.445455 541.511594 \r\n\" style=\"fill:none;stroke:#b0b0b0;stroke-linecap:square;stroke-width:0.8;\"/>\r\n     </g>\r\n     <g id=\"line2d_232\">\r\n      <g>\r\n       <use style=\"stroke:#000000;stroke-width:0.8;\" x=\"147.445455\" xlink:href=\"#mb4638e5f59\" y=\"674.638125\"/>\r\n      </g>\r\n     </g>\r\n     <g id=\"text_125\">\r\n      <!-- 2.5 -->\r\n      <g transform=\"translate(139.493892 689.236562)scale(0.1 -0.1)\">\r\n       <use xlink:href=\"#DejaVuSans-32\"/>\r\n       <use x=\"63.623047\" xlink:href=\"#DejaVuSans-2e\"/>\r\n       <use x=\"95.410156\" xlink:href=\"#DejaVuSans-35\"/>\r\n      </g>\r\n     </g>\r\n    </g>\r\n    <g id=\"xtick_71\">\r\n     <g id=\"line2d_233\">\r\n      <path clip-path=\"url(#pd00878ce79)\" d=\"M 179.15 674.638125 \r\nL 179.15 541.511594 \r\n\" style=\"fill:none;stroke:#b0b0b0;stroke-linecap:square;stroke-width:0.8;\"/>\r\n     </g>\r\n     <g id=\"line2d_234\">\r\n      <g>\r\n       <use style=\"stroke:#000000;stroke-width:0.8;\" x=\"179.15\" xlink:href=\"#mb4638e5f59\" y=\"674.638125\"/>\r\n      </g>\r\n     </g>\r\n     <g id=\"text_126\">\r\n      <!-- 3.0 -->\r\n      <g transform=\"translate(171.198438 689.236562)scale(0.1 -0.1)\">\r\n       <use xlink:href=\"#DejaVuSans-33\"/>\r\n       <use x=\"63.623047\" xlink:href=\"#DejaVuSans-2e\"/>\r\n       <use x=\"95.410156\" xlink:href=\"#DejaVuSans-30\"/>\r\n      </g>\r\n     </g>\r\n    </g>\r\n    <g id=\"xtick_72\">\r\n     <g id=\"line2d_235\">\r\n      <path clip-path=\"url(#pd00878ce79)\" d=\"M 210.854545 674.638125 \r\nL 210.854545 541.511594 \r\n\" style=\"fill:none;stroke:#b0b0b0;stroke-linecap:square;stroke-width:0.8;\"/>\r\n     </g>\r\n     <g id=\"line2d_236\">\r\n      <g>\r\n       <use style=\"stroke:#000000;stroke-width:0.8;\" x=\"210.854545\" xlink:href=\"#mb4638e5f59\" y=\"674.638125\"/>\r\n      </g>\r\n     </g>\r\n     <g id=\"text_127\">\r\n      <!-- 3.5 -->\r\n      <g transform=\"translate(202.902983 689.236562)scale(0.1 -0.1)\">\r\n       <use xlink:href=\"#DejaVuSans-33\"/>\r\n       <use x=\"63.623047\" xlink:href=\"#DejaVuSans-2e\"/>\r\n       <use x=\"95.410156\" xlink:href=\"#DejaVuSans-35\"/>\r\n      </g>\r\n     </g>\r\n    </g>\r\n    <g id=\"xtick_73\">\r\n     <g id=\"line2d_237\">\r\n      <path clip-path=\"url(#pd00878ce79)\" d=\"M 242.559091 674.638125 \r\nL 242.559091 541.511594 \r\n\" style=\"fill:none;stroke:#b0b0b0;stroke-linecap:square;stroke-width:0.8;\"/>\r\n     </g>\r\n     <g id=\"line2d_238\">\r\n      <g>\r\n       <use style=\"stroke:#000000;stroke-width:0.8;\" x=\"242.559091\" xlink:href=\"#mb4638e5f59\" y=\"674.638125\"/>\r\n      </g>\r\n     </g>\r\n     <g id=\"text_128\">\r\n      <!-- 4.0 -->\r\n      <g transform=\"translate(234.607528 689.236562)scale(0.1 -0.1)\">\r\n       <use xlink:href=\"#DejaVuSans-34\"/>\r\n       <use x=\"63.623047\" xlink:href=\"#DejaVuSans-2e\"/>\r\n       <use x=\"95.410156\" xlink:href=\"#DejaVuSans-30\"/>\r\n      </g>\r\n     </g>\r\n    </g>\r\n    <g id=\"xtick_74\">\r\n     <g id=\"line2d_239\">\r\n      <path clip-path=\"url(#pd00878ce79)\" d=\"M 274.263636 674.638125 \r\nL 274.263636 541.511594 \r\n\" style=\"fill:none;stroke:#b0b0b0;stroke-linecap:square;stroke-width:0.8;\"/>\r\n     </g>\r\n     <g id=\"line2d_240\">\r\n      <g>\r\n       <use style=\"stroke:#000000;stroke-width:0.8;\" x=\"274.263636\" xlink:href=\"#mb4638e5f59\" y=\"674.638125\"/>\r\n      </g>\r\n     </g>\r\n     <g id=\"text_129\">\r\n      <!-- 4.5 -->\r\n      <g transform=\"translate(266.312074 689.236562)scale(0.1 -0.1)\">\r\n       <use xlink:href=\"#DejaVuSans-34\"/>\r\n       <use x=\"63.623047\" xlink:href=\"#DejaVuSans-2e\"/>\r\n       <use x=\"95.410156\" xlink:href=\"#DejaVuSans-35\"/>\r\n      </g>\r\n     </g>\r\n    </g>\r\n    <g id=\"xtick_75\">\r\n     <g id=\"line2d_241\">\r\n      <path clip-path=\"url(#pd00878ce79)\" d=\"M 305.968182 674.638125 \r\nL 305.968182 541.511594 \r\n\" style=\"fill:none;stroke:#b0b0b0;stroke-linecap:square;stroke-width:0.8;\"/>\r\n     </g>\r\n     <g id=\"line2d_242\">\r\n      <g>\r\n       <use style=\"stroke:#000000;stroke-width:0.8;\" x=\"305.968182\" xlink:href=\"#mb4638e5f59\" y=\"674.638125\"/>\r\n      </g>\r\n     </g>\r\n     <g id=\"text_130\">\r\n      <!-- 5.0 -->\r\n      <g transform=\"translate(298.016619 689.236562)scale(0.1 -0.1)\">\r\n       <use xlink:href=\"#DejaVuSans-35\"/>\r\n       <use x=\"63.623047\" xlink:href=\"#DejaVuSans-2e\"/>\r\n       <use x=\"95.410156\" xlink:href=\"#DejaVuSans-30\"/>\r\n      </g>\r\n     </g>\r\n    </g>\r\n   </g>\r\n   <g id=\"matplotlib.axis_20\">\r\n    <g id=\"ytick_47\">\r\n     <g id=\"line2d_243\">\r\n      <path clip-path=\"url(#pd00878ce79)\" d=\"M 39.65 674.638125 \r\nL 318.65 674.638125 \r\n\" style=\"fill:none;stroke:#b0b0b0;stroke-linecap:square;stroke-width:0.8;\"/>\r\n     </g>\r\n     <g id=\"line2d_244\">\r\n      <g>\r\n       <use style=\"stroke:#000000;stroke-width:0.8;\" x=\"39.65\" xlink:href=\"#m2a7d614687\" y=\"674.638125\"/>\r\n      </g>\r\n     </g>\r\n     <g id=\"text_131\">\r\n      <!-- 0 -->\r\n      <g transform=\"translate(26.2875 678.437344)scale(0.1 -0.1)\">\r\n       <use xlink:href=\"#DejaVuSans-30\"/>\r\n      </g>\r\n     </g>\r\n    </g>\r\n    <g id=\"ytick_48\">\r\n     <g id=\"line2d_245\">\r\n      <path clip-path=\"url(#pd00878ce79)\" d=\"M 39.65 641.140854 \r\nL 318.65 641.140854 \r\n\" style=\"fill:none;stroke:#b0b0b0;stroke-linecap:square;stroke-width:0.8;\"/>\r\n     </g>\r\n     <g id=\"line2d_246\">\r\n      <g>\r\n       <use style=\"stroke:#000000;stroke-width:0.8;\" x=\"39.65\" xlink:href=\"#m2a7d614687\" y=\"641.140854\"/>\r\n      </g>\r\n     </g>\r\n     <g id=\"text_132\">\r\n      <!-- 200 -->\r\n      <g transform=\"translate(13.5625 644.940072)scale(0.1 -0.1)\">\r\n       <use xlink:href=\"#DejaVuSans-32\"/>\r\n       <use x=\"63.623047\" xlink:href=\"#DejaVuSans-30\"/>\r\n       <use x=\"127.246094\" xlink:href=\"#DejaVuSans-30\"/>\r\n      </g>\r\n     </g>\r\n    </g>\r\n    <g id=\"ytick_49\">\r\n     <g id=\"line2d_247\">\r\n      <path clip-path=\"url(#pd00878ce79)\" d=\"M 39.65 607.643582 \r\nL 318.65 607.643582 \r\n\" style=\"fill:none;stroke:#b0b0b0;stroke-linecap:square;stroke-width:0.8;\"/>\r\n     </g>\r\n     <g id=\"line2d_248\">\r\n      <g>\r\n       <use style=\"stroke:#000000;stroke-width:0.8;\" x=\"39.65\" xlink:href=\"#m2a7d614687\" y=\"607.643582\"/>\r\n      </g>\r\n     </g>\r\n     <g id=\"text_133\">\r\n      <!-- 400 -->\r\n      <g transform=\"translate(13.5625 611.442801)scale(0.1 -0.1)\">\r\n       <use xlink:href=\"#DejaVuSans-34\"/>\r\n       <use x=\"63.623047\" xlink:href=\"#DejaVuSans-30\"/>\r\n       <use x=\"127.246094\" xlink:href=\"#DejaVuSans-30\"/>\r\n      </g>\r\n     </g>\r\n    </g>\r\n    <g id=\"ytick_50\">\r\n     <g id=\"line2d_249\">\r\n      <path clip-path=\"url(#pd00878ce79)\" d=\"M 39.65 574.146311 \r\nL 318.65 574.146311 \r\n\" style=\"fill:none;stroke:#b0b0b0;stroke-linecap:square;stroke-width:0.8;\"/>\r\n     </g>\r\n     <g id=\"line2d_250\">\r\n      <g>\r\n       <use style=\"stroke:#000000;stroke-width:0.8;\" x=\"39.65\" xlink:href=\"#m2a7d614687\" y=\"574.146311\"/>\r\n      </g>\r\n     </g>\r\n     <g id=\"text_134\">\r\n      <!-- 600 -->\r\n      <g transform=\"translate(13.5625 577.94553)scale(0.1 -0.1)\">\r\n       <use xlink:href=\"#DejaVuSans-36\"/>\r\n       <use x=\"63.623047\" xlink:href=\"#DejaVuSans-30\"/>\r\n       <use x=\"127.246094\" xlink:href=\"#DejaVuSans-30\"/>\r\n      </g>\r\n     </g>\r\n    </g>\r\n   </g>\r\n   <g id=\"patch_648\">\r\n    <path d=\"M 39.65 674.638125 \r\nL 39.65 541.511594 \r\n\" style=\"fill:none;stroke:#000000;stroke-linecap:square;stroke-linejoin:miter;stroke-width:0.8;\"/>\r\n   </g>\r\n   <g id=\"patch_649\">\r\n    <path d=\"M 318.65 674.638125 \r\nL 318.65 541.511594 \r\n\" style=\"fill:none;stroke:#000000;stroke-linecap:square;stroke-linejoin:miter;stroke-width:0.8;\"/>\r\n   </g>\r\n   <g id=\"patch_650\">\r\n    <path d=\"M 39.65 674.638125 \r\nL 318.65 674.638125 \r\n\" style=\"fill:none;stroke:#000000;stroke-linecap:square;stroke-linejoin:miter;stroke-width:0.8;\"/>\r\n   </g>\r\n   <g id=\"patch_651\">\r\n    <path d=\"M 39.65 541.511594 \r\nL 318.65 541.511594 \r\n\" style=\"fill:none;stroke:#000000;stroke-linecap:square;stroke-linejoin:miter;stroke-width:0.8;\"/>\r\n   </g>\r\n   <g id=\"text_135\">\r\n    <!-- Title -->\r\n    <g transform=\"translate(166.295 535.511594)scale(0.12 -0.12)\">\r\n     <defs>\r\n      <path d=\"M -19 4666 \r\nL 3928 4666 \r\nL 3928 4134 \r\nL 2272 4134 \r\nL 2272 0 \r\nL 1638 0 \r\nL 1638 4134 \r\nL -19 4134 \r\nL -19 4666 \r\nz\r\n\" id=\"DejaVuSans-54\" transform=\"scale(0.015625)\"/>\r\n      <path d=\"M 1172 4494 \r\nL 1172 3500 \r\nL 2356 3500 \r\nL 2356 3053 \r\nL 1172 3053 \r\nL 1172 1153 \r\nQ 1172 725 1289 603 \r\nQ 1406 481 1766 481 \r\nL 2356 481 \r\nL 2356 0 \r\nL 1766 0 \r\nQ 1100 0 847 248 \r\nQ 594 497 594 1153 \r\nL 594 3053 \r\nL 172 3053 \r\nL 172 3500 \r\nL 594 3500 \r\nL 594 4494 \r\nL 1172 4494 \r\nz\r\n\" id=\"DejaVuSans-74\" transform=\"scale(0.015625)\"/>\r\n     </defs>\r\n     <use xlink:href=\"#DejaVuSans-54\"/>\r\n     <use x=\"57.958984\" xlink:href=\"#DejaVuSans-69\"/>\r\n     <use x=\"85.742188\" xlink:href=\"#DejaVuSans-74\"/>\r\n     <use x=\"124.951172\" xlink:href=\"#DejaVuSans-6c\"/>\r\n     <use x=\"152.734375\" xlink:href=\"#DejaVuSans-65\"/>\r\n    </g>\r\n   </g>\r\n  </g>\r\n  <g id=\"axes_11\">\r\n   <g id=\"patch_652\">\r\n    <path d=\"M 402.35 674.638125 \r\nL 681.35 674.638125 \r\nL 681.35 541.511594 \r\nL 402.35 541.511594 \r\nz\r\n\" style=\"fill:#ffffff;\"/>\r\n   </g>\r\n   <g id=\"patch_653\">\r\n    <path clip-path=\"url(#pc46e02db9c)\" d=\"M 415.031818 674.638125 \r\nL 419.259091 674.638125 \r\nL 419.259091 547.850953 \r\nL 415.031818 547.850953 \r\nz\r\n\" style=\"fill:#1f77b4;\"/>\r\n   </g>\r\n   <g id=\"patch_654\">\r\n    <path clip-path=\"url(#pc46e02db9c)\" d=\"M 419.259091 674.638125 \r\nL 423.486364 674.638125 \r\nL 423.486364 674.638125 \r\nL 419.259091 674.638125 \r\nz\r\n\" style=\"fill:#1f77b4;\"/>\r\n   </g>\r\n   <g id=\"patch_655\">\r\n    <path clip-path=\"url(#pc46e02db9c)\" d=\"M 423.486364 674.638125 \r\nL 427.713636 674.638125 \r\nL 427.713636 674.638125 \r\nL 423.486364 674.638125 \r\nz\r\n\" style=\"fill:#1f77b4;\"/>\r\n   </g>\r\n   <g id=\"patch_656\">\r\n    <path clip-path=\"url(#pc46e02db9c)\" d=\"M 427.713636 674.638125 \r\nL 431.940909 674.638125 \r\nL 431.940909 674.638125 \r\nL 427.713636 674.638125 \r\nz\r\n\" style=\"fill:#1f77b4;\"/>\r\n   </g>\r\n   <g id=\"patch_657\">\r\n    <path clip-path=\"url(#pc46e02db9c)\" d=\"M 431.940909 674.638125 \r\nL 436.168182 674.638125 \r\nL 436.168182 674.638125 \r\nL 431.940909 674.638125 \r\nz\r\n\" style=\"fill:#1f77b4;\"/>\r\n   </g>\r\n   <g id=\"patch_658\">\r\n    <path clip-path=\"url(#pc46e02db9c)\" d=\"M 436.168182 674.638125 \r\nL 440.395455 674.638125 \r\nL 440.395455 674.638125 \r\nL 436.168182 674.638125 \r\nz\r\n\" style=\"fill:#1f77b4;\"/>\r\n   </g>\r\n   <g id=\"patch_659\">\r\n    <path clip-path=\"url(#pc46e02db9c)\" d=\"M 440.395455 674.638125 \r\nL 444.622727 674.638125 \r\nL 444.622727 636.922954 \r\nL 440.395455 636.922954 \r\nz\r\n\" style=\"fill:#1f77b4;\"/>\r\n   </g>\r\n   <g id=\"patch_660\">\r\n    <path clip-path=\"url(#pc46e02db9c)\" d=\"M 444.622727 674.638125 \r\nL 448.85 674.638125 \r\nL 448.85 674.638125 \r\nL 444.622727 674.638125 \r\nz\r\n\" style=\"fill:#1f77b4;\"/>\r\n   </g>\r\n   <g id=\"patch_661\">\r\n    <path clip-path=\"url(#pc46e02db9c)\" d=\"M 448.85 674.638125 \r\nL 453.077273 674.638125 \r\nL 453.077273 674.638125 \r\nL 448.85 674.638125 \r\nz\r\n\" style=\"fill:#1f77b4;\"/>\r\n   </g>\r\n   <g id=\"patch_662\">\r\n    <path clip-path=\"url(#pc46e02db9c)\" d=\"M 453.077273 674.638125 \r\nL 457.304545 674.638125 \r\nL 457.304545 674.638125 \r\nL 453.077273 674.638125 \r\nz\r\n\" style=\"fill:#1f77b4;\"/>\r\n   </g>\r\n   <g id=\"patch_663\">\r\n    <path clip-path=\"url(#pc46e02db9c)\" d=\"M 457.304545 674.638125 \r\nL 461.531818 674.638125 \r\nL 461.531818 674.638125 \r\nL 457.304545 674.638125 \r\nz\r\n\" style=\"fill:#1f77b4;\"/>\r\n   </g>\r\n   <g id=\"patch_664\">\r\n    <path clip-path=\"url(#pc46e02db9c)\" d=\"M 461.531818 674.638125 \r\nL 465.759091 674.638125 \r\nL 465.759091 674.638125 \r\nL 461.531818 674.638125 \r\nz\r\n\" style=\"fill:#1f77b4;\"/>\r\n   </g>\r\n   <g id=\"patch_665\">\r\n    <path clip-path=\"url(#pc46e02db9c)\" d=\"M 465.759091 674.638125 \r\nL 469.986364 674.638125 \r\nL 469.986364 649.120201 \r\nL 465.759091 649.120201 \r\nz\r\n\" style=\"fill:#1f77b4;\"/>\r\n   </g>\r\n   <g id=\"patch_666\">\r\n    <path clip-path=\"url(#pc46e02db9c)\" d=\"M 469.986364 674.638125 \r\nL 474.213636 674.638125 \r\nL 474.213636 674.638125 \r\nL 469.986364 674.638125 \r\nz\r\n\" style=\"fill:#1f77b4;\"/>\r\n   </g>\r\n   <g id=\"patch_667\">\r\n    <path clip-path=\"url(#pc46e02db9c)\" d=\"M 474.213636 674.638125 \r\nL 478.440909 674.638125 \r\nL 478.440909 674.638125 \r\nL 474.213636 674.638125 \r\nz\r\n\" style=\"fill:#1f77b4;\"/>\r\n   </g>\r\n   <g id=\"patch_668\">\r\n    <path clip-path=\"url(#pc46e02db9c)\" d=\"M 478.440909 674.638125 \r\nL 482.668182 674.638125 \r\nL 482.668182 674.638125 \r\nL 478.440909 674.638125 \r\nz\r\n\" style=\"fill:#1f77b4;\"/>\r\n   </g>\r\n   <g id=\"patch_669\">\r\n    <path clip-path=\"url(#pc46e02db9c)\" d=\"M 482.668182 674.638125 \r\nL 486.895455 674.638125 \r\nL 486.895455 674.638125 \r\nL 482.668182 674.638125 \r\nz\r\n\" style=\"fill:#1f77b4;\"/>\r\n   </g>\r\n   <g id=\"patch_670\">\r\n    <path clip-path=\"url(#pc46e02db9c)\" d=\"M 486.895455 674.638125 \r\nL 491.122727 674.638125 \r\nL 491.122727 674.638125 \r\nL 486.895455 674.638125 \r\nz\r\n\" style=\"fill:#1f77b4;\"/>\r\n   </g>\r\n   <g id=\"patch_671\">\r\n    <path clip-path=\"url(#pc46e02db9c)\" d=\"M 491.122727 674.638125 \r\nL 495.35 674.638125 \r\nL 495.35 667.737051 \r\nL 491.122727 667.737051 \r\nz\r\n\" style=\"fill:#1f77b4;\"/>\r\n   </g>\r\n   <g id=\"patch_672\">\r\n    <path clip-path=\"url(#pc46e02db9c)\" d=\"M 495.35 674.638125 \r\nL 499.577273 674.638125 \r\nL 499.577273 674.638125 \r\nL 495.35 674.638125 \r\nz\r\n\" style=\"fill:#1f77b4;\"/>\r\n   </g>\r\n   <g id=\"patch_673\">\r\n    <path clip-path=\"url(#pc46e02db9c)\" d=\"M 499.577273 674.638125 \r\nL 503.804545 674.638125 \r\nL 503.804545 674.638125 \r\nL 499.577273 674.638125 \r\nz\r\n\" style=\"fill:#1f77b4;\"/>\r\n   </g>\r\n   <g id=\"patch_674\">\r\n    <path clip-path=\"url(#pc46e02db9c)\" d=\"M 503.804545 674.638125 \r\nL 508.031818 674.638125 \r\nL 508.031818 674.638125 \r\nL 503.804545 674.638125 \r\nz\r\n\" style=\"fill:#1f77b4;\"/>\r\n   </g>\r\n   <g id=\"patch_675\">\r\n    <path clip-path=\"url(#pc46e02db9c)\" d=\"M 508.031818 674.638125 \r\nL 512.259091 674.638125 \r\nL 512.259091 674.638125 \r\nL 508.031818 674.638125 \r\nz\r\n\" style=\"fill:#1f77b4;\"/>\r\n   </g>\r\n   <g id=\"patch_676\">\r\n    <path clip-path=\"url(#pc46e02db9c)\" d=\"M 512.259091 674.638125 \r\nL 516.486364 674.638125 \r\nL 516.486364 674.638125 \r\nL 512.259091 674.638125 \r\nz\r\n\" style=\"fill:#1f77b4;\"/>\r\n   </g>\r\n   <g id=\"patch_677\">\r\n    <path clip-path=\"url(#pc46e02db9c)\" d=\"M 516.486364 674.638125 \r\nL 520.713636 674.638125 \r\nL 520.713636 671.107343 \r\nL 516.486364 671.107343 \r\nz\r\n\" style=\"fill:#1f77b4;\"/>\r\n   </g>\r\n   <g id=\"patch_678\">\r\n    <path clip-path=\"url(#pc46e02db9c)\" d=\"M 520.713636 674.638125 \r\nL 524.940909 674.638125 \r\nL 524.940909 674.638125 \r\nL 520.713636 674.638125 \r\nz\r\n\" style=\"fill:#1f77b4;\"/>\r\n   </g>\r\n   <g id=\"patch_679\">\r\n    <path clip-path=\"url(#pc46e02db9c)\" d=\"M 524.940909 674.638125 \r\nL 529.168182 674.638125 \r\nL 529.168182 674.638125 \r\nL 524.940909 674.638125 \r\nz\r\n\" style=\"fill:#1f77b4;\"/>\r\n   </g>\r\n   <g id=\"patch_680\">\r\n    <path clip-path=\"url(#pc46e02db9c)\" d=\"M 529.168182 674.638125 \r\nL 533.395455 674.638125 \r\nL 533.395455 674.638125 \r\nL 529.168182 674.638125 \r\nz\r\n\" style=\"fill:#1f77b4;\"/>\r\n   </g>\r\n   <g id=\"patch_681\">\r\n    <path clip-path=\"url(#pc46e02db9c)\" d=\"M 533.395455 674.638125 \r\nL 537.622727 674.638125 \r\nL 537.622727 674.638125 \r\nL 533.395455 674.638125 \r\nz\r\n\" style=\"fill:#1f77b4;\"/>\r\n   </g>\r\n   <g id=\"patch_682\">\r\n    <path clip-path=\"url(#pc46e02db9c)\" d=\"M 537.622727 674.638125 \r\nL 541.85 674.638125 \r\nL 541.85 674.638125 \r\nL 537.622727 674.638125 \r\nz\r\n\" style=\"fill:#1f77b4;\"/>\r\n   </g>\r\n   <g id=\"patch_683\">\r\n    <path clip-path=\"url(#pc46e02db9c)\" d=\"M 541.85 674.638125 \r\nL 546.077273 674.638125 \r\nL 546.077273 670.625873 \r\nL 541.85 670.625873 \r\nz\r\n\" style=\"fill:#1f77b4;\"/>\r\n   </g>\r\n   <g id=\"patch_684\">\r\n    <path clip-path=\"url(#pc46e02db9c)\" d=\"M 546.077273 674.638125 \r\nL 550.304545 674.638125 \r\nL 550.304545 674.638125 \r\nL 546.077273 674.638125 \r\nz\r\n\" style=\"fill:#1f77b4;\"/>\r\n   </g>\r\n   <g id=\"patch_685\">\r\n    <path clip-path=\"url(#pc46e02db9c)\" d=\"M 550.304545 674.638125 \r\nL 554.531818 674.638125 \r\nL 554.531818 674.638125 \r\nL 550.304545 674.638125 \r\nz\r\n\" style=\"fill:#1f77b4;\"/>\r\n   </g>\r\n   <g id=\"patch_686\">\r\n    <path clip-path=\"url(#pc46e02db9c)\" d=\"M 554.531818 674.638125 \r\nL 558.759091 674.638125 \r\nL 558.759091 674.638125 \r\nL 554.531818 674.638125 \r\nz\r\n\" style=\"fill:#1f77b4;\"/>\r\n   </g>\r\n   <g id=\"patch_687\">\r\n    <path clip-path=\"url(#pc46e02db9c)\" d=\"M 558.759091 674.638125 \r\nL 562.986364 674.638125 \r\nL 562.986364 674.638125 \r\nL 558.759091 674.638125 \r\nz\r\n\" style=\"fill:#1f77b4;\"/>\r\n   </g>\r\n   <g id=\"patch_688\">\r\n    <path clip-path=\"url(#pc46e02db9c)\" d=\"M 562.986364 674.638125 \r\nL 567.213636 674.638125 \r\nL 567.213636 674.638125 \r\nL 562.986364 674.638125 \r\nz\r\n\" style=\"fill:#1f77b4;\"/>\r\n   </g>\r\n   <g id=\"patch_689\">\r\n    <path clip-path=\"url(#pc46e02db9c)\" d=\"M 567.213636 674.638125 \r\nL 571.440909 674.638125 \r\nL 571.440909 672.070284 \r\nL 567.213636 672.070284 \r\nz\r\n\" style=\"fill:#1f77b4;\"/>\r\n   </g>\r\n   <g id=\"patch_690\">\r\n    <path clip-path=\"url(#pc46e02db9c)\" d=\"M 571.440909 674.638125 \r\nL 575.668182 674.638125 \r\nL 575.668182 674.638125 \r\nL 571.440909 674.638125 \r\nz\r\n\" style=\"fill:#1f77b4;\"/>\r\n   </g>\r\n   <g id=\"patch_691\">\r\n    <path clip-path=\"url(#pc46e02db9c)\" d=\"M 575.668182 674.638125 \r\nL 579.895455 674.638125 \r\nL 579.895455 674.638125 \r\nL 575.668182 674.638125 \r\nz\r\n\" style=\"fill:#1f77b4;\"/>\r\n   </g>\r\n   <g id=\"patch_692\">\r\n    <path clip-path=\"url(#pc46e02db9c)\" d=\"M 579.895455 674.638125 \r\nL 584.122727 674.638125 \r\nL 584.122727 674.638125 \r\nL 579.895455 674.638125 \r\nz\r\n\" style=\"fill:#1f77b4;\"/>\r\n   </g>\r\n   <g id=\"patch_693\">\r\n    <path clip-path=\"url(#pc46e02db9c)\" d=\"M 584.122727 674.638125 \r\nL 588.35 674.638125 \r\nL 588.35 674.638125 \r\nL 584.122727 674.638125 \r\nz\r\n\" style=\"fill:#1f77b4;\"/>\r\n   </g>\r\n   <g id=\"patch_694\">\r\n    <path clip-path=\"url(#pc46e02db9c)\" d=\"M 588.35 674.638125 \r\nL 592.577273 674.638125 \r\nL 592.577273 674.638125 \r\nL 588.35 674.638125 \r\nz\r\n\" style=\"fill:#1f77b4;\"/>\r\n   </g>\r\n   <g id=\"patch_695\">\r\n    <path clip-path=\"url(#pc46e02db9c)\" d=\"M 592.577273 674.638125 \r\nL 596.804545 674.638125 \r\nL 596.804545 673.354204 \r\nL 592.577273 673.354204 \r\nz\r\n\" style=\"fill:#1f77b4;\"/>\r\n   </g>\r\n   <g id=\"patch_696\">\r\n    <path clip-path=\"url(#pc46e02db9c)\" d=\"M 596.804545 674.638125 \r\nL 601.031818 674.638125 \r\nL 601.031818 674.638125 \r\nL 596.804545 674.638125 \r\nz\r\n\" style=\"fill:#1f77b4;\"/>\r\n   </g>\r\n   <g id=\"patch_697\">\r\n    <path clip-path=\"url(#pc46e02db9c)\" d=\"M 601.031818 674.638125 \r\nL 605.259091 674.638125 \r\nL 605.259091 674.638125 \r\nL 601.031818 674.638125 \r\nz\r\n\" style=\"fill:#1f77b4;\"/>\r\n   </g>\r\n   <g id=\"patch_698\">\r\n    <path clip-path=\"url(#pc46e02db9c)\" d=\"M 605.259091 674.638125 \r\nL 609.486364 674.638125 \r\nL 609.486364 674.638125 \r\nL 605.259091 674.638125 \r\nz\r\n\" style=\"fill:#1f77b4;\"/>\r\n   </g>\r\n   <g id=\"patch_699\">\r\n    <path clip-path=\"url(#pc46e02db9c)\" d=\"M 609.486364 674.638125 \r\nL 613.713636 674.638125 \r\nL 613.713636 674.638125 \r\nL 609.486364 674.638125 \r\nz\r\n\" style=\"fill:#1f77b4;\"/>\r\n   </g>\r\n   <g id=\"patch_700\">\r\n    <path clip-path=\"url(#pc46e02db9c)\" d=\"M 613.713636 674.638125 \r\nL 617.940909 674.638125 \r\nL 617.940909 674.638125 \r\nL 613.713636 674.638125 \r\nz\r\n\" style=\"fill:#1f77b4;\"/>\r\n   </g>\r\n   <g id=\"patch_701\">\r\n    <path clip-path=\"url(#pc46e02db9c)\" d=\"M 617.940909 674.638125 \r\nL 622.168182 674.638125 \r\nL 622.168182 674.638125 \r\nL 617.940909 674.638125 \r\nz\r\n\" style=\"fill:#1f77b4;\"/>\r\n   </g>\r\n   <g id=\"patch_702\">\r\n    <path clip-path=\"url(#pc46e02db9c)\" d=\"M 622.168182 674.638125 \r\nL 626.395455 674.638125 \r\nL 626.395455 674.638125 \r\nL 622.168182 674.638125 \r\nz\r\n\" style=\"fill:#1f77b4;\"/>\r\n   </g>\r\n   <g id=\"patch_703\">\r\n    <path clip-path=\"url(#pc46e02db9c)\" d=\"M 626.395455 674.638125 \r\nL 630.622727 674.638125 \r\nL 630.622727 674.638125 \r\nL 626.395455 674.638125 \r\nz\r\n\" style=\"fill:#1f77b4;\"/>\r\n   </g>\r\n   <g id=\"patch_704\">\r\n    <path clip-path=\"url(#pc46e02db9c)\" d=\"M 630.622727 674.638125 \r\nL 634.85 674.638125 \r\nL 634.85 674.638125 \r\nL 630.622727 674.638125 \r\nz\r\n\" style=\"fill:#1f77b4;\"/>\r\n   </g>\r\n   <g id=\"patch_705\">\r\n    <path clip-path=\"url(#pc46e02db9c)\" d=\"M 634.85 674.638125 \r\nL 639.077273 674.638125 \r\nL 639.077273 674.638125 \r\nL 634.85 674.638125 \r\nz\r\n\" style=\"fill:#1f77b4;\"/>\r\n   </g>\r\n   <g id=\"patch_706\">\r\n    <path clip-path=\"url(#pc46e02db9c)\" d=\"M 639.077273 674.638125 \r\nL 643.304545 674.638125 \r\nL 643.304545 674.638125 \r\nL 639.077273 674.638125 \r\nz\r\n\" style=\"fill:#1f77b4;\"/>\r\n   </g>\r\n   <g id=\"patch_707\">\r\n    <path clip-path=\"url(#pc46e02db9c)\" d=\"M 643.304545 674.638125 \r\nL 647.531818 674.638125 \r\nL 647.531818 674.638125 \r\nL 643.304545 674.638125 \r\nz\r\n\" style=\"fill:#1f77b4;\"/>\r\n   </g>\r\n   <g id=\"patch_708\">\r\n    <path clip-path=\"url(#pc46e02db9c)\" d=\"M 647.531818 674.638125 \r\nL 651.759091 674.638125 \r\nL 651.759091 674.638125 \r\nL 647.531818 674.638125 \r\nz\r\n\" style=\"fill:#1f77b4;\"/>\r\n   </g>\r\n   <g id=\"patch_709\">\r\n    <path clip-path=\"url(#pc46e02db9c)\" d=\"M 651.759091 674.638125 \r\nL 655.986364 674.638125 \r\nL 655.986364 674.638125 \r\nL 651.759091 674.638125 \r\nz\r\n\" style=\"fill:#1f77b4;\"/>\r\n   </g>\r\n   <g id=\"patch_710\">\r\n    <path clip-path=\"url(#pc46e02db9c)\" d=\"M 655.986364 674.638125 \r\nL 660.213636 674.638125 \r\nL 660.213636 674.638125 \r\nL 655.986364 674.638125 \r\nz\r\n\" style=\"fill:#1f77b4;\"/>\r\n   </g>\r\n   <g id=\"patch_711\">\r\n    <path clip-path=\"url(#pc46e02db9c)\" d=\"M 660.213636 674.638125 \r\nL 664.440909 674.638125 \r\nL 664.440909 674.638125 \r\nL 660.213636 674.638125 \r\nz\r\n\" style=\"fill:#1f77b4;\"/>\r\n   </g>\r\n   <g id=\"patch_712\">\r\n    <path clip-path=\"url(#pc46e02db9c)\" d=\"M 664.440909 674.638125 \r\nL 668.668182 674.638125 \r\nL 668.668182 672.872734 \r\nL 664.440909 672.872734 \r\nz\r\n\" style=\"fill:#1f77b4;\"/>\r\n   </g>\r\n   <g id=\"matplotlib.axis_21\">\r\n    <g id=\"xtick_76\">\r\n     <g id=\"line2d_251\">\r\n      <path clip-path=\"url(#pc46e02db9c)\" d=\"M 440.395455 674.638125 \r\nL 440.395455 541.511594 \r\n\" style=\"fill:none;stroke:#b0b0b0;stroke-linecap:square;stroke-width:0.8;\"/>\r\n     </g>\r\n     <g id=\"line2d_252\">\r\n      <g>\r\n       <use style=\"stroke:#000000;stroke-width:0.8;\" x=\"440.395455\" xlink:href=\"#mb4638e5f59\" y=\"674.638125\"/>\r\n      </g>\r\n     </g>\r\n     <g id=\"text_136\">\r\n      <!-- 2 -->\r\n      <g transform=\"translate(437.214205 689.236562)scale(0.1 -0.1)\">\r\n       <use xlink:href=\"#DejaVuSans-32\"/>\r\n      </g>\r\n     </g>\r\n    </g>\r\n    <g id=\"xtick_77\">\r\n     <g id=\"line2d_253\">\r\n      <path clip-path=\"url(#pc46e02db9c)\" d=\"M 491.122727 674.638125 \r\nL 491.122727 541.511594 \r\n\" style=\"fill:none;stroke:#b0b0b0;stroke-linecap:square;stroke-width:0.8;\"/>\r\n     </g>\r\n     <g id=\"line2d_254\">\r\n      <g>\r\n       <use style=\"stroke:#000000;stroke-width:0.8;\" x=\"491.122727\" xlink:href=\"#mb4638e5f59\" y=\"674.638125\"/>\r\n      </g>\r\n     </g>\r\n     <g id=\"text_137\">\r\n      <!-- 4 -->\r\n      <g transform=\"translate(487.941477 689.236562)scale(0.1 -0.1)\">\r\n       <use xlink:href=\"#DejaVuSans-34\"/>\r\n      </g>\r\n     </g>\r\n    </g>\r\n    <g id=\"xtick_78\">\r\n     <g id=\"line2d_255\">\r\n      <path clip-path=\"url(#pc46e02db9c)\" d=\"M 541.85 674.638125 \r\nL 541.85 541.511594 \r\n\" style=\"fill:none;stroke:#b0b0b0;stroke-linecap:square;stroke-width:0.8;\"/>\r\n     </g>\r\n     <g id=\"line2d_256\">\r\n      <g>\r\n       <use style=\"stroke:#000000;stroke-width:0.8;\" x=\"541.85\" xlink:href=\"#mb4638e5f59\" y=\"674.638125\"/>\r\n      </g>\r\n     </g>\r\n     <g id=\"text_138\">\r\n      <!-- 6 -->\r\n      <g transform=\"translate(538.66875 689.236562)scale(0.1 -0.1)\">\r\n       <use xlink:href=\"#DejaVuSans-36\"/>\r\n      </g>\r\n     </g>\r\n    </g>\r\n    <g id=\"xtick_79\">\r\n     <g id=\"line2d_257\">\r\n      <path clip-path=\"url(#pc46e02db9c)\" d=\"M 592.577273 674.638125 \r\nL 592.577273 541.511594 \r\n\" style=\"fill:none;stroke:#b0b0b0;stroke-linecap:square;stroke-width:0.8;\"/>\r\n     </g>\r\n     <g id=\"line2d_258\">\r\n      <g>\r\n       <use style=\"stroke:#000000;stroke-width:0.8;\" x=\"592.577273\" xlink:href=\"#mb4638e5f59\" y=\"674.638125\"/>\r\n      </g>\r\n     </g>\r\n     <g id=\"text_139\">\r\n      <!-- 8 -->\r\n      <g transform=\"translate(589.396023 689.236562)scale(0.1 -0.1)\">\r\n       <use xlink:href=\"#DejaVuSans-38\"/>\r\n      </g>\r\n     </g>\r\n    </g>\r\n    <g id=\"xtick_80\">\r\n     <g id=\"line2d_259\">\r\n      <path clip-path=\"url(#pc46e02db9c)\" d=\"M 643.304545 674.638125 \r\nL 643.304545 541.511594 \r\n\" style=\"fill:none;stroke:#b0b0b0;stroke-linecap:square;stroke-width:0.8;\"/>\r\n     </g>\r\n     <g id=\"line2d_260\">\r\n      <g>\r\n       <use style=\"stroke:#000000;stroke-width:0.8;\" x=\"643.304545\" xlink:href=\"#mb4638e5f59\" y=\"674.638125\"/>\r\n      </g>\r\n     </g>\r\n     <g id=\"text_140\">\r\n      <!-- 10 -->\r\n      <g transform=\"translate(636.942045 689.236562)scale(0.1 -0.1)\">\r\n       <use xlink:href=\"#DejaVuSans-31\"/>\r\n       <use x=\"63.623047\" xlink:href=\"#DejaVuSans-30\"/>\r\n      </g>\r\n     </g>\r\n    </g>\r\n   </g>\r\n   <g id=\"matplotlib.axis_22\">\r\n    <g id=\"ytick_51\">\r\n     <g id=\"line2d_261\">\r\n      <path clip-path=\"url(#pc46e02db9c)\" d=\"M 402.35 674.638125 \r\nL 681.35 674.638125 \r\n\" style=\"fill:none;stroke:#b0b0b0;stroke-linecap:square;stroke-width:0.8;\"/>\r\n     </g>\r\n     <g id=\"line2d_262\">\r\n      <g>\r\n       <use style=\"stroke:#000000;stroke-width:0.8;\" x=\"402.35\" xlink:href=\"#m2a7d614687\" y=\"674.638125\"/>\r\n      </g>\r\n     </g>\r\n     <g id=\"text_141\">\r\n      <!-- 0 -->\r\n      <g transform=\"translate(388.9875 678.437344)scale(0.1 -0.1)\">\r\n       <use xlink:href=\"#DejaVuSans-30\"/>\r\n      </g>\r\n     </g>\r\n    </g>\r\n    <g id=\"ytick_52\">\r\n     <g id=\"line2d_263\">\r\n      <path clip-path=\"url(#pc46e02db9c)\" d=\"M 402.35 642.540107 \r\nL 681.35 642.540107 \r\n\" style=\"fill:none;stroke:#b0b0b0;stroke-linecap:square;stroke-width:0.8;\"/>\r\n     </g>\r\n     <g id=\"line2d_264\">\r\n      <g>\r\n       <use style=\"stroke:#000000;stroke-width:0.8;\" x=\"402.35\" xlink:href=\"#m2a7d614687\" y=\"642.540107\"/>\r\n      </g>\r\n     </g>\r\n     <g id=\"text_142\">\r\n      <!-- 200 -->\r\n      <g transform=\"translate(376.2625 646.339326)scale(0.1 -0.1)\">\r\n       <use xlink:href=\"#DejaVuSans-32\"/>\r\n       <use x=\"63.623047\" xlink:href=\"#DejaVuSans-30\"/>\r\n       <use x=\"127.246094\" xlink:href=\"#DejaVuSans-30\"/>\r\n      </g>\r\n     </g>\r\n    </g>\r\n    <g id=\"ytick_53\">\r\n     <g id=\"line2d_265\">\r\n      <path clip-path=\"url(#pc46e02db9c)\" d=\"M 402.35 610.442089 \r\nL 681.35 610.442089 \r\n\" style=\"fill:none;stroke:#b0b0b0;stroke-linecap:square;stroke-width:0.8;\"/>\r\n     </g>\r\n     <g id=\"line2d_266\">\r\n      <g>\r\n       <use style=\"stroke:#000000;stroke-width:0.8;\" x=\"402.35\" xlink:href=\"#m2a7d614687\" y=\"610.442089\"/>\r\n      </g>\r\n     </g>\r\n     <g id=\"text_143\">\r\n      <!-- 400 -->\r\n      <g transform=\"translate(376.2625 614.241307)scale(0.1 -0.1)\">\r\n       <use xlink:href=\"#DejaVuSans-34\"/>\r\n       <use x=\"63.623047\" xlink:href=\"#DejaVuSans-30\"/>\r\n       <use x=\"127.246094\" xlink:href=\"#DejaVuSans-30\"/>\r\n      </g>\r\n     </g>\r\n    </g>\r\n    <g id=\"ytick_54\">\r\n     <g id=\"line2d_267\">\r\n      <path clip-path=\"url(#pc46e02db9c)\" d=\"M 402.35 578.34407 \r\nL 681.35 578.34407 \r\n\" style=\"fill:none;stroke:#b0b0b0;stroke-linecap:square;stroke-width:0.8;\"/>\r\n     </g>\r\n     <g id=\"line2d_268\">\r\n      <g>\r\n       <use style=\"stroke:#000000;stroke-width:0.8;\" x=\"402.35\" xlink:href=\"#m2a7d614687\" y=\"578.34407\"/>\r\n      </g>\r\n     </g>\r\n     <g id=\"text_144\">\r\n      <!-- 600 -->\r\n      <g transform=\"translate(376.2625 582.143289)scale(0.1 -0.1)\">\r\n       <use xlink:href=\"#DejaVuSans-36\"/>\r\n       <use x=\"63.623047\" xlink:href=\"#DejaVuSans-30\"/>\r\n       <use x=\"127.246094\" xlink:href=\"#DejaVuSans-30\"/>\r\n      </g>\r\n     </g>\r\n    </g>\r\n    <g id=\"ytick_55\">\r\n     <g id=\"line2d_269\">\r\n      <path clip-path=\"url(#pc46e02db9c)\" d=\"M 402.35 546.246052 \r\nL 681.35 546.246052 \r\n\" style=\"fill:none;stroke:#b0b0b0;stroke-linecap:square;stroke-width:0.8;\"/>\r\n     </g>\r\n     <g id=\"line2d_270\">\r\n      <g>\r\n       <use style=\"stroke:#000000;stroke-width:0.8;\" x=\"402.35\" xlink:href=\"#m2a7d614687\" y=\"546.246052\"/>\r\n      </g>\r\n     </g>\r\n     <g id=\"text_145\">\r\n      <!-- 800 -->\r\n      <g transform=\"translate(376.2625 550.045271)scale(0.1 -0.1)\">\r\n       <use xlink:href=\"#DejaVuSans-38\"/>\r\n       <use x=\"63.623047\" xlink:href=\"#DejaVuSans-30\"/>\r\n       <use x=\"127.246094\" xlink:href=\"#DejaVuSans-30\"/>\r\n      </g>\r\n     </g>\r\n    </g>\r\n   </g>\r\n   <g id=\"patch_713\">\r\n    <path d=\"M 402.35 674.638125 \r\nL 402.35 541.511594 \r\n\" style=\"fill:none;stroke:#000000;stroke-linecap:square;stroke-linejoin:miter;stroke-width:0.8;\"/>\r\n   </g>\r\n   <g id=\"patch_714\">\r\n    <path d=\"M 681.35 674.638125 \r\nL 681.35 541.511594 \r\n\" style=\"fill:none;stroke:#000000;stroke-linecap:square;stroke-linejoin:miter;stroke-width:0.8;\"/>\r\n   </g>\r\n   <g id=\"patch_715\">\r\n    <path d=\"M 402.35 674.638125 \r\nL 681.35 674.638125 \r\n\" style=\"fill:none;stroke:#000000;stroke-linecap:square;stroke-linejoin:miter;stroke-width:0.8;\"/>\r\n   </g>\r\n   <g id=\"patch_716\">\r\n    <path d=\"M 402.35 541.511594 \r\nL 681.35 541.511594 \r\n\" style=\"fill:none;stroke:#000000;stroke-linecap:square;stroke-linejoin:miter;stroke-width:0.8;\"/>\r\n   </g>\r\n   <g id=\"text_146\">\r\n    <!-- FamilySize -->\r\n    <g transform=\"translate(510.223438 535.511594)scale(0.12 -0.12)\">\r\n     <defs>\r\n      <path d=\"M 2059 -325 \r\nQ 1816 -950 1584 -1140 \r\nQ 1353 -1331 966 -1331 \r\nL 506 -1331 \r\nL 506 -850 \r\nL 844 -850 \r\nQ 1081 -850 1212 -737 \r\nQ 1344 -625 1503 -206 \r\nL 1606 56 \r\nL 191 3500 \r\nL 800 3500 \r\nL 1894 763 \r\nL 2988 3500 \r\nL 3597 3500 \r\nL 2059 -325 \r\nz\r\n\" id=\"DejaVuSans-79\" transform=\"scale(0.015625)\"/>\r\n      <path d=\"M 353 3500 \r\nL 3084 3500 \r\nL 3084 2975 \r\nL 922 459 \r\nL 3084 459 \r\nL 3084 0 \r\nL 275 0 \r\nL 275 525 \r\nL 2438 3041 \r\nL 353 3041 \r\nL 353 3500 \r\nz\r\n\" id=\"DejaVuSans-7a\" transform=\"scale(0.015625)\"/>\r\n     </defs>\r\n     <use xlink:href=\"#DejaVuSans-46\"/>\r\n     <use x=\"48.394531\" xlink:href=\"#DejaVuSans-61\"/>\r\n     <use x=\"109.673828\" xlink:href=\"#DejaVuSans-6d\"/>\r\n     <use x=\"207.085938\" xlink:href=\"#DejaVuSans-69\"/>\r\n     <use x=\"234.869141\" xlink:href=\"#DejaVuSans-6c\"/>\r\n     <use x=\"262.652344\" xlink:href=\"#DejaVuSans-79\"/>\r\n     <use x=\"321.832031\" xlink:href=\"#DejaVuSans-53\"/>\r\n     <use x=\"385.308594\" xlink:href=\"#DejaVuSans-69\"/>\r\n     <use x=\"413.091797\" xlink:href=\"#DejaVuSans-7a\"/>\r\n     <use x=\"465.582031\" xlink:href=\"#DejaVuSans-65\"/>\r\n    </g>\r\n   </g>\r\n  </g>\r\n  <g id=\"axes_12\">\r\n   <g id=\"patch_717\">\r\n    <path d=\"M 765.05 674.638125 \r\nL 1044.05 674.638125 \r\nL 1044.05 541.511594 \r\nL 765.05 541.511594 \r\nz\r\n\" style=\"fill:#ffffff;\"/>\r\n   </g>\r\n   <g id=\"patch_718\">\r\n    <path clip-path=\"url(#pff68dd745a)\" d=\"M 777.731818 674.638125 \r\nL 781.959091 674.638125 \r\nL 781.959091 591.343768 \r\nL 777.731818 591.343768 \r\nz\r\n\" style=\"fill:#1f77b4;\"/>\r\n   </g>\r\n   <g id=\"patch_719\">\r\n    <path clip-path=\"url(#pff68dd745a)\" d=\"M 781.959091 674.638125 \r\nL 786.186364 674.638125 \r\nL 786.186364 674.638125 \r\nL 781.959091 674.638125 \r\nz\r\n\" style=\"fill:#1f77b4;\"/>\r\n   </g>\r\n   <g id=\"patch_720\">\r\n    <path clip-path=\"url(#pff68dd745a)\" d=\"M 786.186364 674.638125 \r\nL 790.413636 674.638125 \r\nL 790.413636 674.638125 \r\nL 786.186364 674.638125 \r\nz\r\n\" style=\"fill:#1f77b4;\"/>\r\n   </g>\r\n   <g id=\"patch_721\">\r\n    <path clip-path=\"url(#pff68dd745a)\" d=\"M 790.413636 674.638125 \r\nL 794.640909 674.638125 \r\nL 794.640909 674.638125 \r\nL 790.413636 674.638125 \r\nz\r\n\" style=\"fill:#1f77b4;\"/>\r\n   </g>\r\n   <g id=\"patch_722\">\r\n    <path clip-path=\"url(#pff68dd745a)\" d=\"M 794.640909 674.638125 \r\nL 798.868182 674.638125 \r\nL 798.868182 674.638125 \r\nL 794.640909 674.638125 \r\nz\r\n\" style=\"fill:#1f77b4;\"/>\r\n   </g>\r\n   <g id=\"patch_723\">\r\n    <path clip-path=\"url(#pff68dd745a)\" d=\"M 798.868182 674.638125 \r\nL 803.095455 674.638125 \r\nL 803.095455 674.638125 \r\nL 798.868182 674.638125 \r\nz\r\n\" style=\"fill:#1f77b4;\"/>\r\n   </g>\r\n   <g id=\"patch_724\">\r\n    <path clip-path=\"url(#pff68dd745a)\" d=\"M 803.095455 674.638125 \r\nL 807.322727 674.638125 \r\nL 807.322727 674.638125 \r\nL 803.095455 674.638125 \r\nz\r\n\" style=\"fill:#1f77b4;\"/>\r\n   </g>\r\n   <g id=\"patch_725\">\r\n    <path clip-path=\"url(#pff68dd745a)\" d=\"M 807.322727 674.638125 \r\nL 811.55 674.638125 \r\nL 811.55 674.638125 \r\nL 807.322727 674.638125 \r\nz\r\n\" style=\"fill:#1f77b4;\"/>\r\n   </g>\r\n   <g id=\"patch_726\">\r\n    <path clip-path=\"url(#pff68dd745a)\" d=\"M 811.55 674.638125 \r\nL 815.777273 674.638125 \r\nL 815.777273 674.638125 \r\nL 811.55 674.638125 \r\nz\r\n\" style=\"fill:#1f77b4;\"/>\r\n   </g>\r\n   <g id=\"patch_727\">\r\n    <path clip-path=\"url(#pff68dd745a)\" d=\"M 815.777273 674.638125 \r\nL 820.004545 674.638125 \r\nL 820.004545 674.638125 \r\nL 815.777273 674.638125 \r\nz\r\n\" style=\"fill:#1f77b4;\"/>\r\n   </g>\r\n   <g id=\"patch_728\">\r\n    <path clip-path=\"url(#pff68dd745a)\" d=\"M 820.004545 674.638125 \r\nL 824.231818 674.638125 \r\nL 824.231818 674.638125 \r\nL 820.004545 674.638125 \r\nz\r\n\" style=\"fill:#1f77b4;\"/>\r\n   </g>\r\n   <g id=\"patch_729\">\r\n    <path clip-path=\"url(#pff68dd745a)\" d=\"M 824.231818 674.638125 \r\nL 828.459091 674.638125 \r\nL 828.459091 674.638125 \r\nL 824.231818 674.638125 \r\nz\r\n\" style=\"fill:#1f77b4;\"/>\r\n   </g>\r\n   <g id=\"patch_730\">\r\n    <path clip-path=\"url(#pff68dd745a)\" d=\"M 828.459091 674.638125 \r\nL 832.686364 674.638125 \r\nL 832.686364 674.638125 \r\nL 828.459091 674.638125 \r\nz\r\n\" style=\"fill:#1f77b4;\"/>\r\n   </g>\r\n   <g id=\"patch_731\">\r\n    <path clip-path=\"url(#pff68dd745a)\" d=\"M 832.686364 674.638125 \r\nL 836.913636 674.638125 \r\nL 836.913636 674.638125 \r\nL 832.686364 674.638125 \r\nz\r\n\" style=\"fill:#1f77b4;\"/>\r\n   </g>\r\n   <g id=\"patch_732\">\r\n    <path clip-path=\"url(#pff68dd745a)\" d=\"M 836.913636 674.638125 \r\nL 841.140909 674.638125 \r\nL 841.140909 674.638125 \r\nL 836.913636 674.638125 \r\nz\r\n\" style=\"fill:#1f77b4;\"/>\r\n   </g>\r\n   <g id=\"patch_733\">\r\n    <path clip-path=\"url(#pff68dd745a)\" d=\"M 841.140909 674.638125 \r\nL 845.368182 674.638125 \r\nL 845.368182 674.638125 \r\nL 841.140909 674.638125 \r\nz\r\n\" style=\"fill:#1f77b4;\"/>\r\n   </g>\r\n   <g id=\"patch_734\">\r\n    <path clip-path=\"url(#pff68dd745a)\" d=\"M 845.368182 674.638125 \r\nL 849.595455 674.638125 \r\nL 849.595455 674.638125 \r\nL 845.368182 674.638125 \r\nz\r\n\" style=\"fill:#1f77b4;\"/>\r\n   </g>\r\n   <g id=\"patch_735\">\r\n    <path clip-path=\"url(#pff68dd745a)\" d=\"M 849.595455 674.638125 \r\nL 853.822727 674.638125 \r\nL 853.822727 674.638125 \r\nL 849.595455 674.638125 \r\nz\r\n\" style=\"fill:#1f77b4;\"/>\r\n   </g>\r\n   <g id=\"patch_736\">\r\n    <path clip-path=\"url(#pff68dd745a)\" d=\"M 853.822727 674.638125 \r\nL 858.05 674.638125 \r\nL 858.05 674.638125 \r\nL 853.822727 674.638125 \r\nz\r\n\" style=\"fill:#1f77b4;\"/>\r\n   </g>\r\n   <g id=\"patch_737\">\r\n    <path clip-path=\"url(#pff68dd745a)\" d=\"M 858.05 674.638125 \r\nL 862.277273 674.638125 \r\nL 862.277273 674.638125 \r\nL 858.05 674.638125 \r\nz\r\n\" style=\"fill:#1f77b4;\"/>\r\n   </g>\r\n   <g id=\"patch_738\">\r\n    <path clip-path=\"url(#pff68dd745a)\" d=\"M 862.277273 674.638125 \r\nL 866.504545 674.638125 \r\nL 866.504545 674.638125 \r\nL 862.277273 674.638125 \r\nz\r\n\" style=\"fill:#1f77b4;\"/>\r\n   </g>\r\n   <g id=\"patch_739\">\r\n    <path clip-path=\"url(#pff68dd745a)\" d=\"M 866.504545 674.638125 \r\nL 870.731818 674.638125 \r\nL 870.731818 674.638125 \r\nL 866.504545 674.638125 \r\nz\r\n\" style=\"fill:#1f77b4;\"/>\r\n   </g>\r\n   <g id=\"patch_740\">\r\n    <path clip-path=\"url(#pff68dd745a)\" d=\"M 870.731818 674.638125 \r\nL 874.959091 674.638125 \r\nL 874.959091 674.638125 \r\nL 870.731818 674.638125 \r\nz\r\n\" style=\"fill:#1f77b4;\"/>\r\n   </g>\r\n   <g id=\"patch_741\">\r\n    <path clip-path=\"url(#pff68dd745a)\" d=\"M 874.959091 674.638125 \r\nL 879.186364 674.638125 \r\nL 879.186364 674.638125 \r\nL 874.959091 674.638125 \r\nz\r\n\" style=\"fill:#1f77b4;\"/>\r\n   </g>\r\n   <g id=\"patch_742\">\r\n    <path clip-path=\"url(#pff68dd745a)\" d=\"M 879.186364 674.638125 \r\nL 883.413636 674.638125 \r\nL 883.413636 674.638125 \r\nL 879.186364 674.638125 \r\nz\r\n\" style=\"fill:#1f77b4;\"/>\r\n   </g>\r\n   <g id=\"patch_743\">\r\n    <path clip-path=\"url(#pff68dd745a)\" d=\"M 883.413636 674.638125 \r\nL 887.640909 674.638125 \r\nL 887.640909 674.638125 \r\nL 883.413636 674.638125 \r\nz\r\n\" style=\"fill:#1f77b4;\"/>\r\n   </g>\r\n   <g id=\"patch_744\">\r\n    <path clip-path=\"url(#pff68dd745a)\" d=\"M 887.640909 674.638125 \r\nL 891.868182 674.638125 \r\nL 891.868182 674.638125 \r\nL 887.640909 674.638125 \r\nz\r\n\" style=\"fill:#1f77b4;\"/>\r\n   </g>\r\n   <g id=\"patch_745\">\r\n    <path clip-path=\"url(#pff68dd745a)\" d=\"M 891.868182 674.638125 \r\nL 896.095455 674.638125 \r\nL 896.095455 674.638125 \r\nL 891.868182 674.638125 \r\nz\r\n\" style=\"fill:#1f77b4;\"/>\r\n   </g>\r\n   <g id=\"patch_746\">\r\n    <path clip-path=\"url(#pff68dd745a)\" d=\"M 896.095455 674.638125 \r\nL 900.322727 674.638125 \r\nL 900.322727 674.638125 \r\nL 896.095455 674.638125 \r\nz\r\n\" style=\"fill:#1f77b4;\"/>\r\n   </g>\r\n   <g id=\"patch_747\">\r\n    <path clip-path=\"url(#pff68dd745a)\" d=\"M 900.322727 674.638125 \r\nL 904.55 674.638125 \r\nL 904.55 674.638125 \r\nL 900.322727 674.638125 \r\nz\r\n\" style=\"fill:#1f77b4;\"/>\r\n   </g>\r\n   <g id=\"patch_748\">\r\n    <path clip-path=\"url(#pff68dd745a)\" d=\"M 904.55 674.638125 \r\nL 908.777273 674.638125 \r\nL 908.777273 674.638125 \r\nL 904.55 674.638125 \r\nz\r\n\" style=\"fill:#1f77b4;\"/>\r\n   </g>\r\n   <g id=\"patch_749\">\r\n    <path clip-path=\"url(#pff68dd745a)\" d=\"M 908.777273 674.638125 \r\nL 913.004545 674.638125 \r\nL 913.004545 674.638125 \r\nL 908.777273 674.638125 \r\nz\r\n\" style=\"fill:#1f77b4;\"/>\r\n   </g>\r\n   <g id=\"patch_750\">\r\n    <path clip-path=\"url(#pff68dd745a)\" d=\"M 913.004545 674.638125 \r\nL 917.231818 674.638125 \r\nL 917.231818 674.638125 \r\nL 913.004545 674.638125 \r\nz\r\n\" style=\"fill:#1f77b4;\"/>\r\n   </g>\r\n   <g id=\"patch_751\">\r\n    <path clip-path=\"url(#pff68dd745a)\" d=\"M 917.231818 674.638125 \r\nL 921.459091 674.638125 \r\nL 921.459091 674.638125 \r\nL 917.231818 674.638125 \r\nz\r\n\" style=\"fill:#1f77b4;\"/>\r\n   </g>\r\n   <g id=\"patch_752\">\r\n    <path clip-path=\"url(#pff68dd745a)\" d=\"M 921.459091 674.638125 \r\nL 925.686364 674.638125 \r\nL 925.686364 674.638125 \r\nL 921.459091 674.638125 \r\nz\r\n\" style=\"fill:#1f77b4;\"/>\r\n   </g>\r\n   <g id=\"patch_753\">\r\n    <path clip-path=\"url(#pff68dd745a)\" d=\"M 925.686364 674.638125 \r\nL 929.913636 674.638125 \r\nL 929.913636 674.638125 \r\nL 925.686364 674.638125 \r\nz\r\n\" style=\"fill:#1f77b4;\"/>\r\n   </g>\r\n   <g id=\"patch_754\">\r\n    <path clip-path=\"url(#pff68dd745a)\" d=\"M 929.913636 674.638125 \r\nL 934.140909 674.638125 \r\nL 934.140909 674.638125 \r\nL 929.913636 674.638125 \r\nz\r\n\" style=\"fill:#1f77b4;\"/>\r\n   </g>\r\n   <g id=\"patch_755\">\r\n    <path clip-path=\"url(#pff68dd745a)\" d=\"M 934.140909 674.638125 \r\nL 938.368182 674.638125 \r\nL 938.368182 674.638125 \r\nL 934.140909 674.638125 \r\nz\r\n\" style=\"fill:#1f77b4;\"/>\r\n   </g>\r\n   <g id=\"patch_756\">\r\n    <path clip-path=\"url(#pff68dd745a)\" d=\"M 938.368182 674.638125 \r\nL 942.595455 674.638125 \r\nL 942.595455 674.638125 \r\nL 938.368182 674.638125 \r\nz\r\n\" style=\"fill:#1f77b4;\"/>\r\n   </g>\r\n   <g id=\"patch_757\">\r\n    <path clip-path=\"url(#pff68dd745a)\" d=\"M 942.595455 674.638125 \r\nL 946.822727 674.638125 \r\nL 946.822727 674.638125 \r\nL 942.595455 674.638125 \r\nz\r\n\" style=\"fill:#1f77b4;\"/>\r\n   </g>\r\n   <g id=\"patch_758\">\r\n    <path clip-path=\"url(#pff68dd745a)\" d=\"M 946.822727 674.638125 \r\nL 951.05 674.638125 \r\nL 951.05 674.638125 \r\nL 946.822727 674.638125 \r\nz\r\n\" style=\"fill:#1f77b4;\"/>\r\n   </g>\r\n   <g id=\"patch_759\">\r\n    <path clip-path=\"url(#pff68dd745a)\" d=\"M 951.05 674.638125 \r\nL 955.277273 674.638125 \r\nL 955.277273 674.638125 \r\nL 951.05 674.638125 \r\nz\r\n\" style=\"fill:#1f77b4;\"/>\r\n   </g>\r\n   <g id=\"patch_760\">\r\n    <path clip-path=\"url(#pff68dd745a)\" d=\"M 955.277273 674.638125 \r\nL 959.504545 674.638125 \r\nL 959.504545 674.638125 \r\nL 955.277273 674.638125 \r\nz\r\n\" style=\"fill:#1f77b4;\"/>\r\n   </g>\r\n   <g id=\"patch_761\">\r\n    <path clip-path=\"url(#pff68dd745a)\" d=\"M 959.504545 674.638125 \r\nL 963.731818 674.638125 \r\nL 963.731818 674.638125 \r\nL 959.504545 674.638125 \r\nz\r\n\" style=\"fill:#1f77b4;\"/>\r\n   </g>\r\n   <g id=\"patch_762\">\r\n    <path clip-path=\"url(#pff68dd745a)\" d=\"M 963.731818 674.638125 \r\nL 967.959091 674.638125 \r\nL 967.959091 674.638125 \r\nL 963.731818 674.638125 \r\nz\r\n\" style=\"fill:#1f77b4;\"/>\r\n   </g>\r\n   <g id=\"patch_763\">\r\n    <path clip-path=\"url(#pff68dd745a)\" d=\"M 967.959091 674.638125 \r\nL 972.186364 674.638125 \r\nL 972.186364 674.638125 \r\nL 967.959091 674.638125 \r\nz\r\n\" style=\"fill:#1f77b4;\"/>\r\n   </g>\r\n   <g id=\"patch_764\">\r\n    <path clip-path=\"url(#pff68dd745a)\" d=\"M 972.186364 674.638125 \r\nL 976.413636 674.638125 \r\nL 976.413636 674.638125 \r\nL 972.186364 674.638125 \r\nz\r\n\" style=\"fill:#1f77b4;\"/>\r\n   </g>\r\n   <g id=\"patch_765\">\r\n    <path clip-path=\"url(#pff68dd745a)\" d=\"M 976.413636 674.638125 \r\nL 980.640909 674.638125 \r\nL 980.640909 674.638125 \r\nL 976.413636 674.638125 \r\nz\r\n\" style=\"fill:#1f77b4;\"/>\r\n   </g>\r\n   <g id=\"patch_766\">\r\n    <path clip-path=\"url(#pff68dd745a)\" d=\"M 980.640909 674.638125 \r\nL 984.868182 674.638125 \r\nL 984.868182 674.638125 \r\nL 980.640909 674.638125 \r\nz\r\n\" style=\"fill:#1f77b4;\"/>\r\n   </g>\r\n   <g id=\"patch_767\">\r\n    <path clip-path=\"url(#pff68dd745a)\" d=\"M 984.868182 674.638125 \r\nL 989.095455 674.638125 \r\nL 989.095455 674.638125 \r\nL 984.868182 674.638125 \r\nz\r\n\" style=\"fill:#1f77b4;\"/>\r\n   </g>\r\n   <g id=\"patch_768\">\r\n    <path clip-path=\"url(#pff68dd745a)\" d=\"M 989.095455 674.638125 \r\nL 993.322727 674.638125 \r\nL 993.322727 674.638125 \r\nL 989.095455 674.638125 \r\nz\r\n\" style=\"fill:#1f77b4;\"/>\r\n   </g>\r\n   <g id=\"patch_769\">\r\n    <path clip-path=\"url(#pff68dd745a)\" d=\"M 993.322727 674.638125 \r\nL 997.55 674.638125 \r\nL 997.55 674.638125 \r\nL 993.322727 674.638125 \r\nz\r\n\" style=\"fill:#1f77b4;\"/>\r\n   </g>\r\n   <g id=\"patch_770\">\r\n    <path clip-path=\"url(#pff68dd745a)\" d=\"M 997.55 674.638125 \r\nL 1001.777273 674.638125 \r\nL 1001.777273 674.638125 \r\nL 997.55 674.638125 \r\nz\r\n\" style=\"fill:#1f77b4;\"/>\r\n   </g>\r\n   <g id=\"patch_771\">\r\n    <path clip-path=\"url(#pff68dd745a)\" d=\"M 1001.777273 674.638125 \r\nL 1006.004545 674.638125 \r\nL 1006.004545 674.638125 \r\nL 1001.777273 674.638125 \r\nz\r\n\" style=\"fill:#1f77b4;\"/>\r\n   </g>\r\n   <g id=\"patch_772\">\r\n    <path clip-path=\"url(#pff68dd745a)\" d=\"M 1006.004545 674.638125 \r\nL 1010.231818 674.638125 \r\nL 1010.231818 674.638125 \r\nL 1006.004545 674.638125 \r\nz\r\n\" style=\"fill:#1f77b4;\"/>\r\n   </g>\r\n   <g id=\"patch_773\">\r\n    <path clip-path=\"url(#pff68dd745a)\" d=\"M 1010.231818 674.638125 \r\nL 1014.459091 674.638125 \r\nL 1014.459091 674.638125 \r\nL 1010.231818 674.638125 \r\nz\r\n\" style=\"fill:#1f77b4;\"/>\r\n   </g>\r\n   <g id=\"patch_774\">\r\n    <path clip-path=\"url(#pff68dd745a)\" d=\"M 1014.459091 674.638125 \r\nL 1018.686364 674.638125 \r\nL 1018.686364 674.638125 \r\nL 1014.459091 674.638125 \r\nz\r\n\" style=\"fill:#1f77b4;\"/>\r\n   </g>\r\n   <g id=\"patch_775\">\r\n    <path clip-path=\"url(#pff68dd745a)\" d=\"M 1018.686364 674.638125 \r\nL 1022.913636 674.638125 \r\nL 1022.913636 674.638125 \r\nL 1018.686364 674.638125 \r\nz\r\n\" style=\"fill:#1f77b4;\"/>\r\n   </g>\r\n   <g id=\"patch_776\">\r\n    <path clip-path=\"url(#pff68dd745a)\" d=\"M 1022.913636 674.638125 \r\nL 1027.140909 674.638125 \r\nL 1027.140909 674.638125 \r\nL 1022.913636 674.638125 \r\nz\r\n\" style=\"fill:#1f77b4;\"/>\r\n   </g>\r\n   <g id=\"patch_777\">\r\n    <path clip-path=\"url(#pff68dd745a)\" d=\"M 1027.140909 674.638125 \r\nL 1031.368182 674.638125 \r\nL 1031.368182 547.850953 \r\nL 1027.140909 547.850953 \r\nz\r\n\" style=\"fill:#1f77b4;\"/>\r\n   </g>\r\n   <g id=\"matplotlib.axis_23\">\r\n    <g id=\"xtick_81\">\r\n     <g id=\"line2d_271\">\r\n      <path clip-path=\"url(#pff68dd745a)\" d=\"M 777.731818 674.638125 \r\nL 777.731818 541.511594 \r\n\" style=\"fill:none;stroke:#b0b0b0;stroke-linecap:square;stroke-width:0.8;\"/>\r\n     </g>\r\n     <g id=\"line2d_272\">\r\n      <g>\r\n       <use style=\"stroke:#000000;stroke-width:0.8;\" x=\"777.731818\" xlink:href=\"#mb4638e5f59\" y=\"674.638125\"/>\r\n      </g>\r\n     </g>\r\n     <g id=\"text_147\">\r\n      <!-- 0.0 -->\r\n      <g transform=\"translate(769.780256 689.236562)scale(0.1 -0.1)\">\r\n       <use xlink:href=\"#DejaVuSans-30\"/>\r\n       <use x=\"63.623047\" xlink:href=\"#DejaVuSans-2e\"/>\r\n       <use x=\"95.410156\" xlink:href=\"#DejaVuSans-30\"/>\r\n      </g>\r\n     </g>\r\n    </g>\r\n    <g id=\"xtick_82\">\r\n     <g id=\"line2d_273\">\r\n      <path clip-path=\"url(#pff68dd745a)\" d=\"M 828.459091 674.638125 \r\nL 828.459091 541.511594 \r\n\" style=\"fill:none;stroke:#b0b0b0;stroke-linecap:square;stroke-width:0.8;\"/>\r\n     </g>\r\n     <g id=\"line2d_274\">\r\n      <g>\r\n       <use style=\"stroke:#000000;stroke-width:0.8;\" x=\"828.459091\" xlink:href=\"#mb4638e5f59\" y=\"674.638125\"/>\r\n      </g>\r\n     </g>\r\n     <g id=\"text_148\">\r\n      <!-- 0.2 -->\r\n      <g transform=\"translate(820.507528 689.236562)scale(0.1 -0.1)\">\r\n       <use xlink:href=\"#DejaVuSans-30\"/>\r\n       <use x=\"63.623047\" xlink:href=\"#DejaVuSans-2e\"/>\r\n       <use x=\"95.410156\" xlink:href=\"#DejaVuSans-32\"/>\r\n      </g>\r\n     </g>\r\n    </g>\r\n    <g id=\"xtick_83\">\r\n     <g id=\"line2d_275\">\r\n      <path clip-path=\"url(#pff68dd745a)\" d=\"M 879.186364 674.638125 \r\nL 879.186364 541.511594 \r\n\" style=\"fill:none;stroke:#b0b0b0;stroke-linecap:square;stroke-width:0.8;\"/>\r\n     </g>\r\n     <g id=\"line2d_276\">\r\n      <g>\r\n       <use style=\"stroke:#000000;stroke-width:0.8;\" x=\"879.186364\" xlink:href=\"#mb4638e5f59\" y=\"674.638125\"/>\r\n      </g>\r\n     </g>\r\n     <g id=\"text_149\">\r\n      <!-- 0.4 -->\r\n      <g transform=\"translate(871.234801 689.236562)scale(0.1 -0.1)\">\r\n       <use xlink:href=\"#DejaVuSans-30\"/>\r\n       <use x=\"63.623047\" xlink:href=\"#DejaVuSans-2e\"/>\r\n       <use x=\"95.410156\" xlink:href=\"#DejaVuSans-34\"/>\r\n      </g>\r\n     </g>\r\n    </g>\r\n    <g id=\"xtick_84\">\r\n     <g id=\"line2d_277\">\r\n      <path clip-path=\"url(#pff68dd745a)\" d=\"M 929.913636 674.638125 \r\nL 929.913636 541.511594 \r\n\" style=\"fill:none;stroke:#b0b0b0;stroke-linecap:square;stroke-width:0.8;\"/>\r\n     </g>\r\n     <g id=\"line2d_278\">\r\n      <g>\r\n       <use style=\"stroke:#000000;stroke-width:0.8;\" x=\"929.913636\" xlink:href=\"#mb4638e5f59\" y=\"674.638125\"/>\r\n      </g>\r\n     </g>\r\n     <g id=\"text_150\">\r\n      <!-- 0.6 -->\r\n      <g transform=\"translate(921.962074 689.236562)scale(0.1 -0.1)\">\r\n       <use xlink:href=\"#DejaVuSans-30\"/>\r\n       <use x=\"63.623047\" xlink:href=\"#DejaVuSans-2e\"/>\r\n       <use x=\"95.410156\" xlink:href=\"#DejaVuSans-36\"/>\r\n      </g>\r\n     </g>\r\n    </g>\r\n    <g id=\"xtick_85\">\r\n     <g id=\"line2d_279\">\r\n      <path clip-path=\"url(#pff68dd745a)\" d=\"M 980.640909 674.638125 \r\nL 980.640909 541.511594 \r\n\" style=\"fill:none;stroke:#b0b0b0;stroke-linecap:square;stroke-width:0.8;\"/>\r\n     </g>\r\n     <g id=\"line2d_280\">\r\n      <g>\r\n       <use style=\"stroke:#000000;stroke-width:0.8;\" x=\"980.640909\" xlink:href=\"#mb4638e5f59\" y=\"674.638125\"/>\r\n      </g>\r\n     </g>\r\n     <g id=\"text_151\">\r\n      <!-- 0.8 -->\r\n      <g transform=\"translate(972.689347 689.236562)scale(0.1 -0.1)\">\r\n       <use xlink:href=\"#DejaVuSans-30\"/>\r\n       <use x=\"63.623047\" xlink:href=\"#DejaVuSans-2e\"/>\r\n       <use x=\"95.410156\" xlink:href=\"#DejaVuSans-38\"/>\r\n      </g>\r\n     </g>\r\n    </g>\r\n    <g id=\"xtick_86\">\r\n     <g id=\"line2d_281\">\r\n      <path clip-path=\"url(#pff68dd745a)\" d=\"M 1031.368182 674.638125 \r\nL 1031.368182 541.511594 \r\n\" style=\"fill:none;stroke:#b0b0b0;stroke-linecap:square;stroke-width:0.8;\"/>\r\n     </g>\r\n     <g id=\"line2d_282\">\r\n      <g>\r\n       <use style=\"stroke:#000000;stroke-width:0.8;\" x=\"1031.368182\" xlink:href=\"#mb4638e5f59\" y=\"674.638125\"/>\r\n      </g>\r\n     </g>\r\n     <g id=\"text_152\">\r\n      <!-- 1.0 -->\r\n      <g transform=\"translate(1023.416619 689.236562)scale(0.1 -0.1)\">\r\n       <use xlink:href=\"#DejaVuSans-31\"/>\r\n       <use x=\"63.623047\" xlink:href=\"#DejaVuSans-2e\"/>\r\n       <use x=\"95.410156\" xlink:href=\"#DejaVuSans-30\"/>\r\n      </g>\r\n     </g>\r\n    </g>\r\n   </g>\r\n   <g id=\"matplotlib.axis_24\">\r\n    <g id=\"ytick_56\">\r\n     <g id=\"line2d_283\">\r\n      <path clip-path=\"url(#pff68dd745a)\" d=\"M 765.05 674.638125 \r\nL 1044.05 674.638125 \r\n\" style=\"fill:none;stroke:#b0b0b0;stroke-linecap:square;stroke-width:0.8;\"/>\r\n     </g>\r\n     <g id=\"line2d_284\">\r\n      <g>\r\n       <use style=\"stroke:#000000;stroke-width:0.8;\" x=\"765.05\" xlink:href=\"#m2a7d614687\" y=\"674.638125\"/>\r\n      </g>\r\n     </g>\r\n     <g id=\"text_153\">\r\n      <!-- 0 -->\r\n      <g transform=\"translate(751.6875 678.437344)scale(0.1 -0.1)\">\r\n       <use xlink:href=\"#DejaVuSans-30\"/>\r\n      </g>\r\n     </g>\r\n    </g>\r\n    <g id=\"ytick_57\">\r\n     <g id=\"line2d_285\">\r\n      <path clip-path=\"url(#pff68dd745a)\" d=\"M 765.05 642.540107 \r\nL 1044.05 642.540107 \r\n\" style=\"fill:none;stroke:#b0b0b0;stroke-linecap:square;stroke-width:0.8;\"/>\r\n     </g>\r\n     <g id=\"line2d_286\">\r\n      <g>\r\n       <use style=\"stroke:#000000;stroke-width:0.8;\" x=\"765.05\" xlink:href=\"#m2a7d614687\" y=\"642.540107\"/>\r\n      </g>\r\n     </g>\r\n     <g id=\"text_154\">\r\n      <!-- 200 -->\r\n      <g transform=\"translate(738.9625 646.339326)scale(0.1 -0.1)\">\r\n       <use xlink:href=\"#DejaVuSans-32\"/>\r\n       <use x=\"63.623047\" xlink:href=\"#DejaVuSans-30\"/>\r\n       <use x=\"127.246094\" xlink:href=\"#DejaVuSans-30\"/>\r\n      </g>\r\n     </g>\r\n    </g>\r\n    <g id=\"ytick_58\">\r\n     <g id=\"line2d_287\">\r\n      <path clip-path=\"url(#pff68dd745a)\" d=\"M 765.05 610.442089 \r\nL 1044.05 610.442089 \r\n\" style=\"fill:none;stroke:#b0b0b0;stroke-linecap:square;stroke-width:0.8;\"/>\r\n     </g>\r\n     <g id=\"line2d_288\">\r\n      <g>\r\n       <use style=\"stroke:#000000;stroke-width:0.8;\" x=\"765.05\" xlink:href=\"#m2a7d614687\" y=\"610.442089\"/>\r\n      </g>\r\n     </g>\r\n     <g id=\"text_155\">\r\n      <!-- 400 -->\r\n      <g transform=\"translate(738.9625 614.241307)scale(0.1 -0.1)\">\r\n       <use xlink:href=\"#DejaVuSans-34\"/>\r\n       <use x=\"63.623047\" xlink:href=\"#DejaVuSans-30\"/>\r\n       <use x=\"127.246094\" xlink:href=\"#DejaVuSans-30\"/>\r\n      </g>\r\n     </g>\r\n    </g>\r\n    <g id=\"ytick_59\">\r\n     <g id=\"line2d_289\">\r\n      <path clip-path=\"url(#pff68dd745a)\" d=\"M 765.05 578.34407 \r\nL 1044.05 578.34407 \r\n\" style=\"fill:none;stroke:#b0b0b0;stroke-linecap:square;stroke-width:0.8;\"/>\r\n     </g>\r\n     <g id=\"line2d_290\">\r\n      <g>\r\n       <use style=\"stroke:#000000;stroke-width:0.8;\" x=\"765.05\" xlink:href=\"#m2a7d614687\" y=\"578.34407\"/>\r\n      </g>\r\n     </g>\r\n     <g id=\"text_156\">\r\n      <!-- 600 -->\r\n      <g transform=\"translate(738.9625 582.143289)scale(0.1 -0.1)\">\r\n       <use xlink:href=\"#DejaVuSans-36\"/>\r\n       <use x=\"63.623047\" xlink:href=\"#DejaVuSans-30\"/>\r\n       <use x=\"127.246094\" xlink:href=\"#DejaVuSans-30\"/>\r\n      </g>\r\n     </g>\r\n    </g>\r\n    <g id=\"ytick_60\">\r\n     <g id=\"line2d_291\">\r\n      <path clip-path=\"url(#pff68dd745a)\" d=\"M 765.05 546.246052 \r\nL 1044.05 546.246052 \r\n\" style=\"fill:none;stroke:#b0b0b0;stroke-linecap:square;stroke-width:0.8;\"/>\r\n     </g>\r\n     <g id=\"line2d_292\">\r\n      <g>\r\n       <use style=\"stroke:#000000;stroke-width:0.8;\" x=\"765.05\" xlink:href=\"#m2a7d614687\" y=\"546.246052\"/>\r\n      </g>\r\n     </g>\r\n     <g id=\"text_157\">\r\n      <!-- 800 -->\r\n      <g transform=\"translate(738.9625 550.045271)scale(0.1 -0.1)\">\r\n       <use xlink:href=\"#DejaVuSans-38\"/>\r\n       <use x=\"63.623047\" xlink:href=\"#DejaVuSans-30\"/>\r\n       <use x=\"127.246094\" xlink:href=\"#DejaVuSans-30\"/>\r\n      </g>\r\n     </g>\r\n    </g>\r\n   </g>\r\n   <g id=\"patch_778\">\r\n    <path d=\"M 765.05 674.638125 \r\nL 765.05 541.511594 \r\n\" style=\"fill:none;stroke:#000000;stroke-linecap:square;stroke-linejoin:miter;stroke-width:0.8;\"/>\r\n   </g>\r\n   <g id=\"patch_779\">\r\n    <path d=\"M 1044.05 674.638125 \r\nL 1044.05 541.511594 \r\n\" style=\"fill:none;stroke:#000000;stroke-linecap:square;stroke-linejoin:miter;stroke-width:0.8;\"/>\r\n   </g>\r\n   <g id=\"patch_780\">\r\n    <path d=\"M 765.05 674.638125 \r\nL 1044.05 674.638125 \r\n\" style=\"fill:none;stroke:#000000;stroke-linecap:square;stroke-linejoin:miter;stroke-width:0.8;\"/>\r\n   </g>\r\n   <g id=\"patch_781\">\r\n    <path d=\"M 765.05 541.511594 \r\nL 1044.05 541.511594 \r\n\" style=\"fill:none;stroke:#000000;stroke-linecap:square;stroke-linejoin:miter;stroke-width:0.8;\"/>\r\n   </g>\r\n   <g id=\"text_158\">\r\n    <!-- IsAlone -->\r\n    <g transform=\"translate(882.7175 535.511594)scale(0.12 -0.12)\">\r\n     <defs>\r\n      <path d=\"M 1959 3097 \r\nQ 1497 3097 1228 2736 \r\nQ 959 2375 959 1747 \r\nQ 959 1119 1226 758 \r\nQ 1494 397 1959 397 \r\nQ 2419 397 2687 759 \r\nQ 2956 1122 2956 1747 \r\nQ 2956 2369 2687 2733 \r\nQ 2419 3097 1959 3097 \r\nz\r\nM 1959 3584 \r\nQ 2709 3584 3137 3096 \r\nQ 3566 2609 3566 1747 \r\nQ 3566 888 3137 398 \r\nQ 2709 -91 1959 -91 \r\nQ 1206 -91 779 398 \r\nQ 353 888 353 1747 \r\nQ 353 2609 779 3096 \r\nQ 1206 3584 1959 3584 \r\nz\r\n\" id=\"DejaVuSans-6f\" transform=\"scale(0.015625)\"/>\r\n     </defs>\r\n     <use xlink:href=\"#DejaVuSans-49\"/>\r\n     <use x=\"29.492188\" xlink:href=\"#DejaVuSans-73\"/>\r\n     <use x=\"81.591797\" xlink:href=\"#DejaVuSans-41\"/>\r\n     <use x=\"150\" xlink:href=\"#DejaVuSans-6c\"/>\r\n     <use x=\"177.783203\" xlink:href=\"#DejaVuSans-6f\"/>\r\n     <use x=\"238.964844\" xlink:href=\"#DejaVuSans-6e\"/>\r\n     <use x=\"302.34375\" xlink:href=\"#DejaVuSans-65\"/>\r\n    </g>\r\n   </g>\r\n  </g>\r\n </g>\r\n <defs>\r\n  <clipPath id=\"p38970678f3\">\r\n   <rect height=\"133.126531\" width=\"279\" x=\"39.65\" y=\"22.318125\"/>\r\n  </clipPath>\r\n  <clipPath id=\"p90697adee8\">\r\n   <rect height=\"133.126531\" width=\"279\" x=\"402.35\" y=\"22.318125\"/>\r\n  </clipPath>\r\n  <clipPath id=\"p10e436012a\">\r\n   <rect height=\"133.126531\" width=\"279\" x=\"765.05\" y=\"22.318125\"/>\r\n  </clipPath>\r\n  <clipPath id=\"pde5c4cbbfa\">\r\n   <rect height=\"133.126531\" width=\"279\" x=\"39.65\" y=\"195.382615\"/>\r\n  </clipPath>\r\n  <clipPath id=\"pb20cadc96c\">\r\n   <rect height=\"133.126531\" width=\"279\" x=\"402.35\" y=\"195.382615\"/>\r\n  </clipPath>\r\n  <clipPath id=\"p84054888b5\">\r\n   <rect height=\"133.126531\" width=\"279\" x=\"765.05\" y=\"195.382615\"/>\r\n  </clipPath>\r\n  <clipPath id=\"p857d293dcb\">\r\n   <rect height=\"133.126531\" width=\"279\" x=\"39.65\" y=\"368.447105\"/>\r\n  </clipPath>\r\n  <clipPath id=\"p4eef9ec3bf\">\r\n   <rect height=\"133.126531\" width=\"279\" x=\"402.35\" y=\"368.447105\"/>\r\n  </clipPath>\r\n  <clipPath id=\"pb1d4149ae8\">\r\n   <rect height=\"133.126531\" width=\"279\" x=\"765.05\" y=\"368.447105\"/>\r\n  </clipPath>\r\n  <clipPath id=\"pd00878ce79\">\r\n   <rect height=\"133.126531\" width=\"279\" x=\"39.65\" y=\"541.511594\"/>\r\n  </clipPath>\r\n  <clipPath id=\"pc46e02db9c\">\r\n   <rect height=\"133.126531\" width=\"279\" x=\"402.35\" y=\"541.511594\"/>\r\n  </clipPath>\r\n  <clipPath id=\"pff68dd745a\">\r\n   <rect height=\"133.126531\" width=\"279\" x=\"765.05\" y=\"541.511594\"/>\r\n  </clipPath>\r\n </defs>\r\n</svg>\r\n",
      "image/png": "[encoded data removed]"
     },
     "metadata": {
      "needs_background": "light"
     }
    }
   ],
   "metadata": {}
  },
  {
   "cell_type": "code",
   "execution_count": 21,
   "source": [
    "import seaborn as sns\r\n",
    "\r\n",
    "corr_matrix = ds.corr()\r\n",
    "ax, fig = plt.subplots(figsize = ( 10, 10 ))\r\n",
    "sns.heatmap(corr_matrix, vmin = -1, cmap = 'coolwarm', annot = True)\r\n",
    "plt.show()"
   ],
   "outputs": [
    {
     "output_type": "display_data",
     "data": {
      "text/plain": [
       "<Figure size 720x720 with 2 Axes>"
      ],
      "image/svg+xml": "<?xml version=\"1.0\" encoding=\"utf-8\" standalone=\"no\"?>\r\n<!DOCTYPE svg PUBLIC \"-//W3C//DTD SVG 1.1//EN\"\r\n  \"http://www.w3.org/Graphics/SVG/1.1/DTD/svg11.dtd\">\r\n<svg height=\"629.327344pt\" version=\"1.1\" viewBox=\"0 0 621.053437 629.327344\" width=\"621.053437pt\" xmlns=\"http://www.w3.org/2000/svg\" xmlns:xlink=\"http://www.w3.org/1999/xlink\">\r\n <metadata>\r\n  <rdf:RDF xmlns:cc=\"http://creativecommons.org/ns#\" xmlns:dc=\"http://purl.org/dc/elements/1.1/\" xmlns:rdf=\"http://www.w3.org/1999/02/22-rdf-syntax-ns#\">\r\n   <cc:Work>\r\n    <dc:type rdf:resource=\"http://purl.org/dc/dcmitype/StillImage\"/>\r\n    <dc:date>2021-08-30T01:41:41.404612</dc:date>\r\n    <dc:format>image/svg+xml</dc:format>\r\n    <dc:creator>\r\n     <cc:Agent>\r\n      <dc:title>Matplotlib v3.4.2, https://matplotlib.org/</dc:title>\r\n     </cc:Agent>\r\n    </dc:creator>\r\n   </cc:Work>\r\n  </rdf:RDF>\r\n </metadata>\r\n <defs>\r\n  <style type=\"text/css\">*{stroke-linecap:butt;stroke-linejoin:round;}</style>\r\n </defs>\r\n <g id=\"figure_1\">\r\n  <g id=\"patch_1\">\r\n   <path d=\"M -0 629.327344 \r\nL 621.053437 629.327344 \r\nL 621.053437 0 \r\nL -0 0 \r\nz\r\n\" style=\"fill:none;\"/>\r\n  </g>\r\n  <g id=\"axes_1\">\r\n   <g id=\"patch_2\">\r\n    <path d=\"M 74.728125 554.599219 \r\nL 521.128125 554.599219 \r\nL 521.128125 10.999219 \r\nL 74.728125 10.999219 \r\nz\r\n\" style=\"fill:#ffffff;\"/>\r\n   </g>\r\n   <g id=\"QuadMesh_1\">\r\n    <path clip-path=\"url(#pa5353f91d3)\" d=\"M 74.728125 10.999219 \r\nL 111.928125 10.999219 \r\nL 111.928125 56.299219 \r\nL 74.728125 56.299219 \r\nL 74.728125 10.999219 \r\n\" style=\"fill:#b40426;\"/>\r\n    <path clip-path=\"url(#pa5353f91d3)\" d=\"M 111.928125 10.999219 \r\nL 149.128125 10.999219 \r\nL 149.128125 56.299219 \r\nL 111.928125 56.299219 \r\nL 111.928125 10.999219 \r\n\" style=\"fill:#dadce0;\"/>\r\n    <path clip-path=\"url(#pa5353f91d3)\" d=\"M 149.128125 10.999219 \r\nL 186.328125 10.999219 \r\nL 186.328125 56.299219 \r\nL 149.128125 56.299219 \r\nL 149.128125 10.999219 \r\n\" style=\"fill:#d8dce2;\"/>\r\n    <path clip-path=\"url(#pa5353f91d3)\" d=\"M 186.328125 10.999219 \r\nL 223.528125 10.999219 \r\nL 223.528125 56.299219 \r\nL 186.328125 56.299219 \r\nL 186.328125 10.999219 \r\n\" style=\"fill:#dbdcde;\"/>\r\n    <path clip-path=\"url(#pa5353f91d3)\" d=\"M 223.528125 10.999219 \r\nL 260.728125 10.999219 \r\nL 260.728125 56.299219 \r\nL 223.528125 56.299219 \r\nL 223.528125 10.999219 \r\n\" style=\"fill:#e0dbd8;\"/>\r\n    <path clip-path=\"url(#pa5353f91d3)\" d=\"M 260.728125 10.999219 \r\nL 297.928125 10.999219 \r\nL 297.928125 56.299219 \r\nL 260.728125 56.299219 \r\nL 260.728125 10.999219 \r\n\" style=\"fill:#d5dbe5;\"/>\r\n    <path clip-path=\"url(#pa5353f91d3)\" d=\"M 297.928125 10.999219 \r\nL 335.128125 10.999219 \r\nL 335.128125 56.299219 \r\nL 297.928125 56.299219 \r\nL 297.928125 10.999219 \r\n\" style=\"fill:#dedcdb;\"/>\r\n    <path clip-path=\"url(#pa5353f91d3)\" d=\"M 335.128125 10.999219 \r\nL 372.328125 10.999219 \r\nL 372.328125 56.299219 \r\nL 335.128125 56.299219 \r\nL 335.128125 10.999219 \r\n\" style=\"fill:#e0dbd8;\"/>\r\n    <path clip-path=\"url(#pa5353f91d3)\" d=\"M 372.328125 10.999219 \r\nL 409.528125 10.999219 \r\nL 409.528125 56.299219 \r\nL 372.328125 56.299219 \r\nL 372.328125 10.999219 \r\n\" style=\"fill:#e2dad5;\"/>\r\n    <path clip-path=\"url(#pa5353f91d3)\" d=\"M 409.528125 10.999219 \r\nL 446.728125 10.999219 \r\nL 446.728125 56.299219 \r\nL 409.528125 56.299219 \r\nL 409.528125 10.999219 \r\n\" style=\"fill:#dddcdc;\"/>\r\n    <path clip-path=\"url(#pa5353f91d3)\" d=\"M 446.728125 10.999219 \r\nL 483.928125 10.999219 \r\nL 483.928125 56.299219 \r\nL 446.728125 56.299219 \r\nL 446.728125 10.999219 \r\n\" style=\"fill:#d8dce2;\"/>\r\n    <path clip-path=\"url(#pa5353f91d3)\" d=\"M 483.928125 10.999219 \r\nL 521.128125 10.999219 \r\nL 521.128125 56.299219 \r\nL 483.928125 56.299219 \r\nL 483.928125 10.999219 \r\n\" style=\"fill:#e0dbd8;\"/>\r\n    <path clip-path=\"url(#pa5353f91d3)\" d=\"M 74.728125 56.299219 \r\nL 111.928125 56.299219 \r\nL 111.928125 101.599219 \r\nL 74.728125 101.599219 \r\nL 74.728125 56.299219 \r\n\" style=\"fill:#dadce0;\"/>\r\n    <path clip-path=\"url(#pa5353f91d3)\" d=\"M 111.928125 56.299219 \r\nL 149.128125 56.299219 \r\nL 149.128125 101.599219 \r\nL 111.928125 101.599219 \r\nL 111.928125 56.299219 \r\n\" style=\"fill:#b40426;\"/>\r\n    <path clip-path=\"url(#pa5353f91d3)\" d=\"M 149.128125 56.299219 \r\nL 186.328125 56.299219 \r\nL 186.328125 101.599219 \r\nL 149.128125 101.599219 \r\nL 149.128125 56.299219 \r\n\" style=\"fill:#b6cefa;\"/>\r\n    <path clip-path=\"url(#pa5353f91d3)\" d=\"M 186.328125 56.299219 \r\nL 223.528125 56.299219 \r\nL 223.528125 101.599219 \r\nL 186.328125 101.599219 \r\nL 186.328125 56.299219 \r\n\" style=\"fill:#e46e56;\"/>\r\n    <path clip-path=\"url(#pa5353f91d3)\" d=\"M 223.528125 56.299219 \r\nL 260.728125 56.299219 \r\nL 260.728125 101.599219 \r\nL 223.528125 101.599219 \r\nL 223.528125 56.299219 \r\n\" style=\"fill:#d2dbe8;\"/>\r\n    <path clip-path=\"url(#pa5353f91d3)\" d=\"M 260.728125 56.299219 \r\nL 297.928125 56.299219 \r\nL 297.928125 101.599219 \r\nL 260.728125 101.599219 \r\nL 260.728125 56.299219 \r\n\" style=\"fill:#dddcdc;\"/>\r\n    <path clip-path=\"url(#pa5353f91d3)\" d=\"M 297.928125 56.299219 \r\nL 335.128125 56.299219 \r\nL 335.128125 101.599219 \r\nL 297.928125 101.599219 \r\nL 297.928125 56.299219 \r\n\" style=\"fill:#ead5c9;\"/>\r\n    <path clip-path=\"url(#pa5353f91d3)\" d=\"M 335.128125 56.299219 \r\nL 372.328125 56.299219 \r\nL 372.328125 101.599219 \r\nL 335.128125 101.599219 \r\nL 335.128125 56.299219 \r\n\" style=\"fill:#f3c7b1;\"/>\r\n    <path clip-path=\"url(#pa5353f91d3)\" d=\"M 372.328125 56.299219 \r\nL 409.528125 56.299219 \r\nL 409.528125 101.599219 \r\nL 372.328125 101.599219 \r\nL 372.328125 56.299219 \r\n\" style=\"fill:#ead4c8;\"/>\r\n    <path clip-path=\"url(#pa5353f91d3)\" d=\"M 409.528125 56.299219 \r\nL 446.728125 56.299219 \r\nL 446.728125 101.599219 \r\nL 409.528125 101.599219 \r\nL 409.528125 56.299219 \r\n\" style=\"fill:#f6a283;\"/>\r\n    <path clip-path=\"url(#pa5353f91d3)\" d=\"M 446.728125 56.299219 \r\nL 483.928125 56.299219 \r\nL 483.928125 101.599219 \r\nL 446.728125 101.599219 \r\nL 446.728125 56.299219 \r\n\" style=\"fill:#e4d9d2;\"/>\r\n    <path clip-path=\"url(#pa5353f91d3)\" d=\"M 483.928125 56.299219 \r\nL 521.128125 56.299219 \r\nL 521.128125 101.599219 \r\nL 483.928125 101.599219 \r\nL 483.928125 56.299219 \r\n\" style=\"fill:#bed2f6;\"/>\r\n    <path clip-path=\"url(#pa5353f91d3)\" d=\"M 74.728125 101.599219 \r\nL 111.928125 101.599219 \r\nL 111.928125 146.899219 \r\nL 74.728125 146.899219 \r\nL 74.728125 101.599219 \r\n\" style=\"fill:#d8dce2;\"/>\r\n    <path clip-path=\"url(#pa5353f91d3)\" d=\"M 111.928125 101.599219 \r\nL 149.128125 101.599219 \r\nL 149.128125 146.899219 \r\nL 111.928125 146.899219 \r\nL 111.928125 101.599219 \r\n\" style=\"fill:#b6cefa;\"/>\r\n    <path clip-path=\"url(#pa5353f91d3)\" d=\"M 149.128125 101.599219 \r\nL 186.328125 101.599219 \r\nL 186.328125 146.899219 \r\nL 149.128125 146.899219 \r\nL 149.128125 101.599219 \r\n\" style=\"fill:#b40426;\"/>\r\n    <path clip-path=\"url(#pa5353f91d3)\" d=\"M 186.328125 101.599219 \r\nL 223.528125 101.599219 \r\nL 223.528125 146.899219 \r\nL 186.328125 146.899219 \r\nL 186.328125 101.599219 \r\n\" style=\"fill:#ccd9ed;\"/>\r\n    <path clip-path=\"url(#pa5353f91d3)\" d=\"M 223.528125 101.599219 \r\nL 260.728125 101.599219 \r\nL 260.728125 146.899219 \r\nL 223.528125 146.899219 \r\nL 223.528125 101.599219 \r\n\" style=\"fill:#b3cdfb;\"/>\r\n    <path clip-path=\"url(#pa5353f91d3)\" d=\"M 260.728125 101.599219 \r\nL 297.928125 101.599219 \r\nL 297.928125 146.899219 \r\nL 260.728125 146.899219 \r\nL 260.728125 101.599219 \r\n\" style=\"fill:#e4d9d2;\"/>\r\n    <path clip-path=\"url(#pa5353f91d3)\" d=\"M 297.928125 101.599219 \r\nL 335.128125 101.599219 \r\nL 335.128125 146.899219 \r\nL 297.928125 146.899219 \r\nL 297.928125 101.599219 \r\n\" style=\"fill:#dfdbd9;\"/>\r\n    <path clip-path=\"url(#pa5353f91d3)\" d=\"M 335.128125 101.599219 \r\nL 372.328125 101.599219 \r\nL 372.328125 146.899219 \r\nL 335.128125 146.899219 \r\nL 335.128125 101.599219 \r\n\" style=\"fill:#82a6fb;\"/>\r\n    <path clip-path=\"url(#pa5353f91d3)\" d=\"M 372.328125 101.599219 \r\nL 409.528125 101.599219 \r\nL 409.528125 146.899219 \r\nL 372.328125 146.899219 \r\nL 372.328125 101.599219 \r\n\" style=\"fill:#e1dad6;\"/>\r\n    <path clip-path=\"url(#pa5353f91d3)\" d=\"M 409.528125 101.599219 \r\nL 446.728125 101.599219 \r\nL 446.728125 146.899219 \r\nL 409.528125 146.899219 \r\nL 409.528125 101.599219 \r\n\" style=\"fill:#c6d6f1;\"/>\r\n    <path clip-path=\"url(#pa5353f91d3)\" d=\"M 446.728125 101.599219 \r\nL 483.928125 101.599219 \r\nL 483.928125 146.899219 \r\nL 446.728125 146.899219 \r\nL 446.728125 101.599219 \r\n\" style=\"fill:#e3d9d3;\"/>\r\n    <path clip-path=\"url(#pa5353f91d3)\" d=\"M 483.928125 101.599219 \r\nL 521.128125 101.599219 \r\nL 521.128125 146.899219 \r\nL 483.928125 146.899219 \r\nL 483.928125 101.599219 \r\n\" style=\"fill:#edd1c2;\"/>\r\n    <path clip-path=\"url(#pa5353f91d3)\" d=\"M 74.728125 146.899219 \r\nL 111.928125 146.899219 \r\nL 111.928125 192.199219 \r\nL 74.728125 192.199219 \r\nL 74.728125 146.899219 \r\n\" style=\"fill:#dbdcde;\"/>\r\n    <path clip-path=\"url(#pa5353f91d3)\" d=\"M 111.928125 146.899219 \r\nL 149.128125 146.899219 \r\nL 149.128125 192.199219 \r\nL 111.928125 192.199219 \r\nL 111.928125 146.899219 \r\n\" style=\"fill:#e46e56;\"/>\r\n    <path clip-path=\"url(#pa5353f91d3)\" d=\"M 149.128125 146.899219 \r\nL 186.328125 146.899219 \r\nL 186.328125 192.199219 \r\nL 149.128125 192.199219 \r\nL 149.128125 146.899219 \r\n\" style=\"fill:#ccd9ed;\"/>\r\n    <path clip-path=\"url(#pa5353f91d3)\" d=\"M 186.328125 146.899219 \r\nL 223.528125 146.899219 \r\nL 223.528125 192.199219 \r\nL 186.328125 192.199219 \r\nL 186.328125 146.899219 \r\n\" style=\"fill:#b40426;\"/>\r\n    <path clip-path=\"url(#pa5353f91d3)\" d=\"M 223.528125 146.899219 \r\nL 260.728125 146.899219 \r\nL 260.728125 192.199219 \r\nL 223.528125 192.199219 \r\nL 223.528125 146.899219 \r\n\" style=\"fill:#d1dae9;\"/>\r\n    <path clip-path=\"url(#pa5353f91d3)\" d=\"M 260.728125 146.899219 \r\nL 297.928125 146.899219 \r\nL 297.928125 192.199219 \r\nL 260.728125 192.199219 \r\nL 260.728125 146.899219 \r\n\" style=\"fill:#ead4c8;\"/>\r\n    <path clip-path=\"url(#pa5353f91d3)\" d=\"M 297.928125 146.899219 \r\nL 335.128125 146.899219 \r\nL 335.128125 192.199219 \r\nL 297.928125 192.199219 \r\nL 297.928125 146.899219 \r\n\" style=\"fill:#f2c9b4;\"/>\r\n    <path clip-path=\"url(#pa5353f91d3)\" d=\"M 335.128125 146.899219 \r\nL 372.328125 146.899219 \r\nL 372.328125 192.199219 \r\nL 335.128125 192.199219 \r\nL 335.128125 146.899219 \r\n\" style=\"fill:#f1cdba;\"/>\r\n    <path clip-path=\"url(#pa5353f91d3)\" d=\"M 372.328125 146.899219 \r\nL 409.528125 146.899219 \r\nL 409.528125 192.199219 \r\nL 372.328125 192.199219 \r\nL 372.328125 146.899219 \r\n\" style=\"fill:#ebd3c6;\"/>\r\n    <path clip-path=\"url(#pa5353f91d3)\" d=\"M 409.528125 146.899219 \r\nL 446.728125 146.899219 \r\nL 446.728125 192.199219 \r\nL 409.528125 192.199219 \r\nL 409.528125 146.899219 \r\n\" style=\"fill:#f39577;\"/>\r\n    <path clip-path=\"url(#pa5353f91d3)\" d=\"M 446.728125 146.899219 \r\nL 483.928125 146.899219 \r\nL 483.928125 192.199219 \r\nL 446.728125 192.199219 \r\nL 446.728125 146.899219 \r\n\" style=\"fill:#f1ccb8;\"/>\r\n    <path clip-path=\"url(#pa5353f91d3)\" d=\"M 483.928125 146.899219 \r\nL 521.128125 146.899219 \r\nL 521.128125 192.199219 \r\nL 483.928125 192.199219 \r\nL 483.928125 146.899219 \r\n\" style=\"fill:#b2ccfb;\"/>\r\n    <path clip-path=\"url(#pa5353f91d3)\" d=\"M 74.728125 192.199219 \r\nL 111.928125 192.199219 \r\nL 111.928125 237.499219 \r\nL 74.728125 237.499219 \r\nL 74.728125 192.199219 \r\n\" style=\"fill:#e0dbd8;\"/>\r\n    <path clip-path=\"url(#pa5353f91d3)\" d=\"M 111.928125 192.199219 \r\nL 149.128125 192.199219 \r\nL 149.128125 237.499219 \r\nL 111.928125 237.499219 \r\nL 111.928125 192.199219 \r\n\" style=\"fill:#d2dbe8;\"/>\r\n    <path clip-path=\"url(#pa5353f91d3)\" d=\"M 149.128125 192.199219 \r\nL 186.328125 192.199219 \r\nL 186.328125 237.499219 \r\nL 149.128125 237.499219 \r\nL 149.128125 192.199219 \r\n\" style=\"fill:#b3cdfb;\"/>\r\n    <path clip-path=\"url(#pa5353f91d3)\" d=\"M 186.328125 192.199219 \r\nL 223.528125 192.199219 \r\nL 223.528125 237.499219 \r\nL 186.328125 237.499219 \r\nL 186.328125 192.199219 \r\n\" style=\"fill:#d1dae9;\"/>\r\n    <path clip-path=\"url(#pa5353f91d3)\" d=\"M 223.528125 192.199219 \r\nL 260.728125 192.199219 \r\nL 260.728125 237.499219 \r\nL 223.528125 237.499219 \r\nL 223.528125 192.199219 \r\n\" style=\"fill:#b40426;\"/>\r\n    <path clip-path=\"url(#pa5353f91d3)\" d=\"M 260.728125 192.199219 \r\nL 297.928125 192.199219 \r\nL 297.928125 237.499219 \r\nL 260.728125 237.499219 \r\nL 260.728125 192.199219 \r\n\" style=\"fill:#b5cdfa;\"/>\r\n    <path clip-path=\"url(#pa5353f91d3)\" d=\"M 297.928125 192.199219 \r\nL 335.128125 192.199219 \r\nL 335.128125 237.499219 \r\nL 297.928125 237.499219 \r\nL 297.928125 192.199219 \r\n\" style=\"fill:#b9d0f9;\"/>\r\n    <path clip-path=\"url(#pa5353f91d3)\" d=\"M 335.128125 192.199219 \r\nL 372.328125 192.199219 \r\nL 372.328125 237.499219 \r\nL 335.128125 237.499219 \r\nL 335.128125 192.199219 \r\n\" style=\"fill:#ead5c9;\"/>\r\n    <path clip-path=\"url(#pa5353f91d3)\" d=\"M 372.328125 192.199219 \r\nL 409.528125 192.199219 \r\nL 409.528125 237.499219 \r\nL 372.328125 237.499219 \r\nL 372.328125 192.199219 \r\n\" style=\"fill:#e1dad6;\"/>\r\n    <path clip-path=\"url(#pa5353f91d3)\" d=\"M 409.528125 192.199219 \r\nL 446.728125 192.199219 \r\nL 446.728125 237.499219 \r\nL 409.528125 237.499219 \r\nL 409.528125 192.199219 \r\n\" style=\"fill:#bfd3f6;\"/>\r\n    <path clip-path=\"url(#pa5353f91d3)\" d=\"M 446.728125 192.199219 \r\nL 483.928125 192.199219 \r\nL 483.928125 237.499219 \r\nL 446.728125 237.499219 \r\nL 446.728125 192.199219 \r\n\" style=\"fill:#aec9fc;\"/>\r\n    <path clip-path=\"url(#pa5353f91d3)\" d=\"M 483.928125 192.199219 \r\nL 521.128125 192.199219 \r\nL 521.128125 237.499219 \r\nL 483.928125 237.499219 \r\nL 483.928125 192.199219 \r\n\" style=\"fill:#f3c7b1;\"/>\r\n    <path clip-path=\"url(#pa5353f91d3)\" d=\"M 74.728125 237.499219 \r\nL 111.928125 237.499219 \r\nL 111.928125 282.799219 \r\nL 74.728125 282.799219 \r\nL 74.728125 237.499219 \r\n\" style=\"fill:#d5dbe5;\"/>\r\n    <path clip-path=\"url(#pa5353f91d3)\" d=\"M 111.928125 237.499219 \r\nL 149.128125 237.499219 \r\nL 149.128125 282.799219 \r\nL 111.928125 282.799219 \r\nL 111.928125 237.499219 \r\n\" style=\"fill:#dddcdc;\"/>\r\n    <path clip-path=\"url(#pa5353f91d3)\" d=\"M 149.128125 237.499219 \r\nL 186.328125 237.499219 \r\nL 186.328125 282.799219 \r\nL 149.128125 282.799219 \r\nL 149.128125 237.499219 \r\n\" style=\"fill:#e4d9d2;\"/>\r\n    <path clip-path=\"url(#pa5353f91d3)\" d=\"M 186.328125 237.499219 \r\nL 223.528125 237.499219 \r\nL 223.528125 282.799219 \r\nL 186.328125 282.799219 \r\nL 186.328125 237.499219 \r\n\" style=\"fill:#ead4c8;\"/>\r\n    <path clip-path=\"url(#pa5353f91d3)\" d=\"M 223.528125 237.499219 \r\nL 260.728125 237.499219 \r\nL 260.728125 282.799219 \r\nL 223.528125 282.799219 \r\nL 223.528125 237.499219 \r\n\" style=\"fill:#b5cdfa;\"/>\r\n    <path clip-path=\"url(#pa5353f91d3)\" d=\"M 260.728125 237.499219 \r\nL 297.928125 237.499219 \r\nL 297.928125 282.799219 \r\nL 260.728125 282.799219 \r\nL 260.728125 237.499219 \r\n\" style=\"fill:#b40426;\"/>\r\n    <path clip-path=\"url(#pa5353f91d3)\" d=\"M 297.928125 237.499219 \r\nL 335.128125 237.499219 \r\nL 335.128125 282.799219 \r\nL 297.928125 282.799219 \r\nL 297.928125 237.499219 \r\n\" style=\"fill:#f7b194;\"/>\r\n    <path clip-path=\"url(#pa5353f91d3)\" d=\"M 335.128125 237.499219 \r\nL 372.328125 237.499219 \r\nL 372.328125 282.799219 \r\nL 335.128125 282.799219 \r\nL 335.128125 237.499219 \r\n\" style=\"fill:#efcfbf;\"/>\r\n    <path clip-path=\"url(#pa5353f91d3)\" d=\"M 372.328125 237.499219 \r\nL 409.528125 237.499219 \r\nL 409.528125 282.799219 \r\nL 372.328125 282.799219 \r\nL 372.328125 237.499219 \r\n\" style=\"fill:#d3dbe7;\"/>\r\n    <path clip-path=\"url(#pa5353f91d3)\" d=\"M 409.528125 237.499219 \r\nL 446.728125 237.499219 \r\nL 446.728125 282.799219 \r\nL 409.528125 282.799219 \r\nL 409.528125 237.499219 \r\n\" style=\"fill:#f5c1a9;\"/>\r\n    <path clip-path=\"url(#pa5353f91d3)\" d=\"M 446.728125 237.499219 \r\nL 483.928125 237.499219 \r\nL 483.928125 282.799219 \r\nL 446.728125 282.799219 \r\nL 446.728125 237.499219 \r\n\" style=\"fill:#cc403a;\"/>\r\n    <path clip-path=\"url(#pa5353f91d3)\" d=\"M 483.928125 237.499219 \r\nL 521.128125 237.499219 \r\nL 521.128125 282.799219 \r\nL 483.928125 282.799219 \r\nL 483.928125 237.499219 \r\n\" style=\"fill:#7da0f9;\"/>\r\n    <path clip-path=\"url(#pa5353f91d3)\" d=\"M 74.728125 282.799219 \r\nL 111.928125 282.799219 \r\nL 111.928125 328.099219 \r\nL 74.728125 328.099219 \r\nL 74.728125 282.799219 \r\n\" style=\"fill:#dedcdb;\"/>\r\n    <path clip-path=\"url(#pa5353f91d3)\" d=\"M 111.928125 282.799219 \r\nL 149.128125 282.799219 \r\nL 149.128125 328.099219 \r\nL 111.928125 328.099219 \r\nL 111.928125 282.799219 \r\n\" style=\"fill:#ead5c9;\"/>\r\n    <path clip-path=\"url(#pa5353f91d3)\" d=\"M 149.128125 282.799219 \r\nL 186.328125 282.799219 \r\nL 186.328125 328.099219 \r\nL 149.128125 328.099219 \r\nL 149.128125 282.799219 \r\n\" style=\"fill:#dfdbd9;\"/>\r\n    <path clip-path=\"url(#pa5353f91d3)\" d=\"M 186.328125 282.799219 \r\nL 223.528125 282.799219 \r\nL 223.528125 328.099219 \r\nL 186.328125 328.099219 \r\nL 186.328125 282.799219 \r\n\" style=\"fill:#f2c9b4;\"/>\r\n    <path clip-path=\"url(#pa5353f91d3)\" d=\"M 223.528125 282.799219 \r\nL 260.728125 282.799219 \r\nL 260.728125 328.099219 \r\nL 223.528125 328.099219 \r\nL 223.528125 282.799219 \r\n\" style=\"fill:#b9d0f9;\"/>\r\n    <path clip-path=\"url(#pa5353f91d3)\" d=\"M 260.728125 282.799219 \r\nL 297.928125 282.799219 \r\nL 297.928125 328.099219 \r\nL 260.728125 328.099219 \r\nL 260.728125 282.799219 \r\n\" style=\"fill:#f7b194;\"/>\r\n    <path clip-path=\"url(#pa5353f91d3)\" d=\"M 297.928125 282.799219 \r\nL 335.128125 282.799219 \r\nL 335.128125 328.099219 \r\nL 297.928125 328.099219 \r\nL 297.928125 282.799219 \r\n\" style=\"fill:#b40426;\"/>\r\n    <path clip-path=\"url(#pa5353f91d3)\" d=\"M 335.128125 282.799219 \r\nL 372.328125 282.799219 \r\nL 372.328125 328.099219 \r\nL 335.128125 328.099219 \r\nL 335.128125 282.799219 \r\n\" style=\"fill:#f3c8b2;\"/>\r\n    <path clip-path=\"url(#pa5353f91d3)\" d=\"M 372.328125 282.799219 \r\nL 409.528125 282.799219 \r\nL 409.528125 328.099219 \r\nL 372.328125 328.099219 \r\nL 372.328125 282.799219 \r\n\" style=\"fill:#cfdaea;\"/>\r\n    <path clip-path=\"url(#pa5353f91d3)\" d=\"M 409.528125 282.799219 \r\nL 446.728125 282.799219 \r\nL 446.728125 328.099219 \r\nL 409.528125 328.099219 \r\nL 409.528125 282.799219 \r\n\" style=\"fill:#f7bca1;\"/>\r\n    <path clip-path=\"url(#pa5353f91d3)\" d=\"M 446.728125 282.799219 \r\nL 483.928125 282.799219 \r\nL 483.928125 328.099219 \r\nL 446.728125 328.099219 \r\nL 446.728125 282.799219 \r\n\" style=\"fill:#d75445;\"/>\r\n    <path clip-path=\"url(#pa5353f91d3)\" d=\"M 483.928125 282.799219 \r\nL 521.128125 282.799219 \r\nL 521.128125 328.099219 \r\nL 483.928125 328.099219 \r\nL 483.928125 282.799219 \r\n\" style=\"fill:#84a7fc;\"/>\r\n    <path clip-path=\"url(#pa5353f91d3)\" d=\"M 74.728125 328.099219 \r\nL 111.928125 328.099219 \r\nL 111.928125 373.399219 \r\nL 74.728125 373.399219 \r\nL 74.728125 328.099219 \r\n\" style=\"fill:#e0dbd8;\"/>\r\n    <path clip-path=\"url(#pa5353f91d3)\" d=\"M 111.928125 328.099219 \r\nL 149.128125 328.099219 \r\nL 149.128125 373.399219 \r\nL 111.928125 373.399219 \r\nL 111.928125 328.099219 \r\n\" style=\"fill:#f3c7b1;\"/>\r\n    <path clip-path=\"url(#pa5353f91d3)\" d=\"M 149.128125 328.099219 \r\nL 186.328125 328.099219 \r\nL 186.328125 373.399219 \r\nL 149.128125 373.399219 \r\nL 149.128125 328.099219 \r\n\" style=\"fill:#82a6fb;\"/>\r\n    <path clip-path=\"url(#pa5353f91d3)\" d=\"M 186.328125 328.099219 \r\nL 223.528125 328.099219 \r\nL 223.528125 373.399219 \r\nL 186.328125 373.399219 \r\nL 186.328125 328.099219 \r\n\" style=\"fill:#f1cdba;\"/>\r\n    <path clip-path=\"url(#pa5353f91d3)\" d=\"M 223.528125 328.099219 \r\nL 260.728125 328.099219 \r\nL 260.728125 373.399219 \r\nL 223.528125 373.399219 \r\nL 223.528125 328.099219 \r\n\" style=\"fill:#ead5c9;\"/>\r\n    <path clip-path=\"url(#pa5353f91d3)\" d=\"M 260.728125 328.099219 \r\nL 297.928125 328.099219 \r\nL 297.928125 373.399219 \r\nL 260.728125 373.399219 \r\nL 260.728125 328.099219 \r\n\" style=\"fill:#efcfbf;\"/>\r\n    <path clip-path=\"url(#pa5353f91d3)\" d=\"M 297.928125 328.099219 \r\nL 335.128125 328.099219 \r\nL 335.128125 373.399219 \r\nL 297.928125 373.399219 \r\nL 297.928125 328.099219 \r\n\" style=\"fill:#f3c8b2;\"/>\r\n    <path clip-path=\"url(#pa5353f91d3)\" d=\"M 335.128125 328.099219 \r\nL 372.328125 328.099219 \r\nL 372.328125 373.399219 \r\nL 335.128125 373.399219 \r\nL 335.128125 328.099219 \r\n\" style=\"fill:#b40426;\"/>\r\n    <path clip-path=\"url(#pa5353f91d3)\" d=\"M 372.328125 328.099219 \r\nL 409.528125 328.099219 \r\nL 409.528125 373.399219 \r\nL 372.328125 373.399219 \r\nL 372.328125 328.099219 \r\n\" style=\"fill:#e4d9d2;\"/>\r\n    <path clip-path=\"url(#pa5353f91d3)\" d=\"M 409.528125 328.099219 \r\nL 446.728125 328.099219 \r\nL 446.728125 373.399219 \r\nL 409.528125 373.399219 \r\nL 409.528125 328.099219 \r\n\" style=\"fill:#efcfbf;\"/>\r\n    <path clip-path=\"url(#pa5353f91d3)\" d=\"M 446.728125 328.099219 \r\nL 483.928125 328.099219 \r\nL 483.928125 373.399219 \r\nL 446.728125 373.399219 \r\nL 446.728125 328.099219 \r\n\" style=\"fill:#f3c7b1;\"/>\r\n    <path clip-path=\"url(#pa5353f91d3)\" d=\"M 483.928125 328.099219 \r\nL 521.128125 328.099219 \r\nL 521.128125 373.399219 \r\nL 483.928125 373.399219 \r\nL 483.928125 328.099219 \r\n\" style=\"fill:#b3cdfb;\"/>\r\n    <path clip-path=\"url(#pa5353f91d3)\" d=\"M 74.728125 373.399219 \r\nL 111.928125 373.399219 \r\nL 111.928125 418.699219 \r\nL 74.728125 418.699219 \r\nL 74.728125 373.399219 \r\n\" style=\"fill:#e2dad5;\"/>\r\n    <path clip-path=\"url(#pa5353f91d3)\" d=\"M 111.928125 373.399219 \r\nL 149.128125 373.399219 \r\nL 149.128125 418.699219 \r\nL 111.928125 418.699219 \r\nL 111.928125 373.399219 \r\n\" style=\"fill:#ead4c8;\"/>\r\n    <path clip-path=\"url(#pa5353f91d3)\" d=\"M 149.128125 373.399219 \r\nL 186.328125 373.399219 \r\nL 186.328125 418.699219 \r\nL 149.128125 418.699219 \r\nL 149.128125 373.399219 \r\n\" style=\"fill:#e1dad6;\"/>\r\n    <path clip-path=\"url(#pa5353f91d3)\" d=\"M 186.328125 373.399219 \r\nL 223.528125 373.399219 \r\nL 223.528125 418.699219 \r\nL 186.328125 418.699219 \r\nL 186.328125 373.399219 \r\n\" style=\"fill:#ebd3c6;\"/>\r\n    <path clip-path=\"url(#pa5353f91d3)\" d=\"M 223.528125 373.399219 \r\nL 260.728125 373.399219 \r\nL 260.728125 418.699219 \r\nL 223.528125 418.699219 \r\nL 223.528125 373.399219 \r\n\" style=\"fill:#e1dad6;\"/>\r\n    <path clip-path=\"url(#pa5353f91d3)\" d=\"M 260.728125 373.399219 \r\nL 297.928125 373.399219 \r\nL 297.928125 418.699219 \r\nL 260.728125 418.699219 \r\nL 260.728125 373.399219 \r\n\" style=\"fill:#d3dbe7;\"/>\r\n    <path clip-path=\"url(#pa5353f91d3)\" d=\"M 297.928125 373.399219 \r\nL 335.128125 373.399219 \r\nL 335.128125 418.699219 \r\nL 297.928125 418.699219 \r\nL 297.928125 373.399219 \r\n\" style=\"fill:#cfdaea;\"/>\r\n    <path clip-path=\"url(#pa5353f91d3)\" d=\"M 335.128125 373.399219 \r\nL 372.328125 373.399219 \r\nL 372.328125 418.699219 \r\nL 335.128125 418.699219 \r\nL 335.128125 373.399219 \r\n\" style=\"fill:#e4d9d2;\"/>\r\n    <path clip-path=\"url(#pa5353f91d3)\" d=\"M 372.328125 373.399219 \r\nL 409.528125 373.399219 \r\nL 409.528125 418.699219 \r\nL 372.328125 418.699219 \r\nL 372.328125 373.399219 \r\n\" style=\"fill:#b40426;\"/>\r\n    <path clip-path=\"url(#pa5353f91d3)\" d=\"M 409.528125 373.399219 \r\nL 446.728125 373.399219 \r\nL 446.728125 418.699219 \r\nL 409.528125 418.699219 \r\nL 409.528125 373.399219 \r\n\" style=\"fill:#e2dad5;\"/>\r\n    <path clip-path=\"url(#pa5353f91d3)\" d=\"M 446.728125 373.399219 \r\nL 483.928125 373.399219 \r\nL 483.928125 418.699219 \r\nL 446.728125 418.699219 \r\nL 446.728125 373.399219 \r\n\" style=\"fill:#cfdaea;\"/>\r\n    <path clip-path=\"url(#pa5353f91d3)\" d=\"M 483.928125 373.399219 \r\nL 521.128125 373.399219 \r\nL 521.128125 418.699219 \r\nL 483.928125 418.699219 \r\nL 483.928125 373.399219 \r\n\" style=\"fill:#e2dad5;\"/>\r\n    <path clip-path=\"url(#pa5353f91d3)\" d=\"M 74.728125 418.699219 \r\nL 111.928125 418.699219 \r\nL 111.928125 463.999219 \r\nL 74.728125 463.999219 \r\nL 74.728125 418.699219 \r\n\" style=\"fill:#dddcdc;\"/>\r\n    <path clip-path=\"url(#pa5353f91d3)\" d=\"M 111.928125 418.699219 \r\nL 149.128125 418.699219 \r\nL 149.128125 463.999219 \r\nL 111.928125 463.999219 \r\nL 111.928125 418.699219 \r\n\" style=\"fill:#f6a283;\"/>\r\n    <path clip-path=\"url(#pa5353f91d3)\" d=\"M 149.128125 418.699219 \r\nL 186.328125 418.699219 \r\nL 186.328125 463.999219 \r\nL 149.128125 463.999219 \r\nL 149.128125 418.699219 \r\n\" style=\"fill:#c6d6f1;\"/>\r\n    <path clip-path=\"url(#pa5353f91d3)\" d=\"M 186.328125 418.699219 \r\nL 223.528125 418.699219 \r\nL 223.528125 463.999219 \r\nL 186.328125 463.999219 \r\nL 186.328125 418.699219 \r\n\" style=\"fill:#f39577;\"/>\r\n    <path clip-path=\"url(#pa5353f91d3)\" d=\"M 223.528125 418.699219 \r\nL 260.728125 418.699219 \r\nL 260.728125 463.999219 \r\nL 223.528125 463.999219 \r\nL 223.528125 418.699219 \r\n\" style=\"fill:#bfd3f6;\"/>\r\n    <path clip-path=\"url(#pa5353f91d3)\" d=\"M 260.728125 418.699219 \r\nL 297.928125 418.699219 \r\nL 297.928125 463.999219 \r\nL 260.728125 463.999219 \r\nL 260.728125 418.699219 \r\n\" style=\"fill:#f5c1a9;\"/>\r\n    <path clip-path=\"url(#pa5353f91d3)\" d=\"M 297.928125 418.699219 \r\nL 335.128125 418.699219 \r\nL 335.128125 463.999219 \r\nL 297.928125 463.999219 \r\nL 297.928125 418.699219 \r\n\" style=\"fill:#f7bca1;\"/>\r\n    <path clip-path=\"url(#pa5353f91d3)\" d=\"M 335.128125 418.699219 \r\nL 372.328125 418.699219 \r\nL 372.328125 463.999219 \r\nL 335.128125 463.999219 \r\nL 335.128125 418.699219 \r\n\" style=\"fill:#efcfbf;\"/>\r\n    <path clip-path=\"url(#pa5353f91d3)\" d=\"M 372.328125 418.699219 \r\nL 409.528125 418.699219 \r\nL 409.528125 463.999219 \r\nL 372.328125 463.999219 \r\nL 372.328125 418.699219 \r\n\" style=\"fill:#e2dad5;\"/>\r\n    <path clip-path=\"url(#pa5353f91d3)\" d=\"M 409.528125 418.699219 \r\nL 446.728125 418.699219 \r\nL 446.728125 463.999219 \r\nL 409.528125 463.999219 \r\nL 409.528125 418.699219 \r\n\" style=\"fill:#b40426;\"/>\r\n    <path clip-path=\"url(#pa5353f91d3)\" d=\"M 446.728125 418.699219 \r\nL 483.928125 418.699219 \r\nL 483.928125 463.999219 \r\nL 446.728125 463.999219 \r\nL 446.728125 418.699219 \r\n\" style=\"fill:#f7b599;\"/>\r\n    <path clip-path=\"url(#pa5353f91d3)\" d=\"M 483.928125 418.699219 \r\nL 521.128125 418.699219 \r\nL 521.128125 463.999219 \r\nL 483.928125 463.999219 \r\nL 483.928125 418.699219 \r\n\" style=\"fill:#9bbcff;\"/>\r\n    <path clip-path=\"url(#pa5353f91d3)\" d=\"M 74.728125 463.999219 \r\nL 111.928125 463.999219 \r\nL 111.928125 509.299219 \r\nL 74.728125 509.299219 \r\nL 74.728125 463.999219 \r\n\" style=\"fill:#d8dce2;\"/>\r\n    <path clip-path=\"url(#pa5353f91d3)\" d=\"M 111.928125 463.999219 \r\nL 149.128125 463.999219 \r\nL 149.128125 509.299219 \r\nL 111.928125 509.299219 \r\nL 111.928125 463.999219 \r\n\" style=\"fill:#e4d9d2;\"/>\r\n    <path clip-path=\"url(#pa5353f91d3)\" d=\"M 149.128125 463.999219 \r\nL 186.328125 463.999219 \r\nL 186.328125 509.299219 \r\nL 149.128125 509.299219 \r\nL 149.128125 463.999219 \r\n\" style=\"fill:#e3d9d3;\"/>\r\n    <path clip-path=\"url(#pa5353f91d3)\" d=\"M 186.328125 463.999219 \r\nL 223.528125 463.999219 \r\nL 223.528125 509.299219 \r\nL 186.328125 509.299219 \r\nL 186.328125 463.999219 \r\n\" style=\"fill:#f1ccb8;\"/>\r\n    <path clip-path=\"url(#pa5353f91d3)\" d=\"M 223.528125 463.999219 \r\nL 260.728125 463.999219 \r\nL 260.728125 509.299219 \r\nL 223.528125 509.299219 \r\nL 223.528125 463.999219 \r\n\" style=\"fill:#aec9fc;\"/>\r\n    <path clip-path=\"url(#pa5353f91d3)\" d=\"M 260.728125 463.999219 \r\nL 297.928125 463.999219 \r\nL 297.928125 509.299219 \r\nL 260.728125 509.299219 \r\nL 260.728125 463.999219 \r\n\" style=\"fill:#cc403a;\"/>\r\n    <path clip-path=\"url(#pa5353f91d3)\" d=\"M 297.928125 463.999219 \r\nL 335.128125 463.999219 \r\nL 335.128125 509.299219 \r\nL 297.928125 509.299219 \r\nL 297.928125 463.999219 \r\n\" style=\"fill:#d75445;\"/>\r\n    <path clip-path=\"url(#pa5353f91d3)\" d=\"M 335.128125 463.999219 \r\nL 372.328125 463.999219 \r\nL 372.328125 509.299219 \r\nL 335.128125 509.299219 \r\nL 335.128125 463.999219 \r\n\" style=\"fill:#f3c7b1;\"/>\r\n    <path clip-path=\"url(#pa5353f91d3)\" d=\"M 372.328125 463.999219 \r\nL 409.528125 463.999219 \r\nL 409.528125 509.299219 \r\nL 372.328125 509.299219 \r\nL 372.328125 463.999219 \r\n\" style=\"fill:#cfdaea;\"/>\r\n    <path clip-path=\"url(#pa5353f91d3)\" d=\"M 409.528125 463.999219 \r\nL 446.728125 463.999219 \r\nL 446.728125 509.299219 \r\nL 409.528125 509.299219 \r\nL 409.528125 463.999219 \r\n\" style=\"fill:#f7b599;\"/>\r\n    <path clip-path=\"url(#pa5353f91d3)\" d=\"M 446.728125 463.999219 \r\nL 483.928125 463.999219 \r\nL 483.928125 509.299219 \r\nL 446.728125 509.299219 \r\nL 446.728125 463.999219 \r\n\" style=\"fill:#b40426;\"/>\r\n    <path clip-path=\"url(#pa5353f91d3)\" d=\"M 483.928125 463.999219 \r\nL 521.128125 463.999219 \r\nL 521.128125 509.299219 \r\nL 483.928125 509.299219 \r\nL 483.928125 463.999219 \r\n\" style=\"fill:#6b8df0;\"/>\r\n    <path clip-path=\"url(#pa5353f91d3)\" d=\"M 74.728125 509.299219 \r\nL 111.928125 509.299219 \r\nL 111.928125 554.599219 \r\nL 74.728125 554.599219 \r\nL 74.728125 509.299219 \r\n\" style=\"fill:#e0dbd8;\"/>\r\n    <path clip-path=\"url(#pa5353f91d3)\" d=\"M 111.928125 509.299219 \r\nL 149.128125 509.299219 \r\nL 149.128125 554.599219 \r\nL 111.928125 554.599219 \r\nL 111.928125 509.299219 \r\n\" style=\"fill:#bed2f6;\"/>\r\n    <path clip-path=\"url(#pa5353f91d3)\" d=\"M 149.128125 509.299219 \r\nL 186.328125 509.299219 \r\nL 186.328125 554.599219 \r\nL 149.128125 554.599219 \r\nL 149.128125 509.299219 \r\n\" style=\"fill:#edd1c2;\"/>\r\n    <path clip-path=\"url(#pa5353f91d3)\" d=\"M 186.328125 509.299219 \r\nL 223.528125 509.299219 \r\nL 223.528125 554.599219 \r\nL 186.328125 554.599219 \r\nL 186.328125 509.299219 \r\n\" style=\"fill:#b2ccfb;\"/>\r\n    <path clip-path=\"url(#pa5353f91d3)\" d=\"M 223.528125 509.299219 \r\nL 260.728125 509.299219 \r\nL 260.728125 554.599219 \r\nL 223.528125 554.599219 \r\nL 223.528125 509.299219 \r\n\" style=\"fill:#f3c7b1;\"/>\r\n    <path clip-path=\"url(#pa5353f91d3)\" d=\"M 260.728125 509.299219 \r\nL 297.928125 509.299219 \r\nL 297.928125 554.599219 \r\nL 260.728125 554.599219 \r\nL 260.728125 509.299219 \r\n\" style=\"fill:#7da0f9;\"/>\r\n    <path clip-path=\"url(#pa5353f91d3)\" d=\"M 297.928125 509.299219 \r\nL 335.128125 509.299219 \r\nL 335.128125 554.599219 \r\nL 297.928125 554.599219 \r\nL 297.928125 509.299219 \r\n\" style=\"fill:#84a7fc;\"/>\r\n    <path clip-path=\"url(#pa5353f91d3)\" d=\"M 335.128125 509.299219 \r\nL 372.328125 509.299219 \r\nL 372.328125 554.599219 \r\nL 335.128125 554.599219 \r\nL 335.128125 509.299219 \r\n\" style=\"fill:#b3cdfb;\"/>\r\n    <path clip-path=\"url(#pa5353f91d3)\" d=\"M 372.328125 509.299219 \r\nL 409.528125 509.299219 \r\nL 409.528125 554.599219 \r\nL 372.328125 554.599219 \r\nL 372.328125 509.299219 \r\n\" style=\"fill:#e2dad5;\"/>\r\n    <path clip-path=\"url(#pa5353f91d3)\" d=\"M 409.528125 509.299219 \r\nL 446.728125 509.299219 \r\nL 446.728125 554.599219 \r\nL 409.528125 554.599219 \r\nL 409.528125 509.299219 \r\n\" style=\"fill:#9bbcff;\"/>\r\n    <path clip-path=\"url(#pa5353f91d3)\" d=\"M 446.728125 509.299219 \r\nL 483.928125 509.299219 \r\nL 483.928125 554.599219 \r\nL 446.728125 554.599219 \r\nL 446.728125 509.299219 \r\n\" style=\"fill:#6b8df0;\"/>\r\n    <path clip-path=\"url(#pa5353f91d3)\" d=\"M 483.928125 509.299219 \r\nL 521.128125 509.299219 \r\nL 521.128125 554.599219 \r\nL 483.928125 554.599219 \r\nL 483.928125 509.299219 \r\n\" style=\"fill:#b40426;\"/>\r\n   </g>\r\n   <g id=\"matplotlib.axis_1\">\r\n    <g id=\"xtick_1\">\r\n     <g id=\"line2d_1\">\r\n      <defs>\r\n       <path d=\"M 0 0 \r\nL 0 3.5 \r\n\" id=\"me0e131c73d\" style=\"stroke:#000000;stroke-width:0.8;\"/>\r\n      </defs>\r\n      <g>\r\n       <use style=\"stroke:#000000;stroke-width:0.8;\" x=\"93.328125\" xlink:href=\"#me0e131c73d\" y=\"554.599219\"/>\r\n      </g>\r\n     </g>\r\n     <g id=\"text_1\">\r\n      <!-- PassengerId -->\r\n      <g transform=\"translate(96.0875 622.127344)rotate(-90)scale(0.1 -0.1)\">\r\n       <defs>\r\n        <path d=\"M 1259 4147 \r\nL 1259 2394 \r\nL 2053 2394 \r\nQ 2494 2394 2734 2622 \r\nQ 2975 2850 2975 3272 \r\nQ 2975 3691 2734 3919 \r\nQ 2494 4147 2053 4147 \r\nL 1259 4147 \r\nz\r\nM 628 4666 \r\nL 2053 4666 \r\nQ 2838 4666 3239 4311 \r\nQ 3641 3956 3641 3272 \r\nQ 3641 2581 3239 2228 \r\nQ 2838 1875 2053 1875 \r\nL 1259 1875 \r\nL 1259 0 \r\nL 628 0 \r\nL 628 4666 \r\nz\r\n\" id=\"DejaVuSans-50\" transform=\"scale(0.015625)\"/>\r\n        <path d=\"M 2194 1759 \r\nQ 1497 1759 1228 1600 \r\nQ 959 1441 959 1056 \r\nQ 959 750 1161 570 \r\nQ 1363 391 1709 391 \r\nQ 2188 391 2477 730 \r\nQ 2766 1069 2766 1631 \r\nL 2766 1759 \r\nL 2194 1759 \r\nz\r\nM 3341 1997 \r\nL 3341 0 \r\nL 2766 0 \r\nL 2766 531 \r\nQ 2569 213 2275 61 \r\nQ 1981 -91 1556 -91 \r\nQ 1019 -91 701 211 \r\nQ 384 513 384 1019 \r\nQ 384 1609 779 1909 \r\nQ 1175 2209 1959 2209 \r\nL 2766 2209 \r\nL 2766 2266 \r\nQ 2766 2663 2505 2880 \r\nQ 2244 3097 1772 3097 \r\nQ 1472 3097 1187 3025 \r\nQ 903 2953 641 2809 \r\nL 641 3341 \r\nQ 956 3463 1253 3523 \r\nQ 1550 3584 1831 3584 \r\nQ 2591 3584 2966 3190 \r\nQ 3341 2797 3341 1997 \r\nz\r\n\" id=\"DejaVuSans-61\" transform=\"scale(0.015625)\"/>\r\n        <path d=\"M 2834 3397 \r\nL 2834 2853 \r\nQ 2591 2978 2328 3040 \r\nQ 2066 3103 1784 3103 \r\nQ 1356 3103 1142 2972 \r\nQ 928 2841 928 2578 \r\nQ 928 2378 1081 2264 \r\nQ 1234 2150 1697 2047 \r\nL 1894 2003 \r\nQ 2506 1872 2764 1633 \r\nQ 3022 1394 3022 966 \r\nQ 3022 478 2636 193 \r\nQ 2250 -91 1575 -91 \r\nQ 1294 -91 989 -36 \r\nQ 684 19 347 128 \r\nL 347 722 \r\nQ 666 556 975 473 \r\nQ 1284 391 1588 391 \r\nQ 1994 391 2212 530 \r\nQ 2431 669 2431 922 \r\nQ 2431 1156 2273 1281 \r\nQ 2116 1406 1581 1522 \r\nL 1381 1569 \r\nQ 847 1681 609 1914 \r\nQ 372 2147 372 2553 \r\nQ 372 3047 722 3315 \r\nQ 1072 3584 1716 3584 \r\nQ 2034 3584 2315 3537 \r\nQ 2597 3491 2834 3397 \r\nz\r\n\" id=\"DejaVuSans-73\" transform=\"scale(0.015625)\"/>\r\n        <path d=\"M 3597 1894 \r\nL 3597 1613 \r\nL 953 1613 \r\nQ 991 1019 1311 708 \r\nQ 1631 397 2203 397 \r\nQ 2534 397 2845 478 \r\nQ 3156 559 3463 722 \r\nL 3463 178 \r\nQ 3153 47 2828 -22 \r\nQ 2503 -91 2169 -91 \r\nQ 1331 -91 842 396 \r\nQ 353 884 353 1716 \r\nQ 353 2575 817 3079 \r\nQ 1281 3584 2069 3584 \r\nQ 2775 3584 3186 3129 \r\nQ 3597 2675 3597 1894 \r\nz\r\nM 3022 2063 \r\nQ 3016 2534 2758 2815 \r\nQ 2500 3097 2075 3097 \r\nQ 1594 3097 1305 2825 \r\nQ 1016 2553 972 2059 \r\nL 3022 2063 \r\nz\r\n\" id=\"DejaVuSans-65\" transform=\"scale(0.015625)\"/>\r\n        <path d=\"M 3513 2113 \r\nL 3513 0 \r\nL 2938 0 \r\nL 2938 2094 \r\nQ 2938 2591 2744 2837 \r\nQ 2550 3084 2163 3084 \r\nQ 1697 3084 1428 2787 \r\nQ 1159 2491 1159 1978 \r\nL 1159 0 \r\nL 581 0 \r\nL 581 3500 \r\nL 1159 3500 \r\nL 1159 2956 \r\nQ 1366 3272 1645 3428 \r\nQ 1925 3584 2291 3584 \r\nQ 2894 3584 3203 3211 \r\nQ 3513 2838 3513 2113 \r\nz\r\n\" id=\"DejaVuSans-6e\" transform=\"scale(0.015625)\"/>\r\n        <path d=\"M 2906 1791 \r\nQ 2906 2416 2648 2759 \r\nQ 2391 3103 1925 3103 \r\nQ 1463 3103 1205 2759 \r\nQ 947 2416 947 1791 \r\nQ 947 1169 1205 825 \r\nQ 1463 481 1925 481 \r\nQ 2391 481 2648 825 \r\nQ 2906 1169 2906 1791 \r\nz\r\nM 3481 434 \r\nQ 3481 -459 3084 -895 \r\nQ 2688 -1331 1869 -1331 \r\nQ 1566 -1331 1297 -1286 \r\nQ 1028 -1241 775 -1147 \r\nL 775 -588 \r\nQ 1028 -725 1275 -790 \r\nQ 1522 -856 1778 -856 \r\nQ 2344 -856 2625 -561 \r\nQ 2906 -266 2906 331 \r\nL 2906 616 \r\nQ 2728 306 2450 153 \r\nQ 2172 0 1784 0 \r\nQ 1141 0 747 490 \r\nQ 353 981 353 1791 \r\nQ 353 2603 747 3093 \r\nQ 1141 3584 1784 3584 \r\nQ 2172 3584 2450 3431 \r\nQ 2728 3278 2906 2969 \r\nL 2906 3500 \r\nL 3481 3500 \r\nL 3481 434 \r\nz\r\n\" id=\"DejaVuSans-67\" transform=\"scale(0.015625)\"/>\r\n        <path d=\"M 2631 2963 \r\nQ 2534 3019 2420 3045 \r\nQ 2306 3072 2169 3072 \r\nQ 1681 3072 1420 2755 \r\nQ 1159 2438 1159 1844 \r\nL 1159 0 \r\nL 581 0 \r\nL 581 3500 \r\nL 1159 3500 \r\nL 1159 2956 \r\nQ 1341 3275 1631 3429 \r\nQ 1922 3584 2338 3584 \r\nQ 2397 3584 2469 3576 \r\nQ 2541 3569 2628 3553 \r\nL 2631 2963 \r\nz\r\n\" id=\"DejaVuSans-72\" transform=\"scale(0.015625)\"/>\r\n        <path d=\"M 628 4666 \r\nL 1259 4666 \r\nL 1259 0 \r\nL 628 0 \r\nL 628 4666 \r\nz\r\n\" id=\"DejaVuSans-49\" transform=\"scale(0.015625)\"/>\r\n        <path d=\"M 2906 2969 \r\nL 2906 4863 \r\nL 3481 4863 \r\nL 3481 0 \r\nL 2906 0 \r\nL 2906 525 \r\nQ 2725 213 2448 61 \r\nQ 2172 -91 1784 -91 \r\nQ 1150 -91 751 415 \r\nQ 353 922 353 1747 \r\nQ 353 2572 751 3078 \r\nQ 1150 3584 1784 3584 \r\nQ 2172 3584 2448 3432 \r\nQ 2725 3281 2906 2969 \r\nz\r\nM 947 1747 \r\nQ 947 1113 1208 752 \r\nQ 1469 391 1925 391 \r\nQ 2381 391 2643 752 \r\nQ 2906 1113 2906 1747 \r\nQ 2906 2381 2643 2742 \r\nQ 2381 3103 1925 3103 \r\nQ 1469 3103 1208 2742 \r\nQ 947 2381 947 1747 \r\nz\r\n\" id=\"DejaVuSans-64\" transform=\"scale(0.015625)\"/>\r\n       </defs>\r\n       <use xlink:href=\"#DejaVuSans-50\"/>\r\n       <use x=\"55.802734\" xlink:href=\"#DejaVuSans-61\"/>\r\n       <use x=\"117.082031\" xlink:href=\"#DejaVuSans-73\"/>\r\n       <use x=\"169.181641\" xlink:href=\"#DejaVuSans-73\"/>\r\n       <use x=\"221.28125\" xlink:href=\"#DejaVuSans-65\"/>\r\n       <use x=\"282.804688\" xlink:href=\"#DejaVuSans-6e\"/>\r\n       <use x=\"346.183594\" xlink:href=\"#DejaVuSans-67\"/>\r\n       <use x=\"409.660156\" xlink:href=\"#DejaVuSans-65\"/>\r\n       <use x=\"471.183594\" xlink:href=\"#DejaVuSans-72\"/>\r\n       <use x=\"512.296875\" xlink:href=\"#DejaVuSans-49\"/>\r\n       <use x=\"541.789062\" xlink:href=\"#DejaVuSans-64\"/>\r\n      </g>\r\n     </g>\r\n    </g>\r\n    <g id=\"xtick_2\">\r\n     <g id=\"line2d_2\">\r\n      <g>\r\n       <use style=\"stroke:#000000;stroke-width:0.8;\" x=\"130.528125\" xlink:href=\"#me0e131c73d\" y=\"554.599219\"/>\r\n      </g>\r\n     </g>\r\n     <g id=\"text_2\">\r\n      <!-- Survived -->\r\n      <g transform=\"translate(133.2875 605.513281)rotate(-90)scale(0.1 -0.1)\">\r\n       <defs>\r\n        <path d=\"M 3425 4513 \r\nL 3425 3897 \r\nQ 3066 4069 2747 4153 \r\nQ 2428 4238 2131 4238 \r\nQ 1616 4238 1336 4038 \r\nQ 1056 3838 1056 3469 \r\nQ 1056 3159 1242 3001 \r\nQ 1428 2844 1947 2747 \r\nL 2328 2669 \r\nQ 3034 2534 3370 2195 \r\nQ 3706 1856 3706 1288 \r\nQ 3706 609 3251 259 \r\nQ 2797 -91 1919 -91 \r\nQ 1588 -91 1214 -16 \r\nQ 841 59 441 206 \r\nL 441 856 \r\nQ 825 641 1194 531 \r\nQ 1563 422 1919 422 \r\nQ 2459 422 2753 634 \r\nQ 3047 847 3047 1241 \r\nQ 3047 1584 2836 1778 \r\nQ 2625 1972 2144 2069 \r\nL 1759 2144 \r\nQ 1053 2284 737 2584 \r\nQ 422 2884 422 3419 \r\nQ 422 4038 858 4394 \r\nQ 1294 4750 2059 4750 \r\nQ 2388 4750 2728 4690 \r\nQ 3069 4631 3425 4513 \r\nz\r\n\" id=\"DejaVuSans-53\" transform=\"scale(0.015625)\"/>\r\n        <path d=\"M 544 1381 \r\nL 544 3500 \r\nL 1119 3500 \r\nL 1119 1403 \r\nQ 1119 906 1312 657 \r\nQ 1506 409 1894 409 \r\nQ 2359 409 2629 706 \r\nQ 2900 1003 2900 1516 \r\nL 2900 3500 \r\nL 3475 3500 \r\nL 3475 0 \r\nL 2900 0 \r\nL 2900 538 \r\nQ 2691 219 2414 64 \r\nQ 2138 -91 1772 -91 \r\nQ 1169 -91 856 284 \r\nQ 544 659 544 1381 \r\nz\r\nM 1991 3584 \r\nL 1991 3584 \r\nz\r\n\" id=\"DejaVuSans-75\" transform=\"scale(0.015625)\"/>\r\n        <path d=\"M 191 3500 \r\nL 800 3500 \r\nL 1894 563 \r\nL 2988 3500 \r\nL 3597 3500 \r\nL 2284 0 \r\nL 1503 0 \r\nL 191 3500 \r\nz\r\n\" id=\"DejaVuSans-76\" transform=\"scale(0.015625)\"/>\r\n        <path d=\"M 603 3500 \r\nL 1178 3500 \r\nL 1178 0 \r\nL 603 0 \r\nL 603 3500 \r\nz\r\nM 603 4863 \r\nL 1178 4863 \r\nL 1178 4134 \r\nL 603 4134 \r\nL 603 4863 \r\nz\r\n\" id=\"DejaVuSans-69\" transform=\"scale(0.015625)\"/>\r\n       </defs>\r\n       <use xlink:href=\"#DejaVuSans-53\"/>\r\n       <use x=\"63.476562\" xlink:href=\"#DejaVuSans-75\"/>\r\n       <use x=\"126.855469\" xlink:href=\"#DejaVuSans-72\"/>\r\n       <use x=\"167.96875\" xlink:href=\"#DejaVuSans-76\"/>\r\n       <use x=\"227.148438\" xlink:href=\"#DejaVuSans-69\"/>\r\n       <use x=\"254.931641\" xlink:href=\"#DejaVuSans-76\"/>\r\n       <use x=\"314.111328\" xlink:href=\"#DejaVuSans-65\"/>\r\n       <use x=\"375.634766\" xlink:href=\"#DejaVuSans-64\"/>\r\n      </g>\r\n     </g>\r\n    </g>\r\n    <g id=\"xtick_3\">\r\n     <g id=\"line2d_3\">\r\n      <g>\r\n       <use style=\"stroke:#000000;stroke-width:0.8;\" x=\"167.728125\" xlink:href=\"#me0e131c73d\" y=\"554.599219\"/>\r\n      </g>\r\n     </g>\r\n     <g id=\"text_3\">\r\n      <!-- Pclass -->\r\n      <g transform=\"translate(170.4875 592.452344)rotate(-90)scale(0.1 -0.1)\">\r\n       <defs>\r\n        <path d=\"M 3122 3366 \r\nL 3122 2828 \r\nQ 2878 2963 2633 3030 \r\nQ 2388 3097 2138 3097 \r\nQ 1578 3097 1268 2742 \r\nQ 959 2388 959 1747 \r\nQ 959 1106 1268 751 \r\nQ 1578 397 2138 397 \r\nQ 2388 397 2633 464 \r\nQ 2878 531 3122 666 \r\nL 3122 134 \r\nQ 2881 22 2623 -34 \r\nQ 2366 -91 2075 -91 \r\nQ 1284 -91 818 406 \r\nQ 353 903 353 1747 \r\nQ 353 2603 823 3093 \r\nQ 1294 3584 2113 3584 \r\nQ 2378 3584 2631 3529 \r\nQ 2884 3475 3122 3366 \r\nz\r\n\" id=\"DejaVuSans-63\" transform=\"scale(0.015625)\"/>\r\n        <path d=\"M 603 4863 \r\nL 1178 4863 \r\nL 1178 0 \r\nL 603 0 \r\nL 603 4863 \r\nz\r\n\" id=\"DejaVuSans-6c\" transform=\"scale(0.015625)\"/>\r\n       </defs>\r\n       <use xlink:href=\"#DejaVuSans-50\"/>\r\n       <use x=\"60.302734\" xlink:href=\"#DejaVuSans-63\"/>\r\n       <use x=\"115.283203\" xlink:href=\"#DejaVuSans-6c\"/>\r\n       <use x=\"143.066406\" xlink:href=\"#DejaVuSans-61\"/>\r\n       <use x=\"204.345703\" xlink:href=\"#DejaVuSans-73\"/>\r\n       <use x=\"256.445312\" xlink:href=\"#DejaVuSans-73\"/>\r\n      </g>\r\n     </g>\r\n    </g>\r\n    <g id=\"xtick_4\">\r\n     <g id=\"line2d_4\">\r\n      <g>\r\n       <use style=\"stroke:#000000;stroke-width:0.8;\" x=\"204.928125\" xlink:href=\"#me0e131c73d\" y=\"554.599219\"/>\r\n      </g>\r\n     </g>\r\n     <g id=\"text_4\">\r\n      <!-- Sex -->\r\n      <g transform=\"translate(207.6875 579.844531)rotate(-90)scale(0.1 -0.1)\">\r\n       <defs>\r\n        <path d=\"M 3513 3500 \r\nL 2247 1797 \r\nL 3578 0 \r\nL 2900 0 \r\nL 1881 1375 \r\nL 863 0 \r\nL 184 0 \r\nL 1544 1831 \r\nL 300 3500 \r\nL 978 3500 \r\nL 1906 2253 \r\nL 2834 3500 \r\nL 3513 3500 \r\nz\r\n\" id=\"DejaVuSans-78\" transform=\"scale(0.015625)\"/>\r\n       </defs>\r\n       <use xlink:href=\"#DejaVuSans-53\"/>\r\n       <use x=\"63.476562\" xlink:href=\"#DejaVuSans-65\"/>\r\n       <use x=\"123.25\" xlink:href=\"#DejaVuSans-78\"/>\r\n      </g>\r\n     </g>\r\n    </g>\r\n    <g id=\"xtick_5\">\r\n     <g id=\"line2d_5\">\r\n      <g>\r\n       <use style=\"stroke:#000000;stroke-width:0.8;\" x=\"242.128125\" xlink:href=\"#me0e131c73d\" y=\"554.599219\"/>\r\n      </g>\r\n     </g>\r\n     <g id=\"text_5\">\r\n      <!-- Age -->\r\n      <g transform=\"translate(244.8875 580.941406)rotate(-90)scale(0.1 -0.1)\">\r\n       <defs>\r\n        <path d=\"M 2188 4044 \r\nL 1331 1722 \r\nL 3047 1722 \r\nL 2188 4044 \r\nz\r\nM 1831 4666 \r\nL 2547 4666 \r\nL 4325 0 \r\nL 3669 0 \r\nL 3244 1197 \r\nL 1141 1197 \r\nL 716 0 \r\nL 50 0 \r\nL 1831 4666 \r\nz\r\n\" id=\"DejaVuSans-41\" transform=\"scale(0.015625)\"/>\r\n       </defs>\r\n       <use xlink:href=\"#DejaVuSans-41\"/>\r\n       <use x=\"68.408203\" xlink:href=\"#DejaVuSans-67\"/>\r\n       <use x=\"131.884766\" xlink:href=\"#DejaVuSans-65\"/>\r\n      </g>\r\n     </g>\r\n    </g>\r\n    <g id=\"xtick_6\">\r\n     <g id=\"line2d_6\">\r\n      <g>\r\n       <use style=\"stroke:#000000;stroke-width:0.8;\" x=\"279.328125\" xlink:href=\"#me0e131c73d\" y=\"554.599219\"/>\r\n      </g>\r\n     </g>\r\n     <g id=\"text_6\">\r\n      <!-- SibSp -->\r\n      <g transform=\"translate(282.0875 589.771094)rotate(-90)scale(0.1 -0.1)\">\r\n       <defs>\r\n        <path d=\"M 3116 1747 \r\nQ 3116 2381 2855 2742 \r\nQ 2594 3103 2138 3103 \r\nQ 1681 3103 1420 2742 \r\nQ 1159 2381 1159 1747 \r\nQ 1159 1113 1420 752 \r\nQ 1681 391 2138 391 \r\nQ 2594 391 2855 752 \r\nQ 3116 1113 3116 1747 \r\nz\r\nM 1159 2969 \r\nQ 1341 3281 1617 3432 \r\nQ 1894 3584 2278 3584 \r\nQ 2916 3584 3314 3078 \r\nQ 3713 2572 3713 1747 \r\nQ 3713 922 3314 415 \r\nQ 2916 -91 2278 -91 \r\nQ 1894 -91 1617 61 \r\nQ 1341 213 1159 525 \r\nL 1159 0 \r\nL 581 0 \r\nL 581 4863 \r\nL 1159 4863 \r\nL 1159 2969 \r\nz\r\n\" id=\"DejaVuSans-62\" transform=\"scale(0.015625)\"/>\r\n        <path d=\"M 1159 525 \r\nL 1159 -1331 \r\nL 581 -1331 \r\nL 581 3500 \r\nL 1159 3500 \r\nL 1159 2969 \r\nQ 1341 3281 1617 3432 \r\nQ 1894 3584 2278 3584 \r\nQ 2916 3584 3314 3078 \r\nQ 3713 2572 3713 1747 \r\nQ 3713 922 3314 415 \r\nQ 2916 -91 2278 -91 \r\nQ 1894 -91 1617 61 \r\nQ 1341 213 1159 525 \r\nz\r\nM 3116 1747 \r\nQ 3116 2381 2855 2742 \r\nQ 2594 3103 2138 3103 \r\nQ 1681 3103 1420 2742 \r\nQ 1159 2381 1159 1747 \r\nQ 1159 1113 1420 752 \r\nQ 1681 391 2138 391 \r\nQ 2594 391 2855 752 \r\nQ 3116 1113 3116 1747 \r\nz\r\n\" id=\"DejaVuSans-70\" transform=\"scale(0.015625)\"/>\r\n       </defs>\r\n       <use xlink:href=\"#DejaVuSans-53\"/>\r\n       <use x=\"63.476562\" xlink:href=\"#DejaVuSans-69\"/>\r\n       <use x=\"91.259766\" xlink:href=\"#DejaVuSans-62\"/>\r\n       <use x=\"154.736328\" xlink:href=\"#DejaVuSans-53\"/>\r\n       <use x=\"218.212891\" xlink:href=\"#DejaVuSans-70\"/>\r\n      </g>\r\n     </g>\r\n    </g>\r\n    <g id=\"xtick_7\">\r\n     <g id=\"line2d_7\">\r\n      <g>\r\n       <use style=\"stroke:#000000;stroke-width:0.8;\" x=\"316.528125\" xlink:href=\"#me0e131c73d\" y=\"554.599219\"/>\r\n      </g>\r\n     </g>\r\n     <g id=\"text_7\">\r\n      <!-- Parch -->\r\n      <g transform=\"translate(319.2875 589.028906)rotate(-90)scale(0.1 -0.1)\">\r\n       <defs>\r\n        <path d=\"M 3513 2113 \r\nL 3513 0 \r\nL 2938 0 \r\nL 2938 2094 \r\nQ 2938 2591 2744 2837 \r\nQ 2550 3084 2163 3084 \r\nQ 1697 3084 1428 2787 \r\nQ 1159 2491 1159 1978 \r\nL 1159 0 \r\nL 581 0 \r\nL 581 4863 \r\nL 1159 4863 \r\nL 1159 2956 \r\nQ 1366 3272 1645 3428 \r\nQ 1925 3584 2291 3584 \r\nQ 2894 3584 3203 3211 \r\nQ 3513 2838 3513 2113 \r\nz\r\n\" id=\"DejaVuSans-68\" transform=\"scale(0.015625)\"/>\r\n       </defs>\r\n       <use xlink:href=\"#DejaVuSans-50\"/>\r\n       <use x=\"55.802734\" xlink:href=\"#DejaVuSans-61\"/>\r\n       <use x=\"117.082031\" xlink:href=\"#DejaVuSans-72\"/>\r\n       <use x=\"155.945312\" xlink:href=\"#DejaVuSans-63\"/>\r\n       <use x=\"210.925781\" xlink:href=\"#DejaVuSans-68\"/>\r\n      </g>\r\n     </g>\r\n    </g>\r\n    <g id=\"xtick_8\">\r\n     <g id=\"line2d_8\">\r\n      <g>\r\n       <use style=\"stroke:#000000;stroke-width:0.8;\" x=\"353.728125\" xlink:href=\"#me0e131c73d\" y=\"554.599219\"/>\r\n      </g>\r\n     </g>\r\n     <g id=\"text_8\">\r\n      <!-- Fare -->\r\n      <g transform=\"translate(356.4875 582.605469)rotate(-90)scale(0.1 -0.1)\">\r\n       <defs>\r\n        <path d=\"M 628 4666 \r\nL 3309 4666 \r\nL 3309 4134 \r\nL 1259 4134 \r\nL 1259 2759 \r\nL 3109 2759 \r\nL 3109 2228 \r\nL 1259 2228 \r\nL 1259 0 \r\nL 628 0 \r\nL 628 4666 \r\nz\r\n\" id=\"DejaVuSans-46\" transform=\"scale(0.015625)\"/>\r\n       </defs>\r\n       <use xlink:href=\"#DejaVuSans-46\"/>\r\n       <use x=\"48.394531\" xlink:href=\"#DejaVuSans-61\"/>\r\n       <use x=\"109.673828\" xlink:href=\"#DejaVuSans-72\"/>\r\n       <use x=\"148.537109\" xlink:href=\"#DejaVuSans-65\"/>\r\n      </g>\r\n     </g>\r\n    </g>\r\n    <g id=\"xtick_9\">\r\n     <g id=\"line2d_9\">\r\n      <g>\r\n       <use style=\"stroke:#000000;stroke-width:0.8;\" x=\"390.928125\" xlink:href=\"#me0e131c73d\" y=\"554.599219\"/>\r\n      </g>\r\n     </g>\r\n     <g id=\"text_9\">\r\n      <!-- Embarked -->\r\n      <g transform=\"translate(393.6875 612.175781)rotate(-90)scale(0.1 -0.1)\">\r\n       <defs>\r\n        <path d=\"M 628 4666 \r\nL 3578 4666 \r\nL 3578 4134 \r\nL 1259 4134 \r\nL 1259 2753 \r\nL 3481 2753 \r\nL 3481 2222 \r\nL 1259 2222 \r\nL 1259 531 \r\nL 3634 531 \r\nL 3634 0 \r\nL 628 0 \r\nL 628 4666 \r\nz\r\n\" id=\"DejaVuSans-45\" transform=\"scale(0.015625)\"/>\r\n        <path d=\"M 3328 2828 \r\nQ 3544 3216 3844 3400 \r\nQ 4144 3584 4550 3584 \r\nQ 5097 3584 5394 3201 \r\nQ 5691 2819 5691 2113 \r\nL 5691 0 \r\nL 5113 0 \r\nL 5113 2094 \r\nQ 5113 2597 4934 2840 \r\nQ 4756 3084 4391 3084 \r\nQ 3944 3084 3684 2787 \r\nQ 3425 2491 3425 1978 \r\nL 3425 0 \r\nL 2847 0 \r\nL 2847 2094 \r\nQ 2847 2600 2669 2842 \r\nQ 2491 3084 2119 3084 \r\nQ 1678 3084 1418 2786 \r\nQ 1159 2488 1159 1978 \r\nL 1159 0 \r\nL 581 0 \r\nL 581 3500 \r\nL 1159 3500 \r\nL 1159 2956 \r\nQ 1356 3278 1631 3431 \r\nQ 1906 3584 2284 3584 \r\nQ 2666 3584 2933 3390 \r\nQ 3200 3197 3328 2828 \r\nz\r\n\" id=\"DejaVuSans-6d\" transform=\"scale(0.015625)\"/>\r\n        <path d=\"M 581 4863 \r\nL 1159 4863 \r\nL 1159 1991 \r\nL 2875 3500 \r\nL 3609 3500 \r\nL 1753 1863 \r\nL 3688 0 \r\nL 2938 0 \r\nL 1159 1709 \r\nL 1159 0 \r\nL 581 0 \r\nL 581 4863 \r\nz\r\n\" id=\"DejaVuSans-6b\" transform=\"scale(0.015625)\"/>\r\n       </defs>\r\n       <use xlink:href=\"#DejaVuSans-45\"/>\r\n       <use x=\"63.183594\" xlink:href=\"#DejaVuSans-6d\"/>\r\n       <use x=\"160.595703\" xlink:href=\"#DejaVuSans-62\"/>\r\n       <use x=\"224.072266\" xlink:href=\"#DejaVuSans-61\"/>\r\n       <use x=\"285.351562\" xlink:href=\"#DejaVuSans-72\"/>\r\n       <use x=\"326.464844\" xlink:href=\"#DejaVuSans-6b\"/>\r\n       <use x=\"380.75\" xlink:href=\"#DejaVuSans-65\"/>\r\n       <use x=\"442.273438\" xlink:href=\"#DejaVuSans-64\"/>\r\n      </g>\r\n     </g>\r\n    </g>\r\n    <g id=\"xtick_10\">\r\n     <g id=\"line2d_10\">\r\n      <g>\r\n       <use style=\"stroke:#000000;stroke-width:0.8;\" x=\"428.128125\" xlink:href=\"#me0e131c73d\" y=\"554.599219\"/>\r\n      </g>\r\n     </g>\r\n     <g id=\"text_10\">\r\n      <!-- Title -->\r\n      <g transform=\"translate(430.8875 583.024219)rotate(-90)scale(0.1 -0.1)\">\r\n       <defs>\r\n        <path d=\"M -19 4666 \r\nL 3928 4666 \r\nL 3928 4134 \r\nL 2272 4134 \r\nL 2272 0 \r\nL 1638 0 \r\nL 1638 4134 \r\nL -19 4134 \r\nL -19 4666 \r\nz\r\n\" id=\"DejaVuSans-54\" transform=\"scale(0.015625)\"/>\r\n        <path d=\"M 1172 4494 \r\nL 1172 3500 \r\nL 2356 3500 \r\nL 2356 3053 \r\nL 1172 3053 \r\nL 1172 1153 \r\nQ 1172 725 1289 603 \r\nQ 1406 481 1766 481 \r\nL 2356 481 \r\nL 2356 0 \r\nL 1766 0 \r\nQ 1100 0 847 248 \r\nQ 594 497 594 1153 \r\nL 594 3053 \r\nL 172 3053 \r\nL 172 3500 \r\nL 594 3500 \r\nL 594 4494 \r\nL 1172 4494 \r\nz\r\n\" id=\"DejaVuSans-74\" transform=\"scale(0.015625)\"/>\r\n       </defs>\r\n       <use xlink:href=\"#DejaVuSans-54\"/>\r\n       <use x=\"57.958984\" xlink:href=\"#DejaVuSans-69\"/>\r\n       <use x=\"85.742188\" xlink:href=\"#DejaVuSans-74\"/>\r\n       <use x=\"124.951172\" xlink:href=\"#DejaVuSans-6c\"/>\r\n       <use x=\"152.734375\" xlink:href=\"#DejaVuSans-65\"/>\r\n      </g>\r\n     </g>\r\n    </g>\r\n    <g id=\"xtick_11\">\r\n     <g id=\"line2d_11\">\r\n      <g>\r\n       <use style=\"stroke:#000000;stroke-width:0.8;\" x=\"465.328125\" xlink:href=\"#me0e131c73d\" y=\"554.599219\"/>\r\n      </g>\r\n     </g>\r\n     <g id=\"text_11\">\r\n      <!-- FamilySize -->\r\n      <g transform=\"translate(468.0875 614.310156)rotate(-90)scale(0.1 -0.1)\">\r\n       <defs>\r\n        <path d=\"M 2059 -325 \r\nQ 1816 -950 1584 -1140 \r\nQ 1353 -1331 966 -1331 \r\nL 506 -1331 \r\nL 506 -850 \r\nL 844 -850 \r\nQ 1081 -850 1212 -737 \r\nQ 1344 -625 1503 -206 \r\nL 1606 56 \r\nL 191 3500 \r\nL 800 3500 \r\nL 1894 763 \r\nL 2988 3500 \r\nL 3597 3500 \r\nL 2059 -325 \r\nz\r\n\" id=\"DejaVuSans-79\" transform=\"scale(0.015625)\"/>\r\n        <path d=\"M 353 3500 \r\nL 3084 3500 \r\nL 3084 2975 \r\nL 922 459 \r\nL 3084 459 \r\nL 3084 0 \r\nL 275 0 \r\nL 275 525 \r\nL 2438 3041 \r\nL 353 3041 \r\nL 353 3500 \r\nz\r\n\" id=\"DejaVuSans-7a\" transform=\"scale(0.015625)\"/>\r\n       </defs>\r\n       <use xlink:href=\"#DejaVuSans-46\"/>\r\n       <use x=\"48.394531\" xlink:href=\"#DejaVuSans-61\"/>\r\n       <use x=\"109.673828\" xlink:href=\"#DejaVuSans-6d\"/>\r\n       <use x=\"207.085938\" xlink:href=\"#DejaVuSans-69\"/>\r\n       <use x=\"234.869141\" xlink:href=\"#DejaVuSans-6c\"/>\r\n       <use x=\"262.652344\" xlink:href=\"#DejaVuSans-79\"/>\r\n       <use x=\"321.832031\" xlink:href=\"#DejaVuSans-53\"/>\r\n       <use x=\"385.308594\" xlink:href=\"#DejaVuSans-69\"/>\r\n       <use x=\"413.091797\" xlink:href=\"#DejaVuSans-7a\"/>\r\n       <use x=\"465.582031\" xlink:href=\"#DejaVuSans-65\"/>\r\n      </g>\r\n     </g>\r\n    </g>\r\n    <g id=\"xtick_12\">\r\n     <g id=\"line2d_12\">\r\n      <g>\r\n       <use style=\"stroke:#000000;stroke-width:0.8;\" x=\"502.528125\" xlink:href=\"#me0e131c73d\" y=\"554.599219\"/>\r\n      </g>\r\n     </g>\r\n     <g id=\"text_12\">\r\n      <!-- IsAlone -->\r\n      <g transform=\"translate(505.2875 597.986719)rotate(-90)scale(0.1 -0.1)\">\r\n       <defs>\r\n        <path d=\"M 1959 3097 \r\nQ 1497 3097 1228 2736 \r\nQ 959 2375 959 1747 \r\nQ 959 1119 1226 758 \r\nQ 1494 397 1959 397 \r\nQ 2419 397 2687 759 \r\nQ 2956 1122 2956 1747 \r\nQ 2956 2369 2687 2733 \r\nQ 2419 3097 1959 3097 \r\nz\r\nM 1959 3584 \r\nQ 2709 3584 3137 3096 \r\nQ 3566 2609 3566 1747 \r\nQ 3566 888 3137 398 \r\nQ 2709 -91 1959 -91 \r\nQ 1206 -91 779 398 \r\nQ 353 888 353 1747 \r\nQ 353 2609 779 3096 \r\nQ 1206 3584 1959 3584 \r\nz\r\n\" id=\"DejaVuSans-6f\" transform=\"scale(0.015625)\"/>\r\n       </defs>\r\n       <use xlink:href=\"#DejaVuSans-49\"/>\r\n       <use x=\"29.492188\" xlink:href=\"#DejaVuSans-73\"/>\r\n       <use x=\"81.591797\" xlink:href=\"#DejaVuSans-41\"/>\r\n       <use x=\"150\" xlink:href=\"#DejaVuSans-6c\"/>\r\n       <use x=\"177.783203\" xlink:href=\"#DejaVuSans-6f\"/>\r\n       <use x=\"238.964844\" xlink:href=\"#DejaVuSans-6e\"/>\r\n       <use x=\"302.34375\" xlink:href=\"#DejaVuSans-65\"/>\r\n      </g>\r\n     </g>\r\n    </g>\r\n   </g>\r\n   <g id=\"matplotlib.axis_2\">\r\n    <g id=\"ytick_1\">\r\n     <g id=\"line2d_13\">\r\n      <defs>\r\n       <path d=\"M 0 0 \r\nL -3.5 0 \r\n\" id=\"mc2734fc576\" style=\"stroke:#000000;stroke-width:0.8;\"/>\r\n      </defs>\r\n      <g>\r\n       <use style=\"stroke:#000000;stroke-width:0.8;\" x=\"74.728125\" xlink:href=\"#mc2734fc576\" y=\"33.649219\"/>\r\n      </g>\r\n     </g>\r\n     <g id=\"text_13\">\r\n      <!-- PassengerId -->\r\n      <g transform=\"translate(7.2 36.408594)scale(0.1 -0.1)\">\r\n       <use xlink:href=\"#DejaVuSans-50\"/>\r\n       <use x=\"55.802734\" xlink:href=\"#DejaVuSans-61\"/>\r\n       <use x=\"117.082031\" xlink:href=\"#DejaVuSans-73\"/>\r\n       <use x=\"169.181641\" xlink:href=\"#DejaVuSans-73\"/>\r\n       <use x=\"221.28125\" xlink:href=\"#DejaVuSans-65\"/>\r\n       <use x=\"282.804688\" xlink:href=\"#DejaVuSans-6e\"/>\r\n       <use x=\"346.183594\" xlink:href=\"#DejaVuSans-67\"/>\r\n       <use x=\"409.660156\" xlink:href=\"#DejaVuSans-65\"/>\r\n       <use x=\"471.183594\" xlink:href=\"#DejaVuSans-72\"/>\r\n       <use x=\"512.296875\" xlink:href=\"#DejaVuSans-49\"/>\r\n       <use x=\"541.789062\" xlink:href=\"#DejaVuSans-64\"/>\r\n      </g>\r\n     </g>\r\n    </g>\r\n    <g id=\"ytick_2\">\r\n     <g id=\"line2d_14\">\r\n      <g>\r\n       <use style=\"stroke:#000000;stroke-width:0.8;\" x=\"74.728125\" xlink:href=\"#mc2734fc576\" y=\"78.949219\"/>\r\n      </g>\r\n     </g>\r\n     <g id=\"text_14\">\r\n      <!-- Survived -->\r\n      <g transform=\"translate(23.814063 81.708594)scale(0.1 -0.1)\">\r\n       <use xlink:href=\"#DejaVuSans-53\"/>\r\n       <use x=\"63.476562\" xlink:href=\"#DejaVuSans-75\"/>\r\n       <use x=\"126.855469\" xlink:href=\"#DejaVuSans-72\"/>\r\n       <use x=\"167.96875\" xlink:href=\"#DejaVuSans-76\"/>\r\n       <use x=\"227.148438\" xlink:href=\"#DejaVuSans-69\"/>\r\n       <use x=\"254.931641\" xlink:href=\"#DejaVuSans-76\"/>\r\n       <use x=\"314.111328\" xlink:href=\"#DejaVuSans-65\"/>\r\n       <use x=\"375.634766\" xlink:href=\"#DejaVuSans-64\"/>\r\n      </g>\r\n     </g>\r\n    </g>\r\n    <g id=\"ytick_3\">\r\n     <g id=\"line2d_15\">\r\n      <g>\r\n       <use style=\"stroke:#000000;stroke-width:0.8;\" x=\"74.728125\" xlink:href=\"#mc2734fc576\" y=\"124.249219\"/>\r\n      </g>\r\n     </g>\r\n     <g id=\"text_15\">\r\n      <!-- Pclass -->\r\n      <g transform=\"translate(36.875 127.008594)scale(0.1 -0.1)\">\r\n       <use xlink:href=\"#DejaVuSans-50\"/>\r\n       <use x=\"60.302734\" xlink:href=\"#DejaVuSans-63\"/>\r\n       <use x=\"115.283203\" xlink:href=\"#DejaVuSans-6c\"/>\r\n       <use x=\"143.066406\" xlink:href=\"#DejaVuSans-61\"/>\r\n       <use x=\"204.345703\" xlink:href=\"#DejaVuSans-73\"/>\r\n       <use x=\"256.445312\" xlink:href=\"#DejaVuSans-73\"/>\r\n      </g>\r\n     </g>\r\n    </g>\r\n    <g id=\"ytick_4\">\r\n     <g id=\"line2d_16\">\r\n      <g>\r\n       <use style=\"stroke:#000000;stroke-width:0.8;\" x=\"74.728125\" xlink:href=\"#mc2734fc576\" y=\"169.549219\"/>\r\n      </g>\r\n     </g>\r\n     <g id=\"text_16\">\r\n      <!-- Sex -->\r\n      <g transform=\"translate(49.482813 172.308594)scale(0.1 -0.1)\">\r\n       <use xlink:href=\"#DejaVuSans-53\"/>\r\n       <use x=\"63.476562\" xlink:href=\"#DejaVuSans-65\"/>\r\n       <use x=\"123.25\" xlink:href=\"#DejaVuSans-78\"/>\r\n      </g>\r\n     </g>\r\n    </g>\r\n    <g id=\"ytick_5\">\r\n     <g id=\"line2d_17\">\r\n      <g>\r\n       <use style=\"stroke:#000000;stroke-width:0.8;\" x=\"74.728125\" xlink:href=\"#mc2734fc576\" y=\"214.849219\"/>\r\n      </g>\r\n     </g>\r\n     <g id=\"text_17\">\r\n      <!-- Age -->\r\n      <g transform=\"translate(48.385938 217.608594)scale(0.1 -0.1)\">\r\n       <use xlink:href=\"#DejaVuSans-41\"/>\r\n       <use x=\"68.408203\" xlink:href=\"#DejaVuSans-67\"/>\r\n       <use x=\"131.884766\" xlink:href=\"#DejaVuSans-65\"/>\r\n      </g>\r\n     </g>\r\n    </g>\r\n    <g id=\"ytick_6\">\r\n     <g id=\"line2d_18\">\r\n      <g>\r\n       <use style=\"stroke:#000000;stroke-width:0.8;\" x=\"74.728125\" xlink:href=\"#mc2734fc576\" y=\"260.149219\"/>\r\n      </g>\r\n     </g>\r\n     <g id=\"text_18\">\r\n      <!-- SibSp -->\r\n      <g transform=\"translate(39.55625 262.908594)scale(0.1 -0.1)\">\r\n       <use xlink:href=\"#DejaVuSans-53\"/>\r\n       <use x=\"63.476562\" xlink:href=\"#DejaVuSans-69\"/>\r\n       <use x=\"91.259766\" xlink:href=\"#DejaVuSans-62\"/>\r\n       <use x=\"154.736328\" xlink:href=\"#DejaVuSans-53\"/>\r\n       <use x=\"218.212891\" xlink:href=\"#DejaVuSans-70\"/>\r\n      </g>\r\n     </g>\r\n    </g>\r\n    <g id=\"ytick_7\">\r\n     <g id=\"line2d_19\">\r\n      <g>\r\n       <use style=\"stroke:#000000;stroke-width:0.8;\" x=\"74.728125\" xlink:href=\"#mc2734fc576\" y=\"305.449219\"/>\r\n      </g>\r\n     </g>\r\n     <g id=\"text_19\">\r\n      <!-- Parch -->\r\n      <g transform=\"translate(40.298438 308.208594)scale(0.1 -0.1)\">\r\n       <use xlink:href=\"#DejaVuSans-50\"/>\r\n       <use x=\"55.802734\" xlink:href=\"#DejaVuSans-61\"/>\r\n       <use x=\"117.082031\" xlink:href=\"#DejaVuSans-72\"/>\r\n       <use x=\"155.945312\" xlink:href=\"#DejaVuSans-63\"/>\r\n       <use x=\"210.925781\" xlink:href=\"#DejaVuSans-68\"/>\r\n      </g>\r\n     </g>\r\n    </g>\r\n    <g id=\"ytick_8\">\r\n     <g id=\"line2d_20\">\r\n      <g>\r\n       <use style=\"stroke:#000000;stroke-width:0.8;\" x=\"74.728125\" xlink:href=\"#mc2734fc576\" y=\"350.749219\"/>\r\n      </g>\r\n     </g>\r\n     <g id=\"text_20\">\r\n      <!-- Fare -->\r\n      <g transform=\"translate(46.721875 353.508594)scale(0.1 -0.1)\">\r\n       <use xlink:href=\"#DejaVuSans-46\"/>\r\n       <use x=\"48.394531\" xlink:href=\"#DejaVuSans-61\"/>\r\n       <use x=\"109.673828\" xlink:href=\"#DejaVuSans-72\"/>\r\n       <use x=\"148.537109\" xlink:href=\"#DejaVuSans-65\"/>\r\n      </g>\r\n     </g>\r\n    </g>\r\n    <g id=\"ytick_9\">\r\n     <g id=\"line2d_21\">\r\n      <g>\r\n       <use style=\"stroke:#000000;stroke-width:0.8;\" x=\"74.728125\" xlink:href=\"#mc2734fc576\" y=\"396.049219\"/>\r\n      </g>\r\n     </g>\r\n     <g id=\"text_21\">\r\n      <!-- Embarked -->\r\n      <g transform=\"translate(17.151563 398.808594)scale(0.1 -0.1)\">\r\n       <use xlink:href=\"#DejaVuSans-45\"/>\r\n       <use x=\"63.183594\" xlink:href=\"#DejaVuSans-6d\"/>\r\n       <use x=\"160.595703\" xlink:href=\"#DejaVuSans-62\"/>\r\n       <use x=\"224.072266\" xlink:href=\"#DejaVuSans-61\"/>\r\n       <use x=\"285.351562\" xlink:href=\"#DejaVuSans-72\"/>\r\n       <use x=\"326.464844\" xlink:href=\"#DejaVuSans-6b\"/>\r\n       <use x=\"380.75\" xlink:href=\"#DejaVuSans-65\"/>\r\n       <use x=\"442.273438\" xlink:href=\"#DejaVuSans-64\"/>\r\n      </g>\r\n     </g>\r\n    </g>\r\n    <g id=\"ytick_10\">\r\n     <g id=\"line2d_22\">\r\n      <g>\r\n       <use style=\"stroke:#000000;stroke-width:0.8;\" x=\"74.728125\" xlink:href=\"#mc2734fc576\" y=\"441.349219\"/>\r\n      </g>\r\n     </g>\r\n     <g id=\"text_22\">\r\n      <!-- Title -->\r\n      <g transform=\"translate(46.303125 444.108594)scale(0.1 -0.1)\">\r\n       <use xlink:href=\"#DejaVuSans-54\"/>\r\n       <use x=\"57.958984\" xlink:href=\"#DejaVuSans-69\"/>\r\n       <use x=\"85.742188\" xlink:href=\"#DejaVuSans-74\"/>\r\n       <use x=\"124.951172\" xlink:href=\"#DejaVuSans-6c\"/>\r\n       <use x=\"152.734375\" xlink:href=\"#DejaVuSans-65\"/>\r\n      </g>\r\n     </g>\r\n    </g>\r\n    <g id=\"ytick_11\">\r\n     <g id=\"line2d_23\">\r\n      <g>\r\n       <use style=\"stroke:#000000;stroke-width:0.8;\" x=\"74.728125\" xlink:href=\"#mc2734fc576\" y=\"486.649219\"/>\r\n      </g>\r\n     </g>\r\n     <g id=\"text_23\">\r\n      <!-- FamilySize -->\r\n      <g transform=\"translate(15.017188 489.408594)scale(0.1 -0.1)\">\r\n       <use xlink:href=\"#DejaVuSans-46\"/>\r\n       <use x=\"48.394531\" xlink:href=\"#DejaVuSans-61\"/>\r\n       <use x=\"109.673828\" xlink:href=\"#DejaVuSans-6d\"/>\r\n       <use x=\"207.085938\" xlink:href=\"#DejaVuSans-69\"/>\r\n       <use x=\"234.869141\" xlink:href=\"#DejaVuSans-6c\"/>\r\n       <use x=\"262.652344\" xlink:href=\"#DejaVuSans-79\"/>\r\n       <use x=\"321.832031\" xlink:href=\"#DejaVuSans-53\"/>\r\n       <use x=\"385.308594\" xlink:href=\"#DejaVuSans-69\"/>\r\n       <use x=\"413.091797\" xlink:href=\"#DejaVuSans-7a\"/>\r\n       <use x=\"465.582031\" xlink:href=\"#DejaVuSans-65\"/>\r\n      </g>\r\n     </g>\r\n    </g>\r\n    <g id=\"ytick_12\">\r\n     <g id=\"line2d_24\">\r\n      <g>\r\n       <use style=\"stroke:#000000;stroke-width:0.8;\" x=\"74.728125\" xlink:href=\"#mc2734fc576\" y=\"531.949219\"/>\r\n      </g>\r\n     </g>\r\n     <g id=\"text_24\">\r\n      <!-- IsAlone -->\r\n      <g transform=\"translate(31.340625 534.708594)scale(0.1 -0.1)\">\r\n       <use xlink:href=\"#DejaVuSans-49\"/>\r\n       <use x=\"29.492188\" xlink:href=\"#DejaVuSans-73\"/>\r\n       <use x=\"81.591797\" xlink:href=\"#DejaVuSans-41\"/>\r\n       <use x=\"150\" xlink:href=\"#DejaVuSans-6c\"/>\r\n       <use x=\"177.783203\" xlink:href=\"#DejaVuSans-6f\"/>\r\n       <use x=\"238.964844\" xlink:href=\"#DejaVuSans-6e\"/>\r\n       <use x=\"302.34375\" xlink:href=\"#DejaVuSans-65\"/>\r\n      </g>\r\n     </g>\r\n    </g>\r\n   </g>\r\n   <g id=\"text_25\">\r\n    <!-- 1 -->\r\n    <g style=\"fill:#ffffff;\" transform=\"translate(90.146875 36.408594)scale(0.1 -0.1)\">\r\n     <defs>\r\n      <path d=\"M 794 531 \r\nL 1825 531 \r\nL 1825 4091 \r\nL 703 3866 \r\nL 703 4441 \r\nL 1819 4666 \r\nL 2450 4666 \r\nL 2450 531 \r\nL 3481 531 \r\nL 3481 0 \r\nL 794 0 \r\nL 794 531 \r\nz\r\n\" id=\"DejaVuSans-31\" transform=\"scale(0.015625)\"/>\r\n     </defs>\r\n     <use xlink:href=\"#DejaVuSans-31\"/>\r\n    </g>\r\n   </g>\r\n   <g id=\"text_26\">\r\n    <!-- -0.02 -->\r\n    <g style=\"fill:#262626;\" transform=\"translate(117.591406 36.408594)scale(0.1 -0.1)\">\r\n     <defs>\r\n      <path d=\"M 313 2009 \r\nL 1997 2009 \r\nL 1997 1497 \r\nL 313 1497 \r\nL 313 2009 \r\nz\r\n\" id=\"DejaVuSans-2d\" transform=\"scale(0.015625)\"/>\r\n      <path d=\"M 2034 4250 \r\nQ 1547 4250 1301 3770 \r\nQ 1056 3291 1056 2328 \r\nQ 1056 1369 1301 889 \r\nQ 1547 409 2034 409 \r\nQ 2525 409 2770 889 \r\nQ 3016 1369 3016 2328 \r\nQ 3016 3291 2770 3770 \r\nQ 2525 4250 2034 4250 \r\nz\r\nM 2034 4750 \r\nQ 2819 4750 3233 4129 \r\nQ 3647 3509 3647 2328 \r\nQ 3647 1150 3233 529 \r\nQ 2819 -91 2034 -91 \r\nQ 1250 -91 836 529 \r\nQ 422 1150 422 2328 \r\nQ 422 3509 836 4129 \r\nQ 1250 4750 2034 4750 \r\nz\r\n\" id=\"DejaVuSans-30\" transform=\"scale(0.015625)\"/>\r\n      <path d=\"M 684 794 \r\nL 1344 794 \r\nL 1344 0 \r\nL 684 0 \r\nL 684 794 \r\nz\r\n\" id=\"DejaVuSans-2e\" transform=\"scale(0.015625)\"/>\r\n      <path d=\"M 1228 531 \r\nL 3431 531 \r\nL 3431 0 \r\nL 469 0 \r\nL 469 531 \r\nQ 828 903 1448 1529 \r\nQ 2069 2156 2228 2338 \r\nQ 2531 2678 2651 2914 \r\nQ 2772 3150 2772 3378 \r\nQ 2772 3750 2511 3984 \r\nQ 2250 4219 1831 4219 \r\nQ 1534 4219 1204 4116 \r\nQ 875 4013 500 3803 \r\nL 500 4441 \r\nQ 881 4594 1212 4672 \r\nQ 1544 4750 1819 4750 \r\nQ 2544 4750 2975 4387 \r\nQ 3406 4025 3406 3419 \r\nQ 3406 3131 3298 2873 \r\nQ 3191 2616 2906 2266 \r\nQ 2828 2175 2409 1742 \r\nQ 1991 1309 1228 531 \r\nz\r\n\" id=\"DejaVuSans-32\" transform=\"scale(0.015625)\"/>\r\n     </defs>\r\n     <use xlink:href=\"#DejaVuSans-2d\"/>\r\n     <use x=\"36.083984\" xlink:href=\"#DejaVuSans-30\"/>\r\n     <use x=\"99.707031\" xlink:href=\"#DejaVuSans-2e\"/>\r\n     <use x=\"131.494141\" xlink:href=\"#DejaVuSans-30\"/>\r\n     <use x=\"195.117188\" xlink:href=\"#DejaVuSans-32\"/>\r\n    </g>\r\n   </g>\r\n   <g id=\"text_27\">\r\n    <!-- -0.038 -->\r\n    <g style=\"fill:#262626;\" transform=\"translate(151.610156 36.408594)scale(0.1 -0.1)\">\r\n     <defs>\r\n      <path d=\"M 2597 2516 \r\nQ 3050 2419 3304 2112 \r\nQ 3559 1806 3559 1356 \r\nQ 3559 666 3084 287 \r\nQ 2609 -91 1734 -91 \r\nQ 1441 -91 1130 -33 \r\nQ 819 25 488 141 \r\nL 488 750 \r\nQ 750 597 1062 519 \r\nQ 1375 441 1716 441 \r\nQ 2309 441 2620 675 \r\nQ 2931 909 2931 1356 \r\nQ 2931 1769 2642 2001 \r\nQ 2353 2234 1838 2234 \r\nL 1294 2234 \r\nL 1294 2753 \r\nL 1863 2753 \r\nQ 2328 2753 2575 2939 \r\nQ 2822 3125 2822 3475 \r\nQ 2822 3834 2567 4026 \r\nQ 2313 4219 1838 4219 \r\nQ 1578 4219 1281 4162 \r\nQ 984 4106 628 3988 \r\nL 628 4550 \r\nQ 988 4650 1302 4700 \r\nQ 1616 4750 1894 4750 \r\nQ 2613 4750 3031 4423 \r\nQ 3450 4097 3450 3541 \r\nQ 3450 3153 3228 2886 \r\nQ 3006 2619 2597 2516 \r\nz\r\n\" id=\"DejaVuSans-33\" transform=\"scale(0.015625)\"/>\r\n      <path d=\"M 2034 2216 \r\nQ 1584 2216 1326 1975 \r\nQ 1069 1734 1069 1313 \r\nQ 1069 891 1326 650 \r\nQ 1584 409 2034 409 \r\nQ 2484 409 2743 651 \r\nQ 3003 894 3003 1313 \r\nQ 3003 1734 2745 1975 \r\nQ 2488 2216 2034 2216 \r\nz\r\nM 1403 2484 \r\nQ 997 2584 770 2862 \r\nQ 544 3141 544 3541 \r\nQ 544 4100 942 4425 \r\nQ 1341 4750 2034 4750 \r\nQ 2731 4750 3128 4425 \r\nQ 3525 4100 3525 3541 \r\nQ 3525 3141 3298 2862 \r\nQ 3072 2584 2669 2484 \r\nQ 3125 2378 3379 2068 \r\nQ 3634 1759 3634 1313 \r\nQ 3634 634 3220 271 \r\nQ 2806 -91 2034 -91 \r\nQ 1263 -91 848 271 \r\nQ 434 634 434 1313 \r\nQ 434 1759 690 2068 \r\nQ 947 2378 1403 2484 \r\nz\r\nM 1172 3481 \r\nQ 1172 3119 1398 2916 \r\nQ 1625 2713 2034 2713 \r\nQ 2441 2713 2670 2916 \r\nQ 2900 3119 2900 3481 \r\nQ 2900 3844 2670 4047 \r\nQ 2441 4250 2034 4250 \r\nQ 1625 4250 1398 4047 \r\nQ 1172 3844 1172 3481 \r\nz\r\n\" id=\"DejaVuSans-38\" transform=\"scale(0.015625)\"/>\r\n     </defs>\r\n     <use xlink:href=\"#DejaVuSans-2d\"/>\r\n     <use x=\"36.083984\" xlink:href=\"#DejaVuSans-30\"/>\r\n     <use x=\"99.707031\" xlink:href=\"#DejaVuSans-2e\"/>\r\n     <use x=\"131.494141\" xlink:href=\"#DejaVuSans-30\"/>\r\n     <use x=\"195.117188\" xlink:href=\"#DejaVuSans-33\"/>\r\n     <use x=\"258.740234\" xlink:href=\"#DejaVuSans-38\"/>\r\n    </g>\r\n   </g>\r\n   <g id=\"text_28\">\r\n    <!-- -0.013 -->\r\n    <g style=\"fill:#262626;\" transform=\"translate(188.810156 36.408594)scale(0.1 -0.1)\">\r\n     <use xlink:href=\"#DejaVuSans-2d\"/>\r\n     <use x=\"36.083984\" xlink:href=\"#DejaVuSans-30\"/>\r\n     <use x=\"99.707031\" xlink:href=\"#DejaVuSans-2e\"/>\r\n     <use x=\"131.494141\" xlink:href=\"#DejaVuSans-30\"/>\r\n     <use x=\"195.117188\" xlink:href=\"#DejaVuSans-31\"/>\r\n     <use x=\"258.740234\" xlink:href=\"#DejaVuSans-33\"/>\r\n    </g>\r\n   </g>\r\n   <g id=\"text_29\">\r\n    <!-- 0.03 -->\r\n    <g style=\"fill:#262626;\" transform=\"translate(230.995313 36.408594)scale(0.1 -0.1)\">\r\n     <use xlink:href=\"#DejaVuSans-30\"/>\r\n     <use x=\"63.623047\" xlink:href=\"#DejaVuSans-2e\"/>\r\n     <use x=\"95.410156\" xlink:href=\"#DejaVuSans-30\"/>\r\n     <use x=\"159.033203\" xlink:href=\"#DejaVuSans-33\"/>\r\n    </g>\r\n   </g>\r\n   <g id=\"text_30\">\r\n    <!-- -0.055 -->\r\n    <g style=\"fill:#262626;\" transform=\"translate(263.210156 36.408594)scale(0.1 -0.1)\">\r\n     <defs>\r\n      <path d=\"M 691 4666 \r\nL 3169 4666 \r\nL 3169 4134 \r\nL 1269 4134 \r\nL 1269 2991 \r\nQ 1406 3038 1543 3061 \r\nQ 1681 3084 1819 3084 \r\nQ 2600 3084 3056 2656 \r\nQ 3513 2228 3513 1497 \r\nQ 3513 744 3044 326 \r\nQ 2575 -91 1722 -91 \r\nQ 1428 -91 1123 -41 \r\nQ 819 9 494 109 \r\nL 494 744 \r\nQ 775 591 1075 516 \r\nQ 1375 441 1709 441 \r\nQ 2250 441 2565 725 \r\nQ 2881 1009 2881 1497 \r\nQ 2881 1984 2565 2268 \r\nQ 2250 2553 1709 2553 \r\nQ 1456 2553 1204 2497 \r\nQ 953 2441 691 2322 \r\nL 691 4666 \r\nz\r\n\" id=\"DejaVuSans-35\" transform=\"scale(0.015625)\"/>\r\n     </defs>\r\n     <use xlink:href=\"#DejaVuSans-2d\"/>\r\n     <use x=\"36.083984\" xlink:href=\"#DejaVuSans-30\"/>\r\n     <use x=\"99.707031\" xlink:href=\"#DejaVuSans-2e\"/>\r\n     <use x=\"131.494141\" xlink:href=\"#DejaVuSans-30\"/>\r\n     <use x=\"195.117188\" xlink:href=\"#DejaVuSans-35\"/>\r\n     <use x=\"258.740234\" xlink:href=\"#DejaVuSans-35\"/>\r\n    </g>\r\n   </g>\r\n   <g id=\"text_31\">\r\n    <!-- 0.0089 -->\r\n    <g style=\"fill:#262626;\" transform=\"translate(299.032813 36.408594)scale(0.1 -0.1)\">\r\n     <defs>\r\n      <path d=\"M 703 97 \r\nL 703 672 \r\nQ 941 559 1184 500 \r\nQ 1428 441 1663 441 \r\nQ 2288 441 2617 861 \r\nQ 2947 1281 2994 2138 \r\nQ 2813 1869 2534 1725 \r\nQ 2256 1581 1919 1581 \r\nQ 1219 1581 811 2004 \r\nQ 403 2428 403 3163 \r\nQ 403 3881 828 4315 \r\nQ 1253 4750 1959 4750 \r\nQ 2769 4750 3195 4129 \r\nQ 3622 3509 3622 2328 \r\nQ 3622 1225 3098 567 \r\nQ 2575 -91 1691 -91 \r\nQ 1453 -91 1209 -44 \r\nQ 966 3 703 97 \r\nz\r\nM 1959 2075 \r\nQ 2384 2075 2632 2365 \r\nQ 2881 2656 2881 3163 \r\nQ 2881 3666 2632 3958 \r\nQ 2384 4250 1959 4250 \r\nQ 1534 4250 1286 3958 \r\nQ 1038 3666 1038 3163 \r\nQ 1038 2656 1286 2365 \r\nQ 1534 2075 1959 2075 \r\nz\r\n\" id=\"DejaVuSans-39\" transform=\"scale(0.015625)\"/>\r\n     </defs>\r\n     <use xlink:href=\"#DejaVuSans-30\"/>\r\n     <use x=\"63.623047\" xlink:href=\"#DejaVuSans-2e\"/>\r\n     <use x=\"95.410156\" xlink:href=\"#DejaVuSans-30\"/>\r\n     <use x=\"159.033203\" xlink:href=\"#DejaVuSans-30\"/>\r\n     <use x=\"222.65625\" xlink:href=\"#DejaVuSans-38\"/>\r\n     <use x=\"286.279297\" xlink:href=\"#DejaVuSans-39\"/>\r\n    </g>\r\n   </g>\r\n   <g id=\"text_32\">\r\n    <!-- 0.031 -->\r\n    <g style=\"fill:#262626;\" transform=\"translate(339.414062 36.408594)scale(0.1 -0.1)\">\r\n     <use xlink:href=\"#DejaVuSans-30\"/>\r\n     <use x=\"63.623047\" xlink:href=\"#DejaVuSans-2e\"/>\r\n     <use x=\"95.410156\" xlink:href=\"#DejaVuSans-30\"/>\r\n     <use x=\"159.033203\" xlink:href=\"#DejaVuSans-33\"/>\r\n     <use x=\"222.65625\" xlink:href=\"#DejaVuSans-31\"/>\r\n    </g>\r\n   </g>\r\n   <g id=\"text_33\">\r\n    <!-- 0.04 -->\r\n    <g style=\"fill:#262626;\" transform=\"translate(379.795313 36.408594)scale(0.1 -0.1)\">\r\n     <defs>\r\n      <path d=\"M 2419 4116 \r\nL 825 1625 \r\nL 2419 1625 \r\nL 2419 4116 \r\nz\r\nM 2253 4666 \r\nL 3047 4666 \r\nL 3047 1625 \r\nL 3713 1625 \r\nL 3713 1100 \r\nL 3047 1100 \r\nL 3047 0 \r\nL 2419 0 \r\nL 2419 1100 \r\nL 313 1100 \r\nL 313 1709 \r\nL 2253 4666 \r\nz\r\n\" id=\"DejaVuSans-34\" transform=\"scale(0.015625)\"/>\r\n     </defs>\r\n     <use xlink:href=\"#DejaVuSans-30\"/>\r\n     <use x=\"63.623047\" xlink:href=\"#DejaVuSans-2e\"/>\r\n     <use x=\"95.410156\" xlink:href=\"#DejaVuSans-30\"/>\r\n     <use x=\"159.033203\" xlink:href=\"#DejaVuSans-34\"/>\r\n    </g>\r\n   </g>\r\n   <g id=\"text_34\">\r\n    <!-- 0.0073 -->\r\n    <g style=\"fill:#262626;\" transform=\"translate(410.632813 36.408594)scale(0.1 -0.1)\">\r\n     <defs>\r\n      <path d=\"M 525 4666 \r\nL 3525 4666 \r\nL 3525 4397 \r\nL 1831 0 \r\nL 1172 0 \r\nL 2766 4134 \r\nL 525 4134 \r\nL 525 4666 \r\nz\r\n\" id=\"DejaVuSans-37\" transform=\"scale(0.015625)\"/>\r\n     </defs>\r\n     <use xlink:href=\"#DejaVuSans-30\"/>\r\n     <use x=\"63.623047\" xlink:href=\"#DejaVuSans-2e\"/>\r\n     <use x=\"95.410156\" xlink:href=\"#DejaVuSans-30\"/>\r\n     <use x=\"159.033203\" xlink:href=\"#DejaVuSans-30\"/>\r\n     <use x=\"222.65625\" xlink:href=\"#DejaVuSans-37\"/>\r\n     <use x=\"286.279297\" xlink:href=\"#DejaVuSans-33\"/>\r\n    </g>\r\n   </g>\r\n   <g id=\"text_35\">\r\n    <!-- -0.031 -->\r\n    <g style=\"fill:#262626;\" transform=\"translate(449.210156 36.408594)scale(0.1 -0.1)\">\r\n     <use xlink:href=\"#DejaVuSans-2d\"/>\r\n     <use x=\"36.083984\" xlink:href=\"#DejaVuSans-30\"/>\r\n     <use x=\"99.707031\" xlink:href=\"#DejaVuSans-2e\"/>\r\n     <use x=\"131.494141\" xlink:href=\"#DejaVuSans-30\"/>\r\n     <use x=\"195.117188\" xlink:href=\"#DejaVuSans-33\"/>\r\n     <use x=\"258.740234\" xlink:href=\"#DejaVuSans-31\"/>\r\n    </g>\r\n   </g>\r\n   <g id=\"text_36\">\r\n    <!-- 0.029 -->\r\n    <g style=\"fill:#262626;\" transform=\"translate(488.214063 36.408594)scale(0.1 -0.1)\">\r\n     <use xlink:href=\"#DejaVuSans-30\"/>\r\n     <use x=\"63.623047\" xlink:href=\"#DejaVuSans-2e\"/>\r\n     <use x=\"95.410156\" xlink:href=\"#DejaVuSans-30\"/>\r\n     <use x=\"159.033203\" xlink:href=\"#DejaVuSans-32\"/>\r\n     <use x=\"222.65625\" xlink:href=\"#DejaVuSans-39\"/>\r\n    </g>\r\n   </g>\r\n   <g id=\"text_37\">\r\n    <!-- -0.02 -->\r\n    <g style=\"fill:#262626;\" transform=\"translate(80.391406 81.708594)scale(0.1 -0.1)\">\r\n     <use xlink:href=\"#DejaVuSans-2d\"/>\r\n     <use x=\"36.083984\" xlink:href=\"#DejaVuSans-30\"/>\r\n     <use x=\"99.707031\" xlink:href=\"#DejaVuSans-2e\"/>\r\n     <use x=\"131.494141\" xlink:href=\"#DejaVuSans-30\"/>\r\n     <use x=\"195.117188\" xlink:href=\"#DejaVuSans-32\"/>\r\n    </g>\r\n   </g>\r\n   <g id=\"text_38\">\r\n    <!-- 1 -->\r\n    <g style=\"fill:#ffffff;\" transform=\"translate(127.346875 81.708594)scale(0.1 -0.1)\">\r\n     <use xlink:href=\"#DejaVuSans-31\"/>\r\n    </g>\r\n   </g>\r\n   <g id=\"text_39\">\r\n    <!-- -0.26 -->\r\n    <g style=\"fill:#262626;\" transform=\"translate(154.791406 81.708594)scale(0.1 -0.1)\">\r\n     <defs>\r\n      <path d=\"M 2113 2584 \r\nQ 1688 2584 1439 2293 \r\nQ 1191 2003 1191 1497 \r\nQ 1191 994 1439 701 \r\nQ 1688 409 2113 409 \r\nQ 2538 409 2786 701 \r\nQ 3034 994 3034 1497 \r\nQ 3034 2003 2786 2293 \r\nQ 2538 2584 2113 2584 \r\nz\r\nM 3366 4563 \r\nL 3366 3988 \r\nQ 3128 4100 2886 4159 \r\nQ 2644 4219 2406 4219 \r\nQ 1781 4219 1451 3797 \r\nQ 1122 3375 1075 2522 \r\nQ 1259 2794 1537 2939 \r\nQ 1816 3084 2150 3084 \r\nQ 2853 3084 3261 2657 \r\nQ 3669 2231 3669 1497 \r\nQ 3669 778 3244 343 \r\nQ 2819 -91 2113 -91 \r\nQ 1303 -91 875 529 \r\nQ 447 1150 447 2328 \r\nQ 447 3434 972 4092 \r\nQ 1497 4750 2381 4750 \r\nQ 2619 4750 2861 4703 \r\nQ 3103 4656 3366 4563 \r\nz\r\n\" id=\"DejaVuSans-36\" transform=\"scale(0.015625)\"/>\r\n     </defs>\r\n     <use xlink:href=\"#DejaVuSans-2d\"/>\r\n     <use x=\"36.083984\" xlink:href=\"#DejaVuSans-30\"/>\r\n     <use x=\"99.707031\" xlink:href=\"#DejaVuSans-2e\"/>\r\n     <use x=\"131.494141\" xlink:href=\"#DejaVuSans-32\"/>\r\n     <use x=\"195.117188\" xlink:href=\"#DejaVuSans-36\"/>\r\n    </g>\r\n   </g>\r\n   <g id=\"text_40\">\r\n    <!-- 0.69 -->\r\n    <g style=\"fill:#ffffff;\" transform=\"translate(193.795313 81.708594)scale(0.1 -0.1)\">\r\n     <use xlink:href=\"#DejaVuSans-30\"/>\r\n     <use x=\"63.623047\" xlink:href=\"#DejaVuSans-2e\"/>\r\n     <use x=\"95.410156\" xlink:href=\"#DejaVuSans-36\"/>\r\n     <use x=\"159.033203\" xlink:href=\"#DejaVuSans-39\"/>\r\n    </g>\r\n   </g>\r\n   <g id=\"text_41\">\r\n    <!-- -0.08 -->\r\n    <g style=\"fill:#262626;\" transform=\"translate(229.191406 81.708594)scale(0.1 -0.1)\">\r\n     <use xlink:href=\"#DejaVuSans-2d\"/>\r\n     <use x=\"36.083984\" xlink:href=\"#DejaVuSans-30\"/>\r\n     <use x=\"99.707031\" xlink:href=\"#DejaVuSans-2e\"/>\r\n     <use x=\"131.494141\" xlink:href=\"#DejaVuSans-30\"/>\r\n     <use x=\"195.117188\" xlink:href=\"#DejaVuSans-38\"/>\r\n    </g>\r\n   </g>\r\n   <g id=\"text_42\">\r\n    <!-- 0.0024 -->\r\n    <g style=\"fill:#262626;\" transform=\"translate(261.832812 81.708594)scale(0.1 -0.1)\">\r\n     <use xlink:href=\"#DejaVuSans-30\"/>\r\n     <use x=\"63.623047\" xlink:href=\"#DejaVuSans-2e\"/>\r\n     <use x=\"95.410156\" xlink:href=\"#DejaVuSans-30\"/>\r\n     <use x=\"159.033203\" xlink:href=\"#DejaVuSans-30\"/>\r\n     <use x=\"222.65625\" xlink:href=\"#DejaVuSans-32\"/>\r\n     <use x=\"286.279297\" xlink:href=\"#DejaVuSans-34\"/>\r\n    </g>\r\n   </g>\r\n   <g id=\"text_43\">\r\n    <!-- 0.11 -->\r\n    <g style=\"fill:#262626;\" transform=\"translate(305.395313 81.708594)scale(0.1 -0.1)\">\r\n     <use xlink:href=\"#DejaVuSans-30\"/>\r\n     <use x=\"63.623047\" xlink:href=\"#DejaVuSans-2e\"/>\r\n     <use x=\"95.410156\" xlink:href=\"#DejaVuSans-31\"/>\r\n     <use x=\"159.033203\" xlink:href=\"#DejaVuSans-31\"/>\r\n    </g>\r\n   </g>\r\n   <g id=\"text_44\">\r\n    <!-- 0.23 -->\r\n    <g style=\"fill:#262626;\" transform=\"translate(342.595312 81.708594)scale(0.1 -0.1)\">\r\n     <use xlink:href=\"#DejaVuSans-30\"/>\r\n     <use x=\"63.623047\" xlink:href=\"#DejaVuSans-2e\"/>\r\n     <use x=\"95.410156\" xlink:href=\"#DejaVuSans-32\"/>\r\n     <use x=\"159.033203\" xlink:href=\"#DejaVuSans-33\"/>\r\n    </g>\r\n   </g>\r\n   <g id=\"text_45\">\r\n    <!-- 0.11 -->\r\n    <g style=\"fill:#262626;\" transform=\"translate(379.795313 81.708594)scale(0.1 -0.1)\">\r\n     <use xlink:href=\"#DejaVuSans-30\"/>\r\n     <use x=\"63.623047\" xlink:href=\"#DejaVuSans-2e\"/>\r\n     <use x=\"95.410156\" xlink:href=\"#DejaVuSans-31\"/>\r\n     <use x=\"159.033203\" xlink:href=\"#DejaVuSans-31\"/>\r\n    </g>\r\n   </g>\r\n   <g id=\"text_46\">\r\n    <!-- 0.46 -->\r\n    <g style=\"fill:#262626;\" transform=\"translate(416.995313 81.708594)scale(0.1 -0.1)\">\r\n     <use xlink:href=\"#DejaVuSans-30\"/>\r\n     <use x=\"63.623047\" xlink:href=\"#DejaVuSans-2e\"/>\r\n     <use x=\"95.410156\" xlink:href=\"#DejaVuSans-34\"/>\r\n     <use x=\"159.033203\" xlink:href=\"#DejaVuSans-36\"/>\r\n    </g>\r\n   </g>\r\n   <g id=\"text_47\">\r\n    <!-- 0.061 -->\r\n    <g style=\"fill:#262626;\" transform=\"translate(451.014063 81.708594)scale(0.1 -0.1)\">\r\n     <use xlink:href=\"#DejaVuSans-30\"/>\r\n     <use x=\"63.623047\" xlink:href=\"#DejaVuSans-2e\"/>\r\n     <use x=\"95.410156\" xlink:href=\"#DejaVuSans-30\"/>\r\n     <use x=\"159.033203\" xlink:href=\"#DejaVuSans-36\"/>\r\n     <use x=\"222.65625\" xlink:href=\"#DejaVuSans-31\"/>\r\n    </g>\r\n   </g>\r\n   <g id=\"text_48\">\r\n    <!-- -0.22 -->\r\n    <g style=\"fill:#262626;\" transform=\"translate(489.591406 81.708594)scale(0.1 -0.1)\">\r\n     <use xlink:href=\"#DejaVuSans-2d\"/>\r\n     <use x=\"36.083984\" xlink:href=\"#DejaVuSans-30\"/>\r\n     <use x=\"99.707031\" xlink:href=\"#DejaVuSans-2e\"/>\r\n     <use x=\"131.494141\" xlink:href=\"#DejaVuSans-32\"/>\r\n     <use x=\"195.117188\" xlink:href=\"#DejaVuSans-32\"/>\r\n    </g>\r\n   </g>\r\n   <g id=\"text_49\">\r\n    <!-- -0.038 -->\r\n    <g style=\"fill:#262626;\" transform=\"translate(77.210156 127.008594)scale(0.1 -0.1)\">\r\n     <use xlink:href=\"#DejaVuSans-2d\"/>\r\n     <use x=\"36.083984\" xlink:href=\"#DejaVuSans-30\"/>\r\n     <use x=\"99.707031\" xlink:href=\"#DejaVuSans-2e\"/>\r\n     <use x=\"131.494141\" xlink:href=\"#DejaVuSans-30\"/>\r\n     <use x=\"195.117188\" xlink:href=\"#DejaVuSans-33\"/>\r\n     <use x=\"258.740234\" xlink:href=\"#DejaVuSans-38\"/>\r\n    </g>\r\n   </g>\r\n   <g id=\"text_50\">\r\n    <!-- -0.26 -->\r\n    <g style=\"fill:#262626;\" transform=\"translate(117.591406 127.008594)scale(0.1 -0.1)\">\r\n     <use xlink:href=\"#DejaVuSans-2d\"/>\r\n     <use x=\"36.083984\" xlink:href=\"#DejaVuSans-30\"/>\r\n     <use x=\"99.707031\" xlink:href=\"#DejaVuSans-2e\"/>\r\n     <use x=\"131.494141\" xlink:href=\"#DejaVuSans-32\"/>\r\n     <use x=\"195.117188\" xlink:href=\"#DejaVuSans-36\"/>\r\n    </g>\r\n   </g>\r\n   <g id=\"text_51\">\r\n    <!-- 1 -->\r\n    <g style=\"fill:#ffffff;\" transform=\"translate(164.546875 127.008594)scale(0.1 -0.1)\">\r\n     <use xlink:href=\"#DejaVuSans-31\"/>\r\n    </g>\r\n   </g>\r\n   <g id=\"text_52\">\r\n    <!-- -0.12 -->\r\n    <g style=\"fill:#262626;\" transform=\"translate(191.991406 127.008594)scale(0.1 -0.1)\">\r\n     <use xlink:href=\"#DejaVuSans-2d\"/>\r\n     <use x=\"36.083984\" xlink:href=\"#DejaVuSans-30\"/>\r\n     <use x=\"99.707031\" xlink:href=\"#DejaVuSans-2e\"/>\r\n     <use x=\"131.494141\" xlink:href=\"#DejaVuSans-31\"/>\r\n     <use x=\"195.117188\" xlink:href=\"#DejaVuSans-32\"/>\r\n    </g>\r\n   </g>\r\n   <g id=\"text_53\">\r\n    <!-- -0.28 -->\r\n    <g style=\"fill:#262626;\" transform=\"translate(229.191406 127.008594)scale(0.1 -0.1)\">\r\n     <use xlink:href=\"#DejaVuSans-2d\"/>\r\n     <use x=\"36.083984\" xlink:href=\"#DejaVuSans-30\"/>\r\n     <use x=\"99.707031\" xlink:href=\"#DejaVuSans-2e\"/>\r\n     <use x=\"131.494141\" xlink:href=\"#DejaVuSans-32\"/>\r\n     <use x=\"195.117188\" xlink:href=\"#DejaVuSans-38\"/>\r\n    </g>\r\n   </g>\r\n   <g id=\"text_54\">\r\n    <!-- 0.061 -->\r\n    <g style=\"fill:#262626;\" transform=\"translate(265.014063 127.008594)scale(0.1 -0.1)\">\r\n     <use xlink:href=\"#DejaVuSans-30\"/>\r\n     <use x=\"63.623047\" xlink:href=\"#DejaVuSans-2e\"/>\r\n     <use x=\"95.410156\" xlink:href=\"#DejaVuSans-30\"/>\r\n     <use x=\"159.033203\" xlink:href=\"#DejaVuSans-36\"/>\r\n     <use x=\"222.65625\" xlink:href=\"#DejaVuSans-31\"/>\r\n    </g>\r\n   </g>\r\n   <g id=\"text_55\">\r\n    <!-- 0.018 -->\r\n    <g style=\"fill:#262626;\" transform=\"translate(302.214063 127.008594)scale(0.1 -0.1)\">\r\n     <use xlink:href=\"#DejaVuSans-30\"/>\r\n     <use x=\"63.623047\" xlink:href=\"#DejaVuSans-2e\"/>\r\n     <use x=\"95.410156\" xlink:href=\"#DejaVuSans-30\"/>\r\n     <use x=\"159.033203\" xlink:href=\"#DejaVuSans-31\"/>\r\n     <use x=\"222.65625\" xlink:href=\"#DejaVuSans-38\"/>\r\n    </g>\r\n   </g>\r\n   <g id=\"text_56\">\r\n    <!-- -0.56 -->\r\n    <g style=\"fill:#ffffff;\" transform=\"translate(340.791406 127.008594)scale(0.1 -0.1)\">\r\n     <use xlink:href=\"#DejaVuSans-2d\"/>\r\n     <use x=\"36.083984\" xlink:href=\"#DejaVuSans-30\"/>\r\n     <use x=\"99.707031\" xlink:href=\"#DejaVuSans-2e\"/>\r\n     <use x=\"131.494141\" xlink:href=\"#DejaVuSans-35\"/>\r\n     <use x=\"195.117188\" xlink:href=\"#DejaVuSans-36\"/>\r\n    </g>\r\n   </g>\r\n   <g id=\"text_57\">\r\n    <!-- 0.039 -->\r\n    <g style=\"fill:#262626;\" transform=\"translate(376.614063 127.008594)scale(0.1 -0.1)\">\r\n     <use xlink:href=\"#DejaVuSans-30\"/>\r\n     <use x=\"63.623047\" xlink:href=\"#DejaVuSans-2e\"/>\r\n     <use x=\"95.410156\" xlink:href=\"#DejaVuSans-30\"/>\r\n     <use x=\"159.033203\" xlink:href=\"#DejaVuSans-33\"/>\r\n     <use x=\"222.65625\" xlink:href=\"#DejaVuSans-39\"/>\r\n    </g>\r\n   </g>\r\n   <g id=\"text_58\">\r\n    <!-- -0.16 -->\r\n    <g style=\"fill:#262626;\" transform=\"translate(415.191406 127.008594)scale(0.1 -0.1)\">\r\n     <use xlink:href=\"#DejaVuSans-2d\"/>\r\n     <use x=\"36.083984\" xlink:href=\"#DejaVuSans-30\"/>\r\n     <use x=\"99.707031\" xlink:href=\"#DejaVuSans-2e\"/>\r\n     <use x=\"131.494141\" xlink:href=\"#DejaVuSans-31\"/>\r\n     <use x=\"195.117188\" xlink:href=\"#DejaVuSans-36\"/>\r\n    </g>\r\n   </g>\r\n   <g id=\"text_59\">\r\n    <!-- 0.05 -->\r\n    <g style=\"fill:#262626;\" transform=\"translate(454.195312 127.008594)scale(0.1 -0.1)\">\r\n     <use xlink:href=\"#DejaVuSans-30\"/>\r\n     <use x=\"63.623047\" xlink:href=\"#DejaVuSans-2e\"/>\r\n     <use x=\"95.410156\" xlink:href=\"#DejaVuSans-30\"/>\r\n     <use x=\"159.033203\" xlink:href=\"#DejaVuSans-35\"/>\r\n    </g>\r\n   </g>\r\n   <g id=\"text_60\">\r\n    <!-- 0.15 -->\r\n    <g style=\"fill:#262626;\" transform=\"translate(491.395313 127.008594)scale(0.1 -0.1)\">\r\n     <use xlink:href=\"#DejaVuSans-30\"/>\r\n     <use x=\"63.623047\" xlink:href=\"#DejaVuSans-2e\"/>\r\n     <use x=\"95.410156\" xlink:href=\"#DejaVuSans-31\"/>\r\n     <use x=\"159.033203\" xlink:href=\"#DejaVuSans-35\"/>\r\n    </g>\r\n   </g>\r\n   <g id=\"text_61\">\r\n    <!-- -0.013 -->\r\n    <g style=\"fill:#262626;\" transform=\"translate(77.210156 172.308594)scale(0.1 -0.1)\">\r\n     <use xlink:href=\"#DejaVuSans-2d\"/>\r\n     <use x=\"36.083984\" xlink:href=\"#DejaVuSans-30\"/>\r\n     <use x=\"99.707031\" xlink:href=\"#DejaVuSans-2e\"/>\r\n     <use x=\"131.494141\" xlink:href=\"#DejaVuSans-30\"/>\r\n     <use x=\"195.117188\" xlink:href=\"#DejaVuSans-31\"/>\r\n     <use x=\"258.740234\" xlink:href=\"#DejaVuSans-33\"/>\r\n    </g>\r\n   </g>\r\n   <g id=\"text_62\">\r\n    <!-- 0.69 -->\r\n    <g style=\"fill:#ffffff;\" transform=\"translate(119.395313 172.308594)scale(0.1 -0.1)\">\r\n     <use xlink:href=\"#DejaVuSans-30\"/>\r\n     <use x=\"63.623047\" xlink:href=\"#DejaVuSans-2e\"/>\r\n     <use x=\"95.410156\" xlink:href=\"#DejaVuSans-36\"/>\r\n     <use x=\"159.033203\" xlink:href=\"#DejaVuSans-39\"/>\r\n    </g>\r\n   </g>\r\n   <g id=\"text_63\">\r\n    <!-- -0.12 -->\r\n    <g style=\"fill:#262626;\" transform=\"translate(154.791406 172.308594)scale(0.1 -0.1)\">\r\n     <use xlink:href=\"#DejaVuSans-2d\"/>\r\n     <use x=\"36.083984\" xlink:href=\"#DejaVuSans-30\"/>\r\n     <use x=\"99.707031\" xlink:href=\"#DejaVuSans-2e\"/>\r\n     <use x=\"131.494141\" xlink:href=\"#DejaVuSans-31\"/>\r\n     <use x=\"195.117188\" xlink:href=\"#DejaVuSans-32\"/>\r\n    </g>\r\n   </g>\r\n   <g id=\"text_64\">\r\n    <!-- 1 -->\r\n    <g style=\"fill:#ffffff;\" transform=\"translate(201.746875 172.308594)scale(0.1 -0.1)\">\r\n     <use xlink:href=\"#DejaVuSans-31\"/>\r\n    </g>\r\n   </g>\r\n   <g id=\"text_65\">\r\n    <!-- -0.086 -->\r\n    <g style=\"fill:#262626;\" transform=\"translate(226.010156 172.308594)scale(0.1 -0.1)\">\r\n     <use xlink:href=\"#DejaVuSans-2d\"/>\r\n     <use x=\"36.083984\" xlink:href=\"#DejaVuSans-30\"/>\r\n     <use x=\"99.707031\" xlink:href=\"#DejaVuSans-2e\"/>\r\n     <use x=\"131.494141\" xlink:href=\"#DejaVuSans-30\"/>\r\n     <use x=\"195.117188\" xlink:href=\"#DejaVuSans-38\"/>\r\n     <use x=\"258.740234\" xlink:href=\"#DejaVuSans-36\"/>\r\n    </g>\r\n   </g>\r\n   <g id=\"text_66\">\r\n    <!-- 0.11 -->\r\n    <g style=\"fill:#262626;\" transform=\"translate(268.195312 172.308594)scale(0.1 -0.1)\">\r\n     <use xlink:href=\"#DejaVuSans-30\"/>\r\n     <use x=\"63.623047\" xlink:href=\"#DejaVuSans-2e\"/>\r\n     <use x=\"95.410156\" xlink:href=\"#DejaVuSans-31\"/>\r\n     <use x=\"159.033203\" xlink:href=\"#DejaVuSans-31\"/>\r\n    </g>\r\n   </g>\r\n   <g id=\"text_67\">\r\n    <!-- 0.21 -->\r\n    <g style=\"fill:#262626;\" transform=\"translate(305.395313 172.308594)scale(0.1 -0.1)\">\r\n     <use xlink:href=\"#DejaVuSans-30\"/>\r\n     <use x=\"63.623047\" xlink:href=\"#DejaVuSans-2e\"/>\r\n     <use x=\"95.410156\" xlink:href=\"#DejaVuSans-32\"/>\r\n     <use x=\"159.033203\" xlink:href=\"#DejaVuSans-31\"/>\r\n    </g>\r\n   </g>\r\n   <g id=\"text_68\">\r\n    <!-- 0.19 -->\r\n    <g style=\"fill:#262626;\" transform=\"translate(342.595312 172.308594)scale(0.1 -0.1)\">\r\n     <use xlink:href=\"#DejaVuSans-30\"/>\r\n     <use x=\"63.623047\" xlink:href=\"#DejaVuSans-2e\"/>\r\n     <use x=\"95.410156\" xlink:href=\"#DejaVuSans-31\"/>\r\n     <use x=\"159.033203\" xlink:href=\"#DejaVuSans-39\"/>\r\n    </g>\r\n   </g>\r\n   <g id=\"text_69\">\r\n    <!-- 0.12 -->\r\n    <g style=\"fill:#262626;\" transform=\"translate(379.795313 172.308594)scale(0.1 -0.1)\">\r\n     <use xlink:href=\"#DejaVuSans-30\"/>\r\n     <use x=\"63.623047\" xlink:href=\"#DejaVuSans-2e\"/>\r\n     <use x=\"95.410156\" xlink:href=\"#DejaVuSans-31\"/>\r\n     <use x=\"159.033203\" xlink:href=\"#DejaVuSans-32\"/>\r\n    </g>\r\n   </g>\r\n   <g id=\"text_70\">\r\n    <!-- 0.52 -->\r\n    <g style=\"fill:#262626;\" transform=\"translate(416.995313 172.308594)scale(0.1 -0.1)\">\r\n     <use xlink:href=\"#DejaVuSans-30\"/>\r\n     <use x=\"63.623047\" xlink:href=\"#DejaVuSans-2e\"/>\r\n     <use x=\"95.410156\" xlink:href=\"#DejaVuSans-35\"/>\r\n     <use x=\"159.033203\" xlink:href=\"#DejaVuSans-32\"/>\r\n    </g>\r\n   </g>\r\n   <g id=\"text_71\">\r\n    <!-- 0.19 -->\r\n    <g style=\"fill:#262626;\" transform=\"translate(454.195312 172.308594)scale(0.1 -0.1)\">\r\n     <use xlink:href=\"#DejaVuSans-30\"/>\r\n     <use x=\"63.623047\" xlink:href=\"#DejaVuSans-2e\"/>\r\n     <use x=\"95.410156\" xlink:href=\"#DejaVuSans-31\"/>\r\n     <use x=\"159.033203\" xlink:href=\"#DejaVuSans-39\"/>\r\n    </g>\r\n   </g>\r\n   <g id=\"text_72\">\r\n    <!-- -0.28 -->\r\n    <g style=\"fill:#262626;\" transform=\"translate(489.591406 172.308594)scale(0.1 -0.1)\">\r\n     <use xlink:href=\"#DejaVuSans-2d\"/>\r\n     <use x=\"36.083984\" xlink:href=\"#DejaVuSans-30\"/>\r\n     <use x=\"99.707031\" xlink:href=\"#DejaVuSans-2e\"/>\r\n     <use x=\"131.494141\" xlink:href=\"#DejaVuSans-32\"/>\r\n     <use x=\"195.117188\" xlink:href=\"#DejaVuSans-38\"/>\r\n    </g>\r\n   </g>\r\n   <g id=\"text_73\">\r\n    <!-- 0.03 -->\r\n    <g style=\"fill:#262626;\" transform=\"translate(82.195312 217.608594)scale(0.1 -0.1)\">\r\n     <use xlink:href=\"#DejaVuSans-30\"/>\r\n     <use x=\"63.623047\" xlink:href=\"#DejaVuSans-2e\"/>\r\n     <use x=\"95.410156\" xlink:href=\"#DejaVuSans-30\"/>\r\n     <use x=\"159.033203\" xlink:href=\"#DejaVuSans-33\"/>\r\n    </g>\r\n   </g>\r\n   <g id=\"text_74\">\r\n    <!-- -0.08 -->\r\n    <g style=\"fill:#262626;\" transform=\"translate(117.591406 217.608594)scale(0.1 -0.1)\">\r\n     <use xlink:href=\"#DejaVuSans-2d\"/>\r\n     <use x=\"36.083984\" xlink:href=\"#DejaVuSans-30\"/>\r\n     <use x=\"99.707031\" xlink:href=\"#DejaVuSans-2e\"/>\r\n     <use x=\"131.494141\" xlink:href=\"#DejaVuSans-30\"/>\r\n     <use x=\"195.117188\" xlink:href=\"#DejaVuSans-38\"/>\r\n    </g>\r\n   </g>\r\n   <g id=\"text_75\">\r\n    <!-- -0.28 -->\r\n    <g style=\"fill:#262626;\" transform=\"translate(154.791406 217.608594)scale(0.1 -0.1)\">\r\n     <use xlink:href=\"#DejaVuSans-2d\"/>\r\n     <use x=\"36.083984\" xlink:href=\"#DejaVuSans-30\"/>\r\n     <use x=\"99.707031\" xlink:href=\"#DejaVuSans-2e\"/>\r\n     <use x=\"131.494141\" xlink:href=\"#DejaVuSans-32\"/>\r\n     <use x=\"195.117188\" xlink:href=\"#DejaVuSans-38\"/>\r\n    </g>\r\n   </g>\r\n   <g id=\"text_76\">\r\n    <!-- -0.086 -->\r\n    <g style=\"fill:#262626;\" transform=\"translate(188.810156 217.608594)scale(0.1 -0.1)\">\r\n     <use xlink:href=\"#DejaVuSans-2d\"/>\r\n     <use x=\"36.083984\" xlink:href=\"#DejaVuSans-30\"/>\r\n     <use x=\"99.707031\" xlink:href=\"#DejaVuSans-2e\"/>\r\n     <use x=\"131.494141\" xlink:href=\"#DejaVuSans-30\"/>\r\n     <use x=\"195.117188\" xlink:href=\"#DejaVuSans-38\"/>\r\n     <use x=\"258.740234\" xlink:href=\"#DejaVuSans-36\"/>\r\n    </g>\r\n   </g>\r\n   <g id=\"text_77\">\r\n    <!-- 1 -->\r\n    <g style=\"fill:#ffffff;\" transform=\"translate(238.946875 217.608594)scale(0.1 -0.1)\">\r\n     <use xlink:href=\"#DejaVuSans-31\"/>\r\n    </g>\r\n   </g>\r\n   <g id=\"text_78\">\r\n    <!-- -0.27 -->\r\n    <g style=\"fill:#262626;\" transform=\"translate(266.391406 217.608594)scale(0.1 -0.1)\">\r\n     <use xlink:href=\"#DejaVuSans-2d\"/>\r\n     <use x=\"36.083984\" xlink:href=\"#DejaVuSans-30\"/>\r\n     <use x=\"99.707031\" xlink:href=\"#DejaVuSans-2e\"/>\r\n     <use x=\"131.494141\" xlink:href=\"#DejaVuSans-32\"/>\r\n     <use x=\"195.117188\" xlink:href=\"#DejaVuSans-37\"/>\r\n    </g>\r\n   </g>\r\n   <g id=\"text_79\">\r\n    <!-- -0.25 -->\r\n    <g style=\"fill:#262626;\" transform=\"translate(303.591406 217.608594)scale(0.1 -0.1)\">\r\n     <use xlink:href=\"#DejaVuSans-2d\"/>\r\n     <use x=\"36.083984\" xlink:href=\"#DejaVuSans-30\"/>\r\n     <use x=\"99.707031\" xlink:href=\"#DejaVuSans-2e\"/>\r\n     <use x=\"131.494141\" xlink:href=\"#DejaVuSans-32\"/>\r\n     <use x=\"195.117188\" xlink:href=\"#DejaVuSans-35\"/>\r\n    </g>\r\n   </g>\r\n   <g id=\"text_80\">\r\n    <!-- 0.1 -->\r\n    <g style=\"fill:#262626;\" transform=\"translate(345.776562 217.608594)scale(0.1 -0.1)\">\r\n     <use xlink:href=\"#DejaVuSans-30\"/>\r\n     <use x=\"63.623047\" xlink:href=\"#DejaVuSans-2e\"/>\r\n     <use x=\"95.410156\" xlink:href=\"#DejaVuSans-31\"/>\r\n    </g>\r\n   </g>\r\n   <g id=\"text_81\">\r\n    <!-- 0.037 -->\r\n    <g style=\"fill:#262626;\" transform=\"translate(376.614063 217.608594)scale(0.1 -0.1)\">\r\n     <use xlink:href=\"#DejaVuSans-30\"/>\r\n     <use x=\"63.623047\" xlink:href=\"#DejaVuSans-2e\"/>\r\n     <use x=\"95.410156\" xlink:href=\"#DejaVuSans-30\"/>\r\n     <use x=\"159.033203\" xlink:href=\"#DejaVuSans-33\"/>\r\n     <use x=\"222.65625\" xlink:href=\"#DejaVuSans-37\"/>\r\n    </g>\r\n   </g>\r\n   <g id=\"text_82\">\r\n    <!-- -0.21 -->\r\n    <g style=\"fill:#262626;\" transform=\"translate(415.191406 217.608594)scale(0.1 -0.1)\">\r\n     <use xlink:href=\"#DejaVuSans-2d\"/>\r\n     <use x=\"36.083984\" xlink:href=\"#DejaVuSans-30\"/>\r\n     <use x=\"99.707031\" xlink:href=\"#DejaVuSans-2e\"/>\r\n     <use x=\"131.494141\" xlink:href=\"#DejaVuSans-32\"/>\r\n     <use x=\"195.117188\" xlink:href=\"#DejaVuSans-31\"/>\r\n    </g>\r\n   </g>\r\n   <g id=\"text_83\">\r\n    <!-- -0.31 -->\r\n    <g style=\"fill:#262626;\" transform=\"translate(452.391406 217.608594)scale(0.1 -0.1)\">\r\n     <use xlink:href=\"#DejaVuSans-2d\"/>\r\n     <use x=\"36.083984\" xlink:href=\"#DejaVuSans-30\"/>\r\n     <use x=\"99.707031\" xlink:href=\"#DejaVuSans-2e\"/>\r\n     <use x=\"131.494141\" xlink:href=\"#DejaVuSans-33\"/>\r\n     <use x=\"195.117188\" xlink:href=\"#DejaVuSans-31\"/>\r\n    </g>\r\n   </g>\r\n   <g id=\"text_84\">\r\n    <!-- 0.23 -->\r\n    <g style=\"fill:#262626;\" transform=\"translate(491.395313 217.608594)scale(0.1 -0.1)\">\r\n     <use xlink:href=\"#DejaVuSans-30\"/>\r\n     <use x=\"63.623047\" xlink:href=\"#DejaVuSans-2e\"/>\r\n     <use x=\"95.410156\" xlink:href=\"#DejaVuSans-32\"/>\r\n     <use x=\"159.033203\" xlink:href=\"#DejaVuSans-33\"/>\r\n    </g>\r\n   </g>\r\n   <g id=\"text_85\">\r\n    <!-- -0.055 -->\r\n    <g style=\"fill:#262626;\" transform=\"translate(77.210156 262.908594)scale(0.1 -0.1)\">\r\n     <use xlink:href=\"#DejaVuSans-2d\"/>\r\n     <use x=\"36.083984\" xlink:href=\"#DejaVuSans-30\"/>\r\n     <use x=\"99.707031\" xlink:href=\"#DejaVuSans-2e\"/>\r\n     <use x=\"131.494141\" xlink:href=\"#DejaVuSans-30\"/>\r\n     <use x=\"195.117188\" xlink:href=\"#DejaVuSans-35\"/>\r\n     <use x=\"258.740234\" xlink:href=\"#DejaVuSans-35\"/>\r\n    </g>\r\n   </g>\r\n   <g id=\"text_86\">\r\n    <!-- 0.0024 -->\r\n    <g style=\"fill:#262626;\" transform=\"translate(113.032813 262.908594)scale(0.1 -0.1)\">\r\n     <use xlink:href=\"#DejaVuSans-30\"/>\r\n     <use x=\"63.623047\" xlink:href=\"#DejaVuSans-2e\"/>\r\n     <use x=\"95.410156\" xlink:href=\"#DejaVuSans-30\"/>\r\n     <use x=\"159.033203\" xlink:href=\"#DejaVuSans-30\"/>\r\n     <use x=\"222.65625\" xlink:href=\"#DejaVuSans-32\"/>\r\n     <use x=\"286.279297\" xlink:href=\"#DejaVuSans-34\"/>\r\n    </g>\r\n   </g>\r\n   <g id=\"text_87\">\r\n    <!-- 0.061 -->\r\n    <g style=\"fill:#262626;\" transform=\"translate(153.414062 262.908594)scale(0.1 -0.1)\">\r\n     <use xlink:href=\"#DejaVuSans-30\"/>\r\n     <use x=\"63.623047\" xlink:href=\"#DejaVuSans-2e\"/>\r\n     <use x=\"95.410156\" xlink:href=\"#DejaVuSans-30\"/>\r\n     <use x=\"159.033203\" xlink:href=\"#DejaVuSans-36\"/>\r\n     <use x=\"222.65625\" xlink:href=\"#DejaVuSans-31\"/>\r\n    </g>\r\n   </g>\r\n   <g id=\"text_88\">\r\n    <!-- 0.11 -->\r\n    <g style=\"fill:#262626;\" transform=\"translate(193.795313 262.908594)scale(0.1 -0.1)\">\r\n     <use xlink:href=\"#DejaVuSans-30\"/>\r\n     <use x=\"63.623047\" xlink:href=\"#DejaVuSans-2e\"/>\r\n     <use x=\"95.410156\" xlink:href=\"#DejaVuSans-31\"/>\r\n     <use x=\"159.033203\" xlink:href=\"#DejaVuSans-31\"/>\r\n    </g>\r\n   </g>\r\n   <g id=\"text_89\">\r\n    <!-- -0.27 -->\r\n    <g style=\"fill:#262626;\" transform=\"translate(229.191406 262.908594)scale(0.1 -0.1)\">\r\n     <use xlink:href=\"#DejaVuSans-2d\"/>\r\n     <use x=\"36.083984\" xlink:href=\"#DejaVuSans-30\"/>\r\n     <use x=\"99.707031\" xlink:href=\"#DejaVuSans-2e\"/>\r\n     <use x=\"131.494141\" xlink:href=\"#DejaVuSans-32\"/>\r\n     <use x=\"195.117188\" xlink:href=\"#DejaVuSans-37\"/>\r\n    </g>\r\n   </g>\r\n   <g id=\"text_90\">\r\n    <!-- 1 -->\r\n    <g style=\"fill:#ffffff;\" transform=\"translate(276.146875 262.908594)scale(0.1 -0.1)\">\r\n     <use xlink:href=\"#DejaVuSans-31\"/>\r\n    </g>\r\n   </g>\r\n   <g id=\"text_91\">\r\n    <!-- 0.37 -->\r\n    <g style=\"fill:#262626;\" transform=\"translate(305.395313 262.908594)scale(0.1 -0.1)\">\r\n     <use xlink:href=\"#DejaVuSans-30\"/>\r\n     <use x=\"63.623047\" xlink:href=\"#DejaVuSans-2e\"/>\r\n     <use x=\"95.410156\" xlink:href=\"#DejaVuSans-33\"/>\r\n     <use x=\"159.033203\" xlink:href=\"#DejaVuSans-37\"/>\r\n    </g>\r\n   </g>\r\n   <g id=\"text_92\">\r\n    <!-- 0.16 -->\r\n    <g style=\"fill:#262626;\" transform=\"translate(342.595312 262.908594)scale(0.1 -0.1)\">\r\n     <use xlink:href=\"#DejaVuSans-30\"/>\r\n     <use x=\"63.623047\" xlink:href=\"#DejaVuSans-2e\"/>\r\n     <use x=\"95.410156\" xlink:href=\"#DejaVuSans-31\"/>\r\n     <use x=\"159.033203\" xlink:href=\"#DejaVuSans-36\"/>\r\n    </g>\r\n   </g>\r\n   <g id=\"text_93\">\r\n    <!-- -0.073 -->\r\n    <g style=\"fill:#262626;\" transform=\"translate(374.810156 262.908594)scale(0.1 -0.1)\">\r\n     <use xlink:href=\"#DejaVuSans-2d\"/>\r\n     <use x=\"36.083984\" xlink:href=\"#DejaVuSans-30\"/>\r\n     <use x=\"99.707031\" xlink:href=\"#DejaVuSans-2e\"/>\r\n     <use x=\"131.494141\" xlink:href=\"#DejaVuSans-30\"/>\r\n     <use x=\"195.117188\" xlink:href=\"#DejaVuSans-37\"/>\r\n     <use x=\"258.740234\" xlink:href=\"#DejaVuSans-33\"/>\r\n    </g>\r\n   </g>\r\n   <g id=\"text_94\">\r\n    <!-- 0.27 -->\r\n    <g style=\"fill:#262626;\" transform=\"translate(416.995313 262.908594)scale(0.1 -0.1)\">\r\n     <use xlink:href=\"#DejaVuSans-30\"/>\r\n     <use x=\"63.623047\" xlink:href=\"#DejaVuSans-2e\"/>\r\n     <use x=\"95.410156\" xlink:href=\"#DejaVuSans-32\"/>\r\n     <use x=\"159.033203\" xlink:href=\"#DejaVuSans-37\"/>\r\n    </g>\r\n   </g>\r\n   <g id=\"text_95\">\r\n    <!-- 0.86 -->\r\n    <g style=\"fill:#ffffff;\" transform=\"translate(454.195312 262.908594)scale(0.1 -0.1)\">\r\n     <use xlink:href=\"#DejaVuSans-30\"/>\r\n     <use x=\"63.623047\" xlink:href=\"#DejaVuSans-2e\"/>\r\n     <use x=\"95.410156\" xlink:href=\"#DejaVuSans-38\"/>\r\n     <use x=\"159.033203\" xlink:href=\"#DejaVuSans-36\"/>\r\n    </g>\r\n   </g>\r\n   <g id=\"text_96\">\r\n    <!-- -0.59 -->\r\n    <g style=\"fill:#ffffff;\" transform=\"translate(489.591406 262.908594)scale(0.1 -0.1)\">\r\n     <use xlink:href=\"#DejaVuSans-2d\"/>\r\n     <use x=\"36.083984\" xlink:href=\"#DejaVuSans-30\"/>\r\n     <use x=\"99.707031\" xlink:href=\"#DejaVuSans-2e\"/>\r\n     <use x=\"131.494141\" xlink:href=\"#DejaVuSans-35\"/>\r\n     <use x=\"195.117188\" xlink:href=\"#DejaVuSans-39\"/>\r\n    </g>\r\n   </g>\r\n   <g id=\"text_97\">\r\n    <!-- 0.0089 -->\r\n    <g style=\"fill:#262626;\" transform=\"translate(75.832813 308.208594)scale(0.1 -0.1)\">\r\n     <use xlink:href=\"#DejaVuSans-30\"/>\r\n     <use x=\"63.623047\" xlink:href=\"#DejaVuSans-2e\"/>\r\n     <use x=\"95.410156\" xlink:href=\"#DejaVuSans-30\"/>\r\n     <use x=\"159.033203\" xlink:href=\"#DejaVuSans-30\"/>\r\n     <use x=\"222.65625\" xlink:href=\"#DejaVuSans-38\"/>\r\n     <use x=\"286.279297\" xlink:href=\"#DejaVuSans-39\"/>\r\n    </g>\r\n   </g>\r\n   <g id=\"text_98\">\r\n    <!-- 0.11 -->\r\n    <g style=\"fill:#262626;\" transform=\"translate(119.395313 308.208594)scale(0.1 -0.1)\">\r\n     <use xlink:href=\"#DejaVuSans-30\"/>\r\n     <use x=\"63.623047\" xlink:href=\"#DejaVuSans-2e\"/>\r\n     <use x=\"95.410156\" xlink:href=\"#DejaVuSans-31\"/>\r\n     <use x=\"159.033203\" xlink:href=\"#DejaVuSans-31\"/>\r\n    </g>\r\n   </g>\r\n   <g id=\"text_99\">\r\n    <!-- 0.018 -->\r\n    <g style=\"fill:#262626;\" transform=\"translate(153.414062 308.208594)scale(0.1 -0.1)\">\r\n     <use xlink:href=\"#DejaVuSans-30\"/>\r\n     <use x=\"63.623047\" xlink:href=\"#DejaVuSans-2e\"/>\r\n     <use x=\"95.410156\" xlink:href=\"#DejaVuSans-30\"/>\r\n     <use x=\"159.033203\" xlink:href=\"#DejaVuSans-31\"/>\r\n     <use x=\"222.65625\" xlink:href=\"#DejaVuSans-38\"/>\r\n    </g>\r\n   </g>\r\n   <g id=\"text_100\">\r\n    <!-- 0.21 -->\r\n    <g style=\"fill:#262626;\" transform=\"translate(193.795313 308.208594)scale(0.1 -0.1)\">\r\n     <use xlink:href=\"#DejaVuSans-30\"/>\r\n     <use x=\"63.623047\" xlink:href=\"#DejaVuSans-2e\"/>\r\n     <use x=\"95.410156\" xlink:href=\"#DejaVuSans-32\"/>\r\n     <use x=\"159.033203\" xlink:href=\"#DejaVuSans-31\"/>\r\n    </g>\r\n   </g>\r\n   <g id=\"text_101\">\r\n    <!-- -0.25 -->\r\n    <g style=\"fill:#262626;\" transform=\"translate(229.191406 308.208594)scale(0.1 -0.1)\">\r\n     <use xlink:href=\"#DejaVuSans-2d\"/>\r\n     <use x=\"36.083984\" xlink:href=\"#DejaVuSans-30\"/>\r\n     <use x=\"99.707031\" xlink:href=\"#DejaVuSans-2e\"/>\r\n     <use x=\"131.494141\" xlink:href=\"#DejaVuSans-32\"/>\r\n     <use x=\"195.117188\" xlink:href=\"#DejaVuSans-35\"/>\r\n    </g>\r\n   </g>\r\n   <g id=\"text_102\">\r\n    <!-- 0.37 -->\r\n    <g style=\"fill:#262626;\" transform=\"translate(268.195312 308.208594)scale(0.1 -0.1)\">\r\n     <use xlink:href=\"#DejaVuSans-30\"/>\r\n     <use x=\"63.623047\" xlink:href=\"#DejaVuSans-2e\"/>\r\n     <use x=\"95.410156\" xlink:href=\"#DejaVuSans-33\"/>\r\n     <use x=\"159.033203\" xlink:href=\"#DejaVuSans-37\"/>\r\n    </g>\r\n   </g>\r\n   <g id=\"text_103\">\r\n    <!-- 1 -->\r\n    <g style=\"fill:#ffffff;\" transform=\"translate(313.346875 308.208594)scale(0.1 -0.1)\">\r\n     <use xlink:href=\"#DejaVuSans-31\"/>\r\n    </g>\r\n   </g>\r\n   <g id=\"text_104\">\r\n    <!-- 0.22 -->\r\n    <g style=\"fill:#262626;\" transform=\"translate(342.595312 308.208594)scale(0.1 -0.1)\">\r\n     <use xlink:href=\"#DejaVuSans-30\"/>\r\n     <use x=\"63.623047\" xlink:href=\"#DejaVuSans-2e\"/>\r\n     <use x=\"95.410156\" xlink:href=\"#DejaVuSans-32\"/>\r\n     <use x=\"159.033203\" xlink:href=\"#DejaVuSans-32\"/>\r\n    </g>\r\n   </g>\r\n   <g id=\"text_105\">\r\n    <!-- -0.096 -->\r\n    <g style=\"fill:#262626;\" transform=\"translate(374.810156 308.208594)scale(0.1 -0.1)\">\r\n     <use xlink:href=\"#DejaVuSans-2d\"/>\r\n     <use x=\"36.083984\" xlink:href=\"#DejaVuSans-30\"/>\r\n     <use x=\"99.707031\" xlink:href=\"#DejaVuSans-2e\"/>\r\n     <use x=\"131.494141\" xlink:href=\"#DejaVuSans-30\"/>\r\n     <use x=\"195.117188\" xlink:href=\"#DejaVuSans-39\"/>\r\n     <use x=\"258.740234\" xlink:href=\"#DejaVuSans-36\"/>\r\n    </g>\r\n   </g>\r\n   <g id=\"text_106\">\r\n    <!-- 0.31 -->\r\n    <g style=\"fill:#262626;\" transform=\"translate(416.995313 308.208594)scale(0.1 -0.1)\">\r\n     <use xlink:href=\"#DejaVuSans-30\"/>\r\n     <use x=\"63.623047\" xlink:href=\"#DejaVuSans-2e\"/>\r\n     <use x=\"95.410156\" xlink:href=\"#DejaVuSans-33\"/>\r\n     <use x=\"159.033203\" xlink:href=\"#DejaVuSans-31\"/>\r\n    </g>\r\n   </g>\r\n   <g id=\"text_107\">\r\n    <!-- 0.79 -->\r\n    <g style=\"fill:#ffffff;\" transform=\"translate(454.195312 308.208594)scale(0.1 -0.1)\">\r\n     <use xlink:href=\"#DejaVuSans-30\"/>\r\n     <use x=\"63.623047\" xlink:href=\"#DejaVuSans-2e\"/>\r\n     <use x=\"95.410156\" xlink:href=\"#DejaVuSans-37\"/>\r\n     <use x=\"159.033203\" xlink:href=\"#DejaVuSans-39\"/>\r\n    </g>\r\n   </g>\r\n   <g id=\"text_108\">\r\n    <!-- -0.55 -->\r\n    <g style=\"fill:#ffffff;\" transform=\"translate(489.591406 308.208594)scale(0.1 -0.1)\">\r\n     <use xlink:href=\"#DejaVuSans-2d\"/>\r\n     <use x=\"36.083984\" xlink:href=\"#DejaVuSans-30\"/>\r\n     <use x=\"99.707031\" xlink:href=\"#DejaVuSans-2e\"/>\r\n     <use x=\"131.494141\" xlink:href=\"#DejaVuSans-35\"/>\r\n     <use x=\"195.117188\" xlink:href=\"#DejaVuSans-35\"/>\r\n    </g>\r\n   </g>\r\n   <g id=\"text_109\">\r\n    <!-- 0.031 -->\r\n    <g style=\"fill:#262626;\" transform=\"translate(79.014062 353.508594)scale(0.1 -0.1)\">\r\n     <use xlink:href=\"#DejaVuSans-30\"/>\r\n     <use x=\"63.623047\" xlink:href=\"#DejaVuSans-2e\"/>\r\n     <use x=\"95.410156\" xlink:href=\"#DejaVuSans-30\"/>\r\n     <use x=\"159.033203\" xlink:href=\"#DejaVuSans-33\"/>\r\n     <use x=\"222.65625\" xlink:href=\"#DejaVuSans-31\"/>\r\n    </g>\r\n   </g>\r\n   <g id=\"text_110\">\r\n    <!-- 0.23 -->\r\n    <g style=\"fill:#262626;\" transform=\"translate(119.395313 353.508594)scale(0.1 -0.1)\">\r\n     <use xlink:href=\"#DejaVuSans-30\"/>\r\n     <use x=\"63.623047\" xlink:href=\"#DejaVuSans-2e\"/>\r\n     <use x=\"95.410156\" xlink:href=\"#DejaVuSans-32\"/>\r\n     <use x=\"159.033203\" xlink:href=\"#DejaVuSans-33\"/>\r\n    </g>\r\n   </g>\r\n   <g id=\"text_111\">\r\n    <!-- -0.56 -->\r\n    <g style=\"fill:#ffffff;\" transform=\"translate(154.791406 353.508594)scale(0.1 -0.1)\">\r\n     <use xlink:href=\"#DejaVuSans-2d\"/>\r\n     <use x=\"36.083984\" xlink:href=\"#DejaVuSans-30\"/>\r\n     <use x=\"99.707031\" xlink:href=\"#DejaVuSans-2e\"/>\r\n     <use x=\"131.494141\" xlink:href=\"#DejaVuSans-35\"/>\r\n     <use x=\"195.117188\" xlink:href=\"#DejaVuSans-36\"/>\r\n    </g>\r\n   </g>\r\n   <g id=\"text_112\">\r\n    <!-- 0.19 -->\r\n    <g style=\"fill:#262626;\" transform=\"translate(193.795313 353.508594)scale(0.1 -0.1)\">\r\n     <use xlink:href=\"#DejaVuSans-30\"/>\r\n     <use x=\"63.623047\" xlink:href=\"#DejaVuSans-2e\"/>\r\n     <use x=\"95.410156\" xlink:href=\"#DejaVuSans-31\"/>\r\n     <use x=\"159.033203\" xlink:href=\"#DejaVuSans-39\"/>\r\n    </g>\r\n   </g>\r\n   <g id=\"text_113\">\r\n    <!-- 0.1 -->\r\n    <g style=\"fill:#262626;\" transform=\"translate(234.176563 353.508594)scale(0.1 -0.1)\">\r\n     <use xlink:href=\"#DejaVuSans-30\"/>\r\n     <use x=\"63.623047\" xlink:href=\"#DejaVuSans-2e\"/>\r\n     <use x=\"95.410156\" xlink:href=\"#DejaVuSans-31\"/>\r\n    </g>\r\n   </g>\r\n   <g id=\"text_114\">\r\n    <!-- 0.16 -->\r\n    <g style=\"fill:#262626;\" transform=\"translate(268.195312 353.508594)scale(0.1 -0.1)\">\r\n     <use xlink:href=\"#DejaVuSans-30\"/>\r\n     <use x=\"63.623047\" xlink:href=\"#DejaVuSans-2e\"/>\r\n     <use x=\"95.410156\" xlink:href=\"#DejaVuSans-31\"/>\r\n     <use x=\"159.033203\" xlink:href=\"#DejaVuSans-36\"/>\r\n    </g>\r\n   </g>\r\n   <g id=\"text_115\">\r\n    <!-- 0.22 -->\r\n    <g style=\"fill:#262626;\" transform=\"translate(305.395313 353.508594)scale(0.1 -0.1)\">\r\n     <use xlink:href=\"#DejaVuSans-30\"/>\r\n     <use x=\"63.623047\" xlink:href=\"#DejaVuSans-2e\"/>\r\n     <use x=\"95.410156\" xlink:href=\"#DejaVuSans-32\"/>\r\n     <use x=\"159.033203\" xlink:href=\"#DejaVuSans-32\"/>\r\n    </g>\r\n   </g>\r\n   <g id=\"text_116\">\r\n    <!-- 1 -->\r\n    <g style=\"fill:#ffffff;\" transform=\"translate(350.546875 353.508594)scale(0.1 -0.1)\">\r\n     <use xlink:href=\"#DejaVuSans-31\"/>\r\n    </g>\r\n   </g>\r\n   <g id=\"text_117\">\r\n    <!-- 0.061 -->\r\n    <g style=\"fill:#262626;\" transform=\"translate(376.614063 353.508594)scale(0.1 -0.1)\">\r\n     <use xlink:href=\"#DejaVuSans-30\"/>\r\n     <use x=\"63.623047\" xlink:href=\"#DejaVuSans-2e\"/>\r\n     <use x=\"95.410156\" xlink:href=\"#DejaVuSans-30\"/>\r\n     <use x=\"159.033203\" xlink:href=\"#DejaVuSans-36\"/>\r\n     <use x=\"222.65625\" xlink:href=\"#DejaVuSans-31\"/>\r\n    </g>\r\n   </g>\r\n   <g id=\"text_118\">\r\n    <!-- 0.16 -->\r\n    <g style=\"fill:#262626;\" transform=\"translate(416.995313 353.508594)scale(0.1 -0.1)\">\r\n     <use xlink:href=\"#DejaVuSans-30\"/>\r\n     <use x=\"63.623047\" xlink:href=\"#DejaVuSans-2e\"/>\r\n     <use x=\"95.410156\" xlink:href=\"#DejaVuSans-31\"/>\r\n     <use x=\"159.033203\" xlink:href=\"#DejaVuSans-36\"/>\r\n    </g>\r\n   </g>\r\n   <g id=\"text_119\">\r\n    <!-- 0.23 -->\r\n    <g style=\"fill:#262626;\" transform=\"translate(454.195312 353.508594)scale(0.1 -0.1)\">\r\n     <use xlink:href=\"#DejaVuSans-30\"/>\r\n     <use x=\"63.623047\" xlink:href=\"#DejaVuSans-2e\"/>\r\n     <use x=\"95.410156\" xlink:href=\"#DejaVuSans-32\"/>\r\n     <use x=\"159.033203\" xlink:href=\"#DejaVuSans-33\"/>\r\n    </g>\r\n   </g>\r\n   <g id=\"text_120\">\r\n    <!-- -0.28 -->\r\n    <g style=\"fill:#262626;\" transform=\"translate(489.591406 353.508594)scale(0.1 -0.1)\">\r\n     <use xlink:href=\"#DejaVuSans-2d\"/>\r\n     <use x=\"36.083984\" xlink:href=\"#DejaVuSans-30\"/>\r\n     <use x=\"99.707031\" xlink:href=\"#DejaVuSans-2e\"/>\r\n     <use x=\"131.494141\" xlink:href=\"#DejaVuSans-32\"/>\r\n     <use x=\"195.117188\" xlink:href=\"#DejaVuSans-38\"/>\r\n    </g>\r\n   </g>\r\n   <g id=\"text_121\">\r\n    <!-- 0.04 -->\r\n    <g style=\"fill:#262626;\" transform=\"translate(82.195312 398.808594)scale(0.1 -0.1)\">\r\n     <use xlink:href=\"#DejaVuSans-30\"/>\r\n     <use x=\"63.623047\" xlink:href=\"#DejaVuSans-2e\"/>\r\n     <use x=\"95.410156\" xlink:href=\"#DejaVuSans-30\"/>\r\n     <use x=\"159.033203\" xlink:href=\"#DejaVuSans-34\"/>\r\n    </g>\r\n   </g>\r\n   <g id=\"text_122\">\r\n    <!-- 0.11 -->\r\n    <g style=\"fill:#262626;\" transform=\"translate(119.395313 398.808594)scale(0.1 -0.1)\">\r\n     <use xlink:href=\"#DejaVuSans-30\"/>\r\n     <use x=\"63.623047\" xlink:href=\"#DejaVuSans-2e\"/>\r\n     <use x=\"95.410156\" xlink:href=\"#DejaVuSans-31\"/>\r\n     <use x=\"159.033203\" xlink:href=\"#DejaVuSans-31\"/>\r\n    </g>\r\n   </g>\r\n   <g id=\"text_123\">\r\n    <!-- 0.039 -->\r\n    <g style=\"fill:#262626;\" transform=\"translate(153.414062 398.808594)scale(0.1 -0.1)\">\r\n     <use xlink:href=\"#DejaVuSans-30\"/>\r\n     <use x=\"63.623047\" xlink:href=\"#DejaVuSans-2e\"/>\r\n     <use x=\"95.410156\" xlink:href=\"#DejaVuSans-30\"/>\r\n     <use x=\"159.033203\" xlink:href=\"#DejaVuSans-33\"/>\r\n     <use x=\"222.65625\" xlink:href=\"#DejaVuSans-39\"/>\r\n    </g>\r\n   </g>\r\n   <g id=\"text_124\">\r\n    <!-- 0.12 -->\r\n    <g style=\"fill:#262626;\" transform=\"translate(193.795313 398.808594)scale(0.1 -0.1)\">\r\n     <use xlink:href=\"#DejaVuSans-30\"/>\r\n     <use x=\"63.623047\" xlink:href=\"#DejaVuSans-2e\"/>\r\n     <use x=\"95.410156\" xlink:href=\"#DejaVuSans-31\"/>\r\n     <use x=\"159.033203\" xlink:href=\"#DejaVuSans-32\"/>\r\n    </g>\r\n   </g>\r\n   <g id=\"text_125\">\r\n    <!-- 0.037 -->\r\n    <g style=\"fill:#262626;\" transform=\"translate(227.814063 398.808594)scale(0.1 -0.1)\">\r\n     <use xlink:href=\"#DejaVuSans-30\"/>\r\n     <use x=\"63.623047\" xlink:href=\"#DejaVuSans-2e\"/>\r\n     <use x=\"95.410156\" xlink:href=\"#DejaVuSans-30\"/>\r\n     <use x=\"159.033203\" xlink:href=\"#DejaVuSans-33\"/>\r\n     <use x=\"222.65625\" xlink:href=\"#DejaVuSans-37\"/>\r\n    </g>\r\n   </g>\r\n   <g id=\"text_126\">\r\n    <!-- -0.073 -->\r\n    <g style=\"fill:#262626;\" transform=\"translate(263.210156 398.808594)scale(0.1 -0.1)\">\r\n     <use xlink:href=\"#DejaVuSans-2d\"/>\r\n     <use x=\"36.083984\" xlink:href=\"#DejaVuSans-30\"/>\r\n     <use x=\"99.707031\" xlink:href=\"#DejaVuSans-2e\"/>\r\n     <use x=\"131.494141\" xlink:href=\"#DejaVuSans-30\"/>\r\n     <use x=\"195.117188\" xlink:href=\"#DejaVuSans-37\"/>\r\n     <use x=\"258.740234\" xlink:href=\"#DejaVuSans-33\"/>\r\n    </g>\r\n   </g>\r\n   <g id=\"text_127\">\r\n    <!-- -0.096 -->\r\n    <g style=\"fill:#262626;\" transform=\"translate(300.410156 398.808594)scale(0.1 -0.1)\">\r\n     <use xlink:href=\"#DejaVuSans-2d\"/>\r\n     <use x=\"36.083984\" xlink:href=\"#DejaVuSans-30\"/>\r\n     <use x=\"99.707031\" xlink:href=\"#DejaVuSans-2e\"/>\r\n     <use x=\"131.494141\" xlink:href=\"#DejaVuSans-30\"/>\r\n     <use x=\"195.117188\" xlink:href=\"#DejaVuSans-39\"/>\r\n     <use x=\"258.740234\" xlink:href=\"#DejaVuSans-36\"/>\r\n    </g>\r\n   </g>\r\n   <g id=\"text_128\">\r\n    <!-- 0.061 -->\r\n    <g style=\"fill:#262626;\" transform=\"translate(339.414062 398.808594)scale(0.1 -0.1)\">\r\n     <use xlink:href=\"#DejaVuSans-30\"/>\r\n     <use x=\"63.623047\" xlink:href=\"#DejaVuSans-2e\"/>\r\n     <use x=\"95.410156\" xlink:href=\"#DejaVuSans-30\"/>\r\n     <use x=\"159.033203\" xlink:href=\"#DejaVuSans-36\"/>\r\n     <use x=\"222.65625\" xlink:href=\"#DejaVuSans-31\"/>\r\n    </g>\r\n   </g>\r\n   <g id=\"text_129\">\r\n    <!-- 1 -->\r\n    <g style=\"fill:#ffffff;\" transform=\"translate(387.746875 398.808594)scale(0.1 -0.1)\">\r\n     <use xlink:href=\"#DejaVuSans-31\"/>\r\n    </g>\r\n   </g>\r\n   <g id=\"text_130\">\r\n    <!-- 0.041 -->\r\n    <g style=\"fill:#262626;\" transform=\"translate(413.814063 398.808594)scale(0.1 -0.1)\">\r\n     <use xlink:href=\"#DejaVuSans-30\"/>\r\n     <use x=\"63.623047\" xlink:href=\"#DejaVuSans-2e\"/>\r\n     <use x=\"95.410156\" xlink:href=\"#DejaVuSans-30\"/>\r\n     <use x=\"159.033203\" xlink:href=\"#DejaVuSans-34\"/>\r\n     <use x=\"222.65625\" xlink:href=\"#DejaVuSans-31\"/>\r\n    </g>\r\n   </g>\r\n   <g id=\"text_131\">\r\n    <!-- -0.1 -->\r\n    <g style=\"fill:#262626;\" transform=\"translate(455.572656 398.808594)scale(0.1 -0.1)\">\r\n     <use xlink:href=\"#DejaVuSans-2d\"/>\r\n     <use x=\"36.083984\" xlink:href=\"#DejaVuSans-30\"/>\r\n     <use x=\"99.707031\" xlink:href=\"#DejaVuSans-2e\"/>\r\n     <use x=\"131.494141\" xlink:href=\"#DejaVuSans-31\"/>\r\n    </g>\r\n   </g>\r\n   <g id=\"text_132\">\r\n    <!-- 0.047 -->\r\n    <g style=\"fill:#262626;\" transform=\"translate(488.214063 398.808594)scale(0.1 -0.1)\">\r\n     <use xlink:href=\"#DejaVuSans-30\"/>\r\n     <use x=\"63.623047\" xlink:href=\"#DejaVuSans-2e\"/>\r\n     <use x=\"95.410156\" xlink:href=\"#DejaVuSans-30\"/>\r\n     <use x=\"159.033203\" xlink:href=\"#DejaVuSans-34\"/>\r\n     <use x=\"222.65625\" xlink:href=\"#DejaVuSans-37\"/>\r\n    </g>\r\n   </g>\r\n   <g id=\"text_133\">\r\n    <!-- 0.0073 -->\r\n    <g style=\"fill:#262626;\" transform=\"translate(75.832813 444.108594)scale(0.1 -0.1)\">\r\n     <use xlink:href=\"#DejaVuSans-30\"/>\r\n     <use x=\"63.623047\" xlink:href=\"#DejaVuSans-2e\"/>\r\n     <use x=\"95.410156\" xlink:href=\"#DejaVuSans-30\"/>\r\n     <use x=\"159.033203\" xlink:href=\"#DejaVuSans-30\"/>\r\n     <use x=\"222.65625\" xlink:href=\"#DejaVuSans-37\"/>\r\n     <use x=\"286.279297\" xlink:href=\"#DejaVuSans-33\"/>\r\n    </g>\r\n   </g>\r\n   <g id=\"text_134\">\r\n    <!-- 0.46 -->\r\n    <g style=\"fill:#262626;\" transform=\"translate(119.395313 444.108594)scale(0.1 -0.1)\">\r\n     <use xlink:href=\"#DejaVuSans-30\"/>\r\n     <use x=\"63.623047\" xlink:href=\"#DejaVuSans-2e\"/>\r\n     <use x=\"95.410156\" xlink:href=\"#DejaVuSans-34\"/>\r\n     <use x=\"159.033203\" xlink:href=\"#DejaVuSans-36\"/>\r\n    </g>\r\n   </g>\r\n   <g id=\"text_135\">\r\n    <!-- -0.16 -->\r\n    <g style=\"fill:#262626;\" transform=\"translate(154.791406 444.108594)scale(0.1 -0.1)\">\r\n     <use xlink:href=\"#DejaVuSans-2d\"/>\r\n     <use x=\"36.083984\" xlink:href=\"#DejaVuSans-30\"/>\r\n     <use x=\"99.707031\" xlink:href=\"#DejaVuSans-2e\"/>\r\n     <use x=\"131.494141\" xlink:href=\"#DejaVuSans-31\"/>\r\n     <use x=\"195.117188\" xlink:href=\"#DejaVuSans-36\"/>\r\n    </g>\r\n   </g>\r\n   <g id=\"text_136\">\r\n    <!-- 0.52 -->\r\n    <g style=\"fill:#262626;\" transform=\"translate(193.795313 444.108594)scale(0.1 -0.1)\">\r\n     <use xlink:href=\"#DejaVuSans-30\"/>\r\n     <use x=\"63.623047\" xlink:href=\"#DejaVuSans-2e\"/>\r\n     <use x=\"95.410156\" xlink:href=\"#DejaVuSans-35\"/>\r\n     <use x=\"159.033203\" xlink:href=\"#DejaVuSans-32\"/>\r\n    </g>\r\n   </g>\r\n   <g id=\"text_137\">\r\n    <!-- -0.21 -->\r\n    <g style=\"fill:#262626;\" transform=\"translate(229.191406 444.108594)scale(0.1 -0.1)\">\r\n     <use xlink:href=\"#DejaVuSans-2d\"/>\r\n     <use x=\"36.083984\" xlink:href=\"#DejaVuSans-30\"/>\r\n     <use x=\"99.707031\" xlink:href=\"#DejaVuSans-2e\"/>\r\n     <use x=\"131.494141\" xlink:href=\"#DejaVuSans-32\"/>\r\n     <use x=\"195.117188\" xlink:href=\"#DejaVuSans-31\"/>\r\n    </g>\r\n   </g>\r\n   <g id=\"text_138\">\r\n    <!-- 0.27 -->\r\n    <g style=\"fill:#262626;\" transform=\"translate(268.195312 444.108594)scale(0.1 -0.1)\">\r\n     <use xlink:href=\"#DejaVuSans-30\"/>\r\n     <use x=\"63.623047\" xlink:href=\"#DejaVuSans-2e\"/>\r\n     <use x=\"95.410156\" xlink:href=\"#DejaVuSans-32\"/>\r\n     <use x=\"159.033203\" xlink:href=\"#DejaVuSans-37\"/>\r\n    </g>\r\n   </g>\r\n   <g id=\"text_139\">\r\n    <!-- 0.31 -->\r\n    <g style=\"fill:#262626;\" transform=\"translate(305.395313 444.108594)scale(0.1 -0.1)\">\r\n     <use xlink:href=\"#DejaVuSans-30\"/>\r\n     <use x=\"63.623047\" xlink:href=\"#DejaVuSans-2e\"/>\r\n     <use x=\"95.410156\" xlink:href=\"#DejaVuSans-33\"/>\r\n     <use x=\"159.033203\" xlink:href=\"#DejaVuSans-31\"/>\r\n    </g>\r\n   </g>\r\n   <g id=\"text_140\">\r\n    <!-- 0.16 -->\r\n    <g style=\"fill:#262626;\" transform=\"translate(342.595312 444.108594)scale(0.1 -0.1)\">\r\n     <use xlink:href=\"#DejaVuSans-30\"/>\r\n     <use x=\"63.623047\" xlink:href=\"#DejaVuSans-2e\"/>\r\n     <use x=\"95.410156\" xlink:href=\"#DejaVuSans-31\"/>\r\n     <use x=\"159.033203\" xlink:href=\"#DejaVuSans-36\"/>\r\n    </g>\r\n   </g>\r\n   <g id=\"text_141\">\r\n    <!-- 0.041 -->\r\n    <g style=\"fill:#262626;\" transform=\"translate(376.614063 444.108594)scale(0.1 -0.1)\">\r\n     <use xlink:href=\"#DejaVuSans-30\"/>\r\n     <use x=\"63.623047\" xlink:href=\"#DejaVuSans-2e\"/>\r\n     <use x=\"95.410156\" xlink:href=\"#DejaVuSans-30\"/>\r\n     <use x=\"159.033203\" xlink:href=\"#DejaVuSans-34\"/>\r\n     <use x=\"222.65625\" xlink:href=\"#DejaVuSans-31\"/>\r\n    </g>\r\n   </g>\r\n   <g id=\"text_142\">\r\n    <!-- 1 -->\r\n    <g style=\"fill:#ffffff;\" transform=\"translate(424.946875 444.108594)scale(0.1 -0.1)\">\r\n     <use xlink:href=\"#DejaVuSans-31\"/>\r\n    </g>\r\n   </g>\r\n   <g id=\"text_143\">\r\n    <!-- 0.35 -->\r\n    <g style=\"fill:#262626;\" transform=\"translate(454.195312 444.108594)scale(0.1 -0.1)\">\r\n     <use xlink:href=\"#DejaVuSans-30\"/>\r\n     <use x=\"63.623047\" xlink:href=\"#DejaVuSans-2e\"/>\r\n     <use x=\"95.410156\" xlink:href=\"#DejaVuSans-33\"/>\r\n     <use x=\"159.033203\" xlink:href=\"#DejaVuSans-35\"/>\r\n    </g>\r\n   </g>\r\n   <g id=\"text_144\">\r\n    <!-- -0.42 -->\r\n    <g style=\"fill:#262626;\" transform=\"translate(489.591406 444.108594)scale(0.1 -0.1)\">\r\n     <use xlink:href=\"#DejaVuSans-2d\"/>\r\n     <use x=\"36.083984\" xlink:href=\"#DejaVuSans-30\"/>\r\n     <use x=\"99.707031\" xlink:href=\"#DejaVuSans-2e\"/>\r\n     <use x=\"131.494141\" xlink:href=\"#DejaVuSans-34\"/>\r\n     <use x=\"195.117188\" xlink:href=\"#DejaVuSans-32\"/>\r\n    </g>\r\n   </g>\r\n   <g id=\"text_145\">\r\n    <!-- -0.031 -->\r\n    <g style=\"fill:#262626;\" transform=\"translate(77.210156 489.408594)scale(0.1 -0.1)\">\r\n     <use xlink:href=\"#DejaVuSans-2d\"/>\r\n     <use x=\"36.083984\" xlink:href=\"#DejaVuSans-30\"/>\r\n     <use x=\"99.707031\" xlink:href=\"#DejaVuSans-2e\"/>\r\n     <use x=\"131.494141\" xlink:href=\"#DejaVuSans-30\"/>\r\n     <use x=\"195.117188\" xlink:href=\"#DejaVuSans-33\"/>\r\n     <use x=\"258.740234\" xlink:href=\"#DejaVuSans-31\"/>\r\n    </g>\r\n   </g>\r\n   <g id=\"text_146\">\r\n    <!-- 0.061 -->\r\n    <g style=\"fill:#262626;\" transform=\"translate(116.214063 489.408594)scale(0.1 -0.1)\">\r\n     <use xlink:href=\"#DejaVuSans-30\"/>\r\n     <use x=\"63.623047\" xlink:href=\"#DejaVuSans-2e\"/>\r\n     <use x=\"95.410156\" xlink:href=\"#DejaVuSans-30\"/>\r\n     <use x=\"159.033203\" xlink:href=\"#DejaVuSans-36\"/>\r\n     <use x=\"222.65625\" xlink:href=\"#DejaVuSans-31\"/>\r\n    </g>\r\n   </g>\r\n   <g id=\"text_147\">\r\n    <!-- 0.05 -->\r\n    <g style=\"fill:#262626;\" transform=\"translate(156.595313 489.408594)scale(0.1 -0.1)\">\r\n     <use xlink:href=\"#DejaVuSans-30\"/>\r\n     <use x=\"63.623047\" xlink:href=\"#DejaVuSans-2e\"/>\r\n     <use x=\"95.410156\" xlink:href=\"#DejaVuSans-30\"/>\r\n     <use x=\"159.033203\" xlink:href=\"#DejaVuSans-35\"/>\r\n    </g>\r\n   </g>\r\n   <g id=\"text_148\">\r\n    <!-- 0.19 -->\r\n    <g style=\"fill:#262626;\" transform=\"translate(193.795313 489.408594)scale(0.1 -0.1)\">\r\n     <use xlink:href=\"#DejaVuSans-30\"/>\r\n     <use x=\"63.623047\" xlink:href=\"#DejaVuSans-2e\"/>\r\n     <use x=\"95.410156\" xlink:href=\"#DejaVuSans-31\"/>\r\n     <use x=\"159.033203\" xlink:href=\"#DejaVuSans-39\"/>\r\n    </g>\r\n   </g>\r\n   <g id=\"text_149\">\r\n    <!-- -0.31 -->\r\n    <g style=\"fill:#262626;\" transform=\"translate(229.191406 489.408594)scale(0.1 -0.1)\">\r\n     <use xlink:href=\"#DejaVuSans-2d\"/>\r\n     <use x=\"36.083984\" xlink:href=\"#DejaVuSans-30\"/>\r\n     <use x=\"99.707031\" xlink:href=\"#DejaVuSans-2e\"/>\r\n     <use x=\"131.494141\" xlink:href=\"#DejaVuSans-33\"/>\r\n     <use x=\"195.117188\" xlink:href=\"#DejaVuSans-31\"/>\r\n    </g>\r\n   </g>\r\n   <g id=\"text_150\">\r\n    <!-- 0.86 -->\r\n    <g style=\"fill:#ffffff;\" transform=\"translate(268.195312 489.408594)scale(0.1 -0.1)\">\r\n     <use xlink:href=\"#DejaVuSans-30\"/>\r\n     <use x=\"63.623047\" xlink:href=\"#DejaVuSans-2e\"/>\r\n     <use x=\"95.410156\" xlink:href=\"#DejaVuSans-38\"/>\r\n     <use x=\"159.033203\" xlink:href=\"#DejaVuSans-36\"/>\r\n    </g>\r\n   </g>\r\n   <g id=\"text_151\">\r\n    <!-- 0.79 -->\r\n    <g style=\"fill:#ffffff;\" transform=\"translate(305.395313 489.408594)scale(0.1 -0.1)\">\r\n     <use xlink:href=\"#DejaVuSans-30\"/>\r\n     <use x=\"63.623047\" xlink:href=\"#DejaVuSans-2e\"/>\r\n     <use x=\"95.410156\" xlink:href=\"#DejaVuSans-37\"/>\r\n     <use x=\"159.033203\" xlink:href=\"#DejaVuSans-39\"/>\r\n    </g>\r\n   </g>\r\n   <g id=\"text_152\">\r\n    <!-- 0.23 -->\r\n    <g style=\"fill:#262626;\" transform=\"translate(342.595312 489.408594)scale(0.1 -0.1)\">\r\n     <use xlink:href=\"#DejaVuSans-30\"/>\r\n     <use x=\"63.623047\" xlink:href=\"#DejaVuSans-2e\"/>\r\n     <use x=\"95.410156\" xlink:href=\"#DejaVuSans-32\"/>\r\n     <use x=\"159.033203\" xlink:href=\"#DejaVuSans-33\"/>\r\n    </g>\r\n   </g>\r\n   <g id=\"text_153\">\r\n    <!-- -0.1 -->\r\n    <g style=\"fill:#262626;\" transform=\"translate(381.172656 489.408594)scale(0.1 -0.1)\">\r\n     <use xlink:href=\"#DejaVuSans-2d\"/>\r\n     <use x=\"36.083984\" xlink:href=\"#DejaVuSans-30\"/>\r\n     <use x=\"99.707031\" xlink:href=\"#DejaVuSans-2e\"/>\r\n     <use x=\"131.494141\" xlink:href=\"#DejaVuSans-31\"/>\r\n    </g>\r\n   </g>\r\n   <g id=\"text_154\">\r\n    <!-- 0.35 -->\r\n    <g style=\"fill:#262626;\" transform=\"translate(416.995313 489.408594)scale(0.1 -0.1)\">\r\n     <use xlink:href=\"#DejaVuSans-30\"/>\r\n     <use x=\"63.623047\" xlink:href=\"#DejaVuSans-2e\"/>\r\n     <use x=\"95.410156\" xlink:href=\"#DejaVuSans-33\"/>\r\n     <use x=\"159.033203\" xlink:href=\"#DejaVuSans-35\"/>\r\n    </g>\r\n   </g>\r\n   <g id=\"text_155\">\r\n    <!-- 1 -->\r\n    <g style=\"fill:#ffffff;\" transform=\"translate(462.146875 489.408594)scale(0.1 -0.1)\">\r\n     <use xlink:href=\"#DejaVuSans-31\"/>\r\n    </g>\r\n   </g>\r\n   <g id=\"text_156\">\r\n    <!-- -0.69 -->\r\n    <g style=\"fill:#ffffff;\" transform=\"translate(489.591406 489.408594)scale(0.1 -0.1)\">\r\n     <use xlink:href=\"#DejaVuSans-2d\"/>\r\n     <use x=\"36.083984\" xlink:href=\"#DejaVuSans-30\"/>\r\n     <use x=\"99.707031\" xlink:href=\"#DejaVuSans-2e\"/>\r\n     <use x=\"131.494141\" xlink:href=\"#DejaVuSans-36\"/>\r\n     <use x=\"195.117188\" xlink:href=\"#DejaVuSans-39\"/>\r\n    </g>\r\n   </g>\r\n   <g id=\"text_157\">\r\n    <!-- 0.029 -->\r\n    <g style=\"fill:#262626;\" transform=\"translate(79.014062 534.708594)scale(0.1 -0.1)\">\r\n     <use xlink:href=\"#DejaVuSans-30\"/>\r\n     <use x=\"63.623047\" xlink:href=\"#DejaVuSans-2e\"/>\r\n     <use x=\"95.410156\" xlink:href=\"#DejaVuSans-30\"/>\r\n     <use x=\"159.033203\" xlink:href=\"#DejaVuSans-32\"/>\r\n     <use x=\"222.65625\" xlink:href=\"#DejaVuSans-39\"/>\r\n    </g>\r\n   </g>\r\n   <g id=\"text_158\">\r\n    <!-- -0.22 -->\r\n    <g style=\"fill:#262626;\" transform=\"translate(117.591406 534.708594)scale(0.1 -0.1)\">\r\n     <use xlink:href=\"#DejaVuSans-2d\"/>\r\n     <use x=\"36.083984\" xlink:href=\"#DejaVuSans-30\"/>\r\n     <use x=\"99.707031\" xlink:href=\"#DejaVuSans-2e\"/>\r\n     <use x=\"131.494141\" xlink:href=\"#DejaVuSans-32\"/>\r\n     <use x=\"195.117188\" xlink:href=\"#DejaVuSans-32\"/>\r\n    </g>\r\n   </g>\r\n   <g id=\"text_159\">\r\n    <!-- 0.15 -->\r\n    <g style=\"fill:#262626;\" transform=\"translate(156.595313 534.708594)scale(0.1 -0.1)\">\r\n     <use xlink:href=\"#DejaVuSans-30\"/>\r\n     <use x=\"63.623047\" xlink:href=\"#DejaVuSans-2e\"/>\r\n     <use x=\"95.410156\" xlink:href=\"#DejaVuSans-31\"/>\r\n     <use x=\"159.033203\" xlink:href=\"#DejaVuSans-35\"/>\r\n    </g>\r\n   </g>\r\n   <g id=\"text_160\">\r\n    <!-- -0.28 -->\r\n    <g style=\"fill:#262626;\" transform=\"translate(191.991406 534.708594)scale(0.1 -0.1)\">\r\n     <use xlink:href=\"#DejaVuSans-2d\"/>\r\n     <use x=\"36.083984\" xlink:href=\"#DejaVuSans-30\"/>\r\n     <use x=\"99.707031\" xlink:href=\"#DejaVuSans-2e\"/>\r\n     <use x=\"131.494141\" xlink:href=\"#DejaVuSans-32\"/>\r\n     <use x=\"195.117188\" xlink:href=\"#DejaVuSans-38\"/>\r\n    </g>\r\n   </g>\r\n   <g id=\"text_161\">\r\n    <!-- 0.23 -->\r\n    <g style=\"fill:#262626;\" transform=\"translate(230.995313 534.708594)scale(0.1 -0.1)\">\r\n     <use xlink:href=\"#DejaVuSans-30\"/>\r\n     <use x=\"63.623047\" xlink:href=\"#DejaVuSans-2e\"/>\r\n     <use x=\"95.410156\" xlink:href=\"#DejaVuSans-32\"/>\r\n     <use x=\"159.033203\" xlink:href=\"#DejaVuSans-33\"/>\r\n    </g>\r\n   </g>\r\n   <g id=\"text_162\">\r\n    <!-- -0.59 -->\r\n    <g style=\"fill:#ffffff;\" transform=\"translate(266.391406 534.708594)scale(0.1 -0.1)\">\r\n     <use xlink:href=\"#DejaVuSans-2d\"/>\r\n     <use x=\"36.083984\" xlink:href=\"#DejaVuSans-30\"/>\r\n     <use x=\"99.707031\" xlink:href=\"#DejaVuSans-2e\"/>\r\n     <use x=\"131.494141\" xlink:href=\"#DejaVuSans-35\"/>\r\n     <use x=\"195.117188\" xlink:href=\"#DejaVuSans-39\"/>\r\n    </g>\r\n   </g>\r\n   <g id=\"text_163\">\r\n    <!-- -0.55 -->\r\n    <g style=\"fill:#ffffff;\" transform=\"translate(303.591406 534.708594)scale(0.1 -0.1)\">\r\n     <use xlink:href=\"#DejaVuSans-2d\"/>\r\n     <use x=\"36.083984\" xlink:href=\"#DejaVuSans-30\"/>\r\n     <use x=\"99.707031\" xlink:href=\"#DejaVuSans-2e\"/>\r\n     <use x=\"131.494141\" xlink:href=\"#DejaVuSans-35\"/>\r\n     <use x=\"195.117188\" xlink:href=\"#DejaVuSans-35\"/>\r\n    </g>\r\n   </g>\r\n   <g id=\"text_164\">\r\n    <!-- -0.28 -->\r\n    <g style=\"fill:#262626;\" transform=\"translate(340.791406 534.708594)scale(0.1 -0.1)\">\r\n     <use xlink:href=\"#DejaVuSans-2d\"/>\r\n     <use x=\"36.083984\" xlink:href=\"#DejaVuSans-30\"/>\r\n     <use x=\"99.707031\" xlink:href=\"#DejaVuSans-2e\"/>\r\n     <use x=\"131.494141\" xlink:href=\"#DejaVuSans-32\"/>\r\n     <use x=\"195.117188\" xlink:href=\"#DejaVuSans-38\"/>\r\n    </g>\r\n   </g>\r\n   <g id=\"text_165\">\r\n    <!-- 0.047 -->\r\n    <g style=\"fill:#262626;\" transform=\"translate(376.614063 534.708594)scale(0.1 -0.1)\">\r\n     <use xlink:href=\"#DejaVuSans-30\"/>\r\n     <use x=\"63.623047\" xlink:href=\"#DejaVuSans-2e\"/>\r\n     <use x=\"95.410156\" xlink:href=\"#DejaVuSans-30\"/>\r\n     <use x=\"159.033203\" xlink:href=\"#DejaVuSans-34\"/>\r\n     <use x=\"222.65625\" xlink:href=\"#DejaVuSans-37\"/>\r\n    </g>\r\n   </g>\r\n   <g id=\"text_166\">\r\n    <!-- -0.42 -->\r\n    <g style=\"fill:#262626;\" transform=\"translate(415.191406 534.708594)scale(0.1 -0.1)\">\r\n     <use xlink:href=\"#DejaVuSans-2d\"/>\r\n     <use x=\"36.083984\" xlink:href=\"#DejaVuSans-30\"/>\r\n     <use x=\"99.707031\" xlink:href=\"#DejaVuSans-2e\"/>\r\n     <use x=\"131.494141\" xlink:href=\"#DejaVuSans-34\"/>\r\n     <use x=\"195.117188\" xlink:href=\"#DejaVuSans-32\"/>\r\n    </g>\r\n   </g>\r\n   <g id=\"text_167\">\r\n    <!-- -0.69 -->\r\n    <g style=\"fill:#ffffff;\" transform=\"translate(452.391406 534.708594)scale(0.1 -0.1)\">\r\n     <use xlink:href=\"#DejaVuSans-2d\"/>\r\n     <use x=\"36.083984\" xlink:href=\"#DejaVuSans-30\"/>\r\n     <use x=\"99.707031\" xlink:href=\"#DejaVuSans-2e\"/>\r\n     <use x=\"131.494141\" xlink:href=\"#DejaVuSans-36\"/>\r\n     <use x=\"195.117188\" xlink:href=\"#DejaVuSans-39\"/>\r\n    </g>\r\n   </g>\r\n   <g id=\"text_168\">\r\n    <!-- 1 -->\r\n    <g style=\"fill:#ffffff;\" transform=\"translate(499.346875 534.708594)scale(0.1 -0.1)\">\r\n     <use xlink:href=\"#DejaVuSans-31\"/>\r\n    </g>\r\n   </g>\r\n  </g>\r\n  <g id=\"axes_2\">\r\n   <g id=\"patch_3\">\r\n    <path d=\"M 549.028125 554.599219 \r\nL 576.208125 554.599219 \r\nL 576.208125 10.999219 \r\nL 549.028125 10.999219 \r\nz\r\n\" style=\"fill:#ffffff;\"/>\r\n   </g>\r\n   <g id=\"patch_4\">\r\n    <path clip-path=\"url(#pded21693b0)\" d=\"M 549.028125 554.599219 \r\nL 549.028125 552.475781 \r\nL 549.028125 13.122656 \r\nL 549.028125 10.999219 \r\nL 576.208125 10.999219 \r\nL 576.208125 13.122656 \r\nL 576.208125 552.475781 \r\nL 576.208125 554.599219 \r\nL 576.208125 554.599219 \r\nz\r\n\" style=\"fill:#ffffff;stroke:#ffffff;stroke-linejoin:miter;stroke-width:0.01;\"/>\r\n   </g>\r\n   <image height=\"543\" id=\"imaged756483ef1\" transform=\"scale(1 -1)translate(0 -543)\" width=\"27\" x=\"549\" xlink:href=\"data:image/png;base64,\r\niVBORw0KGgoAAAANSUhEUgAAABsAAAIfCAYAAACB2qdqAAACl0lEQVR4nO2ci43cQAzFxsZ0lRau6OsrWU+KWEKACbKBgfZ9JF+AXH9+fs8a4p56aK219nXPvTc92TX22PBkV5p9TzlD2LdVs0KNUKgR0gxh3+UMoMkQvK2fQRD27V0xl1Uzrxu9k3UWEDTZ+x4TF7H2TxPmL0+tG7V1Zc5ZbgQQL887gwA0GYK4rloxBOUMYQ8OZl6eXoN4J+vgIZheMXOPdRYgiM8CbYNM19XcY1kfQV1Xc491FiB4v2LUDTL3mHl5ag3iPQu0d6N5eWon65Qj6OB532PiizjrE6QZgvfWF2vm/bCoQQjMZ4H1Z6yIEaorBLFm3slyI4F6eY79B0NZn8FrffFktzZnXs28k2m7cdggq1B/T9ZHEJ9yYjfWIADl7H2PmYu4UAMUaoRWDEJuRPB2Y8sTwWuQQo2QZgh78rU0Q/DmLIMgeA2SZgh9eSLkRoQme99j3p+xUCM0GUKTIUxP9ow9Vje+77F9HenPaA710YY6zQDSDCHNEFqeCFkfwWt9s2benGm/z5ZXM2vOKmIEr0EKNULLE2EvsWbaybStr3VjdYXgNUhnAUKaIag1s06mbf1hgzxWg3jrqlATpBmCeDKxG62t34pBEIdarJk11LkRITcieDUr1Ah7PVKDqDXTTmatK7UbrZodq2YZBEEc6tOKAegsQBBrJs6ZtfW7QRC8BlGfBVrNtEV8tMtTrJk1ZxUxgtcgXcQIHakI4py1PAnEy9NbxF3EBIUaQT1ZbvyeNHvfY2KD9G8xBLkRIc0QmgzB68YMgrCfj3UyrfXFbmwygnKGINZM2/oZBKFQIxRqBLFm4pxp3ajNWaFG8Bpkn4+2rnIjQCsGYT//rJOdv9LJMgiC1yBqzaxngVkz6WT/AWoRWijRcYlCAAAAAElFTkSuQmCC\" y=\"-11\"/>\r\n   <g id=\"matplotlib.axis_3\"/>\r\n   <g id=\"matplotlib.axis_4\">\r\n    <g id=\"ytick_13\">\r\n     <g id=\"line2d_25\">\r\n      <defs>\r\n       <path d=\"M 0 0 \r\nL 3.5 0 \r\n\" id=\"m67113b2437\" style=\"stroke:#000000;stroke-width:0.8;\"/>\r\n      </defs>\r\n      <g>\r\n       <use style=\"stroke:#000000;stroke-width:0.8;\" x=\"576.208125\" xlink:href=\"#m67113b2437\" y=\"554.599219\"/>\r\n      </g>\r\n     </g>\r\n     <g id=\"text_169\">\r\n      <!-- −1.00 -->\r\n      <g transform=\"translate(583.208125 558.398437)scale(0.1 -0.1)\">\r\n       <defs>\r\n        <path d=\"M 678 2272 \r\nL 4684 2272 \r\nL 4684 1741 \r\nL 678 1741 \r\nL 678 2272 \r\nz\r\n\" id=\"DejaVuSans-2212\" transform=\"scale(0.015625)\"/>\r\n       </defs>\r\n       <use xlink:href=\"#DejaVuSans-2212\"/>\r\n       <use x=\"83.789062\" xlink:href=\"#DejaVuSans-31\"/>\r\n       <use x=\"147.412109\" xlink:href=\"#DejaVuSans-2e\"/>\r\n       <use x=\"179.199219\" xlink:href=\"#DejaVuSans-30\"/>\r\n       <use x=\"242.822266\" xlink:href=\"#DejaVuSans-30\"/>\r\n      </g>\r\n     </g>\r\n    </g>\r\n    <g id=\"ytick_14\">\r\n     <g id=\"line2d_26\">\r\n      <g>\r\n       <use style=\"stroke:#000000;stroke-width:0.8;\" x=\"576.208125\" xlink:href=\"#m67113b2437\" y=\"486.649219\"/>\r\n      </g>\r\n     </g>\r\n     <g id=\"text_170\">\r\n      <!-- −0.75 -->\r\n      <g transform=\"translate(583.208125 490.448437)scale(0.1 -0.1)\">\r\n       <use xlink:href=\"#DejaVuSans-2212\"/>\r\n       <use x=\"83.789062\" xlink:href=\"#DejaVuSans-30\"/>\r\n       <use x=\"147.412109\" xlink:href=\"#DejaVuSans-2e\"/>\r\n       <use x=\"179.199219\" xlink:href=\"#DejaVuSans-37\"/>\r\n       <use x=\"242.822266\" xlink:href=\"#DejaVuSans-35\"/>\r\n      </g>\r\n     </g>\r\n    </g>\r\n    <g id=\"ytick_15\">\r\n     <g id=\"line2d_27\">\r\n      <g>\r\n       <use style=\"stroke:#000000;stroke-width:0.8;\" x=\"576.208125\" xlink:href=\"#m67113b2437\" y=\"418.699219\"/>\r\n      </g>\r\n     </g>\r\n     <g id=\"text_171\">\r\n      <!-- −0.50 -->\r\n      <g transform=\"translate(583.208125 422.498437)scale(0.1 -0.1)\">\r\n       <use xlink:href=\"#DejaVuSans-2212\"/>\r\n       <use x=\"83.789062\" xlink:href=\"#DejaVuSans-30\"/>\r\n       <use x=\"147.412109\" xlink:href=\"#DejaVuSans-2e\"/>\r\n       <use x=\"179.199219\" xlink:href=\"#DejaVuSans-35\"/>\r\n       <use x=\"242.822266\" xlink:href=\"#DejaVuSans-30\"/>\r\n      </g>\r\n     </g>\r\n    </g>\r\n    <g id=\"ytick_16\">\r\n     <g id=\"line2d_28\">\r\n      <g>\r\n       <use style=\"stroke:#000000;stroke-width:0.8;\" x=\"576.208125\" xlink:href=\"#m67113b2437\" y=\"350.749219\"/>\r\n      </g>\r\n     </g>\r\n     <g id=\"text_172\">\r\n      <!-- −0.25 -->\r\n      <g transform=\"translate(583.208125 354.548437)scale(0.1 -0.1)\">\r\n       <use xlink:href=\"#DejaVuSans-2212\"/>\r\n       <use x=\"83.789062\" xlink:href=\"#DejaVuSans-30\"/>\r\n       <use x=\"147.412109\" xlink:href=\"#DejaVuSans-2e\"/>\r\n       <use x=\"179.199219\" xlink:href=\"#DejaVuSans-32\"/>\r\n       <use x=\"242.822266\" xlink:href=\"#DejaVuSans-35\"/>\r\n      </g>\r\n     </g>\r\n    </g>\r\n    <g id=\"ytick_17\">\r\n     <g id=\"line2d_29\">\r\n      <g>\r\n       <use style=\"stroke:#000000;stroke-width:0.8;\" x=\"576.208125\" xlink:href=\"#m67113b2437\" y=\"282.799219\"/>\r\n      </g>\r\n     </g>\r\n     <g id=\"text_173\">\r\n      <!-- 0.00 -->\r\n      <g transform=\"translate(583.208125 286.598437)scale(0.1 -0.1)\">\r\n       <use xlink:href=\"#DejaVuSans-30\"/>\r\n       <use x=\"63.623047\" xlink:href=\"#DejaVuSans-2e\"/>\r\n       <use x=\"95.410156\" xlink:href=\"#DejaVuSans-30\"/>\r\n       <use x=\"159.033203\" xlink:href=\"#DejaVuSans-30\"/>\r\n      </g>\r\n     </g>\r\n    </g>\r\n    <g id=\"ytick_18\">\r\n     <g id=\"line2d_30\">\r\n      <g>\r\n       <use style=\"stroke:#000000;stroke-width:0.8;\" x=\"576.208125\" xlink:href=\"#m67113b2437\" y=\"214.849219\"/>\r\n      </g>\r\n     </g>\r\n     <g id=\"text_174\">\r\n      <!-- 0.25 -->\r\n      <g transform=\"translate(583.208125 218.648437)scale(0.1 -0.1)\">\r\n       <use xlink:href=\"#DejaVuSans-30\"/>\r\n       <use x=\"63.623047\" xlink:href=\"#DejaVuSans-2e\"/>\r\n       <use x=\"95.410156\" xlink:href=\"#DejaVuSans-32\"/>\r\n       <use x=\"159.033203\" xlink:href=\"#DejaVuSans-35\"/>\r\n      </g>\r\n     </g>\r\n    </g>\r\n    <g id=\"ytick_19\">\r\n     <g id=\"line2d_31\">\r\n      <g>\r\n       <use style=\"stroke:#000000;stroke-width:0.8;\" x=\"576.208125\" xlink:href=\"#m67113b2437\" y=\"146.899219\"/>\r\n      </g>\r\n     </g>\r\n     <g id=\"text_175\">\r\n      <!-- 0.50 -->\r\n      <g transform=\"translate(583.208125 150.698437)scale(0.1 -0.1)\">\r\n       <use xlink:href=\"#DejaVuSans-30\"/>\r\n       <use x=\"63.623047\" xlink:href=\"#DejaVuSans-2e\"/>\r\n       <use x=\"95.410156\" xlink:href=\"#DejaVuSans-35\"/>\r\n       <use x=\"159.033203\" xlink:href=\"#DejaVuSans-30\"/>\r\n      </g>\r\n     </g>\r\n    </g>\r\n    <g id=\"ytick_20\">\r\n     <g id=\"line2d_32\">\r\n      <g>\r\n       <use style=\"stroke:#000000;stroke-width:0.8;\" x=\"576.208125\" xlink:href=\"#m67113b2437\" y=\"78.949219\"/>\r\n      </g>\r\n     </g>\r\n     <g id=\"text_176\">\r\n      <!-- 0.75 -->\r\n      <g transform=\"translate(583.208125 82.748438)scale(0.1 -0.1)\">\r\n       <use xlink:href=\"#DejaVuSans-30\"/>\r\n       <use x=\"63.623047\" xlink:href=\"#DejaVuSans-2e\"/>\r\n       <use x=\"95.410156\" xlink:href=\"#DejaVuSans-37\"/>\r\n       <use x=\"159.033203\" xlink:href=\"#DejaVuSans-35\"/>\r\n      </g>\r\n     </g>\r\n    </g>\r\n    <g id=\"ytick_21\">\r\n     <g id=\"line2d_33\">\r\n      <g>\r\n       <use style=\"stroke:#000000;stroke-width:0.8;\" x=\"576.208125\" xlink:href=\"#m67113b2437\" y=\"10.999219\"/>\r\n      </g>\r\n     </g>\r\n     <g id=\"text_177\">\r\n      <!-- 1.00 -->\r\n      <g transform=\"translate(583.208125 14.798437)scale(0.1 -0.1)\">\r\n       <use xlink:href=\"#DejaVuSans-31\"/>\r\n       <use x=\"63.623047\" xlink:href=\"#DejaVuSans-2e\"/>\r\n       <use x=\"95.410156\" xlink:href=\"#DejaVuSans-30\"/>\r\n       <use x=\"159.033203\" xlink:href=\"#DejaVuSans-30\"/>\r\n      </g>\r\n     </g>\r\n    </g>\r\n   </g>\r\n   <g id=\"LineCollection_1\"/>\r\n   <g id=\"patch_5\">\r\n    <path d=\"M 549.028125 554.599219 \r\nL 549.028125 552.475781 \r\nL 549.028125 13.122656 \r\nL 549.028125 10.999219 \r\nL 576.208125 10.999219 \r\nL 576.208125 13.122656 \r\nL 576.208125 552.475781 \r\nL 576.208125 554.599219 \r\nz\r\n\" style=\"fill:none;\"/>\r\n   </g>\r\n  </g>\r\n </g>\r\n <defs>\r\n  <clipPath id=\"pa5353f91d3\">\r\n   <rect height=\"543.6\" width=\"446.4\" x=\"74.728125\" y=\"10.999219\"/>\r\n  </clipPath>\r\n  <clipPath id=\"pded21693b0\">\r\n   <rect height=\"543.6\" width=\"27.18\" x=\"549.028125\" y=\"10.999219\"/>\r\n  </clipPath>\r\n </defs>\r\n</svg>\r\n",
      "image/png": "[encoded data removed]"
     },
     "metadata": {
      "needs_background": "light"
     }
    }
   ],
   "metadata": {}
  },
  {
   "cell_type": "code",
   "execution_count": 22,
   "source": [
    "corr_matrix[ abs(corr_matrix['Survived']) > 0.1 ]['Survived'].sort_values()"
   ],
   "outputs": [
    {
     "output_type": "execute_result",
     "data": {
      "text/plain": [
       "Pclass     -0.264710\n",
       "IsAlone    -0.216299\n",
       "Parch       0.108919\n",
       "Embarked    0.111625\n",
       "Fare        0.233773\n",
       "Title       0.456723\n",
       "Sex         0.688371\n",
       "Survived    1.000000\n",
       "Name: Survived, dtype: float64"
      ]
     },
     "metadata": {},
     "execution_count": 22
    }
   ],
   "metadata": {}
  },
  {
   "cell_type": "code",
   "execution_count": 23,
   "source": [
    "from sklearn.ensemble import ExtraTreesClassifier\r\n",
    "\r\n",
    "x = ds[[ 'Pclass', 'Sex', 'Age', 'SibSp', 'Parch', 'Fare', 'Embarked', 'Title', 'IsAlone' ]]\r\n",
    "y = ds.iloc[ :, 1 ]\r\n",
    "\r\n",
    "model = ExtraTreesClassifier()\r\n",
    "model.fit( x, y )\r\n",
    "\r\n",
    "etcplot = pd.DataFrame( list(zip( x , model.feature_importances_ ) ), columns = ['x', 'y'] )\r\n",
    "etcplot = etcplot.sort_values( 'y', ascending = False )\r\n",
    "\r\n",
    "fig = go.Figure()\r\n",
    "fig.add_trace(\r\n",
    "    go.Bar(\r\n",
    "        x = etcplot['x'],\r\n",
    "        y = etcplot['y']\r\n",
    "))\r\n",
    "\r\n",
    "fig.show()"
   ],
   "outputs": [
    {
     "output_type": "display_data",
     "data": {
      "application/vnd.plotly.v1+json": {
       "config": {
        "plotlyServerURL": "https://plot.ly"
       },
       "data": [
        {
         "type": "bar",
         "x": [
          "Sex",
          "Fare",
          "Title",
          "Pclass",
          "Age",
          "SibSp",
          "Embarked",
          "Parch",
          "IsAlone"
         ],
         "y": [
          0.43329393972305597,
          0.23321784214787644,
          0.12061584848655858,
          0.06653407088040421,
          0.03667738740954996,
          0.03459168817588592,
          0.027516383169300385,
          0.025929529678605654,
          0.021623310328762874
         ]
        }
       ],
       "layout": {
        "template": {
         "data": {
          "bar": [
           {
            "error_x": {
             "color": "#2a3f5f"
            },
            "error_y": {
             "color": "#2a3f5f"
            },
            "marker": {
             "line": {
              "color": "#E5ECF6",
              "width": 0.5
             }
            },
            "type": "bar"
           }
          ],
          "barpolar": [
           {
            "marker": {
             "line": {
              "color": "#E5ECF6",
              "width": 0.5
             }
            },
            "type": "barpolar"
           }
          ],
          "carpet": [
           {
            "aaxis": {
             "endlinecolor": "#2a3f5f",
             "gridcolor": "white",
             "linecolor": "white",
             "minorgridcolor": "white",
             "startlinecolor": "#2a3f5f"
            },
            "baxis": {
             "endlinecolor": "#2a3f5f",
             "gridcolor": "white",
             "linecolor": "white",
             "minorgridcolor": "white",
             "startlinecolor": "#2a3f5f"
            },
            "type": "carpet"
           }
          ],
          "choropleth": [
           {
            "colorbar": {
             "outlinewidth": 0,
             "ticks": ""
            },
            "type": "choropleth"
           }
          ],
          "contour": [
           {
            "colorbar": {
             "outlinewidth": 0,
             "ticks": ""
            },
            "colorscale": [
             [
              0,
              "#0d0887"
             ],
             [
              0.1111111111111111,
              "#46039f"
             ],
             [
              0.2222222222222222,
              "#7201a8"
             ],
             [
              0.3333333333333333,
              "#9c179e"
             ],
             [
              0.4444444444444444,
              "#bd3786"
             ],
             [
              0.5555555555555556,
              "#d8576b"
             ],
             [
              0.6666666666666666,
              "#ed7953"
             ],
             [
              0.7777777777777778,
              "#fb9f3a"
             ],
             [
              0.8888888888888888,
              "#fdca26"
             ],
             [
              1,
              "#f0f921"
             ]
            ],
            "type": "contour"
           }
          ],
          "contourcarpet": [
           {
            "colorbar": {
             "outlinewidth": 0,
             "ticks": ""
            },
            "type": "contourcarpet"
           }
          ],
          "heatmap": [
           {
            "colorbar": {
             "outlinewidth": 0,
             "ticks": ""
            },
            "colorscale": [
             [
              0,
              "#0d0887"
             ],
             [
              0.1111111111111111,
              "#46039f"
             ],
             [
              0.2222222222222222,
              "#7201a8"
             ],
             [
              0.3333333333333333,
              "#9c179e"
             ],
             [
              0.4444444444444444,
              "#bd3786"
             ],
             [
              0.5555555555555556,
              "#d8576b"
             ],
             [
              0.6666666666666666,
              "#ed7953"
             ],
             [
              0.7777777777777778,
              "#fb9f3a"
             ],
             [
              0.8888888888888888,
              "#fdca26"
             ],
             [
              1,
              "#f0f921"
             ]
            ],
            "type": "heatmap"
           }
          ],
          "heatmapgl": [
           {
            "colorbar": {
             "outlinewidth": 0,
             "ticks": ""
            },
            "colorscale": [
             [
              0,
              "#0d0887"
             ],
             [
              0.1111111111111111,
              "#46039f"
             ],
             [
              0.2222222222222222,
              "#7201a8"
             ],
             [
              0.3333333333333333,
              "#9c179e"
             ],
             [
              0.4444444444444444,
              "#bd3786"
             ],
             [
              0.5555555555555556,
              "#d8576b"
             ],
             [
              0.6666666666666666,
              "#ed7953"
             ],
             [
              0.7777777777777778,
              "#fb9f3a"
             ],
             [
              0.8888888888888888,
              "#fdca26"
             ],
             [
              1,
              "#f0f921"
             ]
            ],
            "type": "heatmapgl"
           }
          ],
          "histogram": [
           {
            "marker": {
             "colorbar": {
              "outlinewidth": 0,
              "ticks": ""
             }
            },
            "type": "histogram"
           }
          ],
          "histogram2d": [
           {
            "colorbar": {
             "outlinewidth": 0,
             "ticks": ""
            },
            "colorscale": [
             [
              0,
              "#0d0887"
             ],
             [
              0.1111111111111111,
              "#46039f"
             ],
             [
              0.2222222222222222,
              "#7201a8"
             ],
             [
              0.3333333333333333,
              "#9c179e"
             ],
             [
              0.4444444444444444,
              "#bd3786"
             ],
             [
              0.5555555555555556,
              "#d8576b"
             ],
             [
              0.6666666666666666,
              "#ed7953"
             ],
             [
              0.7777777777777778,
              "#fb9f3a"
             ],
             [
              0.8888888888888888,
              "#fdca26"
             ],
             [
              1,
              "#f0f921"
             ]
            ],
            "type": "histogram2d"
           }
          ],
          "histogram2dcontour": [
           {
            "colorbar": {
             "outlinewidth": 0,
             "ticks": ""
            },
            "colorscale": [
             [
              0,
              "#0d0887"
             ],
             [
              0.1111111111111111,
              "#46039f"
             ],
             [
              0.2222222222222222,
              "#7201a8"
             ],
             [
              0.3333333333333333,
              "#9c179e"
             ],
             [
              0.4444444444444444,
              "#bd3786"
             ],
             [
              0.5555555555555556,
              "#d8576b"
             ],
             [
              0.6666666666666666,
              "#ed7953"
             ],
             [
              0.7777777777777778,
              "#fb9f3a"
             ],
             [
              0.8888888888888888,
              "#fdca26"
             ],
             [
              1,
              "#f0f921"
             ]
            ],
            "type": "histogram2dcontour"
           }
          ],
          "mesh3d": [
           {
            "colorbar": {
             "outlinewidth": 0,
             "ticks": ""
            },
            "type": "mesh3d"
           }
          ],
          "parcoords": [
           {
            "line": {
             "colorbar": {
              "outlinewidth": 0,
              "ticks": ""
             }
            },
            "type": "parcoords"
           }
          ],
          "pie": [
           {
            "automargin": true,
            "type": "pie"
           }
          ],
          "scatter": [
           {
            "marker": {
             "colorbar": {
              "outlinewidth": 0,
              "ticks": ""
             }
            },
            "type": "scatter"
           }
          ],
          "scatter3d": [
           {
            "line": {
             "colorbar": {
              "outlinewidth": 0,
              "ticks": ""
             }
            },
            "marker": {
             "colorbar": {
              "outlinewidth": 0,
              "ticks": ""
             }
            },
            "type": "scatter3d"
           }
          ],
          "scattercarpet": [
           {
            "marker": {
             "colorbar": {
              "outlinewidth": 0,
              "ticks": ""
             }
            },
            "type": "scattercarpet"
           }
          ],
          "scattergeo": [
           {
            "marker": {
             "colorbar": {
              "outlinewidth": 0,
              "ticks": ""
             }
            },
            "type": "scattergeo"
           }
          ],
          "scattergl": [
           {
            "marker": {
             "colorbar": {
              "outlinewidth": 0,
              "ticks": ""
             }
            },
            "type": "scattergl"
           }
          ],
          "scattermapbox": [
           {
            "marker": {
             "colorbar": {
              "outlinewidth": 0,
              "ticks": ""
             }
            },
            "type": "scattermapbox"
           }
          ],
          "scatterpolar": [
           {
            "marker": {
             "colorbar": {
              "outlinewidth": 0,
              "ticks": ""
             }
            },
            "type": "scatterpolar"
           }
          ],
          "scatterpolargl": [
           {
            "marker": {
             "colorbar": {
              "outlinewidth": 0,
              "ticks": ""
             }
            },
            "type": "scatterpolargl"
           }
          ],
          "scatterternary": [
           {
            "marker": {
             "colorbar": {
              "outlinewidth": 0,
              "ticks": ""
             }
            },
            "type": "scatterternary"
           }
          ],
          "surface": [
           {
            "colorbar": {
             "outlinewidth": 0,
             "ticks": ""
            },
            "colorscale": [
             [
              0,
              "#0d0887"
             ],
             [
              0.1111111111111111,
              "#46039f"
             ],
             [
              0.2222222222222222,
              "#7201a8"
             ],
             [
              0.3333333333333333,
              "#9c179e"
             ],
             [
              0.4444444444444444,
              "#bd3786"
             ],
             [
              0.5555555555555556,
              "#d8576b"
             ],
             [
              0.6666666666666666,
              "#ed7953"
             ],
             [
              0.7777777777777778,
              "#fb9f3a"
             ],
             [
              0.8888888888888888,
              "#fdca26"
             ],
             [
              1,
              "#f0f921"
             ]
            ],
            "type": "surface"
           }
          ],
          "table": [
           {
            "cells": {
             "fill": {
              "color": "#EBF0F8"
             },
             "line": {
              "color": "white"
             }
            },
            "header": {
             "fill": {
              "color": "#C8D4E3"
             },
             "line": {
              "color": "white"
             }
            },
            "type": "table"
           }
          ]
         },
         "layout": {
          "annotationdefaults": {
           "arrowcolor": "#2a3f5f",
           "arrowhead": 0,
           "arrowwidth": 1
          },
          "autotypenumbers": "strict",
          "coloraxis": {
           "colorbar": {
            "outlinewidth": 0,
            "ticks": ""
           }
          },
          "colorscale": {
           "diverging": [
            [
             0,
             "#8e0152"
            ],
            [
             0.1,
             "#c51b7d"
            ],
            [
             0.2,
             "#de77ae"
            ],
            [
             0.3,
             "#f1b6da"
            ],
            [
             0.4,
             "#fde0ef"
            ],
            [
             0.5,
             "#f7f7f7"
            ],
            [
             0.6,
             "#e6f5d0"
            ],
            [
             0.7,
             "#b8e186"
            ],
            [
             0.8,
             "#7fbc41"
            ],
            [
             0.9,
             "#4d9221"
            ],
            [
             1,
             "#276419"
            ]
           ],
           "sequential": [
            [
             0,
             "#0d0887"
            ],
            [
             0.1111111111111111,
             "#46039f"
            ],
            [
             0.2222222222222222,
             "#7201a8"
            ],
            [
             0.3333333333333333,
             "#9c179e"
            ],
            [
             0.4444444444444444,
             "#bd3786"
            ],
            [
             0.5555555555555556,
             "#d8576b"
            ],
            [
             0.6666666666666666,
             "#ed7953"
            ],
            [
             0.7777777777777778,
             "#fb9f3a"
            ],
            [
             0.8888888888888888,
             "#fdca26"
            ],
            [
             1,
             "#f0f921"
            ]
           ],
           "sequentialminus": [
            [
             0,
             "#0d0887"
            ],
            [
             0.1111111111111111,
             "#46039f"
            ],
            [
             0.2222222222222222,
             "#7201a8"
            ],
            [
             0.3333333333333333,
             "#9c179e"
            ],
            [
             0.4444444444444444,
             "#bd3786"
            ],
            [
             0.5555555555555556,
             "#d8576b"
            ],
            [
             0.6666666666666666,
             "#ed7953"
            ],
            [
             0.7777777777777778,
             "#fb9f3a"
            ],
            [
             0.8888888888888888,
             "#fdca26"
            ],
            [
             1,
             "#f0f921"
            ]
           ]
          },
          "colorway": [
           "#636efa",
           "#EF553B",
           "#00cc96",
           "#ab63fa",
           "#FFA15A",
           "#19d3f3",
           "#FF6692",
           "#B6E880",
           "#FF97FF",
           "#FECB52"
          ],
          "font": {
           "color": "#2a3f5f"
          },
          "geo": {
           "bgcolor": "white",
           "lakecolor": "white",
           "landcolor": "#E5ECF6",
           "showlakes": true,
           "showland": true,
           "subunitcolor": "white"
          },
          "hoverlabel": {
           "align": "left"
          },
          "hovermode": "closest",
          "mapbox": {
           "style": "light"
          },
          "paper_bgcolor": "white",
          "plot_bgcolor": "#E5ECF6",
          "polar": {
           "angularaxis": {
            "gridcolor": "white",
            "linecolor": "white",
            "ticks": ""
           },
           "bgcolor": "#E5ECF6",
           "radialaxis": {
            "gridcolor": "white",
            "linecolor": "white",
            "ticks": ""
           }
          },
          "scene": {
           "xaxis": {
            "backgroundcolor": "#E5ECF6",
            "gridcolor": "white",
            "gridwidth": 2,
            "linecolor": "white",
            "showbackground": true,
            "ticks": "",
            "zerolinecolor": "white"
           },
           "yaxis": {
            "backgroundcolor": "#E5ECF6",
            "gridcolor": "white",
            "gridwidth": 2,
            "linecolor": "white",
            "showbackground": true,
            "ticks": "",
            "zerolinecolor": "white"
           },
           "zaxis": {
            "backgroundcolor": "#E5ECF6",
            "gridcolor": "white",
            "gridwidth": 2,
            "linecolor": "white",
            "showbackground": true,
            "ticks": "",
            "zerolinecolor": "white"
           }
          },
          "shapedefaults": {
           "line": {
            "color": "#2a3f5f"
           }
          },
          "ternary": {
           "aaxis": {
            "gridcolor": "white",
            "linecolor": "white",
            "ticks": ""
           },
           "baxis": {
            "gridcolor": "white",
            "linecolor": "white",
            "ticks": ""
           },
           "bgcolor": "#E5ECF6",
           "caxis": {
            "gridcolor": "white",
            "linecolor": "white",
            "ticks": ""
           }
          },
          "title": {
           "x": 0.05
          },
          "xaxis": {
           "automargin": true,
           "gridcolor": "white",
           "linecolor": "white",
           "ticks": "",
           "title": {
            "standoff": 15
           },
           "zerolinecolor": "white",
           "zerolinewidth": 2
          },
          "yaxis": {
           "automargin": true,
           "gridcolor": "white",
           "linecolor": "white",
           "ticks": "",
           "title": {
            "standoff": 15
           },
           "zerolinecolor": "white",
           "zerolinewidth": 2
          }
         }
        }
       }
      }
     },
     "metadata": {}
    }
   ],
   "metadata": {}
  },
  {
   "cell_type": "code",
   "execution_count": 24,
   "source": [
    "x = ds[[ 'Sex', 'Fare', 'Title', 'Pclass', 'Age' ]].values\r\n",
    "y = ds[ 'Survived' ].values\r\n",
    "\r\n",
    "from sklearn.model_selection import train_test_split\r\n",
    "x_train, x_test, y_train, y_test = train_test_split( x, y, test_size = 0.2, random_state = 42, stratify = y )"
   ],
   "outputs": [],
   "metadata": {}
  },
  {
   "cell_type": "code",
   "execution_count": 25,
   "source": [
    "from sklearn.preprocessing import StandardScaler\r\n",
    "\r\n",
    "sc = StandardScaler()\r\n",
    "\r\n",
    "x_train = sc.fit_transform(x_train)\r\n",
    "x_test = sc.transform(x_test)"
   ],
   "outputs": [],
   "metadata": {}
  },
  {
   "cell_type": "markdown",
   "source": [
    "LogisticRegression"
   ],
   "metadata": {}
  },
  {
   "cell_type": "code",
   "execution_count": 26,
   "source": [
    "from sklearn.linear_model import LogisticRegression\r\n",
    "\r\n",
    "classifier = LogisticRegression()\r\n",
    "classifier.fit( x_train, y_train )\r\n",
    "\r\n",
    "y_pred = classifier.predict(x_test)"
   ],
   "outputs": [],
   "metadata": {}
  },
  {
   "cell_type": "code",
   "execution_count": 27,
   "source": [
    "mylist = []\r\n",
    "\r\n",
    "from sklearn.metrics import confusion_matrix, accuracy_score\r\n",
    "\r\n",
    "cm = confusion_matrix(y_test, y_pred)\r\n",
    "ac = accuracy_score(y_test, y_pred)\r\n",
    "\r\n",
    "mylist.append(ac)\r\n",
    "\r\n",
    "print( cm )\r\n",
    "print( ac )"
   ],
   "outputs": [
    {
     "output_type": "stream",
     "name": "stdout",
     "text": [
      "[[146  17]\n",
      " [ 24  75]]\n",
      "0.8435114503816794\n"
     ]
    }
   ],
   "metadata": {}
  },
  {
   "cell_type": "markdown",
   "source": [
    "KNearestNeighbours"
   ],
   "metadata": {}
  },
  {
   "cell_type": "code",
   "execution_count": 28,
   "source": [
    "from sklearn.neighbors import KNeighborsClassifier\r\n",
    "\r\n",
    "list1 = []\r\n",
    "\r\n",
    "for neighbors in range(3,10):\r\n",
    "    classifier = KNeighborsClassifier( n_neighbors = neighbors, metric='minkowski')\r\n",
    "    classifier.fit( x_train, y_train )\r\n",
    "    y_pred = classifier.predict( x_test )\r\n",
    "    list1.append(accuracy_score( y_test, y_pred ))\r\n",
    "\r\n",
    "fig = px.line(x = list(range(3,10)), y = list1)\r\n",
    "fig.show()"
   ],
   "outputs": [
    {
     "output_type": "display_data",
     "data": {
      "application/vnd.plotly.v1+json": {
       "config": {
        "plotlyServerURL": "https://plot.ly"
       },
       "data": [
        {
         "hovertemplate": "x=%{x}<br>y=%{y}<extra></extra>",
         "legendgroup": "",
         "line": {
          "color": "#636efa",
          "dash": "solid"
         },
         "mode": "lines",
         "name": "",
         "orientation": "v",
         "showlegend": false,
         "type": "scatter",
         "x": [
          3,
          4,
          5,
          6,
          7,
          8,
          9
         ],
         "xaxis": "x",
         "y": [
          0.8244274809160306,
          0.8129770992366412,
          0.8206106870229007,
          0.8358778625954199,
          0.851145038167939,
          0.8587786259541985,
          0.8358778625954199
         ],
         "yaxis": "y"
        }
       ],
       "layout": {
        "legend": {
         "tracegroupgap": 0
        },
        "margin": {
         "t": 60
        },
        "template": {
         "data": {
          "bar": [
           {
            "error_x": {
             "color": "#2a3f5f"
            },
            "error_y": {
             "color": "#2a3f5f"
            },
            "marker": {
             "line": {
              "color": "#E5ECF6",
              "width": 0.5
             }
            },
            "type": "bar"
           }
          ],
          "barpolar": [
           {
            "marker": {
             "line": {
              "color": "#E5ECF6",
              "width": 0.5
             }
            },
            "type": "barpolar"
           }
          ],
          "carpet": [
           {
            "aaxis": {
             "endlinecolor": "#2a3f5f",
             "gridcolor": "white",
             "linecolor": "white",
             "minorgridcolor": "white",
             "startlinecolor": "#2a3f5f"
            },
            "baxis": {
             "endlinecolor": "#2a3f5f",
             "gridcolor": "white",
             "linecolor": "white",
             "minorgridcolor": "white",
             "startlinecolor": "#2a3f5f"
            },
            "type": "carpet"
           }
          ],
          "choropleth": [
           {
            "colorbar": {
             "outlinewidth": 0,
             "ticks": ""
            },
            "type": "choropleth"
           }
          ],
          "contour": [
           {
            "colorbar": {
             "outlinewidth": 0,
             "ticks": ""
            },
            "colorscale": [
             [
              0,
              "#0d0887"
             ],
             [
              0.1111111111111111,
              "#46039f"
             ],
             [
              0.2222222222222222,
              "#7201a8"
             ],
             [
              0.3333333333333333,
              "#9c179e"
             ],
             [
              0.4444444444444444,
              "#bd3786"
             ],
             [
              0.5555555555555556,
              "#d8576b"
             ],
             [
              0.6666666666666666,
              "#ed7953"
             ],
             [
              0.7777777777777778,
              "#fb9f3a"
             ],
             [
              0.8888888888888888,
              "#fdca26"
             ],
             [
              1,
              "#f0f921"
             ]
            ],
            "type": "contour"
           }
          ],
          "contourcarpet": [
           {
            "colorbar": {
             "outlinewidth": 0,
             "ticks": ""
            },
            "type": "contourcarpet"
           }
          ],
          "heatmap": [
           {
            "colorbar": {
             "outlinewidth": 0,
             "ticks": ""
            },
            "colorscale": [
             [
              0,
              "#0d0887"
             ],
             [
              0.1111111111111111,
              "#46039f"
             ],
             [
              0.2222222222222222,
              "#7201a8"
             ],
             [
              0.3333333333333333,
              "#9c179e"
             ],
             [
              0.4444444444444444,
              "#bd3786"
             ],
             [
              0.5555555555555556,
              "#d8576b"
             ],
             [
              0.6666666666666666,
              "#ed7953"
             ],
             [
              0.7777777777777778,
              "#fb9f3a"
             ],
             [
              0.8888888888888888,
              "#fdca26"
             ],
             [
              1,
              "#f0f921"
             ]
            ],
            "type": "heatmap"
           }
          ],
          "heatmapgl": [
           {
            "colorbar": {
             "outlinewidth": 0,
             "ticks": ""
            },
            "colorscale": [
             [
              0,
              "#0d0887"
             ],
             [
              0.1111111111111111,
              "#46039f"
             ],
             [
              0.2222222222222222,
              "#7201a8"
             ],
             [
              0.3333333333333333,
              "#9c179e"
             ],
             [
              0.4444444444444444,
              "#bd3786"
             ],
             [
              0.5555555555555556,
              "#d8576b"
             ],
             [
              0.6666666666666666,
              "#ed7953"
             ],
             [
              0.7777777777777778,
              "#fb9f3a"
             ],
             [
              0.8888888888888888,
              "#fdca26"
             ],
             [
              1,
              "#f0f921"
             ]
            ],
            "type": "heatmapgl"
           }
          ],
          "histogram": [
           {
            "marker": {
             "colorbar": {
              "outlinewidth": 0,
              "ticks": ""
             }
            },
            "type": "histogram"
           }
          ],
          "histogram2d": [
           {
            "colorbar": {
             "outlinewidth": 0,
             "ticks": ""
            },
            "colorscale": [
             [
              0,
              "#0d0887"
             ],
             [
              0.1111111111111111,
              "#46039f"
             ],
             [
              0.2222222222222222,
              "#7201a8"
             ],
             [
              0.3333333333333333,
              "#9c179e"
             ],
             [
              0.4444444444444444,
              "#bd3786"
             ],
             [
              0.5555555555555556,
              "#d8576b"
             ],
             [
              0.6666666666666666,
              "#ed7953"
             ],
             [
              0.7777777777777778,
              "#fb9f3a"
             ],
             [
              0.8888888888888888,
              "#fdca26"
             ],
             [
              1,
              "#f0f921"
             ]
            ],
            "type": "histogram2d"
           }
          ],
          "histogram2dcontour": [
           {
            "colorbar": {
             "outlinewidth": 0,
             "ticks": ""
            },
            "colorscale": [
             [
              0,
              "#0d0887"
             ],
             [
              0.1111111111111111,
              "#46039f"
             ],
             [
              0.2222222222222222,
              "#7201a8"
             ],
             [
              0.3333333333333333,
              "#9c179e"
             ],
             [
              0.4444444444444444,
              "#bd3786"
             ],
             [
              0.5555555555555556,
              "#d8576b"
             ],
             [
              0.6666666666666666,
              "#ed7953"
             ],
             [
              0.7777777777777778,
              "#fb9f3a"
             ],
             [
              0.8888888888888888,
              "#fdca26"
             ],
             [
              1,
              "#f0f921"
             ]
            ],
            "type": "histogram2dcontour"
           }
          ],
          "mesh3d": [
           {
            "colorbar": {
             "outlinewidth": 0,
             "ticks": ""
            },
            "type": "mesh3d"
           }
          ],
          "parcoords": [
           {
            "line": {
             "colorbar": {
              "outlinewidth": 0,
              "ticks": ""
             }
            },
            "type": "parcoords"
           }
          ],
          "pie": [
           {
            "automargin": true,
            "type": "pie"
           }
          ],
          "scatter": [
           {
            "marker": {
             "colorbar": {
              "outlinewidth": 0,
              "ticks": ""
             }
            },
            "type": "scatter"
           }
          ],
          "scatter3d": [
           {
            "line": {
             "colorbar": {
              "outlinewidth": 0,
              "ticks": ""
             }
            },
            "marker": {
             "colorbar": {
              "outlinewidth": 0,
              "ticks": ""
             }
            },
            "type": "scatter3d"
           }
          ],
          "scattercarpet": [
           {
            "marker": {
             "colorbar": {
              "outlinewidth": 0,
              "ticks": ""
             }
            },
            "type": "scattercarpet"
           }
          ],
          "scattergeo": [
           {
            "marker": {
             "colorbar": {
              "outlinewidth": 0,
              "ticks": ""
             }
            },
            "type": "scattergeo"
           }
          ],
          "scattergl": [
           {
            "marker": {
             "colorbar": {
              "outlinewidth": 0,
              "ticks": ""
             }
            },
            "type": "scattergl"
           }
          ],
          "scattermapbox": [
           {
            "marker": {
             "colorbar": {
              "outlinewidth": 0,
              "ticks": ""
             }
            },
            "type": "scattermapbox"
           }
          ],
          "scatterpolar": [
           {
            "marker": {
             "colorbar": {
              "outlinewidth": 0,
              "ticks": ""
             }
            },
            "type": "scatterpolar"
           }
          ],
          "scatterpolargl": [
           {
            "marker": {
             "colorbar": {
              "outlinewidth": 0,
              "ticks": ""
             }
            },
            "type": "scatterpolargl"
           }
          ],
          "scatterternary": [
           {
            "marker": {
             "colorbar": {
              "outlinewidth": 0,
              "ticks": ""
             }
            },
            "type": "scatterternary"
           }
          ],
          "surface": [
           {
            "colorbar": {
             "outlinewidth": 0,
             "ticks": ""
            },
            "colorscale": [
             [
              0,
              "#0d0887"
             ],
             [
              0.1111111111111111,
              "#46039f"
             ],
             [
              0.2222222222222222,
              "#7201a8"
             ],
             [
              0.3333333333333333,
              "#9c179e"
             ],
             [
              0.4444444444444444,
              "#bd3786"
             ],
             [
              0.5555555555555556,
              "#d8576b"
             ],
             [
              0.6666666666666666,
              "#ed7953"
             ],
             [
              0.7777777777777778,
              "#fb9f3a"
             ],
             [
              0.8888888888888888,
              "#fdca26"
             ],
             [
              1,
              "#f0f921"
             ]
            ],
            "type": "surface"
           }
          ],
          "table": [
           {
            "cells": {
             "fill": {
              "color": "#EBF0F8"
             },
             "line": {
              "color": "white"
             }
            },
            "header": {
             "fill": {
              "color": "#C8D4E3"
             },
             "line": {
              "color": "white"
             }
            },
            "type": "table"
           }
          ]
         },
         "layout": {
          "annotationdefaults": {
           "arrowcolor": "#2a3f5f",
           "arrowhead": 0,
           "arrowwidth": 1
          },
          "autotypenumbers": "strict",
          "coloraxis": {
           "colorbar": {
            "outlinewidth": 0,
            "ticks": ""
           }
          },
          "colorscale": {
           "diverging": [
            [
             0,
             "#8e0152"
            ],
            [
             0.1,
             "#c51b7d"
            ],
            [
             0.2,
             "#de77ae"
            ],
            [
             0.3,
             "#f1b6da"
            ],
            [
             0.4,
             "#fde0ef"
            ],
            [
             0.5,
             "#f7f7f7"
            ],
            [
             0.6,
             "#e6f5d0"
            ],
            [
             0.7,
             "#b8e186"
            ],
            [
             0.8,
             "#7fbc41"
            ],
            [
             0.9,
             "#4d9221"
            ],
            [
             1,
             "#276419"
            ]
           ],
           "sequential": [
            [
             0,
             "#0d0887"
            ],
            [
             0.1111111111111111,
             "#46039f"
            ],
            [
             0.2222222222222222,
             "#7201a8"
            ],
            [
             0.3333333333333333,
             "#9c179e"
            ],
            [
             0.4444444444444444,
             "#bd3786"
            ],
            [
             0.5555555555555556,
             "#d8576b"
            ],
            [
             0.6666666666666666,
             "#ed7953"
            ],
            [
             0.7777777777777778,
             "#fb9f3a"
            ],
            [
             0.8888888888888888,
             "#fdca26"
            ],
            [
             1,
             "#f0f921"
            ]
           ],
           "sequentialminus": [
            [
             0,
             "#0d0887"
            ],
            [
             0.1111111111111111,
             "#46039f"
            ],
            [
             0.2222222222222222,
             "#7201a8"
            ],
            [
             0.3333333333333333,
             "#9c179e"
            ],
            [
             0.4444444444444444,
             "#bd3786"
            ],
            [
             0.5555555555555556,
             "#d8576b"
            ],
            [
             0.6666666666666666,
             "#ed7953"
            ],
            [
             0.7777777777777778,
             "#fb9f3a"
            ],
            [
             0.8888888888888888,
             "#fdca26"
            ],
            [
             1,
             "#f0f921"
            ]
           ]
          },
          "colorway": [
           "#636efa",
           "#EF553B",
           "#00cc96",
           "#ab63fa",
           "#FFA15A",
           "#19d3f3",
           "#FF6692",
           "#B6E880",
           "#FF97FF",
           "#FECB52"
          ],
          "font": {
           "color": "#2a3f5f"
          },
          "geo": {
           "bgcolor": "white",
           "lakecolor": "white",
           "landcolor": "#E5ECF6",
           "showlakes": true,
           "showland": true,
           "subunitcolor": "white"
          },
          "hoverlabel": {
           "align": "left"
          },
          "hovermode": "closest",
          "mapbox": {
           "style": "light"
          },
          "paper_bgcolor": "white",
          "plot_bgcolor": "#E5ECF6",
          "polar": {
           "angularaxis": {
            "gridcolor": "white",
            "linecolor": "white",
            "ticks": ""
           },
           "bgcolor": "#E5ECF6",
           "radialaxis": {
            "gridcolor": "white",
            "linecolor": "white",
            "ticks": ""
           }
          },
          "scene": {
           "xaxis": {
            "backgroundcolor": "#E5ECF6",
            "gridcolor": "white",
            "gridwidth": 2,
            "linecolor": "white",
            "showbackground": true,
            "ticks": "",
            "zerolinecolor": "white"
           },
           "yaxis": {
            "backgroundcolor": "#E5ECF6",
            "gridcolor": "white",
            "gridwidth": 2,
            "linecolor": "white",
            "showbackground": true,
            "ticks": "",
            "zerolinecolor": "white"
           },
           "zaxis": {
            "backgroundcolor": "#E5ECF6",
            "gridcolor": "white",
            "gridwidth": 2,
            "linecolor": "white",
            "showbackground": true,
            "ticks": "",
            "zerolinecolor": "white"
           }
          },
          "shapedefaults": {
           "line": {
            "color": "#2a3f5f"
           }
          },
          "ternary": {
           "aaxis": {
            "gridcolor": "white",
            "linecolor": "white",
            "ticks": ""
           },
           "baxis": {
            "gridcolor": "white",
            "linecolor": "white",
            "ticks": ""
           },
           "bgcolor": "#E5ECF6",
           "caxis": {
            "gridcolor": "white",
            "linecolor": "white",
            "ticks": ""
           }
          },
          "title": {
           "x": 0.05
          },
          "xaxis": {
           "automargin": true,
           "gridcolor": "white",
           "linecolor": "white",
           "ticks": "",
           "title": {
            "standoff": 15
           },
           "zerolinecolor": "white",
           "zerolinewidth": 2
          },
          "yaxis": {
           "automargin": true,
           "gridcolor": "white",
           "linecolor": "white",
           "ticks": "",
           "title": {
            "standoff": 15
           },
           "zerolinecolor": "white",
           "zerolinewidth": 2
          }
         }
        },
        "xaxis": {
         "anchor": "y",
         "domain": [
          0,
          1
         ],
         "title": {
          "text": "x"
         }
        },
        "yaxis": {
         "anchor": "x",
         "domain": [
          0,
          1
         ],
         "title": {
          "text": "y"
         }
        }
       }
      }
     },
     "metadata": {}
    }
   ],
   "metadata": {}
  },
  {
   "cell_type": "code",
   "execution_count": 29,
   "source": [
    "classifier = KNeighborsClassifier( n_neighbors = 8 )\r\n",
    "classifier.fit(x_train, y_train)\r\n",
    "\r\n",
    "y_pred = classifier.predict(x_test)"
   ],
   "outputs": [],
   "metadata": {}
  },
  {
   "cell_type": "code",
   "execution_count": 30,
   "source": [
    "cm = confusion_matrix(y_test, y_pred)\r\n",
    "ac = accuracy_score(y_test, y_pred)\r\n",
    "\r\n",
    "mylist.append(ac)\r\n",
    "\r\n",
    "print(cm)\r\n",
    "print(ac)"
   ],
   "outputs": [
    {
     "output_type": "stream",
     "name": "stdout",
     "text": [
      "[[153  10]\n",
      " [ 27  72]]\n",
      "0.8587786259541985\n"
     ]
    }
   ],
   "metadata": {}
  },
  {
   "cell_type": "markdown",
   "source": [
    "SVC"
   ],
   "metadata": {}
  },
  {
   "cell_type": "code",
   "execution_count": 31,
   "source": [
    "from sklearn.svm import SVC\r\n",
    "\r\n",
    "list1 = []\r\n",
    "\r\n",
    "for c in [0.5,0.6,0.7,0.8,0.9,1.0]:\r\n",
    "    classifier = SVC(C = c, random_state=0, kernel = 'rbf')\r\n",
    "    classifier.fit(x_train, y_train)\r\n",
    "    y_pred = classifier.predict(x_test)\r\n",
    "    list1.append(accuracy_score(y_test,y_pred))\r\n",
    "    \r\n",
    "fig = px.line(x = [ 0.5, 0.6, 0.7, 0.8, 0.9, 1.0 ], y = list1)\r\n",
    "fig.show()"
   ],
   "outputs": [
    {
     "output_type": "display_data",
     "data": {
      "application/vnd.plotly.v1+json": {
       "config": {
        "plotlyServerURL": "https://plot.ly"
       },
       "data": [
        {
         "hovertemplate": "x=%{x}<br>y=%{y}<extra></extra>",
         "legendgroup": "",
         "line": {
          "color": "#636efa",
          "dash": "solid"
         },
         "mode": "lines",
         "name": "",
         "orientation": "v",
         "showlegend": false,
         "type": "scatter",
         "x": [
          0.5,
          0.6,
          0.7,
          0.8,
          0.9,
          1
         ],
         "xaxis": "x",
         "y": [
          0.8435114503816794,
          0.8435114503816794,
          0.8435114503816794,
          0.8435114503816794,
          0.8435114503816794,
          0.8435114503816794
         ],
         "yaxis": "y"
        }
       ],
       "layout": {
        "legend": {
         "tracegroupgap": 0
        },
        "margin": {
         "t": 60
        },
        "template": {
         "data": {
          "bar": [
           {
            "error_x": {
             "color": "#2a3f5f"
            },
            "error_y": {
             "color": "#2a3f5f"
            },
            "marker": {
             "line": {
              "color": "#E5ECF6",
              "width": 0.5
             }
            },
            "type": "bar"
           }
          ],
          "barpolar": [
           {
            "marker": {
             "line": {
              "color": "#E5ECF6",
              "width": 0.5
             }
            },
            "type": "barpolar"
           }
          ],
          "carpet": [
           {
            "aaxis": {
             "endlinecolor": "#2a3f5f",
             "gridcolor": "white",
             "linecolor": "white",
             "minorgridcolor": "white",
             "startlinecolor": "#2a3f5f"
            },
            "baxis": {
             "endlinecolor": "#2a3f5f",
             "gridcolor": "white",
             "linecolor": "white",
             "minorgridcolor": "white",
             "startlinecolor": "#2a3f5f"
            },
            "type": "carpet"
           }
          ],
          "choropleth": [
           {
            "colorbar": {
             "outlinewidth": 0,
             "ticks": ""
            },
            "type": "choropleth"
           }
          ],
          "contour": [
           {
            "colorbar": {
             "outlinewidth": 0,
             "ticks": ""
            },
            "colorscale": [
             [
              0,
              "#0d0887"
             ],
             [
              0.1111111111111111,
              "#46039f"
             ],
             [
              0.2222222222222222,
              "#7201a8"
             ],
             [
              0.3333333333333333,
              "#9c179e"
             ],
             [
              0.4444444444444444,
              "#bd3786"
             ],
             [
              0.5555555555555556,
              "#d8576b"
             ],
             [
              0.6666666666666666,
              "#ed7953"
             ],
             [
              0.7777777777777778,
              "#fb9f3a"
             ],
             [
              0.8888888888888888,
              "#fdca26"
             ],
             [
              1,
              "#f0f921"
             ]
            ],
            "type": "contour"
           }
          ],
          "contourcarpet": [
           {
            "colorbar": {
             "outlinewidth": 0,
             "ticks": ""
            },
            "type": "contourcarpet"
           }
          ],
          "heatmap": [
           {
            "colorbar": {
             "outlinewidth": 0,
             "ticks": ""
            },
            "colorscale": [
             [
              0,
              "#0d0887"
             ],
             [
              0.1111111111111111,
              "#46039f"
             ],
             [
              0.2222222222222222,
              "#7201a8"
             ],
             [
              0.3333333333333333,
              "#9c179e"
             ],
             [
              0.4444444444444444,
              "#bd3786"
             ],
             [
              0.5555555555555556,
              "#d8576b"
             ],
             [
              0.6666666666666666,
              "#ed7953"
             ],
             [
              0.7777777777777778,
              "#fb9f3a"
             ],
             [
              0.8888888888888888,
              "#fdca26"
             ],
             [
              1,
              "#f0f921"
             ]
            ],
            "type": "heatmap"
           }
          ],
          "heatmapgl": [
           {
            "colorbar": {
             "outlinewidth": 0,
             "ticks": ""
            },
            "colorscale": [
             [
              0,
              "#0d0887"
             ],
             [
              0.1111111111111111,
              "#46039f"
             ],
             [
              0.2222222222222222,
              "#7201a8"
             ],
             [
              0.3333333333333333,
              "#9c179e"
             ],
             [
              0.4444444444444444,
              "#bd3786"
             ],
             [
              0.5555555555555556,
              "#d8576b"
             ],
             [
              0.6666666666666666,
              "#ed7953"
             ],
             [
              0.7777777777777778,
              "#fb9f3a"
             ],
             [
              0.8888888888888888,
              "#fdca26"
             ],
             [
              1,
              "#f0f921"
             ]
            ],
            "type": "heatmapgl"
           }
          ],
          "histogram": [
           {
            "marker": {
             "colorbar": {
              "outlinewidth": 0,
              "ticks": ""
             }
            },
            "type": "histogram"
           }
          ],
          "histogram2d": [
           {
            "colorbar": {
             "outlinewidth": 0,
             "ticks": ""
            },
            "colorscale": [
             [
              0,
              "#0d0887"
             ],
             [
              0.1111111111111111,
              "#46039f"
             ],
             [
              0.2222222222222222,
              "#7201a8"
             ],
             [
              0.3333333333333333,
              "#9c179e"
             ],
             [
              0.4444444444444444,
              "#bd3786"
             ],
             [
              0.5555555555555556,
              "#d8576b"
             ],
             [
              0.6666666666666666,
              "#ed7953"
             ],
             [
              0.7777777777777778,
              "#fb9f3a"
             ],
             [
              0.8888888888888888,
              "#fdca26"
             ],
             [
              1,
              "#f0f921"
             ]
            ],
            "type": "histogram2d"
           }
          ],
          "histogram2dcontour": [
           {
            "colorbar": {
             "outlinewidth": 0,
             "ticks": ""
            },
            "colorscale": [
             [
              0,
              "#0d0887"
             ],
             [
              0.1111111111111111,
              "#46039f"
             ],
             [
              0.2222222222222222,
              "#7201a8"
             ],
             [
              0.3333333333333333,
              "#9c179e"
             ],
             [
              0.4444444444444444,
              "#bd3786"
             ],
             [
              0.5555555555555556,
              "#d8576b"
             ],
             [
              0.6666666666666666,
              "#ed7953"
             ],
             [
              0.7777777777777778,
              "#fb9f3a"
             ],
             [
              0.8888888888888888,
              "#fdca26"
             ],
             [
              1,
              "#f0f921"
             ]
            ],
            "type": "histogram2dcontour"
           }
          ],
          "mesh3d": [
           {
            "colorbar": {
             "outlinewidth": 0,
             "ticks": ""
            },
            "type": "mesh3d"
           }
          ],
          "parcoords": [
           {
            "line": {
             "colorbar": {
              "outlinewidth": 0,
              "ticks": ""
             }
            },
            "type": "parcoords"
           }
          ],
          "pie": [
           {
            "automargin": true,
            "type": "pie"
           }
          ],
          "scatter": [
           {
            "marker": {
             "colorbar": {
              "outlinewidth": 0,
              "ticks": ""
             }
            },
            "type": "scatter"
           }
          ],
          "scatter3d": [
           {
            "line": {
             "colorbar": {
              "outlinewidth": 0,
              "ticks": ""
             }
            },
            "marker": {
             "colorbar": {
              "outlinewidth": 0,
              "ticks": ""
             }
            },
            "type": "scatter3d"
           }
          ],
          "scattercarpet": [
           {
            "marker": {
             "colorbar": {
              "outlinewidth": 0,
              "ticks": ""
             }
            },
            "type": "scattercarpet"
           }
          ],
          "scattergeo": [
           {
            "marker": {
             "colorbar": {
              "outlinewidth": 0,
              "ticks": ""
             }
            },
            "type": "scattergeo"
           }
          ],
          "scattergl": [
           {
            "marker": {
             "colorbar": {
              "outlinewidth": 0,
              "ticks": ""
             }
            },
            "type": "scattergl"
           }
          ],
          "scattermapbox": [
           {
            "marker": {
             "colorbar": {
              "outlinewidth": 0,
              "ticks": ""
             }
            },
            "type": "scattermapbox"
           }
          ],
          "scatterpolar": [
           {
            "marker": {
             "colorbar": {
              "outlinewidth": 0,
              "ticks": ""
             }
            },
            "type": "scatterpolar"
           }
          ],
          "scatterpolargl": [
           {
            "marker": {
             "colorbar": {
              "outlinewidth": 0,
              "ticks": ""
             }
            },
            "type": "scatterpolargl"
           }
          ],
          "scatterternary": [
           {
            "marker": {
             "colorbar": {
              "outlinewidth": 0,
              "ticks": ""
             }
            },
            "type": "scatterternary"
           }
          ],
          "surface": [
           {
            "colorbar": {
             "outlinewidth": 0,
             "ticks": ""
            },
            "colorscale": [
             [
              0,
              "#0d0887"
             ],
             [
              0.1111111111111111,
              "#46039f"
             ],
             [
              0.2222222222222222,
              "#7201a8"
             ],
             [
              0.3333333333333333,
              "#9c179e"
             ],
             [
              0.4444444444444444,
              "#bd3786"
             ],
             [
              0.5555555555555556,
              "#d8576b"
             ],
             [
              0.6666666666666666,
              "#ed7953"
             ],
             [
              0.7777777777777778,
              "#fb9f3a"
             ],
             [
              0.8888888888888888,
              "#fdca26"
             ],
             [
              1,
              "#f0f921"
             ]
            ],
            "type": "surface"
           }
          ],
          "table": [
           {
            "cells": {
             "fill": {
              "color": "#EBF0F8"
             },
             "line": {
              "color": "white"
             }
            },
            "header": {
             "fill": {
              "color": "#C8D4E3"
             },
             "line": {
              "color": "white"
             }
            },
            "type": "table"
           }
          ]
         },
         "layout": {
          "annotationdefaults": {
           "arrowcolor": "#2a3f5f",
           "arrowhead": 0,
           "arrowwidth": 1
          },
          "autotypenumbers": "strict",
          "coloraxis": {
           "colorbar": {
            "outlinewidth": 0,
            "ticks": ""
           }
          },
          "colorscale": {
           "diverging": [
            [
             0,
             "#8e0152"
            ],
            [
             0.1,
             "#c51b7d"
            ],
            [
             0.2,
             "#de77ae"
            ],
            [
             0.3,
             "#f1b6da"
            ],
            [
             0.4,
             "#fde0ef"
            ],
            [
             0.5,
             "#f7f7f7"
            ],
            [
             0.6,
             "#e6f5d0"
            ],
            [
             0.7,
             "#b8e186"
            ],
            [
             0.8,
             "#7fbc41"
            ],
            [
             0.9,
             "#4d9221"
            ],
            [
             1,
             "#276419"
            ]
           ],
           "sequential": [
            [
             0,
             "#0d0887"
            ],
            [
             0.1111111111111111,
             "#46039f"
            ],
            [
             0.2222222222222222,
             "#7201a8"
            ],
            [
             0.3333333333333333,
             "#9c179e"
            ],
            [
             0.4444444444444444,
             "#bd3786"
            ],
            [
             0.5555555555555556,
             "#d8576b"
            ],
            [
             0.6666666666666666,
             "#ed7953"
            ],
            [
             0.7777777777777778,
             "#fb9f3a"
            ],
            [
             0.8888888888888888,
             "#fdca26"
            ],
            [
             1,
             "#f0f921"
            ]
           ],
           "sequentialminus": [
            [
             0,
             "#0d0887"
            ],
            [
             0.1111111111111111,
             "#46039f"
            ],
            [
             0.2222222222222222,
             "#7201a8"
            ],
            [
             0.3333333333333333,
             "#9c179e"
            ],
            [
             0.4444444444444444,
             "#bd3786"
            ],
            [
             0.5555555555555556,
             "#d8576b"
            ],
            [
             0.6666666666666666,
             "#ed7953"
            ],
            [
             0.7777777777777778,
             "#fb9f3a"
            ],
            [
             0.8888888888888888,
             "#fdca26"
            ],
            [
             1,
             "#f0f921"
            ]
           ]
          },
          "colorway": [
           "#636efa",
           "#EF553B",
           "#00cc96",
           "#ab63fa",
           "#FFA15A",
           "#19d3f3",
           "#FF6692",
           "#B6E880",
           "#FF97FF",
           "#FECB52"
          ],
          "font": {
           "color": "#2a3f5f"
          },
          "geo": {
           "bgcolor": "white",
           "lakecolor": "white",
           "landcolor": "#E5ECF6",
           "showlakes": true,
           "showland": true,
           "subunitcolor": "white"
          },
          "hoverlabel": {
           "align": "left"
          },
          "hovermode": "closest",
          "mapbox": {
           "style": "light"
          },
          "paper_bgcolor": "white",
          "plot_bgcolor": "#E5ECF6",
          "polar": {
           "angularaxis": {
            "gridcolor": "white",
            "linecolor": "white",
            "ticks": ""
           },
           "bgcolor": "#E5ECF6",
           "radialaxis": {
            "gridcolor": "white",
            "linecolor": "white",
            "ticks": ""
           }
          },
          "scene": {
           "xaxis": {
            "backgroundcolor": "#E5ECF6",
            "gridcolor": "white",
            "gridwidth": 2,
            "linecolor": "white",
            "showbackground": true,
            "ticks": "",
            "zerolinecolor": "white"
           },
           "yaxis": {
            "backgroundcolor": "#E5ECF6",
            "gridcolor": "white",
            "gridwidth": 2,
            "linecolor": "white",
            "showbackground": true,
            "ticks": "",
            "zerolinecolor": "white"
           },
           "zaxis": {
            "backgroundcolor": "#E5ECF6",
            "gridcolor": "white",
            "gridwidth": 2,
            "linecolor": "white",
            "showbackground": true,
            "ticks": "",
            "zerolinecolor": "white"
           }
          },
          "shapedefaults": {
           "line": {
            "color": "#2a3f5f"
           }
          },
          "ternary": {
           "aaxis": {
            "gridcolor": "white",
            "linecolor": "white",
            "ticks": ""
           },
           "baxis": {
            "gridcolor": "white",
            "linecolor": "white",
            "ticks": ""
           },
           "bgcolor": "#E5ECF6",
           "caxis": {
            "gridcolor": "white",
            "linecolor": "white",
            "ticks": ""
           }
          },
          "title": {
           "x": 0.05
          },
          "xaxis": {
           "automargin": true,
           "gridcolor": "white",
           "linecolor": "white",
           "ticks": "",
           "title": {
            "standoff": 15
           },
           "zerolinecolor": "white",
           "zerolinewidth": 2
          },
          "yaxis": {
           "automargin": true,
           "gridcolor": "white",
           "linecolor": "white",
           "ticks": "",
           "title": {
            "standoff": 15
           },
           "zerolinecolor": "white",
           "zerolinewidth": 2
          }
         }
        },
        "xaxis": {
         "anchor": "y",
         "domain": [
          0,
          1
         ],
         "title": {
          "text": "x"
         }
        },
        "yaxis": {
         "anchor": "x",
         "domain": [
          0,
          1
         ],
         "title": {
          "text": "y"
         }
        }
       }
      }
     },
     "metadata": {}
    }
   ],
   "metadata": {}
  },
  {
   "cell_type": "code",
   "execution_count": 32,
   "source": [
    "classifier = SVC(C = 0.7, random_state=0, kernel = 'rbf')\r\n",
    "classifier.fit(x_train, y_train)\r\n",
    "\r\n",
    "y_pred = classifier.predict(x_test)"
   ],
   "outputs": [],
   "metadata": {}
  },
  {
   "cell_type": "code",
   "execution_count": 33,
   "source": [
    "cm = confusion_matrix(y_test, y_pred)\r\n",
    "ac = accuracy_score(y_test, y_pred)\r\n",
    "\r\n",
    "mylist.append(ac)\r\n",
    "\r\n",
    "print(cm)\r\n",
    "print(ac)"
   ],
   "outputs": [
    {
     "output_type": "stream",
     "name": "stdout",
     "text": [
      "[[146  17]\n",
      " [ 24  75]]\n",
      "0.8435114503816794\n"
     ]
    }
   ],
   "metadata": {}
  },
  {
   "cell_type": "markdown",
   "source": [
    "DecisionTree"
   ],
   "metadata": {}
  },
  {
   "cell_type": "code",
   "execution_count": 34,
   "source": [
    "from sklearn.tree import DecisionTreeClassifier\r\n",
    "\r\n",
    "list1 = []\r\n",
    "\r\n",
    "for leaves in range(2,10):\r\n",
    "    classifier = DecisionTreeClassifier(max_leaf_nodes = leaves, random_state=0, criterion='entropy')\r\n",
    "    classifier.fit(x_train, y_train)\r\n",
    "    y_pred = classifier.predict(x_test)\r\n",
    "    list1.append(accuracy_score(y_test,y_pred))\r\n",
    "\r\n",
    "fig = px.line(x = list(range(2,10)), y = list1)\r\n",
    "fig.show()"
   ],
   "outputs": [
    {
     "output_type": "display_data",
     "data": {
      "application/vnd.plotly.v1+json": {
       "config": {
        "plotlyServerURL": "https://plot.ly"
       },
       "data": [
        {
         "hovertemplate": "x=%{x}<br>y=%{y}<extra></extra>",
         "legendgroup": "",
         "line": {
          "color": "#636efa",
          "dash": "solid"
         },
         "mode": "lines",
         "name": "",
         "orientation": "v",
         "showlegend": false,
         "type": "scatter",
         "x": [
          2,
          3,
          4,
          5,
          6,
          7,
          8,
          9
         ],
         "xaxis": "x",
         "y": [
          0.8435114503816794,
          0.8435114503816794,
          0.8435114503816794,
          0.8435114503816794,
          0.8473282442748091,
          0.851145038167939,
          0.8549618320610687,
          0.8435114503816794
         ],
         "yaxis": "y"
        }
       ],
       "layout": {
        "legend": {
         "tracegroupgap": 0
        },
        "margin": {
         "t": 60
        },
        "template": {
         "data": {
          "bar": [
           {
            "error_x": {
             "color": "#2a3f5f"
            },
            "error_y": {
             "color": "#2a3f5f"
            },
            "marker": {
             "line": {
              "color": "#E5ECF6",
              "width": 0.5
             }
            },
            "type": "bar"
           }
          ],
          "barpolar": [
           {
            "marker": {
             "line": {
              "color": "#E5ECF6",
              "width": 0.5
             }
            },
            "type": "barpolar"
           }
          ],
          "carpet": [
           {
            "aaxis": {
             "endlinecolor": "#2a3f5f",
             "gridcolor": "white",
             "linecolor": "white",
             "minorgridcolor": "white",
             "startlinecolor": "#2a3f5f"
            },
            "baxis": {
             "endlinecolor": "#2a3f5f",
             "gridcolor": "white",
             "linecolor": "white",
             "minorgridcolor": "white",
             "startlinecolor": "#2a3f5f"
            },
            "type": "carpet"
           }
          ],
          "choropleth": [
           {
            "colorbar": {
             "outlinewidth": 0,
             "ticks": ""
            },
            "type": "choropleth"
           }
          ],
          "contour": [
           {
            "colorbar": {
             "outlinewidth": 0,
             "ticks": ""
            },
            "colorscale": [
             [
              0,
              "#0d0887"
             ],
             [
              0.1111111111111111,
              "#46039f"
             ],
             [
              0.2222222222222222,
              "#7201a8"
             ],
             [
              0.3333333333333333,
              "#9c179e"
             ],
             [
              0.4444444444444444,
              "#bd3786"
             ],
             [
              0.5555555555555556,
              "#d8576b"
             ],
             [
              0.6666666666666666,
              "#ed7953"
             ],
             [
              0.7777777777777778,
              "#fb9f3a"
             ],
             [
              0.8888888888888888,
              "#fdca26"
             ],
             [
              1,
              "#f0f921"
             ]
            ],
            "type": "contour"
           }
          ],
          "contourcarpet": [
           {
            "colorbar": {
             "outlinewidth": 0,
             "ticks": ""
            },
            "type": "contourcarpet"
           }
          ],
          "heatmap": [
           {
            "colorbar": {
             "outlinewidth": 0,
             "ticks": ""
            },
            "colorscale": [
             [
              0,
              "#0d0887"
             ],
             [
              0.1111111111111111,
              "#46039f"
             ],
             [
              0.2222222222222222,
              "#7201a8"
             ],
             [
              0.3333333333333333,
              "#9c179e"
             ],
             [
              0.4444444444444444,
              "#bd3786"
             ],
             [
              0.5555555555555556,
              "#d8576b"
             ],
             [
              0.6666666666666666,
              "#ed7953"
             ],
             [
              0.7777777777777778,
              "#fb9f3a"
             ],
             [
              0.8888888888888888,
              "#fdca26"
             ],
             [
              1,
              "#f0f921"
             ]
            ],
            "type": "heatmap"
           }
          ],
          "heatmapgl": [
           {
            "colorbar": {
             "outlinewidth": 0,
             "ticks": ""
            },
            "colorscale": [
             [
              0,
              "#0d0887"
             ],
             [
              0.1111111111111111,
              "#46039f"
             ],
             [
              0.2222222222222222,
              "#7201a8"
             ],
             [
              0.3333333333333333,
              "#9c179e"
             ],
             [
              0.4444444444444444,
              "#bd3786"
             ],
             [
              0.5555555555555556,
              "#d8576b"
             ],
             [
              0.6666666666666666,
              "#ed7953"
             ],
             [
              0.7777777777777778,
              "#fb9f3a"
             ],
             [
              0.8888888888888888,
              "#fdca26"
             ],
             [
              1,
              "#f0f921"
             ]
            ],
            "type": "heatmapgl"
           }
          ],
          "histogram": [
           {
            "marker": {
             "colorbar": {
              "outlinewidth": 0,
              "ticks": ""
             }
            },
            "type": "histogram"
           }
          ],
          "histogram2d": [
           {
            "colorbar": {
             "outlinewidth": 0,
             "ticks": ""
            },
            "colorscale": [
             [
              0,
              "#0d0887"
             ],
             [
              0.1111111111111111,
              "#46039f"
             ],
             [
              0.2222222222222222,
              "#7201a8"
             ],
             [
              0.3333333333333333,
              "#9c179e"
             ],
             [
              0.4444444444444444,
              "#bd3786"
             ],
             [
              0.5555555555555556,
              "#d8576b"
             ],
             [
              0.6666666666666666,
              "#ed7953"
             ],
             [
              0.7777777777777778,
              "#fb9f3a"
             ],
             [
              0.8888888888888888,
              "#fdca26"
             ],
             [
              1,
              "#f0f921"
             ]
            ],
            "type": "histogram2d"
           }
          ],
          "histogram2dcontour": [
           {
            "colorbar": {
             "outlinewidth": 0,
             "ticks": ""
            },
            "colorscale": [
             [
              0,
              "#0d0887"
             ],
             [
              0.1111111111111111,
              "#46039f"
             ],
             [
              0.2222222222222222,
              "#7201a8"
             ],
             [
              0.3333333333333333,
              "#9c179e"
             ],
             [
              0.4444444444444444,
              "#bd3786"
             ],
             [
              0.5555555555555556,
              "#d8576b"
             ],
             [
              0.6666666666666666,
              "#ed7953"
             ],
             [
              0.7777777777777778,
              "#fb9f3a"
             ],
             [
              0.8888888888888888,
              "#fdca26"
             ],
             [
              1,
              "#f0f921"
             ]
            ],
            "type": "histogram2dcontour"
           }
          ],
          "mesh3d": [
           {
            "colorbar": {
             "outlinewidth": 0,
             "ticks": ""
            },
            "type": "mesh3d"
           }
          ],
          "parcoords": [
           {
            "line": {
             "colorbar": {
              "outlinewidth": 0,
              "ticks": ""
             }
            },
            "type": "parcoords"
           }
          ],
          "pie": [
           {
            "automargin": true,
            "type": "pie"
           }
          ],
          "scatter": [
           {
            "marker": {
             "colorbar": {
              "outlinewidth": 0,
              "ticks": ""
             }
            },
            "type": "scatter"
           }
          ],
          "scatter3d": [
           {
            "line": {
             "colorbar": {
              "outlinewidth": 0,
              "ticks": ""
             }
            },
            "marker": {
             "colorbar": {
              "outlinewidth": 0,
              "ticks": ""
             }
            },
            "type": "scatter3d"
           }
          ],
          "scattercarpet": [
           {
            "marker": {
             "colorbar": {
              "outlinewidth": 0,
              "ticks": ""
             }
            },
            "type": "scattercarpet"
           }
          ],
          "scattergeo": [
           {
            "marker": {
             "colorbar": {
              "outlinewidth": 0,
              "ticks": ""
             }
            },
            "type": "scattergeo"
           }
          ],
          "scattergl": [
           {
            "marker": {
             "colorbar": {
              "outlinewidth": 0,
              "ticks": ""
             }
            },
            "type": "scattergl"
           }
          ],
          "scattermapbox": [
           {
            "marker": {
             "colorbar": {
              "outlinewidth": 0,
              "ticks": ""
             }
            },
            "type": "scattermapbox"
           }
          ],
          "scatterpolar": [
           {
            "marker": {
             "colorbar": {
              "outlinewidth": 0,
              "ticks": ""
             }
            },
            "type": "scatterpolar"
           }
          ],
          "scatterpolargl": [
           {
            "marker": {
             "colorbar": {
              "outlinewidth": 0,
              "ticks": ""
             }
            },
            "type": "scatterpolargl"
           }
          ],
          "scatterternary": [
           {
            "marker": {
             "colorbar": {
              "outlinewidth": 0,
              "ticks": ""
             }
            },
            "type": "scatterternary"
           }
          ],
          "surface": [
           {
            "colorbar": {
             "outlinewidth": 0,
             "ticks": ""
            },
            "colorscale": [
             [
              0,
              "#0d0887"
             ],
             [
              0.1111111111111111,
              "#46039f"
             ],
             [
              0.2222222222222222,
              "#7201a8"
             ],
             [
              0.3333333333333333,
              "#9c179e"
             ],
             [
              0.4444444444444444,
              "#bd3786"
             ],
             [
              0.5555555555555556,
              "#d8576b"
             ],
             [
              0.6666666666666666,
              "#ed7953"
             ],
             [
              0.7777777777777778,
              "#fb9f3a"
             ],
             [
              0.8888888888888888,
              "#fdca26"
             ],
             [
              1,
              "#f0f921"
             ]
            ],
            "type": "surface"
           }
          ],
          "table": [
           {
            "cells": {
             "fill": {
              "color": "#EBF0F8"
             },
             "line": {
              "color": "white"
             }
            },
            "header": {
             "fill": {
              "color": "#C8D4E3"
             },
             "line": {
              "color": "white"
             }
            },
            "type": "table"
           }
          ]
         },
         "layout": {
          "annotationdefaults": {
           "arrowcolor": "#2a3f5f",
           "arrowhead": 0,
           "arrowwidth": 1
          },
          "autotypenumbers": "strict",
          "coloraxis": {
           "colorbar": {
            "outlinewidth": 0,
            "ticks": ""
           }
          },
          "colorscale": {
           "diverging": [
            [
             0,
             "#8e0152"
            ],
            [
             0.1,
             "#c51b7d"
            ],
            [
             0.2,
             "#de77ae"
            ],
            [
             0.3,
             "#f1b6da"
            ],
            [
             0.4,
             "#fde0ef"
            ],
            [
             0.5,
             "#f7f7f7"
            ],
            [
             0.6,
             "#e6f5d0"
            ],
            [
             0.7,
             "#b8e186"
            ],
            [
             0.8,
             "#7fbc41"
            ],
            [
             0.9,
             "#4d9221"
            ],
            [
             1,
             "#276419"
            ]
           ],
           "sequential": [
            [
             0,
             "#0d0887"
            ],
            [
             0.1111111111111111,
             "#46039f"
            ],
            [
             0.2222222222222222,
             "#7201a8"
            ],
            [
             0.3333333333333333,
             "#9c179e"
            ],
            [
             0.4444444444444444,
             "#bd3786"
            ],
            [
             0.5555555555555556,
             "#d8576b"
            ],
            [
             0.6666666666666666,
             "#ed7953"
            ],
            [
             0.7777777777777778,
             "#fb9f3a"
            ],
            [
             0.8888888888888888,
             "#fdca26"
            ],
            [
             1,
             "#f0f921"
            ]
           ],
           "sequentialminus": [
            [
             0,
             "#0d0887"
            ],
            [
             0.1111111111111111,
             "#46039f"
            ],
            [
             0.2222222222222222,
             "#7201a8"
            ],
            [
             0.3333333333333333,
             "#9c179e"
            ],
            [
             0.4444444444444444,
             "#bd3786"
            ],
            [
             0.5555555555555556,
             "#d8576b"
            ],
            [
             0.6666666666666666,
             "#ed7953"
            ],
            [
             0.7777777777777778,
             "#fb9f3a"
            ],
            [
             0.8888888888888888,
             "#fdca26"
            ],
            [
             1,
             "#f0f921"
            ]
           ]
          },
          "colorway": [
           "#636efa",
           "#EF553B",
           "#00cc96",
           "#ab63fa",
           "#FFA15A",
           "#19d3f3",
           "#FF6692",
           "#B6E880",
           "#FF97FF",
           "#FECB52"
          ],
          "font": {
           "color": "#2a3f5f"
          },
          "geo": {
           "bgcolor": "white",
           "lakecolor": "white",
           "landcolor": "#E5ECF6",
           "showlakes": true,
           "showland": true,
           "subunitcolor": "white"
          },
          "hoverlabel": {
           "align": "left"
          },
          "hovermode": "closest",
          "mapbox": {
           "style": "light"
          },
          "paper_bgcolor": "white",
          "plot_bgcolor": "#E5ECF6",
          "polar": {
           "angularaxis": {
            "gridcolor": "white",
            "linecolor": "white",
            "ticks": ""
           },
           "bgcolor": "#E5ECF6",
           "radialaxis": {
            "gridcolor": "white",
            "linecolor": "white",
            "ticks": ""
           }
          },
          "scene": {
           "xaxis": {
            "backgroundcolor": "#E5ECF6",
            "gridcolor": "white",
            "gridwidth": 2,
            "linecolor": "white",
            "showbackground": true,
            "ticks": "",
            "zerolinecolor": "white"
           },
           "yaxis": {
            "backgroundcolor": "#E5ECF6",
            "gridcolor": "white",
            "gridwidth": 2,
            "linecolor": "white",
            "showbackground": true,
            "ticks": "",
            "zerolinecolor": "white"
           },
           "zaxis": {
            "backgroundcolor": "#E5ECF6",
            "gridcolor": "white",
            "gridwidth": 2,
            "linecolor": "white",
            "showbackground": true,
            "ticks": "",
            "zerolinecolor": "white"
           }
          },
          "shapedefaults": {
           "line": {
            "color": "#2a3f5f"
           }
          },
          "ternary": {
           "aaxis": {
            "gridcolor": "white",
            "linecolor": "white",
            "ticks": ""
           },
           "baxis": {
            "gridcolor": "white",
            "linecolor": "white",
            "ticks": ""
           },
           "bgcolor": "#E5ECF6",
           "caxis": {
            "gridcolor": "white",
            "linecolor": "white",
            "ticks": ""
           }
          },
          "title": {
           "x": 0.05
          },
          "xaxis": {
           "automargin": true,
           "gridcolor": "white",
           "linecolor": "white",
           "ticks": "",
           "title": {
            "standoff": 15
           },
           "zerolinecolor": "white",
           "zerolinewidth": 2
          },
          "yaxis": {
           "automargin": true,
           "gridcolor": "white",
           "linecolor": "white",
           "ticks": "",
           "title": {
            "standoff": 15
           },
           "zerolinecolor": "white",
           "zerolinewidth": 2
          }
         }
        },
        "xaxis": {
         "anchor": "y",
         "domain": [
          0,
          1
         ],
         "title": {
          "text": "x"
         }
        },
        "yaxis": {
         "anchor": "x",
         "domain": [
          0,
          1
         ],
         "title": {
          "text": "y"
         }
        }
       }
      }
     },
     "metadata": {}
    }
   ],
   "metadata": {}
  },
  {
   "cell_type": "code",
   "execution_count": 35,
   "source": [
    "classifier = DecisionTreeClassifier(max_leaf_nodes = 8, random_state=0, criterion='entropy')\r\n",
    "classifier.fit(x_train, y_train)\r\n",
    "\r\n",
    "y_pred = classifier.predict(x_test)"
   ],
   "outputs": [],
   "metadata": {}
  },
  {
   "cell_type": "code",
   "execution_count": 36,
   "source": [
    "cm = confusion_matrix(y_test, y_pred)\r\n",
    "ac = accuracy_score(y_test, y_pred)\r\n",
    "\r\n",
    "mylist.append(ac)\r\n",
    "\r\n",
    "print(cm)\r\n",
    "print(ac)"
   ],
   "outputs": [
    {
     "output_type": "stream",
     "name": "stdout",
     "text": [
      "[[154   9]\n",
      " [ 29  70]]\n",
      "0.8549618320610687\n"
     ]
    }
   ],
   "metadata": {}
  },
  {
   "cell_type": "markdown",
   "source": [
    "RandomForest"
   ],
   "metadata": {}
  },
  {
   "cell_type": "code",
   "execution_count": 37,
   "source": [
    "from sklearn.ensemble import RandomForestClassifier\r\n",
    "\r\n",
    "\r\n",
    "list1 = []\r\n",
    "\r\n",
    "for estimators in range(10,40):\r\n",
    "    classifier = RandomForestClassifier(n_estimators = estimators, random_state=0, criterion='entropy')\r\n",
    "    classifier.fit(x_train, y_train)\r\n",
    "    y_pred = classifier.predict(x_test)\r\n",
    "    list1.append(accuracy_score(y_test,y_pred))\r\n",
    "\r\n",
    "fig = px.line(x = list(range(10,40)), y = list1)\r\n",
    "fig.show()"
   ],
   "outputs": [
    {
     "output_type": "display_data",
     "data": {
      "application/vnd.plotly.v1+json": {
       "config": {
        "plotlyServerURL": "https://plot.ly"
       },
       "data": [
        {
         "hovertemplate": "x=%{x}<br>y=%{y}<extra></extra>",
         "legendgroup": "",
         "line": {
          "color": "#636efa",
          "dash": "solid"
         },
         "mode": "lines",
         "name": "",
         "orientation": "v",
         "showlegend": false,
         "type": "scatter",
         "x": [
          10,
          11,
          12,
          13,
          14,
          15,
          16,
          17,
          18,
          19,
          20,
          21,
          22,
          23,
          24,
          25,
          26,
          27,
          28,
          29,
          30,
          31,
          32,
          33,
          34,
          35,
          36,
          37,
          38,
          39
         ],
         "xaxis": "x",
         "y": [
          0.816793893129771,
          0.8320610687022901,
          0.8320610687022901,
          0.8320610687022901,
          0.8282442748091603,
          0.8282442748091603,
          0.8320610687022901,
          0.8320610687022901,
          0.8320610687022901,
          0.8320610687022901,
          0.8282442748091603,
          0.8282442748091603,
          0.8320610687022901,
          0.8320610687022901,
          0.8282442748091603,
          0.8358778625954199,
          0.8358778625954199,
          0.8320610687022901,
          0.8358778625954199,
          0.8358778625954199,
          0.8358778625954199,
          0.8282442748091603,
          0.8282442748091603,
          0.8282442748091603,
          0.8358778625954199,
          0.8358778625954199,
          0.8396946564885496,
          0.8396946564885496,
          0.8358778625954199,
          0.8396946564885496
         ],
         "yaxis": "y"
        }
       ],
       "layout": {
        "legend": {
         "tracegroupgap": 0
        },
        "margin": {
         "t": 60
        },
        "template": {
         "data": {
          "bar": [
           {
            "error_x": {
             "color": "#2a3f5f"
            },
            "error_y": {
             "color": "#2a3f5f"
            },
            "marker": {
             "line": {
              "color": "#E5ECF6",
              "width": 0.5
             }
            },
            "type": "bar"
           }
          ],
          "barpolar": [
           {
            "marker": {
             "line": {
              "color": "#E5ECF6",
              "width": 0.5
             }
            },
            "type": "barpolar"
           }
          ],
          "carpet": [
           {
            "aaxis": {
             "endlinecolor": "#2a3f5f",
             "gridcolor": "white",
             "linecolor": "white",
             "minorgridcolor": "white",
             "startlinecolor": "#2a3f5f"
            },
            "baxis": {
             "endlinecolor": "#2a3f5f",
             "gridcolor": "white",
             "linecolor": "white",
             "minorgridcolor": "white",
             "startlinecolor": "#2a3f5f"
            },
            "type": "carpet"
           }
          ],
          "choropleth": [
           {
            "colorbar": {
             "outlinewidth": 0,
             "ticks": ""
            },
            "type": "choropleth"
           }
          ],
          "contour": [
           {
            "colorbar": {
             "outlinewidth": 0,
             "ticks": ""
            },
            "colorscale": [
             [
              0,
              "#0d0887"
             ],
             [
              0.1111111111111111,
              "#46039f"
             ],
             [
              0.2222222222222222,
              "#7201a8"
             ],
             [
              0.3333333333333333,
              "#9c179e"
             ],
             [
              0.4444444444444444,
              "#bd3786"
             ],
             [
              0.5555555555555556,
              "#d8576b"
             ],
             [
              0.6666666666666666,
              "#ed7953"
             ],
             [
              0.7777777777777778,
              "#fb9f3a"
             ],
             [
              0.8888888888888888,
              "#fdca26"
             ],
             [
              1,
              "#f0f921"
             ]
            ],
            "type": "contour"
           }
          ],
          "contourcarpet": [
           {
            "colorbar": {
             "outlinewidth": 0,
             "ticks": ""
            },
            "type": "contourcarpet"
           }
          ],
          "heatmap": [
           {
            "colorbar": {
             "outlinewidth": 0,
             "ticks": ""
            },
            "colorscale": [
             [
              0,
              "#0d0887"
             ],
             [
              0.1111111111111111,
              "#46039f"
             ],
             [
              0.2222222222222222,
              "#7201a8"
             ],
             [
              0.3333333333333333,
              "#9c179e"
             ],
             [
              0.4444444444444444,
              "#bd3786"
             ],
             [
              0.5555555555555556,
              "#d8576b"
             ],
             [
              0.6666666666666666,
              "#ed7953"
             ],
             [
              0.7777777777777778,
              "#fb9f3a"
             ],
             [
              0.8888888888888888,
              "#fdca26"
             ],
             [
              1,
              "#f0f921"
             ]
            ],
            "type": "heatmap"
           }
          ],
          "heatmapgl": [
           {
            "colorbar": {
             "outlinewidth": 0,
             "ticks": ""
            },
            "colorscale": [
             [
              0,
              "#0d0887"
             ],
             [
              0.1111111111111111,
              "#46039f"
             ],
             [
              0.2222222222222222,
              "#7201a8"
             ],
             [
              0.3333333333333333,
              "#9c179e"
             ],
             [
              0.4444444444444444,
              "#bd3786"
             ],
             [
              0.5555555555555556,
              "#d8576b"
             ],
             [
              0.6666666666666666,
              "#ed7953"
             ],
             [
              0.7777777777777778,
              "#fb9f3a"
             ],
             [
              0.8888888888888888,
              "#fdca26"
             ],
             [
              1,
              "#f0f921"
             ]
            ],
            "type": "heatmapgl"
           }
          ],
          "histogram": [
           {
            "marker": {
             "colorbar": {
              "outlinewidth": 0,
              "ticks": ""
             }
            },
            "type": "histogram"
           }
          ],
          "histogram2d": [
           {
            "colorbar": {
             "outlinewidth": 0,
             "ticks": ""
            },
            "colorscale": [
             [
              0,
              "#0d0887"
             ],
             [
              0.1111111111111111,
              "#46039f"
             ],
             [
              0.2222222222222222,
              "#7201a8"
             ],
             [
              0.3333333333333333,
              "#9c179e"
             ],
             [
              0.4444444444444444,
              "#bd3786"
             ],
             [
              0.5555555555555556,
              "#d8576b"
             ],
             [
              0.6666666666666666,
              "#ed7953"
             ],
             [
              0.7777777777777778,
              "#fb9f3a"
             ],
             [
              0.8888888888888888,
              "#fdca26"
             ],
             [
              1,
              "#f0f921"
             ]
            ],
            "type": "histogram2d"
           }
          ],
          "histogram2dcontour": [
           {
            "colorbar": {
             "outlinewidth": 0,
             "ticks": ""
            },
            "colorscale": [
             [
              0,
              "#0d0887"
             ],
             [
              0.1111111111111111,
              "#46039f"
             ],
             [
              0.2222222222222222,
              "#7201a8"
             ],
             [
              0.3333333333333333,
              "#9c179e"
             ],
             [
              0.4444444444444444,
              "#bd3786"
             ],
             [
              0.5555555555555556,
              "#d8576b"
             ],
             [
              0.6666666666666666,
              "#ed7953"
             ],
             [
              0.7777777777777778,
              "#fb9f3a"
             ],
             [
              0.8888888888888888,
              "#fdca26"
             ],
             [
              1,
              "#f0f921"
             ]
            ],
            "type": "histogram2dcontour"
           }
          ],
          "mesh3d": [
           {
            "colorbar": {
             "outlinewidth": 0,
             "ticks": ""
            },
            "type": "mesh3d"
           }
          ],
          "parcoords": [
           {
            "line": {
             "colorbar": {
              "outlinewidth": 0,
              "ticks": ""
             }
            },
            "type": "parcoords"
           }
          ],
          "pie": [
           {
            "automargin": true,
            "type": "pie"
           }
          ],
          "scatter": [
           {
            "marker": {
             "colorbar": {
              "outlinewidth": 0,
              "ticks": ""
             }
            },
            "type": "scatter"
           }
          ],
          "scatter3d": [
           {
            "line": {
             "colorbar": {
              "outlinewidth": 0,
              "ticks": ""
             }
            },
            "marker": {
             "colorbar": {
              "outlinewidth": 0,
              "ticks": ""
             }
            },
            "type": "scatter3d"
           }
          ],
          "scattercarpet": [
           {
            "marker": {
             "colorbar": {
              "outlinewidth": 0,
              "ticks": ""
             }
            },
            "type": "scattercarpet"
           }
          ],
          "scattergeo": [
           {
            "marker": {
             "colorbar": {
              "outlinewidth": 0,
              "ticks": ""
             }
            },
            "type": "scattergeo"
           }
          ],
          "scattergl": [
           {
            "marker": {
             "colorbar": {
              "outlinewidth": 0,
              "ticks": ""
             }
            },
            "type": "scattergl"
           }
          ],
          "scattermapbox": [
           {
            "marker": {
             "colorbar": {
              "outlinewidth": 0,
              "ticks": ""
             }
            },
            "type": "scattermapbox"
           }
          ],
          "scatterpolar": [
           {
            "marker": {
             "colorbar": {
              "outlinewidth": 0,
              "ticks": ""
             }
            },
            "type": "scatterpolar"
           }
          ],
          "scatterpolargl": [
           {
            "marker": {
             "colorbar": {
              "outlinewidth": 0,
              "ticks": ""
             }
            },
            "type": "scatterpolargl"
           }
          ],
          "scatterternary": [
           {
            "marker": {
             "colorbar": {
              "outlinewidth": 0,
              "ticks": ""
             }
            },
            "type": "scatterternary"
           }
          ],
          "surface": [
           {
            "colorbar": {
             "outlinewidth": 0,
             "ticks": ""
            },
            "colorscale": [
             [
              0,
              "#0d0887"
             ],
             [
              0.1111111111111111,
              "#46039f"
             ],
             [
              0.2222222222222222,
              "#7201a8"
             ],
             [
              0.3333333333333333,
              "#9c179e"
             ],
             [
              0.4444444444444444,
              "#bd3786"
             ],
             [
              0.5555555555555556,
              "#d8576b"
             ],
             [
              0.6666666666666666,
              "#ed7953"
             ],
             [
              0.7777777777777778,
              "#fb9f3a"
             ],
             [
              0.8888888888888888,
              "#fdca26"
             ],
             [
              1,
              "#f0f921"
             ]
            ],
            "type": "surface"
           }
          ],
          "table": [
           {
            "cells": {
             "fill": {
              "color": "#EBF0F8"
             },
             "line": {
              "color": "white"
             }
            },
            "header": {
             "fill": {
              "color": "#C8D4E3"
             },
             "line": {
              "color": "white"
             }
            },
            "type": "table"
           }
          ]
         },
         "layout": {
          "annotationdefaults": {
           "arrowcolor": "#2a3f5f",
           "arrowhead": 0,
           "arrowwidth": 1
          },
          "autotypenumbers": "strict",
          "coloraxis": {
           "colorbar": {
            "outlinewidth": 0,
            "ticks": ""
           }
          },
          "colorscale": {
           "diverging": [
            [
             0,
             "#8e0152"
            ],
            [
             0.1,
             "#c51b7d"
            ],
            [
             0.2,
             "#de77ae"
            ],
            [
             0.3,
             "#f1b6da"
            ],
            [
             0.4,
             "#fde0ef"
            ],
            [
             0.5,
             "#f7f7f7"
            ],
            [
             0.6,
             "#e6f5d0"
            ],
            [
             0.7,
             "#b8e186"
            ],
            [
             0.8,
             "#7fbc41"
            ],
            [
             0.9,
             "#4d9221"
            ],
            [
             1,
             "#276419"
            ]
           ],
           "sequential": [
            [
             0,
             "#0d0887"
            ],
            [
             0.1111111111111111,
             "#46039f"
            ],
            [
             0.2222222222222222,
             "#7201a8"
            ],
            [
             0.3333333333333333,
             "#9c179e"
            ],
            [
             0.4444444444444444,
             "#bd3786"
            ],
            [
             0.5555555555555556,
             "#d8576b"
            ],
            [
             0.6666666666666666,
             "#ed7953"
            ],
            [
             0.7777777777777778,
             "#fb9f3a"
            ],
            [
             0.8888888888888888,
             "#fdca26"
            ],
            [
             1,
             "#f0f921"
            ]
           ],
           "sequentialminus": [
            [
             0,
             "#0d0887"
            ],
            [
             0.1111111111111111,
             "#46039f"
            ],
            [
             0.2222222222222222,
             "#7201a8"
            ],
            [
             0.3333333333333333,
             "#9c179e"
            ],
            [
             0.4444444444444444,
             "#bd3786"
            ],
            [
             0.5555555555555556,
             "#d8576b"
            ],
            [
             0.6666666666666666,
             "#ed7953"
            ],
            [
             0.7777777777777778,
             "#fb9f3a"
            ],
            [
             0.8888888888888888,
             "#fdca26"
            ],
            [
             1,
             "#f0f921"
            ]
           ]
          },
          "colorway": [
           "#636efa",
           "#EF553B",
           "#00cc96",
           "#ab63fa",
           "#FFA15A",
           "#19d3f3",
           "#FF6692",
           "#B6E880",
           "#FF97FF",
           "#FECB52"
          ],
          "font": {
           "color": "#2a3f5f"
          },
          "geo": {
           "bgcolor": "white",
           "lakecolor": "white",
           "landcolor": "#E5ECF6",
           "showlakes": true,
           "showland": true,
           "subunitcolor": "white"
          },
          "hoverlabel": {
           "align": "left"
          },
          "hovermode": "closest",
          "mapbox": {
           "style": "light"
          },
          "paper_bgcolor": "white",
          "plot_bgcolor": "#E5ECF6",
          "polar": {
           "angularaxis": {
            "gridcolor": "white",
            "linecolor": "white",
            "ticks": ""
           },
           "bgcolor": "#E5ECF6",
           "radialaxis": {
            "gridcolor": "white",
            "linecolor": "white",
            "ticks": ""
           }
          },
          "scene": {
           "xaxis": {
            "backgroundcolor": "#E5ECF6",
            "gridcolor": "white",
            "gridwidth": 2,
            "linecolor": "white",
            "showbackground": true,
            "ticks": "",
            "zerolinecolor": "white"
           },
           "yaxis": {
            "backgroundcolor": "#E5ECF6",
            "gridcolor": "white",
            "gridwidth": 2,
            "linecolor": "white",
            "showbackground": true,
            "ticks": "",
            "zerolinecolor": "white"
           },
           "zaxis": {
            "backgroundcolor": "#E5ECF6",
            "gridcolor": "white",
            "gridwidth": 2,
            "linecolor": "white",
            "showbackground": true,
            "ticks": "",
            "zerolinecolor": "white"
           }
          },
          "shapedefaults": {
           "line": {
            "color": "#2a3f5f"
           }
          },
          "ternary": {
           "aaxis": {
            "gridcolor": "white",
            "linecolor": "white",
            "ticks": ""
           },
           "baxis": {
            "gridcolor": "white",
            "linecolor": "white",
            "ticks": ""
           },
           "bgcolor": "#E5ECF6",
           "caxis": {
            "gridcolor": "white",
            "linecolor": "white",
            "ticks": ""
           }
          },
          "title": {
           "x": 0.05
          },
          "xaxis": {
           "automargin": true,
           "gridcolor": "white",
           "linecolor": "white",
           "ticks": "",
           "title": {
            "standoff": 15
           },
           "zerolinecolor": "white",
           "zerolinewidth": 2
          },
          "yaxis": {
           "automargin": true,
           "gridcolor": "white",
           "linecolor": "white",
           "ticks": "",
           "title": {
            "standoff": 15
           },
           "zerolinecolor": "white",
           "zerolinewidth": 2
          }
         }
        },
        "xaxis": {
         "anchor": "y",
         "domain": [
          0,
          1
         ],
         "title": {
          "text": "x"
         }
        },
        "yaxis": {
         "anchor": "x",
         "domain": [
          0,
          1
         ],
         "title": {
          "text": "y"
         }
        }
       }
      }
     },
     "metadata": {}
    }
   ],
   "metadata": {}
  },
  {
   "cell_type": "code",
   "execution_count": 38,
   "source": [
    "classifier = RandomForestClassifier(n_estimators = 36, criterion='entropy', random_state=0)\r\n",
    "classifier.fit(x_train, y_train)\r\n",
    "\r\n",
    "y_pred = classifier.predict(x_test)"
   ],
   "outputs": [],
   "metadata": {}
  },
  {
   "cell_type": "code",
   "execution_count": 39,
   "source": [
    "cm = confusion_matrix(y_test, y_pred)\r\n",
    "ac = accuracy_score(y_test, y_pred)\r\n",
    "\r\n",
    "mylist.append(ac)\r\n",
    "\r\n",
    "print(cm)\r\n",
    "print(ac)"
   ],
   "outputs": [
    {
     "output_type": "stream",
     "name": "stdout",
     "text": [
      "[[145  18]\n",
      " [ 24  75]]\n",
      "0.8396946564885496\n"
     ]
    }
   ],
   "metadata": {}
  },
  {
   "cell_type": "markdown",
   "source": [
    "XGBOOST"
   ],
   "metadata": {}
  },
  {
   "cell_type": "code",
   "execution_count": 40,
   "source": [
    "from xgboost import XGBClassifier\r\n",
    "\r\n",
    "list1 = []\r\n",
    "\r\n",
    "for estimators in range(10,30,1):\r\n",
    "    classifier = XGBClassifier(n_estimators = estimators, max_depth=12, subsample=0.7, verbosity = 0)\r\n",
    "    classifier.fit(x_train, y_train)\r\n",
    "    y_pred = classifier.predict(x_test)\r\n",
    "    list1.append(accuracy_score(y_test,y_pred))\r\n",
    "\r\n",
    "fig = px.line(x = list(range(10,30,1)), y = list1)\r\n",
    "fig.show()"
   ],
   "outputs": [
    {
     "output_type": "stream",
     "name": "stdout",
     "text": [
      "[01:41:45] WARNING: C:/Users/Administrator/workspace/xgboost-win64_release_1.4.0/src/learner.cc:1095: Starting in XGBoost 1.3.0, the default evaluation metric used with the objective 'binary:logistic' was changed from 'error' to 'logloss'. Explicitly set eval_metric if you'd like to restore the old behavior.\n",
      "[01:41:45] WARNING: C:/Users/Administrator/workspace/xgboost-win64_release_1.4.0/src/learner.cc:1095: Starting in XGBoost 1.3.0, the default evaluation metric used with the objective 'binary:logistic' was changed from 'error' to 'logloss'. Explicitly set eval_metric if you'd like to restore the old behavior.\n",
      "[01:41:45] WARNING: C:/Users/Administrator/workspace/xgboost-win64_release_1.4.0/src/learner.cc:1095: Starting in XGBoost 1.3.0, the default evaluation metric used with the objective 'binary:logistic' was changed from 'error' to 'logloss'. Explicitly set eval_metric if you'd like to restore the old behavior.\n",
      "[01:41:45] WARNING: C:/Users/Administrator/workspace/xgboost-win64_release_1.4.0/src/learner.cc:1095: Starting in XGBoost 1.3.0, the default evaluation metric used with the objective 'binary:logistic' was changed from 'error' to 'logloss'. Explicitly set eval_metric if you'd like to restore the old behavior.\n",
      "[01:41:45] WARNING: C:/Users/Administrator/workspace/xgboost-win64_release_1.4.0/src/learner.cc:1095: Starting in XGBoost 1.3.0, the default evaluation metric used with the objective 'binary:logistic' was changed from 'error' to 'logloss'. Explicitly set eval_metric if you'd like to restore the old behavior.\n",
      "[01:41:45] WARNING: C:/Users/Administrator/workspace/xgboost-win64_release_1.4.0/src/learner.cc:1095: Starting in XGBoost 1.3.0, the default evaluation metric used with the objective 'binary:logistic' was changed from 'error' to 'logloss'. Explicitly set eval_metric if you'd like to restore the old behavior.\n",
      "[01:41:45] WARNING: C:/Users/Administrator/workspace/xgboost-win64_release_1.4.0/src/learner.cc:1095: Starting in XGBoost 1.3.0, the default evaluation metric used with the objective 'binary:logistic' was changed from 'error' to 'logloss'. Explicitly set eval_metric if you'd like to restore the old behavior.\n",
      "[01:41:45] WARNING: C:/Users/Administrator/workspace/xgboost-win64_release_1.4.0/src/learner.cc:1095: Starting in XGBoost 1.3.0, the default evaluation metric used with the objective 'binary:logistic' was changed from 'error' to 'logloss'. Explicitly set eval_metric if you'd like to restore the old behavior.\n",
      "[01:41:45] WARNING: C:/Users/Administrator/workspace/xgboost-win64_release_1.4.0/src/learner.cc:1095: Starting in XGBoost 1.3.0, the default evaluation metric used with the objective 'binary:logistic' was changed from 'error' to 'logloss'. Explicitly set eval_metric if you'd like to restore the old behavior.\n",
      "[01:41:45] WARNING: C:/Users/Administrator/workspace/xgboost-win64_release_1.4.0/src/learner.cc:1095: Starting in XGBoost 1.3.0, the default evaluation metric used with the objective 'binary:logistic' was changed from 'error' to 'logloss'. Explicitly set eval_metric if you'd like to restore the old behavior.\n",
      "[01:41:45] WARNING: C:/Users/Administrator/workspace/xgboost-win64_release_1.4.0/src/learner.cc:1095: Starting in XGBoost 1.3.0, the default evaluation metric used with the objective 'binary:logistic' was changed from 'error' to 'logloss'. Explicitly set eval_metric if you'd like to restore the old behavior.\n",
      "[01:41:45] WARNING: C:/Users/Administrator/workspace/xgboost-win64_release_1.4.0/src/learner.cc:1095: Starting in XGBoost 1.3.0, the default evaluation metric used with the objective 'binary:logistic' was changed from 'error' to 'logloss'. Explicitly set eval_metric if you'd like to restore the old behavior.\n",
      "[01:41:45] WARNING: C:/Users/Administrator/workspace/xgboost-win64_release_1.4.0/src/learner.cc:1095: Starting in XGBoost 1.3.0, the default evaluation metric used with the objective 'binary:logistic' was changed from 'error' to 'logloss'. Explicitly set eval_metric if you'd like to restore the old behavior.\n",
      "[01:41:45] WARNING: C:/Users/Administrator/workspace/xgboost-win64_release_1.4.0/src/learner.cc:1095: Starting in XGBoost 1.3.0, the default evaluation metric used with the objective 'binary:logistic' was changed from 'error' to 'logloss'. Explicitly set eval_metric if you'd like to restore the old behavior.\n",
      "[01:41:45] WARNING: C:/Users/Administrator/workspace/xgboost-win64_release_1.4.0/src/learner.cc:1095: Starting in XGBoost 1.3.0, the default evaluation metric used with the objective 'binary:logistic' was changed from 'error' to 'logloss'. Explicitly set eval_metric if you'd like to restore the old behavior.\n",
      "[01:41:45] WARNING: C:/Users/Administrator/workspace/xgboost-win64_release_1.4.0/src/learner.cc:1095: Starting in XGBoost 1.3.0, the default evaluation metric used with the objective 'binary:logistic' was changed from 'error' to 'logloss'. Explicitly set eval_metric if you'd like to restore the old behavior.\n",
      "[01:41:45] WARNING: C:/Users/Administrator/workspace/xgboost-win64_release_1.4.0/src/learner.cc:1095: Starting in XGBoost 1.3.0, the default evaluation metric used with the objective 'binary:logistic' was changed from 'error' to 'logloss'. Explicitly set eval_metric if you'd like to restore the old behavior.\n",
      "[01:41:45] WARNING: C:/Users/Administrator/workspace/xgboost-win64_release_1.4.0/src/learner.cc:1095: Starting in XGBoost 1.3.0, the default evaluation metric used with the objective 'binary:logistic' was changed from 'error' to 'logloss'. Explicitly set eval_metric if you'd like to restore the old behavior.\n",
      "[01:41:45] WARNING: C:/Users/Administrator/workspace/xgboost-win64_release_1.4.0/src/learner.cc:1095: Starting in XGBoost 1.3.0, the default evaluation metric used with the objective 'binary:logistic' was changed from 'error' to 'logloss'. Explicitly set eval_metric if you'd like to restore the old behavior.\n",
      "[01:41:45] WARNING: C:/Users/Administrator/workspace/xgboost-win64_release_1.4.0/src/learner.cc:1095: Starting in XGBoost 1.3.0, the default evaluation metric used with the objective 'binary:logistic' was changed from 'error' to 'logloss'. Explicitly set eval_metric if you'd like to restore the old behavior.\n"
     ]
    },
    {
     "output_type": "display_data",
     "data": {
      "application/vnd.plotly.v1+json": {
       "config": {
        "plotlyServerURL": "https://plot.ly"
       },
       "data": [
        {
         "hovertemplate": "x=%{x}<br>y=%{y}<extra></extra>",
         "legendgroup": "",
         "line": {
          "color": "#636efa",
          "dash": "solid"
         },
         "mode": "lines",
         "name": "",
         "orientation": "v",
         "showlegend": false,
         "type": "scatter",
         "x": [
          10,
          11,
          12,
          13,
          14,
          15,
          16,
          17,
          18,
          19,
          20,
          21,
          22,
          23,
          24,
          25,
          26,
          27,
          28,
          29
         ],
         "xaxis": "x",
         "y": [
          0.8320610687022901,
          0.8244274809160306,
          0.8396946564885496,
          0.8320610687022901,
          0.8396946564885496,
          0.8282442748091603,
          0.8396946564885496,
          0.8320610687022901,
          0.8320610687022901,
          0.8435114503816794,
          0.8244274809160306,
          0.8282442748091603,
          0.8320610687022901,
          0.8358778625954199,
          0.8320610687022901,
          0.8358778625954199,
          0.8320610687022901,
          0.8282442748091603,
          0.8320610687022901,
          0.8320610687022901
         ],
         "yaxis": "y"
        }
       ],
       "layout": {
        "legend": {
         "tracegroupgap": 0
        },
        "margin": {
         "t": 60
        },
        "template": {
         "data": {
          "bar": [
           {
            "error_x": {
             "color": "#2a3f5f"
            },
            "error_y": {
             "color": "#2a3f5f"
            },
            "marker": {
             "line": {
              "color": "#E5ECF6",
              "width": 0.5
             }
            },
            "type": "bar"
           }
          ],
          "barpolar": [
           {
            "marker": {
             "line": {
              "color": "#E5ECF6",
              "width": 0.5
             }
            },
            "type": "barpolar"
           }
          ],
          "carpet": [
           {
            "aaxis": {
             "endlinecolor": "#2a3f5f",
             "gridcolor": "white",
             "linecolor": "white",
             "minorgridcolor": "white",
             "startlinecolor": "#2a3f5f"
            },
            "baxis": {
             "endlinecolor": "#2a3f5f",
             "gridcolor": "white",
             "linecolor": "white",
             "minorgridcolor": "white",
             "startlinecolor": "#2a3f5f"
            },
            "type": "carpet"
           }
          ],
          "choropleth": [
           {
            "colorbar": {
             "outlinewidth": 0,
             "ticks": ""
            },
            "type": "choropleth"
           }
          ],
          "contour": [
           {
            "colorbar": {
             "outlinewidth": 0,
             "ticks": ""
            },
            "colorscale": [
             [
              0,
              "#0d0887"
             ],
             [
              0.1111111111111111,
              "#46039f"
             ],
             [
              0.2222222222222222,
              "#7201a8"
             ],
             [
              0.3333333333333333,
              "#9c179e"
             ],
             [
              0.4444444444444444,
              "#bd3786"
             ],
             [
              0.5555555555555556,
              "#d8576b"
             ],
             [
              0.6666666666666666,
              "#ed7953"
             ],
             [
              0.7777777777777778,
              "#fb9f3a"
             ],
             [
              0.8888888888888888,
              "#fdca26"
             ],
             [
              1,
              "#f0f921"
             ]
            ],
            "type": "contour"
           }
          ],
          "contourcarpet": [
           {
            "colorbar": {
             "outlinewidth": 0,
             "ticks": ""
            },
            "type": "contourcarpet"
           }
          ],
          "heatmap": [
           {
            "colorbar": {
             "outlinewidth": 0,
             "ticks": ""
            },
            "colorscale": [
             [
              0,
              "#0d0887"
             ],
             [
              0.1111111111111111,
              "#46039f"
             ],
             [
              0.2222222222222222,
              "#7201a8"
             ],
             [
              0.3333333333333333,
              "#9c179e"
             ],
             [
              0.4444444444444444,
              "#bd3786"
             ],
             [
              0.5555555555555556,
              "#d8576b"
             ],
             [
              0.6666666666666666,
              "#ed7953"
             ],
             [
              0.7777777777777778,
              "#fb9f3a"
             ],
             [
              0.8888888888888888,
              "#fdca26"
             ],
             [
              1,
              "#f0f921"
             ]
            ],
            "type": "heatmap"
           }
          ],
          "heatmapgl": [
           {
            "colorbar": {
             "outlinewidth": 0,
             "ticks": ""
            },
            "colorscale": [
             [
              0,
              "#0d0887"
             ],
             [
              0.1111111111111111,
              "#46039f"
             ],
             [
              0.2222222222222222,
              "#7201a8"
             ],
             [
              0.3333333333333333,
              "#9c179e"
             ],
             [
              0.4444444444444444,
              "#bd3786"
             ],
             [
              0.5555555555555556,
              "#d8576b"
             ],
             [
              0.6666666666666666,
              "#ed7953"
             ],
             [
              0.7777777777777778,
              "#fb9f3a"
             ],
             [
              0.8888888888888888,
              "#fdca26"
             ],
             [
              1,
              "#f0f921"
             ]
            ],
            "type": "heatmapgl"
           }
          ],
          "histogram": [
           {
            "marker": {
             "colorbar": {
              "outlinewidth": 0,
              "ticks": ""
             }
            },
            "type": "histogram"
           }
          ],
          "histogram2d": [
           {
            "colorbar": {
             "outlinewidth": 0,
             "ticks": ""
            },
            "colorscale": [
             [
              0,
              "#0d0887"
             ],
             [
              0.1111111111111111,
              "#46039f"
             ],
             [
              0.2222222222222222,
              "#7201a8"
             ],
             [
              0.3333333333333333,
              "#9c179e"
             ],
             [
              0.4444444444444444,
              "#bd3786"
             ],
             [
              0.5555555555555556,
              "#d8576b"
             ],
             [
              0.6666666666666666,
              "#ed7953"
             ],
             [
              0.7777777777777778,
              "#fb9f3a"
             ],
             [
              0.8888888888888888,
              "#fdca26"
             ],
             [
              1,
              "#f0f921"
             ]
            ],
            "type": "histogram2d"
           }
          ],
          "histogram2dcontour": [
           {
            "colorbar": {
             "outlinewidth": 0,
             "ticks": ""
            },
            "colorscale": [
             [
              0,
              "#0d0887"
             ],
             [
              0.1111111111111111,
              "#46039f"
             ],
             [
              0.2222222222222222,
              "#7201a8"
             ],
             [
              0.3333333333333333,
              "#9c179e"
             ],
             [
              0.4444444444444444,
              "#bd3786"
             ],
             [
              0.5555555555555556,
              "#d8576b"
             ],
             [
              0.6666666666666666,
              "#ed7953"
             ],
             [
              0.7777777777777778,
              "#fb9f3a"
             ],
             [
              0.8888888888888888,
              "#fdca26"
             ],
             [
              1,
              "#f0f921"
             ]
            ],
            "type": "histogram2dcontour"
           }
          ],
          "mesh3d": [
           {
            "colorbar": {
             "outlinewidth": 0,
             "ticks": ""
            },
            "type": "mesh3d"
           }
          ],
          "parcoords": [
           {
            "line": {
             "colorbar": {
              "outlinewidth": 0,
              "ticks": ""
             }
            },
            "type": "parcoords"
           }
          ],
          "pie": [
           {
            "automargin": true,
            "type": "pie"
           }
          ],
          "scatter": [
           {
            "marker": {
             "colorbar": {
              "outlinewidth": 0,
              "ticks": ""
             }
            },
            "type": "scatter"
           }
          ],
          "scatter3d": [
           {
            "line": {
             "colorbar": {
              "outlinewidth": 0,
              "ticks": ""
             }
            },
            "marker": {
             "colorbar": {
              "outlinewidth": 0,
              "ticks": ""
             }
            },
            "type": "scatter3d"
           }
          ],
          "scattercarpet": [
           {
            "marker": {
             "colorbar": {
              "outlinewidth": 0,
              "ticks": ""
             }
            },
            "type": "scattercarpet"
           }
          ],
          "scattergeo": [
           {
            "marker": {
             "colorbar": {
              "outlinewidth": 0,
              "ticks": ""
             }
            },
            "type": "scattergeo"
           }
          ],
          "scattergl": [
           {
            "marker": {
             "colorbar": {
              "outlinewidth": 0,
              "ticks": ""
             }
            },
            "type": "scattergl"
           }
          ],
          "scattermapbox": [
           {
            "marker": {
             "colorbar": {
              "outlinewidth": 0,
              "ticks": ""
             }
            },
            "type": "scattermapbox"
           }
          ],
          "scatterpolar": [
           {
            "marker": {
             "colorbar": {
              "outlinewidth": 0,
              "ticks": ""
             }
            },
            "type": "scatterpolar"
           }
          ],
          "scatterpolargl": [
           {
            "marker": {
             "colorbar": {
              "outlinewidth": 0,
              "ticks": ""
             }
            },
            "type": "scatterpolargl"
           }
          ],
          "scatterternary": [
           {
            "marker": {
             "colorbar": {
              "outlinewidth": 0,
              "ticks": ""
             }
            },
            "type": "scatterternary"
           }
          ],
          "surface": [
           {
            "colorbar": {
             "outlinewidth": 0,
             "ticks": ""
            },
            "colorscale": [
             [
              0,
              "#0d0887"
             ],
             [
              0.1111111111111111,
              "#46039f"
             ],
             [
              0.2222222222222222,
              "#7201a8"
             ],
             [
              0.3333333333333333,
              "#9c179e"
             ],
             [
              0.4444444444444444,
              "#bd3786"
             ],
             [
              0.5555555555555556,
              "#d8576b"
             ],
             [
              0.6666666666666666,
              "#ed7953"
             ],
             [
              0.7777777777777778,
              "#fb9f3a"
             ],
             [
              0.8888888888888888,
              "#fdca26"
             ],
             [
              1,
              "#f0f921"
             ]
            ],
            "type": "surface"
           }
          ],
          "table": [
           {
            "cells": {
             "fill": {
              "color": "#EBF0F8"
             },
             "line": {
              "color": "white"
             }
            },
            "header": {
             "fill": {
              "color": "#C8D4E3"
             },
             "line": {
              "color": "white"
             }
            },
            "type": "table"
           }
          ]
         },
         "layout": {
          "annotationdefaults": {
           "arrowcolor": "#2a3f5f",
           "arrowhead": 0,
           "arrowwidth": 1
          },
          "autotypenumbers": "strict",
          "coloraxis": {
           "colorbar": {
            "outlinewidth": 0,
            "ticks": ""
           }
          },
          "colorscale": {
           "diverging": [
            [
             0,
             "#8e0152"
            ],
            [
             0.1,
             "#c51b7d"
            ],
            [
             0.2,
             "#de77ae"
            ],
            [
             0.3,
             "#f1b6da"
            ],
            [
             0.4,
             "#fde0ef"
            ],
            [
             0.5,
             "#f7f7f7"
            ],
            [
             0.6,
             "#e6f5d0"
            ],
            [
             0.7,
             "#b8e186"
            ],
            [
             0.8,
             "#7fbc41"
            ],
            [
             0.9,
             "#4d9221"
            ],
            [
             1,
             "#276419"
            ]
           ],
           "sequential": [
            [
             0,
             "#0d0887"
            ],
            [
             0.1111111111111111,
             "#46039f"
            ],
            [
             0.2222222222222222,
             "#7201a8"
            ],
            [
             0.3333333333333333,
             "#9c179e"
            ],
            [
             0.4444444444444444,
             "#bd3786"
            ],
            [
             0.5555555555555556,
             "#d8576b"
            ],
            [
             0.6666666666666666,
             "#ed7953"
            ],
            [
             0.7777777777777778,
             "#fb9f3a"
            ],
            [
             0.8888888888888888,
             "#fdca26"
            ],
            [
             1,
             "#f0f921"
            ]
           ],
           "sequentialminus": [
            [
             0,
             "#0d0887"
            ],
            [
             0.1111111111111111,
             "#46039f"
            ],
            [
             0.2222222222222222,
             "#7201a8"
            ],
            [
             0.3333333333333333,
             "#9c179e"
            ],
            [
             0.4444444444444444,
             "#bd3786"
            ],
            [
             0.5555555555555556,
             "#d8576b"
            ],
            [
             0.6666666666666666,
             "#ed7953"
            ],
            [
             0.7777777777777778,
             "#fb9f3a"
            ],
            [
             0.8888888888888888,
             "#fdca26"
            ],
            [
             1,
             "#f0f921"
            ]
           ]
          },
          "colorway": [
           "#636efa",
           "#EF553B",
           "#00cc96",
           "#ab63fa",
           "#FFA15A",
           "#19d3f3",
           "#FF6692",
           "#B6E880",
           "#FF97FF",
           "#FECB52"
          ],
          "font": {
           "color": "#2a3f5f"
          },
          "geo": {
           "bgcolor": "white",
           "lakecolor": "white",
           "landcolor": "#E5ECF6",
           "showlakes": true,
           "showland": true,
           "subunitcolor": "white"
          },
          "hoverlabel": {
           "align": "left"
          },
          "hovermode": "closest",
          "mapbox": {
           "style": "light"
          },
          "paper_bgcolor": "white",
          "plot_bgcolor": "#E5ECF6",
          "polar": {
           "angularaxis": {
            "gridcolor": "white",
            "linecolor": "white",
            "ticks": ""
           },
           "bgcolor": "#E5ECF6",
           "radialaxis": {
            "gridcolor": "white",
            "linecolor": "white",
            "ticks": ""
           }
          },
          "scene": {
           "xaxis": {
            "backgroundcolor": "#E5ECF6",
            "gridcolor": "white",
            "gridwidth": 2,
            "linecolor": "white",
            "showbackground": true,
            "ticks": "",
            "zerolinecolor": "white"
           },
           "yaxis": {
            "backgroundcolor": "#E5ECF6",
            "gridcolor": "white",
            "gridwidth": 2,
            "linecolor": "white",
            "showbackground": true,
            "ticks": "",
            "zerolinecolor": "white"
           },
           "zaxis": {
            "backgroundcolor": "#E5ECF6",
            "gridcolor": "white",
            "gridwidth": 2,
            "linecolor": "white",
            "showbackground": true,
            "ticks": "",
            "zerolinecolor": "white"
           }
          },
          "shapedefaults": {
           "line": {
            "color": "#2a3f5f"
           }
          },
          "ternary": {
           "aaxis": {
            "gridcolor": "white",
            "linecolor": "white",
            "ticks": ""
           },
           "baxis": {
            "gridcolor": "white",
            "linecolor": "white",
            "ticks": ""
           },
           "bgcolor": "#E5ECF6",
           "caxis": {
            "gridcolor": "white",
            "linecolor": "white",
            "ticks": ""
           }
          },
          "title": {
           "x": 0.05
          },
          "xaxis": {
           "automargin": true,
           "gridcolor": "white",
           "linecolor": "white",
           "ticks": "",
           "title": {
            "standoff": 15
           },
           "zerolinecolor": "white",
           "zerolinewidth": 2
          },
          "yaxis": {
           "automargin": true,
           "gridcolor": "white",
           "linecolor": "white",
           "ticks": "",
           "title": {
            "standoff": 15
           },
           "zerolinecolor": "white",
           "zerolinewidth": 2
          }
         }
        },
        "xaxis": {
         "anchor": "y",
         "domain": [
          0,
          1
         ],
         "title": {
          "text": "x"
         }
        },
        "yaxis": {
         "anchor": "x",
         "domain": [
          0,
          1
         ],
         "title": {
          "text": "y"
         }
        }
       }
      }
     },
     "metadata": {}
    }
   ],
   "metadata": {}
  },
  {
   "cell_type": "code",
   "execution_count": 41,
   "source": [
    "classifier = XGBClassifier(n_estimators = 19, max_depth = 12, subsample = 0.7)\r\n",
    "classifier.fit(x_train, y_train)\r\n",
    "\r\n",
    "y_pred = classifier.predict(x_test)"
   ],
   "outputs": [
    {
     "output_type": "stream",
     "name": "stdout",
     "text": [
      "[01:41:46] WARNING: C:/Users/Administrator/workspace/xgboost-win64_release_1.4.0/src/learner.cc:1095: Starting in XGBoost 1.3.0, the default evaluation metric used with the objective 'binary:logistic' was changed from 'error' to 'logloss'. Explicitly set eval_metric if you'd like to restore the old behavior.\n"
     ]
    }
   ],
   "metadata": {}
  },
  {
   "cell_type": "code",
   "execution_count": 42,
   "source": [
    "cm = confusion_matrix(y_test, y_pred)\r\n",
    "ac = accuracy_score(y_test, y_pred)\r\n",
    "\r\n",
    "mylist.append(ac)\r\n",
    "\r\n",
    "print(cm)\r\n",
    "print(ac)"
   ],
   "outputs": [
    {
     "output_type": "stream",
     "name": "stdout",
     "text": [
      "[[148  15]\n",
      " [ 26  73]]\n",
      "0.8435114503816794\n"
     ]
    }
   ],
   "metadata": {}
  },
  {
   "cell_type": "code",
   "execution_count": 43,
   "source": [
    "mylist2 = [ 'Logistic Regression' , 'KNearestNeighbours', 'SupportVector', 'DecisionTree', 'RandomForest', 'XGBOOST' ]\r\n",
    "for name, score in zip(mylist2, mylist):\r\n",
    "    print(name, ': ', round(score, 2))"
   ],
   "outputs": [
    {
     "output_type": "stream",
     "name": "stdout",
     "text": [
      "Logistic Regression :  0.84\n",
      "KNearestNeighbours :  0.86\n",
      "SupportVector :  0.84\n",
      "DecisionTree :  0.85\n",
      "RandomForest :  0.84\n",
      "XGBOOST :  0.84\n"
     ]
    }
   ],
   "metadata": {}
  }
 ],
 "metadata": {
  "orig_nbformat": 4,
  "language_info": {
   "name": "python",
   "version": "3.9.1",
   "mimetype": "text/x-python",
   "codemirror_mode": {
    "name": "ipython",
    "version": 3
   },
   "pygments_lexer": "ipython3",
   "nbconvert_exporter": "python",
   "file_extension": ".py"
  },
  "kernelspec": {
   "name": "python3",
   "display_name": "Python 3.9.1 64-bit"
  },
  "interpreter": {
   "hash": "0f017eec89e102dbe7cada7830ae75b042cc9ebda5085c87220fe2b1c93d07ba"
  }
 },
 "nbformat": 4,
 "nbformat_minor": 2
}